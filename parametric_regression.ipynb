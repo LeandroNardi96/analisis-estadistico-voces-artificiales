{
 "cells": [
  {
   "cell_type": "code",
   "execution_count": 100,
   "id": "17795b15",
   "metadata": {
    "execution": {
     "iopub.execute_input": "2023-06-11T01:37:21.592891Z",
     "iopub.status.busy": "2023-06-11T01:37:21.592891Z",
     "iopub.status.idle": "2023-06-11T01:37:23.867476Z",
     "shell.execute_reply": "2023-06-11T01:37:23.867476Z"
    },
    "papermill": {
     "duration": 2.321303,
     "end_time": "2023-06-11T01:37:23.867476",
     "exception": false,
     "start_time": "2023-06-11T01:37:21.546173",
     "status": "completed"
    },
    "tags": []
   },
   "outputs": [],
   "source": [
    "import pandas as pd\n",
    "import numpy as np\n",
    "from matplotlib import pyplot as plt\n",
    "from scipy.stats import mannwhitneyu\n",
    "import re\n",
    "import os\n",
    "import seaborn as sns\n",
    "from matplotlib import cm, colors"
   ]
  },
  {
   "cell_type": "code",
   "execution_count": 101,
   "id": "a3e117cb",
   "metadata": {
    "execution": {
     "iopub.execute_input": "2023-06-11T01:37:23.920016Z",
     "iopub.status.busy": "2023-06-11T01:37:23.919011Z",
     "iopub.status.idle": "2023-06-11T01:37:23.931179Z",
     "shell.execute_reply": "2023-06-11T01:37:23.929243Z"
    },
    "papermill": {
     "duration": 0.050142,
     "end_time": "2023-06-11T01:37:23.933137",
     "exception": false,
     "start_time": "2023-06-11T01:37:23.882995",
     "status": "completed"
    },
    "tags": []
   },
   "outputs": [],
   "source": [
    "PATH = os.getcwd()\n",
    "TEST_FOLDER = 'test-result'\n",
    "REGGRESSION_FOLDER = 'regressions'\n",
    "PARAMETRIC_FOLDER = 'parametric'\n",
    "ACENTUACION_FOLDER = 'Acentuacion'\n",
    "CADENCIA_FOLDER = 'Cadencia'\n",
    "INTELIGIBILIDAD_FOLDER = 'Inteligibilidad'\n",
    "NATURALIDAD_FOLDER = 'Naturalidad'\n",
    "PRONUNCIACION_FOLDER = 'Pronunciacion'\n",
    "MALE_FOLDER = 'masculino'\n",
    "FEMALE_FOLDER = 'femenino'"
   ]
  },
  {
   "cell_type": "code",
   "execution_count": 102,
   "id": "ddc7a744",
   "metadata": {},
   "outputs": [],
   "source": [
    "# Diccionario para guardar los p-value\n",
    "dicc_p_value = {\n",
    "    'subjetive_parameter':[],\n",
    "    'ZCR':[],\n",
    "    'RMS':[],\n",
    "    'f0':[],\n",
    "    'selected_features':[],\n",
    "    'genero':[] \n",
    "}"
   ]
  },
  {
   "cell_type": "code",
   "execution_count": 103,
   "id": "6dbf48cd",
   "metadata": {},
   "outputs": [],
   "source": [
    "# Voy a limpiar los graficos que hay en las carpetas\n",
    "\n",
    "list_files = os.listdir(os.path.join(PATH, TEST_FOLDER, REGGRESSION_FOLDER, PARAMETRIC_FOLDER))\n",
    "\n",
    "list_folder = []\n",
    "for folder in list_files:\n",
    "    if not folder.endswith('.xlsx'):\n",
    "        list_folder.append(folder)\n",
    "        \n",
    "SUBFOLDER_GENDER = ['masculino', 'femenino']\n",
    "\n",
    "for folder in list_folder:\n",
    "    for gender in SUBFOLDER_GENDER:\n",
    "        os.chdir(os.path.join(os.path.join(PATH, TEST_FOLDER, REGGRESSION_FOLDER, PARAMETRIC_FOLDER, folder, gender)))\n",
    "        all_files = os.listdir()\n",
    "        if len(all_files) == 0:\n",
    "            continue\n",
    "        for f in all_files:\n",
    "            os.remove(f)\n",
    "\n",
    "os.chdir(PATH)"
   ]
  },
  {
   "cell_type": "code",
   "execution_count": 104,
   "id": "d3c38344",
   "metadata": {},
   "outputs": [
    {
     "data": {
      "text/plain": [
       "['Acentuacion', 'Cadencia', 'Inteligibilidad', 'Naturalidad', 'Pronunciacion']"
      ]
     },
     "execution_count": 104,
     "metadata": {},
     "output_type": "execute_result"
    }
   ],
   "source": [
    "list_folder"
   ]
  },
  {
   "cell_type": "code",
   "execution_count": 105,
   "id": "bb52d572",
   "metadata": {
    "execution": {
     "iopub.execute_input": "2023-06-11T01:37:23.969872Z",
     "iopub.status.busy": "2023-06-11T01:37:23.969872Z",
     "iopub.status.idle": "2023-06-11T01:37:24.001213Z",
     "shell.execute_reply": "2023-06-11T01:37:24.001213Z"
    },
    "papermill": {
     "duration": 0.046971,
     "end_time": "2023-06-11T01:37:24.001213",
     "exception": false,
     "start_time": "2023-06-11T01:37:23.954242",
     "status": "completed"
    },
    "tags": []
   },
   "outputs": [],
   "source": [
    "merged_df = pd.read_csv(r'aux_file\\data_regression.csv')"
   ]
  },
  {
   "cell_type": "code",
   "execution_count": 106,
   "id": "2a1bdb65",
   "metadata": {
    "execution": {
     "iopub.execute_input": "2023-06-11T01:37:24.052738Z",
     "iopub.status.busy": "2023-06-11T01:37:24.050739Z",
     "iopub.status.idle": "2023-06-11T01:37:24.181724Z",
     "shell.execute_reply": "2023-06-11T01:37:24.181724Z"
    },
    "papermill": {
     "duration": 0.164981,
     "end_time": "2023-06-11T01:37:24.181724",
     "exception": false,
     "start_time": "2023-06-11T01:37:24.016743",
     "status": "completed"
    },
    "tags": []
   },
   "outputs": [],
   "source": [
    "obj_params = pd.read_excel('voces_test_rms.ods')"
   ]
  },
  {
   "cell_type": "code",
   "execution_count": 107,
   "id": "45d42bb4",
   "metadata": {
    "execution": {
     "iopub.execute_input": "2023-06-11T01:37:24.235201Z",
     "iopub.status.busy": "2023-06-11T01:37:24.234201Z",
     "iopub.status.idle": "2023-06-11T01:37:24.261200Z",
     "shell.execute_reply": "2023-06-11T01:37:24.259293Z"
    },
    "papermill": {
     "duration": 0.065943,
     "end_time": "2023-06-11T01:37:24.263197",
     "exception": false,
     "start_time": "2023-06-11T01:37:24.197254",
     "status": "completed"
    },
    "tags": []
   },
   "outputs": [
    {
     "data": {
      "text/html": [
       "<div>\n",
       "<style scoped>\n",
       "    .dataframe tbody tr th:only-of-type {\n",
       "        vertical-align: middle;\n",
       "    }\n",
       "\n",
       "    .dataframe tbody tr th {\n",
       "        vertical-align: top;\n",
       "    }\n",
       "\n",
       "    .dataframe thead th {\n",
       "        text-align: right;\n",
       "    }\n",
       "</style>\n",
       "<table border=\"1\" class=\"dataframe\">\n",
       "  <thead>\n",
       "    <tr style=\"text-align: right;\">\n",
       "      <th></th>\n",
       "      <th>zero_crossing_rate</th>\n",
       "      <th>rms</th>\n",
       "      <th>mfcc</th>\n",
       "      <th>pitch</th>\n",
       "      <th>genero</th>\n",
       "      <th>file</th>\n",
       "    </tr>\n",
       "  </thead>\n",
       "  <tbody>\n",
       "    <tr>\n",
       "      <th>0</th>\n",
       "      <td>0.075944</td>\n",
       "      <td>-27.5</td>\n",
       "      <td>[-4.0729132e+02  1.3076346e+02 -3.0420111e+01 ...</td>\n",
       "      <td>111.111716</td>\n",
       "      <td>femenino</td>\n",
       "      <td>hyacinthe-lovo-v3.wav</td>\n",
       "    </tr>\n",
       "    <tr>\n",
       "      <th>1</th>\n",
       "      <td>0.093035</td>\n",
       "      <td>-27.0</td>\n",
       "      <td>[-424.61664     138.61742     -14.495688     3...</td>\n",
       "      <td>101.312090</td>\n",
       "      <td>femenino</td>\n",
       "      <td>lola-murf.wav</td>\n",
       "    </tr>\n",
       "    <tr>\n",
       "      <th>2</th>\n",
       "      <td>0.093043</td>\n",
       "      <td>-22.5</td>\n",
       "      <td>[-3.71418152e+02  1.31561859e+02 -1.60284328e+...</td>\n",
       "      <td>76.492752</td>\n",
       "      <td>masculino</td>\n",
       "      <td>neural2B-GCP.wav</td>\n",
       "    </tr>\n",
       "    <tr>\n",
       "      <th>3</th>\n",
       "      <td>0.098051</td>\n",
       "      <td>-22.0</td>\n",
       "      <td>[-3.4943588e+02  1.2940279e+02 -1.8956478e+01 ...</td>\n",
       "      <td>68.726911</td>\n",
       "      <td>masculino</td>\n",
       "      <td>alonso-naturalreader.wav</td>\n",
       "    </tr>\n",
       "    <tr>\n",
       "      <th>4</th>\n",
       "      <td>0.105458</td>\n",
       "      <td>-21.5</td>\n",
       "      <td>[-3.5115176e+02  1.1943483e+02 -1.9279911e+01 ...</td>\n",
       "      <td>69.045778</td>\n",
       "      <td>masculino</td>\n",
       "      <td>antonio-murf.wav</td>\n",
       "    </tr>\n",
       "  </tbody>\n",
       "</table>\n",
       "</div>"
      ],
      "text/plain": [
       "   zero_crossing_rate   rms   \n",
       "0            0.075944 -27.5  \\\n",
       "1            0.093035 -27.0   \n",
       "2            0.093043 -22.5   \n",
       "3            0.098051 -22.0   \n",
       "4            0.105458 -21.5   \n",
       "\n",
       "                                                mfcc       pitch     genero   \n",
       "0  [-4.0729132e+02  1.3076346e+02 -3.0420111e+01 ...  111.111716   femenino  \\\n",
       "1  [-424.61664     138.61742     -14.495688     3...  101.312090   femenino   \n",
       "2  [-3.71418152e+02  1.31561859e+02 -1.60284328e+...   76.492752  masculino   \n",
       "3  [-3.4943588e+02  1.2940279e+02 -1.8956478e+01 ...   68.726911  masculino   \n",
       "4  [-3.5115176e+02  1.1943483e+02 -1.9279911e+01 ...   69.045778  masculino   \n",
       "\n",
       "                       file  \n",
       "0     hyacinthe-lovo-v3.wav  \n",
       "1             lola-murf.wav  \n",
       "2          neural2B-GCP.wav  \n",
       "3  alonso-naturalreader.wav  \n",
       "4          antonio-murf.wav  "
      ]
     },
     "execution_count": 107,
     "metadata": {},
     "output_type": "execute_result"
    }
   ],
   "source": [
    "obj_params.head()"
   ]
  },
  {
   "cell_type": "code",
   "execution_count": 108,
   "id": "22e415c4",
   "metadata": {
    "execution": {
     "iopub.execute_input": "2023-06-11T01:37:24.302592Z",
     "iopub.status.busy": "2023-06-11T01:37:24.302592Z",
     "iopub.status.idle": "2023-06-11T01:37:24.319998Z",
     "shell.execute_reply": "2023-06-11T01:37:24.318280Z"
    },
    "papermill": {
     "duration": 0.0517,
     "end_time": "2023-06-11T01:37:24.323003",
     "exception": false,
     "start_time": "2023-06-11T01:37:24.271303",
     "status": "completed"
    },
    "tags": []
   },
   "outputs": [],
   "source": [
    "df_union = pd.merge(\n",
    "    merged_df,\n",
    "    obj_params,\n",
    "    how='left',\n",
    "    left_on='filename',\n",
    "    right_on='file'\n",
    ").drop(columns=['file'])"
   ]
  },
  {
   "cell_type": "code",
   "execution_count": 109,
   "id": "b7f1cba5",
   "metadata": {
    "execution": {
     "iopub.execute_input": "2023-06-11T01:37:24.373750Z",
     "iopub.status.busy": "2023-06-11T01:37:24.372733Z",
     "iopub.status.idle": "2023-06-11T01:37:24.386535Z",
     "shell.execute_reply": "2023-06-11T01:37:24.384522Z"
    },
    "papermill": {
     "duration": 0.05226,
     "end_time": "2023-06-11T01:37:24.389572",
     "exception": false,
     "start_time": "2023-06-11T01:37:24.337312",
     "status": "completed"
    },
    "tags": []
   },
   "outputs": [],
   "source": [
    "df_union.rename(\n",
    "    columns={\n",
    "        'zero_crossing_rate': 'zcr',\n",
    "        'pitch': 'f0'\n",
    "    },\n",
    "    inplace=True\n",
    ")"
   ]
  },
  {
   "cell_type": "code",
   "execution_count": 110,
   "id": "fa0f3880",
   "metadata": {
    "execution": {
     "iopub.execute_input": "2023-06-11T01:37:24.419698Z",
     "iopub.status.busy": "2023-06-11T01:37:24.419698Z",
     "iopub.status.idle": "2023-06-11T01:37:24.451146Z",
     "shell.execute_reply": "2023-06-11T01:37:24.451146Z"
    },
    "papermill": {
     "duration": 0.047081,
     "end_time": "2023-06-11T01:37:24.451146",
     "exception": false,
     "start_time": "2023-06-11T01:37:24.404065",
     "status": "completed"
    },
    "tags": []
   },
   "outputs": [
    {
     "data": {
      "text/html": [
       "<div>\n",
       "<style scoped>\n",
       "    .dataframe tbody tr th:only-of-type {\n",
       "        vertical-align: middle;\n",
       "    }\n",
       "\n",
       "    .dataframe tbody tr th {\n",
       "        vertical-align: top;\n",
       "    }\n",
       "\n",
       "    .dataframe thead th {\n",
       "        text-align: right;\n",
       "    }\n",
       "</style>\n",
       "<table border=\"1\" class=\"dataframe\">\n",
       "  <thead>\n",
       "    <tr style=\"text-align: right;\">\n",
       "      <th></th>\n",
       "      <th>ID</th>\n",
       "      <th>filename</th>\n",
       "      <th>Inteligibilidad</th>\n",
       "      <th>Pronunciacion</th>\n",
       "      <th>Acentuacion</th>\n",
       "      <th>Naturalidad</th>\n",
       "      <th>Cadencia</th>\n",
       "      <th>zcr</th>\n",
       "      <th>rms</th>\n",
       "      <th>mfcc</th>\n",
       "      <th>f0</th>\n",
       "      <th>genero</th>\n",
       "    </tr>\n",
       "  </thead>\n",
       "  <tbody>\n",
       "    <tr>\n",
       "      <th>0</th>\n",
       "      <td>1</td>\n",
       "      <td>alonso-naturalreader.wav</td>\n",
       "      <td>4.892857</td>\n",
       "      <td>4.636364</td>\n",
       "      <td>4.482143</td>\n",
       "      <td>3.142857</td>\n",
       "      <td>3.803571</td>\n",
       "      <td>0.098051</td>\n",
       "      <td>-22.0</td>\n",
       "      <td>[-3.4943588e+02  1.2940279e+02 -1.8956478e+01 ...</td>\n",
       "      <td>68.726911</td>\n",
       "      <td>masculino</td>\n",
       "    </tr>\n",
       "    <tr>\n",
       "      <th>1</th>\n",
       "      <td>2</td>\n",
       "      <td>hyacinthe-lovo-v3.wav</td>\n",
       "      <td>4.964286</td>\n",
       "      <td>4.698113</td>\n",
       "      <td>4.553571</td>\n",
       "      <td>4.232143</td>\n",
       "      <td>4.196429</td>\n",
       "      <td>0.075944</td>\n",
       "      <td>-27.5</td>\n",
       "      <td>[-4.0729132e+02  1.3076346e+02 -3.0420111e+01 ...</td>\n",
       "      <td>111.111716</td>\n",
       "      <td>femenino</td>\n",
       "    </tr>\n",
       "    <tr>\n",
       "      <th>2</th>\n",
       "      <td>3</td>\n",
       "      <td>neural2C-pitchmodified-speedmodified.wav</td>\n",
       "      <td>4.509434</td>\n",
       "      <td>3.914894</td>\n",
       "      <td>2.892857</td>\n",
       "      <td>1.821429</td>\n",
       "      <td>1.750000</td>\n",
       "      <td>0.251626</td>\n",
       "      <td>-25.0</td>\n",
       "      <td>[-4.4141333e+02  8.9362648e+01 -1.2164741e+01 ...</td>\n",
       "      <td>98.468505</td>\n",
       "      <td>masculino</td>\n",
       "    </tr>\n",
       "    <tr>\n",
       "      <th>3</th>\n",
       "      <td>4</td>\n",
       "      <td>francisca-lovo-v2.wav</td>\n",
       "      <td>4.732143</td>\n",
       "      <td>4.320755</td>\n",
       "      <td>4.303571</td>\n",
       "      <td>3.107143</td>\n",
       "      <td>3.803571</td>\n",
       "      <td>0.137822</td>\n",
       "      <td>-26.1</td>\n",
       "      <td>[-454.8679      72.41395    -14.8625145   45.9...</td>\n",
       "      <td>116.353345</td>\n",
       "      <td>femenino</td>\n",
       "    </tr>\n",
       "    <tr>\n",
       "      <th>4</th>\n",
       "      <td>5</td>\n",
       "      <td>antoni-evenlabs-linguistico-v2.wav</td>\n",
       "      <td>4.636364</td>\n",
       "      <td>4.098039</td>\n",
       "      <td>3.267857</td>\n",
       "      <td>1.910714</td>\n",
       "      <td>1.732143</td>\n",
       "      <td>0.239188</td>\n",
       "      <td>-24.0</td>\n",
       "      <td>[-406.19888     84.30505    -12.89493     18.8...</td>\n",
       "      <td>78.968152</td>\n",
       "      <td>masculino</td>\n",
       "    </tr>\n",
       "  </tbody>\n",
       "</table>\n",
       "</div>"
      ],
      "text/plain": [
       "   ID                                  filename  Inteligibilidad   \n",
       "0   1                  alonso-naturalreader.wav         4.892857  \\\n",
       "1   2                     hyacinthe-lovo-v3.wav         4.964286   \n",
       "2   3  neural2C-pitchmodified-speedmodified.wav         4.509434   \n",
       "3   4                     francisca-lovo-v2.wav         4.732143   \n",
       "4   5        antoni-evenlabs-linguistico-v2.wav         4.636364   \n",
       "\n",
       "   Pronunciacion  Acentuacion  Naturalidad  Cadencia       zcr   rms   \n",
       "0       4.636364     4.482143     3.142857  3.803571  0.098051 -22.0  \\\n",
       "1       4.698113     4.553571     4.232143  4.196429  0.075944 -27.5   \n",
       "2       3.914894     2.892857     1.821429  1.750000  0.251626 -25.0   \n",
       "3       4.320755     4.303571     3.107143  3.803571  0.137822 -26.1   \n",
       "4       4.098039     3.267857     1.910714  1.732143  0.239188 -24.0   \n",
       "\n",
       "                                                mfcc          f0     genero  \n",
       "0  [-3.4943588e+02  1.2940279e+02 -1.8956478e+01 ...   68.726911  masculino  \n",
       "1  [-4.0729132e+02  1.3076346e+02 -3.0420111e+01 ...  111.111716   femenino  \n",
       "2  [-4.4141333e+02  8.9362648e+01 -1.2164741e+01 ...   98.468505  masculino  \n",
       "3  [-454.8679      72.41395    -14.8625145   45.9...  116.353345   femenino  \n",
       "4  [-406.19888     84.30505    -12.89493     18.8...   78.968152  masculino  "
      ]
     },
     "execution_count": 110,
     "metadata": {},
     "output_type": "execute_result"
    }
   ],
   "source": [
    "df_union.head()"
   ]
  },
  {
   "attachments": {},
   "cell_type": "markdown",
   "id": "c7108eb7",
   "metadata": {
    "papermill": {
     "duration": 0.034497,
     "end_time": "2023-06-11T01:37:24.501062",
     "exception": false,
     "start_time": "2023-06-11T01:37:24.466565",
     "status": "completed"
    },
    "tags": []
   },
   "source": [
    "## SelectorFeature"
   ]
  },
  {
   "cell_type": "code",
   "execution_count": 111,
   "id": "0574d6e5",
   "metadata": {
    "execution": {
     "iopub.execute_input": "2023-06-11T01:37:24.537131Z",
     "iopub.status.busy": "2023-06-11T01:37:24.537131Z",
     "iopub.status.idle": "2023-06-11T01:37:25.042508Z",
     "shell.execute_reply": "2023-06-11T01:37:25.042508Z"
    },
    "papermill": {
     "duration": 0.5174,
     "end_time": "2023-06-11T01:37:25.042508",
     "exception": false,
     "start_time": "2023-06-11T01:37:24.525108",
     "status": "completed"
    },
    "tags": []
   },
   "outputs": [],
   "source": [
    "from sklearn.pipeline import make_pipeline\n",
    "from sklearn.preprocessing import StandardScaler\n",
    "from sklearn.neighbors import KNeighborsRegressor\n",
    "from mlxtend.feature_selection import SequentialFeatureSelector\n",
    "from sklearn.utils import check_random_state\n",
    "from sklearn.model_selection import permutation_test_score\n",
    "from sklearn.linear_model import LinearRegression\n",
    "import statsmodels.api as sm"
   ]
  },
  {
   "attachments": {},
   "cell_type": "markdown",
   "id": "80a45a4d",
   "metadata": {
    "papermill": {
     "duration": 0.034952,
     "end_time": "2023-06-11T01:37:25.093052",
     "exception": false,
     "start_time": "2023-06-11T01:37:25.058100",
     "status": "completed"
    },
    "tags": []
   },
   "source": [
    "### Inteligibilidad"
   ]
  },
  {
   "cell_type": "code",
   "execution_count": 112,
   "id": "04fb2a9a",
   "metadata": {
    "execution": {
     "iopub.execute_input": "2023-06-11T01:37:25.137055Z",
     "iopub.status.busy": "2023-06-11T01:37:25.136049Z",
     "iopub.status.idle": "2023-06-11T01:37:25.153776Z",
     "shell.execute_reply": "2023-06-11T01:37:25.153776Z"
    },
    "papermill": {
     "duration": 0.03972,
     "end_time": "2023-06-11T01:37:25.153776",
     "exception": false,
     "start_time": "2023-06-11T01:37:25.114056",
     "status": "completed"
    },
    "tags": []
   },
   "outputs": [],
   "source": [
    "df_inteligibilidad = df_union.loc[:, ['Inteligibilidad', 'zcr', 'rms', 'f0', 'genero']]"
   ]
  },
  {
   "attachments": {},
   "cell_type": "markdown",
   "id": "f4e45e85",
   "metadata": {
    "papermill": {
     "duration": 0.037214,
     "end_time": "2023-06-11T01:37:25.206591",
     "exception": false,
     "start_time": "2023-06-11T01:37:25.169377",
     "status": "completed"
    },
    "tags": []
   },
   "source": [
    "#### Masculino"
   ]
  },
  {
   "cell_type": "code",
   "execution_count": 113,
   "id": "5c68b92e",
   "metadata": {
    "execution": {
     "iopub.execute_input": "2023-06-11T01:37:25.237694Z",
     "iopub.status.busy": "2023-06-11T01:37:25.237694Z",
     "iopub.status.idle": "2023-06-11T01:37:25.269151Z",
     "shell.execute_reply": "2023-06-11T01:37:25.269151Z"
    },
    "papermill": {
     "duration": 0.041564,
     "end_time": "2023-06-11T01:37:25.269151",
     "exception": false,
     "start_time": "2023-06-11T01:37:25.227587",
     "status": "completed"
    },
    "tags": []
   },
   "outputs": [],
   "source": [
    "# Lista de p-values\n",
    "p_values = []\n",
    "\n",
    "mask_gender = df_inteligibilidad.genero == 'masculino'\n",
    "\n",
    "df_inteligibilidad_male = df_inteligibilidad[mask_gender].drop(columns=['genero'])"
   ]
  },
  {
   "cell_type": "code",
   "execution_count": 114,
   "id": "c2d8db90",
   "metadata": {
    "execution": {
     "iopub.execute_input": "2023-06-11T01:37:25.325078Z",
     "iopub.status.busy": "2023-06-11T01:37:25.324076Z",
     "iopub.status.idle": "2023-06-11T01:37:25.419832Z",
     "shell.execute_reply": "2023-06-11T01:37:25.419832Z"
    },
    "papermill": {
     "duration": 0.135222,
     "end_time": "2023-06-11T01:37:25.419832",
     "exception": false,
     "start_time": "2023-06-11T01:37:25.284610",
     "status": "completed"
    },
    "tags": []
   },
   "outputs": [
    {
     "name": "stdout",
     "output_type": "stream",
     "text": [
      "Características seleccionadas: (0,)\n",
      "Característica ZCR: p-valor = 0.1301\n",
      "Característica RMS: p-valor = 0.5761\n",
      "Característica f0: p-valor = 0.6992\n"
     ]
    }
   ],
   "source": [
    "# Cargamos los datos\n",
    "X = np.array(df_inteligibilidad_male.drop(columns=['Inteligibilidad'])) # df_objetivos es el DataFrame con los parámetros objetivos\n",
    "y = np.array(df_inteligibilidad_male.Inteligibilidad) # df_subjetivos es el DataFrame con los parámetros subjetivos\n",
    "\n",
    "# Creamos el modelo de regresión lineal\n",
    "regr_multivar = LinearRegression()\n",
    "\n",
    "# Creamos el selector de características hacia adelante\n",
    "forward_selector = SequentialFeatureSelector(regr_multivar, k_features='best', forward=True, scoring='neg_mean_squared_error')\n",
    "\n",
    "# Entrenamos el selector de características\n",
    "forward_selector.fit(X, y)\n",
    "\n",
    "# Obtenemos las características seleccionadas\n",
    "selected_features = forward_selector.k_feature_idx_\n",
    "\n",
    "# Imprimimos las características seleccionadas\n",
    "print('Características seleccionadas:', selected_features)\n",
    "\n",
    "# Agregamos una columna de unos para representar el término de intercepción\n",
    "X2 = sm.add_constant(X)\n",
    "\n",
    "# Creamos el modelo OLS (mínimos cuadrados ordinarios) y lo ajustamos a los datos\n",
    "model = sm.OLS(y, X2)\n",
    "results = model.fit()\n",
    "\n",
    "# Imprimimos los p-valores para cada característica seleccionada\n",
    "for feature, pvalue in zip(list(range(X.shape[1])), results.pvalues[1:]):\n",
    "\n",
    "    if feature == 0:\n",
    "        feature = 'ZCR'\n",
    "    elif feature == 1:\n",
    "        feature = 'RMS'\n",
    "    else:\n",
    "        feature = 'f0'\n",
    "    \n",
    "    print(f'Característica {feature}: p-valor = {pvalue:.4f}')\n",
    "\n",
    "    p_values.append(pvalue)\n",
    "    dicc_p_value[feature].append(pvalue)\n",
    "\n",
    "dicc_p_value['subjetive_parameter'].append('Inteligibilidad')\n",
    "dicc_p_value['genero'].append('masculino')\n",
    "dicc_p_value['selected_features'].append(list(selected_features))\n"
   ]
  },
  {
   "cell_type": "code",
   "execution_count": 115,
   "id": "76dea3b5",
   "metadata": {},
   "outputs": [
    {
     "data": {
      "text/plain": [
       "(0,)"
      ]
     },
     "execution_count": 115,
     "metadata": {},
     "output_type": "execute_result"
    }
   ],
   "source": [
    "selected_features"
   ]
  },
  {
   "cell_type": "code",
   "execution_count": 116,
   "id": "e27ea5ec",
   "metadata": {
    "execution": {
     "iopub.execute_input": "2023-06-11T01:37:48.093097Z",
     "iopub.status.busy": "2023-06-11T01:37:48.091097Z",
     "iopub.status.idle": "2023-06-11T01:37:48.117095Z",
     "shell.execute_reply": "2023-06-11T01:37:48.116103Z"
    },
    "papermill": {
     "duration": 0.065578,
     "end_time": "2023-06-11T01:37:48.120095",
     "exception": false,
     "start_time": "2023-06-11T01:37:48.054517",
     "status": "completed"
    },
    "tags": []
   },
   "outputs": [],
   "source": [
    "# Dicc auxiliar con los nombres asociadas a las variables\n",
    "dicc_names_features = {\n",
    "    'zcr_model': 0,\n",
    "    'rms_model': 1,\n",
    "    'f0_model': 2\n",
    "}\n",
    "\n",
    "# Dicc de los modelos\n",
    "dicc_model = {}\n",
    "\n",
    "# Dicc de las predicciones\n",
    "dicc_pred = {}\n",
    "\n",
    "for selected_feature in selected_features:\n",
    "    # Entrenamos el modelo de regresión con las características seleccionadas\n",
    "    regr_multivar = LinearRegression()\n",
    "    regr_multivar.fit(X[:, selected_feature].reshape(-1, 1), y.ravel())\n",
    "\n",
    "    # Almacenamos en dicc_model la clave asociada al modelo que se entrenó y el objeto modelo\n",
    "    for key, value in dicc_names_features.items():\n",
    "        if value == selected_feature:\n",
    "            dicc_model[key] = regr_multivar\n",
    "\n",
    "    # Obtenemos las predicciones del modelo para las características seleccionadas\n",
    "    y_pred = regr_multivar.predict(X[:, selected_feature].reshape(-1, 1))\n",
    "\n",
    "    # Almacenamos en dicc_pred la clave asociada al modelo que se entrenó y la predicción\n",
    "    for key, value in dicc_names_features.items():\n",
    "        if value == selected_feature:\n",
    "            dicc_pred[key] = y_pred\n"
   ]
  },
  {
   "cell_type": "code",
   "execution_count": 117,
   "id": "3eec5163",
   "metadata": {
    "execution": {
     "iopub.execute_input": "2023-06-11T01:37:48.154855Z",
     "iopub.status.busy": "2023-06-11T01:37:48.154855Z",
     "iopub.status.idle": "2023-06-11T01:37:48.170542Z",
     "shell.execute_reply": "2023-06-11T01:37:48.170542Z"
    },
    "papermill": {
     "duration": 0.03135,
     "end_time": "2023-06-11T01:37:48.170542",
     "exception": false,
     "start_time": "2023-06-11T01:37:48.139192",
     "status": "completed"
    },
    "tags": []
   },
   "outputs": [
    {
     "name": "stdout",
     "output_type": "stream",
     "text": [
      "y = -2.49 * ZCR + 5.07 - p-valor = 0.130\n"
     ]
    }
   ],
   "source": [
    "list_equ = []\n",
    "\n",
    "for key, model in dicc_model.items():\n",
    "    # Obtenemos los valores de w y b\n",
    "    w = model.coef_[0]\n",
    "    b = model.intercept_\n",
    "    \n",
    "    label = key.replace(\"_model\", \"\")\n",
    "    if label == 'f0':\n",
    "        label = r'$f_{0}$'\n",
    "    else:\n",
    "        label = label.upper()\n",
    "\n",
    "    # Construimos la cadena de texto para la ecuación del hiperplano y su p-valor\n",
    "    equation = f'y = {w:.2f} * {label} + {b:.2f} - p-valor = {p_values[dicc_names_features[key]]:.3f}'\n",
    "\n",
    "    # Agregamos la cadena a la lista\n",
    "    list_equ.append(equation)\n",
    "\n",
    "# Mostramos el resultado\n",
    "for equ in list_equ:\n",
    "    print(equ)\n"
   ]
  },
  {
   "cell_type": "code",
   "execution_count": 118,
   "id": "8ab1366d",
   "metadata": {
    "execution": {
     "iopub.execute_input": "2023-06-11T01:37:48.246801Z",
     "iopub.status.busy": "2023-06-11T01:37:48.245814Z",
     "iopub.status.idle": "2023-06-11T01:37:49.010753Z",
     "shell.execute_reply": "2023-06-11T01:37:49.007778Z"
    },
    "papermill": {
     "duration": 0.813087,
     "end_time": "2023-06-11T01:37:49.014787",
     "exception": false,
     "start_time": "2023-06-11T01:37:48.201700",
     "status": "completed"
    },
    "tags": []
   },
   "outputs": [
    {
     "data": {
      "image/png": "[encoded data removed]",
      "text/plain": [
       "<Figure size 600x400 with 1 Axes>"
      ]
     },
     "metadata": {},
     "output_type": "display_data"
    }
   ],
   "source": [
    "dims = (6 * len(dicc_model), 4)\n",
    "fig, ax = plt.subplots(figsize=dims, ncols=len(dicc_model))\n",
    "\n",
    "with sns.axes_style('darkgrid'):\n",
    "    for i, (key, model) in enumerate(dicc_model.items()):\n",
    "        if isinstance(ax, np.ndarray):\n",
    "            ax_i = ax[i]\n",
    "        else:\n",
    "            ax_i = ax\n",
    "        label = key.replace(\"_model\", \"\")\n",
    "        if label == 'f0':\n",
    "            label = r'$f_{0}$'\n",
    "        else:\n",
    "            label = label.upper()\n",
    "        g = sns.scatterplot(x=X[:, dicc_names_features[key]], y=y, ax=ax_i, color='blue')\n",
    "        g = sns.lineplot(x=X[:, dicc_names_features[key]], y=dicc_pred[key], ax=ax_i, color='red')\n",
    "        g.text(0.5, -0.1, label, weight='bold', size='large', family='Arial', stretch='extra-expanded', ha='center', va='top', transform=g.transAxes)\n",
    "        g.set_ylabel('Inteligibilidad', weight='bold', size='large', alpha=0.8, family='Arial', stretch='extra-expanded')\n",
    "        g.set_title(list_equ[i], weight='bold', size='x-large', alpha=0.8, family='Arial', stretch='extra-expanded')\n",
    "        g.grid(alpha=0.7)\n",
    "        ax_i.set_ylim(0, 6)\n",
    "\n",
    "    plt.tight_layout()\n",
    "    plt.savefig(os.path.join(PATH, TEST_FOLDER, REGGRESSION_FOLDER, PARAMETRIC_FOLDER, INTELIGIBILIDAD_FOLDER, MALE_FOLDER, 'regresiones_inteligibilidad_male.png'))\n",
    "    plt.show()\n"
   ]
  },
  {
   "cell_type": "code",
   "execution_count": 119,
   "id": "ede9f8e4",
   "metadata": {
    "execution": {
     "iopub.execute_input": "2023-06-11T01:37:49.073752Z",
     "iopub.status.busy": "2023-06-11T01:37:49.072754Z",
     "iopub.status.idle": "2023-06-11T01:37:49.105752Z",
     "shell.execute_reply": "2023-06-11T01:37:49.103839Z"
    },
    "papermill": {
     "duration": 0.063,
     "end_time": "2023-06-11T01:37:49.109753",
     "exception": false,
     "start_time": "2023-06-11T01:37:49.046753",
     "status": "completed"
    },
    "tags": []
   },
   "outputs": [],
   "source": [
    "if len(dicc_model) == 2:\n",
    "    import plotly.express as px\n",
    "    import plotly.graph_objects as go\n",
    "\n",
    "    # Seleccionamos solo las características seleccionadas en X\n",
    "    X_selected = X[:, selected_features]\n",
    "\n",
    "    # Entrenamos el modelo de regresión con las características seleccionadas\n",
    "    regr_multivar = LinearRegression()\n",
    "    regr_multivar.fit(X_selected, y)\n",
    "\n",
    "    # Obtenemos las predicciones del modelo para las características seleccionadas\n",
    "    y_pred = regr_multivar.predict(X_selected)\n",
    "\n",
    "    # Crear la figura\n",
    "    fig = px.scatter_3d(x=X_selected[:, 0], y=X_selected[:, 1], z=y)\n",
    "\n",
    "    # Crear el plano de regresión\n",
    "    xx, yy = np.meshgrid(X_selected[:, 0], X_selected[:, 1])\n",
    "    zz = regr_multivar.intercept_ + np.dot(np.array([xx.ravel(), yy.ravel()]).T, regr_multivar.coef_.ravel()).reshape(xx.shape)\n",
    "    fig.add_trace(go.Surface(x=xx, y=yy, z=zz, opacity=0.5))\n",
    "\n",
    "    # Construir la cadena de texto para la ecuación del plano\n",
    "    equation = f'z = {regr_multivar.intercept_.round(2)}'\n",
    "    for i, (key, model) in enumerate(dicc_model.items()):\n",
    "        equation += f' + {regr_multivar.coef_[i].round(2)} * {key.replace(\"_model\", \"\")}'\n",
    "    \n",
    "    # Centrar el título\n",
    "    fig.update_layout(title=dict(text=equation, x=0.5, xanchor='center'))\n",
    "\n",
    "    # Etiquetas de los ejes y rango del eje z\n",
    "    fig.update_layout(scene=dict(xaxis_title=list(dicc_model.keys())[0].replace(\"_model\", \"\"), yaxis_title=list(dicc_model.keys())[1].replace(\"_model\", \"\"), zaxis_title='Inteligibilidad', zaxis=dict(range=[0, 6]), yaxis=dict(tickvals=[-28, -26, -24, -22])))\n",
    "\n",
    "    fig.write_html(\n",
    "       os.path.join(PATH, TEST_FOLDER, REGGRESSION_FOLDER, PARAMETRIC_FOLDER, INTELIGIBILIDAD_FOLDER, MALE_FOLDER, 'regresion_inteligibilidad_multivariable_male.html')\n",
    "    )\n",
    "\n",
    "    fig.show()\n"
   ]
  },
  {
   "attachments": {},
   "cell_type": "markdown",
   "id": "1246354a",
   "metadata": {
    "papermill": {
     "duration": 0.030997,
     "end_time": "2023-06-11T01:37:49.164752",
     "exception": false,
     "start_time": "2023-06-11T01:37:49.133755",
     "status": "completed"
    },
    "tags": []
   },
   "source": [
    "#### Femenino"
   ]
  },
  {
   "cell_type": "code",
   "execution_count": 120,
   "id": "7e71f571",
   "metadata": {
    "execution": {
     "iopub.execute_input": "2023-06-11T01:37:49.216749Z",
     "iopub.status.busy": "2023-06-11T01:37:49.215751Z",
     "iopub.status.idle": "2023-06-11T01:37:49.231752Z",
     "shell.execute_reply": "2023-06-11T01:37:49.229841Z"
    },
    "papermill": {
     "duration": 0.043029,
     "end_time": "2023-06-11T01:37:49.233787",
     "exception": false,
     "start_time": "2023-06-11T01:37:49.190758",
     "status": "completed"
    },
    "tags": []
   },
   "outputs": [],
   "source": [
    "# Lista de p-values\n",
    "p_values = []\n",
    "\n",
    "mask_gender = df_inteligibilidad.genero == 'femenino'\n",
    "\n",
    "df_inteligibilidad_female = df_inteligibilidad[mask_gender].drop(columns=['genero'])"
   ]
  },
  {
   "cell_type": "code",
   "execution_count": 121,
   "id": "274b8c1e",
   "metadata": {
    "execution": {
     "iopub.execute_input": "2023-06-11T01:37:49.292752Z",
     "iopub.status.busy": "2023-06-11T01:37:49.291752Z",
     "iopub.status.idle": "2023-06-11T01:37:49.375756Z",
     "shell.execute_reply": "2023-06-11T01:37:49.373753Z"
    },
    "papermill": {
     "duration": 0.117035,
     "end_time": "2023-06-11T01:37:49.378787",
     "exception": false,
     "start_time": "2023-06-11T01:37:49.261752",
     "status": "completed"
    },
    "tags": []
   },
   "outputs": [
    {
     "name": "stdout",
     "output_type": "stream",
     "text": [
      "Características seleccionadas: (0, 2)\n",
      "Característica ZCR: p-valor = 0.0267\n",
      "Característica RMS: p-valor = 0.6728\n",
      "Característica f0: p-valor = 0.1272\n"
     ]
    }
   ],
   "source": [
    "# Cargamos los datos\n",
    "X = np.array(df_inteligibilidad_female.drop(columns=['Inteligibilidad'])) # df_objetivos es el DataFrame con los parámetros objetivos\n",
    "y = np.array(df_inteligibilidad_female.Inteligibilidad) # df_subjetivos es el DataFrame con los parámetros subjetivos\n",
    "\n",
    "# Creamos el modelo de regresión lineal\n",
    "regr_multivar = LinearRegression()\n",
    "\n",
    "# Creamos el selector de características hacia adelante\n",
    "forward_selector = SequentialFeatureSelector(regr_multivar, k_features='best', forward=True, scoring='neg_mean_squared_error')\n",
    "\n",
    "# Entrenamos el selector de características\n",
    "forward_selector.fit(X, y)\n",
    "\n",
    "# Obtenemos las características seleccionadas\n",
    "selected_features = forward_selector.k_feature_idx_\n",
    "\n",
    "# Imprimimos las características seleccionadas\n",
    "print('Características seleccionadas:', selected_features)\n",
    "\n",
    "# Agregamos una columna de unos para representar el término de intercepción\n",
    "X2 = sm.add_constant(X)\n",
    "\n",
    "# Creamos el modelo OLS (mínimos cuadrados ordinarios) y lo ajustamos a los datos\n",
    "model = sm.OLS(y, X2)\n",
    "results = model.fit()\n",
    "\n",
    "# Imprimimos los p-valores para cada característica seleccionada\n",
    "for feature, pvalue in zip(list(range(X.shape[1])), results.pvalues[1:]):\n",
    "\n",
    "    if feature == 0:\n",
    "        feature = 'ZCR'\n",
    "    elif feature == 1:\n",
    "        feature = 'RMS'\n",
    "    else:\n",
    "        feature = 'f0'\n",
    "    \n",
    "    print(f'Característica {feature}: p-valor = {pvalue:.4f}')\n",
    "\n",
    "    p_values.append(pvalue)\n",
    "    dicc_p_value[feature].append(pvalue)\n",
    "\n",
    "dicc_p_value['subjetive_parameter'].append('Inteligibilidad')\n",
    "dicc_p_value['genero'].append('femenino')\n",
    "dicc_p_value['selected_features'].append(list(selected_features))\n"
   ]
  },
  {
   "cell_type": "code",
   "execution_count": 122,
   "id": "e26e8b03",
   "metadata": {
    "execution": {
     "iopub.execute_input": "2023-06-11T01:38:13.867044Z",
     "iopub.status.busy": "2023-06-11T01:38:13.865044Z",
     "iopub.status.idle": "2023-06-11T01:38:13.881054Z",
     "shell.execute_reply": "2023-06-11T01:38:13.880047Z"
    },
    "papermill": {
     "duration": 0.056998,
     "end_time": "2023-06-11T01:38:13.884045",
     "exception": false,
     "start_time": "2023-06-11T01:38:13.827047",
     "status": "completed"
    },
    "tags": []
   },
   "outputs": [],
   "source": [
    "# Dicc auxiliar con los nombres asociadas a las variables\n",
    "dicc_names_features = {\n",
    "    'zcr_model': 0,\n",
    "    'rms_model': 1,\n",
    "    'f0_model': 2\n",
    "}\n",
    "\n",
    "# Dicc de los modelos\n",
    "dicc_model = {}\n",
    "\n",
    "# Dicc de las predicciones\n",
    "dicc_pred = {}\n",
    "\n",
    "for selected_feature in selected_features:\n",
    "    # Entrenamos el modelo de regresión con las características seleccionadas\n",
    "    regr_multivar = LinearRegression()\n",
    "    regr_multivar.fit(X[:, selected_feature].reshape(-1, 1), y.ravel())\n",
    "\n",
    "    # Almacenamos en dicc_model la clave asociada al modelo que se entrenó y el objeto modelo\n",
    "    for key, value in dicc_names_features.items():\n",
    "        if value == selected_feature:\n",
    "            dicc_model[key] = regr_multivar\n",
    "\n",
    "    # Obtenemos las predicciones del modelo para las características seleccionadas\n",
    "    y_pred = regr_multivar.predict(X[:, selected_feature].reshape(-1, 1))\n",
    "\n",
    "    # Almacenamos en dicc_pred la clave asociada al modelo que se entrenó y la predicción\n",
    "    for key, value in dicc_names_features.items():\n",
    "        if value == selected_feature:\n",
    "            dicc_pred[key] = y_pred\n"
   ]
  },
  {
   "cell_type": "code",
   "execution_count": 123,
   "id": "8ecfd613",
   "metadata": {
    "execution": {
     "iopub.execute_input": "2023-06-11T01:38:13.951043Z",
     "iopub.status.busy": "2023-06-11T01:38:13.950046Z",
     "iopub.status.idle": "2023-06-11T01:38:13.978045Z",
     "shell.execute_reply": "2023-06-11T01:38:13.976052Z"
    },
    "papermill": {
     "duration": 0.064001,
     "end_time": "2023-06-11T01:38:13.981045",
     "exception": false,
     "start_time": "2023-06-11T01:38:13.917044",
     "status": "completed"
    },
    "tags": []
   },
   "outputs": [
    {
     "name": "stdout",
     "output_type": "stream",
     "text": [
      "y = -2.38 * ZCR + 5.11 - p-valor = 0.027\n",
      "y = -0.00 * $f_{0}$ + 5.06 - p-valor = 0.127\n"
     ]
    }
   ],
   "source": [
    "list_equ = []\n",
    "\n",
    "for key, model in dicc_model.items():\n",
    "    # Obtenemos los valores de w y b\n",
    "    w = model.coef_[0]\n",
    "    b = model.intercept_\n",
    "    \n",
    "    label = key.replace(\"_model\", \"\")\n",
    "    if label == 'f0':\n",
    "        label = r'$f_{0}$'\n",
    "    else:\n",
    "        label = label.upper()\n",
    "\n",
    "    # Construimos la cadena de texto para la ecuación del hiperplano y su p-valor\n",
    "    equation = f'y = {w:.2f} * {label} + {b:.2f} - p-valor = {p_values[dicc_names_features[key]]:.3f}'\n",
    "\n",
    "    # Agregamos la cadena a la lista\n",
    "    list_equ.append(equation)\n",
    "\n",
    "# Mostramos el resultado\n",
    "for equ in list_equ:\n",
    "    print(equ)\n"
   ]
  },
  {
   "cell_type": "code",
   "execution_count": 124,
   "id": "7a54f90b",
   "metadata": {
    "execution": {
     "iopub.execute_input": "2023-06-11T01:38:14.083046Z",
     "iopub.status.busy": "2023-06-11T01:38:14.082046Z",
     "iopub.status.idle": "2023-06-11T01:38:15.061795Z",
     "shell.execute_reply": "2023-06-11T01:38:15.060884Z"
    },
    "papermill": {
     "duration": 1.036753,
     "end_time": "2023-06-11T01:38:15.064799",
     "exception": false,
     "start_time": "2023-06-11T01:38:14.028046",
     "status": "completed"
    },
    "tags": []
   },
   "outputs": [
    {
     "data": {
      "image/png": "[encoded data removed]",
      "text/plain": [
       "<Figure size 1200x400 with 2 Axes>"
      ]
     },
     "metadata": {},
     "output_type": "display_data"
    }
   ],
   "source": [
    "dims = (6 * len(dicc_model), 4)\n",
    "fig, ax = plt.subplots(figsize=dims, ncols=len(dicc_model))\n",
    "\n",
    "with sns.axes_style('darkgrid'):\n",
    "    for i, (key, model) in enumerate(dicc_model.items()):\n",
    "        if isinstance(ax, np.ndarray):\n",
    "            ax_i = ax[i]\n",
    "        else:\n",
    "            ax_i = ax\n",
    "        label = key.replace(\"_model\", \"\")\n",
    "        if label == 'f0':\n",
    "            label = r'$f_{0}$'\n",
    "        else:\n",
    "            label = label.upper()\n",
    "        g = sns.scatterplot(x=X[:, dicc_names_features[key]], y=y, ax=ax_i, color='blue')\n",
    "        g = sns.lineplot(x=X[:, dicc_names_features[key]], y=dicc_pred[key], ax=ax_i, color='red')\n",
    "        g.text(0.5, -0.1, label, weight='bold', size='large', family='Arial', stretch='extra-expanded', ha='center', va='top', transform=g.transAxes)\n",
    "        g.set_ylabel('Inteligibilidad', weight='bold', size='large', alpha=0.8, family='Arial', stretch='extra-expanded')\n",
    "        g.set_title(list_equ[i], weight='bold', size='x-large', alpha=0.8, family='Arial', stretch='extra-expanded')\n",
    "        g.grid(alpha=0.7)\n",
    "        ax_i.set_ylim(0, 6)\n",
    "\n",
    "    plt.tight_layout()\n",
    "    plt.savefig(\n",
    "        os.path.join(PATH, TEST_FOLDER, REGGRESSION_FOLDER, PARAMETRIC_FOLDER, INTELIGIBILIDAD_FOLDER, FEMALE_FOLDER, 'regresiones_inteligibilidad_female.png')\n",
    "    )\n",
    "    plt.show()\n"
   ]
  },
  {
   "cell_type": "code",
   "execution_count": 125,
   "id": "f75d0821",
   "metadata": {
    "execution": {
     "iopub.execute_input": "2023-06-11T01:38:15.120916Z",
     "iopub.status.busy": "2023-06-11T01:38:15.105269Z",
     "iopub.status.idle": "2023-06-11T01:38:17.115299Z",
     "shell.execute_reply": "2023-06-11T01:38:17.115299Z"
    },
    "papermill": {
     "duration": 2.085004,
     "end_time": "2023-06-11T01:38:17.177800",
     "exception": false,
     "start_time": "2023-06-11T01:38:15.092796",
     "status": "completed"
    },
    "tags": []
   },
   "outputs": [
    {
     "data": {
      "application/vnd.plotly.v1+json": {
       "config": {
        "plotlyServerURL": "https://plot.ly"
       },
       "data": [
        {
         "hovertemplate": "x=%{x}<br>y=%{y}<br>z=%{z}<extra></extra>",
         "legendgroup": "",
         "marker": {
          "color": "#636efa",
          "symbol": "circle"
         },
         "mode": "markers",
         "name": "",
         "scene": "scene",
         "showlegend": false,
         "type": "scatter3d",
         "x": [
          0.0759442551691729,
          0.137821937674907,
          0.0930354148829909,
          0.235632177146084,
          0.204357250316723,
          0.181163131359012,
          0.147759976291133,
          0.116977757195017,
          0.232525432279325,
          0.173409231085526
         ],
         "y": [
          111.111716480441,
          116.353345265724,
          101.312090449968,
          101.534873965827,
          117.741416962869,
          119.577565453938,
          100.992252773665,
          117.898565521619,
          102.269338478718,
          94.7081174667994
         ],
         "z": [
          4.964285714285714,
          4.732142857142857,
          4.857142857142857,
          4.446428571428571,
          4.509433962264151,
          4.672727272727273,
          4.839285714285714,
          4.75,
          4.678571428571429,
          4.803571428571429
         ]
        },
        {
         "opacity": 0.5,
         "type": "surface",
         "x": [
          [
           0.0759442551691729,
           0.137821937674907,
           0.0930354148829909,
           0.235632177146084,
           0.204357250316723,
           0.181163131359012,
           0.147759976291133,
           0.116977757195017,
           0.232525432279325,
           0.173409231085526
          ],
          [
           0.0759442551691729,
           0.137821937674907,
           0.0930354148829909,
           0.235632177146084,
           0.204357250316723,
           0.181163131359012,
           0.147759976291133,
           0.116977757195017,
           0.232525432279325,
           0.173409231085526
          ],
          [
           0.0759442551691729,
           0.137821937674907,
           0.0930354148829909,
           0.235632177146084,
           0.204357250316723,
           0.181163131359012,
           0.147759976291133,
           0.116977757195017,
           0.232525432279325,
           0.173409231085526
          ],
          [
           0.0759442551691729,
           0.137821937674907,
           0.0930354148829909,
           0.235632177146084,
           0.204357250316723,
           0.181163131359012,
           0.147759976291133,
           0.116977757195017,
           0.232525432279325,
           0.173409231085526
          ],
          [
           0.0759442551691729,
           0.137821937674907,
           0.0930354148829909,
           0.235632177146084,
           0.204357250316723,
           0.181163131359012,
           0.147759976291133,
           0.116977757195017,
           0.232525432279325,
           0.173409231085526
          ],
          [
           0.0759442551691729,
           0.137821937674907,
           0.0930354148829909,
           0.235632177146084,
           0.204357250316723,
           0.181163131359012,
           0.147759976291133,
           0.116977757195017,
           0.232525432279325,
           0.173409231085526
          ],
          [
           0.0759442551691729,
           0.137821937674907,
           0.0930354148829909,
           0.235632177146084,
           0.204357250316723,
           0.181163131359012,
           0.147759976291133,
           0.116977757195017,
           0.232525432279325,
           0.173409231085526
          ],
          [
           0.0759442551691729,
           0.137821937674907,
           0.0930354148829909,
           0.235632177146084,
           0.204357250316723,
           0.181163131359012,
           0.147759976291133,
           0.116977757195017,
           0.232525432279325,
           0.173409231085526
          ],
          [
           0.0759442551691729,
           0.137821937674907,
           0.0930354148829909,
           0.235632177146084,
           0.204357250316723,
           0.181163131359012,
           0.147759976291133,
           0.116977757195017,
           0.232525432279325,
           0.173409231085526
          ],
          [
           0.0759442551691729,
           0.137821937674907,
           0.0930354148829909,
           0.235632177146084,
           0.204357250316723,
           0.181163131359012,
           0.147759976291133,
           0.116977757195017,
           0.232525432279325,
           0.173409231085526
          ]
         ],
         "y": [
          [
           111.111716480441,
           111.111716480441,
           111.111716480441,
           111.111716480441,
           111.111716480441,
           111.111716480441,
           111.111716480441,
           111.111716480441,
           111.111716480441,
           111.111716480441
          ],
          [
           116.353345265724,
           116.353345265724,
           116.353345265724,
           116.353345265724,
           116.353345265724,
           116.353345265724,
           116.353345265724,
           116.353345265724,
           116.353345265724,
           116.353345265724
          ],
          [
           101.312090449968,
           101.312090449968,
           101.312090449968,
           101.312090449968,
           101.312090449968,
           101.312090449968,
           101.312090449968,
           101.312090449968,
           101.312090449968,
           101.312090449968
          ],
          [
           101.534873965827,
           101.534873965827,
           101.534873965827,
           101.534873965827,
           101.534873965827,
           101.534873965827,
           101.534873965827,
           101.534873965827,
           101.534873965827,
           101.534873965827
          ],
          [
           117.741416962869,
           117.741416962869,
           117.741416962869,
           117.741416962869,
           117.741416962869,
           117.741416962869,
           117.741416962869,
           117.741416962869,
           117.741416962869,
           117.741416962869
          ],
          [
           119.577565453938,
           119.577565453938,
           119.577565453938,
           119.577565453938,
           119.577565453938,
           119.577565453938,
           119.577565453938,
           119.577565453938,
           119.577565453938,
           119.577565453938
          ],
          [
           100.992252773665,
           100.992252773665,
           100.992252773665,
           100.992252773665,
           100.992252773665,
           100.992252773665,
           100.992252773665,
           100.992252773665,
           100.992252773665,
           100.992252773665
          ],
          [
           117.898565521619,
           117.898565521619,
           117.898565521619,
           117.898565521619,
           117.898565521619,
           117.898565521619,
           117.898565521619,
           117.898565521619,
           117.898565521619,
           117.898565521619
          ],
          [
           102.269338478718,
           102.269338478718,
           102.269338478718,
           102.269338478718,
           102.269338478718,
           102.269338478718,
           102.269338478718,
           102.269338478718,
           102.269338478718,
           102.269338478718
          ],
          [
           94.7081174667994,
           94.7081174667994,
           94.7081174667994,
           94.7081174667994,
           94.7081174667994,
           94.7081174667994,
           94.7081174667994,
           94.7081174667994,
           94.7081174667994,
           94.7081174667994
          ]
         ],
         "z": [
          [
           4.922030234179097,
           4.765619957314432,
           4.878828341113229,
           4.5183817606597945,
           4.597436433786074,
           4.656064979990456,
           4.74049924644567,
           4.818308485841248,
           4.526234783027149,
           4.6756647716996
          ],
          [
           4.892703555961954,
           4.736293279097289,
           4.849501662896086,
           4.489055082442651,
           4.56810975556893,
           4.626738301773313,
           4.711172568228527,
           4.788981807624105,
           4.496908104810007,
           4.646338093482457
          ],
          [
           4.976858702774762,
           4.820448425910097,
           4.933656809708894,
           4.5732102292554595,
           4.652264902381738,
           4.710893448586121,
           4.795327715041335,
           4.873136954436913,
           4.581063251622815,
           4.7304932402952655
          ],
          [
           4.975612238984723,
           4.819201962120058,
           4.932410345918854,
           4.571963765465421,
           4.6510184385916995,
           4.709646984796082,
           4.794081251251296,
           4.871890490646875,
           4.579816787832776,
           4.729246776505226
          ],
          [
           4.8849373570050965,
           4.728527080140433,
           4.841735463939228,
           4.481288883485794,
           4.560343556612073,
           4.618972102816456,
           4.70340636927167,
           4.781215608667249,
           4.48914190585315,
           4.6385718945256
          ],
          [
           4.874664188461063,
           4.718253911596398,
           4.831462295395195,
           4.47101571494176,
           4.55007038806804,
           4.608698934272422,
           4.693133200727636,
           4.770942440123214,
           4.478868737309115,
           4.6282987259815656
          ],
          [
           4.978648180244244,
           4.82223790337958,
           4.935446287178376,
           4.574999706724942,
           4.654054379851221,
           4.712682926055604,
           4.797117192510818,
           4.874926431906396,
           4.582852729092298,
           4.732282717764748
          ],
          [
           4.884058117859492,
           4.727647840994828,
           4.840856224793624,
           4.48040964434019,
           4.559464317466469,
           4.618092863670851,
           4.702527130126065,
           4.780336369521644,
           4.488262666707545,
           4.637692655379995
          ],
          [
           4.971502942940726,
           4.815092666076061,
           4.928301049874857,
           4.567854469421423,
           4.6469091425477025,
           4.705537688752084,
           4.789971955207299,
           4.867781194602877,
           4.575707491788779,
           4.725137480461229
          ],
          [
           5.0138076357430545,
           4.85739735887839,
           4.9706057426771855,
           4.610159162223752,
           4.689213835350031,
           4.747842381554413,
           4.832276648009627,
           4.910085887405206,
           4.618012184591107,
           4.767442173263557
          ]
         ]
        }
       ],
       "layout": {
        "legend": {
         "tracegroupgap": 0
        },
        "margin": {
         "t": 60
        },
        "scene": {
         "domain": {
          "x": [
           0,
           1
          ],
          "y": [
           0,
           1
          ]
         },
         "xaxis": {
          "title": {
           "text": "zcr"
          }
         },
         "yaxis": {
          "tickvals": [
           100,
           105,
           110,
           115
          ],
          "title": {
           "text": "f0"
          }
         },
         "zaxis": {
          "range": [
           0,
           6
          ],
          "title": {
           "text": "Inteligibilidad"
          }
         }
        },
        "template": {
         "data": {
          "bar": [
           {
            "error_x": {
             "color": "#2a3f5f"
            },
            "error_y": {
             "color": "#2a3f5f"
            },
            "marker": {
             "line": {
              "color": "#E5ECF6",
              "width": 0.5
             },
             "pattern": {
              "fillmode": "overlay",
              "size": 10,
              "solidity": 0.2
             }
            },
            "type": "bar"
           }
          ],
          "barpolar": [
           {
            "marker": {
             "line": {
              "color": "#E5ECF6",
              "width": 0.5
             },
             "pattern": {
              "fillmode": "overlay",
              "size": 10,
              "solidity": 0.2
             }
            },
            "type": "barpolar"
           }
          ],
          "carpet": [
           {
            "aaxis": {
             "endlinecolor": "#2a3f5f",
             "gridcolor": "white",
             "linecolor": "white",
             "minorgridcolor": "white",
             "startlinecolor": "#2a3f5f"
            },
            "baxis": {
             "endlinecolor": "#2a3f5f",
             "gridcolor": "white",
             "linecolor": "white",
             "minorgridcolor": "white",
             "startlinecolor": "#2a3f5f"
            },
            "type": "carpet"
           }
          ],
          "choropleth": [
           {
            "colorbar": {
             "outlinewidth": 0,
             "ticks": ""
            },
            "type": "choropleth"
           }
          ],
          "contour": [
           {
            "colorbar": {
             "outlinewidth": 0,
             "ticks": ""
            },
            "colorscale": [
             [
              0,
              "#0d0887"
             ],
             [
              0.1111111111111111,
              "#46039f"
             ],
             [
              0.2222222222222222,
              "#7201a8"
             ],
             [
              0.3333333333333333,
              "#9c179e"
             ],
             [
              0.4444444444444444,
              "#bd3786"
             ],
             [
              0.5555555555555556,
              "#d8576b"
             ],
             [
              0.6666666666666666,
              "#ed7953"
             ],
             [
              0.7777777777777778,
              "#fb9f3a"
             ],
             [
              0.8888888888888888,
              "#fdca26"
             ],
             [
              1,
              "#f0f921"
             ]
            ],
            "type": "contour"
           }
          ],
          "contourcarpet": [
           {
            "colorbar": {
             "outlinewidth": 0,
             "ticks": ""
            },
            "type": "contourcarpet"
           }
          ],
          "heatmap": [
           {
            "colorbar": {
             "outlinewidth": 0,
             "ticks": ""
            },
            "colorscale": [
             [
              0,
              "#0d0887"
             ],
             [
              0.1111111111111111,
              "#46039f"
             ],
             [
              0.2222222222222222,
              "#7201a8"
             ],
             [
              0.3333333333333333,
              "#9c179e"
             ],
             [
              0.4444444444444444,
              "#bd3786"
             ],
             [
              0.5555555555555556,
              "#d8576b"
             ],
             [
              0.6666666666666666,
              "#ed7953"
             ],
             [
              0.7777777777777778,
              "#fb9f3a"
             ],
             [
              0.8888888888888888,
              "#fdca26"
             ],
             [
              1,
              "#f0f921"
             ]
            ],
            "type": "heatmap"
           }
          ],
          "heatmapgl": [
           {
            "colorbar": {
             "outlinewidth": 0,
             "ticks": ""
            },
            "colorscale": [
             [
              0,
              "#0d0887"
             ],
             [
              0.1111111111111111,
              "#46039f"
             ],
             [
              0.2222222222222222,
              "#7201a8"
             ],
             [
              0.3333333333333333,
              "#9c179e"
             ],
             [
              0.4444444444444444,
              "#bd3786"
             ],
             [
              0.5555555555555556,
              "#d8576b"
             ],
             [
              0.6666666666666666,
              "#ed7953"
             ],
             [
              0.7777777777777778,
              "#fb9f3a"
             ],
             [
              0.8888888888888888,
              "#fdca26"
             ],
             [
              1,
              "#f0f921"
             ]
            ],
            "type": "heatmapgl"
           }
          ],
          "histogram": [
           {
            "marker": {
             "pattern": {
              "fillmode": "overlay",
              "size": 10,
              "solidity": 0.2
             }
            },
            "type": "histogram"
           }
          ],
          "histogram2d": [
           {
            "colorbar": {
             "outlinewidth": 0,
             "ticks": ""
            },
            "colorscale": [
             [
              0,
              "#0d0887"
             ],
             [
              0.1111111111111111,
              "#46039f"
             ],
             [
              0.2222222222222222,
              "#7201a8"
             ],
             [
              0.3333333333333333,
              "#9c179e"
             ],
             [
              0.4444444444444444,
              "#bd3786"
             ],
             [
              0.5555555555555556,
              "#d8576b"
             ],
             [
              0.6666666666666666,
              "#ed7953"
             ],
             [
              0.7777777777777778,
              "#fb9f3a"
             ],
             [
              0.8888888888888888,
              "#fdca26"
             ],
             [
              1,
              "#f0f921"
             ]
            ],
            "type": "histogram2d"
           }
          ],
          "histogram2dcontour": [
           {
            "colorbar": {
             "outlinewidth": 0,
             "ticks": ""
            },
            "colorscale": [
             [
              0,
              "#0d0887"
             ],
             [
              0.1111111111111111,
              "#46039f"
             ],
             [
              0.2222222222222222,
              "#7201a8"
             ],
             [
              0.3333333333333333,
              "#9c179e"
             ],
             [
              0.4444444444444444,
              "#bd3786"
             ],
             [
              0.5555555555555556,
              "#d8576b"
             ],
             [
              0.6666666666666666,
              "#ed7953"
             ],
             [
              0.7777777777777778,
              "#fb9f3a"
             ],
             [
              0.8888888888888888,
              "#fdca26"
             ],
             [
              1,
              "#f0f921"
             ]
            ],
            "type": "histogram2dcontour"
           }
          ],
          "mesh3d": [
           {
            "colorbar": {
             "outlinewidth": 0,
             "ticks": ""
            },
            "type": "mesh3d"
           }
          ],
          "parcoords": [
           {
            "line": {
             "colorbar": {
              "outlinewidth": 0,
              "ticks": ""
             }
            },
            "type": "parcoords"
           }
          ],
          "pie": [
           {
            "automargin": true,
            "type": "pie"
           }
          ],
          "scatter": [
           {
            "fillpattern": {
             "fillmode": "overlay",
             "size": 10,
             "solidity": 0.2
            },
            "type": "scatter"
           }
          ],
          "scatter3d": [
           {
            "line": {
             "colorbar": {
              "outlinewidth": 0,
              "ticks": ""
             }
            },
            "marker": {
             "colorbar": {
              "outlinewidth": 0,
              "ticks": ""
             }
            },
            "type": "scatter3d"
           }
          ],
          "scattercarpet": [
           {
            "marker": {
             "colorbar": {
              "outlinewidth": 0,
              "ticks": ""
             }
            },
            "type": "scattercarpet"
           }
          ],
          "scattergeo": [
           {
            "marker": {
             "colorbar": {
              "outlinewidth": 0,
              "ticks": ""
             }
            },
            "type": "scattergeo"
           }
          ],
          "scattergl": [
           {
            "marker": {
             "colorbar": {
              "outlinewidth": 0,
              "ticks": ""
             }
            },
            "type": "scattergl"
           }
          ],
          "scattermapbox": [
           {
            "marker": {
             "colorbar": {
              "outlinewidth": 0,
              "ticks": ""
             }
            },
            "type": "scattermapbox"
           }
          ],
          "scatterpolar": [
           {
            "marker": {
             "colorbar": {
              "outlinewidth": 0,
              "ticks": ""
             }
            },
            "type": "scatterpolar"
           }
          ],
          "scatterpolargl": [
           {
            "marker": {
             "colorbar": {
              "outlinewidth": 0,
              "ticks": ""
             }
            },
            "type": "scatterpolargl"
           }
          ],
          "scatterternary": [
           {
            "marker": {
             "colorbar": {
              "outlinewidth": 0,
              "ticks": ""
             }
            },
            "type": "scatterternary"
           }
          ],
          "surface": [
           {
            "colorbar": {
             "outlinewidth": 0,
             "ticks": ""
            },
            "colorscale": [
             [
              0,
              "#0d0887"
             ],
             [
              0.1111111111111111,
              "#46039f"
             ],
             [
              0.2222222222222222,
              "#7201a8"
             ],
             [
              0.3333333333333333,
              "#9c179e"
             ],
             [
              0.4444444444444444,
              "#bd3786"
             ],
             [
              0.5555555555555556,
              "#d8576b"
             ],
             [
              0.6666666666666666,
              "#ed7953"
             ],
             [
              0.7777777777777778,
              "#fb9f3a"
             ],
             [
              0.8888888888888888,
              "#fdca26"
             ],
             [
              1,
              "#f0f921"
             ]
            ],
            "type": "surface"
           }
          ],
          "table": [
           {
            "cells": {
             "fill": {
              "color": "#EBF0F8"
             },
             "line": {
              "color": "white"
             }
            },
            "header": {
             "fill": {
              "color": "#C8D4E3"
             },
             "line": {
              "color": "white"
             }
            },
            "type": "table"
           }
          ]
         },
         "layout": {
          "annotationdefaults": {
           "arrowcolor": "#2a3f5f",
           "arrowhead": 0,
           "arrowwidth": 1
          },
          "autotypenumbers": "strict",
          "coloraxis": {
           "colorbar": {
            "outlinewidth": 0,
            "ticks": ""
           }
          },
          "colorscale": {
           "diverging": [
            [
             0,
             "#8e0152"
            ],
            [
             0.1,
             "#c51b7d"
            ],
            [
             0.2,
             "#de77ae"
            ],
            [
             0.3,
             "#f1b6da"
            ],
            [
             0.4,
             "#fde0ef"
            ],
            [
             0.5,
             "#f7f7f7"
            ],
            [
             0.6,
             "#e6f5d0"
            ],
            [
             0.7,
             "#b8e186"
            ],
            [
             0.8,
             "#7fbc41"
            ],
            [
             0.9,
             "#4d9221"
            ],
            [
             1,
             "#276419"
            ]
           ],
           "sequential": [
            [
             0,
             "#0d0887"
            ],
            [
             0.1111111111111111,
             "#46039f"
            ],
            [
             0.2222222222222222,
             "#7201a8"
            ],
            [
             0.3333333333333333,
             "#9c179e"
            ],
            [
             0.4444444444444444,
             "#bd3786"
            ],
            [
             0.5555555555555556,
             "#d8576b"
            ],
            [
             0.6666666666666666,
             "#ed7953"
            ],
            [
             0.7777777777777778,
             "#fb9f3a"
            ],
            [
             0.8888888888888888,
             "#fdca26"
            ],
            [
             1,
             "#f0f921"
            ]
           ],
           "sequentialminus": [
            [
             0,
             "#0d0887"
            ],
            [
             0.1111111111111111,
             "#46039f"
            ],
            [
             0.2222222222222222,
             "#7201a8"
            ],
            [
             0.3333333333333333,
             "#9c179e"
            ],
            [
             0.4444444444444444,
             "#bd3786"
            ],
            [
             0.5555555555555556,
             "#d8576b"
            ],
            [
             0.6666666666666666,
             "#ed7953"
            ],
            [
             0.7777777777777778,
             "#fb9f3a"
            ],
            [
             0.8888888888888888,
             "#fdca26"
            ],
            [
             1,
             "#f0f921"
            ]
           ]
          },
          "colorway": [
           "#636efa",
           "#EF553B",
           "#00cc96",
           "#ab63fa",
           "#FFA15A",
           "#19d3f3",
           "#FF6692",
           "#B6E880",
           "#FF97FF",
           "#FECB52"
          ],
          "font": {
           "color": "#2a3f5f"
          },
          "geo": {
           "bgcolor": "white",
           "lakecolor": "white",
           "landcolor": "#E5ECF6",
           "showlakes": true,
           "showland": true,
           "subunitcolor": "white"
          },
          "hoverlabel": {
           "align": "left"
          },
          "hovermode": "closest",
          "mapbox": {
           "style": "light"
          },
          "paper_bgcolor": "white",
          "plot_bgcolor": "#E5ECF6",
          "polar": {
           "angularaxis": {
            "gridcolor": "white",
            "linecolor": "white",
            "ticks": ""
           },
           "bgcolor": "#E5ECF6",
           "radialaxis": {
            "gridcolor": "white",
            "linecolor": "white",
            "ticks": ""
           }
          },
          "scene": {
           "xaxis": {
            "backgroundcolor": "#E5ECF6",
            "gridcolor": "white",
            "gridwidth": 2,
            "linecolor": "white",
            "showbackground": true,
            "ticks": "",
            "zerolinecolor": "white"
           },
           "yaxis": {
            "backgroundcolor": "#E5ECF6",
            "gridcolor": "white",
            "gridwidth": 2,
            "linecolor": "white",
            "showbackground": true,
            "ticks": "",
            "zerolinecolor": "white"
           },
           "zaxis": {
            "backgroundcolor": "#E5ECF6",
            "gridcolor": "white",
            "gridwidth": 2,
            "linecolor": "white",
            "showbackground": true,
            "ticks": "",
            "zerolinecolor": "white"
           }
          },
          "shapedefaults": {
           "line": {
            "color": "#2a3f5f"
           }
          },
          "ternary": {
           "aaxis": {
            "gridcolor": "white",
            "linecolor": "white",
            "ticks": ""
           },
           "baxis": {
            "gridcolor": "white",
            "linecolor": "white",
            "ticks": ""
           },
           "bgcolor": "#E5ECF6",
           "caxis": {
            "gridcolor": "white",
            "linecolor": "white",
            "ticks": ""
           }
          },
          "title": {
           "x": 0.05
          },
          "xaxis": {
           "automargin": true,
           "gridcolor": "white",
           "linecolor": "white",
           "ticks": "",
           "title": {
            "standoff": 15
           },
           "zerolinecolor": "white",
           "zerolinewidth": 2
          },
          "yaxis": {
           "automargin": true,
           "gridcolor": "white",
           "linecolor": "white",
           "ticks": "",
           "title": {
            "standoff": 15
           },
           "zerolinecolor": "white",
           "zerolinewidth": 2
          }
         }
        },
        "title": {
         "text": "z = 5.74 + -2.53 * zcr + -0.01 * f0",
         "x": 0.5,
         "xanchor": "center"
        }
       }
      }
     },
     "metadata": {},
     "output_type": "display_data"
    }
   ],
   "source": [
    "if len(dicc_model) == 2:\n",
    "    import plotly.express as px\n",
    "    import plotly.graph_objects as go\n",
    "\n",
    "    # Seleccionamos solo las características seleccionadas en X\n",
    "    X_selected = X[:, selected_features]\n",
    "\n",
    "    # Entrenamos el modelo de regresión con las características seleccionadas\n",
    "    regr_multivar = LinearRegression()\n",
    "    regr_multivar.fit(X_selected, y)\n",
    "\n",
    "    # Obtenemos las predicciones del modelo para las características seleccionadas\n",
    "    y_pred = regr_multivar.predict(X_selected)\n",
    "\n",
    "    # Crear la figura\n",
    "    fig = px.scatter_3d(x=X_selected[:, 0], y=X_selected[:, 1], z=y)\n",
    "\n",
    "    # Crear el plano de regresión\n",
    "    xx, yy = np.meshgrid(X_selected[:, 0], X_selected[:, 1])\n",
    "    zz = regr_multivar.intercept_ + np.dot(np.array([xx.ravel(), yy.ravel()]).T, regr_multivar.coef_.ravel()).reshape(xx.shape)\n",
    "    fig.add_trace(go.Surface(x=xx, y=yy, z=zz, opacity=0.5))\n",
    "\n",
    "    # Construir la cadena de texto para la ecuación del plano\n",
    "    equation = f'z = {regr_multivar.intercept_.round(2)}'\n",
    "    for i, (key, model) in enumerate(dicc_model.items()):\n",
    "        equation += f' + {regr_multivar.coef_[i].round(2)} * {key.replace(\"_model\", \"\")}'\n",
    "    \n",
    "    # Centrar el título\n",
    "    fig.update_layout(title=dict(text=equation, x=0.5, xanchor='center'))\n",
    "\n",
    "    # Etiquetas de los ejes y rango del eje z\n",
    "    fig.update_layout(scene=dict(xaxis_title=list(dicc_model.keys())[0].replace(\"_model\", \"\"), yaxis_title=list(dicc_model.keys())[1].replace(\"_model\", \"\"), zaxis_title='Inteligibilidad', zaxis=dict(range=[0, 6]), yaxis=dict(tickvals=[100, 105, 110, 115])))\n",
    "\n",
    "    fig.write_html(\n",
    "       os.path.join(PATH, TEST_FOLDER, REGGRESSION_FOLDER, PARAMETRIC_FOLDER, INTELIGIBILIDAD_FOLDER, FEMALE_FOLDER, 'regresion_inteligibilidad_multivariable_female.html')\n",
    "    )\n",
    "\n",
    "    fig.show()\n"
   ]
  },
  {
   "attachments": {},
   "cell_type": "markdown",
   "id": "01a284f3",
   "metadata": {
    "papermill": {
     "duration": 0.115527,
     "end_time": "2023-06-11T01:38:17.368774",
     "exception": false,
     "start_time": "2023-06-11T01:38:17.253247",
     "status": "completed"
    },
    "tags": []
   },
   "source": [
    "### Pronunciacion"
   ]
  },
  {
   "cell_type": "code",
   "execution_count": 126,
   "id": "c79bee73",
   "metadata": {
    "execution": {
     "iopub.execute_input": "2023-06-11T01:38:17.685210Z",
     "iopub.status.busy": "2023-06-11T01:38:17.685210Z",
     "iopub.status.idle": "2023-06-11T01:38:17.708210Z",
     "shell.execute_reply": "2023-06-11T01:38:17.705211Z"
    },
    "papermill": {
     "duration": 0.192,
     "end_time": "2023-06-11T01:38:17.711212",
     "exception": false,
     "start_time": "2023-06-11T01:38:17.519212",
     "status": "completed"
    },
    "tags": []
   },
   "outputs": [],
   "source": [
    "df_pronunciacion = df_union.loc[:, ['Pronunciacion', 'zcr', 'rms', 'f0', 'genero']]"
   ]
  },
  {
   "attachments": {},
   "cell_type": "markdown",
   "id": "d69a3e13",
   "metadata": {
    "papermill": {
     "duration": 0.147861,
     "end_time": "2023-06-11T01:38:18.082069",
     "exception": false,
     "start_time": "2023-06-11T01:38:17.934208",
     "status": "completed"
    },
    "tags": []
   },
   "source": [
    "#### Masculino"
   ]
  },
  {
   "cell_type": "code",
   "execution_count": 127,
   "id": "d4b57b29",
   "metadata": {
    "execution": {
     "iopub.execute_input": "2023-06-11T01:38:18.361510Z",
     "iopub.status.busy": "2023-06-11T01:38:18.361510Z",
     "iopub.status.idle": "2023-06-11T01:38:18.380512Z",
     "shell.execute_reply": "2023-06-11T01:38:18.378516Z"
    },
    "papermill": {
     "duration": 0.148725,
     "end_time": "2023-06-11T01:38:18.384511",
     "exception": false,
     "start_time": "2023-06-11T01:38:18.235786",
     "status": "completed"
    },
    "tags": []
   },
   "outputs": [],
   "source": [
    "# Lista de p-values\n",
    "p_values = []\n",
    "\n",
    "mask_gender = df_pronunciacion.genero == 'masculino'\n",
    "\n",
    "df_pronunciacion_male = df_pronunciacion[mask_gender].drop(columns=['genero'])"
   ]
  },
  {
   "cell_type": "code",
   "execution_count": 128,
   "id": "fd73c492",
   "metadata": {
    "execution": {
     "iopub.execute_input": "2023-06-11T01:38:18.587547Z",
     "iopub.status.busy": "2023-06-11T01:38:18.587547Z",
     "iopub.status.idle": "2023-06-11T01:38:18.653881Z",
     "shell.execute_reply": "2023-06-11T01:38:18.652270Z"
    },
    "papermill": {
     "duration": 0.171383,
     "end_time": "2023-06-11T01:38:18.656890",
     "exception": false,
     "start_time": "2023-06-11T01:38:18.485507",
     "status": "completed"
    },
    "tags": []
   },
   "outputs": [
    {
     "name": "stdout",
     "output_type": "stream",
     "text": [
      "Características seleccionadas: (0, 1)\n",
      "Característica ZCR: p-valor = 0.0023\n",
      "Característica RMS: p-valor = 0.0124\n",
      "Característica f0: p-valor = 0.1186\n"
     ]
    }
   ],
   "source": [
    "# Cargamos los datos\n",
    "X = np.array(df_pronunciacion_male.drop(columns=['Pronunciacion'])) # df_objetivos es el DataFrame con los parámetros objetivos\n",
    "y = np.array(df_pronunciacion_male.Pronunciacion) # df_subjetivos es el DataFrame con los parámetros subjetivos\n",
    "\n",
    "# Creamos el modelo de regresión lineal\n",
    "regr_multivar = LinearRegression()\n",
    "\n",
    "# Creamos el selector de características hacia adelante\n",
    "forward_selector = SequentialFeatureSelector(regr_multivar, k_features='best', forward=True, scoring='neg_mean_squared_error')\n",
    "\n",
    "# Entrenamos el selector de características\n",
    "forward_selector.fit(X, y)\n",
    "\n",
    "# Obtenemos las características seleccionadas\n",
    "selected_features = forward_selector.k_feature_idx_\n",
    "\n",
    "# Imprimimos las características seleccionadas\n",
    "print('Características seleccionadas:', selected_features)\n",
    "\n",
    "# Agregamos una columna de unos para representar el término de intercepción\n",
    "X2 = sm.add_constant(X)\n",
    "\n",
    "# Creamos el modelo OLS (mínimos cuadrados ordinarios) y lo ajustamos a los datos\n",
    "model = sm.OLS(y, X2)\n",
    "results = model.fit()\n",
    "\n",
    "# Imprimimos los p-valores para cada característica seleccionada\n",
    "for feature, pvalue in zip(list(range(X.shape[1])), results.pvalues[1:]):\n",
    "\n",
    "    if feature == 0:\n",
    "        feature = 'ZCR'\n",
    "    elif feature == 1:\n",
    "        feature = 'RMS'\n",
    "    else:\n",
    "        feature = 'f0'\n",
    "    \n",
    "    print(f'Característica {feature}: p-valor = {pvalue:.4f}')\n",
    "\n",
    "    p_values.append(pvalue)\n",
    "    dicc_p_value[feature].append(pvalue)\n",
    "\n",
    "dicc_p_value['subjetive_parameter'].append('Pronunciación')\n",
    "dicc_p_value['genero'].append('masculino')\n",
    "dicc_p_value['selected_features'].append(list(selected_features))\n"
   ]
  },
  {
   "cell_type": "code",
   "execution_count": 129,
   "id": "b05df180",
   "metadata": {
    "execution": {
     "iopub.execute_input": "2023-06-11T01:38:45.821326Z",
     "iopub.status.busy": "2023-06-11T01:38:45.821326Z",
     "iopub.status.idle": "2023-06-11T01:38:45.837154Z",
     "shell.execute_reply": "2023-06-11T01:38:45.837154Z"
    },
    "papermill": {
     "duration": 0.119759,
     "end_time": "2023-06-11T01:38:45.837154",
     "exception": false,
     "start_time": "2023-06-11T01:38:45.717395",
     "status": "completed"
    },
    "tags": []
   },
   "outputs": [],
   "source": [
    "# Dicc auxiliar con los nombres asociadas a las variables\n",
    "dicc_names_features = {\n",
    "    'zcr_model': 0,\n",
    "    'rms_model': 1,\n",
    "    'f0_model': 2\n",
    "}\n",
    "\n",
    "# Dicc de los modelos\n",
    "dicc_model = {}\n",
    "\n",
    "# Dicc de las predicciones\n",
    "dicc_pred = {}\n",
    "\n",
    "for selected_feature in selected_features:\n",
    "    # Entrenamos el modelo de regresión con las características seleccionadas\n",
    "    regr_multivar = LinearRegression()\n",
    "    regr_multivar.fit(X[:, selected_feature].reshape(-1, 1), y.ravel())\n",
    "\n",
    "    # Almacenamos en dicc_model la clave asociada al modelo que se entrenó y el objeto modelo\n",
    "    for key, value in dicc_names_features.items():\n",
    "        if value == selected_feature:\n",
    "            dicc_model[key] = regr_multivar\n",
    "\n",
    "    # Obtenemos las predicciones del modelo para las características seleccionadas\n",
    "    y_pred = regr_multivar.predict(X[:, selected_feature].reshape(-1, 1))\n",
    "\n",
    "    # Almacenamos en dicc_pred la clave asociada al modelo que se entrenó y la predicción\n",
    "    for key, value in dicc_names_features.items():\n",
    "        if value == selected_feature:\n",
    "            dicc_pred[key] = y_pred\n"
   ]
  },
  {
   "cell_type": "code",
   "execution_count": 130,
   "id": "23fa11c2",
   "metadata": {
    "execution": {
     "iopub.execute_input": "2023-06-11T01:38:46.006577Z",
     "iopub.status.busy": "2023-06-11T01:38:46.006577Z",
     "iopub.status.idle": "2023-06-11T01:38:46.055505Z",
     "shell.execute_reply": "2023-06-11T01:38:46.053473Z"
    },
    "papermill": {
     "duration": 0.144389,
     "end_time": "2023-06-11T01:38:46.059507",
     "exception": false,
     "start_time": "2023-06-11T01:38:45.915118",
     "status": "completed"
    },
    "tags": []
   },
   "outputs": [
    {
     "name": "stdout",
     "output_type": "stream",
     "text": [
      "y = -3.26 * ZCR + 4.86 - p-valor = 0.002\n",
      "y = 0.07 * RMS + 5.83 - p-valor = 0.012\n"
     ]
    }
   ],
   "source": [
    "list_equ = []\n",
    "\n",
    "for key, model in dicc_model.items():\n",
    "    # Obtenemos los valores de w y b\n",
    "    w = model.coef_[0]\n",
    "    b = model.intercept_\n",
    "    \n",
    "    label = key.replace(\"_model\", \"\")\n",
    "    if label == 'f0':\n",
    "        label = r'$f_{0}$'\n",
    "    else:\n",
    "        label = label.upper()\n",
    "\n",
    "    # Construimos la cadena de texto para la ecuación del hiperplano y su p-valor\n",
    "    equation = f'y = {w:.2f} * {label} + {b:.2f} - p-valor = {p_values[dicc_names_features[key]]:.3f}'\n",
    "\n",
    "    # Agregamos la cadena a la lista\n",
    "    list_equ.append(equation)\n",
    "\n",
    "# Mostramos el resultado\n",
    "for equ in list_equ:\n",
    "    print(equ)\n"
   ]
  },
  {
   "cell_type": "code",
   "execution_count": 131,
   "id": "3bc8172b",
   "metadata": {
    "execution": {
     "iopub.execute_input": "2023-06-11T01:38:46.281510Z",
     "iopub.status.busy": "2023-06-11T01:38:46.280509Z",
     "iopub.status.idle": "2023-06-11T01:38:46.826377Z",
     "shell.execute_reply": "2023-06-11T01:38:46.824452Z"
    },
    "papermill": {
     "duration": 0.658851,
     "end_time": "2023-06-11T01:38:46.828391",
     "exception": false,
     "start_time": "2023-06-11T01:38:46.169540",
     "status": "completed"
    },
    "tags": []
   },
   "outputs": [
    {
     "data": {
      "image/png": "[encoded data removed]",
      "text/plain": [
       "<Figure size 1200x400 with 2 Axes>"
      ]
     },
     "metadata": {},
     "output_type": "display_data"
    }
   ],
   "source": [
    "dims = (6 * len(dicc_model), 4)\n",
    "fig, ax = plt.subplots(figsize=dims, ncols=len(dicc_model))\n",
    "\n",
    "with sns.axes_style('darkgrid'):\n",
    "    for i, (key, model) in enumerate(dicc_model.items()):\n",
    "        if isinstance(ax, np.ndarray):\n",
    "            ax_i = ax[i]\n",
    "        else:\n",
    "            ax_i = ax\n",
    "        label = key.replace(\"_model\", \"\")\n",
    "        if label == 'f0':\n",
    "            label = r'$f_{0}$'\n",
    "        else:\n",
    "            label = label.upper()\n",
    "        g = sns.scatterplot(x=X[:, dicc_names_features[key]], y=y, ax=ax_i, color='blue')\n",
    "        g = sns.lineplot(x=X[:, dicc_names_features[key]], y=dicc_pred[key], ax=ax_i, color='red')\n",
    "        g.text(0.5, -0.1, label, weight='bold', size='large', family='Arial', stretch='extra-expanded', ha='center', va='top', transform=g.transAxes)\n",
    "        g.set_ylabel('Pronunciación', weight='bold', size='large', alpha=0.8, family='Arial', stretch='extra-expanded')\n",
    "        g.set_title(list_equ[i], weight='bold', size='x-large', alpha=0.8, family='Arial', stretch='extra-expanded')\n",
    "        g.grid(alpha=0.7)\n",
    "        ax_i.set_ylim(0, 6)\n",
    "\n",
    "    plt.tight_layout()\n",
    "    plt.savefig(os.path.join(PATH, TEST_FOLDER, REGGRESSION_FOLDER, PARAMETRIC_FOLDER, PRONUNCIACION_FOLDER, MALE_FOLDER, 'regresiones_pronunciacion_male.png'))\n",
    "    plt.show()\n"
   ]
  },
  {
   "cell_type": "code",
   "execution_count": 132,
   "id": "f8c0179b",
   "metadata": {
    "execution": {
     "iopub.execute_input": "2023-06-11T01:38:47.024353Z",
     "iopub.status.busy": "2023-06-11T01:38:47.022358Z",
     "iopub.status.idle": "2023-06-11T01:38:47.055399Z",
     "shell.execute_reply": "2023-06-11T01:38:47.055399Z"
    },
    "papermill": {
     "duration": 0.132041,
     "end_time": "2023-06-11T01:38:47.055399",
     "exception": false,
     "start_time": "2023-06-11T01:38:46.923358",
     "status": "completed"
    },
    "tags": []
   },
   "outputs": [
    {
     "data": {
      "application/vnd.plotly.v1+json": {
       "config": {
        "plotlyServerURL": "https://plot.ly"
       },
       "data": [
        {
         "hovertemplate": "x=%{x}<br>y=%{y}<br>z=%{z}<extra></extra>",
         "legendgroup": "",
         "marker": {
          "color": "#636efa",
          "symbol": "circle"
         },
         "mode": "markers",
         "name": "",
         "scene": "scene",
         "showlegend": false,
         "type": "scatter3d",
         "x": [
          0.0980514874287459,
          0.25162586573765,
          0.239188283778317,
          0.105458211555755,
          0.185066881409123,
          0.137448537263939,
          0.239843081121575,
          0.142275783668731,
          0.172730672751451,
          0.0930430482665395
         ],
         "y": [
          -22,
          -25,
          -24,
          -21.5,
          -23.5,
          -21,
          -24.5,
          -20.5,
          -23,
          -22.5
         ],
         "z": [
          4.636363636363637,
          3.914893617021277,
          4.098039215686274,
          4.482142857142857,
          4.518518518518518,
          4.2,
          4.127659574468085,
          4.181818181818182,
          4.333333333333333,
          4.642857142857143
         ]
        },
        {
         "opacity": 0.5,
         "type": "surface",
         "x": [
          [
           0.0980514874287459,
           0.25162586573765,
           0.239188283778317,
           0.105458211555755,
           0.185066881409123,
           0.137448537263939,
           0.239843081121575,
           0.142275783668731,
           0.172730672751451,
           0.0930430482665395
          ],
          [
           0.0980514874287459,
           0.25162586573765,
           0.239188283778317,
           0.105458211555755,
           0.185066881409123,
           0.137448537263939,
           0.239843081121575,
           0.142275783668731,
           0.172730672751451,
           0.0930430482665395
          ],
          [
           0.0980514874287459,
           0.25162586573765,
           0.239188283778317,
           0.105458211555755,
           0.185066881409123,
           0.137448537263939,
           0.239843081121575,
           0.142275783668731,
           0.172730672751451,
           0.0930430482665395
          ],
          [
           0.0980514874287459,
           0.25162586573765,
           0.239188283778317,
           0.105458211555755,
           0.185066881409123,
           0.137448537263939,
           0.239843081121575,
           0.142275783668731,
           0.172730672751451,
           0.0930430482665395
          ],
          [
           0.0980514874287459,
           0.25162586573765,
           0.239188283778317,
           0.105458211555755,
           0.185066881409123,
           0.137448537263939,
           0.239843081121575,
           0.142275783668731,
           0.172730672751451,
           0.0930430482665395
          ],
          [
           0.0980514874287459,
           0.25162586573765,
           0.239188283778317,
           0.105458211555755,
           0.185066881409123,
           0.137448537263939,
           0.239843081121575,
           0.142275783668731,
           0.172730672751451,
           0.0930430482665395
          ],
          [
           0.0980514874287459,
           0.25162586573765,
           0.239188283778317,
           0.105458211555755,
           0.185066881409123,
           0.137448537263939,
           0.239843081121575,
           0.142275783668731,
           0.172730672751451,
           0.0930430482665395
          ],
          [
           0.0980514874287459,
           0.25162586573765,
           0.239188283778317,
           0.105458211555755,
           0.185066881409123,
           0.137448537263939,
           0.239843081121575,
           0.142275783668731,
           0.172730672751451,
           0.0930430482665395
          ],
          [
           0.0980514874287459,
           0.25162586573765,
           0.239188283778317,
           0.105458211555755,
           0.185066881409123,
           0.137448537263939,
           0.239843081121575,
           0.142275783668731,
           0.172730672751451,
           0.0930430482665395
          ],
          [
           0.0980514874287459,
           0.25162586573765,
           0.239188283778317,
           0.105458211555755,
           0.185066881409123,
           0.137448537263939,
           0.239843081121575,
           0.142275783668731,
           0.172730672751451,
           0.0930430482665395
          ]
         ],
         "y": [
          [
           -22,
           -22,
           -22,
           -22,
           -22,
           -22,
           -22,
           -22,
           -22,
           -22
          ],
          [
           -25,
           -25,
           -25,
           -25,
           -25,
           -25,
           -25,
           -25,
           -25,
           -25
          ],
          [
           -24,
           -24,
           -24,
           -24,
           -24,
           -24,
           -24,
           -24,
           -24,
           -24
          ],
          [
           -21.5,
           -21.5,
           -21.5,
           -21.5,
           -21.5,
           -21.5,
           -21.5,
           -21.5,
           -21.5,
           -21.5
          ],
          [
           -23.5,
           -23.5,
           -23.5,
           -23.5,
           -23.5,
           -23.5,
           -23.5,
           -23.5,
           -23.5,
           -23.5
          ],
          [
           -21,
           -21,
           -21,
           -21,
           -21,
           -21,
           -21,
           -21,
           -21,
           -21
          ],
          [
           -24.5,
           -24.5,
           -24.5,
           -24.5,
           -24.5,
           -24.5,
           -24.5,
           -24.5,
           -24.5,
           -24.5
          ],
          [
           -20.5,
           -20.5,
           -20.5,
           -20.5,
           -20.5,
           -20.5,
           -20.5,
           -20.5,
           -20.5,
           -20.5
          ],
          [
           -23,
           -23,
           -23,
           -23,
           -23,
           -23,
           -23,
           -23,
           -23,
           -23
          ],
          [
           -22.5,
           -22.5,
           -22.5,
           -22.5,
           -22.5,
           -22.5,
           -22.5,
           -22.5,
           -22.5,
           -22.5
          ]
         ],
         "z": [
          [
           4.613209162105328,
           3.737289087770952,
           3.8082275335867357,
           4.570964495909418,
           4.11691198543554,
           4.388505880215521,
           3.804492860238901,
           4.360973409784738,
           4.187272242943456,
           4.641775075583648
          ],
          [
           4.975610899559355,
           4.099690825224979,
           4.170629271040763,
           4.9333662333634445,
           4.479313722889567,
           4.750907617669547,
           4.166894597692928,
           4.723375147238765,
           4.549673980397483,
           5.004176813037675
          ],
          [
           4.854810320408012,
           3.978890246073637,
           4.04982869188942,
           4.8125656542121025,
           4.358513143738225,
           4.630107038518206,
           4.046094018541586,
           4.602574568087423,
           4.42887340124614,
           4.883376233886333
          ],
          [
           4.552808872529656,
           3.6768887981952814,
           3.7478272440110647,
           4.510564206333747,
           4.05651169585987,
           4.32810559063985,
           3.74409257066323,
           4.300573120209068,
           4.126871953367784,
           4.581374786007977
          ],
          [
           4.79441003083234,
           3.9184899564979654,
           3.989428402313749,
           4.752165364636431,
           4.298112854162554,
           4.569706748942535,
           3.9856937289659147,
           4.542174278511752,
           4.368473111670468,
           4.822975944310661
          ],
          [
           4.492408582953985,
           3.61648850861961,
           3.6874269544353937,
           4.4501639167580755,
           3.9961114062841983,
           4.267705301064179,
           3.683692281087559,
           4.240172830633396,
           4.066471663792113,
           4.520974496432306
          ],
          [
           4.915210609983683,
           4.039290535649307,
           4.110228981465092,
           4.872965943787773,
           4.418913433313896,
           4.690507328093876,
           4.106494308117257,
           4.662974857663094,
           4.489273690821811,
           4.943776523462003
          ],
          [
           4.432008293378314,
           3.5560882190439393,
           3.6270266648597227,
           4.389763627182404,
           3.9357111167085277,
           4.207305011488508,
           3.623291991511888,
           4.179772541057725,
           4.006071374216442,
           4.460574206856634
          ],
          [
           4.73400974125667,
           3.858089666922295,
           3.929028112738078,
           4.69176507506076,
           4.237712564586883,
           4.509306459366863,
           3.9252934393902437,
           4.48177398893608,
           4.308072822094798,
           4.76257565473499
          ],
          [
           4.673609451680999,
           3.7976893773466234,
           3.868627823162407,
           4.631364785485089,
           4.177312275011212,
           4.448906169791193,
           3.8648931498145727,
           4.42137369936041,
           4.247672532519127,
           4.702175365159319
          ]
         ]
        }
       ],
       "layout": {
        "legend": {
         "tracegroupgap": 0
        },
        "margin": {
         "t": 60
        },
        "scene": {
         "domain": {
          "x": [
           0,
           1
          ],
          "y": [
           0,
           1
          ]
         },
         "xaxis": {
          "title": {
           "text": "zcr"
          }
         },
         "yaxis": {
          "tickvals": [
           -24,
           -23,
           -22,
           -21
          ],
          "title": {
           "text": "rms"
          }
         },
         "zaxis": {
          "range": [
           0,
           6
          ],
          "title": {
           "text": "Pronunciación"
          }
         }
        },
        "template": {
         "data": {
          "bar": [
           {
            "error_x": {
             "color": "#2a3f5f"
            },
            "error_y": {
             "color": "#2a3f5f"
            },
            "marker": {
             "line": {
              "color": "#E5ECF6",
              "width": 0.5
             },
             "pattern": {
              "fillmode": "overlay",
              "size": 10,
              "solidity": 0.2
             }
            },
            "type": "bar"
           }
          ],
          "barpolar": [
           {
            "marker": {
             "line": {
              "color": "#E5ECF6",
              "width": 0.5
             },
             "pattern": {
              "fillmode": "overlay",
              "size": 10,
              "solidity": 0.2
             }
            },
            "type": "barpolar"
           }
          ],
          "carpet": [
           {
            "aaxis": {
             "endlinecolor": "#2a3f5f",
             "gridcolor": "white",
             "linecolor": "white",
             "minorgridcolor": "white",
             "startlinecolor": "#2a3f5f"
            },
            "baxis": {
             "endlinecolor": "#2a3f5f",
             "gridcolor": "white",
             "linecolor": "white",
             "minorgridcolor": "white",
             "startlinecolor": "#2a3f5f"
            },
            "type": "carpet"
           }
          ],
          "choropleth": [
           {
            "colorbar": {
             "outlinewidth": 0,
             "ticks": ""
            },
            "type": "choropleth"
           }
          ],
          "contour": [
           {
            "colorbar": {
             "outlinewidth": 0,
             "ticks": ""
            },
            "colorscale": [
             [
              0,
              "#0d0887"
             ],
             [
              0.1111111111111111,
              "#46039f"
             ],
             [
              0.2222222222222222,
              "#7201a8"
             ],
             [
              0.3333333333333333,
              "#9c179e"
             ],
             [
              0.4444444444444444,
              "#bd3786"
             ],
             [
              0.5555555555555556,
              "#d8576b"
             ],
             [
              0.6666666666666666,
              "#ed7953"
             ],
             [
              0.7777777777777778,
              "#fb9f3a"
             ],
             [
              0.8888888888888888,
              "#fdca26"
             ],
             [
              1,
              "#f0f921"
             ]
            ],
            "type": "contour"
           }
          ],
          "contourcarpet": [
           {
            "colorbar": {
             "outlinewidth": 0,
             "ticks": ""
            },
            "type": "contourcarpet"
           }
          ],
          "heatmap": [
           {
            "colorbar": {
             "outlinewidth": 0,
             "ticks": ""
            },
            "colorscale": [
             [
              0,
              "#0d0887"
             ],
             [
              0.1111111111111111,
              "#46039f"
             ],
             [
              0.2222222222222222,
              "#7201a8"
             ],
             [
              0.3333333333333333,
              "#9c179e"
             ],
             [
              0.4444444444444444,
              "#bd3786"
             ],
             [
              0.5555555555555556,
              "#d8576b"
             ],
             [
              0.6666666666666666,
              "#ed7953"
             ],
             [
              0.7777777777777778,
              "#fb9f3a"
             ],
             [
              0.8888888888888888,
              "#fdca26"
             ],
             [
              1,
              "#f0f921"
             ]
            ],
            "type": "heatmap"
           }
          ],
          "heatmapgl": [
           {
            "colorbar": {
             "outlinewidth": 0,
             "ticks": ""
            },
            "colorscale": [
             [
              0,
              "#0d0887"
             ],
             [
              0.1111111111111111,
              "#46039f"
             ],
             [
              0.2222222222222222,
              "#7201a8"
             ],
             [
              0.3333333333333333,
              "#9c179e"
             ],
             [
              0.4444444444444444,
              "#bd3786"
             ],
             [
              0.5555555555555556,
              "#d8576b"
             ],
             [
              0.6666666666666666,
              "#ed7953"
             ],
             [
              0.7777777777777778,
              "#fb9f3a"
             ],
             [
              0.8888888888888888,
              "#fdca26"
             ],
             [
              1,
              "#f0f921"
             ]
            ],
            "type": "heatmapgl"
           }
          ],
          "histogram": [
           {
            "marker": {
             "pattern": {
              "fillmode": "overlay",
              "size": 10,
              "solidity": 0.2
             }
            },
            "type": "histogram"
           }
          ],
          "histogram2d": [
           {
            "colorbar": {
             "outlinewidth": 0,
             "ticks": ""
            },
            "colorscale": [
             [
              0,
              "#0d0887"
             ],
             [
              0.1111111111111111,
              "#46039f"
             ],
             [
              0.2222222222222222,
              "#7201a8"
             ],
             [
              0.3333333333333333,
              "#9c179e"
             ],
             [
              0.4444444444444444,
              "#bd3786"
             ],
             [
              0.5555555555555556,
              "#d8576b"
             ],
             [
              0.6666666666666666,
              "#ed7953"
             ],
             [
              0.7777777777777778,
              "#fb9f3a"
             ],
             [
              0.8888888888888888,
              "#fdca26"
             ],
             [
              1,
              "#f0f921"
             ]
            ],
            "type": "histogram2d"
           }
          ],
          "histogram2dcontour": [
           {
            "colorbar": {
             "outlinewidth": 0,
             "ticks": ""
            },
            "colorscale": [
             [
              0,
              "#0d0887"
             ],
             [
              0.1111111111111111,
              "#46039f"
             ],
             [
              0.2222222222222222,
              "#7201a8"
             ],
             [
              0.3333333333333333,
              "#9c179e"
             ],
             [
              0.4444444444444444,
              "#bd3786"
             ],
             [
              0.5555555555555556,
              "#d8576b"
             ],
             [
              0.6666666666666666,
              "#ed7953"
             ],
             [
              0.7777777777777778,
              "#fb9f3a"
             ],
             [
              0.8888888888888888,
              "#fdca26"
             ],
             [
              1,
              "#f0f921"
             ]
            ],
            "type": "histogram2dcontour"
           }
          ],
          "mesh3d": [
           {
            "colorbar": {
             "outlinewidth": 0,
             "ticks": ""
            },
            "type": "mesh3d"
           }
          ],
          "parcoords": [
           {
            "line": {
             "colorbar": {
              "outlinewidth": 0,
              "ticks": ""
             }
            },
            "type": "parcoords"
           }
          ],
          "pie": [
           {
            "automargin": true,
            "type": "pie"
           }
          ],
          "scatter": [
           {
            "fillpattern": {
             "fillmode": "overlay",
             "size": 10,
             "solidity": 0.2
            },
            "type": "scatter"
           }
          ],
          "scatter3d": [
           {
            "line": {
             "colorbar": {
              "outlinewidth": 0,
              "ticks": ""
             }
            },
            "marker": {
             "colorbar": {
              "outlinewidth": 0,
              "ticks": ""
             }
            },
            "type": "scatter3d"
           }
          ],
          "scattercarpet": [
           {
            "marker": {
             "colorbar": {
              "outlinewidth": 0,
              "ticks": ""
             }
            },
            "type": "scattercarpet"
           }
          ],
          "scattergeo": [
           {
            "marker": {
             "colorbar": {
              "outlinewidth": 0,
              "ticks": ""
             }
            },
            "type": "scattergeo"
           }
          ],
          "scattergl": [
           {
            "marker": {
             "colorbar": {
              "outlinewidth": 0,
              "ticks": ""
             }
            },
            "type": "scattergl"
           }
          ],
          "scattermapbox": [
           {
            "marker": {
             "colorbar": {
              "outlinewidth": 0,
              "ticks": ""
             }
            },
            "type": "scattermapbox"
           }
          ],
          "scatterpolar": [
           {
            "marker": {
             "colorbar": {
              "outlinewidth": 0,
              "ticks": ""
             }
            },
            "type": "scatterpolar"
           }
          ],
          "scatterpolargl": [
           {
            "marker": {
             "colorbar": {
              "outlinewidth": 0,
              "ticks": ""
             }
            },
            "type": "scatterpolargl"
           }
          ],
          "scatterternary": [
           {
            "marker": {
             "colorbar": {
              "outlinewidth": 0,
              "ticks": ""
             }
            },
            "type": "scatterternary"
           }
          ],
          "surface": [
           {
            "colorbar": {
             "outlinewidth": 0,
             "ticks": ""
            },
            "colorscale": [
             [
              0,
              "#0d0887"
             ],
             [
              0.1111111111111111,
              "#46039f"
             ],
             [
              0.2222222222222222,
              "#7201a8"
             ],
             [
              0.3333333333333333,
              "#9c179e"
             ],
             [
              0.4444444444444444,
              "#bd3786"
             ],
             [
              0.5555555555555556,
              "#d8576b"
             ],
             [
              0.6666666666666666,
              "#ed7953"
             ],
             [
              0.7777777777777778,
              "#fb9f3a"
             ],
             [
              0.8888888888888888,
              "#fdca26"
             ],
             [
              1,
              "#f0f921"
             ]
            ],
            "type": "surface"
           }
          ],
          "table": [
           {
            "cells": {
             "fill": {
              "color": "#EBF0F8"
             },
             "line": {
              "color": "white"
             }
            },
            "header": {
             "fill": {
              "color": "#C8D4E3"
             },
             "line": {
              "color": "white"
             }
            },
            "type": "table"
           }
          ]
         },
         "layout": {
          "annotationdefaults": {
           "arrowcolor": "#2a3f5f",
           "arrowhead": 0,
           "arrowwidth": 1
          },
          "autotypenumbers": "strict",
          "coloraxis": {
           "colorbar": {
            "outlinewidth": 0,
            "ticks": ""
           }
          },
          "colorscale": {
           "diverging": [
            [
             0,
             "#8e0152"
            ],
            [
             0.1,
             "#c51b7d"
            ],
            [
             0.2,
             "#de77ae"
            ],
            [
             0.3,
             "#f1b6da"
            ],
            [
             0.4,
             "#fde0ef"
            ],
            [
             0.5,
             "#f7f7f7"
            ],
            [
             0.6,
             "#e6f5d0"
            ],
            [
             0.7,
             "#b8e186"
            ],
            [
             0.8,
             "#7fbc41"
            ],
            [
             0.9,
             "#4d9221"
            ],
            [
             1,
             "#276419"
            ]
           ],
           "sequential": [
            [
             0,
             "#0d0887"
            ],
            [
             0.1111111111111111,
             "#46039f"
            ],
            [
             0.2222222222222222,
             "#7201a8"
            ],
            [
             0.3333333333333333,
             "#9c179e"
            ],
            [
             0.4444444444444444,
             "#bd3786"
            ],
            [
             0.5555555555555556,
             "#d8576b"
            ],
            [
             0.6666666666666666,
             "#ed7953"
            ],
            [
             0.7777777777777778,
             "#fb9f3a"
            ],
            [
             0.8888888888888888,
             "#fdca26"
            ],
            [
             1,
             "#f0f921"
            ]
           ],
           "sequentialminus": [
            [
             0,
             "#0d0887"
            ],
            [
             0.1111111111111111,
             "#46039f"
            ],
            [
             0.2222222222222222,
             "#7201a8"
            ],
            [
             0.3333333333333333,
             "#9c179e"
            ],
            [
             0.4444444444444444,
             "#bd3786"
            ],
            [
             0.5555555555555556,
             "#d8576b"
            ],
            [
             0.6666666666666666,
             "#ed7953"
            ],
            [
             0.7777777777777778,
             "#fb9f3a"
            ],
            [
             0.8888888888888888,
             "#fdca26"
            ],
            [
             1,
             "#f0f921"
            ]
           ]
          },
          "colorway": [
           "#636efa",
           "#EF553B",
           "#00cc96",
           "#ab63fa",
           "#FFA15A",
           "#19d3f3",
           "#FF6692",
           "#B6E880",
           "#FF97FF",
           "#FECB52"
          ],
          "font": {
           "color": "#2a3f5f"
          },
          "geo": {
           "bgcolor": "white",
           "lakecolor": "white",
           "landcolor": "#E5ECF6",
           "showlakes": true,
           "showland": true,
           "subunitcolor": "white"
          },
          "hoverlabel": {
           "align": "left"
          },
          "hovermode": "closest",
          "mapbox": {
           "style": "light"
          },
          "paper_bgcolor": "white",
          "plot_bgcolor": "#E5ECF6",
          "polar": {
           "angularaxis": {
            "gridcolor": "white",
            "linecolor": "white",
            "ticks": ""
           },
           "bgcolor": "#E5ECF6",
           "radialaxis": {
            "gridcolor": "white",
            "linecolor": "white",
            "ticks": ""
           }
          },
          "scene": {
           "xaxis": {
            "backgroundcolor": "#E5ECF6",
            "gridcolor": "white",
            "gridwidth": 2,
            "linecolor": "white",
            "showbackground": true,
            "ticks": "",
            "zerolinecolor": "white"
           },
           "yaxis": {
            "backgroundcolor": "#E5ECF6",
            "gridcolor": "white",
            "gridwidth": 2,
            "linecolor": "white",
            "showbackground": true,
            "ticks": "",
            "zerolinecolor": "white"
           },
           "zaxis": {
            "backgroundcolor": "#E5ECF6",
            "gridcolor": "white",
            "gridwidth": 2,
            "linecolor": "white",
            "showbackground": true,
            "ticks": "",
            "zerolinecolor": "white"
           }
          },
          "shapedefaults": {
           "line": {
            "color": "#2a3f5f"
           }
          },
          "ternary": {
           "aaxis": {
            "gridcolor": "white",
            "linecolor": "white",
            "ticks": ""
           },
           "baxis": {
            "gridcolor": "white",
            "linecolor": "white",
            "ticks": ""
           },
           "bgcolor": "#E5ECF6",
           "caxis": {
            "gridcolor": "white",
            "linecolor": "white",
            "ticks": ""
           }
          },
          "title": {
           "x": 0.05
          },
          "xaxis": {
           "automargin": true,
           "gridcolor": "white",
           "linecolor": "white",
           "ticks": "",
           "title": {
            "standoff": 15
           },
           "zerolinecolor": "white",
           "zerolinewidth": 2
          },
          "yaxis": {
           "automargin": true,
           "gridcolor": "white",
           "linecolor": "white",
           "ticks": "",
           "title": {
            "standoff": 15
           },
           "zerolinecolor": "white",
           "zerolinewidth": 2
          }
         }
        },
        "title": {
         "text": "z = 2.51 + -5.7 * zcr + -0.12 * rms",
         "x": 0.5,
         "xanchor": "center"
        }
       }
      }
     },
     "metadata": {},
     "output_type": "display_data"
    }
   ],
   "source": [
    "if len(dicc_model) == 2:\n",
    "    import plotly.express as px\n",
    "    import plotly.graph_objects as go\n",
    "\n",
    "    # Seleccionamos solo las características seleccionadas en X\n",
    "    X_selected = X[:, selected_features]\n",
    "\n",
    "    # Entrenamos el modelo de regresión con las características seleccionadas\n",
    "    regr_multivar = LinearRegression()\n",
    "    regr_multivar.fit(X_selected, y)\n",
    "\n",
    "    # Obtenemos las predicciones del modelo para las características seleccionadas\n",
    "    y_pred = regr_multivar.predict(X_selected)\n",
    "\n",
    "    # Crear la figura\n",
    "    fig = px.scatter_3d(x=X_selected[:, 0], y=X_selected[:, 1], z=y)\n",
    "\n",
    "    # Crear el plano de regresión\n",
    "    xx, yy = np.meshgrid(X_selected[:, 0], X_selected[:, 1])\n",
    "    zz = regr_multivar.intercept_ + np.dot(np.array([xx.ravel(), yy.ravel()]).T, regr_multivar.coef_.ravel()).reshape(xx.shape)\n",
    "    fig.add_trace(go.Surface(x=xx, y=yy, z=zz, opacity=0.5))\n",
    "\n",
    "    # Construir la cadena de texto para la ecuación del plano\n",
    "    equation = f'z = {regr_multivar.intercept_.round(2)}'\n",
    "    for i, (key, model) in enumerate(dicc_model.items()):\n",
    "        equation += f' + {regr_multivar.coef_[i].round(2)} * {key.replace(\"_model\", \"\")}'\n",
    "    \n",
    "    # Centrar el título\n",
    "    fig.update_layout(title=dict(text=equation, x=0.5, xanchor='center'))\n",
    "\n",
    "    # Etiquetas de los ejes y rango del eje z\n",
    "    fig.update_layout(scene=dict(xaxis_title=list(dicc_model.keys())[0].replace(\"_model\", \"\"), yaxis_title=list(dicc_model.keys())[1].replace(\"_model\", \"\"), zaxis_title='Pronunciación', zaxis=dict(range=[0, 6]), yaxis=dict(tickvals=[-24, -23, -22, -21])))\n",
    "\n",
    "    fig.write_html(\n",
    "       os.path.join(PATH, TEST_FOLDER, REGGRESSION_FOLDER, PARAMETRIC_FOLDER, PRONUNCIACION_FOLDER, MALE_FOLDER, 'regresion_pronunciacion_multivariable_male.html')\n",
    "    )\n",
    "\n",
    "    fig.show()\n"
   ]
  },
  {
   "attachments": {},
   "cell_type": "markdown",
   "id": "3789acd6",
   "metadata": {
    "papermill": {
     "duration": 0.110001,
     "end_time": "2023-06-11T01:38:47.254045",
     "exception": false,
     "start_time": "2023-06-11T01:38:47.144044",
     "status": "completed"
    },
    "tags": []
   },
   "source": [
    "#### Femenino"
   ]
  },
  {
   "cell_type": "code",
   "execution_count": 133,
   "id": "e45ae228",
   "metadata": {
    "execution": {
     "iopub.execute_input": "2023-06-11T01:38:47.594799Z",
     "iopub.status.busy": "2023-06-11T01:38:47.594799Z",
     "iopub.status.idle": "2023-06-11T01:38:47.608337Z",
     "shell.execute_reply": "2023-06-11T01:38:47.603800Z"
    },
    "papermill": {
     "duration": 0.191223,
     "end_time": "2023-06-11T01:38:47.612330",
     "exception": false,
     "start_time": "2023-06-11T01:38:47.421107",
     "status": "completed"
    },
    "tags": []
   },
   "outputs": [],
   "source": [
    "# Lista de p-values\n",
    "p_values = []\n",
    "\n",
    "mask_gender = df_pronunciacion.genero == 'femenino'\n",
    "\n",
    "df_pronunciacion_female = df_pronunciacion[mask_gender].drop(columns=['genero'])"
   ]
  },
  {
   "cell_type": "code",
   "execution_count": 134,
   "id": "bea1d371",
   "metadata": {
    "execution": {
     "iopub.execute_input": "2023-06-11T01:38:47.954251Z",
     "iopub.status.busy": "2023-06-11T01:38:47.954251Z",
     "iopub.status.idle": "2023-06-11T01:38:48.095022Z",
     "shell.execute_reply": "2023-06-11T01:38:48.087938Z"
    },
    "papermill": {
     "duration": 0.270681,
     "end_time": "2023-06-11T01:38:48.098017",
     "exception": false,
     "start_time": "2023-06-11T01:38:47.827336",
     "status": "completed"
    },
    "tags": []
   },
   "outputs": [
    {
     "name": "stdout",
     "output_type": "stream",
     "text": [
      "Características seleccionadas: (0,)\n",
      "Característica ZCR: p-valor = 0.1502\n",
      "Característica RMS: p-valor = 0.6583\n",
      "Característica f0: p-valor = 0.2074\n"
     ]
    }
   ],
   "source": [
    "# Cargamos los datos\n",
    "X = np.array(df_pronunciacion_female.drop(columns=['Pronunciacion'])) # df_objetivos es el DataFrame con los parámetros objetivos\n",
    "y = np.array(df_pronunciacion_female.Pronunciacion) # df_subjetivos es el DataFrame con los parámetros subjetivos\n",
    "\n",
    "# Creamos el modelo de regresión lineal\n",
    "regr_multivar = LinearRegression()\n",
    "\n",
    "# Creamos el selector de características hacia adelante\n",
    "forward_selector = SequentialFeatureSelector(regr_multivar, k_features='best', forward=True, scoring='neg_mean_squared_error')\n",
    "\n",
    "# Entrenamos el selector de características\n",
    "forward_selector.fit(X, y)\n",
    "\n",
    "# Obtenemos las características seleccionadas\n",
    "selected_features = forward_selector.k_feature_idx_\n",
    "\n",
    "# Imprimimos las características seleccionadas\n",
    "print('Características seleccionadas:', selected_features)\n",
    "\n",
    "# Agregamos una columna de unos para representar el término de intercepción\n",
    "X2 = sm.add_constant(X)\n",
    "\n",
    "# Creamos el modelo OLS (mínimos cuadrados ordinarios) y lo ajustamos a los datos\n",
    "model = sm.OLS(y, X2)\n",
    "results = model.fit()\n",
    "\n",
    "# Imprimimos los p-valores para cada característica seleccionada\n",
    "for feature, pvalue in zip(list(range(X.shape[1])), results.pvalues[1:]):\n",
    "\n",
    "    if feature == 0:\n",
    "        feature = 'ZCR'\n",
    "    elif feature == 1:\n",
    "        feature = 'RMS'\n",
    "    else:\n",
    "        feature = 'f0'\n",
    "    \n",
    "    print(f'Característica {feature}: p-valor = {pvalue:.4f}')\n",
    "\n",
    "    p_values.append(pvalue)\n",
    "    dicc_p_value[feature].append(pvalue)\n",
    "\n",
    "dicc_p_value['subjetive_parameter'].append('Pronunciación')\n",
    "dicc_p_value['genero'].append('femenino')\n",
    "dicc_p_value['selected_features'].append(list(selected_features))\n"
   ]
  },
  {
   "cell_type": "code",
   "execution_count": 135,
   "id": "46c69347",
   "metadata": {
    "execution": {
     "iopub.execute_input": "2023-06-11T01:39:09.889031Z",
     "iopub.status.busy": "2023-06-11T01:39:09.889031Z",
     "iopub.status.idle": "2023-06-11T01:39:09.920313Z",
     "shell.execute_reply": "2023-06-11T01:39:09.920313Z"
    },
    "papermill": {
     "duration": 0.115312,
     "end_time": "2023-06-11T01:39:09.920313",
     "exception": false,
     "start_time": "2023-06-11T01:39:09.805001",
     "status": "completed"
    },
    "tags": []
   },
   "outputs": [],
   "source": [
    "# Dicc auxiliar con los nombres asociadas a las variables\n",
    "dicc_names_features = {\n",
    "    'zcr_model': 0,\n",
    "    'rms_model': 1,\n",
    "    'f0_model': 2\n",
    "}\n",
    "\n",
    "# Dicc de los modelos\n",
    "dicc_model = {}\n",
    "\n",
    "# Dicc de las predicciones\n",
    "dicc_pred = {}\n",
    "\n",
    "for selected_feature in selected_features:\n",
    "    # Entrenamos el modelo de regresión con las características seleccionadas\n",
    "    regr_multivar = LinearRegression()\n",
    "    regr_multivar.fit(X[:, selected_feature].reshape(-1, 1), y.ravel())\n",
    "\n",
    "    # Almacenamos en dicc_model la clave asociada al modelo que se entrenó y el objeto modelo\n",
    "    for key, value in dicc_names_features.items():\n",
    "        if value == selected_feature:\n",
    "            dicc_model[key] = regr_multivar\n",
    "\n",
    "    # Obtenemos las predicciones del modelo para las características seleccionadas\n",
    "    y_pred = regr_multivar.predict(X[:, selected_feature].reshape(-1, 1))\n",
    "\n",
    "    # Almacenamos en dicc_pred la clave asociada al modelo que se entrenó y la predicción\n",
    "    for key, value in dicc_names_features.items():\n",
    "        if value == selected_feature:\n",
    "            dicc_pred[key] = y_pred\n"
   ]
  },
  {
   "cell_type": "code",
   "execution_count": 136,
   "id": "a184d78d",
   "metadata": {
    "execution": {
     "iopub.execute_input": "2023-06-11T01:39:10.106327Z",
     "iopub.status.busy": "2023-06-11T01:39:10.106327Z",
     "iopub.status.idle": "2023-06-11T01:39:10.122051Z",
     "shell.execute_reply": "2023-06-11T01:39:10.122051Z"
    },
    "papermill": {
     "duration": 0.123645,
     "end_time": "2023-06-11T01:39:10.122051",
     "exception": false,
     "start_time": "2023-06-11T01:39:09.998406",
     "status": "completed"
    },
    "tags": []
   },
   "outputs": [
    {
     "name": "stdout",
     "output_type": "stream",
     "text": [
      "y = -2.60 * ZCR + 4.80 - p-valor = 0.150\n"
     ]
    }
   ],
   "source": [
    "list_equ = []\n",
    "\n",
    "for key, model in dicc_model.items():\n",
    "    # Obtenemos los valores de w y b\n",
    "    w = model.coef_[0]\n",
    "    b = model.intercept_\n",
    "    \n",
    "    label = key.replace(\"_model\", \"\")\n",
    "    if label == 'f0':\n",
    "        label = r'$f_{0}$'\n",
    "    else:\n",
    "        label = label.upper()\n",
    "\n",
    "    # Construimos la cadena de texto para la ecuación del hiperplano y su p-valor\n",
    "    equation = f'y = {w:.2f} * {label} + {b:.2f} - p-valor = {p_values[dicc_names_features[key]]:.3f}'\n",
    "\n",
    "    # Agregamos la cadena a la lista\n",
    "    list_equ.append(equation)\n",
    "\n",
    "# Mostramos el resultado\n",
    "for equ in list_equ:\n",
    "    print(equ)\n"
   ]
  },
  {
   "cell_type": "code",
   "execution_count": 137,
   "id": "33725fe3",
   "metadata": {
    "execution": {
     "iopub.execute_input": "2023-06-11T01:39:10.330413Z",
     "iopub.status.busy": "2023-06-11T01:39:10.329414Z",
     "iopub.status.idle": "2023-06-11T01:39:11.654720Z",
     "shell.execute_reply": "2023-06-11T01:39:11.654720Z"
    },
    "papermill": {
     "duration": 1.432312,
     "end_time": "2023-06-11T01:39:11.654720",
     "exception": false,
     "start_time": "2023-06-11T01:39:10.222408",
     "status": "completed"
    },
    "tags": []
   },
   "outputs": [
    {
     "data": {
      "image/png": "[encoded data removed]",
      "text/plain": [
       "<Figure size 600x400 with 1 Axes>"
      ]
     },
     "metadata": {},
     "output_type": "display_data"
    }
   ],
   "source": [
    "dims = (6 * len(dicc_model), 4)\n",
    "fig, ax = plt.subplots(figsize=dims, ncols=len(dicc_model))\n",
    "\n",
    "with sns.axes_style('darkgrid'):\n",
    "    for i, (key, model) in enumerate(dicc_model.items()):\n",
    "        if isinstance(ax, np.ndarray):\n",
    "            ax_i = ax[i]\n",
    "        else:\n",
    "            ax_i = ax\n",
    "        label = key.replace(\"_model\", \"\")\n",
    "        if label == 'f0':\n",
    "            label = r'$f_{0}$'\n",
    "        else:\n",
    "            label = label.upper()\n",
    "        g = sns.scatterplot(x=X[:, dicc_names_features[key]], y=y, ax=ax_i, color='blue')\n",
    "        g = sns.lineplot(x=X[:, dicc_names_features[key]], y=dicc_pred[key], ax=ax_i, color='red')\n",
    "        g.text(0.5, -0.1, label, weight='bold', size='large', family='Arial', stretch='extra-expanded', ha='center', va='top', transform=g.transAxes)\n",
    "        g.set_ylabel('Pronunciación', weight='bold', size='large', alpha=0.8, family='Arial', stretch='extra-expanded')\n",
    "        g.set_title(list_equ[i], weight='bold', size='x-large', alpha=0.8, family='Arial', stretch='extra-expanded')\n",
    "        g.grid(alpha=0.7)\n",
    "        ax_i.set_ylim(0, 6)\n",
    "\n",
    "    plt.tight_layout()\n",
    "    plt.savefig(os.path.join(PATH, TEST_FOLDER, REGGRESSION_FOLDER, PARAMETRIC_FOLDER, PRONUNCIACION_FOLDER, FEMALE_FOLDER, 'regresiones_pronunciacion_female.png'))\n",
    "    plt.show()\n"
   ]
  },
  {
   "cell_type": "code",
   "execution_count": 138,
   "id": "3a355a76",
   "metadata": {
    "execution": {
     "iopub.execute_input": "2023-06-11T01:39:11.843823Z",
     "iopub.status.busy": "2023-06-11T01:39:11.842858Z",
     "iopub.status.idle": "2023-06-11T01:39:11.871821Z",
     "shell.execute_reply": "2023-06-11T01:39:11.869922Z"
    },
    "papermill": {
     "duration": 0.142013,
     "end_time": "2023-06-11T01:39:11.874825",
     "exception": false,
     "start_time": "2023-06-11T01:39:11.732812",
     "status": "completed"
    },
    "tags": []
   },
   "outputs": [],
   "source": [
    "if len(dicc_model) == 2:\n",
    "    import plotly.express as px\n",
    "    import plotly.graph_objects as go\n",
    "\n",
    "    # Seleccionamos solo las características seleccionadas en X\n",
    "    X_selected = X[:, selected_features]\n",
    "\n",
    "    # Entrenamos el modelo de regresión con las características seleccionadas\n",
    "    regr_multivar = LinearRegression()\n",
    "    regr_multivar.fit(X_selected, y)\n",
    "\n",
    "    # Obtenemos las predicciones del modelo para las características seleccionadas\n",
    "    y_pred = regr_multivar.predict(X_selected)\n",
    "\n",
    "    # Crear la figura\n",
    "    fig = px.scatter_3d(x=X_selected[:, 0], y=X_selected[:, 1], z=y)\n",
    "\n",
    "    # Crear el plano de regresión\n",
    "    xx, yy = np.meshgrid(X_selected[:, 0], X_selected[:, 1])\n",
    "    zz = regr_multivar.intercept_ + np.dot(np.array([xx.ravel(), yy.ravel()]).T, regr_multivar.coef_.ravel()).reshape(xx.shape)\n",
    "    fig.add_trace(go.Surface(x=xx, y=yy, z=zz, opacity=0.5))\n",
    "\n",
    "    # Construir la cadena de texto para la ecuación del plano\n",
    "    equation = f'z = {regr_multivar.intercept_.round(2)}'\n",
    "    for i, (key, model) in enumerate(dicc_model.items()):\n",
    "        equation += f' + {regr_multivar.coef_[i].round(2)} * {key.replace(\"_model\", \"\")}'\n",
    "    \n",
    "    # Centrar el título\n",
    "    fig.update_layout(title=dict(text=equation, x=0.5, xanchor='center'))\n",
    "\n",
    "    # Etiquetas de los ejes y rango del eje z\n",
    "    fig.update_layout(scene=dict(xaxis_title=list(dicc_model.keys())[0].replace(\"_model\", \"\"), yaxis_title=list(dicc_model.keys())[1].replace(\"_model\", \"\"), zaxis_title='Pronunciación', zaxis=dict(range=[0, 6]), yaxis=dict(tickvals=[100, 105, 110, 115])))\n",
    "\n",
    "    fig.write_html(\n",
    "       os.path.join(PATH, TEST_FOLDER, REGGRESSION_FOLDER, PARAMETRIC_FOLDER, PRONUNCIACION_FOLDER, FEMALE_FOLDER, 'regresion_pronunciacion_multivariable_female.html')\n",
    "    )\n",
    "\n",
    "    fig.show()\n"
   ]
  },
  {
   "attachments": {},
   "cell_type": "markdown",
   "id": "f5df2caa",
   "metadata": {
    "papermill": {
     "duration": 0.120582,
     "end_time": "2023-06-11T01:39:12.102404",
     "exception": false,
     "start_time": "2023-06-11T01:39:11.981822",
     "status": "completed"
    },
    "tags": []
   },
   "source": [
    "### Acentuacion"
   ]
  },
  {
   "cell_type": "code",
   "execution_count": 139,
   "id": "1e0c37ad",
   "metadata": {
    "execution": {
     "iopub.execute_input": "2023-06-11T01:39:12.332710Z",
     "iopub.status.busy": "2023-06-11T01:39:12.331711Z",
     "iopub.status.idle": "2023-06-11T01:39:12.345384Z",
     "shell.execute_reply": "2023-06-11T01:39:12.343383Z"
    },
    "papermill": {
     "duration": 0.14441,
     "end_time": "2023-06-11T01:39:12.349386",
     "exception": false,
     "start_time": "2023-06-11T01:39:12.204976",
     "status": "completed"
    },
    "tags": []
   },
   "outputs": [],
   "source": [
    "df_acentuacion = df_union.loc[:, ['Acentuacion', 'zcr', 'rms', 'f0', 'genero']]"
   ]
  },
  {
   "attachments": {},
   "cell_type": "markdown",
   "id": "5bd2ac35",
   "metadata": {
    "papermill": {
     "duration": 0.12575,
     "end_time": "2023-06-11T01:39:12.578954",
     "exception": false,
     "start_time": "2023-06-11T01:39:12.453204",
     "status": "completed"
    },
    "tags": []
   },
   "source": [
    "#### Masculino"
   ]
  },
  {
   "cell_type": "code",
   "execution_count": 140,
   "id": "d50a579c",
   "metadata": {
    "execution": {
     "iopub.execute_input": "2023-06-11T01:39:12.789264Z",
     "iopub.status.busy": "2023-06-11T01:39:12.789264Z",
     "iopub.status.idle": "2023-06-11T01:39:12.804981Z",
     "shell.execute_reply": "2023-06-11T01:39:12.804981Z"
    },
    "papermill": {
     "duration": 0.117242,
     "end_time": "2023-06-11T01:39:12.804981",
     "exception": false,
     "start_time": "2023-06-11T01:39:12.687739",
     "status": "completed"
    },
    "tags": []
   },
   "outputs": [],
   "source": [
    "# Lista de p-values\n",
    "p_values = []\n",
    "\n",
    "mask_gender = df_acentuacion.genero == 'masculino'\n",
    "\n",
    "df_acentuacion_male = df_acentuacion[mask_gender].drop(columns=['genero'])"
   ]
  },
  {
   "cell_type": "code",
   "execution_count": 141,
   "id": "2763d1e4",
   "metadata": {
    "execution": {
     "iopub.execute_input": "2023-06-11T01:39:13.053736Z",
     "iopub.status.busy": "2023-06-11T01:39:13.053736Z",
     "iopub.status.idle": "2023-06-11T01:39:13.147550Z",
     "shell.execute_reply": "2023-06-11T01:39:13.146553Z"
    },
    "papermill": {
     "duration": 0.249461,
     "end_time": "2023-06-11T01:39:13.150549",
     "exception": false,
     "start_time": "2023-06-11T01:39:12.901088",
     "status": "completed"
    },
    "tags": []
   },
   "outputs": [
    {
     "name": "stdout",
     "output_type": "stream",
     "text": [
      "Características seleccionadas: (0,)\n",
      "Característica ZCR: p-valor = 0.0128\n",
      "Característica RMS: p-valor = 0.0947\n",
      "Característica f0: p-valor = 0.3057\n"
     ]
    }
   ],
   "source": [
    "# Cargamos los datos\n",
    "X = np.array(df_acentuacion_male.drop(columns=['Acentuacion'])) # df_objetivos es el DataFrame con los parámetros objetivos\n",
    "y = np.array(df_acentuacion_male.Acentuacion) # df_subjetivos es el DataFrame con los parámetros subjetivos\n",
    "\n",
    "# Creamos el modelo de regresión lineal\n",
    "regr_multivar = LinearRegression()\n",
    "\n",
    "# Creamos el selector de características hacia adelante\n",
    "forward_selector = SequentialFeatureSelector(regr_multivar, k_features='best', forward=True, scoring='neg_mean_squared_error')\n",
    "\n",
    "# Entrenamos el selector de características\n",
    "forward_selector.fit(X, y)\n",
    "\n",
    "# Obtenemos las características seleccionadas\n",
    "selected_features = forward_selector.k_feature_idx_\n",
    "\n",
    "# Imprimimos las características seleccionadas\n",
    "print('Características seleccionadas:', selected_features)\n",
    "\n",
    "# Agregamos una columna de unos para representar el término de intercepción\n",
    "X2 = sm.add_constant(X)\n",
    "\n",
    "# Creamos el modelo OLS (mínimos cuadrados ordinarios) y lo ajustamos a los datos\n",
    "model = sm.OLS(y, X2)\n",
    "results = model.fit()\n",
    "\n",
    "# Imprimimos los p-valores para cada característica seleccionada\n",
    "for feature, pvalue in zip(list(range(X.shape[1])), results.pvalues[1:]):\n",
    "\n",
    "    if feature == 0:\n",
    "        feature = 'ZCR'\n",
    "    elif feature == 1:\n",
    "        feature = 'RMS'\n",
    "    else:\n",
    "        feature = 'f0'\n",
    "    \n",
    "    print(f'Característica {feature}: p-valor = {pvalue:.4f}')\n",
    "\n",
    "    p_values.append(pvalue)\n",
    "    dicc_p_value[feature].append(pvalue)\n",
    "\n",
    "dicc_p_value['subjetive_parameter'].append('Acentuación')\n",
    "dicc_p_value['genero'].append('masculino')\n",
    "dicc_p_value['selected_features'].append(list(selected_features))\n"
   ]
  },
  {
   "cell_type": "code",
   "execution_count": 142,
   "id": "beb71f07",
   "metadata": {
    "execution": {
     "iopub.execute_input": "2023-06-11T01:39:33.289632Z",
     "iopub.status.busy": "2023-06-11T01:39:33.289632Z",
     "iopub.status.idle": "2023-06-11T01:39:33.305459Z",
     "shell.execute_reply": "2023-06-11T01:39:33.305459Z"
    },
    "papermill": {
     "duration": 0.120785,
     "end_time": "2023-06-11T01:39:33.305459",
     "exception": false,
     "start_time": "2023-06-11T01:39:33.184674",
     "status": "completed"
    },
    "tags": []
   },
   "outputs": [],
   "source": [
    "# Dicc auxiliar con los nombres asociadas a las variables\n",
    "dicc_names_features = {\n",
    "    'zcr_model': 0,\n",
    "    'rms_model': 1,\n",
    "    'f0_model': 2\n",
    "}\n",
    "\n",
    "# Dicc de los modelos\n",
    "dicc_model = {}\n",
    "\n",
    "# Dicc de las predicciones\n",
    "dicc_pred = {}\n",
    "\n",
    "for selected_feature in selected_features:\n",
    "    # Entrenamos el modelo de regresión con las características seleccionadas\n",
    "    regr_multivar = LinearRegression()\n",
    "    regr_multivar.fit(X[:, selected_feature].reshape(-1, 1), y.ravel())\n",
    "\n",
    "    # Almacenamos en dicc_model la clave asociada al modelo que se entrenó y el objeto modelo\n",
    "    for key, value in dicc_names_features.items():\n",
    "        if value == selected_feature:\n",
    "            dicc_model[key] = regr_multivar\n",
    "\n",
    "    # Obtenemos las predicciones del modelo para las características seleccionadas\n",
    "    y_pred = regr_multivar.predict(X[:, selected_feature].reshape(-1, 1))\n",
    "\n",
    "    # Almacenamos en dicc_pred la clave asociada al modelo que se entrenó y la predicción\n",
    "    for key, value in dicc_names_features.items():\n",
    "        if value == selected_feature:\n",
    "            dicc_pred[key] = y_pred\n"
   ]
  },
  {
   "cell_type": "code",
   "execution_count": 143,
   "id": "324fada1",
   "metadata": {
    "execution": {
     "iopub.execute_input": "2023-06-11T01:39:33.488650Z",
     "iopub.status.busy": "2023-06-11T01:39:33.488650Z",
     "iopub.status.idle": "2023-06-11T01:39:33.504478Z",
     "shell.execute_reply": "2023-06-11T01:39:33.504478Z"
    },
    "papermill": {
     "duration": 0.12105,
     "end_time": "2023-06-11T01:39:33.504478",
     "exception": false,
     "start_time": "2023-06-11T01:39:33.383428",
     "status": "completed"
    },
    "tags": []
   },
   "outputs": [
    {
     "name": "stdout",
     "output_type": "stream",
     "text": [
      "y = -8.04 * ZCR + 5.08 - p-valor = 0.013\n"
     ]
    }
   ],
   "source": [
    "list_equ = []\n",
    "\n",
    "for key, model in dicc_model.items():\n",
    "    # Obtenemos los valores de w y b\n",
    "    w = model.coef_[0]\n",
    "    b = model.intercept_\n",
    "    \n",
    "    label = key.replace(\"_model\", \"\")\n",
    "    if label == 'f0':\n",
    "        label = r'$f_{0}$'\n",
    "    else:\n",
    "        label = label.upper()\n",
    "\n",
    "    # Construimos la cadena de texto para la ecuación del hiperplano y su p-valor\n",
    "    equation = f'y = {w:.2f} * {label} + {b:.2f} - p-valor = {p_values[dicc_names_features[key]]:.3f}'\n",
    "\n",
    "    # Agregamos la cadena a la lista\n",
    "    list_equ.append(equation)\n",
    "\n",
    "# Mostramos el resultado\n",
    "for equ in list_equ:\n",
    "    print(equ)\n"
   ]
  },
  {
   "cell_type": "code",
   "execution_count": 144,
   "id": "42ab5a74",
   "metadata": {
    "execution": {
     "iopub.execute_input": "2023-06-11T01:39:33.724895Z",
     "iopub.status.busy": "2023-06-11T01:39:33.723891Z",
     "iopub.status.idle": "2023-06-11T01:39:34.138928Z",
     "shell.execute_reply": "2023-06-11T01:39:34.138928Z"
    },
    "papermill": {
     "duration": 0.541028,
     "end_time": "2023-06-11T01:39:34.138928",
     "exception": false,
     "start_time": "2023-06-11T01:39:33.597900",
     "status": "completed"
    },
    "tags": []
   },
   "outputs": [
    {
     "data": {
      "image/png": "[encoded data removed]",
      "text/plain": [
       "<Figure size 600x400 with 1 Axes>"
      ]
     },
     "metadata": {},
     "output_type": "display_data"
    }
   ],
   "source": [
    "dims = (6 * len(dicc_model), 4)\n",
    "fig, ax = plt.subplots(figsize=dims, ncols=len(dicc_model))\n",
    "\n",
    "with sns.axes_style('darkgrid'):\n",
    "    for i, (key, model) in enumerate(dicc_model.items()):\n",
    "        if isinstance(ax, np.ndarray):\n",
    "            ax_i = ax[i]\n",
    "        else:\n",
    "            ax_i = ax\n",
    "        label = key.replace(\"_model\", \"\")\n",
    "        if label == 'f0':\n",
    "            label = r'$f_{0}$'\n",
    "        else:\n",
    "            label = label.upper()\n",
    "        g = sns.scatterplot(x=X[:, dicc_names_features[key]], y=y, ax=ax_i, color='blue')\n",
    "        g = sns.lineplot(x=X[:, dicc_names_features[key]], y=dicc_pred[key], ax=ax_i, color='red')\n",
    "        g.text(0.5, -0.1, label, weight='bold', size='large', family='Arial', stretch='extra-expanded', ha='center', va='top', transform=g.transAxes)\n",
    "        g.set_ylabel('Acentuación', weight='bold', size='large', alpha=0.8, family='Arial', stretch='extra-expanded')\n",
    "        g.set_title(list_equ[i], weight='bold', size='x-large', alpha=0.8, family='Arial', stretch='extra-expanded')\n",
    "        g.grid(alpha=0.7)\n",
    "        ax_i.set_ylim(0, 6)\n",
    "\n",
    "    plt.tight_layout()\n",
    "    plt.savefig(os.path.join(PATH, TEST_FOLDER, REGGRESSION_FOLDER, PARAMETRIC_FOLDER, ACENTUACION_FOLDER, MALE_FOLDER, 'regresiones_acentuacion_male.png'))\n",
    "    plt.show()\n"
   ]
  },
  {
   "cell_type": "code",
   "execution_count": 145,
   "id": "a2d1c79f",
   "metadata": {
    "execution": {
     "iopub.execute_input": "2023-06-11T01:39:34.324185Z",
     "iopub.status.busy": "2023-06-11T01:39:34.324185Z",
     "iopub.status.idle": "2023-06-11T01:39:34.355467Z",
     "shell.execute_reply": "2023-06-11T01:39:34.355467Z"
    },
    "papermill": {
     "duration": 0.116792,
     "end_time": "2023-06-11T01:39:34.355467",
     "exception": false,
     "start_time": "2023-06-11T01:39:34.238675",
     "status": "completed"
    },
    "tags": []
   },
   "outputs": [],
   "source": [
    "if len(dicc_model) == 2:\n",
    "    import plotly.express as px\n",
    "    import plotly.graph_objects as go\n",
    "\n",
    "    # Seleccionamos solo las características seleccionadas en X\n",
    "    X_selected = X[:, selected_features]\n",
    "\n",
    "    # Entrenamos el modelo de regresión con las características seleccionadas\n",
    "    regr_multivar = LinearRegression()\n",
    "    regr_multivar.fit(X_selected, y)\n",
    "\n",
    "    # Obtenemos las predicciones del modelo para las características seleccionadas\n",
    "    y_pred = regr_multivar.predict(X_selected)\n",
    "\n",
    "    # Crear la figura\n",
    "    fig = px.scatter_3d(x=X_selected[:, 0], y=X_selected[:, 1], z=y)\n",
    "\n",
    "    # Crear el plano de regresión\n",
    "    xx, yy = np.meshgrid(X_selected[:, 0], X_selected[:, 1])\n",
    "    zz = regr_multivar.intercept_ + np.dot(np.array([xx.ravel(), yy.ravel()]).T, regr_multivar.coef_.ravel()).reshape(xx.shape)\n",
    "    fig.add_trace(go.Surface(x=xx, y=yy, z=zz, opacity=0.5))\n",
    "\n",
    "    # Construir la cadena de texto para la ecuación del plano\n",
    "    equation = f'z = {regr_multivar.intercept_.round(2)}'\n",
    "    for i, (key, model) in enumerate(dicc_model.items()):\n",
    "        equation += f' + {regr_multivar.coef_[i].round(2)} * {key.replace(\"_model\", \"\")}'\n",
    "    \n",
    "    # Centrar el título\n",
    "    fig.update_layout(title=dict(text=equation, x=0.5, xanchor='center'))\n",
    "\n",
    "    # Etiquetas de los ejes y rango del eje z\n",
    "    fig.update_layout(scene=dict(xaxis_title=list(dicc_model.keys())[0].replace(\"_model\", \"\"), yaxis_title=list(dicc_model.keys())[1].replace(\"_model\", \"\"), zaxis_title='Acentuación', zaxis=dict(range=[0, 6])))\n",
    "\n",
    "    fig.write_html(\n",
    "       os.path.join(PATH, TEST_FOLDER, REGGRESSION_FOLDER, PARAMETRIC_FOLDER, ACENTUACION_FOLDER, MALE_FOLDER, 'regresion_acentuacion_multivariable_male.html')\n",
    "    )\n",
    "\n",
    "    fig.show()\n"
   ]
  },
  {
   "attachments": {},
   "cell_type": "markdown",
   "id": "aed96fb8",
   "metadata": {
    "papermill": {
     "duration": 0.099476,
     "end_time": "2023-06-11T01:39:34.540345",
     "exception": false,
     "start_time": "2023-06-11T01:39:34.440869",
     "status": "completed"
    },
    "tags": []
   },
   "source": [
    "#### Femenino"
   ]
  },
  {
   "cell_type": "code",
   "execution_count": 146,
   "id": "4d40234e",
   "metadata": {
    "execution": {
     "iopub.execute_input": "2023-06-11T01:39:34.740368Z",
     "iopub.status.busy": "2023-06-11T01:39:34.740368Z",
     "iopub.status.idle": "2023-06-11T01:39:34.755994Z",
     "shell.execute_reply": "2023-06-11T01:39:34.755994Z"
    },
    "papermill": {
     "duration": 0.116826,
     "end_time": "2023-06-11T01:39:34.755994",
     "exception": false,
     "start_time": "2023-06-11T01:39:34.639168",
     "status": "completed"
    },
    "tags": []
   },
   "outputs": [],
   "source": [
    "# Lista de p-values\n",
    "p_values = []\n",
    "\n",
    "mask_gender = df_acentuacion.genero == 'femenino'\n",
    "\n",
    "df_acentuacion_female = df_acentuacion[mask_gender].drop(columns=['genero'])"
   ]
  },
  {
   "cell_type": "code",
   "execution_count": 147,
   "id": "8d8faced",
   "metadata": {
    "execution": {
     "iopub.execute_input": "2023-06-11T01:39:35.004661Z",
     "iopub.status.busy": "2023-06-11T01:39:35.004661Z",
     "iopub.status.idle": "2023-06-11T01:39:35.332231Z",
     "shell.execute_reply": "2023-06-11T01:39:35.300937Z"
    },
    "papermill": {
     "duration": 0.479287,
     "end_time": "2023-06-11T01:39:35.332231",
     "exception": false,
     "start_time": "2023-06-11T01:39:34.852944",
     "status": "completed"
    },
    "tags": []
   },
   "outputs": [
    {
     "name": "stdout",
     "output_type": "stream",
     "text": [
      "Características seleccionadas: (1, 2)\n",
      "Característica ZCR: p-valor = 0.5144\n",
      "Característica RMS: p-valor = 0.3928\n",
      "Característica f0: p-valor = 0.1201\n"
     ]
    }
   ],
   "source": [
    "# Cargamos los datos\n",
    "X = np.array(df_acentuacion_female.drop(columns=['Acentuacion'])) # df_objetivos es el DataFrame con los parámetros objetivos\n",
    "y = np.array(df_acentuacion_female.Acentuacion) # df_subjetivos es el DataFrame con los parámetros subjetivos\n",
    "\n",
    "# Creamos el modelo de regresión lineal\n",
    "regr_multivar = LinearRegression()\n",
    "\n",
    "# Creamos el selector de características hacia adelante\n",
    "forward_selector = SequentialFeatureSelector(regr_multivar, k_features='best', forward=True, scoring='neg_mean_squared_error')\n",
    "\n",
    "# Entrenamos el selector de características\n",
    "forward_selector.fit(X, y)\n",
    "\n",
    "# Obtenemos las características seleccionadas\n",
    "selected_features = forward_selector.k_feature_idx_\n",
    "\n",
    "# Imprimimos las características seleccionadas\n",
    "print('Características seleccionadas:', selected_features)\n",
    "\n",
    "# Agregamos una columna de unos para representar el término de intercepción\n",
    "X2 = sm.add_constant(X)\n",
    "\n",
    "# Creamos el modelo OLS (mínimos cuadrados ordinarios) y lo ajustamos a los datos\n",
    "model = sm.OLS(y, X2)\n",
    "results = model.fit()\n",
    "\n",
    "# Imprimimos los p-valores para cada característica seleccionada\n",
    "for feature, pvalue in zip(list(range(X.shape[1])), results.pvalues[1:]):\n",
    "\n",
    "    if feature == 0:\n",
    "        feature = 'ZCR'\n",
    "    elif feature == 1:\n",
    "        feature = 'RMS'\n",
    "    else:\n",
    "        feature = 'f0'\n",
    "    \n",
    "    print(f'Característica {feature}: p-valor = {pvalue:.4f}')\n",
    "\n",
    "    p_values.append(pvalue)\n",
    "    dicc_p_value[feature].append(pvalue)\n",
    "\n",
    "dicc_p_value['subjetive_parameter'].append('Acentuación')\n",
    "dicc_p_value['genero'].append('femenino')\n",
    "dicc_p_value['selected_features'].append(list(selected_features))\n"
   ]
  },
  {
   "cell_type": "code",
   "execution_count": 148,
   "id": "c3e0667b",
   "metadata": {
    "execution": {
     "iopub.execute_input": "2023-06-11T01:39:55.204544Z",
     "iopub.status.busy": "2023-06-11T01:39:55.203544Z",
     "iopub.status.idle": "2023-06-11T01:39:55.229608Z",
     "shell.execute_reply": "2023-06-11T01:39:55.227700Z"
    },
    "papermill": {
     "duration": 0.131106,
     "end_time": "2023-06-11T01:39:55.232652",
     "exception": false,
     "start_time": "2023-06-11T01:39:55.101546",
     "status": "completed"
    },
    "tags": []
   },
   "outputs": [],
   "source": [
    "# Dicc auxiliar con los nombres asociadas a las variables\n",
    "dicc_names_features = {\n",
    "    'zcr_model': 0,\n",
    "    'rms_model': 1,\n",
    "    'f0_model': 2\n",
    "}\n",
    "\n",
    "# Dicc de los modelos\n",
    "dicc_model = {}\n",
    "\n",
    "# Dicc de las predicciones\n",
    "dicc_pred = {}\n",
    "\n",
    "for selected_feature in selected_features:\n",
    "    # Entrenamos el modelo de regresión con las características seleccionadas\n",
    "    regr_multivar = LinearRegression()\n",
    "    regr_multivar.fit(X[:, selected_feature].reshape(-1, 1), y.ravel())\n",
    "\n",
    "    # Almacenamos en dicc_model la clave asociada al modelo que se entrenó y el objeto modelo\n",
    "    for key, value in dicc_names_features.items():\n",
    "        if value == selected_feature:\n",
    "            dicc_model[key] = regr_multivar\n",
    "\n",
    "    # Obtenemos las predicciones del modelo para las características seleccionadas\n",
    "    y_pred = regr_multivar.predict(X[:, selected_feature].reshape(-1, 1))\n",
    "\n",
    "    # Almacenamos en dicc_pred la clave asociada al modelo que se entrenó y la predicción\n",
    "    for key, value in dicc_names_features.items():\n",
    "        if value == selected_feature:\n",
    "            dicc_pred[key] = y_pred\n"
   ]
  },
  {
   "cell_type": "code",
   "execution_count": 149,
   "id": "ba02adb5",
   "metadata": {
    "execution": {
     "iopub.execute_input": "2023-06-11T01:39:55.417533Z",
     "iopub.status.busy": "2023-06-11T01:39:55.417533Z",
     "iopub.status.idle": "2023-06-11T01:39:55.435209Z",
     "shell.execute_reply": "2023-06-11T01:39:55.433260Z"
    },
    "papermill": {
     "duration": 0.114409,
     "end_time": "2023-06-11T01:39:55.438231",
     "exception": false,
     "start_time": "2023-06-11T01:39:55.323822",
     "status": "completed"
    },
    "tags": []
   },
   "outputs": [
    {
     "name": "stdout",
     "output_type": "stream",
     "text": [
      "y = 0.18 * RMS + 9.04 - p-valor = 0.393\n",
      "y = -0.02 * $f_{0}$ + 6.50 - p-valor = 0.120\n"
     ]
    }
   ],
   "source": [
    "list_equ = []\n",
    "\n",
    "for key, model in dicc_model.items():\n",
    "    # Obtenemos los valores de w y b\n",
    "    w = model.coef_[0]\n",
    "    b = model.intercept_\n",
    "    \n",
    "    label = key.replace(\"_model\", \"\")\n",
    "    if label == 'f0':\n",
    "        label = r'$f_{0}$'\n",
    "    else:\n",
    "        label = label.upper()\n",
    "\n",
    "    # Construimos la cadena de texto para la ecuación del hiperplano y su p-valor\n",
    "    equation = f'y = {w:.2f} * {label} + {b:.2f} - p-valor = {p_values[dicc_names_features[key]]:.3f}'\n",
    "\n",
    "    # Agregamos la cadena a la lista\n",
    "    list_equ.append(equation)\n",
    "\n",
    "# Mostramos el resultado\n",
    "for equ in list_equ:\n",
    "    print(equ)\n"
   ]
  },
  {
   "cell_type": "code",
   "execution_count": 150,
   "id": "0b6cab5d",
   "metadata": {
    "execution": {
     "iopub.execute_input": "2023-06-11T01:39:55.633240Z",
     "iopub.status.busy": "2023-06-11T01:39:55.633240Z",
     "iopub.status.idle": "2023-06-11T01:39:56.460115Z",
     "shell.execute_reply": "2023-06-11T01:39:56.460115Z"
    },
    "papermill": {
     "duration": 0.92063,
     "end_time": "2023-06-11T01:39:56.460115",
     "exception": false,
     "start_time": "2023-06-11T01:39:55.539485",
     "status": "completed"
    },
    "tags": []
   },
   "outputs": [
    {
     "data": {
      "image/png": "[encoded data removed]",
      "text/plain": [
       "<Figure size 1200x400 with 2 Axes>"
      ]
     },
     "metadata": {},
     "output_type": "display_data"
    }
   ],
   "source": [
    "dims = (6 * len(dicc_model), 4)\n",
    "fig, ax = plt.subplots(figsize=dims, ncols=len(dicc_model))\n",
    "\n",
    "with sns.axes_style('darkgrid'):\n",
    "    for i, (key, model) in enumerate(dicc_model.items()):\n",
    "        if isinstance(ax, np.ndarray):\n",
    "            ax_i = ax[i]\n",
    "        else:\n",
    "            ax_i = ax\n",
    "        label = key.replace(\"_model\", \"\")\n",
    "        if label == 'f0':\n",
    "            label = r'$f_{0}$'\n",
    "        else:\n",
    "            label = label.upper()\n",
    "        g = sns.scatterplot(x=X[:, dicc_names_features[key]], y=y, ax=ax_i, color='blue')\n",
    "        g = sns.lineplot(x=X[:, dicc_names_features[key]], y=dicc_pred[key], ax=ax_i, color='red')\n",
    "        g.text(0.5, -0.1, label, weight='bold', size='large', family='Arial', stretch='extra-expanded', ha='center', va='top', transform=g.transAxes)\n",
    "        g.set_ylabel('Acentuación', weight='bold', size='large', alpha=0.8, family='Arial', stretch='extra-expanded')\n",
    "        g.set_title(list_equ[i], weight='bold', size='x-large', alpha=0.8, family='Arial', stretch='extra-expanded')\n",
    "        g.grid(alpha=0.7)\n",
    "        ax_i.set_ylim(0, 6)\n",
    "\n",
    "    plt.tight_layout()\n",
    "    plt.savefig(os.path.join(PATH, TEST_FOLDER, REGGRESSION_FOLDER, PARAMETRIC_FOLDER, ACENTUACION_FOLDER, FEMALE_FOLDER, 'regresiones_acentuacion_female.png'))\n",
    "    plt.show()\n"
   ]
  },
  {
   "cell_type": "code",
   "execution_count": 151,
   "id": "87975b39",
   "metadata": {
    "execution": {
     "iopub.execute_input": "2023-06-11T01:39:56.642090Z",
     "iopub.status.busy": "2023-06-11T01:39:56.642090Z",
     "iopub.status.idle": "2023-06-11T01:39:56.767298Z",
     "shell.execute_reply": "2023-06-11T01:39:56.767298Z"
    },
    "papermill": {
     "duration": 0.211526,
     "end_time": "2023-06-11T01:39:56.767298",
     "exception": false,
     "start_time": "2023-06-11T01:39:56.555772",
     "status": "completed"
    },
    "tags": []
   },
   "outputs": [
    {
     "data": {
      "application/vnd.plotly.v1+json": {
       "config": {
        "plotlyServerURL": "https://plot.ly"
       },
       "data": [
        {
         "hovertemplate": "x=%{x}<br>y=%{y}<br>z=%{z}<extra></extra>",
         "legendgroup": "",
         "marker": {
          "color": "#636efa",
          "symbol": "circle"
         },
         "mode": "markers",
         "name": "",
         "scene": "scene",
         "showlegend": false,
         "type": "scatter3d",
         "x": [
          -27.5,
          -26.1,
          -27,
          -30,
          -29,
          -28.5,
          -25.5,
          -26.5,
          -29.5,
          -28
         ],
         "y": [
          111.111716480441,
          116.353345265724,
          101.312090449968,
          101.534873965827,
          117.741416962869,
          119.577565453938,
          100.992252773665,
          117.898565521619,
          102.269338478718,
          94.7081174667994
         ],
         "z": [
          4.553571428571429,
          4.303571428571429,
          4.142857142857143,
          3.6607142857142856,
          2.946428571428572,
          4.071428571428571,
          4.589285714285714,
          3.821428571428572,
          4.071428571428571,
          4.482142857142857
         ]
        },
        {
         "opacity": 0.5,
         "type": "surface",
         "x": [
          [
           -27.5,
           -26.1,
           -27,
           -30,
           -29,
           -28.5,
           -25.5,
           -26.5,
           -29.5,
           -28
          ],
          [
           -27.5,
           -26.1,
           -27,
           -30,
           -29,
           -28.5,
           -25.5,
           -26.5,
           -29.5,
           -28
          ],
          [
           -27.5,
           -26.1,
           -27,
           -30,
           -29,
           -28.5,
           -25.5,
           -26.5,
           -29.5,
           -28
          ],
          [
           -27.5,
           -26.1,
           -27,
           -30,
           -29,
           -28.5,
           -25.5,
           -26.5,
           -29.5,
           -28
          ],
          [
           -27.5,
           -26.1,
           -27,
           -30,
           -29,
           -28.5,
           -25.5,
           -26.5,
           -29.5,
           -28
          ],
          [
           -27.5,
           -26.1,
           -27,
           -30,
           -29,
           -28.5,
           -25.5,
           -26.5,
           -29.5,
           -28
          ],
          [
           -27.5,
           -26.1,
           -27,
           -30,
           -29,
           -28.5,
           -25.5,
           -26.5,
           -29.5,
           -28
          ],
          [
           -27.5,
           -26.1,
           -27,
           -30,
           -29,
           -28.5,
           -25.5,
           -26.5,
           -29.5,
           -28
          ],
          [
           -27.5,
           -26.1,
           -27,
           -30,
           -29,
           -28.5,
           -25.5,
           -26.5,
           -29.5,
           -28
          ],
          [
           -27.5,
           -26.1,
           -27,
           -30,
           -29,
           -28.5,
           -25.5,
           -26.5,
           -29.5,
           -28
          ]
         ],
         "y": [
          [
           111.111716480441,
           111.111716480441,
           111.111716480441,
           111.111716480441,
           111.111716480441,
           111.111716480441,
           111.111716480441,
           111.111716480441,
           111.111716480441,
           111.111716480441
          ],
          [
           116.353345265724,
           116.353345265724,
           116.353345265724,
           116.353345265724,
           116.353345265724,
           116.353345265724,
           116.353345265724,
           116.353345265724,
           116.353345265724,
           116.353345265724
          ],
          [
           101.312090449968,
           101.312090449968,
           101.312090449968,
           101.312090449968,
           101.312090449968,
           101.312090449968,
           101.312090449968,
           101.312090449968,
           101.312090449968,
           101.312090449968
          ],
          [
           101.534873965827,
           101.534873965827,
           101.534873965827,
           101.534873965827,
           101.534873965827,
           101.534873965827,
           101.534873965827,
           101.534873965827,
           101.534873965827,
           101.534873965827
          ],
          [
           117.741416962869,
           117.741416962869,
           117.741416962869,
           117.741416962869,
           117.741416962869,
           117.741416962869,
           117.741416962869,
           117.741416962869,
           117.741416962869,
           117.741416962869
          ],
          [
           119.577565453938,
           119.577565453938,
           119.577565453938,
           119.577565453938,
           119.577565453938,
           119.577565453938,
           119.577565453938,
           119.577565453938,
           119.577565453938,
           119.577565453938
          ],
          [
           100.992252773665,
           100.992252773665,
           100.992252773665,
           100.992252773665,
           100.992252773665,
           100.992252773665,
           100.992252773665,
           100.992252773665,
           100.992252773665,
           100.992252773665
          ],
          [
           117.898565521619,
           117.898565521619,
           117.898565521619,
           117.898565521619,
           117.898565521619,
           117.898565521619,
           117.898565521619,
           117.898565521619,
           117.898565521619,
           117.898565521619
          ],
          [
           102.269338478718,
           102.269338478718,
           102.269338478718,
           102.269338478718,
           102.269338478718,
           102.269338478718,
           102.269338478718,
           102.269338478718,
           102.269338478718,
           102.269338478718
          ],
          [
           94.7081174667994,
           94.7081174667994,
           94.7081174667994,
           94.7081174667994,
           94.7081174667994,
           94.7081174667994,
           94.7081174667994,
           94.7081174667994,
           94.7081174667994,
           94.7081174667994
          ]
         ],
         "z": [
          [
           4.043617584640316,
           4.318318460974872,
           4.141725040474087,
           3.5530803054714646,
           3.7492952171390055,
           3.847402672972777,
           4.436047407975398,
           4.239832496307857,
           3.651187761305234,
           3.9455101288065464
          ],
          [
           3.907567704689681,
           4.182268581024237,
           4.005675160523452,
           3.4170304255208297,
           3.6132453371883706,
           3.71135279302214,
           4.299997528024763,
           4.103782616357222,
           3.5151378813545993,
           3.8094602488559115
          ],
          [
           4.29797324384883,
           4.572674120183386,
           4.396080699682601,
           3.8074359646799785,
           4.003650876347519,
           4.101758332181289,
           4.690403067183912,
           4.494188155516371,
           3.905543420513748,
           4.19986578801506
          ],
          [
           4.2921907529802095,
           4.566891629314766,
           4.39029820881398,
           3.8016534738113563,
           3.997868385478899,
           4.095975841312669,
           4.68462057631529,
           4.4884056646477495,
           3.8997609296451277,
           4.194083297146438
          ],
          [
           3.871539402134246,
           4.146240278468802,
           3.9696468579680175,
           3.381002122965395,
           3.5772170346329357,
           3.6753244904667053,
           4.263969225469328,
           4.067754313801787,
           3.4791095787991644,
           3.7734319463004766
          ],
          [
           3.8238809753332355,
           4.098581851667792,
           3.921988431167007,
           3.333343696164384,
           3.529558607831925,
           3.6276660636656963,
           4.216310798668317,
           4.020095887000776,
           3.4314511519981536,
           3.725773519499466
          ],
          [
           4.3062748384956855,
           4.580975714830243,
           4.404382294329457,
           3.815737559326834,
           4.011952470994375,
           4.110059926828146,
           4.698704661830767,
           4.502489750163226,
           3.9138450151606037,
           4.208167382661916
          ],
          [
           3.8674605092121865,
           4.142161385546743,
           3.965567965045958,
           3.376923230043335,
           3.573138141710876,
           3.6712455975446456,
           4.259890332547268,
           4.063675420879727,
           3.4750306858771047,
           3.769353053378417
          ],
          [
           4.273127249458675,
           4.547828125793231,
           4.371234705292444,
           3.7825899702898216,
           3.9788048819573625,
           4.076912337791134,
           4.665557072793755,
           4.469342161126214,
           3.880697426123593,
           4.175019793624903
          ],
          [
           4.469383652399694,
           4.74408452873425,
           4.567491108233465,
           3.9788463732308426,
           4.1750612848983835,
           4.273168740732153,
           4.861813475734776,
           4.665598564067235,
           4.076953829064612,
           4.371276196565924
          ]
         ]
        }
       ],
       "layout": {
        "legend": {
         "tracegroupgap": 0
        },
        "margin": {
         "t": 60
        },
        "scene": {
         "domain": {
          "x": [
           0,
           1
          ],
          "y": [
           0,
           1
          ]
         },
         "xaxis": {
          "title": {
           "text": "rms"
          }
         },
         "yaxis": {
          "tickvals": [
           100,
           105,
           110,
           115
          ],
          "title": {
           "text": "f0"
          }
         },
         "zaxis": {
          "range": [
           0,
           6
          ],
          "title": {
           "text": "Acentuación"
          }
         }
        },
        "template": {
         "data": {
          "bar": [
           {
            "error_x": {
             "color": "#2a3f5f"
            },
            "error_y": {
             "color": "#2a3f5f"
            },
            "marker": {
             "line": {
              "color": "#E5ECF6",
              "width": 0.5
             },
             "pattern": {
              "fillmode": "overlay",
              "size": 10,
              "solidity": 0.2
             }
            },
            "type": "bar"
           }
          ],
          "barpolar": [
           {
            "marker": {
             "line": {
              "color": "#E5ECF6",
              "width": 0.5
             },
             "pattern": {
              "fillmode": "overlay",
              "size": 10,
              "solidity": 0.2
             }
            },
            "type": "barpolar"
           }
          ],
          "carpet": [
           {
            "aaxis": {
             "endlinecolor": "#2a3f5f",
             "gridcolor": "white",
             "linecolor": "white",
             "minorgridcolor": "white",
             "startlinecolor": "#2a3f5f"
            },
            "baxis": {
             "endlinecolor": "#2a3f5f",
             "gridcolor": "white",
             "linecolor": "white",
             "minorgridcolor": "white",
             "startlinecolor": "#2a3f5f"
            },
            "type": "carpet"
           }
          ],
          "choropleth": [
           {
            "colorbar": {
             "outlinewidth": 0,
             "ticks": ""
            },
            "type": "choropleth"
           }
          ],
          "contour": [
           {
            "colorbar": {
             "outlinewidth": 0,
             "ticks": ""
            },
            "colorscale": [
             [
              0,
              "#0d0887"
             ],
             [
              0.1111111111111111,
              "#46039f"
             ],
             [
              0.2222222222222222,
              "#7201a8"
             ],
             [
              0.3333333333333333,
              "#9c179e"
             ],
             [
              0.4444444444444444,
              "#bd3786"
             ],
             [
              0.5555555555555556,
              "#d8576b"
             ],
             [
              0.6666666666666666,
              "#ed7953"
             ],
             [
              0.7777777777777778,
              "#fb9f3a"
             ],
             [
              0.8888888888888888,
              "#fdca26"
             ],
             [
              1,
              "#f0f921"
             ]
            ],
            "type": "contour"
           }
          ],
          "contourcarpet": [
           {
            "colorbar": {
             "outlinewidth": 0,
             "ticks": ""
            },
            "type": "contourcarpet"
           }
          ],
          "heatmap": [
           {
            "colorbar": {
             "outlinewidth": 0,
             "ticks": ""
            },
            "colorscale": [
             [
              0,
              "#0d0887"
             ],
             [
              0.1111111111111111,
              "#46039f"
             ],
             [
              0.2222222222222222,
              "#7201a8"
             ],
             [
              0.3333333333333333,
              "#9c179e"
             ],
             [
              0.4444444444444444,
              "#bd3786"
             ],
             [
              0.5555555555555556,
              "#d8576b"
             ],
             [
              0.6666666666666666,
              "#ed7953"
             ],
             [
              0.7777777777777778,
              "#fb9f3a"
             ],
             [
              0.8888888888888888,
              "#fdca26"
             ],
             [
              1,
              "#f0f921"
             ]
            ],
            "type": "heatmap"
           }
          ],
          "heatmapgl": [
           {
            "colorbar": {
             "outlinewidth": 0,
             "ticks": ""
            },
            "colorscale": [
             [
              0,
              "#0d0887"
             ],
             [
              0.1111111111111111,
              "#46039f"
             ],
             [
              0.2222222222222222,
              "#7201a8"
             ],
             [
              0.3333333333333333,
              "#9c179e"
             ],
             [
              0.4444444444444444,
              "#bd3786"
             ],
             [
              0.5555555555555556,
              "#d8576b"
             ],
             [
              0.6666666666666666,
              "#ed7953"
             ],
             [
              0.7777777777777778,
              "#fb9f3a"
             ],
             [
              0.8888888888888888,
              "#fdca26"
             ],
             [
              1,
              "#f0f921"
             ]
            ],
            "type": "heatmapgl"
           }
          ],
          "histogram": [
           {
            "marker": {
             "pattern": {
              "fillmode": "overlay",
              "size": 10,
              "solidity": 0.2
             }
            },
            "type": "histogram"
           }
          ],
          "histogram2d": [
           {
            "colorbar": {
             "outlinewidth": 0,
             "ticks": ""
            },
            "colorscale": [
             [
              0,
              "#0d0887"
             ],
             [
              0.1111111111111111,
              "#46039f"
             ],
             [
              0.2222222222222222,
              "#7201a8"
             ],
             [
              0.3333333333333333,
              "#9c179e"
             ],
             [
              0.4444444444444444,
              "#bd3786"
             ],
             [
              0.5555555555555556,
              "#d8576b"
             ],
             [
              0.6666666666666666,
              "#ed7953"
             ],
             [
              0.7777777777777778,
              "#fb9f3a"
             ],
             [
              0.8888888888888888,
              "#fdca26"
             ],
             [
              1,
              "#f0f921"
             ]
            ],
            "type": "histogram2d"
           }
          ],
          "histogram2dcontour": [
           {
            "colorbar": {
             "outlinewidth": 0,
             "ticks": ""
            },
            "colorscale": [
             [
              0,
              "#0d0887"
             ],
             [
              0.1111111111111111,
              "#46039f"
             ],
             [
              0.2222222222222222,
              "#7201a8"
             ],
             [
              0.3333333333333333,
              "#9c179e"
             ],
             [
              0.4444444444444444,
              "#bd3786"
             ],
             [
              0.5555555555555556,
              "#d8576b"
             ],
             [
              0.6666666666666666,
              "#ed7953"
             ],
             [
              0.7777777777777778,
              "#fb9f3a"
             ],
             [
              0.8888888888888888,
              "#fdca26"
             ],
             [
              1,
              "#f0f921"
             ]
            ],
            "type": "histogram2dcontour"
           }
          ],
          "mesh3d": [
           {
            "colorbar": {
             "outlinewidth": 0,
             "ticks": ""
            },
            "type": "mesh3d"
           }
          ],
          "parcoords": [
           {
            "line": {
             "colorbar": {
              "outlinewidth": 0,
              "ticks": ""
             }
            },
            "type": "parcoords"
           }
          ],
          "pie": [
           {
            "automargin": true,
            "type": "pie"
           }
          ],
          "scatter": [
           {
            "fillpattern": {
             "fillmode": "overlay",
             "size": 10,
             "solidity": 0.2
            },
            "type": "scatter"
           }
          ],
          "scatter3d": [
           {
            "line": {
             "colorbar": {
              "outlinewidth": 0,
              "ticks": ""
             }
            },
            "marker": {
             "colorbar": {
              "outlinewidth": 0,
              "ticks": ""
             }
            },
            "type": "scatter3d"
           }
          ],
          "scattercarpet": [
           {
            "marker": {
             "colorbar": {
              "outlinewidth": 0,
              "ticks": ""
             }
            },
            "type": "scattercarpet"
           }
          ],
          "scattergeo": [
           {
            "marker": {
             "colorbar": {
              "outlinewidth": 0,
              "ticks": ""
             }
            },
            "type": "scattergeo"
           }
          ],
          "scattergl": [
           {
            "marker": {
             "colorbar": {
              "outlinewidth": 0,
              "ticks": ""
             }
            },
            "type": "scattergl"
           }
          ],
          "scattermapbox": [
           {
            "marker": {
             "colorbar": {
              "outlinewidth": 0,
              "ticks": ""
             }
            },
            "type": "scattermapbox"
           }
          ],
          "scatterpolar": [
           {
            "marker": {
             "colorbar": {
              "outlinewidth": 0,
              "ticks": ""
             }
            },
            "type": "scatterpolar"
           }
          ],
          "scatterpolargl": [
           {
            "marker": {
             "colorbar": {
              "outlinewidth": 0,
              "ticks": ""
             }
            },
            "type": "scatterpolargl"
           }
          ],
          "scatterternary": [
           {
            "marker": {
             "colorbar": {
              "outlinewidth": 0,
              "ticks": ""
             }
            },
            "type": "scatterternary"
           }
          ],
          "surface": [
           {
            "colorbar": {
             "outlinewidth": 0,
             "ticks": ""
            },
            "colorscale": [
             [
              0,
              "#0d0887"
             ],
             [
              0.1111111111111111,
              "#46039f"
             ],
             [
              0.2222222222222222,
              "#7201a8"
             ],
             [
              0.3333333333333333,
              "#9c179e"
             ],
             [
              0.4444444444444444,
              "#bd3786"
             ],
             [
              0.5555555555555556,
              "#d8576b"
             ],
             [
              0.6666666666666666,
              "#ed7953"
             ],
             [
              0.7777777777777778,
              "#fb9f3a"
             ],
             [
              0.8888888888888888,
              "#fdca26"
             ],
             [
              1,
              "#f0f921"
             ]
            ],
            "type": "surface"
           }
          ],
          "table": [
           {
            "cells": {
             "fill": {
              "color": "#EBF0F8"
             },
             "line": {
              "color": "white"
             }
            },
            "header": {
             "fill": {
              "color": "#C8D4E3"
             },
             "line": {
              "color": "white"
             }
            },
            "type": "table"
           }
          ]
         },
         "layout": {
          "annotationdefaults": {
           "arrowcolor": "#2a3f5f",
           "arrowhead": 0,
           "arrowwidth": 1
          },
          "autotypenumbers": "strict",
          "coloraxis": {
           "colorbar": {
            "outlinewidth": 0,
            "ticks": ""
           }
          },
          "colorscale": {
           "diverging": [
            [
             0,
             "#8e0152"
            ],
            [
             0.1,
             "#c51b7d"
            ],
            [
             0.2,
             "#de77ae"
            ],
            [
             0.3,
             "#f1b6da"
            ],
            [
             0.4,
             "#fde0ef"
            ],
            [
             0.5,
             "#f7f7f7"
            ],
            [
             0.6,
             "#e6f5d0"
            ],
            [
             0.7,
             "#b8e186"
            ],
            [
             0.8,
             "#7fbc41"
            ],
            [
             0.9,
             "#4d9221"
            ],
            [
             1,
             "#276419"
            ]
           ],
           "sequential": [
            [
             0,
             "#0d0887"
            ],
            [
             0.1111111111111111,
             "#46039f"
            ],
            [
             0.2222222222222222,
             "#7201a8"
            ],
            [
             0.3333333333333333,
             "#9c179e"
            ],
            [
             0.4444444444444444,
             "#bd3786"
            ],
            [
             0.5555555555555556,
             "#d8576b"
            ],
            [
             0.6666666666666666,
             "#ed7953"
            ],
            [
             0.7777777777777778,
             "#fb9f3a"
            ],
            [
             0.8888888888888888,
             "#fdca26"
            ],
            [
             1,
             "#f0f921"
            ]
           ],
           "sequentialminus": [
            [
             0,
             "#0d0887"
            ],
            [
             0.1111111111111111,
             "#46039f"
            ],
            [
             0.2222222222222222,
             "#7201a8"
            ],
            [
             0.3333333333333333,
             "#9c179e"
            ],
            [
             0.4444444444444444,
             "#bd3786"
            ],
            [
             0.5555555555555556,
             "#d8576b"
            ],
            [
             0.6666666666666666,
             "#ed7953"
            ],
            [
             0.7777777777777778,
             "#fb9f3a"
            ],
            [
             0.8888888888888888,
             "#fdca26"
            ],
            [
             1,
             "#f0f921"
            ]
           ]
          },
          "colorway": [
           "#636efa",
           "#EF553B",
           "#00cc96",
           "#ab63fa",
           "#FFA15A",
           "#19d3f3",
           "#FF6692",
           "#B6E880",
           "#FF97FF",
           "#FECB52"
          ],
          "font": {
           "color": "#2a3f5f"
          },
          "geo": {
           "bgcolor": "white",
           "lakecolor": "white",
           "landcolor": "#E5ECF6",
           "showlakes": true,
           "showland": true,
           "subunitcolor": "white"
          },
          "hoverlabel": {
           "align": "left"
          },
          "hovermode": "closest",
          "mapbox": {
           "style": "light"
          },
          "paper_bgcolor": "white",
          "plot_bgcolor": "#E5ECF6",
          "polar": {
           "angularaxis": {
            "gridcolor": "white",
            "linecolor": "white",
            "ticks": ""
           },
           "bgcolor": "#E5ECF6",
           "radialaxis": {
            "gridcolor": "white",
            "linecolor": "white",
            "ticks": ""
           }
          },
          "scene": {
           "xaxis": {
            "backgroundcolor": "#E5ECF6",
            "gridcolor": "white",
            "gridwidth": 2,
            "linecolor": "white",
            "showbackground": true,
            "ticks": "",
            "zerolinecolor": "white"
           },
           "yaxis": {
            "backgroundcolor": "#E5ECF6",
            "gridcolor": "white",
            "gridwidth": 2,
            "linecolor": "white",
            "showbackground": true,
            "ticks": "",
            "zerolinecolor": "white"
           },
           "zaxis": {
            "backgroundcolor": "#E5ECF6",
            "gridcolor": "white",
            "gridwidth": 2,
            "linecolor": "white",
            "showbackground": true,
            "ticks": "",
            "zerolinecolor": "white"
           }
          },
          "shapedefaults": {
           "line": {
            "color": "#2a3f5f"
           }
          },
          "ternary": {
           "aaxis": {
            "gridcolor": "white",
            "linecolor": "white",
            "ticks": ""
           },
           "baxis": {
            "gridcolor": "white",
            "linecolor": "white",
            "ticks": ""
           },
           "bgcolor": "#E5ECF6",
           "caxis": {
            "gridcolor": "white",
            "linecolor": "white",
            "ticks": ""
           }
          },
          "title": {
           "x": 0.05
          },
          "xaxis": {
           "automargin": true,
           "gridcolor": "white",
           "linecolor": "white",
           "ticks": "",
           "title": {
            "standoff": 15
           },
           "zerolinecolor": "white",
           "zerolinewidth": 2
          },
          "yaxis": {
           "automargin": true,
           "gridcolor": "white",
           "linecolor": "white",
           "ticks": "",
           "title": {
            "standoff": 15
           },
           "zerolinecolor": "white",
           "zerolinewidth": 2
          }
         }
        },
        "title": {
         "text": "z = 12.32 + 0.2 * rms + -0.03 * f0",
         "x": 0.5,
         "xanchor": "center"
        }
       }
      }
     },
     "metadata": {},
     "output_type": "display_data"
    }
   ],
   "source": [
    "if len(dicc_model) == 2:\n",
    "    import plotly.express as px\n",
    "    import plotly.graph_objects as go\n",
    "\n",
    "    # Seleccionamos solo las características seleccionadas en X\n",
    "    X_selected = X[:, selected_features]\n",
    "\n",
    "    # Entrenamos el modelo de regresión con las características seleccionadas\n",
    "    regr_multivar = LinearRegression()\n",
    "    regr_multivar.fit(X_selected, y)\n",
    "\n",
    "    # Obtenemos las predicciones del modelo para las características seleccionadas\n",
    "    y_pred = regr_multivar.predict(X_selected)\n",
    "\n",
    "    # Crear la figura\n",
    "    fig = px.scatter_3d(x=X_selected[:, 0], y=X_selected[:, 1], z=y)\n",
    "\n",
    "    # Crear el plano de regresión\n",
    "    xx, yy = np.meshgrid(X_selected[:, 0], X_selected[:, 1])\n",
    "    zz = regr_multivar.intercept_ + np.dot(np.array([xx.ravel(), yy.ravel()]).T, regr_multivar.coef_.ravel()).reshape(xx.shape)\n",
    "    fig.add_trace(go.Surface(x=xx, y=yy, z=zz, opacity=0.5))\n",
    "\n",
    "    # Construir la cadena de texto para la ecuación del plano\n",
    "    equation = f'z = {regr_multivar.intercept_.round(2)}'\n",
    "    for i, (key, model) in enumerate(dicc_model.items()):\n",
    "        equation += f' + {regr_multivar.coef_[i].round(2)} * {key.replace(\"_model\", \"\")}'\n",
    "    \n",
    "    # Centrar el título\n",
    "    fig.update_layout(title=dict(text=equation, x=0.5, xanchor='center'))\n",
    "\n",
    "    # Etiquetas de los ejes y rango del eje z\n",
    "    fig.update_layout(scene=dict(xaxis_title=list(dicc_model.keys())[0].replace(\"_model\", \"\"), yaxis_title=list(dicc_model.keys())[1].replace(\"_model\", \"\"), zaxis_title='Acentuación', zaxis=dict(range=[0, 6]), yaxis=dict(tickvals=[100, 105, 110, 115])))\n",
    "\n",
    "    fig.write_html(\n",
    "       os.path.join(PATH, TEST_FOLDER, REGGRESSION_FOLDER, PARAMETRIC_FOLDER, ACENTUACION_FOLDER, FEMALE_FOLDER, 'regresion_acentuacion_multivariable_female.html')\n",
    "    )\n",
    "\n",
    "    fig.show()\n"
   ]
  },
  {
   "attachments": {},
   "cell_type": "markdown",
   "id": "9afe24b5",
   "metadata": {
    "papermill": {
     "duration": 0.129846,
     "end_time": "2023-06-11T01:39:56.990706",
     "exception": false,
     "start_time": "2023-06-11T01:39:56.860860",
     "status": "completed"
    },
    "tags": []
   },
   "source": [
    "### Naturalidad"
   ]
  },
  {
   "cell_type": "code",
   "execution_count": 152,
   "id": "240d9c8e",
   "metadata": {
    "execution": {
     "iopub.execute_input": "2023-06-11T01:39:57.219758Z",
     "iopub.status.busy": "2023-06-11T01:39:57.218755Z",
     "iopub.status.idle": "2023-06-11T01:39:57.240450Z",
     "shell.execute_reply": "2023-06-11T01:39:57.240450Z"
    },
    "papermill": {
     "duration": 0.148918,
     "end_time": "2023-06-11T01:39:57.240450",
     "exception": false,
     "start_time": "2023-06-11T01:39:57.091532",
     "status": "completed"
    },
    "tags": []
   },
   "outputs": [],
   "source": [
    "df_naturalidad = df_union.loc[:, ['Naturalidad', 'zcr', 'rms', 'f0', 'genero']]"
   ]
  },
  {
   "attachments": {},
   "cell_type": "markdown",
   "id": "bedcb547",
   "metadata": {
    "papermill": {
     "duration": 0.097517,
     "end_time": "2023-06-11T01:39:57.494187",
     "exception": false,
     "start_time": "2023-06-11T01:39:57.396670",
     "status": "completed"
    },
    "tags": []
   },
   "source": [
    "#### Masculino"
   ]
  },
  {
   "cell_type": "code",
   "execution_count": 153,
   "id": "3dc67f02",
   "metadata": {
    "execution": {
     "iopub.execute_input": "2023-06-11T01:39:57.874157Z",
     "iopub.status.busy": "2023-06-11T01:39:57.874157Z",
     "iopub.status.idle": "2023-06-11T01:39:57.889775Z",
     "shell.execute_reply": "2023-06-11T01:39:57.889775Z"
    },
    "papermill": {
     "duration": 0.231743,
     "end_time": "2023-06-11T01:39:57.889775",
     "exception": false,
     "start_time": "2023-06-11T01:39:57.658032",
     "status": "completed"
    },
    "tags": []
   },
   "outputs": [],
   "source": [
    "# Lista de p-values\n",
    "p_values = []\n",
    "\n",
    "mask_gender = df_naturalidad.genero == 'masculino'\n",
    "\n",
    "df_naturalidad_male = df_naturalidad[mask_gender].drop(columns=['genero'])"
   ]
  },
  {
   "cell_type": "code",
   "execution_count": 154,
   "id": "0b3818c3",
   "metadata": {
    "execution": {
     "iopub.execute_input": "2023-06-11T01:39:58.079556Z",
     "iopub.status.busy": "2023-06-11T01:39:58.079556Z",
     "iopub.status.idle": "2023-06-11T01:39:58.158201Z",
     "shell.execute_reply": "2023-06-11T01:39:58.157967Z"
    },
    "papermill": {
     "duration": 0.172364,
     "end_time": "2023-06-11T01:39:58.158201",
     "exception": false,
     "start_time": "2023-06-11T01:39:57.985837",
     "status": "completed"
    },
    "tags": []
   },
   "outputs": [
    {
     "name": "stdout",
     "output_type": "stream",
     "text": [
      "Características seleccionadas: (0,)\n",
      "Característica ZCR: p-valor = 0.0180\n",
      "Característica RMS: p-valor = 0.8911\n",
      "Característica f0: p-valor = 0.6192\n"
     ]
    }
   ],
   "source": [
    "# Cargamos los datos\n",
    "X = np.array(df_naturalidad_male.drop(columns=['Naturalidad'])) # df_objetivos es el DataFrame con los parámetros objetivos\n",
    "y = np.array(df_naturalidad_male.Naturalidad) # df_subjetivos es el DataFrame con los parámetros subjetivos\n",
    "\n",
    "# Creamos el modelo de regresión lineal\n",
    "regr_multivar = LinearRegression()\n",
    "\n",
    "# Creamos el selector de características hacia adelante\n",
    "forward_selector = SequentialFeatureSelector(regr_multivar, k_features='best', forward=True, scoring='neg_mean_squared_error')\n",
    "\n",
    "# Entrenamos el selector de características\n",
    "forward_selector.fit(X, y)\n",
    "\n",
    "# Obtenemos las características seleccionadas\n",
    "selected_features = forward_selector.k_feature_idx_\n",
    "\n",
    "# Imprimimos las características seleccionadas\n",
    "print('Características seleccionadas:', selected_features)\n",
    "\n",
    "# Agregamos una columna de unos para representar el término de intercepción\n",
    "X2 = sm.add_constant(X)\n",
    "\n",
    "# Creamos el modelo OLS (mínimos cuadrados ordinarios) y lo ajustamos a los datos\n",
    "model = sm.OLS(y, X2)\n",
    "results = model.fit()\n",
    "\n",
    "# Imprimimos los p-valores para cada característica seleccionada\n",
    "for feature, pvalue in zip(list(range(X.shape[1])), results.pvalues[1:]):\n",
    "\n",
    "    if feature == 0:\n",
    "        feature = 'ZCR'\n",
    "    elif feature == 1:\n",
    "        feature = 'RMS'\n",
    "    else:\n",
    "        feature = 'f0'\n",
    "    \n",
    "    print(f'Característica {feature}: p-valor = {pvalue:.4f}')\n",
    "\n",
    "    p_values.append(pvalue)\n",
    "    dicc_p_value[feature].append(pvalue)\n",
    "\n",
    "dicc_p_value['subjetive_parameter'].append('Naturalidad')\n",
    "dicc_p_value['genero'].append('masculino')\n",
    "dicc_p_value['selected_features'].append(list(selected_features))\n"
   ]
  },
  {
   "cell_type": "code",
   "execution_count": 155,
   "id": "6dd1969f",
   "metadata": {
    "execution": {
     "iopub.execute_input": "2023-06-11T01:40:17.691057Z",
     "iopub.status.busy": "2023-06-11T01:40:17.675433Z",
     "iopub.status.idle": "2023-06-11T01:40:17.706883Z",
     "shell.execute_reply": "2023-06-11T01:40:17.706883Z"
    },
    "papermill": {
     "duration": 0.119392,
     "end_time": "2023-06-11T01:40:17.706883",
     "exception": false,
     "start_time": "2023-06-11T01:40:17.587491",
     "status": "completed"
    },
    "tags": []
   },
   "outputs": [],
   "source": [
    "# Dicc auxiliar con los nombres asociadas a las variables\n",
    "dicc_names_features = {\n",
    "    'zcr_model': 0,\n",
    "    'rms_model': 1,\n",
    "    'f0_model': 2\n",
    "}\n",
    "\n",
    "# Dicc de los modelos\n",
    "dicc_model = {}\n",
    "\n",
    "# Dicc de las predicciones\n",
    "dicc_pred = {}\n",
    "\n",
    "for selected_feature in selected_features:\n",
    "    # Entrenamos el modelo de regresión con las características seleccionadas\n",
    "    regr_multivar = LinearRegression()\n",
    "    regr_multivar.fit(X[:, selected_feature].reshape(-1, 1), y.ravel())\n",
    "\n",
    "    # Almacenamos en dicc_model la clave asociada al modelo que se entrenó y el objeto modelo\n",
    "    for key, value in dicc_names_features.items():\n",
    "        if value == selected_feature:\n",
    "            dicc_model[key] = regr_multivar\n",
    "\n",
    "    # Obtenemos las predicciones del modelo para las características seleccionadas\n",
    "    y_pred = regr_multivar.predict(X[:, selected_feature].reshape(-1, 1))\n",
    "\n",
    "    # Almacenamos en dicc_pred la clave asociada al modelo que se entrenó y la predicción\n",
    "    for key, value in dicc_names_features.items():\n",
    "        if value == selected_feature:\n",
    "            dicc_pred[key] = y_pred\n"
   ]
  },
  {
   "cell_type": "code",
   "execution_count": 156,
   "id": "9a7cb8e5",
   "metadata": {
    "execution": {
     "iopub.execute_input": "2023-06-11T01:40:17.908699Z",
     "iopub.status.busy": "2023-06-11T01:40:17.908699Z",
     "iopub.status.idle": "2023-06-11T01:40:17.924331Z",
     "shell.execute_reply": "2023-06-11T01:40:17.924331Z"
    },
    "papermill": {
     "duration": 0.108657,
     "end_time": "2023-06-11T01:40:17.924331",
     "exception": false,
     "start_time": "2023-06-11T01:40:17.815674",
     "status": "completed"
    },
    "tags": []
   },
   "outputs": [
    {
     "name": "stdout",
     "output_type": "stream",
     "text": [
      "y = -11.17 * ZCR + 4.58 - p-valor = 0.018\n"
     ]
    }
   ],
   "source": [
    "list_equ = []\n",
    "\n",
    "for key, model in dicc_model.items():\n",
    "    # Obtenemos los valores de w y b\n",
    "    w = model.coef_[0]\n",
    "    b = model.intercept_\n",
    "    \n",
    "    label = key.replace(\"_model\", \"\")\n",
    "    if label == 'f0':\n",
    "        label = r'$f_{0}$'\n",
    "    else:\n",
    "        label = label.upper()\n",
    "\n",
    "    # Construimos la cadena de texto para la ecuación del hiperplano y su p-valor\n",
    "    equation = f'y = {w:.2f} * {label} + {b:.2f} - p-valor = {p_values[dicc_names_features[key]]:.3f}'\n",
    "\n",
    "    # Agregamos la cadena a la lista\n",
    "    list_equ.append(equation)\n",
    "\n",
    "# Mostramos el resultado\n",
    "for equ in list_equ:\n",
    "    print(equ)\n"
   ]
  },
  {
   "cell_type": "code",
   "execution_count": 157,
   "id": "31b4d1c2",
   "metadata": {
    "execution": {
     "iopub.execute_input": "2023-06-11T01:40:18.127457Z",
     "iopub.status.busy": "2023-06-11T01:40:18.127457Z",
     "iopub.status.idle": "2023-06-11T01:40:18.965351Z",
     "shell.execute_reply": "2023-06-11T01:40:18.964382Z"
    },
    "papermill": {
     "duration": 0.95023,
     "end_time": "2023-06-11T01:40:18.968347",
     "exception": false,
     "start_time": "2023-06-11T01:40:18.018117",
     "status": "completed"
    },
    "tags": []
   },
   "outputs": [
    {
     "data": {
      "image/png": "[encoded data removed]",
      "text/plain": [
       "<Figure size 600x400 with 1 Axes>"
      ]
     },
     "metadata": {},
     "output_type": "display_data"
    }
   ],
   "source": [
    "dims = (6 * len(dicc_model), 4)\n",
    "fig, ax = plt.subplots(figsize=dims, ncols=len(dicc_model))\n",
    "\n",
    "with sns.axes_style('darkgrid'):\n",
    "    for i, (key, model) in enumerate(dicc_model.items()):\n",
    "        if isinstance(ax, np.ndarray):\n",
    "            ax_i = ax[i]\n",
    "        else:\n",
    "            ax_i = ax\n",
    "        label = key.replace(\"_model\", \"\")\n",
    "        if label == 'f0':\n",
    "            label = r'$f_{0}$'\n",
    "        else:\n",
    "            label = label.upper()\n",
    "        g = sns.scatterplot(x=X[:, dicc_names_features[key]], y=y, ax=ax_i, color='blue')\n",
    "        g = sns.lineplot(x=X[:, dicc_names_features[key]], y=dicc_pred[key], ax=ax_i, color='red')\n",
    "        g.text(0.5, -0.1, label, weight='bold', size='large', family='Arial', stretch='extra-expanded', ha='center', va='top', transform=g.transAxes)\n",
    "        g.set_ylabel('Naturalidad', weight='bold', size='large', alpha=0.8, family='Arial', stretch='extra-expanded')\n",
    "        g.set_title(list_equ[i], weight='bold', size='x-large', alpha=0.8, family='Arial', stretch='extra-expanded')\n",
    "        g.grid(alpha=0.7)\n",
    "        ax_i.set_ylim(0, 6)\n",
    "\n",
    "    plt.tight_layout()\n",
    "    plt.savefig(os.path.join(PATH, TEST_FOLDER, REGGRESSION_FOLDER, PARAMETRIC_FOLDER, NATURALIDAD_FOLDER, MALE_FOLDER, 'regresiones_naturalidad_male.png'))\n",
    "    plt.show()\n"
   ]
  },
  {
   "cell_type": "code",
   "execution_count": 158,
   "id": "32e10979",
   "metadata": {
    "execution": {
     "iopub.execute_input": "2023-06-11T01:40:19.202274Z",
     "iopub.status.busy": "2023-06-11T01:40:19.200275Z",
     "iopub.status.idle": "2023-06-11T01:40:19.345301Z",
     "shell.execute_reply": "2023-06-11T01:40:19.341372Z"
    },
    "papermill": {
     "duration": 0.269195,
     "end_time": "2023-06-11T01:40:19.348273",
     "exception": false,
     "start_time": "2023-06-11T01:40:19.079078",
     "status": "completed"
    },
    "tags": []
   },
   "outputs": [],
   "source": [
    "if len(dicc_model) == 2:\n",
    "    import plotly.express as px\n",
    "    import plotly.graph_objects as go\n",
    "\n",
    "    # Seleccionamos solo las características seleccionadas en X\n",
    "    X_selected = X[:, selected_features]\n",
    "\n",
    "    # Entrenamos el modelo de regresión con las características seleccionadas\n",
    "    regr_multivar = LinearRegression()\n",
    "    regr_multivar.fit(X_selected, y)\n",
    "\n",
    "    # Obtenemos las predicciones del modelo para las características seleccionadas\n",
    "    y_pred = regr_multivar.predict(X_selected)\n",
    "\n",
    "    # Crear la figura\n",
    "    fig = px.scatter_3d(x=X_selected[:, 0], y=X_selected[:, 1], z=y)\n",
    "\n",
    "    # Crear el plano de regresión\n",
    "    xx, yy = np.meshgrid(X_selected[:, 0], X_selected[:, 1])\n",
    "    zz = regr_multivar.intercept_ + np.dot(np.array([xx.ravel(), yy.ravel()]).T, regr_multivar.coef_.ravel()).reshape(xx.shape)\n",
    "    fig.add_trace(go.Surface(x=xx, y=yy, z=zz, opacity=0.5))\n",
    "\n",
    "    # Construir la cadena de texto para la ecuación del plano\n",
    "    equation = f'z = {regr_multivar.intercept_.round(2)}'\n",
    "    for i, (key, model) in enumerate(dicc_model.items()):\n",
    "        equation += f' + {regr_multivar.coef_[i].round(2)} * {key.replace(\"_model\", \"\")}'\n",
    "    \n",
    "    # Centrar el título\n",
    "    fig.update_layout(title=dict(text=equation, x=0.5, xanchor='center'))\n",
    "\n",
    "    # Etiquetas de los ejes y rango del eje z\n",
    "    fig.update_layout(scene=dict(xaxis_title=list(dicc_model.keys())[0].replace(\"_model\", \"\"), yaxis_title=list(dicc_model.keys())[1].replace(\"_model\", \"\"), zaxis_title='Naturalidad', zaxis=dict(range=[0, 6]), yaxis=dict(tickvals=[-24, -23, -22, -21])))\n",
    "\n",
    "    fig.write_html(\n",
    "       os.path.join(PATH, TEST_FOLDER, REGGRESSION_FOLDER, PARAMETRIC_FOLDER, NATURALIDAD_FOLDER, MALE_FOLDER, 'regresion_naturalidad_multivariable_male.html')\n",
    "    )\n",
    "\n",
    "    fig.show()\n"
   ]
  },
  {
   "attachments": {},
   "cell_type": "markdown",
   "id": "1968705b",
   "metadata": {
    "papermill": {
     "duration": 0.096481,
     "end_time": "2023-06-11T01:40:19.556672",
     "exception": false,
     "start_time": "2023-06-11T01:40:19.460191",
     "status": "completed"
    },
    "tags": []
   },
   "source": [
    "#### Femenino"
   ]
  },
  {
   "cell_type": "code",
   "execution_count": 159,
   "id": "fbe4ffcc",
   "metadata": {
    "execution": {
     "iopub.execute_input": "2023-06-11T01:40:19.839035Z",
     "iopub.status.busy": "2023-06-11T01:40:19.838033Z",
     "iopub.status.idle": "2023-06-11T01:40:19.862031Z",
     "shell.execute_reply": "2023-06-11T01:40:19.861039Z"
    },
    "papermill": {
     "duration": 0.194993,
     "end_time": "2023-06-11T01:40:19.865029",
     "exception": false,
     "start_time": "2023-06-11T01:40:19.670036",
     "status": "completed"
    },
    "tags": []
   },
   "outputs": [],
   "source": [
    "# Lista de p-values\n",
    "p_values = []\n",
    "\n",
    "mask_gender = df_naturalidad.genero == 'femenino'\n",
    "\n",
    "df_naturalidad_female = df_naturalidad[mask_gender].drop(columns=['genero'])"
   ]
  },
  {
   "cell_type": "code",
   "execution_count": 160,
   "id": "e6dbfa05",
   "metadata": {
    "execution": {
     "iopub.execute_input": "2023-06-11T01:40:20.091998Z",
     "iopub.status.busy": "2023-06-11T01:40:20.090998Z",
     "iopub.status.idle": "2023-06-11T01:40:20.171002Z",
     "shell.execute_reply": "2023-06-11T01:40:20.169094Z"
    },
    "papermill": {
     "duration": 0.219815,
     "end_time": "2023-06-11T01:40:20.174036",
     "exception": false,
     "start_time": "2023-06-11T01:40:19.954221",
     "status": "completed"
    },
    "tags": []
   },
   "outputs": [
    {
     "name": "stdout",
     "output_type": "stream",
     "text": [
      "Características seleccionadas: (1, 2)\n",
      "Característica ZCR: p-valor = 0.1070\n",
      "Característica RMS: p-valor = 0.3334\n",
      "Característica f0: p-valor = 0.0733\n"
     ]
    }
   ],
   "source": [
    "# Cargamos los datos\n",
    "X = np.array(df_naturalidad_female.drop(columns=['Naturalidad'])) # df_objetivos es el DataFrame con los parámetros objetivos\n",
    "y = np.array(df_naturalidad_female.Naturalidad) # df_subjetivos es el DataFrame con los parámetros subjetivos\n",
    "\n",
    "# Creamos el modelo de regresión lineal\n",
    "regr_multivar = LinearRegression()\n",
    "\n",
    "# Creamos el selector de características hacia adelante\n",
    "forward_selector = SequentialFeatureSelector(regr_multivar, k_features='best', forward=True, scoring='neg_mean_squared_error')\n",
    "\n",
    "# Entrenamos el selector de características\n",
    "forward_selector.fit(X, y)\n",
    "\n",
    "# Obtenemos las características seleccionadas\n",
    "selected_features = forward_selector.k_feature_idx_\n",
    "\n",
    "# Imprimimos las características seleccionadas\n",
    "print('Características seleccionadas:', selected_features)\n",
    "\n",
    "# Agregamos una columna de unos para representar el término de intercepción\n",
    "X2 = sm.add_constant(X)\n",
    "\n",
    "# Creamos el modelo OLS (mínimos cuadrados ordinarios) y lo ajustamos a los datos\n",
    "model = sm.OLS(y, X2)\n",
    "results = model.fit()\n",
    "\n",
    "# Imprimimos los p-valores para cada característica seleccionada\n",
    "for feature, pvalue in zip(list(range(X.shape[1])), results.pvalues[1:]):\n",
    "\n",
    "    if feature == 0:\n",
    "        feature = 'ZCR'\n",
    "    elif feature == 1:\n",
    "        feature = 'RMS'\n",
    "    else:\n",
    "        feature = 'f0'\n",
    "    \n",
    "    print(f'Característica {feature}: p-valor = {pvalue:.4f}')\n",
    "\n",
    "    p_values.append(pvalue)\n",
    "    dicc_p_value[feature].append(pvalue)\n",
    "\n",
    "dicc_p_value['subjetive_parameter'].append('Naturalidad')\n",
    "dicc_p_value['genero'].append('femenino')\n",
    "dicc_p_value['selected_features'].append(list(selected_features))\n"
   ]
  },
  {
   "cell_type": "code",
   "execution_count": 161,
   "id": "97910b40",
   "metadata": {
    "execution": {
     "iopub.execute_input": "2023-06-11T01:40:36.840026Z",
     "iopub.status.busy": "2023-06-11T01:40:36.840026Z",
     "iopub.status.idle": "2023-06-11T01:40:36.855735Z",
     "shell.execute_reply": "2023-06-11T01:40:36.855735Z"
    },
    "papermill": {
     "duration": 0.128818,
     "end_time": "2023-06-11T01:40:36.855735",
     "exception": false,
     "start_time": "2023-06-11T01:40:36.726917",
     "status": "completed"
    },
    "tags": []
   },
   "outputs": [],
   "source": [
    "# Dicc auxiliar con los nombres asociadas a las variables\n",
    "dicc_names_features = {\n",
    "    'zcr_model': 0,\n",
    "    'rms_model': 1,\n",
    "    'f0_model': 2\n",
    "}\n",
    "\n",
    "# Dicc de los modelos\n",
    "dicc_model = {}\n",
    "\n",
    "# Dicc de las predicciones\n",
    "dicc_pred = {}\n",
    "\n",
    "for selected_feature in selected_features:\n",
    "    # Entrenamos el modelo de regresión con las características seleccionadas\n",
    "    regr_multivar = LinearRegression()\n",
    "    regr_multivar.fit(X[:, selected_feature].reshape(-1, 1), y.ravel())\n",
    "\n",
    "    # Almacenamos en dicc_model la clave asociada al modelo que se entrenó y el objeto modelo\n",
    "    for key, value in dicc_names_features.items():\n",
    "        if value == selected_feature:\n",
    "            dicc_model[key] = regr_multivar\n",
    "\n",
    "    # Obtenemos las predicciones del modelo para las características seleccionadas\n",
    "    y_pred = regr_multivar.predict(X[:, selected_feature].reshape(-1, 1))\n",
    "\n",
    "    # Almacenamos en dicc_pred la clave asociada al modelo que se entrenó y la predicción\n",
    "    for key, value in dicc_names_features.items():\n",
    "        if value == selected_feature:\n",
    "            dicc_pred[key] = y_pred\n"
   ]
  },
  {
   "cell_type": "code",
   "execution_count": 162,
   "id": "0959ca28",
   "metadata": {
    "execution": {
     "iopub.execute_input": "2023-06-11T01:40:37.071862Z",
     "iopub.status.busy": "2023-06-11T01:40:37.071862Z",
     "iopub.status.idle": "2023-06-11T01:40:37.103162Z",
     "shell.execute_reply": "2023-06-11T01:40:37.103162Z"
    },
    "papermill": {
     "duration": 0.153774,
     "end_time": "2023-06-11T01:40:37.103162",
     "exception": false,
     "start_time": "2023-06-11T01:40:36.949388",
     "status": "completed"
    },
    "tags": []
   },
   "outputs": [
    {
     "name": "stdout",
     "output_type": "stream",
     "text": [
      "y = 0.35 * RMS + 12.95 - p-valor = 0.333\n",
      "y = -0.03 * $f_{0}$ + 5.90 - p-valor = 0.073\n"
     ]
    }
   ],
   "source": [
    "list_equ = []\n",
    "\n",
    "for key, model in dicc_model.items():\n",
    "    # Obtenemos los valores de w y b\n",
    "    w = model.coef_[0]\n",
    "    b = model.intercept_\n",
    "    \n",
    "    label = key.replace(\"_model\", \"\")\n",
    "    if label == 'f0':\n",
    "        label = r'$f_{0}$'\n",
    "    else:\n",
    "        label = label.upper()\n",
    "\n",
    "    # Construimos la cadena de texto para la ecuación del hiperplano y su p-valor\n",
    "    equation = f'y = {w:.2f} * {label} + {b:.2f} - p-valor = {p_values[dicc_names_features[key]]:.3f}'\n",
    "\n",
    "    # Agregamos la cadena a la lista\n",
    "    list_equ.append(equation)\n",
    "\n",
    "# Mostramos el resultado\n",
    "for equ in list_equ:\n",
    "    print(equ)\n"
   ]
  },
  {
   "cell_type": "code",
   "execution_count": 163,
   "id": "5a51f6be",
   "metadata": {
    "execution": {
     "iopub.execute_input": "2023-06-11T01:40:37.325110Z",
     "iopub.status.busy": "2023-06-11T01:40:37.325110Z",
     "iopub.status.idle": "2023-06-11T01:40:38.407252Z",
     "shell.execute_reply": "2023-06-11T01:40:38.407252Z"
    },
    "papermill": {
     "duration": 1.210398,
     "end_time": "2023-06-11T01:40:38.407252",
     "exception": false,
     "start_time": "2023-06-11T01:40:37.196854",
     "status": "completed"
    },
    "tags": []
   },
   "outputs": [
    {
     "data": {
      "image/png": "[encoded data removed]",
      "text/plain": [
       "<Figure size 1200x400 with 2 Axes>"
      ]
     },
     "metadata": {},
     "output_type": "display_data"
    }
   ],
   "source": [
    "dims = (6 * len(dicc_model), 4)\n",
    "fig, ax = plt.subplots(figsize=dims, ncols=len(dicc_model))\n",
    "\n",
    "with sns.axes_style('darkgrid'):\n",
    "    for i, (key, model) in enumerate(dicc_model.items()):\n",
    "        if isinstance(ax, np.ndarray):\n",
    "            ax_i = ax[i]\n",
    "        else:\n",
    "            ax_i = ax\n",
    "        label = key.replace(\"_model\", \"\")\n",
    "        if label == 'f0':\n",
    "            label = r'$f_{0}$'\n",
    "        else:\n",
    "            label = label.upper()\n",
    "        g = sns.scatterplot(x=X[:, dicc_names_features[key]], y=y, ax=ax_i, color='blue')\n",
    "        g = sns.lineplot(x=X[:, dicc_names_features[key]], y=dicc_pred[key], ax=ax_i, color='red')\n",
    "        g.text(0.5, -0.1, label, weight='bold', size='large', family='Arial', stretch='extra-expanded', ha='center', va='top', transform=g.transAxes)\n",
    "        g.set_ylabel('Naturalidad', weight='bold', size='large', alpha=0.8, family='Arial', stretch='extra-expanded')\n",
    "        g.set_title(list_equ[i], weight='bold', size='x-large', alpha=0.8, family='Arial', stretch='extra-expanded')\n",
    "        g.grid(alpha=0.7)\n",
    "        ax_i.set_ylim(0, 6)\n",
    "\n",
    "    plt.tight_layout()\n",
    "    plt.savefig(os.path.join(PATH, TEST_FOLDER, REGGRESSION_FOLDER, PARAMETRIC_FOLDER, NATURALIDAD_FOLDER, FEMALE_FOLDER, 'regresiones_naturalidad_female.png'))\n",
    "    plt.show()\n"
   ]
  },
  {
   "cell_type": "code",
   "execution_count": 164,
   "id": "e1e3c881",
   "metadata": {
    "execution": {
     "iopub.execute_input": "2023-06-11T01:40:38.608543Z",
     "iopub.status.busy": "2023-06-11T01:40:38.608543Z",
     "iopub.status.idle": "2023-06-11T01:40:38.639886Z",
     "shell.execute_reply": "2023-06-11T01:40:38.639886Z"
    },
    "papermill": {
     "duration": 0.138964,
     "end_time": "2023-06-11T01:40:38.639886",
     "exception": false,
     "start_time": "2023-06-11T01:40:38.500922",
     "status": "completed"
    },
    "tags": []
   },
   "outputs": [
    {
     "data": {
      "application/vnd.plotly.v1+json": {
       "config": {
        "plotlyServerURL": "https://plot.ly"
       },
       "data": [
        {
         "hovertemplate": "x=%{x}<br>y=%{y}<br>z=%{z}<extra></extra>",
         "legendgroup": "",
         "marker": {
          "color": "#636efa",
          "symbol": "circle"
         },
         "mode": "markers",
         "name": "",
         "scene": "scene",
         "showlegend": false,
         "type": "scatter3d",
         "x": [
          -27.5,
          -26.1,
          -27,
          -30,
          -29,
          -28.5,
          -25.5,
          -26.5,
          -29.5,
          -28
         ],
         "y": [
          111.111716480441,
          116.353345265724,
          101.312090449968,
          101.534873965827,
          117.741416962869,
          119.577565453938,
          100.992252773665,
          117.898565521619,
          102.269338478718,
          94.7081174667994
         ],
         "z": [
          4.232142857142857,
          3.107142857142857,
          3.3035714285714284,
          2.107142857142857,
          1.875,
          2.6785714285714284,
          4.017857142857143,
          3.2142857142857144,
          2.75,
          3.696428571428572
         ]
        },
        {
         "opacity": 0.5,
         "type": "surface",
         "x": [
          [
           -27.5,
           -26.1,
           -27,
           -30,
           -29,
           -28.5,
           -25.5,
           -26.5,
           -29.5,
           -28
          ],
          [
           -27.5,
           -26.1,
           -27,
           -30,
           -29,
           -28.5,
           -25.5,
           -26.5,
           -29.5,
           -28
          ],
          [
           -27.5,
           -26.1,
           -27,
           -30,
           -29,
           -28.5,
           -25.5,
           -26.5,
           -29.5,
           -28
          ],
          [
           -27.5,
           -26.1,
           -27,
           -30,
           -29,
           -28.5,
           -25.5,
           -26.5,
           -29.5,
           -28
          ],
          [
           -27.5,
           -26.1,
           -27,
           -30,
           -29,
           -28.5,
           -25.5,
           -26.5,
           -29.5,
           -28
          ],
          [
           -27.5,
           -26.1,
           -27,
           -30,
           -29,
           -28.5,
           -25.5,
           -26.5,
           -29.5,
           -28
          ],
          [
           -27.5,
           -26.1,
           -27,
           -30,
           -29,
           -28.5,
           -25.5,
           -26.5,
           -29.5,
           -28
          ],
          [
           -27.5,
           -26.1,
           -27,
           -30,
           -29,
           -28.5,
           -25.5,
           -26.5,
           -29.5,
           -28
          ],
          [
           -27.5,
           -26.1,
           -27,
           -30,
           -29,
           -28.5,
           -25.5,
           -26.5,
           -29.5,
           -28
          ],
          [
           -27.5,
           -26.1,
           -27,
           -30,
           -29,
           -28.5,
           -25.5,
           -26.5,
           -29.5,
           -28
          ]
         ],
         "y": [
          [
           111.111716480441,
           111.111716480441,
           111.111716480441,
           111.111716480441,
           111.111716480441,
           111.111716480441,
           111.111716480441,
           111.111716480441,
           111.111716480441,
           111.111716480441
          ],
          [
           116.353345265724,
           116.353345265724,
           116.353345265724,
           116.353345265724,
           116.353345265724,
           116.353345265724,
           116.353345265724,
           116.353345265724,
           116.353345265724,
           116.353345265724
          ],
          [
           101.312090449968,
           101.312090449968,
           101.312090449968,
           101.312090449968,
           101.312090449968,
           101.312090449968,
           101.312090449968,
           101.312090449968,
           101.312090449968,
           101.312090449968
          ],
          [
           101.534873965827,
           101.534873965827,
           101.534873965827,
           101.534873965827,
           101.534873965827,
           101.534873965827,
           101.534873965827,
           101.534873965827,
           101.534873965827,
           101.534873965827
          ],
          [
           117.741416962869,
           117.741416962869,
           117.741416962869,
           117.741416962869,
           117.741416962869,
           117.741416962869,
           117.741416962869,
           117.741416962869,
           117.741416962869,
           117.741416962869
          ],
          [
           119.577565453938,
           119.577565453938,
           119.577565453938,
           119.577565453938,
           119.577565453938,
           119.577565453938,
           119.577565453938,
           119.577565453938,
           119.577565453938,
           119.577565453938
          ],
          [
           100.992252773665,
           100.992252773665,
           100.992252773665,
           100.992252773665,
           100.992252773665,
           100.992252773665,
           100.992252773665,
           100.992252773665,
           100.992252773665,
           100.992252773665
          ],
          [
           117.898565521619,
           117.898565521619,
           117.898565521619,
           117.898565521619,
           117.898565521619,
           117.898565521619,
           117.898565521619,
           117.898565521619,
           117.898565521619,
           117.898565521619
          ],
          [
           102.269338478718,
           102.269338478718,
           102.269338478718,
           102.269338478718,
           102.269338478718,
           102.269338478718,
           102.269338478718,
           102.269338478718,
           102.269338478718,
           102.269338478718
          ],
          [
           94.7081174667994,
           94.7081174667994,
           94.7081174667994,
           94.7081174667994,
           94.7081174667994,
           94.7081174667994,
           94.7081174667994,
           94.7081174667994,
           94.7081174667994,
           94.7081174667994
          ]
         ],
         "z": [
          [
           3.1063308843470647,
           3.6329108031627033,
           3.2943951410669357,
           2.16600960074771,
           2.542138114187452,
           2.730202370907323,
           3.8585879112265484,
           3.4824593977868066,
           2.354073857467581,
           2.918266627627194
          ],
          [
           2.9361322520229773,
           3.462712170838616,
           3.1241965087428483,
           1.9958109684236227,
           2.3719394818633646,
           2.5600037385832355,
           3.688389278902461,
           3.312260765462719,
           2.1838752251434936,
           2.7480679953031064
          ],
          [
           3.4245302487043734,
           3.951110167520012,
           3.6125945054242443,
           2.4842089651050188,
           2.8603374785447606,
           3.0484017352646315,
           4.176787275583857,
           3.8006587621441152,
           2.6722732218248897,
           3.2364659919845025
          ],
          [
           3.417296342745596,
           3.9438762615612344,
           3.6053605994654667,
           2.476975059146241,
           2.853103572585983,
           3.041167829305854,
           4.1695533696250795,
           3.7934248561853376,
           2.665039315866112,
           3.229232086025725
          ],
          [
           2.8910607839546607,
           3.4176407027702993,
           3.0791250406745316,
           1.950739500355306,
           2.326868013795048,
           2.514932270514919,
           3.6433178108341444,
           3.2671892973944026,
           2.138803757075177,
           2.70299652723479
          ],
          [
           2.831440010579538,
           3.3580199293951765,
           3.019504267299409,
           1.8911187269801832,
           2.267247240419925,
           2.455311497139796,
           3.5836970374590216,
           3.2075685240192797,
           2.079182983700054,
           2.643375753859667
          ],
          [
           3.434915557794808,
           3.9614954766104464,
           3.6229798145146788,
           2.494594274195453,
           2.870722787635195,
           3.058787044355066,
           4.1871725846742915,
           3.8110440712345497,
           2.682658530915324,
           3.246851301074937
          ],
          [
           2.8859580819384387,
           3.4125380007540773,
           3.0740223386583096,
           1.945636798339084,
           2.321765311778826,
           2.509829568498697,
           3.6382151088179224,
           3.2620865953781806,
           2.133701055058955,
           2.697893825218568
          ],
          [
           3.3934478672611057,
           3.9200277860767443,
           3.5815121239809766,
           2.453126583661751,
           2.829255097101493,
           3.017319353821364,
           4.145704894140589,
           3.7695763807008476,
           2.641190840381622,
           3.2053836105412348
          ],
          [
           3.638964962737605,
           4.165544881553243,
           3.8270292194574758,
           2.69864367913825,
           3.074772192577992,
           3.262836449297863,
           4.3912219896170885,
           4.015093476177347,
           2.886707935858121,
           3.450900706017734
          ]
         ]
        }
       ],
       "layout": {
        "legend": {
         "tracegroupgap": 0
        },
        "margin": {
         "t": 60
        },
        "scene": {
         "domain": {
          "x": [
           0,
           1
          ],
          "y": [
           0,
           1
          ]
         },
         "xaxis": {
          "title": {
           "text": "rms"
          }
         },
         "yaxis": {
          "tickvals": [
           100,
           105,
           110,
           115
          ],
          "title": {
           "text": "f0"
          }
         },
         "zaxis": {
          "range": [
           0,
           6
          ],
          "title": {
           "text": "Naturalidad"
          }
         }
        },
        "template": {
         "data": {
          "bar": [
           {
            "error_x": {
             "color": "#2a3f5f"
            },
            "error_y": {
             "color": "#2a3f5f"
            },
            "marker": {
             "line": {
              "color": "#E5ECF6",
              "width": 0.5
             },
             "pattern": {
              "fillmode": "overlay",
              "size": 10,
              "solidity": 0.2
             }
            },
            "type": "bar"
           }
          ],
          "barpolar": [
           {
            "marker": {
             "line": {
              "color": "#E5ECF6",
              "width": 0.5
             },
             "pattern": {
              "fillmode": "overlay",
              "size": 10,
              "solidity": 0.2
             }
            },
            "type": "barpolar"
           }
          ],
          "carpet": [
           {
            "aaxis": {
             "endlinecolor": "#2a3f5f",
             "gridcolor": "white",
             "linecolor": "white",
             "minorgridcolor": "white",
             "startlinecolor": "#2a3f5f"
            },
            "baxis": {
             "endlinecolor": "#2a3f5f",
             "gridcolor": "white",
             "linecolor": "white",
             "minorgridcolor": "white",
             "startlinecolor": "#2a3f5f"
            },
            "type": "carpet"
           }
          ],
          "choropleth": [
           {
            "colorbar": {
             "outlinewidth": 0,
             "ticks": ""
            },
            "type": "choropleth"
           }
          ],
          "contour": [
           {
            "colorbar": {
             "outlinewidth": 0,
             "ticks": ""
            },
            "colorscale": [
             [
              0,
              "#0d0887"
             ],
             [
              0.1111111111111111,
              "#46039f"
             ],
             [
              0.2222222222222222,
              "#7201a8"
             ],
             [
              0.3333333333333333,
              "#9c179e"
             ],
             [
              0.4444444444444444,
              "#bd3786"
             ],
             [
              0.5555555555555556,
              "#d8576b"
             ],
             [
              0.6666666666666666,
              "#ed7953"
             ],
             [
              0.7777777777777778,
              "#fb9f3a"
             ],
             [
              0.8888888888888888,
              "#fdca26"
             ],
             [
              1,
              "#f0f921"
             ]
            ],
            "type": "contour"
           }
          ],
          "contourcarpet": [
           {
            "colorbar": {
             "outlinewidth": 0,
             "ticks": ""
            },
            "type": "contourcarpet"
           }
          ],
          "heatmap": [
           {
            "colorbar": {
             "outlinewidth": 0,
             "ticks": ""
            },
            "colorscale": [
             [
              0,
              "#0d0887"
             ],
             [
              0.1111111111111111,
              "#46039f"
             ],
             [
              0.2222222222222222,
              "#7201a8"
             ],
             [
              0.3333333333333333,
              "#9c179e"
             ],
             [
              0.4444444444444444,
              "#bd3786"
             ],
             [
              0.5555555555555556,
              "#d8576b"
             ],
             [
              0.6666666666666666,
              "#ed7953"
             ],
             [
              0.7777777777777778,
              "#fb9f3a"
             ],
             [
              0.8888888888888888,
              "#fdca26"
             ],
             [
              1,
              "#f0f921"
             ]
            ],
            "type": "heatmap"
           }
          ],
          "heatmapgl": [
           {
            "colorbar": {
             "outlinewidth": 0,
             "ticks": ""
            },
            "colorscale": [
             [
              0,
              "#0d0887"
             ],
             [
              0.1111111111111111,
              "#46039f"
             ],
             [
              0.2222222222222222,
              "#7201a8"
             ],
             [
              0.3333333333333333,
              "#9c179e"
             ],
             [
              0.4444444444444444,
              "#bd3786"
             ],
             [
              0.5555555555555556,
              "#d8576b"
             ],
             [
              0.6666666666666666,
              "#ed7953"
             ],
             [
              0.7777777777777778,
              "#fb9f3a"
             ],
             [
              0.8888888888888888,
              "#fdca26"
             ],
             [
              1,
              "#f0f921"
             ]
            ],
            "type": "heatmapgl"
           }
          ],
          "histogram": [
           {
            "marker": {
             "pattern": {
              "fillmode": "overlay",
              "size": 10,
              "solidity": 0.2
             }
            },
            "type": "histogram"
           }
          ],
          "histogram2d": [
           {
            "colorbar": {
             "outlinewidth": 0,
             "ticks": ""
            },
            "colorscale": [
             [
              0,
              "#0d0887"
             ],
             [
              0.1111111111111111,
              "#46039f"
             ],
             [
              0.2222222222222222,
              "#7201a8"
             ],
             [
              0.3333333333333333,
              "#9c179e"
             ],
             [
              0.4444444444444444,
              "#bd3786"
             ],
             [
              0.5555555555555556,
              "#d8576b"
             ],
             [
              0.6666666666666666,
              "#ed7953"
             ],
             [
              0.7777777777777778,
              "#fb9f3a"
             ],
             [
              0.8888888888888888,
              "#fdca26"
             ],
             [
              1,
              "#f0f921"
             ]
            ],
            "type": "histogram2d"
           }
          ],
          "histogram2dcontour": [
           {
            "colorbar": {
             "outlinewidth": 0,
             "ticks": ""
            },
            "colorscale": [
             [
              0,
              "#0d0887"
             ],
             [
              0.1111111111111111,
              "#46039f"
             ],
             [
              0.2222222222222222,
              "#7201a8"
             ],
             [
              0.3333333333333333,
              "#9c179e"
             ],
             [
              0.4444444444444444,
              "#bd3786"
             ],
             [
              0.5555555555555556,
              "#d8576b"
             ],
             [
              0.6666666666666666,
              "#ed7953"
             ],
             [
              0.7777777777777778,
              "#fb9f3a"
             ],
             [
              0.8888888888888888,
              "#fdca26"
             ],
             [
              1,
              "#f0f921"
             ]
            ],
            "type": "histogram2dcontour"
           }
          ],
          "mesh3d": [
           {
            "colorbar": {
             "outlinewidth": 0,
             "ticks": ""
            },
            "type": "mesh3d"
           }
          ],
          "parcoords": [
           {
            "line": {
             "colorbar": {
              "outlinewidth": 0,
              "ticks": ""
             }
            },
            "type": "parcoords"
           }
          ],
          "pie": [
           {
            "automargin": true,
            "type": "pie"
           }
          ],
          "scatter": [
           {
            "fillpattern": {
             "fillmode": "overlay",
             "size": 10,
             "solidity": 0.2
            },
            "type": "scatter"
           }
          ],
          "scatter3d": [
           {
            "line": {
             "colorbar": {
              "outlinewidth": 0,
              "ticks": ""
             }
            },
            "marker": {
             "colorbar": {
              "outlinewidth": 0,
              "ticks": ""
             }
            },
            "type": "scatter3d"
           }
          ],
          "scattercarpet": [
           {
            "marker": {
             "colorbar": {
              "outlinewidth": 0,
              "ticks": ""
             }
            },
            "type": "scattercarpet"
           }
          ],
          "scattergeo": [
           {
            "marker": {
             "colorbar": {
              "outlinewidth": 0,
              "ticks": ""
             }
            },
            "type": "scattergeo"
           }
          ],
          "scattergl": [
           {
            "marker": {
             "colorbar": {
              "outlinewidth": 0,
              "ticks": ""
             }
            },
            "type": "scattergl"
           }
          ],
          "scattermapbox": [
           {
            "marker": {
             "colorbar": {
              "outlinewidth": 0,
              "ticks": ""
             }
            },
            "type": "scattermapbox"
           }
          ],
          "scatterpolar": [
           {
            "marker": {
             "colorbar": {
              "outlinewidth": 0,
              "ticks": ""
             }
            },
            "type": "scatterpolar"
           }
          ],
          "scatterpolargl": [
           {
            "marker": {
             "colorbar": {
              "outlinewidth": 0,
              "ticks": ""
             }
            },
            "type": "scatterpolargl"
           }
          ],
          "scatterternary": [
           {
            "marker": {
             "colorbar": {
              "outlinewidth": 0,
              "ticks": ""
             }
            },
            "type": "scatterternary"
           }
          ],
          "surface": [
           {
            "colorbar": {
             "outlinewidth": 0,
             "ticks": ""
            },
            "colorscale": [
             [
              0,
              "#0d0887"
             ],
             [
              0.1111111111111111,
              "#46039f"
             ],
             [
              0.2222222222222222,
              "#7201a8"
             ],
             [
              0.3333333333333333,
              "#9c179e"
             ],
             [
              0.4444444444444444,
              "#bd3786"
             ],
             [
              0.5555555555555556,
              "#d8576b"
             ],
             [
              0.6666666666666666,
              "#ed7953"
             ],
             [
              0.7777777777777778,
              "#fb9f3a"
             ],
             [
              0.8888888888888888,
              "#fdca26"
             ],
             [
              1,
              "#f0f921"
             ]
            ],
            "type": "surface"
           }
          ],
          "table": [
           {
            "cells": {
             "fill": {
              "color": "#EBF0F8"
             },
             "line": {
              "color": "white"
             }
            },
            "header": {
             "fill": {
              "color": "#C8D4E3"
             },
             "line": {
              "color": "white"
             }
            },
            "type": "table"
           }
          ]
         },
         "layout": {
          "annotationdefaults": {
           "arrowcolor": "#2a3f5f",
           "arrowhead": 0,
           "arrowwidth": 1
          },
          "autotypenumbers": "strict",
          "coloraxis": {
           "colorbar": {
            "outlinewidth": 0,
            "ticks": ""
           }
          },
          "colorscale": {
           "diverging": [
            [
             0,
             "#8e0152"
            ],
            [
             0.1,
             "#c51b7d"
            ],
            [
             0.2,
             "#de77ae"
            ],
            [
             0.3,
             "#f1b6da"
            ],
            [
             0.4,
             "#fde0ef"
            ],
            [
             0.5,
             "#f7f7f7"
            ],
            [
             0.6,
             "#e6f5d0"
            ],
            [
             0.7,
             "#b8e186"
            ],
            [
             0.8,
             "#7fbc41"
            ],
            [
             0.9,
             "#4d9221"
            ],
            [
             1,
             "#276419"
            ]
           ],
           "sequential": [
            [
             0,
             "#0d0887"
            ],
            [
             0.1111111111111111,
             "#46039f"
            ],
            [
             0.2222222222222222,
             "#7201a8"
            ],
            [
             0.3333333333333333,
             "#9c179e"
            ],
            [
             0.4444444444444444,
             "#bd3786"
            ],
            [
             0.5555555555555556,
             "#d8576b"
            ],
            [
             0.6666666666666666,
             "#ed7953"
            ],
            [
             0.7777777777777778,
             "#fb9f3a"
            ],
            [
             0.8888888888888888,
             "#fdca26"
            ],
            [
             1,
             "#f0f921"
            ]
           ],
           "sequentialminus": [
            [
             0,
             "#0d0887"
            ],
            [
             0.1111111111111111,
             "#46039f"
            ],
            [
             0.2222222222222222,
             "#7201a8"
            ],
            [
             0.3333333333333333,
             "#9c179e"
            ],
            [
             0.4444444444444444,
             "#bd3786"
            ],
            [
             0.5555555555555556,
             "#d8576b"
            ],
            [
             0.6666666666666666,
             "#ed7953"
            ],
            [
             0.7777777777777778,
             "#fb9f3a"
            ],
            [
             0.8888888888888888,
             "#fdca26"
            ],
            [
             1,
             "#f0f921"
            ]
           ]
          },
          "colorway": [
           "#636efa",
           "#EF553B",
           "#00cc96",
           "#ab63fa",
           "#FFA15A",
           "#19d3f3",
           "#FF6692",
           "#B6E880",
           "#FF97FF",
           "#FECB52"
          ],
          "font": {
           "color": "#2a3f5f"
          },
          "geo": {
           "bgcolor": "white",
           "lakecolor": "white",
           "landcolor": "#E5ECF6",
           "showlakes": true,
           "showland": true,
           "subunitcolor": "white"
          },
          "hoverlabel": {
           "align": "left"
          },
          "hovermode": "closest",
          "mapbox": {
           "style": "light"
          },
          "paper_bgcolor": "white",
          "plot_bgcolor": "#E5ECF6",
          "polar": {
           "angularaxis": {
            "gridcolor": "white",
            "linecolor": "white",
            "ticks": ""
           },
           "bgcolor": "#E5ECF6",
           "radialaxis": {
            "gridcolor": "white",
            "linecolor": "white",
            "ticks": ""
           }
          },
          "scene": {
           "xaxis": {
            "backgroundcolor": "#E5ECF6",
            "gridcolor": "white",
            "gridwidth": 2,
            "linecolor": "white",
            "showbackground": true,
            "ticks": "",
            "zerolinecolor": "white"
           },
           "yaxis": {
            "backgroundcolor": "#E5ECF6",
            "gridcolor": "white",
            "gridwidth": 2,
            "linecolor": "white",
            "showbackground": true,
            "ticks": "",
            "zerolinecolor": "white"
           },
           "zaxis": {
            "backgroundcolor": "#E5ECF6",
            "gridcolor": "white",
            "gridwidth": 2,
            "linecolor": "white",
            "showbackground": true,
            "ticks": "",
            "zerolinecolor": "white"
           }
          },
          "shapedefaults": {
           "line": {
            "color": "#2a3f5f"
           }
          },
          "ternary": {
           "aaxis": {
            "gridcolor": "white",
            "linecolor": "white",
            "ticks": ""
           },
           "baxis": {
            "gridcolor": "white",
            "linecolor": "white",
            "ticks": ""
           },
           "bgcolor": "#E5ECF6",
           "caxis": {
            "gridcolor": "white",
            "linecolor": "white",
            "ticks": ""
           }
          },
          "title": {
           "x": 0.05
          },
          "xaxis": {
           "automargin": true,
           "gridcolor": "white",
           "linecolor": "white",
           "ticks": "",
           "title": {
            "standoff": 15
           },
           "zerolinecolor": "white",
           "zerolinewidth": 2
          },
          "yaxis": {
           "automargin": true,
           "gridcolor": "white",
           "linecolor": "white",
           "ticks": "",
           "title": {
            "standoff": 15
           },
           "zerolinecolor": "white",
           "zerolinewidth": 2
          }
         }
        },
        "title": {
         "text": "z = 17.06 + 0.38 * rms + -0.03 * f0",
         "x": 0.5,
         "xanchor": "center"
        }
       }
      }
     },
     "metadata": {},
     "output_type": "display_data"
    }
   ],
   "source": [
    "if len(dicc_model) == 2:\n",
    "    import plotly.express as px\n",
    "    import plotly.graph_objects as go\n",
    "\n",
    "    # Seleccionamos solo las características seleccionadas en X\n",
    "    X_selected = X[:, selected_features]\n",
    "\n",
    "    # Entrenamos el modelo de regresión con las características seleccionadas\n",
    "    regr_multivar = LinearRegression()\n",
    "    regr_multivar.fit(X_selected, y)\n",
    "\n",
    "    # Obtenemos las predicciones del modelo para las características seleccionadas\n",
    "    y_pred = regr_multivar.predict(X_selected)\n",
    "\n",
    "    # Crear la figura\n",
    "    fig = px.scatter_3d(x=X_selected[:, 0], y=X_selected[:, 1], z=y)\n",
    "\n",
    "    # Crear el plano de regresión\n",
    "    xx, yy = np.meshgrid(X_selected[:, 0], X_selected[:, 1])\n",
    "    zz = regr_multivar.intercept_ + np.dot(np.array([xx.ravel(), yy.ravel()]).T, regr_multivar.coef_.ravel()).reshape(xx.shape)\n",
    "    fig.add_trace(go.Surface(x=xx, y=yy, z=zz, opacity=0.5))\n",
    "\n",
    "    # Construir la cadena de texto para la ecuación del plano\n",
    "    equation = f'z = {regr_multivar.intercept_.round(2)}'\n",
    "    for i, (key, model) in enumerate(dicc_model.items()):\n",
    "        equation += f' + {regr_multivar.coef_[i].round(2)} * {key.replace(\"_model\", \"\")}'\n",
    "    \n",
    "    # Centrar el título\n",
    "    fig.update_layout(title=dict(text=equation, x=0.5, xanchor='center'))\n",
    "\n",
    "    # Etiquetas de los ejes y rango del eje z\n",
    "    fig.update_layout(scene=dict(xaxis_title=list(dicc_model.keys())[0].replace(\"_model\", \"\"), yaxis_title=list(dicc_model.keys())[1].replace(\"_model\", \"\"), zaxis_title='Naturalidad', zaxis=dict(range=[0, 6]), yaxis=dict(tickvals=[100, 105, 110, 115])))\n",
    "\n",
    "    fig.write_html(\n",
    "       os.path.join(PATH, TEST_FOLDER, REGGRESSION_FOLDER, PARAMETRIC_FOLDER, NATURALIDAD_FOLDER, FEMALE_FOLDER, 'regresion_naturalidad_multivariable_female.html')\n",
    "    )\n",
    "\n",
    "    fig.show()\n"
   ]
  },
  {
   "attachments": {},
   "cell_type": "markdown",
   "id": "c93d4d28",
   "metadata": {
    "papermill": {
     "duration": 0.107936,
     "end_time": "2023-06-11T01:40:38.841485",
     "exception": false,
     "start_time": "2023-06-11T01:40:38.733549",
     "status": "completed"
    },
    "tags": []
   },
   "source": [
    "### Cadencia"
   ]
  },
  {
   "cell_type": "code",
   "execution_count": 165,
   "id": "842fcc7f",
   "metadata": {
    "execution": {
     "iopub.execute_input": "2023-06-11T01:40:39.074205Z",
     "iopub.status.busy": "2023-06-11T01:40:39.074205Z",
     "iopub.status.idle": "2023-06-11T01:40:39.089780Z",
     "shell.execute_reply": "2023-06-11T01:40:39.089780Z"
    },
    "papermill": {
     "duration": 0.134513,
     "end_time": "2023-06-11T01:40:39.089780",
     "exception": false,
     "start_time": "2023-06-11T01:40:38.955267",
     "status": "completed"
    },
    "tags": []
   },
   "outputs": [],
   "source": [
    "df_cadencia = df_union.loc[:, ['Cadencia', 'zcr', 'rms', 'f0', 'genero']]"
   ]
  },
  {
   "attachments": {},
   "cell_type": "markdown",
   "id": "a360f909",
   "metadata": {
    "papermill": {
     "duration": 0.12338,
     "end_time": "2023-06-11T01:40:39.306947",
     "exception": false,
     "start_time": "2023-06-11T01:40:39.183567",
     "status": "completed"
    },
    "tags": []
   },
   "source": [
    "#### Masculino"
   ]
  },
  {
   "cell_type": "code",
   "execution_count": 166,
   "id": "c9cb3974",
   "metadata": {
    "execution": {
     "iopub.execute_input": "2023-06-11T01:40:39.507602Z",
     "iopub.status.busy": "2023-06-11T01:40:39.507602Z",
     "iopub.status.idle": "2023-06-11T01:40:39.538914Z",
     "shell.execute_reply": "2023-06-11T01:40:39.538914Z"
    },
    "papermill": {
     "duration": 0.12972,
     "end_time": "2023-06-11T01:40:39.538914",
     "exception": false,
     "start_time": "2023-06-11T01:40:39.409194",
     "status": "completed"
    },
    "tags": []
   },
   "outputs": [],
   "source": [
    "# Lista de p-values\n",
    "p_values = []\n",
    "\n",
    "mask_gender = df_cadencia.genero == 'masculino'\n",
    "\n",
    "df_cadencia_male = df_cadencia[mask_gender].drop(columns=['genero'])"
   ]
  },
  {
   "cell_type": "code",
   "execution_count": 167,
   "id": "3c719c59",
   "metadata": {
    "execution": {
     "iopub.execute_input": "2023-06-11T01:40:39.756568Z",
     "iopub.status.busy": "2023-06-11T01:40:39.756568Z",
     "iopub.status.idle": "2023-06-11T01:40:39.834860Z",
     "shell.execute_reply": "2023-06-11T01:40:39.834860Z"
    },
    "papermill": {
     "duration": 0.202257,
     "end_time": "2023-06-11T01:40:39.834860",
     "exception": false,
     "start_time": "2023-06-11T01:40:39.632603",
     "status": "completed"
    },
    "tags": []
   },
   "outputs": [
    {
     "name": "stdout",
     "output_type": "stream",
     "text": [
      "Características seleccionadas: (0, 2)\n",
      "Característica ZCR: p-valor = 0.0023\n",
      "Característica RMS: p-valor = 0.3417\n",
      "Característica f0: p-valor = 0.9909\n"
     ]
    }
   ],
   "source": [
    "# Cargamos los datos\n",
    "X = np.array(df_cadencia_male.drop(columns=['Cadencia'])) # df_objetivos es el DataFrame con los parámetros objetivos\n",
    "y = np.array(df_cadencia_male.Cadencia) # df_subjetivos es el DataFrame con los parámetros subjetivos\n",
    "\n",
    "# Creamos el modelo de regresión lineal\n",
    "regr_multivar = LinearRegression()\n",
    "\n",
    "# Creamos el selector de características hacia adelante\n",
    "forward_selector = SequentialFeatureSelector(regr_multivar, k_features='best', forward=True, scoring='neg_mean_squared_error')\n",
    "\n",
    "# Entrenamos el selector de características\n",
    "forward_selector.fit(X, y)\n",
    "\n",
    "# Obtenemos las características seleccionadas\n",
    "selected_features = forward_selector.k_feature_idx_\n",
    "\n",
    "# Imprimimos las características seleccionadas\n",
    "print('Características seleccionadas:', selected_features)\n",
    "\n",
    "# Agregamos una columna de unos para representar el término de intercepción\n",
    "X2 = sm.add_constant(X)\n",
    "\n",
    "# Creamos el modelo OLS (mínimos cuadrados ordinarios) y lo ajustamos a los datos\n",
    "model = sm.OLS(y, X2)\n",
    "results = model.fit()\n",
    "\n",
    "# Imprimimos los p-valores para cada característica seleccionada\n",
    "for feature, pvalue in zip(list(range(X.shape[1])), results.pvalues[1:]):\n",
    "\n",
    "    if feature == 0:\n",
    "        feature = 'ZCR'\n",
    "    elif feature == 1:\n",
    "        feature = 'RMS'\n",
    "    else:\n",
    "        feature = 'f0'\n",
    "    \n",
    "    print(f'Característica {feature}: p-valor = {pvalue:.4f}')\n",
    "\n",
    "    p_values.append(pvalue)\n",
    "    dicc_p_value[feature].append(pvalue)\n",
    "\n",
    "dicc_p_value['subjetive_parameter'].append('Cadencia')\n",
    "dicc_p_value['genero'].append('masculino')\n",
    "dicc_p_value['selected_features'].append(list(selected_features))\n"
   ]
  },
  {
   "cell_type": "code",
   "execution_count": 168,
   "id": "57102a14",
   "metadata": {
    "execution": {
     "iopub.execute_input": "2023-06-11T01:40:56.607176Z",
     "iopub.status.busy": "2023-06-11T01:40:56.607176Z",
     "iopub.status.idle": "2023-06-11T01:40:56.622896Z",
     "shell.execute_reply": "2023-06-11T01:40:56.622896Z"
    },
    "papermill": {
     "duration": 0.136056,
     "end_time": "2023-06-11T01:40:56.622896",
     "exception": false,
     "start_time": "2023-06-11T01:40:56.486840",
     "status": "completed"
    },
    "tags": []
   },
   "outputs": [],
   "source": [
    "# Dicc auxiliar con los nombres asociadas a las variables\n",
    "dicc_names_features = {\n",
    "    'zcr_model': 0,\n",
    "    'rms_model': 1,\n",
    "    'f0_model': 2\n",
    "}\n",
    "\n",
    "# Dicc de los modelos\n",
    "dicc_model = {}\n",
    "\n",
    "# Dicc de las predicciones\n",
    "dicc_pred = {}\n",
    "\n",
    "for selected_feature in selected_features:\n",
    "    # Entrenamos el modelo de regresión con las características seleccionadas\n",
    "    regr_multivar = LinearRegression()\n",
    "    regr_multivar.fit(X[:, selected_feature].reshape(-1, 1), y.ravel())\n",
    "\n",
    "    # Almacenamos en dicc_model la clave asociada al modelo que se entrenó y el objeto modelo\n",
    "    for key, value in dicc_names_features.items():\n",
    "        if value == selected_feature:\n",
    "            dicc_model[key] = regr_multivar\n",
    "\n",
    "    # Obtenemos las predicciones del modelo para las características seleccionadas\n",
    "    y_pred = regr_multivar.predict(X[:, selected_feature].reshape(-1, 1))\n",
    "\n",
    "    # Almacenamos en dicc_pred la clave asociada al modelo que se entrenó y la predicción\n",
    "    for key, value in dicc_names_features.items():\n",
    "        if value == selected_feature:\n",
    "            dicc_pred[key] = y_pred\n"
   ]
  },
  {
   "cell_type": "code",
   "execution_count": 169,
   "id": "53e6df24",
   "metadata": {
    "execution": {
     "iopub.execute_input": "2023-06-11T01:40:56.856864Z",
     "iopub.status.busy": "2023-06-11T01:40:56.856864Z",
     "iopub.status.idle": "2023-06-11T01:40:56.872593Z",
     "shell.execute_reply": "2023-06-11T01:40:56.872593Z"
    },
    "papermill": {
     "duration": 0.140415,
     "end_time": "2023-06-11T01:40:56.872593",
     "exception": false,
     "start_time": "2023-06-11T01:40:56.732178",
     "status": "completed"
    },
    "tags": []
   },
   "outputs": [
    {
     "name": "stdout",
     "output_type": "stream",
     "text": [
      "y = -13.77 * ZCR + 5.11 - p-valor = 0.002\n",
      "y = -0.07 * $f_{0}$ + 7.93 - p-valor = 0.991\n"
     ]
    }
   ],
   "source": [
    "list_equ = []\n",
    "\n",
    "for key, model in dicc_model.items():\n",
    "    # Obtenemos los valores de w y b\n",
    "    w = model.coef_[0]\n",
    "    b = model.intercept_\n",
    "    \n",
    "    label = key.replace(\"_model\", \"\")\n",
    "    if label == 'f0':\n",
    "        label = r'$f_{0}$'\n",
    "    else:\n",
    "        label = label.upper()\n",
    "\n",
    "    # Construimos la cadena de texto para la ecuación del hiperplano y su p-valor\n",
    "    equation = f'y = {w:.2f} * {label} + {b:.2f} - p-valor = {p_values[dicc_names_features[key]]:.3f}'\n",
    "\n",
    "    # Agregamos la cadena a la lista\n",
    "    list_equ.append(equation)\n",
    "\n",
    "# Mostramos el resultado\n",
    "for equ in list_equ:\n",
    "    print(equ)\n"
   ]
  },
  {
   "cell_type": "code",
   "execution_count": 170,
   "id": "63878874",
   "metadata": {
    "execution": {
     "iopub.execute_input": "2023-06-11T01:40:57.091076Z",
     "iopub.status.busy": "2023-06-11T01:40:57.091076Z",
     "iopub.status.idle": "2023-06-11T01:40:57.945078Z",
     "shell.execute_reply": "2023-06-11T01:40:57.943395Z"
    },
    "papermill": {
     "duration": 0.975622,
     "end_time": "2023-06-11T01:40:57.948078",
     "exception": false,
     "start_time": "2023-06-11T01:40:56.972456",
     "status": "completed"
    },
    "tags": []
   },
   "outputs": [
    {
     "data": {
      "image/png": "[encoded data removed]",
      "text/plain": [
       "<Figure size 1200x400 with 2 Axes>"
      ]
     },
     "metadata": {},
     "output_type": "display_data"
    }
   ],
   "source": [
    "dims = (6 * len(dicc_model), 4)\n",
    "fig, ax = plt.subplots(figsize=dims, ncols=len(dicc_model))\n",
    "\n",
    "with sns.axes_style('darkgrid'):\n",
    "    for i, (key, model) in enumerate(dicc_model.items()):\n",
    "        if isinstance(ax, np.ndarray):\n",
    "            ax_i = ax[i]\n",
    "        else:\n",
    "            ax_i = ax\n",
    "        label = key.replace(\"_model\", \"\")\n",
    "        if label == 'f0':\n",
    "            label = r'$f_{0}$'\n",
    "        else:\n",
    "            label = label.upper()\n",
    "        g = sns.scatterplot(x=X[:, dicc_names_features[key]], y=y, ax=ax_i, color='blue')\n",
    "        g = sns.lineplot(x=X[:, dicc_names_features[key]], y=dicc_pred[key], ax=ax_i, color='red')\n",
    "        g.text(0.5, -0.1, label, weight='bold', size='large', family='Arial', stretch='extra-expanded', ha='center', va='top', transform=g.transAxes)\n",
    "        g.set_ylabel('Cadencia', weight='bold', size='large', alpha=0.8, family='Arial', stretch='extra-expanded')\n",
    "        g.set_title(list_equ[i], weight='bold', size='x-large', alpha=0.8, family='Arial', stretch='extra-expanded')\n",
    "        g.grid(alpha=0.7)\n",
    "        ax_i.set_ylim(0, 6)\n",
    "\n",
    "    plt.tight_layout()\n",
    "    plt.savefig(os.path.join(PATH, TEST_FOLDER, REGGRESSION_FOLDER, PARAMETRIC_FOLDER, CADENCIA_FOLDER, MALE_FOLDER, 'regresiones_cadencia_male.png'))\n",
    "    plt.show()\n"
   ]
  },
  {
   "cell_type": "code",
   "execution_count": 171,
   "id": "31c9bddd",
   "metadata": {
    "execution": {
     "iopub.execute_input": "2023-06-11T01:40:58.174372Z",
     "iopub.status.busy": "2023-06-11T01:40:58.174372Z",
     "iopub.status.idle": "2023-06-11T01:40:58.299448Z",
     "shell.execute_reply": "2023-06-11T01:40:58.299448Z"
    },
    "papermill": {
     "duration": 0.244883,
     "end_time": "2023-06-11T01:40:58.299448",
     "exception": false,
     "start_time": "2023-06-11T01:40:58.054565",
     "status": "completed"
    },
    "tags": []
   },
   "outputs": [
    {
     "data": {
      "application/vnd.plotly.v1+json": {
       "config": {
        "plotlyServerURL": "https://plot.ly"
       },
       "data": [
        {
         "hovertemplate": "x=%{x}<br>y=%{y}<br>z=%{z}<extra></extra>",
         "legendgroup": "",
         "marker": {
          "color": "#636efa",
          "symbol": "circle"
         },
         "mode": "markers",
         "name": "",
         "scene": "scene",
         "showlegend": false,
         "type": "scatter3d",
         "x": [
          0.0980514874287459,
          0.25162586573765,
          0.239188283778317,
          0.105458211555755,
          0.185066881409123,
          0.137448537263939,
          0.239843081121575,
          0.142275783668731,
          0.172730672751451,
          0.0930430482665395
         ],
         "y": [
          68.7269109799978,
          98.4685046561784,
          78.9681520189018,
          69.0457782226234,
          81.4992124221524,
          71.7717932153514,
          86.6274438096484,
          69.1332152039065,
          80.4995797313246,
          76.4927520021194
         ],
         "z": [
          3.803571428571429,
          1.75,
          1.7321428571428572,
          3.767857142857143,
          3.071428571428572,
          2.5,
          1.5178571428571428,
          3.071428571428572,
          3.017857142857143,
          3.9107142857142856
         ]
        },
        {
         "opacity": 0.5,
         "type": "surface",
         "x": [
          [
           0.0980514874287459,
           0.25162586573765,
           0.239188283778317,
           0.105458211555755,
           0.185066881409123,
           0.137448537263939,
           0.239843081121575,
           0.142275783668731,
           0.172730672751451,
           0.0930430482665395
          ],
          [
           0.0980514874287459,
           0.25162586573765,
           0.239188283778317,
           0.105458211555755,
           0.185066881409123,
           0.137448537263939,
           0.239843081121575,
           0.142275783668731,
           0.172730672751451,
           0.0930430482665395
          ],
          [
           0.0980514874287459,
           0.25162586573765,
           0.239188283778317,
           0.105458211555755,
           0.185066881409123,
           0.137448537263939,
           0.239843081121575,
           0.142275783668731,
           0.172730672751451,
           0.0930430482665395
          ],
          [
           0.0980514874287459,
           0.25162586573765,
           0.239188283778317,
           0.105458211555755,
           0.185066881409123,
           0.137448537263939,
           0.239843081121575,
           0.142275783668731,
           0.172730672751451,
           0.0930430482665395
          ],
          [
           0.0980514874287459,
           0.25162586573765,
           0.239188283778317,
           0.105458211555755,
           0.185066881409123,
           0.137448537263939,
           0.239843081121575,
           0.142275783668731,
           0.172730672751451,
           0.0930430482665395
          ],
          [
           0.0980514874287459,
           0.25162586573765,
           0.239188283778317,
           0.105458211555755,
           0.185066881409123,
           0.137448537263939,
           0.239843081121575,
           0.142275783668731,
           0.172730672751451,
           0.0930430482665395
          ],
          [
           0.0980514874287459,
           0.25162586573765,
           0.239188283778317,
           0.105458211555755,
           0.185066881409123,
           0.137448537263939,
           0.239843081121575,
           0.142275783668731,
           0.172730672751451,
           0.0930430482665395
          ],
          [
           0.0980514874287459,
           0.25162586573765,
           0.239188283778317,
           0.105458211555755,
           0.185066881409123,
           0.137448537263939,
           0.239843081121575,
           0.142275783668731,
           0.172730672751451,
           0.0930430482665395
          ],
          [
           0.0980514874287459,
           0.25162586573765,
           0.239188283778317,
           0.105458211555755,
           0.185066881409123,
           0.137448537263939,
           0.239843081121575,
           0.142275783668731,
           0.172730672751451,
           0.0930430482665395
          ],
          [
           0.0980514874287459,
           0.25162586573765,
           0.239188283778317,
           0.105458211555755,
           0.185066881409123,
           0.137448537263939,
           0.239843081121575,
           0.142275783668731,
           0.172730672751451,
           0.0930430482665395
          ]
         ],
         "y": [
          [
           68.7269109799978,
           68.7269109799978,
           68.7269109799978,
           68.7269109799978,
           68.7269109799978,
           68.7269109799978,
           68.7269109799978,
           68.7269109799978,
           68.7269109799978,
           68.7269109799978
          ],
          [
           98.4685046561784,
           98.4685046561784,
           98.4685046561784,
           98.4685046561784,
           98.4685046561784,
           98.4685046561784,
           98.4685046561784,
           98.4685046561784,
           98.4685046561784,
           98.4685046561784
          ],
          [
           78.9681520189018,
           78.9681520189018,
           78.9681520189018,
           78.9681520189018,
           78.9681520189018,
           78.9681520189018,
           78.9681520189018,
           78.9681520189018,
           78.9681520189018,
           78.9681520189018
          ],
          [
           69.0457782226234,
           69.0457782226234,
           69.0457782226234,
           69.0457782226234,
           69.0457782226234,
           69.0457782226234,
           69.0457782226234,
           69.0457782226234,
           69.0457782226234,
           69.0457782226234
          ],
          [
           81.4992124221524,
           81.4992124221524,
           81.4992124221524,
           81.4992124221524,
           81.4992124221524,
           81.4992124221524,
           81.4992124221524,
           81.4992124221524,
           81.4992124221524,
           81.4992124221524
          ],
          [
           71.7717932153514,
           71.7717932153514,
           71.7717932153514,
           71.7717932153514,
           71.7717932153514,
           71.7717932153514,
           71.7717932153514,
           71.7717932153514,
           71.7717932153514,
           71.7717932153514
          ],
          [
           86.6274438096484,
           86.6274438096484,
           86.6274438096484,
           86.6274438096484,
           86.6274438096484,
           86.6274438096484,
           86.6274438096484,
           86.6274438096484,
           86.6274438096484,
           86.6274438096484
          ],
          [
           69.1332152039065,
           69.1332152039065,
           69.1332152039065,
           69.1332152039065,
           69.1332152039065,
           69.1332152039065,
           69.1332152039065,
           69.1332152039065,
           69.1332152039065,
           69.1332152039065
          ],
          [
           80.4995797313246,
           80.4995797313246,
           80.4995797313246,
           80.4995797313246,
           80.4995797313246,
           80.4995797313246,
           80.4995797313246,
           80.4995797313246,
           80.4995797313246,
           80.4995797313246
          ],
          [
           76.4927520021194,
           76.4927520021194,
           76.4927520021194,
           76.4927520021194,
           76.4927520021194,
           76.4927520021194,
           76.4927520021194,
           76.4927520021194,
           76.4927520021194,
           76.4927520021194
          ]
         ],
         "z": [
          [
           3.7396950418742256,
           1.2119178728199058,
           1.4166358476620733,
           3.617783116513354,
           2.3074540086893878,
           3.091234249142354,
           1.405858126841249,
           3.0117795680568866,
           2.510503416676121,
           3.8221320883804974
          ],
          [
           4.3752248378010785,
           1.8474476687467583,
           2.052165643588926,
           4.253312912440206,
           2.94298380461624,
           3.7267640450692063,
           2.0413879227681018,
           3.6473093639837395,
           3.1460332126029735,
           4.45766188430735
          ],
          [
           3.9585338135404857,
           1.4307566444861655,
           1.6354746193283338,
           3.8366218881796144,
           2.5262927803556474,
           3.3100730208086135,
           1.6246968985075094,
           3.230618339723147,
           2.7293421883423807,
           4.040970860046757
          ],
          [
           3.746508719575562,
           1.218731550521242,
           1.4234495253634103,
           3.624596794214691,
           2.314267686390724,
           3.09804792684369,
           1.412671804542586,
           3.0185932457582236,
           2.517317094377457,
           3.828945766081834
          ],
          [
           4.012618484290481,
           1.4848413152361615,
           1.6895592900783294,
           3.89070655892961,
           2.5803774511056434,
           3.3641576915586096,
           1.678781569257505,
           3.2847030104731427,
           2.7834268590923767,
           4.0950555307967536
          ],
          [
           3.8047592548657896,
           1.2769820858114698,
           1.4817000606536377,
           3.682847329504918,
           2.3725182216809517,
           3.156298462133918,
           1.4709223398328133,
           3.076843781048451,
           2.575567629667685,
           3.887196301372062
          ],
          [
           4.122200502074929,
           1.5944233330206083,
           1.7991413078627763,
           4.000288576714057,
           2.6899594688900903,
           3.4737397093430564,
           1.7883635870419519,
           3.3942850282575896,
           2.8930088768768236,
           4.2046375485812
          ],
          [
           3.748377106571778,
           1.2205999375174583,
           1.4253179123596258,
           3.6264651812109063,
           2.3161360733869403,
           3.0999163138399064,
           1.4145401915388014,
           3.020461632754439,
           2.5191854813736736,
           3.83081415307805
          ],
          [
           3.9912579490441003,
           1.4634807799897804,
           1.6681987548319483,
           3.869346023683229,
           2.5590169158592624,
           3.3427971563122285,
           1.657421034011124,
           3.2633424752267617,
           2.7620663238459957,
           4.0736949955503725
          ],
          [
           3.9056385153049042,
           1.3778613462505844,
           1.5825793210927523,
           3.783726589944033,
           2.4733974821200664,
           3.2571777225730325,
           1.571801600271928,
           3.1777230414875657,
           2.6764468901067997,
           3.9880755618111765
          ]
         ]
        }
       ],
       "layout": {
        "legend": {
         "tracegroupgap": 0
        },
        "margin": {
         "t": 60
        },
        "scene": {
         "domain": {
          "x": [
           0,
           1
          ],
          "y": [
           0,
           1
          ]
         },
         "xaxis": {
          "title": {
           "text": "zcr"
          }
         },
         "yaxis": {
          "tickvals": [
           75,
           80,
           85,
           90,
           95
          ],
          "title": {
           "text": "f0"
          }
         },
         "zaxis": {
          "range": [
           0,
           6
          ],
          "title": {
           "text": "Cadencia"
          }
         }
        },
        "template": {
         "data": {
          "bar": [
           {
            "error_x": {
             "color": "#2a3f5f"
            },
            "error_y": {
             "color": "#2a3f5f"
            },
            "marker": {
             "line": {
              "color": "#E5ECF6",
              "width": 0.5
             },
             "pattern": {
              "fillmode": "overlay",
              "size": 10,
              "solidity": 0.2
             }
            },
            "type": "bar"
           }
          ],
          "barpolar": [
           {
            "marker": {
             "line": {
              "color": "#E5ECF6",
              "width": 0.5
             },
             "pattern": {
              "fillmode": "overlay",
              "size": 10,
              "solidity": 0.2
             }
            },
            "type": "barpolar"
           }
          ],
          "carpet": [
           {
            "aaxis": {
             "endlinecolor": "#2a3f5f",
             "gridcolor": "white",
             "linecolor": "white",
             "minorgridcolor": "white",
             "startlinecolor": "#2a3f5f"
            },
            "baxis": {
             "endlinecolor": "#2a3f5f",
             "gridcolor": "white",
             "linecolor": "white",
             "minorgridcolor": "white",
             "startlinecolor": "#2a3f5f"
            },
            "type": "carpet"
           }
          ],
          "choropleth": [
           {
            "colorbar": {
             "outlinewidth": 0,
             "ticks": ""
            },
            "type": "choropleth"
           }
          ],
          "contour": [
           {
            "colorbar": {
             "outlinewidth": 0,
             "ticks": ""
            },
            "colorscale": [
             [
              0,
              "#0d0887"
             ],
             [
              0.1111111111111111,
              "#46039f"
             ],
             [
              0.2222222222222222,
              "#7201a8"
             ],
             [
              0.3333333333333333,
              "#9c179e"
             ],
             [
              0.4444444444444444,
              "#bd3786"
             ],
             [
              0.5555555555555556,
              "#d8576b"
             ],
             [
              0.6666666666666666,
              "#ed7953"
             ],
             [
              0.7777777777777778,
              "#fb9f3a"
             ],
             [
              0.8888888888888888,
              "#fdca26"
             ],
             [
              1,
              "#f0f921"
             ]
            ],
            "type": "contour"
           }
          ],
          "contourcarpet": [
           {
            "colorbar": {
             "outlinewidth": 0,
             "ticks": ""
            },
            "type": "contourcarpet"
           }
          ],
          "heatmap": [
           {
            "colorbar": {
             "outlinewidth": 0,
             "ticks": ""
            },
            "colorscale": [
             [
              0,
              "#0d0887"
             ],
             [
              0.1111111111111111,
              "#46039f"
             ],
             [
              0.2222222222222222,
              "#7201a8"
             ],
             [
              0.3333333333333333,
              "#9c179e"
             ],
             [
              0.4444444444444444,
              "#bd3786"
             ],
             [
              0.5555555555555556,
              "#d8576b"
             ],
             [
              0.6666666666666666,
              "#ed7953"
             ],
             [
              0.7777777777777778,
              "#fb9f3a"
             ],
             [
              0.8888888888888888,
              "#fdca26"
             ],
             [
              1,
              "#f0f921"
             ]
            ],
            "type": "heatmap"
           }
          ],
          "heatmapgl": [
           {
            "colorbar": {
             "outlinewidth": 0,
             "ticks": ""
            },
            "colorscale": [
             [
              0,
              "#0d0887"
             ],
             [
              0.1111111111111111,
              "#46039f"
             ],
             [
              0.2222222222222222,
              "#7201a8"
             ],
             [
              0.3333333333333333,
              "#9c179e"
             ],
             [
              0.4444444444444444,
              "#bd3786"
             ],
             [
              0.5555555555555556,
              "#d8576b"
             ],
             [
              0.6666666666666666,
              "#ed7953"
             ],
             [
              0.7777777777777778,
              "#fb9f3a"
             ],
             [
              0.8888888888888888,
              "#fdca26"
             ],
             [
              1,
              "#f0f921"
             ]
            ],
            "type": "heatmapgl"
           }
          ],
          "histogram": [
           {
            "marker": {
             "pattern": {
              "fillmode": "overlay",
              "size": 10,
              "solidity": 0.2
             }
            },
            "type": "histogram"
           }
          ],
          "histogram2d": [
           {
            "colorbar": {
             "outlinewidth": 0,
             "ticks": ""
            },
            "colorscale": [
             [
              0,
              "#0d0887"
             ],
             [
              0.1111111111111111,
              "#46039f"
             ],
             [
              0.2222222222222222,
              "#7201a8"
             ],
             [
              0.3333333333333333,
              "#9c179e"
             ],
             [
              0.4444444444444444,
              "#bd3786"
             ],
             [
              0.5555555555555556,
              "#d8576b"
             ],
             [
              0.6666666666666666,
              "#ed7953"
             ],
             [
              0.7777777777777778,
              "#fb9f3a"
             ],
             [
              0.8888888888888888,
              "#fdca26"
             ],
             [
              1,
              "#f0f921"
             ]
            ],
            "type": "histogram2d"
           }
          ],
          "histogram2dcontour": [
           {
            "colorbar": {
             "outlinewidth": 0,
             "ticks": ""
            },
            "colorscale": [
             [
              0,
              "#0d0887"
             ],
             [
              0.1111111111111111,
              "#46039f"
             ],
             [
              0.2222222222222222,
              "#7201a8"
             ],
             [
              0.3333333333333333,
              "#9c179e"
             ],
             [
              0.4444444444444444,
              "#bd3786"
             ],
             [
              0.5555555555555556,
              "#d8576b"
             ],
             [
              0.6666666666666666,
              "#ed7953"
             ],
             [
              0.7777777777777778,
              "#fb9f3a"
             ],
             [
              0.8888888888888888,
              "#fdca26"
             ],
             [
              1,
              "#f0f921"
             ]
            ],
            "type": "histogram2dcontour"
           }
          ],
          "mesh3d": [
           {
            "colorbar": {
             "outlinewidth": 0,
             "ticks": ""
            },
            "type": "mesh3d"
           }
          ],
          "parcoords": [
           {
            "line": {
             "colorbar": {
              "outlinewidth": 0,
              "ticks": ""
             }
            },
            "type": "parcoords"
           }
          ],
          "pie": [
           {
            "automargin": true,
            "type": "pie"
           }
          ],
          "scatter": [
           {
            "fillpattern": {
             "fillmode": "overlay",
             "size": 10,
             "solidity": 0.2
            },
            "type": "scatter"
           }
          ],
          "scatter3d": [
           {
            "line": {
             "colorbar": {
              "outlinewidth": 0,
              "ticks": ""
             }
            },
            "marker": {
             "colorbar": {
              "outlinewidth": 0,
              "ticks": ""
             }
            },
            "type": "scatter3d"
           }
          ],
          "scattercarpet": [
           {
            "marker": {
             "colorbar": {
              "outlinewidth": 0,
              "ticks": ""
             }
            },
            "type": "scattercarpet"
           }
          ],
          "scattergeo": [
           {
            "marker": {
             "colorbar": {
              "outlinewidth": 0,
              "ticks": ""
             }
            },
            "type": "scattergeo"
           }
          ],
          "scattergl": [
           {
            "marker": {
             "colorbar": {
              "outlinewidth": 0,
              "ticks": ""
             }
            },
            "type": "scattergl"
           }
          ],
          "scattermapbox": [
           {
            "marker": {
             "colorbar": {
              "outlinewidth": 0,
              "ticks": ""
             }
            },
            "type": "scattermapbox"
           }
          ],
          "scatterpolar": [
           {
            "marker": {
             "colorbar": {
              "outlinewidth": 0,
              "ticks": ""
             }
            },
            "type": "scatterpolar"
           }
          ],
          "scatterpolargl": [
           {
            "marker": {
             "colorbar": {
              "outlinewidth": 0,
              "ticks": ""
             }
            },
            "type": "scatterpolargl"
           }
          ],
          "scatterternary": [
           {
            "marker": {
             "colorbar": {
              "outlinewidth": 0,
              "ticks": ""
             }
            },
            "type": "scatterternary"
           }
          ],
          "surface": [
           {
            "colorbar": {
             "outlinewidth": 0,
             "ticks": ""
            },
            "colorscale": [
             [
              0,
              "#0d0887"
             ],
             [
              0.1111111111111111,
              "#46039f"
             ],
             [
              0.2222222222222222,
              "#7201a8"
             ],
             [
              0.3333333333333333,
              "#9c179e"
             ],
             [
              0.4444444444444444,
              "#bd3786"
             ],
             [
              0.5555555555555556,
              "#d8576b"
             ],
             [
              0.6666666666666666,
              "#ed7953"
             ],
             [
              0.7777777777777778,
              "#fb9f3a"
             ],
             [
              0.8888888888888888,
              "#fdca26"
             ],
             [
              1,
              "#f0f921"
             ]
            ],
            "type": "surface"
           }
          ],
          "table": [
           {
            "cells": {
             "fill": {
              "color": "#EBF0F8"
             },
             "line": {
              "color": "white"
             }
            },
            "header": {
             "fill": {
              "color": "#C8D4E3"
             },
             "line": {
              "color": "white"
             }
            },
            "type": "table"
           }
          ]
         },
         "layout": {
          "annotationdefaults": {
           "arrowcolor": "#2a3f5f",
           "arrowhead": 0,
           "arrowwidth": 1
          },
          "autotypenumbers": "strict",
          "coloraxis": {
           "colorbar": {
            "outlinewidth": 0,
            "ticks": ""
           }
          },
          "colorscale": {
           "diverging": [
            [
             0,
             "#8e0152"
            ],
            [
             0.1,
             "#c51b7d"
            ],
            [
             0.2,
             "#de77ae"
            ],
            [
             0.3,
             "#f1b6da"
            ],
            [
             0.4,
             "#fde0ef"
            ],
            [
             0.5,
             "#f7f7f7"
            ],
            [
             0.6,
             "#e6f5d0"
            ],
            [
             0.7,
             "#b8e186"
            ],
            [
             0.8,
             "#7fbc41"
            ],
            [
             0.9,
             "#4d9221"
            ],
            [
             1,
             "#276419"
            ]
           ],
           "sequential": [
            [
             0,
             "#0d0887"
            ],
            [
             0.1111111111111111,
             "#46039f"
            ],
            [
             0.2222222222222222,
             "#7201a8"
            ],
            [
             0.3333333333333333,
             "#9c179e"
            ],
            [
             0.4444444444444444,
             "#bd3786"
            ],
            [
             0.5555555555555556,
             "#d8576b"
            ],
            [
             0.6666666666666666,
             "#ed7953"
            ],
            [
             0.7777777777777778,
             "#fb9f3a"
            ],
            [
             0.8888888888888888,
             "#fdca26"
            ],
            [
             1,
             "#f0f921"
            ]
           ],
           "sequentialminus": [
            [
             0,
             "#0d0887"
            ],
            [
             0.1111111111111111,
             "#46039f"
            ],
            [
             0.2222222222222222,
             "#7201a8"
            ],
            [
             0.3333333333333333,
             "#9c179e"
            ],
            [
             0.4444444444444444,
             "#bd3786"
            ],
            [
             0.5555555555555556,
             "#d8576b"
            ],
            [
             0.6666666666666666,
             "#ed7953"
            ],
            [
             0.7777777777777778,
             "#fb9f3a"
            ],
            [
             0.8888888888888888,
             "#fdca26"
            ],
            [
             1,
             "#f0f921"
            ]
           ]
          },
          "colorway": [
           "#636efa",
           "#EF553B",
           "#00cc96",
           "#ab63fa",
           "#FFA15A",
           "#19d3f3",
           "#FF6692",
           "#B6E880",
           "#FF97FF",
           "#FECB52"
          ],
          "font": {
           "color": "#2a3f5f"
          },
          "geo": {
           "bgcolor": "white",
           "lakecolor": "white",
           "landcolor": "#E5ECF6",
           "showlakes": true,
           "showland": true,
           "subunitcolor": "white"
          },
          "hoverlabel": {
           "align": "left"
          },
          "hovermode": "closest",
          "mapbox": {
           "style": "light"
          },
          "paper_bgcolor": "white",
          "plot_bgcolor": "#E5ECF6",
          "polar": {
           "angularaxis": {
            "gridcolor": "white",
            "linecolor": "white",
            "ticks": ""
           },
           "bgcolor": "#E5ECF6",
           "radialaxis": {
            "gridcolor": "white",
            "linecolor": "white",
            "ticks": ""
           }
          },
          "scene": {
           "xaxis": {
            "backgroundcolor": "#E5ECF6",
            "gridcolor": "white",
            "gridwidth": 2,
            "linecolor": "white",
            "showbackground": true,
            "ticks": "",
            "zerolinecolor": "white"
           },
           "yaxis": {
            "backgroundcolor": "#E5ECF6",
            "gridcolor": "white",
            "gridwidth": 2,
            "linecolor": "white",
            "showbackground": true,
            "ticks": "",
            "zerolinecolor": "white"
           },
           "zaxis": {
            "backgroundcolor": "#E5ECF6",
            "gridcolor": "white",
            "gridwidth": 2,
            "linecolor": "white",
            "showbackground": true,
            "ticks": "",
            "zerolinecolor": "white"
           }
          },
          "shapedefaults": {
           "line": {
            "color": "#2a3f5f"
           }
          },
          "ternary": {
           "aaxis": {
            "gridcolor": "white",
            "linecolor": "white",
            "ticks": ""
           },
           "baxis": {
            "gridcolor": "white",
            "linecolor": "white",
            "ticks": ""
           },
           "bgcolor": "#E5ECF6",
           "caxis": {
            "gridcolor": "white",
            "linecolor": "white",
            "ticks": ""
           }
          },
          "title": {
           "x": 0.05
          },
          "xaxis": {
           "automargin": true,
           "gridcolor": "white",
           "linecolor": "white",
           "ticks": "",
           "title": {
            "standoff": 15
           },
           "zerolinecolor": "white",
           "zerolinewidth": 2
          },
          "yaxis": {
           "automargin": true,
           "gridcolor": "white",
           "linecolor": "white",
           "ticks": "",
           "title": {
            "standoff": 15
           },
           "zerolinecolor": "white",
           "zerolinewidth": 2
          }
         }
        },
        "title": {
         "text": "z = 3.89 + -16.46 * zcr + 0.02 * f0",
         "x": 0.5,
         "xanchor": "center"
        }
       }
      }
     },
     "metadata": {},
     "output_type": "display_data"
    }
   ],
   "source": [
    "if len(dicc_model) == 2:\n",
    "    import plotly.express as px\n",
    "    import plotly.graph_objects as go\n",
    "\n",
    "    # Seleccionamos solo las características seleccionadas en X\n",
    "    X_selected = X[:, selected_features]\n",
    "\n",
    "    # Entrenamos el modelo de regresión con las características seleccionadas\n",
    "    regr_multivar = LinearRegression()\n",
    "    regr_multivar.fit(X_selected, y)\n",
    "\n",
    "    # Obtenemos las predicciones del modelo para las características seleccionadas\n",
    "    y_pred = regr_multivar.predict(X_selected)\n",
    "\n",
    "    # Crear la figura\n",
    "    fig = px.scatter_3d(x=X_selected[:, 0], y=X_selected[:, 1], z=y)\n",
    "\n",
    "    # Crear el plano de regresión\n",
    "    xx, yy = np.meshgrid(X_selected[:, 0], X_selected[:, 1])\n",
    "    zz = regr_multivar.intercept_ + np.dot(np.array([xx.ravel(), yy.ravel()]).T, regr_multivar.coef_.ravel()).reshape(xx.shape)\n",
    "    fig.add_trace(go.Surface(x=xx, y=yy, z=zz, opacity=0.5))\n",
    "\n",
    "    # Construir la cadena de texto para la ecuación del plano\n",
    "    equation = f'z = {regr_multivar.intercept_.round(2)}'\n",
    "    for i, (key, model) in enumerate(dicc_model.items()):\n",
    "        equation += f' + {regr_multivar.coef_[i].round(2)} * {key.replace(\"_model\", \"\")}'\n",
    "    \n",
    "    # Centrar el título\n",
    "    fig.update_layout(title=dict(text=equation, x=0.5, xanchor='center'))\n",
    "\n",
    "    # Etiquetas de los ejes y rango del eje z\n",
    "    fig.update_layout(scene=dict(xaxis_title=list(dicc_model.keys())[0].replace(\"_model\", \"\"), yaxis_title=list(dicc_model.keys())[1].replace(\"_model\", \"\"), zaxis_title='Cadencia', zaxis=dict(range=[0, 6]), yaxis=dict(tickvals=[75, 80, 85, 90, 95])))\n",
    "\n",
    "    fig.write_html(\n",
    "       os.path.join(PATH, TEST_FOLDER, REGGRESSION_FOLDER, PARAMETRIC_FOLDER, CADENCIA_FOLDER, MALE_FOLDER, 'regresion_cadencia_multivariable_male.html')\n",
    "    )\n",
    "\n",
    "    fig.show()\n"
   ]
  },
  {
   "attachments": {},
   "cell_type": "markdown",
   "id": "43b90f4a",
   "metadata": {
    "papermill": {
     "duration": 0.116854,
     "end_time": "2023-06-11T01:40:58.525552",
     "exception": false,
     "start_time": "2023-06-11T01:40:58.408698",
     "status": "completed"
    },
    "tags": []
   },
   "source": [
    "#### Femenino"
   ]
  },
  {
   "cell_type": "code",
   "execution_count": 172,
   "id": "a9fab79f",
   "metadata": {
    "execution": {
     "iopub.execute_input": "2023-06-11T01:40:58.757912Z",
     "iopub.status.busy": "2023-06-11T01:40:58.757912Z",
     "iopub.status.idle": "2023-06-11T01:40:58.773634Z",
     "shell.execute_reply": "2023-06-11T01:40:58.773634Z"
    },
    "papermill": {
     "duration": 0.138716,
     "end_time": "2023-06-11T01:40:58.773634",
     "exception": false,
     "start_time": "2023-06-11T01:40:58.634918",
     "status": "completed"
    },
    "tags": []
   },
   "outputs": [],
   "source": [
    "# Lista de p-values\n",
    "p_values = []\n",
    "\n",
    "mask_gender = df_cadencia.genero == 'femenino'\n",
    "\n",
    "df_cadencia_female = df_cadencia[mask_gender].drop(columns=['genero'])"
   ]
  },
  {
   "cell_type": "code",
   "execution_count": 173,
   "id": "7b4cd46a",
   "metadata": {
    "execution": {
     "iopub.execute_input": "2023-06-11T01:40:59.026064Z",
     "iopub.status.busy": "2023-06-11T01:40:59.026064Z",
     "iopub.status.idle": "2023-06-11T01:40:59.091196Z",
     "shell.execute_reply": "2023-06-11T01:40:59.091196Z"
    },
    "papermill": {
     "duration": 0.192663,
     "end_time": "2023-06-11T01:40:59.091196",
     "exception": false,
     "start_time": "2023-06-11T01:40:58.898533",
     "status": "completed"
    },
    "tags": []
   },
   "outputs": [
    {
     "name": "stdout",
     "output_type": "stream",
     "text": [
      "Características seleccionadas: (0, 1, 2)\n",
      "Característica ZCR: p-valor = 0.0732\n",
      "Característica RMS: p-valor = 0.0421\n",
      "Característica f0: p-valor = 0.0241\n"
     ]
    }
   ],
   "source": [
    "# Cargamos los datos\n",
    "X = np.array(df_cadencia_female.drop(columns=['Cadencia'])) # df_objetivos es el DataFrame con los parámetros objetivos\n",
    "y = np.array(df_cadencia_female.Cadencia) # df_subjetivos es el DataFrame con los parámetros subjetivos\n",
    "\n",
    "# Creamos el modelo de regresión lineal\n",
    "regr_multivar = LinearRegression()\n",
    "\n",
    "# Creamos el selector de características hacia adelante\n",
    "forward_selector = SequentialFeatureSelector(regr_multivar, k_features='best', forward=True, scoring='neg_mean_squared_error')\n",
    "\n",
    "# Entrenamos el selector de características\n",
    "forward_selector.fit(X, y)\n",
    "\n",
    "# Obtenemos las características seleccionadas\n",
    "selected_features = forward_selector.k_feature_idx_\n",
    "\n",
    "# Imprimimos las características seleccionadas\n",
    "print('Características seleccionadas:', selected_features)\n",
    "\n",
    "# Agregamos una columna de unos para representar el término de intercepción\n",
    "X2 = sm.add_constant(X)\n",
    "\n",
    "# Creamos el modelo OLS (mínimos cuadrados ordinarios) y lo ajustamos a los datos\n",
    "model = sm.OLS(y, X2)\n",
    "results = model.fit()\n",
    "\n",
    "# Imprimimos los p-valores para cada característica seleccionada\n",
    "for feature, pvalue in zip(list(range(X.shape[1])), results.pvalues[1:]):\n",
    "\n",
    "    if feature == 0:\n",
    "        feature = 'ZCR'\n",
    "    elif feature == 1:\n",
    "        feature = 'RMS'\n",
    "    else:\n",
    "        feature = 'f0'\n",
    "    \n",
    "    print(f'Característica {feature}: p-valor = {pvalue:.4f}')\n",
    "\n",
    "    p_values.append(pvalue)\n",
    "    dicc_p_value[feature].append(pvalue)\n",
    "\n",
    "dicc_p_value['subjetive_parameter'].append('Cadencia')\n",
    "dicc_p_value['genero'].append('femenino')\n",
    "dicc_p_value['selected_features'].append(list(selected_features))\n"
   ]
  },
  {
   "cell_type": "code",
   "execution_count": 174,
   "id": "690f2f5e",
   "metadata": {
    "execution": {
     "iopub.execute_input": "2023-06-11T01:41:15.839639Z",
     "iopub.status.busy": "2023-06-11T01:41:15.839639Z",
     "iopub.status.idle": "2023-06-11T01:41:15.870972Z",
     "shell.execute_reply": "2023-06-11T01:41:15.870972Z"
    },
    "papermill": {
     "duration": 0.143807,
     "end_time": "2023-06-11T01:41:15.870972",
     "exception": false,
     "start_time": "2023-06-11T01:41:15.727165",
     "status": "completed"
    },
    "tags": []
   },
   "outputs": [],
   "source": [
    "# Dicc auxiliar con los nombres asociadas a las variables\n",
    "dicc_names_features = {\n",
    "    'zcr_model': 0,\n",
    "    'rms_model': 1,\n",
    "    'f0_model': 2\n",
    "}\n",
    "\n",
    "# Dicc de los modelos\n",
    "dicc_model = {}\n",
    "\n",
    "# Dicc de las predicciones\n",
    "dicc_pred = {}\n",
    "\n",
    "for selected_feature in selected_features:\n",
    "    # Entrenamos el modelo de regresión con las características seleccionadas\n",
    "    regr_multivar = LinearRegression()\n",
    "    regr_multivar.fit(X[:, selected_feature].reshape(-1, 1), y.ravel())\n",
    "\n",
    "    # Almacenamos en dicc_model la clave asociada al modelo que se entrenó y el objeto modelo\n",
    "    for key, value in dicc_names_features.items():\n",
    "        if value == selected_feature:\n",
    "            dicc_model[key] = regr_multivar\n",
    "\n",
    "    # Obtenemos las predicciones del modelo para las características seleccionadas\n",
    "    y_pred = regr_multivar.predict(X[:, selected_feature].reshape(-1, 1))\n",
    "\n",
    "    # Almacenamos en dicc_pred la clave asociada al modelo que se entrenó y la predicción\n",
    "    for key, value in dicc_names_features.items():\n",
    "        if value == selected_feature:\n",
    "            dicc_pred[key] = y_pred\n"
   ]
  },
  {
   "cell_type": "code",
   "execution_count": 175,
   "id": "1828995c",
   "metadata": {
    "execution": {
     "iopub.execute_input": "2023-06-11T01:41:16.108629Z",
     "iopub.status.busy": "2023-06-11T01:41:16.108629Z",
     "iopub.status.idle": "2023-06-11T01:41:16.124303Z",
     "shell.execute_reply": "2023-06-11T01:41:16.124303Z"
    },
    "papermill": {
     "duration": 0.130575,
     "end_time": "2023-06-11T01:41:16.124303",
     "exception": false,
     "start_time": "2023-06-11T01:41:15.993728",
     "status": "completed"
    },
    "tags": []
   },
   "outputs": [
    {
     "name": "stdout",
     "output_type": "stream",
     "text": [
      "y = -11.20 * ZCR + 5.12 - p-valor = 0.073\n",
      "y = 0.44 * RMS + 15.44 - p-valor = 0.042\n",
      "y = -0.02 * $f_{0}$ + 6.01 - p-valor = 0.024\n"
     ]
    }
   ],
   "source": [
    "list_equ = []\n",
    "\n",
    "for key, model in dicc_model.items():\n",
    "    # Obtenemos los valores de w y b\n",
    "    w = model.coef_[0]\n",
    "    b = model.intercept_\n",
    "    \n",
    "    label = key.replace(\"_model\", \"\")\n",
    "    if label == 'f0':\n",
    "        label = r'$f_{0}$'\n",
    "    else:\n",
    "        label = label.upper()\n",
    "\n",
    "    # Construimos la cadena de texto para la ecuación del hiperplano y su p-valor\n",
    "    equation = f'y = {w:.2f} * {label} + {b:.2f} - p-valor = {p_values[dicc_names_features[key]]:.3f}'\n",
    "\n",
    "    # Agregamos la cadena a la lista\n",
    "    list_equ.append(equation)\n",
    "\n",
    "# Mostramos el resultado\n",
    "for equ in list_equ:\n",
    "    print(equ)\n"
   ]
  },
  {
   "cell_type": "code",
   "execution_count": 176,
   "id": "33e8c9e3",
   "metadata": {
    "execution": {
     "iopub.execute_input": "2023-06-11T01:41:16.372740Z",
     "iopub.status.busy": "2023-06-11T01:41:16.372740Z",
     "iopub.status.idle": "2023-06-11T01:41:17.075959Z",
     "shell.execute_reply": "2023-06-11T01:41:17.075959Z"
    },
    "papermill": {
     "duration": 0.826741,
     "end_time": "2023-06-11T01:41:17.075959",
     "exception": false,
     "start_time": "2023-06-11T01:41:16.249218",
     "status": "completed"
    },
    "tags": []
   },
   "outputs": [
    {
     "data": {
      "image/png": "[encoded data removed]",
      "text/plain": [
       "<Figure size 1800x400 with 3 Axes>"
      ]
     },
     "metadata": {},
     "output_type": "display_data"
    }
   ],
   "source": [
    "dims = (6 * len(dicc_model), 4)\n",
    "fig, ax = plt.subplots(figsize=dims, ncols=len(dicc_model))\n",
    "\n",
    "with sns.axes_style('darkgrid'):\n",
    "    for i, (key, model) in enumerate(dicc_model.items()):\n",
    "        if isinstance(ax, np.ndarray):\n",
    "            ax_i = ax[i]\n",
    "        else:\n",
    "            ax_i = ax\n",
    "        label = key.replace(\"_model\", \"\")\n",
    "        if label == 'f0':\n",
    "            label = r'$f_{0}$'\n",
    "        else:\n",
    "            label = label.upper()\n",
    "        g = sns.scatterplot(x=X[:, dicc_names_features[key]], y=y, ax=ax_i, color='blue')\n",
    "        g = sns.lineplot(x=X[:, dicc_names_features[key]], y=dicc_pred[key], ax=ax_i, color='red')\n",
    "        g.text(0.5, -0.1, label, weight='bold', size='large', family='Arial', stretch='extra-expanded', ha='center', va='top', transform=g.transAxes)\n",
    "        g.set_ylabel('Cadencia', weight='bold', size='large', alpha=0.8, family='Arial', stretch='extra-expanded')\n",
    "        g.set_title(list_equ[i], weight='bold', size='x-large', alpha=0.8, family='Arial', stretch='extra-expanded')\n",
    "        g.grid(alpha=0.7)\n",
    "        ax_i.set_ylim(0, 6)\n",
    "\n",
    "    plt.tight_layout()\n",
    "    plt.savefig(os.path.join(PATH, TEST_FOLDER, REGGRESSION_FOLDER, PARAMETRIC_FOLDER, CADENCIA_FOLDER, FEMALE_FOLDER, 'regresiones_cadencia_female.png'))\n",
    "    plt.show()\n"
   ]
  },
  {
   "cell_type": "code",
   "execution_count": 177,
   "id": "dde67b70",
   "metadata": {
    "execution": {
     "iopub.execute_input": "2023-06-11T01:41:17.308215Z",
     "iopub.status.busy": "2023-06-11T01:41:17.308215Z",
     "iopub.status.idle": "2023-06-11T01:41:17.448925Z",
     "shell.execute_reply": "2023-06-11T01:41:17.448925Z"
    },
    "papermill": {
     "duration": 0.263594,
     "end_time": "2023-06-11T01:41:17.448925",
     "exception": false,
     "start_time": "2023-06-11T01:41:17.185331",
     "status": "completed"
    },
    "tags": []
   },
   "outputs": [],
   "source": [
    "if len(dicc_model) == 2:\n",
    "    import plotly.express as px\n",
    "    import plotly.graph_objects as go\n",
    "\n",
    "    # Seleccionamos solo las características seleccionadas en X\n",
    "    X_selected = X[:, selected_features]\n",
    "\n",
    "    # Entrenamos el modelo de regresión con las características seleccionadas\n",
    "    regr_multivar = LinearRegression()\n",
    "    regr_multivar.fit(X_selected, y)\n",
    "\n",
    "    # Obtenemos las predicciones del modelo para las características seleccionadas\n",
    "    y_pred = regr_multivar.predict(X_selected)\n",
    "\n",
    "    # Crear la figura\n",
    "    fig = px.scatter_3d(x=X_selected[:, 0], y=X_selected[:, 1], z=y)\n",
    "\n",
    "    # Crear el plano de regresión\n",
    "    xx, yy = np.meshgrid(X_selected[:, 0], X_selected[:, 1])\n",
    "    zz = regr_multivar.intercept_ + np.dot(np.array([xx.ravel(), yy.ravel()]).T, regr_multivar.coef_.ravel()).reshape(xx.shape)\n",
    "    fig.add_trace(go.Surface(x=xx, y=yy, z=zz, opacity=0.5))\n",
    "\n",
    "    # Construir la cadena de texto para la ecuación del plano\n",
    "    equation = f'z = {regr_multivar.intercept_.round(2)}'\n",
    "    for i, (key, model) in enumerate(dicc_model.items()):\n",
    "        equation += f' + {regr_multivar.coef_[i].round(2)} * {key.replace(\"_model\", \"\")}'\n",
    "    \n",
    "    # Centrar el título\n",
    "    fig.update_layout(title=dict(text=equation, x=0.5, xanchor='center'))\n",
    "\n",
    "    # Etiquetas de los ejes y rango del eje z\n",
    "    fig.update_layout(scene=dict(xaxis_title=list(dicc_model.keys())[0].replace(\"_model\", \"\"), yaxis_title=list(dicc_model.keys())[1].replace(\"_model\", \"\"), zaxis_title='Cadencia', zaxis=dict(range=[0, 6]), yaxis=dict(tickvals=[100, 105, 110, 115, 120])))\n",
    "\n",
    "    fig.write_html(\n",
    "       os.path.join(PATH, TEST_FOLDER, REGGRESSION_FOLDER, PARAMETRIC_FOLDER, CADENCIA_FOLDER, FEMALE_FOLDER, 'regresion_cadencia_multivariable_female.html')\n",
    "    )\n",
    "\n",
    "    fig.show()\n",
    "\n",
    "## Output p-values regressions"
   ]
  },
  {
   "cell_type": "code",
   "execution_count": 178,
   "id": "49717feb",
   "metadata": {},
   "outputs": [],
   "source": [
    "df_output_p_value_regression = pd.DataFrame(dicc_p_value)"
   ]
  },
  {
   "cell_type": "code",
   "execution_count": 180,
   "id": "49d26b08",
   "metadata": {},
   "outputs": [],
   "source": [
    "# Crea un diccionario para mapear los valores\n",
    "map_dict = {0: 'ZCR', 1: 'RMS', 2: 'F0'}\n",
    "\n",
    "df_output_p_value_regression['selected_features'] = df_output_p_value_regression['selected_features'].apply(lambda x: [map_dict[val] for val in x])"
   ]
  },
  {
   "cell_type": "code",
   "execution_count": 181,
   "id": "ba2685df",
   "metadata": {},
   "outputs": [
    {
     "data": {
      "text/html": [
       "<div>\n",
       "<style scoped>\n",
       "    .dataframe tbody tr th:only-of-type {\n",
       "        vertical-align: middle;\n",
       "    }\n",
       "\n",
       "    .dataframe tbody tr th {\n",
       "        vertical-align: top;\n",
       "    }\n",
       "\n",
       "    .dataframe thead th {\n",
       "        text-align: right;\n",
       "    }\n",
       "</style>\n",
       "<table border=\"1\" class=\"dataframe\">\n",
       "  <thead>\n",
       "    <tr style=\"text-align: right;\">\n",
       "      <th></th>\n",
       "      <th>subjetive_parameter</th>\n",
       "      <th>ZCR</th>\n",
       "      <th>RMS</th>\n",
       "      <th>f0</th>\n",
       "      <th>selected_features</th>\n",
       "      <th>genero</th>\n",
       "    </tr>\n",
       "  </thead>\n",
       "  <tbody>\n",
       "    <tr>\n",
       "      <th>0</th>\n",
       "      <td>Inteligibilidad</td>\n",
       "      <td>0.130069</td>\n",
       "      <td>0.576055</td>\n",
       "      <td>0.699245</td>\n",
       "      <td>[ZCR]</td>\n",
       "      <td>masculino</td>\n",
       "    </tr>\n",
       "    <tr>\n",
       "      <th>1</th>\n",
       "      <td>Inteligibilidad</td>\n",
       "      <td>0.026715</td>\n",
       "      <td>0.672845</td>\n",
       "      <td>0.127228</td>\n",
       "      <td>[ZCR, f0]</td>\n",
       "      <td>femenino</td>\n",
       "    </tr>\n",
       "    <tr>\n",
       "      <th>2</th>\n",
       "      <td>Pronunciación</td>\n",
       "      <td>0.002332</td>\n",
       "      <td>0.012414</td>\n",
       "      <td>0.118646</td>\n",
       "      <td>[ZCR, RMS]</td>\n",
       "      <td>masculino</td>\n",
       "    </tr>\n",
       "    <tr>\n",
       "      <th>3</th>\n",
       "      <td>Pronunciación</td>\n",
       "      <td>0.150192</td>\n",
       "      <td>0.658306</td>\n",
       "      <td>0.207414</td>\n",
       "      <td>[ZCR]</td>\n",
       "      <td>femenino</td>\n",
       "    </tr>\n",
       "    <tr>\n",
       "      <th>4</th>\n",
       "      <td>Acentuación</td>\n",
       "      <td>0.012770</td>\n",
       "      <td>0.094656</td>\n",
       "      <td>0.305689</td>\n",
       "      <td>[ZCR]</td>\n",
       "      <td>masculino</td>\n",
       "    </tr>\n",
       "    <tr>\n",
       "      <th>5</th>\n",
       "      <td>Acentuación</td>\n",
       "      <td>0.514386</td>\n",
       "      <td>0.392788</td>\n",
       "      <td>0.120145</td>\n",
       "      <td>[RMS, f0]</td>\n",
       "      <td>femenino</td>\n",
       "    </tr>\n",
       "    <tr>\n",
       "      <th>6</th>\n",
       "      <td>Naturalidad</td>\n",
       "      <td>0.017957</td>\n",
       "      <td>0.891097</td>\n",
       "      <td>0.619233</td>\n",
       "      <td>[ZCR]</td>\n",
       "      <td>masculino</td>\n",
       "    </tr>\n",
       "    <tr>\n",
       "      <th>7</th>\n",
       "      <td>Naturalidad</td>\n",
       "      <td>0.107021</td>\n",
       "      <td>0.333371</td>\n",
       "      <td>0.073253</td>\n",
       "      <td>[RMS, f0]</td>\n",
       "      <td>femenino</td>\n",
       "    </tr>\n",
       "    <tr>\n",
       "      <th>8</th>\n",
       "      <td>Cadencia</td>\n",
       "      <td>0.002295</td>\n",
       "      <td>0.341678</td>\n",
       "      <td>0.990921</td>\n",
       "      <td>[ZCR, f0]</td>\n",
       "      <td>masculino</td>\n",
       "    </tr>\n",
       "    <tr>\n",
       "      <th>9</th>\n",
       "      <td>Cadencia</td>\n",
       "      <td>0.073162</td>\n",
       "      <td>0.042053</td>\n",
       "      <td>0.024059</td>\n",
       "      <td>[ZCR, RMS, f0]</td>\n",
       "      <td>femenino</td>\n",
       "    </tr>\n",
       "  </tbody>\n",
       "</table>\n",
       "</div>"
      ],
      "text/plain": [
       "  subjetive_parameter       ZCR       RMS        f0 selected_features   \n",
       "0     Inteligibilidad  0.130069  0.576055  0.699245             [ZCR]  \\\n",
       "1     Inteligibilidad  0.026715  0.672845  0.127228         [ZCR, f0]   \n",
       "2       Pronunciación  0.002332  0.012414  0.118646        [ZCR, RMS]   \n",
       "3       Pronunciación  0.150192  0.658306  0.207414             [ZCR]   \n",
       "4         Acentuación  0.012770  0.094656  0.305689             [ZCR]   \n",
       "5         Acentuación  0.514386  0.392788  0.120145         [RMS, f0]   \n",
       "6         Naturalidad  0.017957  0.891097  0.619233             [ZCR]   \n",
       "7         Naturalidad  0.107021  0.333371  0.073253         [RMS, f0]   \n",
       "8            Cadencia  0.002295  0.341678  0.990921         [ZCR, f0]   \n",
       "9            Cadencia  0.073162  0.042053  0.024059    [ZCR, RMS, f0]   \n",
       "\n",
       "      genero  \n",
       "0  masculino  \n",
       "1   femenino  \n",
       "2  masculino  \n",
       "3   femenino  \n",
       "4  masculino  \n",
       "5   femenino  \n",
       "6  masculino  \n",
       "7   femenino  \n",
       "8  masculino  \n",
       "9   femenino  "
      ]
     },
     "execution_count": 181,
     "metadata": {},
     "output_type": "execute_result"
    }
   ],
   "source": [
    "df_output_p_value_regression"
   ]
  },
  {
   "cell_type": "code",
   "execution_count": 82,
   "id": "b70d9656",
   "metadata": {},
   "outputs": [],
   "source": [
    "df_output_p_value_regression.to_excel(\n",
    "    os.path.join(PATH, TEST_FOLDER, REGGRESSION_FOLDER, PARAMETRIC_FOLDER, 'output_p_values_parametric_regressions.xlsx'),\n",
    "    index=False\n",
    ")"
   ]
  }
 ],
 "metadata": {
  "kernelspec": {
   "display_name": "venv",
   "language": "python",
   "name": "python3"
  },
  "language_info": {
   "codemirror_mode": {
    "name": "ipython",
    "version": 3
   },
   "file_extension": ".py",
   "mimetype": "text/x-python",
   "name": "python",
   "nbconvert_exporter": "python",
   "pygments_lexer": "ipython3",
   "version": "3.10.11"
  },
  "papermill": {
   "default_parameters": {},
   "duration": 239.127782,
   "end_time": "2023-06-11T01:41:18.251081",
   "environment_variables": {},
   "exception": null,
   "input_path": "regression.ipynb",
   "output_path": "regression.ipynb",
   "parameters": {},
   "start_time": "2023-06-11T01:37:19.123299",
   "version": "2.4.0"
  }
 },
 "nbformat": 4,
 "nbformat_minor": 5
}
