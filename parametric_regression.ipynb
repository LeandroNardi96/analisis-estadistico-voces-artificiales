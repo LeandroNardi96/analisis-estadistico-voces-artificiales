{
 "cells": [
  {
   "cell_type": "code",
   "execution_count": 1012,
   "id": "17795b15",
   "metadata": {
    "execution": {
     "iopub.execute_input": "2023-06-11T01:37:21.592891Z",
     "iopub.status.busy": "2023-06-11T01:37:21.592891Z",
     "iopub.status.idle": "2023-06-11T01:37:23.867476Z",
     "shell.execute_reply": "2023-06-11T01:37:23.867476Z"
    },
    "papermill": {
     "duration": 2.321303,
     "end_time": "2023-06-11T01:37:23.867476",
     "exception": false,
     "start_time": "2023-06-11T01:37:21.546173",
     "status": "completed"
    },
    "tags": []
   },
   "outputs": [],
   "source": [
    "import pandas as pd\n",
    "import numpy as np\n",
    "from matplotlib import pyplot as plt\n",
    "from scipy.stats import mannwhitneyu\n",
    "from statsmodels.stats.stattools import durbin_watson\n",
    "import re\n",
    "import os\n",
    "import seaborn as sns\n",
    "from matplotlib import cm, colors\n",
    "import matplotlib.ticker as ticker"
   ]
  },
  {
   "cell_type": "code",
   "execution_count": 1013,
   "id": "a3e117cb",
   "metadata": {
    "execution": {
     "iopub.execute_input": "2023-06-11T01:37:23.920016Z",
     "iopub.status.busy": "2023-06-11T01:37:23.919011Z",
     "iopub.status.idle": "2023-06-11T01:37:23.931179Z",
     "shell.execute_reply": "2023-06-11T01:37:23.929243Z"
    },
    "papermill": {
     "duration": 0.050142,
     "end_time": "2023-06-11T01:37:23.933137",
     "exception": false,
     "start_time": "2023-06-11T01:37:23.882995",
     "status": "completed"
    },
    "tags": []
   },
   "outputs": [],
   "source": [
    "PATH = os.getcwd()\n",
    "TEST_FOLDER = 'test-result'\n",
    "REGGRESSION_FOLDER = 'regressions'\n",
    "PARAMETRIC_FOLDER = 'parametric'\n",
    "DURBIN_WATSON = 'durbin-watson'\n",
    "ACENTUACION_FOLDER = 'Acentuacion'\n",
    "CADENCIA_FOLDER = 'Cadencia'\n",
    "INTELIGIBILIDAD_FOLDER = 'Inteligibilidad'\n",
    "NATURALIDAD_FOLDER = 'Naturalidad'\n",
    "PRONUNCIACION_FOLDER = 'Pronunciacion'\n",
    "MALE_FOLDER = 'masculino'\n",
    "FEMALE_FOLDER = 'femenino'"
   ]
  },
  {
   "cell_type": "code",
   "execution_count": 1014,
   "id": "ddc7a744",
   "metadata": {},
   "outputs": [],
   "source": [
    "# Diccionario para guardar los p-value\n",
    "dicc_p_value = {\n",
    "    'subjetive_parameter':[],\n",
    "    'ZCR':[],\n",
    "    'RMS':[],\n",
    "    'f0':[],\n",
    "    'selected_features':[],\n",
    "    'shapiro_wilk_test':[],\n",
    "    'genero':[] \n",
    "}"
   ]
  },
  {
   "cell_type": "code",
   "execution_count": 1015,
   "metadata": {},
   "outputs": [],
   "source": [
    "# Inicializamos el diccionario\n",
    "dicc_dw = {\n",
    "    \"Dublin-Watson Test\": [],\n",
    "    \"Parametro subjetivo\": [],\n",
    "    \"Genero\":[]\n",
    "}"
   ]
  },
  {
   "cell_type": "code",
   "execution_count": 1016,
   "id": "6dbf48cd",
   "metadata": {},
   "outputs": [],
   "source": [
    "# Voy a limpiar los graficos que hay en las carpetas\n",
    "\n",
    "list_files = os.listdir(os.path.join(PATH, TEST_FOLDER, REGGRESSION_FOLDER, PARAMETRIC_FOLDER))\n",
    "\n",
    "list_folder = []\n",
    "for folder in list_files:\n",
    "    if not folder.endswith('.xlsx'):\n",
    "        list_folder.append(folder)\n",
    "        \n",
    "SUBFOLDER_GENDER = ['masculino', 'femenino']\n",
    "\n",
    "for folder in list_folder:\n",
    "    for gender in SUBFOLDER_GENDER:\n",
    "        os.chdir(os.path.join(os.path.join(PATH, TEST_FOLDER, REGGRESSION_FOLDER, PARAMETRIC_FOLDER, folder, gender)))\n",
    "        all_files = os.listdir()\n",
    "        if len(all_files) == 0:\n",
    "            continue\n",
    "        for f in all_files:\n",
    "            os.remove(f)\n",
    "\n",
    "os.chdir(PATH)"
   ]
  },
  {
   "cell_type": "code",
   "execution_count": 1017,
   "id": "d3c38344",
   "metadata": {},
   "outputs": [
    {
     "data": {
      "text/plain": [
       "['Acentuacion', 'Cadencia', 'Inteligibilidad', 'Naturalidad', 'Pronunciacion']"
      ]
     },
     "execution_count": 1017,
     "metadata": {},
     "output_type": "execute_result"
    }
   ],
   "source": [
    "list_folder"
   ]
  },
  {
   "cell_type": "code",
   "execution_count": 1018,
   "id": "bb52d572",
   "metadata": {
    "execution": {
     "iopub.execute_input": "2023-06-11T01:37:23.969872Z",
     "iopub.status.busy": "2023-06-11T01:37:23.969872Z",
     "iopub.status.idle": "2023-06-11T01:37:24.001213Z",
     "shell.execute_reply": "2023-06-11T01:37:24.001213Z"
    },
    "papermill": {
     "duration": 0.046971,
     "end_time": "2023-06-11T01:37:24.001213",
     "exception": false,
     "start_time": "2023-06-11T01:37:23.954242",
     "status": "completed"
    },
    "tags": []
   },
   "outputs": [],
   "source": [
    "merged_df = pd.read_csv(r'aux_file\\data_regression.csv')"
   ]
  },
  {
   "cell_type": "code",
   "execution_count": 1019,
   "id": "2a1bdb65",
   "metadata": {
    "execution": {
     "iopub.execute_input": "2023-06-11T01:37:24.052738Z",
     "iopub.status.busy": "2023-06-11T01:37:24.050739Z",
     "iopub.status.idle": "2023-06-11T01:37:24.181724Z",
     "shell.execute_reply": "2023-06-11T01:37:24.181724Z"
    },
    "papermill": {
     "duration": 0.164981,
     "end_time": "2023-06-11T01:37:24.181724",
     "exception": false,
     "start_time": "2023-06-11T01:37:24.016743",
     "status": "completed"
    },
    "tags": []
   },
   "outputs": [],
   "source": [
    "obj_params = pd.read_excel('voces_test_rms.ods')"
   ]
  },
  {
   "cell_type": "code",
   "execution_count": 1020,
   "id": "45d42bb4",
   "metadata": {
    "execution": {
     "iopub.execute_input": "2023-06-11T01:37:24.235201Z",
     "iopub.status.busy": "2023-06-11T01:37:24.234201Z",
     "iopub.status.idle": "2023-06-11T01:37:24.261200Z",
     "shell.execute_reply": "2023-06-11T01:37:24.259293Z"
    },
    "papermill": {
     "duration": 0.065943,
     "end_time": "2023-06-11T01:37:24.263197",
     "exception": false,
     "start_time": "2023-06-11T01:37:24.197254",
     "status": "completed"
    },
    "tags": []
   },
   "outputs": [
    {
     "data": {
      "text/html": [
       "<div>\n",
       "<style scoped>\n",
       "    .dataframe tbody tr th:only-of-type {\n",
       "        vertical-align: middle;\n",
       "    }\n",
       "\n",
       "    .dataframe tbody tr th {\n",
       "        vertical-align: top;\n",
       "    }\n",
       "\n",
       "    .dataframe thead th {\n",
       "        text-align: right;\n",
       "    }\n",
       "</style>\n",
       "<table border=\"1\" class=\"dataframe\">\n",
       "  <thead>\n",
       "    <tr style=\"text-align: right;\">\n",
       "      <th></th>\n",
       "      <th>zero_crossing_rate</th>\n",
       "      <th>rms</th>\n",
       "      <th>mfcc</th>\n",
       "      <th>pitch</th>\n",
       "      <th>genero</th>\n",
       "      <th>file</th>\n",
       "    </tr>\n",
       "  </thead>\n",
       "  <tbody>\n",
       "    <tr>\n",
       "      <th>0</th>\n",
       "      <td>0.075944</td>\n",
       "      <td>-27.5</td>\n",
       "      <td>[-4.0729132e+02  1.3076346e+02 -3.0420111e+01 ...</td>\n",
       "      <td>111.111716</td>\n",
       "      <td>femenino</td>\n",
       "      <td>hyacinthe-lovo-v3.wav</td>\n",
       "    </tr>\n",
       "    <tr>\n",
       "      <th>1</th>\n",
       "      <td>0.093035</td>\n",
       "      <td>-27.0</td>\n",
       "      <td>[-424.61664     138.61742     -14.495688     3...</td>\n",
       "      <td>101.312090</td>\n",
       "      <td>femenino</td>\n",
       "      <td>lola-murf.wav</td>\n",
       "    </tr>\n",
       "    <tr>\n",
       "      <th>2</th>\n",
       "      <td>0.093043</td>\n",
       "      <td>-22.5</td>\n",
       "      <td>[-3.71418152e+02  1.31561859e+02 -1.60284328e+...</td>\n",
       "      <td>76.492752</td>\n",
       "      <td>masculino</td>\n",
       "      <td>neural2B-GCP.wav</td>\n",
       "    </tr>\n",
       "    <tr>\n",
       "      <th>3</th>\n",
       "      <td>0.098051</td>\n",
       "      <td>-22.0</td>\n",
       "      <td>[-3.4943588e+02  1.2940279e+02 -1.8956478e+01 ...</td>\n",
       "      <td>68.726911</td>\n",
       "      <td>masculino</td>\n",
       "      <td>alonso-naturalreader.wav</td>\n",
       "    </tr>\n",
       "    <tr>\n",
       "      <th>4</th>\n",
       "      <td>0.105458</td>\n",
       "      <td>-21.5</td>\n",
       "      <td>[-3.5115176e+02  1.1943483e+02 -1.9279911e+01 ...</td>\n",
       "      <td>69.045778</td>\n",
       "      <td>masculino</td>\n",
       "      <td>antonio-murf.wav</td>\n",
       "    </tr>\n",
       "  </tbody>\n",
       "</table>\n",
       "</div>"
      ],
      "text/plain": [
       "   zero_crossing_rate   rms  \\\n",
       "0            0.075944 -27.5   \n",
       "1            0.093035 -27.0   \n",
       "2            0.093043 -22.5   \n",
       "3            0.098051 -22.0   \n",
       "4            0.105458 -21.5   \n",
       "\n",
       "                                                mfcc       pitch     genero  \\\n",
       "0  [-4.0729132e+02  1.3076346e+02 -3.0420111e+01 ...  111.111716   femenino   \n",
       "1  [-424.61664     138.61742     -14.495688     3...  101.312090   femenino   \n",
       "2  [-3.71418152e+02  1.31561859e+02 -1.60284328e+...   76.492752  masculino   \n",
       "3  [-3.4943588e+02  1.2940279e+02 -1.8956478e+01 ...   68.726911  masculino   \n",
       "4  [-3.5115176e+02  1.1943483e+02 -1.9279911e+01 ...   69.045778  masculino   \n",
       "\n",
       "                       file  \n",
       "0     hyacinthe-lovo-v3.wav  \n",
       "1             lola-murf.wav  \n",
       "2          neural2B-GCP.wav  \n",
       "3  alonso-naturalreader.wav  \n",
       "4          antonio-murf.wav  "
      ]
     },
     "execution_count": 1020,
     "metadata": {},
     "output_type": "execute_result"
    }
   ],
   "source": [
    "obj_params.head()"
   ]
  },
  {
   "cell_type": "code",
   "execution_count": 1021,
   "id": "22e415c4",
   "metadata": {
    "execution": {
     "iopub.execute_input": "2023-06-11T01:37:24.302592Z",
     "iopub.status.busy": "2023-06-11T01:37:24.302592Z",
     "iopub.status.idle": "2023-06-11T01:37:24.319998Z",
     "shell.execute_reply": "2023-06-11T01:37:24.318280Z"
    },
    "papermill": {
     "duration": 0.0517,
     "end_time": "2023-06-11T01:37:24.323003",
     "exception": false,
     "start_time": "2023-06-11T01:37:24.271303",
     "status": "completed"
    },
    "tags": []
   },
   "outputs": [],
   "source": [
    "df_union = pd.merge(\n",
    "    merged_df,\n",
    "    obj_params,\n",
    "    how='left',\n",
    "    left_on='filename',\n",
    "    right_on='file'\n",
    ").drop(columns=['file'])"
   ]
  },
  {
   "cell_type": "code",
   "execution_count": 1022,
   "id": "b7f1cba5",
   "metadata": {
    "execution": {
     "iopub.execute_input": "2023-06-11T01:37:24.373750Z",
     "iopub.status.busy": "2023-06-11T01:37:24.372733Z",
     "iopub.status.idle": "2023-06-11T01:37:24.386535Z",
     "shell.execute_reply": "2023-06-11T01:37:24.384522Z"
    },
    "papermill": {
     "duration": 0.05226,
     "end_time": "2023-06-11T01:37:24.389572",
     "exception": false,
     "start_time": "2023-06-11T01:37:24.337312",
     "status": "completed"
    },
    "tags": []
   },
   "outputs": [],
   "source": [
    "df_union.rename(\n",
    "    columns={\n",
    "        'zero_crossing_rate': 'zcr',\n",
    "        'pitch': 'f0'\n",
    "    },\n",
    "    inplace=True\n",
    ")"
   ]
  },
  {
   "cell_type": "code",
   "execution_count": 1023,
   "id": "fa0f3880",
   "metadata": {
    "execution": {
     "iopub.execute_input": "2023-06-11T01:37:24.419698Z",
     "iopub.status.busy": "2023-06-11T01:37:24.419698Z",
     "iopub.status.idle": "2023-06-11T01:37:24.451146Z",
     "shell.execute_reply": "2023-06-11T01:37:24.451146Z"
    },
    "papermill": {
     "duration": 0.047081,
     "end_time": "2023-06-11T01:37:24.451146",
     "exception": false,
     "start_time": "2023-06-11T01:37:24.404065",
     "status": "completed"
    },
    "tags": []
   },
   "outputs": [
    {
     "data": {
      "text/html": [
       "<div>\n",
       "<style scoped>\n",
       "    .dataframe tbody tr th:only-of-type {\n",
       "        vertical-align: middle;\n",
       "    }\n",
       "\n",
       "    .dataframe tbody tr th {\n",
       "        vertical-align: top;\n",
       "    }\n",
       "\n",
       "    .dataframe thead th {\n",
       "        text-align: right;\n",
       "    }\n",
       "</style>\n",
       "<table border=\"1\" class=\"dataframe\">\n",
       "  <thead>\n",
       "    <tr style=\"text-align: right;\">\n",
       "      <th></th>\n",
       "      <th>ID</th>\n",
       "      <th>filename</th>\n",
       "      <th>Inteligibilidad</th>\n",
       "      <th>Pronunciacion</th>\n",
       "      <th>Acentuacion</th>\n",
       "      <th>Naturalidad</th>\n",
       "      <th>Cadencia</th>\n",
       "      <th>zcr</th>\n",
       "      <th>rms</th>\n",
       "      <th>mfcc</th>\n",
       "      <th>f0</th>\n",
       "      <th>genero</th>\n",
       "    </tr>\n",
       "  </thead>\n",
       "  <tbody>\n",
       "    <tr>\n",
       "      <th>0</th>\n",
       "      <td>1</td>\n",
       "      <td>alonso-naturalreader.wav</td>\n",
       "      <td>4.867647</td>\n",
       "      <td>4.621212</td>\n",
       "      <td>4.426471</td>\n",
       "      <td>3.250000</td>\n",
       "      <td>3.823529</td>\n",
       "      <td>0.098051</td>\n",
       "      <td>-22.0</td>\n",
       "      <td>[-3.4943588e+02  1.2940279e+02 -1.8956478e+01 ...</td>\n",
       "      <td>68.726911</td>\n",
       "      <td>masculino</td>\n",
       "    </tr>\n",
       "    <tr>\n",
       "      <th>1</th>\n",
       "      <td>2</td>\n",
       "      <td>hyacinthe-lovo-v3.wav</td>\n",
       "      <td>4.970588</td>\n",
       "      <td>4.692308</td>\n",
       "      <td>4.602941</td>\n",
       "      <td>4.308824</td>\n",
       "      <td>4.250000</td>\n",
       "      <td>0.075944</td>\n",
       "      <td>-27.5</td>\n",
       "      <td>[-4.0729132e+02  1.3076346e+02 -3.0420111e+01 ...</td>\n",
       "      <td>111.111716</td>\n",
       "      <td>femenino</td>\n",
       "    </tr>\n",
       "    <tr>\n",
       "      <th>2</th>\n",
       "      <td>3</td>\n",
       "      <td>neural2C-pitchmodified-speedmodified.wav</td>\n",
       "      <td>4.515625</td>\n",
       "      <td>3.962963</td>\n",
       "      <td>2.852941</td>\n",
       "      <td>1.779412</td>\n",
       "      <td>1.720588</td>\n",
       "      <td>0.251626</td>\n",
       "      <td>-25.0</td>\n",
       "      <td>[-4.4141333e+02  8.9362648e+01 -1.2164741e+01 ...</td>\n",
       "      <td>98.468505</td>\n",
       "      <td>masculino</td>\n",
       "    </tr>\n",
       "    <tr>\n",
       "      <th>3</th>\n",
       "      <td>4</td>\n",
       "      <td>francisca-lovo-v2.wav</td>\n",
       "      <td>4.746269</td>\n",
       "      <td>4.276923</td>\n",
       "      <td>4.294118</td>\n",
       "      <td>3.220588</td>\n",
       "      <td>3.823529</td>\n",
       "      <td>0.137822</td>\n",
       "      <td>-26.1</td>\n",
       "      <td>[-454.8679      72.41395    -14.8625145   45.9...</td>\n",
       "      <td>116.353345</td>\n",
       "      <td>femenino</td>\n",
       "    </tr>\n",
       "    <tr>\n",
       "      <th>4</th>\n",
       "      <td>5</td>\n",
       "      <td>antoni-evenlabs-linguistico-v2.wav</td>\n",
       "      <td>4.681818</td>\n",
       "      <td>4.064516</td>\n",
       "      <td>3.220588</td>\n",
       "      <td>1.897059</td>\n",
       "      <td>1.779412</td>\n",
       "      <td>0.239188</td>\n",
       "      <td>-24.0</td>\n",
       "      <td>[-406.19888     84.30505    -12.89493     18.8...</td>\n",
       "      <td>78.968152</td>\n",
       "      <td>masculino</td>\n",
       "    </tr>\n",
       "  </tbody>\n",
       "</table>\n",
       "</div>"
      ],
      "text/plain": [
       "   ID                                  filename  Inteligibilidad  \\\n",
       "0   1                  alonso-naturalreader.wav         4.867647   \n",
       "1   2                     hyacinthe-lovo-v3.wav         4.970588   \n",
       "2   3  neural2C-pitchmodified-speedmodified.wav         4.515625   \n",
       "3   4                     francisca-lovo-v2.wav         4.746269   \n",
       "4   5        antoni-evenlabs-linguistico-v2.wav         4.681818   \n",
       "\n",
       "   Pronunciacion  Acentuacion  Naturalidad  Cadencia       zcr   rms  \\\n",
       "0       4.621212     4.426471     3.250000  3.823529  0.098051 -22.0   \n",
       "1       4.692308     4.602941     4.308824  4.250000  0.075944 -27.5   \n",
       "2       3.962963     2.852941     1.779412  1.720588  0.251626 -25.0   \n",
       "3       4.276923     4.294118     3.220588  3.823529  0.137822 -26.1   \n",
       "4       4.064516     3.220588     1.897059  1.779412  0.239188 -24.0   \n",
       "\n",
       "                                                mfcc          f0     genero  \n",
       "0  [-3.4943588e+02  1.2940279e+02 -1.8956478e+01 ...   68.726911  masculino  \n",
       "1  [-4.0729132e+02  1.3076346e+02 -3.0420111e+01 ...  111.111716   femenino  \n",
       "2  [-4.4141333e+02  8.9362648e+01 -1.2164741e+01 ...   98.468505  masculino  \n",
       "3  [-454.8679      72.41395    -14.8625145   45.9...  116.353345   femenino  \n",
       "4  [-406.19888     84.30505    -12.89493     18.8...   78.968152  masculino  "
      ]
     },
     "execution_count": 1023,
     "metadata": {},
     "output_type": "execute_result"
    }
   ],
   "source": [
    "df_union.head()"
   ]
  },
  {
   "attachments": {},
   "cell_type": "markdown",
   "id": "c7108eb7",
   "metadata": {
    "papermill": {
     "duration": 0.034497,
     "end_time": "2023-06-11T01:37:24.501062",
     "exception": false,
     "start_time": "2023-06-11T01:37:24.466565",
     "status": "completed"
    },
    "tags": []
   },
   "source": [
    "## SelectorFeature"
   ]
  },
  {
   "cell_type": "code",
   "execution_count": 1024,
   "id": "0574d6e5",
   "metadata": {
    "execution": {
     "iopub.execute_input": "2023-06-11T01:37:24.537131Z",
     "iopub.status.busy": "2023-06-11T01:37:24.537131Z",
     "iopub.status.idle": "2023-06-11T01:37:25.042508Z",
     "shell.execute_reply": "2023-06-11T01:37:25.042508Z"
    },
    "papermill": {
     "duration": 0.5174,
     "end_time": "2023-06-11T01:37:25.042508",
     "exception": false,
     "start_time": "2023-06-11T01:37:24.525108",
     "status": "completed"
    },
    "tags": []
   },
   "outputs": [],
   "source": [
    "from sklearn.pipeline import make_pipeline\n",
    "from sklearn.preprocessing import StandardScaler\n",
    "from sklearn.neighbors import KNeighborsRegressor\n",
    "from mlxtend.feature_selection import SequentialFeatureSelector\n",
    "from sklearn.utils import check_random_state\n",
    "from sklearn.model_selection import permutation_test_score\n",
    "from sklearn.linear_model import LinearRegression\n",
    "from sklearn.base import BaseEstimator, RegressorMixin\n",
    "import statsmodels.api as sm\n",
    "from scipy import stats"
   ]
  },
  {
   "cell_type": "code",
   "execution_count": 1025,
   "id": "6201e37a",
   "metadata": {},
   "outputs": [],
   "source": [
    "class SMWrapper(BaseEstimator, RegressorMixin):\n",
    "    \"\"\"Un envoltorio para hacer que los modelos de regresión de statsmodels sean compatibles con la API de scikit-learn\"\"\"\n",
    "    def __init__(self, model_class, fit_intercept=True):\n",
    "        self.model_class = model_class\n",
    "        self.fit_intercept = fit_intercept\n",
    "        self.model = None\n",
    "\n",
    "    def fit(self, X, y):\n",
    "        if self.fit_intercept:\n",
    "            X = sm.add_constant(X)\n",
    "        self.model = self.model_class(y, X)\n",
    "        self.results = self.model.fit()\n",
    "        return self.results\n",
    "\n",
    "    def predict(self, X):\n",
    "        if self.fit_intercept:\n",
    "            X = sm.add_constant(X)\n",
    "        return self.results.predict(X)"
   ]
  },
  {
   "cell_type": "code",
   "execution_count": 1026,
   "metadata": {},
   "outputs": [],
   "source": [
    "# Función para formatear los números con coma como separador decimal\n",
    "def format_decimal(x, pos):\n",
    "    return '{:.2f}'.format(x).replace('.', ',')"
   ]
  },
  {
   "attachments": {},
   "cell_type": "markdown",
   "id": "80a45a4d",
   "metadata": {
    "papermill": {
     "duration": 0.034952,
     "end_time": "2023-06-11T01:37:25.093052",
     "exception": false,
     "start_time": "2023-06-11T01:37:25.058100",
     "status": "completed"
    },
    "tags": []
   },
   "source": [
    "### Inteligibilidad"
   ]
  },
  {
   "cell_type": "code",
   "execution_count": 1027,
   "id": "04fb2a9a",
   "metadata": {
    "execution": {
     "iopub.execute_input": "2023-06-11T01:37:25.137055Z",
     "iopub.status.busy": "2023-06-11T01:37:25.136049Z",
     "iopub.status.idle": "2023-06-11T01:37:25.153776Z",
     "shell.execute_reply": "2023-06-11T01:37:25.153776Z"
    },
    "papermill": {
     "duration": 0.03972,
     "end_time": "2023-06-11T01:37:25.153776",
     "exception": false,
     "start_time": "2023-06-11T01:37:25.114056",
     "status": "completed"
    },
    "tags": []
   },
   "outputs": [],
   "source": [
    "df_inteligibilidad = df_union.loc[:, ['Inteligibilidad', 'zcr', 'rms', 'f0', 'genero']]"
   ]
  },
  {
   "attachments": {},
   "cell_type": "markdown",
   "id": "f4e45e85",
   "metadata": {
    "papermill": {
     "duration": 0.037214,
     "end_time": "2023-06-11T01:37:25.206591",
     "exception": false,
     "start_time": "2023-06-11T01:37:25.169377",
     "status": "completed"
    },
    "tags": []
   },
   "source": [
    "#### Masculino"
   ]
  },
  {
   "cell_type": "code",
   "execution_count": 1028,
   "id": "5c68b92e",
   "metadata": {
    "execution": {
     "iopub.execute_input": "2023-06-11T01:37:25.237694Z",
     "iopub.status.busy": "2023-06-11T01:37:25.237694Z",
     "iopub.status.idle": "2023-06-11T01:37:25.269151Z",
     "shell.execute_reply": "2023-06-11T01:37:25.269151Z"
    },
    "papermill": {
     "duration": 0.041564,
     "end_time": "2023-06-11T01:37:25.269151",
     "exception": false,
     "start_time": "2023-06-11T01:37:25.227587",
     "status": "completed"
    },
    "tags": []
   },
   "outputs": [],
   "source": [
    "# Lista de p-values\n",
    "p_values = []\n",
    "\n",
    "mask_gender = df_inteligibilidad.genero == 'masculino'\n",
    "\n",
    "df_inteligibilidad_male = df_inteligibilidad[mask_gender].drop(columns=['genero'])"
   ]
  },
  {
   "cell_type": "code",
   "execution_count": 1029,
   "id": "c2d8db90",
   "metadata": {
    "execution": {
     "iopub.execute_input": "2023-06-11T01:37:25.325078Z",
     "iopub.status.busy": "2023-06-11T01:37:25.324076Z",
     "iopub.status.idle": "2023-06-11T01:37:25.419832Z",
     "shell.execute_reply": "2023-06-11T01:37:25.419832Z"
    },
    "papermill": {
     "duration": 0.135222,
     "end_time": "2023-06-11T01:37:25.419832",
     "exception": false,
     "start_time": "2023-06-11T01:37:25.284610",
     "status": "completed"
    },
    "tags": []
   },
   "outputs": [
    {
     "name": "stdout",
     "output_type": "stream",
     "text": [
      "Coeficiente de determinación R^2: 0.5392\n",
      "Shapiro-Wilk p-valor: 0.5369030833244324\n",
      "Durbin-Watson: 1.7195668096374823\n",
      "Características seleccionadas: (0,)\n",
      "Característica Seleccionada ZCR: p-valor = 0.0156\n",
      "\n",
      "p-valor global: 0.01559663427711739\n",
      "Ecuación: 5.05 - 2.32*ZCR\n",
      "\n",
      "Característica ZCR: p-valor = 0.1397\n",
      "Característica RMS: p-valor = 0.4971\n",
      "Característica f0: p-valor = 0.6041\n"
     ]
    }
   ],
   "source": [
    "# Cargamos los datos\n",
    "X = np.array(df_inteligibilidad_male.drop(columns=['Inteligibilidad'])) # df_objetivos es el DataFrame con los parámetros objetivos\n",
    "y = np.array(df_inteligibilidad_male.Inteligibilidad) # df_subjetivos es el DataFrame con los parámetros subjetivos\n",
    "\n",
    "# Creamos el modelo de regresión lineal con el envoltorio\n",
    "regr_multivar = SMWrapper(sm.OLS)\n",
    "\n",
    "# Creamos el selector de características hacia adelante\n",
    "forward_selector = SequentialFeatureSelector(regr_multivar, k_features='best', forward=True, scoring='neg_mean_squared_error')\n",
    "\n",
    "# Entrenamos el selector de características\n",
    "forward_selector.fit(X, y)\n",
    "\n",
    "# Obtenemos las características seleccionadas\n",
    "selected_features = forward_selector.k_feature_idx_\n",
    "\n",
    "# Lógica para rellenar las características no seleccionadas\n",
    "count_features = set(selected_features)\n",
    "total_features = set([0,1,2])\n",
    "missing_features = total_features - count_features\n",
    "\n",
    "for missing_feature in missing_features:\n",
    "    if missing_feature == 0:\n",
    "        dicc_p_value['ZCR'].append(np.nan)\n",
    "    elif missing_feature == 1:\n",
    "        dicc_p_value['RMS'].append(np.nan)\n",
    "    else:\n",
    "        dicc_p_value['f0'].append(np.nan)\n",
    "\n",
    "regr_multivar_fit = regr_multivar.fit(X[:, selected_features], y)\n",
    "\n",
    "# Obtenemos el R^2 del modelo\n",
    "r_squared_value = regr_multivar_fit.rsquared\n",
    "\n",
    "print(f'Coeficiente de determinación R^2: {r_squared_value:.4f}')\n",
    "\n",
    "# Obtenemos los residuos del modelo\n",
    "residuals = y - regr_multivar.predict(X[:, selected_features])\n",
    "\n",
    "# Realizamos la prueba de Shapiro-Wilk\n",
    "shapiro_test = stats.shapiro(residuals)\n",
    "\n",
    "# Imprimimos el resultado de la prueba\n",
    "print('Shapiro-Wilk p-valor:', shapiro_test.pvalue)\n",
    "\n",
    "# Realizamos el test de Durbin-Watson\n",
    "dw_test = durbin_watson(residuals)\n",
    "\n",
    "# Imprimimos el resultado del test\n",
    "print('Durbin-Watson:', dw_test)\n",
    "\n",
    "# Imprimimos las características seleccionadas\n",
    "print('Características seleccionadas:', selected_features)\n",
    "\n",
    "# Imprimimos los p-valores para cada característica seleccionada\n",
    "for feature, pvalue in zip(selected_features, regr_multivar_fit.pvalues[1:]):\n",
    "    \n",
    "    if feature == 0:\n",
    "        feature = 'ZCR'\n",
    "    elif feature == 1:\n",
    "        feature = 'RMS'\n",
    "    else:\n",
    "        feature = 'f0'\n",
    "        \n",
    "    p_values.append(pvalue)\n",
    "    dicc_p_value[feature].append(pvalue)\n",
    "  \n",
    "    print(f'Característica Seleccionada {feature}: p-valor = {pvalue:.4f}')\n",
    "\n",
    "print()\n",
    "\n",
    "# Imprimimos el p-valor global\n",
    "print('p-valor global:', regr_multivar_fit.f_pvalue)\n",
    "\n",
    "features = {\n",
    "    1: 'ZCR',\n",
    "    2: 'RMS',\n",
    "    3: 'f0'\n",
    "}\n",
    "\n",
    "# Imprimimos la ecuación resultante\n",
    "equation = \"Ecuación: \"\n",
    "for i, coef in enumerate(regr_multivar_fit.params):\n",
    "    if i == 0:\n",
    "        equation += f\"{coef:.2f}\"\n",
    "    else:\n",
    "        if coef < 0:\n",
    "            equation += f\" - {-coef:.2f}*{features[i]}\"\n",
    "        else:\n",
    "            equation += f\" + {coef:.2f}*{features[i]}\"\n",
    "print(equation)\n",
    "\n",
    "print()\n",
    "\n",
    "# Creamos el modelo OLS (mínimos cuadrados ordinarios) y lo ajustamos a los datos\n",
    "results = regr_multivar.fit(X, y)\n",
    "\n",
    "# Imprimimos los p-valores para cada característica seleccionada\n",
    "for feature, pvalue in zip(list(range(X.shape[1])), results.pvalues[1:]):\n",
    "\n",
    "    if feature == 0:\n",
    "        feature = 'ZCR'\n",
    "    elif feature == 1:\n",
    "        feature = 'RMS'\n",
    "    else:\n",
    "        feature = 'f0'\n",
    "    \n",
    "    print(f'Característica {feature}: p-valor = {pvalue:.4f}')\n",
    "\n",
    "    \n",
    "dicc_p_value['subjetive_parameter'].append('Inteligibilidad')\n",
    "dicc_p_value['genero'].append('masculino')\n",
    "dicc_p_value['selected_features'].append(list(selected_features))\n",
    "dicc_p_value['shapiro_wilk_test'].append(shapiro_test.pvalue)\n",
    "\n",
    "# Almacenamos los resultados en el diccionario\n",
    "dicc_dw[\"Dublin-Watson Test\"].append(dw_test)\n",
    "dicc_dw[\"Parametro subjetivo\"].append('Inteligibilidad')\n",
    "dicc_dw[\"Genero\"].append('masculino')\n"
   ]
  },
  {
   "cell_type": "code",
   "execution_count": 1030,
   "id": "e27ea5ec",
   "metadata": {
    "execution": {
     "iopub.execute_input": "2023-06-11T01:37:48.093097Z",
     "iopub.status.busy": "2023-06-11T01:37:48.091097Z",
     "iopub.status.idle": "2023-06-11T01:37:48.117095Z",
     "shell.execute_reply": "2023-06-11T01:37:48.116103Z"
    },
    "papermill": {
     "duration": 0.065578,
     "end_time": "2023-06-11T01:37:48.120095",
     "exception": false,
     "start_time": "2023-06-11T01:37:48.054517",
     "status": "completed"
    },
    "tags": []
   },
   "outputs": [],
   "source": [
    "# Dicc auxiliar con los nombres asociadas a las variables\n",
    "dicc_names_features = {\n",
    "    'zcr_model': 0,\n",
    "    'rms_model': 1,\n",
    "    'f0_model': 2\n",
    "}\n",
    "\n",
    "# Dicc de los modelos\n",
    "dicc_model = {}\n",
    "\n",
    "# Dicc de las predicciones\n",
    "dicc_pred = {}\n",
    "\n",
    "for selected_feature in selected_features:\n",
    "    # Entrenamos el modelo de regresión con las características seleccionadas\n",
    "    regr_multivar = SMWrapper(sm.OLS)\n",
    "    regr_multivar_fit = regr_multivar.fit(X[:, selected_feature].reshape(-1, 1), y.ravel())\n",
    "\n",
    "    # Almacenamos en dicc_model la clave asociada al modelo que se entrenó y el objeto modelo\n",
    "    for key, value in dicc_names_features.items():\n",
    "        if value == selected_feature:\n",
    "            dicc_model[key] = regr_multivar_fit\n",
    "\n",
    "    # Obtenemos las predicciones del modelo para las características seleccionadas\n",
    "    y_pred = regr_multivar.predict(X[:, selected_feature].reshape(-1, 1))\n",
    "\n",
    "    # Almacenamos en dicc_pred la clave asociada al modelo que se entrenó y la predicción\n",
    "    for key, value in dicc_names_features.items():\n",
    "        if value == selected_feature:\n",
    "            dicc_pred[key] = y_pred\n"
   ]
  },
  {
   "cell_type": "code",
   "execution_count": 1031,
   "id": "3eec5163",
   "metadata": {
    "execution": {
     "iopub.execute_input": "2023-06-11T01:37:48.154855Z",
     "iopub.status.busy": "2023-06-11T01:37:48.154855Z",
     "iopub.status.idle": "2023-06-11T01:37:48.170542Z",
     "shell.execute_reply": "2023-06-11T01:37:48.170542Z"
    },
    "papermill": {
     "duration": 0.03135,
     "end_time": "2023-06-11T01:37:48.170542",
     "exception": false,
     "start_time": "2023-06-11T01:37:48.139192",
     "status": "completed"
    },
    "tags": []
   },
   "outputs": [
    {
     "name": "stdout",
     "output_type": "stream",
     "text": [
      "y = -2,32 * ZCR$^{*}$ + 5,05 - R$^2$ = 0,539\n"
     ]
    }
   ],
   "source": [
    "list_equ = []\n",
    "\n",
    "for idx, (key, model) in enumerate(dicc_model.items()):\n",
    "    # Obtenemos los valores de w y b\n",
    "    w = model.params[1:][0]\n",
    "    b = model.params[0]\n",
    "    r_squared = model.rsquared\n",
    "    \n",
    "    label = key.replace(\"_model\", \"\")\n",
    "    if label == 'f0':\n",
    "        label = r'$f_{0}$'\n",
    "    else:\n",
    "        label = label.upper()\n",
    "\n",
    "    # Verificamos el valor de p y agregamos el superíndice correspondiente\n",
    "    if p_values[idx] < 0.01:\n",
    "        label += '$^{**}$'\n",
    "    elif p_values[idx] < 0.05:\n",
    "        label += '$^{*}$'\n",
    "\n",
    "    if len(dicc_model) == 1:\n",
    "        # Construimos la cadena de texto para la ecuación del hiperplano y su p-valor\n",
    "        equation = f'y = {w.round(2)} * {label} + {b.round(2)} - R$^2$ = {r_squared:.3f}'\n",
    "    else:\n",
    "        equation = f'y = {w.round(2)} * {label} + {b.round(2)}'\n",
    "\n",
    "    equation = equation.replace('.', ',')\n",
    "    # Agregamos la cadena a la lista\n",
    "    list_equ.append(equation)\n",
    "\n",
    "# Mostramos el resultado\n",
    "for equ in list_equ:\n",
    "    print(equ)"
   ]
  },
  {
   "cell_type": "code",
   "execution_count": 1032,
   "id": "8ab1366d",
   "metadata": {
    "execution": {
     "iopub.execute_input": "2023-06-11T01:37:48.246801Z",
     "iopub.status.busy": "2023-06-11T01:37:48.245814Z",
     "iopub.status.idle": "2023-06-11T01:37:49.010753Z",
     "shell.execute_reply": "2023-06-11T01:37:49.007778Z"
    },
    "papermill": {
     "duration": 0.813087,
     "end_time": "2023-06-11T01:37:49.014787",
     "exception": false,
     "start_time": "2023-06-11T01:37:48.201700",
     "status": "completed"
    },
    "tags": []
   },
   "outputs": [
    {
     "data": {
      "image/png": "[encoded data removed]",
      "text/plain": [
       "<Figure size 600x400 with 1 Axes>"
      ]
     },
     "metadata": {},
     "output_type": "display_data"
    }
   ],
   "source": [
    "dims = (6 * len(dicc_model), 4)\n",
    "fig, ax = plt.subplots(figsize=dims, ncols=len(dicc_model))\n",
    "\n",
    "with sns.axes_style('darkgrid'):\n",
    "    for i, (key, model) in enumerate(dicc_model.items()):\n",
    "        if isinstance(ax, np.ndarray):\n",
    "            ax_i = ax[i]\n",
    "        else:\n",
    "            ax_i = ax\n",
    "        label = key.replace(\"_model\", \"\")\n",
    "        if label == 'f0':\n",
    "            label = r'$f_{0}$'\n",
    "        else:\n",
    "            label = label.upper()\n",
    "        g = sns.scatterplot(x=X[:, dicc_names_features[key]], y=y, ax=ax_i, color='blue')\n",
    "        g = sns.lineplot(x=X[:, dicc_names_features[key]], y=dicc_pred[key], ax=ax_i, color='red')\n",
    "        g.text(0.5, -0.1, label, weight='bold', size='large', family='Arial', stretch='extra-expanded', ha='center', va='top', transform=g.transAxes)\n",
    "        g.set_ylabel('Inteligibilidad', weight='bold', size='large', alpha=0.8, family='Arial', stretch='extra-expanded')\n",
    "        g.set_title(list_equ[i], weight='bold', size='x-large', alpha=0.8, family='Arial', stretch='extra-expanded')\n",
    "        g.grid(alpha=0.7)\n",
    "        ax_i.set_ylim(0, 6)\n",
    "        \n",
    "        # Verificar si los valores en el eje x son menores que 1\n",
    "        if np.any(np.abs(X[:, dicc_names_features[key]]) < 1):\n",
    "            # Crear el formateador\n",
    "            formatter = ticker.FuncFormatter(format_decimal)\n",
    "\n",
    "            # Usar el formateador en el eje x de tus gráficos\n",
    "            ax_i.xaxis.set_major_formatter(formatter)\n",
    "\n",
    "    plt.tight_layout()\n",
    "    plt.figtext(0.02, 0.01, '*: p-valor < 0,05    **: p-valor < 0,01', fontsize=9)\n",
    "    plt.savefig(os.path.join(PATH, TEST_FOLDER, REGGRESSION_FOLDER, PARAMETRIC_FOLDER, INTELIGIBILIDAD_FOLDER, MALE_FOLDER, 'regresiones_inteligibilidad_male.png'))\n",
    "    plt.show()\n"
   ]
  },
  {
   "cell_type": "code",
   "execution_count": 1033,
   "id": "ede9f8e4",
   "metadata": {
    "execution": {
     "iopub.execute_input": "2023-06-11T01:37:49.073752Z",
     "iopub.status.busy": "2023-06-11T01:37:49.072754Z",
     "iopub.status.idle": "2023-06-11T01:37:49.105752Z",
     "shell.execute_reply": "2023-06-11T01:37:49.103839Z"
    },
    "papermill": {
     "duration": 0.063,
     "end_time": "2023-06-11T01:37:49.109753",
     "exception": false,
     "start_time": "2023-06-11T01:37:49.046753",
     "status": "completed"
    },
    "tags": []
   },
   "outputs": [],
   "source": [
    "if len(dicc_model) == 2:\n",
    "    import plotly.express as px\n",
    "    import plotly.graph_objects as go\n",
    "\n",
    "    # Seleccionamos solo las características seleccionadas en X\n",
    "    X_selected = X[:, selected_features]\n",
    "\n",
    "    # Entrenamos el modelo de regresión con las características seleccionadas\n",
    "    regr_multivar = SMWrapper(sm.OLS)\n",
    "    regr_multivar_fit = regr_multivar.fit(X_selected, y)\n",
    "\n",
    "    # Obtenemos las predicciones del modelo para las características seleccionadas\n",
    "    y_pred = regr_multivar.predict(X_selected)\n",
    "\n",
    "    # Crear la figura\n",
    "    fig = px.scatter_3d(x=X_selected[:, 0], y=X_selected[:, 1], z=y)\n",
    "\n",
    "    # Crear el plano de regresión\n",
    "    xx, yy = np.meshgrid(X_selected[:, 0], X_selected[:, 1])\n",
    "    zz = regr_multivar_fit.params[0] + np.dot(np.array([xx.ravel(), yy.ravel()]).T, regr_multivar_fit.params[1:].ravel()).reshape(xx.shape)\n",
    "    fig.add_trace(go.Surface(x=xx, y=yy, z=zz, opacity=0.5))\n",
    "\n",
    "    axis_name_list = []\n",
    "    # Construir la cadena de texto para la ecuación del plano\n",
    "    equation = f'z = {regr_multivar_fit.params[0].round(2)}'\n",
    "    for i, (key, model) in enumerate(dicc_model.items()):\n",
    "        feature_name = key.replace(\"_model\", \"\").upper()\n",
    "        feature_name_axis = feature_name\n",
    "        if feature_name == 'F0':\n",
    "            feature_name = '<i>f₀</i>'\n",
    "            feature_name_axis = 'f₀'\n",
    "        axis_name_list.append(feature_name_axis)\n",
    "        if regr_multivar_fit.pvalues[1:][i] < 0.01:\n",
    "            label = '<sup>**</sup>'\n",
    "        elif regr_multivar_fit.pvalues[1:][i] < 0.05:\n",
    "            label = '<sup>*</sup>'\n",
    "        else:\n",
    "            label = ''\n",
    "        equation += f' + {regr_multivar_fit.params[1:][i].round(2)} * {feature_name} {label}'\n",
    "        \n",
    "    equation += f' - R² = {r_squared_value:.3f}'\n",
    "    equation = equation.replace('.', ',')\n",
    "    \n",
    "    # Centrar el título\n",
    "    fig.update_layout(title=dict(text=equation, x=0.5, xanchor='center'))\n",
    "    \n",
    "    # Verificar si los valores en el eje x son menores que 1\n",
    "    if np.any(np.abs(X_selected[:, 0]) < 1):\n",
    "        # Calcular los valores de los ticks\n",
    "        xaxis_tickvals = np.linspace(np.min(X_selected[:, 0]), np.max(X_selected[:, 0]), 6)[1:5]\n",
    "\n",
    "        # Convertir los valores de los ticks a strings y reemplazar los puntos por comas\n",
    "        xaxis_ticktext = [f'{val:.2f}'.replace('.', ',') for val in xaxis_tickvals]\n",
    "    else:\n",
    "        # Si los valores en el eje x son mayores o iguales a 1, usar el formato por defecto\n",
    "        xaxis_tickvals = None\n",
    "        xaxis_ticktext = None\n",
    "\n",
    "    # Etiquetas de los ejes y rango del eje z\n",
    "    fig.update_layout(scene=dict(xaxis=dict(title=axis_name_list[0], tickvals=xaxis_tickvals, ticktext=xaxis_ticktext), yaxis_title=axis_name_list[1], zaxis_title='Inteligibilidad', zaxis=dict(range=[0, 6]), yaxis=dict(tickvals=[-28, -26, -24, -22])))\n",
    "    \n",
    "    # Agrega la anotación al final\n",
    "    fig.add_annotation(\n",
    "        x=0.07,\n",
    "        y=-0.15,\n",
    "        xref=\"paper\",\n",
    "        yref=\"paper\",\n",
    "        text=\"*: p-valor < 0,05    **: p-valor < 0,01\",\n",
    "        showarrow=False,\n",
    "        font=dict(\n",
    "            size=13\n",
    "        )\n",
    "    )\n",
    "\n",
    "    fig.write_html(\n",
    "       os.path.join(PATH, TEST_FOLDER, REGGRESSION_FOLDER, PARAMETRIC_FOLDER, INTELIGIBILIDAD_FOLDER, MALE_FOLDER, 'regresion_inteligibilidad_multivariable_male.html')\n",
    "    )\n",
    "    \n",
    "    fig.write_image(\n",
    "       os.path.join(PATH, TEST_FOLDER, REGGRESSION_FOLDER, PARAMETRIC_FOLDER, INTELIGIBILIDAD_FOLDER, MALE_FOLDER, 'regresion_inteligibilidad_multivariable_male.png')\n",
    "    )\n",
    "\n",
    "\n",
    "    fig.show()\n"
   ]
  },
  {
   "attachments": {},
   "cell_type": "markdown",
   "id": "1246354a",
   "metadata": {
    "papermill": {
     "duration": 0.030997,
     "end_time": "2023-06-11T01:37:49.164752",
     "exception": false,
     "start_time": "2023-06-11T01:37:49.133755",
     "status": "completed"
    },
    "tags": []
   },
   "source": [
    "#### Femenino"
   ]
  },
  {
   "cell_type": "code",
   "execution_count": 1034,
   "id": "7e71f571",
   "metadata": {
    "execution": {
     "iopub.execute_input": "2023-06-11T01:37:49.216749Z",
     "iopub.status.busy": "2023-06-11T01:37:49.215751Z",
     "iopub.status.idle": "2023-06-11T01:37:49.231752Z",
     "shell.execute_reply": "2023-06-11T01:37:49.229841Z"
    },
    "papermill": {
     "duration": 0.043029,
     "end_time": "2023-06-11T01:37:49.233787",
     "exception": false,
     "start_time": "2023-06-11T01:37:49.190758",
     "status": "completed"
    },
    "tags": []
   },
   "outputs": [],
   "source": [
    "# Lista de p-values\n",
    "p_values = []\n",
    "\n",
    "mask_gender = df_inteligibilidad.genero == 'femenino'\n",
    "\n",
    "df_inteligibilidad_female = df_inteligibilidad[mask_gender].drop(columns=['genero'])"
   ]
  },
  {
   "cell_type": "code",
   "execution_count": 1035,
   "id": "274b8c1e",
   "metadata": {
    "execution": {
     "iopub.execute_input": "2023-06-11T01:37:49.292752Z",
     "iopub.status.busy": "2023-06-11T01:37:49.291752Z",
     "iopub.status.idle": "2023-06-11T01:37:49.375756Z",
     "shell.execute_reply": "2023-06-11T01:37:49.373753Z"
    },
    "papermill": {
     "duration": 0.117035,
     "end_time": "2023-06-11T01:37:49.378787",
     "exception": false,
     "start_time": "2023-06-11T01:37:49.261752",
     "status": "completed"
    },
    "tags": []
   },
   "outputs": [
    {
     "name": "stdout",
     "output_type": "stream",
     "text": [
      "Coeficiente de determinación R^2: 0.8008\n",
      "Shapiro-Wilk p-valor: 0.5264934301376343\n",
      "Durbin-Watson: 1.2089757184238168\n",
      "Características seleccionadas: (0, 2)\n",
      "Característica Seleccionada ZCR: p-valor = 0.0015\n",
      "Característica Seleccionada f0: p-valor = 0.0386\n",
      "\n",
      "p-valor global: 0.003527343960223371\n",
      "Ecuación: 5.94 - 2.46*ZCR - 0.01*RMS\n",
      "\n",
      "Característica ZCR: p-valor = 0.0324\n",
      "Característica RMS: p-valor = 0.6260\n",
      "Característica f0: p-valor = 0.0539\n"
     ]
    }
   ],
   "source": [
    "# Cargamos los datos\n",
    "X = np.array(df_inteligibilidad_female.drop(columns=['Inteligibilidad'])) # df_objetivos es el DataFrame con los parámetros objetivos\n",
    "y = np.array(df_inteligibilidad_female.Inteligibilidad) # df_subjetivos es el DataFrame con los parámetros subjetivos\n",
    "\n",
    "# Creamos el modelo de regresión lineal con el envoltorio\n",
    "regr_multivar = SMWrapper(sm.OLS)\n",
    "\n",
    "# Creamos el selector de características hacia adelante\n",
    "forward_selector = SequentialFeatureSelector(regr_multivar, k_features='best', forward=True, scoring='neg_mean_squared_error')\n",
    "\n",
    "# Entrenamos el selector de características\n",
    "forward_selector.fit(X, y)\n",
    "\n",
    "# Obtenemos las características seleccionadas\n",
    "selected_features = forward_selector.k_feature_idx_\n",
    "\n",
    "# Lógica para rellenar las características no seleccionadas\n",
    "count_features = set(selected_features)\n",
    "total_features = set([0,1,2])\n",
    "missing_features = total_features - count_features\n",
    "\n",
    "for missing_feature in missing_features:\n",
    "    if missing_feature == 0:\n",
    "        dicc_p_value['ZCR'].append(np.nan)\n",
    "    elif missing_feature == 1:\n",
    "        dicc_p_value['RMS'].append(np.nan)\n",
    "    else:\n",
    "        dicc_p_value['f0'].append(np.nan)\n",
    "\n",
    "regr_multivar_fit = regr_multivar.fit(X[:, selected_features], y)\n",
    "\n",
    "# Obtenemos el R^2 del modelo\n",
    "r_squared_value = regr_multivar_fit.rsquared\n",
    "\n",
    "print(f'Coeficiente de determinación R^2: {r_squared_value:.4f}')\n",
    "\n",
    "# Obtenemos los residuos del modelo\n",
    "residuals = y - regr_multivar.predict(X[:, selected_features])\n",
    "\n",
    "# Realizamos la prueba de Shapiro-Wilk\n",
    "shapiro_test = stats.shapiro(residuals)\n",
    "\n",
    "# Imprimimos el resultado de la prueba\n",
    "print('Shapiro-Wilk p-valor:', shapiro_test.pvalue)\n",
    "\n",
    "# Realizamos el test de Durbin-Watson\n",
    "dw_test = durbin_watson(residuals)\n",
    "\n",
    "# Imprimimos el resultado del test\n",
    "print('Durbin-Watson:', dw_test)\n",
    "\n",
    "# Imprimimos las características seleccionadas\n",
    "print('Características seleccionadas:', selected_features)\n",
    "\n",
    "# Imprimimos los p-valores para cada característica seleccionada\n",
    "for feature, pvalue in zip(selected_features, regr_multivar_fit.pvalues[1:]):\n",
    "    \n",
    "    if feature == 0:\n",
    "        feature = 'ZCR'\n",
    "    elif feature == 1:\n",
    "        feature = 'RMS'\n",
    "    else:\n",
    "        feature = 'f0'\n",
    "        \n",
    "    p_values.append(pvalue)\n",
    "    dicc_p_value[feature].append(pvalue)\n",
    "    \n",
    "    print(f'Característica Seleccionada {feature}: p-valor = {pvalue:.4f}')\n",
    "\n",
    "print()\n",
    "\n",
    "# Imprimimos el p-valor global\n",
    "print('p-valor global:', regr_multivar_fit.f_pvalue)\n",
    "\n",
    "features = {\n",
    "    1: 'ZCR',\n",
    "    2: 'RMS',\n",
    "    3: 'f0'\n",
    "}\n",
    "\n",
    "# Imprimimos la ecuación resultante\n",
    "equation = \"Ecuación: \"\n",
    "for i, coef in enumerate(regr_multivar_fit.params):\n",
    "    if i == 0:\n",
    "        equation += f\"{coef:.2f}\"\n",
    "    else:\n",
    "        if coef < 0:\n",
    "            equation += f\" - {-coef:.2f}*{features[i]}\"\n",
    "        else:\n",
    "            equation += f\" + {coef:.2f}*{features[i]}\"\n",
    "print(equation)\n",
    "\n",
    "print()\n",
    "# Creamos el modelo OLS (mínimos cuadrados ordinarios) y lo ajustamos a los datos\n",
    "results = regr_multivar.fit(X, y)\n",
    "\n",
    "# Imprimimos los p-valores para cada característica seleccionada\n",
    "for feature, pvalue in zip(list(range(X.shape[1])), results.pvalues[1:]):\n",
    "\n",
    "    if feature == 0:\n",
    "        feature = 'ZCR'\n",
    "    elif feature == 1:\n",
    "        feature = 'RMS'\n",
    "    else:\n",
    "        feature = 'f0'\n",
    "    \n",
    "    print(f'Característica {feature}: p-valor = {pvalue:.4f}')\n",
    "\n",
    "dicc_p_value['subjetive_parameter'].append('Inteligibilidad')\n",
    "dicc_p_value['genero'].append('femenino')\n",
    "dicc_p_value['selected_features'].append(list(selected_features))\n",
    "dicc_p_value['shapiro_wilk_test'].append(shapiro_test.pvalue)\n",
    "\n",
    "# Almacenamos los resultados en el diccionario\n",
    "dicc_dw[\"Dublin-Watson Test\"].append(dw_test)\n",
    "dicc_dw[\"Parametro subjetivo\"].append('Inteligibilidad')\n",
    "dicc_dw[\"Genero\"].append('femenino')\n"
   ]
  },
  {
   "cell_type": "code",
   "execution_count": 1036,
   "id": "e26e8b03",
   "metadata": {
    "execution": {
     "iopub.execute_input": "2023-06-11T01:38:13.867044Z",
     "iopub.status.busy": "2023-06-11T01:38:13.865044Z",
     "iopub.status.idle": "2023-06-11T01:38:13.881054Z",
     "shell.execute_reply": "2023-06-11T01:38:13.880047Z"
    },
    "papermill": {
     "duration": 0.056998,
     "end_time": "2023-06-11T01:38:13.884045",
     "exception": false,
     "start_time": "2023-06-11T01:38:13.827047",
     "status": "completed"
    },
    "tags": []
   },
   "outputs": [],
   "source": [
    "# Dicc auxiliar con los nombres asociadas a las variables\n",
    "dicc_names_features = {\n",
    "    'zcr_model': 0,\n",
    "    'rms_model': 1,\n",
    "    'f0_model': 2\n",
    "}\n",
    "\n",
    "# Dicc de los modelos\n",
    "dicc_model = {}\n",
    "\n",
    "# Dicc de las predicciones\n",
    "dicc_pred = {}\n",
    "\n",
    "for selected_feature in selected_features:\n",
    "    # Entrenamos el modelo de regresión con las características seleccionadas\n",
    "    regr_multivar = SMWrapper(sm.OLS)\n",
    "    regr_multivar_fit = regr_multivar.fit(X[:, selected_feature].reshape(-1, 1), y.ravel())\n",
    "\n",
    "    # Almacenamos en dicc_model la clave asociada al modelo que se entrenó y el objeto modelo\n",
    "    for key, value in dicc_names_features.items():\n",
    "        if value == selected_feature:\n",
    "            dicc_model[key] = regr_multivar_fit\n",
    "\n",
    "    # Obtenemos las predicciones del modelo para las características seleccionadas\n",
    "    y_pred = regr_multivar.predict(X[:, selected_feature].reshape(-1, 1))\n",
    "\n",
    "    # Almacenamos en dicc_pred la clave asociada al modelo que se entrenó y la predicción\n",
    "    for key, value in dicc_names_features.items():\n",
    "        if value == selected_feature:\n",
    "            dicc_pred[key] = y_pred\n"
   ]
  },
  {
   "cell_type": "code",
   "execution_count": 1037,
   "id": "8ecfd613",
   "metadata": {
    "execution": {
     "iopub.execute_input": "2023-06-11T01:38:13.951043Z",
     "iopub.status.busy": "2023-06-11T01:38:13.950046Z",
     "iopub.status.idle": "2023-06-11T01:38:13.978045Z",
     "shell.execute_reply": "2023-06-11T01:38:13.976052Z"
    },
    "papermill": {
     "duration": 0.064001,
     "end_time": "2023-06-11T01:38:13.981045",
     "exception": false,
     "start_time": "2023-06-11T01:38:13.917044",
     "status": "completed"
    },
    "tags": []
   },
   "outputs": [
    {
     "name": "stdout",
     "output_type": "stream",
     "text": [
      "y = -2,26 * ZCR$^{**}$ + 5,09\n",
      "y = -0,01 * $f_{0}$$^{*}$ + 5,29\n"
     ]
    }
   ],
   "source": [
    "list_equ = []\n",
    "\n",
    "for idx, (key, model) in enumerate(dicc_model.items()):\n",
    "    # Obtenemos los valores de w y b\n",
    "    w = model.params[1:][0]\n",
    "    b = model.params[0]\n",
    "    r_squared = model.rsquared\n",
    "    \n",
    "    label = key.replace(\"_model\", \"\")\n",
    "    if label == 'f0':\n",
    "        label = r'$f_{0}$'\n",
    "    else:\n",
    "        label = label.upper()\n",
    "\n",
    "    # Verificamos el valor de p y agregamos el superíndice correspondiente\n",
    "    if p_values[idx] < 0.01:\n",
    "        label += '$^{**}$'\n",
    "    elif p_values[idx] < 0.05:\n",
    "        label += '$^{*}$'\n",
    "\n",
    "    if len(dicc_model) == 1:\n",
    "        # Construimos la cadena de texto para la ecuación del hiperplano y su p-valor\n",
    "        equation = f'y = {w.round(2)} * {label} + {b.round(2)} - R$^2$ = {r_squared:.3f}'\n",
    "    else:\n",
    "        equation = f'y = {w.round(2)} * {label} + {b.round(2)}'\n",
    "\n",
    "    equation = equation.replace('.', ',')\n",
    "    # Agregamos la cadena a la lista\n",
    "    list_equ.append(equation)\n",
    "\n",
    "# Mostramos el resultado\n",
    "for equ in list_equ:\n",
    "    print(equ)"
   ]
  },
  {
   "cell_type": "code",
   "execution_count": 1038,
   "id": "7a54f90b",
   "metadata": {
    "execution": {
     "iopub.execute_input": "2023-06-11T01:38:14.083046Z",
     "iopub.status.busy": "2023-06-11T01:38:14.082046Z",
     "iopub.status.idle": "2023-06-11T01:38:15.061795Z",
     "shell.execute_reply": "2023-06-11T01:38:15.060884Z"
    },
    "papermill": {
     "duration": 1.036753,
     "end_time": "2023-06-11T01:38:15.064799",
     "exception": false,
     "start_time": "2023-06-11T01:38:14.028046",
     "status": "completed"
    },
    "tags": []
   },
   "outputs": [
    {
     "data": {
      "image/png": "[encoded data removed]",
      "text/plain": [
       "<Figure size 1200x400 with 2 Axes>"
      ]
     },
     "metadata": {},
     "output_type": "display_data"
    }
   ],
   "source": [
    "dims = (6 * len(dicc_model), 4)\n",
    "fig, ax = plt.subplots(figsize=dims, ncols=len(dicc_model))\n",
    "\n",
    "with sns.axes_style('darkgrid'):\n",
    "    for i, (key, model) in enumerate(dicc_model.items()):\n",
    "        if isinstance(ax, np.ndarray):\n",
    "            ax_i = ax[i]\n",
    "        else:\n",
    "            ax_i = ax\n",
    "        label = key.replace(\"_model\", \"\")\n",
    "        if label == 'f0':\n",
    "            label = r'$f_{0}$'\n",
    "        else:\n",
    "            label = label.upper()\n",
    "        g = sns.scatterplot(x=X[:, dicc_names_features[key]], y=y, ax=ax_i, color='blue')\n",
    "        g = sns.lineplot(x=X[:, dicc_names_features[key]], y=dicc_pred[key], ax=ax_i, color='red')\n",
    "        g.text(0.5, -0.1, label, weight='bold', size='large', family='Arial', stretch='extra-expanded', ha='center', va='top', transform=g.transAxes)\n",
    "        g.set_ylabel('Inteligibilidad', weight='bold', size='large', alpha=0.8, family='Arial', stretch='extra-expanded')\n",
    "        g.set_title(list_equ[i], weight='bold', size='x-large', alpha=0.8, family='Arial', stretch='extra-expanded')\n",
    "        g.grid(alpha=0.7)\n",
    "        ax_i.set_ylim(0, 6)\n",
    "        \n",
    "        # Verificar si los valores en el eje x son menores que 1\n",
    "        if np.any(np.abs(X[:, dicc_names_features[key]]) < 1):\n",
    "            # Crear el formateador\n",
    "            formatter = ticker.FuncFormatter(format_decimal)\n",
    "\n",
    "            # Usar el formateador en el eje x de tus gráficos\n",
    "            ax_i.xaxis.set_major_formatter(formatter)\n",
    "\n",
    "    plt.tight_layout()\n",
    "    plt.figtext(0.02, 0.01, '*: p-valor < 0,05    **: p-valor < 0,01', fontsize=9)\n",
    "    plt.savefig(\n",
    "        os.path.join(PATH, TEST_FOLDER, REGGRESSION_FOLDER, PARAMETRIC_FOLDER, INTELIGIBILIDAD_FOLDER, FEMALE_FOLDER, 'regresiones_inteligibilidad_female.png')\n",
    "    )\n",
    "    plt.show()\n"
   ]
  },
  {
   "cell_type": "code",
   "execution_count": 1039,
   "id": "f75d0821",
   "metadata": {
    "execution": {
     "iopub.execute_input": "2023-06-11T01:38:15.120916Z",
     "iopub.status.busy": "2023-06-11T01:38:15.105269Z",
     "iopub.status.idle": "2023-06-11T01:38:17.115299Z",
     "shell.execute_reply": "2023-06-11T01:38:17.115299Z"
    },
    "papermill": {
     "duration": 2.085004,
     "end_time": "2023-06-11T01:38:17.177800",
     "exception": false,
     "start_time": "2023-06-11T01:38:15.092796",
     "status": "completed"
    },
    "tags": []
   },
   "outputs": [
    {
     "data": {
      "application/vnd.plotly.v1+json": {
       "config": {
        "plotlyServerURL": "https://plot.ly"
       },
       "data": [
        {
         "hovertemplate": "x=%{x}<br>y=%{y}<br>z=%{z}<extra></extra>",
         "legendgroup": "",
         "marker": {
          "color": "#636efa",
          "symbol": "circle"
         },
         "mode": "markers",
         "name": "",
         "scene": "scene",
         "showlegend": false,
         "type": "scatter3d",
         "x": [
          0.0759442551691729,
          0.137821937674907,
          0.0930354148829909,
          0.235632177146084,
          0.204357250316723,
          0.181163131359012,
          0.147759976291133,
          0.116977757195017,
          0.232525432279325,
          0.173409231085526
         ],
         "y": [
          111.111716480441,
          116.353345265724,
          101.312090449968,
          101.534873965827,
          117.741416962869,
          119.577565453938,
          100.992252773665,
          117.898565521619,
          102.269338478718,
          94.7081174667994
         ],
         "z": [
          4.970588235294118,
          4.746268656716418,
          4.852941176470588,
          4.477611940298507,
          4.5,
          4.626865671641791,
          4.852941176470588,
          4.735294117647059,
          4.705882352941177,
          4.838235294117647
         ]
        },
        {
         "opacity": 0.5,
         "type": "surface",
         "x": [
          [
           0.0759442551691729,
           0.137821937674907,
           0.0930354148829909,
           0.235632177146084,
           0.204357250316723,
           0.181163131359012,
           0.147759976291133,
           0.116977757195017,
           0.232525432279325,
           0.173409231085526
          ],
          [
           0.0759442551691729,
           0.137821937674907,
           0.0930354148829909,
           0.235632177146084,
           0.204357250316723,
           0.181163131359012,
           0.147759976291133,
           0.116977757195017,
           0.232525432279325,
           0.173409231085526
          ],
          [
           0.0759442551691729,
           0.137821937674907,
           0.0930354148829909,
           0.235632177146084,
           0.204357250316723,
           0.181163131359012,
           0.147759976291133,
           0.116977757195017,
           0.232525432279325,
           0.173409231085526
          ],
          [
           0.0759442551691729,
           0.137821937674907,
           0.0930354148829909,
           0.235632177146084,
           0.204357250316723,
           0.181163131359012,
           0.147759976291133,
           0.116977757195017,
           0.232525432279325,
           0.173409231085526
          ],
          [
           0.0759442551691729,
           0.137821937674907,
           0.0930354148829909,
           0.235632177146084,
           0.204357250316723,
           0.181163131359012,
           0.147759976291133,
           0.116977757195017,
           0.232525432279325,
           0.173409231085526
          ],
          [
           0.0759442551691729,
           0.137821937674907,
           0.0930354148829909,
           0.235632177146084,
           0.204357250316723,
           0.181163131359012,
           0.147759976291133,
           0.116977757195017,
           0.232525432279325,
           0.173409231085526
          ],
          [
           0.0759442551691729,
           0.137821937674907,
           0.0930354148829909,
           0.235632177146084,
           0.204357250316723,
           0.181163131359012,
           0.147759976291133,
           0.116977757195017,
           0.232525432279325,
           0.173409231085526
          ],
          [
           0.0759442551691729,
           0.137821937674907,
           0.0930354148829909,
           0.235632177146084,
           0.204357250316723,
           0.181163131359012,
           0.147759976291133,
           0.116977757195017,
           0.232525432279325,
           0.173409231085526
          ],
          [
           0.0759442551691729,
           0.137821937674907,
           0.0930354148829909,
           0.235632177146084,
           0.204357250316723,
           0.181163131359012,
           0.147759976291133,
           0.116977757195017,
           0.232525432279325,
           0.173409231085526
          ],
          [
           0.0759442551691729,
           0.137821937674907,
           0.0930354148829909,
           0.235632177146084,
           0.204357250316723,
           0.181163131359012,
           0.147759976291133,
           0.116977757195017,
           0.232525432279325,
           0.173409231085526
          ]
         ],
         "y": [
          [
           111.111716480441,
           111.111716480441,
           111.111716480441,
           111.111716480441,
           111.111716480441,
           111.111716480441,
           111.111716480441,
           111.111716480441,
           111.111716480441,
           111.111716480441
          ],
          [
           116.353345265724,
           116.353345265724,
           116.353345265724,
           116.353345265724,
           116.353345265724,
           116.353345265724,
           116.353345265724,
           116.353345265724,
           116.353345265724,
           116.353345265724
          ],
          [
           101.312090449968,
           101.312090449968,
           101.312090449968,
           101.312090449968,
           101.312090449968,
           101.312090449968,
           101.312090449968,
           101.312090449968,
           101.312090449968,
           101.312090449968
          ],
          [
           101.534873965827,
           101.534873965827,
           101.534873965827,
           101.534873965827,
           101.534873965827,
           101.534873965827,
           101.534873965827,
           101.534873965827,
           101.534873965827,
           101.534873965827
          ],
          [
           117.741416962869,
           117.741416962869,
           117.741416962869,
           117.741416962869,
           117.741416962869,
           117.741416962869,
           117.741416962869,
           117.741416962869,
           117.741416962869,
           117.741416962869
          ],
          [
           119.577565453938,
           119.577565453938,
           119.577565453938,
           119.577565453938,
           119.577565453938,
           119.577565453938,
           119.577565453938,
           119.577565453938,
           119.577565453938,
           119.577565453938
          ],
          [
           100.992252773665,
           100.992252773665,
           100.992252773665,
           100.992252773665,
           100.992252773665,
           100.992252773665,
           100.992252773665,
           100.992252773665,
           100.992252773665,
           100.992252773665
          ],
          [
           117.898565521619,
           117.898565521619,
           117.898565521619,
           117.898565521619,
           117.898565521619,
           117.898565521619,
           117.898565521619,
           117.898565521619,
           117.898565521619,
           117.898565521619
          ],
          [
           102.269338478718,
           102.269338478718,
           102.269338478718,
           102.269338478718,
           102.269338478718,
           102.269338478718,
           102.269338478718,
           102.269338478718,
           102.269338478718,
           102.269338478718
          ],
          [
           94.7081174667994,
           94.7081174667994,
           94.7081174667994,
           94.7081174667994,
           94.7081174667994,
           94.7081174667994,
           94.7081174667994,
           94.7081174667994,
           94.7081174667994,
           94.7081174667994
          ]
         ],
         "z": [
          [
           4.916236676920654,
           4.763976160723963,
           4.87418098422103,
           4.523297503280331,
           4.600254756852504,
           4.657327814249269,
           4.739521933797332,
           4.815266796556533,
           4.530942175122401,
           4.676407598920734
          ],
          [
           4.876529295786259,
           4.724268779589568,
           4.834473603086636,
           4.4835901221459356,
           4.5605473757181105,
           4.617620433114874,
           4.699814552662938,
           4.775559415422139,
           4.491234793988006,
           4.6367002177863395
          ],
          [
           4.990472663806839,
           4.8382121476101485,
           4.948416971107216,
           4.597533490166517,
           4.674490743738691,
           4.731563801135455,
           4.813757920683518,
           4.889502783442719,
           4.6051781620085865,
           4.75064358580692
          ],
          [
           4.988784991837488,
           4.836524475640796,
           4.946729299137863,
           4.595845818197164,
           4.672803071769338,
           4.729876129166103,
           4.812070248714165,
           4.887815111473367,
           4.603490490039234,
           4.748955913837567
          ],
          [
           4.866014111636792,
           4.7137535954401,
           4.823958418937168,
           4.4730749379964685,
           4.550032191568642,
           4.607105248965407,
           4.68929936851347,
           4.765044231272671,
           4.4807196098385385,
           4.6261850336368715
          ],
          [
           4.852104571121651,
           4.699844054924959,
           4.810048878422028,
           4.4591653974813275,
           4.5361226510535015,
           4.593195708450266,
           4.6753898279983295,
           4.751134690757531,
           4.466810069323397,
           4.6122754931217305
          ],
          [
           4.992895558871397,
           4.840635042674705,
           4.950839866171774,
           4.599956385231073,
           4.6769136388032475,
           4.733986696200012,
           4.8161808157480746,
           4.891925678507276,
           4.607601057073143,
           4.753066480871476
          ],
          [
           4.864823650050781,
           4.71256313385409,
           4.822767957351157,
           4.471884476410457,
           4.548841729982632,
           4.605914787379396,
           4.688108906927459,
           4.76385376968666,
           4.479529148252528,
           4.624994572050861
          ],
          [
           4.983221136872227,
           4.830960620675535,
           4.9411654441726025,
           4.590281963231903,
           4.667239216804077,
           4.724312274200842,
           4.806506393748904,
           4.8822512565081055,
           4.597926635073973,
           4.743392058872306
          ],
          [
           5.0405003332557285,
           4.888239817059038,
           4.998444640556105,
           4.647561159615405,
           4.72451841318758,
           4.781591470584344,
           4.863785590132407,
           4.939530452891608,
           4.655205831457476,
           4.800671255255809
          ]
         ]
        }
       ],
       "layout": {
        "annotations": [
         {
          "font": {
           "size": 13
          },
          "showarrow": false,
          "text": "*: p-valor < 0,05    **: p-valor < 0,01",
          "x": 0.07,
          "xref": "paper",
          "y": -0.15,
          "yref": "paper"
         }
        ],
        "legend": {
         "tracegroupgap": 0
        },
        "margin": {
         "t": 60
        },
        "scene": {
         "domain": {
          "x": [
           0,
           1
          ],
          "y": [
           0,
           1
          ]
         },
         "xaxis": {
          "ticktext": [
           "0,11",
           "0,14",
           "0,17",
           "0,20"
          ],
          "tickvals": [
           0.10788183956455513,
           0.13981942395993735,
           0.1717570083553196,
           0.2036945927507018
          ],
          "title": {
           "text": "ZCR"
          }
         },
         "yaxis": {
          "tickvals": [
           100,
           105,
           110,
           115
          ],
          "title": {
           "text": "f₀"
          }
         },
         "zaxis": {
          "range": [
           0,
           6
          ],
          "title": {
           "text": "Inteligibilidad"
          }
         }
        },
        "template": {
         "data": {
          "bar": [
           {
            "error_x": {
             "color": "#2a3f5f"
            },
            "error_y": {
             "color": "#2a3f5f"
            },
            "marker": {
             "line": {
              "color": "#E5ECF6",
              "width": 0.5
             },
             "pattern": {
              "fillmode": "overlay",
              "size": 10,
              "solidity": 0.2
             }
            },
            "type": "bar"
           }
          ],
          "barpolar": [
           {
            "marker": {
             "line": {
              "color": "#E5ECF6",
              "width": 0.5
             },
             "pattern": {
              "fillmode": "overlay",
              "size": 10,
              "solidity": 0.2
             }
            },
            "type": "barpolar"
           }
          ],
          "carpet": [
           {
            "aaxis": {
             "endlinecolor": "#2a3f5f",
             "gridcolor": "white",
             "linecolor": "white",
             "minorgridcolor": "white",
             "startlinecolor": "#2a3f5f"
            },
            "baxis": {
             "endlinecolor": "#2a3f5f",
             "gridcolor": "white",
             "linecolor": "white",
             "minorgridcolor": "white",
             "startlinecolor": "#2a3f5f"
            },
            "type": "carpet"
           }
          ],
          "choropleth": [
           {
            "colorbar": {
             "outlinewidth": 0,
             "ticks": ""
            },
            "type": "choropleth"
           }
          ],
          "contour": [
           {
            "colorbar": {
             "outlinewidth": 0,
             "ticks": ""
            },
            "colorscale": [
             [
              0,
              "#0d0887"
             ],
             [
              0.1111111111111111,
              "#46039f"
             ],
             [
              0.2222222222222222,
              "#7201a8"
             ],
             [
              0.3333333333333333,
              "#9c179e"
             ],
             [
              0.4444444444444444,
              "#bd3786"
             ],
             [
              0.5555555555555556,
              "#d8576b"
             ],
             [
              0.6666666666666666,
              "#ed7953"
             ],
             [
              0.7777777777777778,
              "#fb9f3a"
             ],
             [
              0.8888888888888888,
              "#fdca26"
             ],
             [
              1,
              "#f0f921"
             ]
            ],
            "type": "contour"
           }
          ],
          "contourcarpet": [
           {
            "colorbar": {
             "outlinewidth": 0,
             "ticks": ""
            },
            "type": "contourcarpet"
           }
          ],
          "heatmap": [
           {
            "colorbar": {
             "outlinewidth": 0,
             "ticks": ""
            },
            "colorscale": [
             [
              0,
              "#0d0887"
             ],
             [
              0.1111111111111111,
              "#46039f"
             ],
             [
              0.2222222222222222,
              "#7201a8"
             ],
             [
              0.3333333333333333,
              "#9c179e"
             ],
             [
              0.4444444444444444,
              "#bd3786"
             ],
             [
              0.5555555555555556,
              "#d8576b"
             ],
             [
              0.6666666666666666,
              "#ed7953"
             ],
             [
              0.7777777777777778,
              "#fb9f3a"
             ],
             [
              0.8888888888888888,
              "#fdca26"
             ],
             [
              1,
              "#f0f921"
             ]
            ],
            "type": "heatmap"
           }
          ],
          "heatmapgl": [
           {
            "colorbar": {
             "outlinewidth": 0,
             "ticks": ""
            },
            "colorscale": [
             [
              0,
              "#0d0887"
             ],
             [
              0.1111111111111111,
              "#46039f"
             ],
             [
              0.2222222222222222,
              "#7201a8"
             ],
             [
              0.3333333333333333,
              "#9c179e"
             ],
             [
              0.4444444444444444,
              "#bd3786"
             ],
             [
              0.5555555555555556,
              "#d8576b"
             ],
             [
              0.6666666666666666,
              "#ed7953"
             ],
             [
              0.7777777777777778,
              "#fb9f3a"
             ],
             [
              0.8888888888888888,
              "#fdca26"
             ],
             [
              1,
              "#f0f921"
             ]
            ],
            "type": "heatmapgl"
           }
          ],
          "histogram": [
           {
            "marker": {
             "pattern": {
              "fillmode": "overlay",
              "size": 10,
              "solidity": 0.2
             }
            },
            "type": "histogram"
           }
          ],
          "histogram2d": [
           {
            "colorbar": {
             "outlinewidth": 0,
             "ticks": ""
            },
            "colorscale": [
             [
              0,
              "#0d0887"
             ],
             [
              0.1111111111111111,
              "#46039f"
             ],
             [
              0.2222222222222222,
              "#7201a8"
             ],
             [
              0.3333333333333333,
              "#9c179e"
             ],
             [
              0.4444444444444444,
              "#bd3786"
             ],
             [
              0.5555555555555556,
              "#d8576b"
             ],
             [
              0.6666666666666666,
              "#ed7953"
             ],
             [
              0.7777777777777778,
              "#fb9f3a"
             ],
             [
              0.8888888888888888,
              "#fdca26"
             ],
             [
              1,
              "#f0f921"
             ]
            ],
            "type": "histogram2d"
           }
          ],
          "histogram2dcontour": [
           {
            "colorbar": {
             "outlinewidth": 0,
             "ticks": ""
            },
            "colorscale": [
             [
              0,
              "#0d0887"
             ],
             [
              0.1111111111111111,
              "#46039f"
             ],
             [
              0.2222222222222222,
              "#7201a8"
             ],
             [
              0.3333333333333333,
              "#9c179e"
             ],
             [
              0.4444444444444444,
              "#bd3786"
             ],
             [
              0.5555555555555556,
              "#d8576b"
             ],
             [
              0.6666666666666666,
              "#ed7953"
             ],
             [
              0.7777777777777778,
              "#fb9f3a"
             ],
             [
              0.8888888888888888,
              "#fdca26"
             ],
             [
              1,
              "#f0f921"
             ]
            ],
            "type": "histogram2dcontour"
           }
          ],
          "mesh3d": [
           {
            "colorbar": {
             "outlinewidth": 0,
             "ticks": ""
            },
            "type": "mesh3d"
           }
          ],
          "parcoords": [
           {
            "line": {
             "colorbar": {
              "outlinewidth": 0,
              "ticks": ""
             }
            },
            "type": "parcoords"
           }
          ],
          "pie": [
           {
            "automargin": true,
            "type": "pie"
           }
          ],
          "scatter": [
           {
            "fillpattern": {
             "fillmode": "overlay",
             "size": 10,
             "solidity": 0.2
            },
            "type": "scatter"
           }
          ],
          "scatter3d": [
           {
            "line": {
             "colorbar": {
              "outlinewidth": 0,
              "ticks": ""
             }
            },
            "marker": {
             "colorbar": {
              "outlinewidth": 0,
              "ticks": ""
             }
            },
            "type": "scatter3d"
           }
          ],
          "scattercarpet": [
           {
            "marker": {
             "colorbar": {
              "outlinewidth": 0,
              "ticks": ""
             }
            },
            "type": "scattercarpet"
           }
          ],
          "scattergeo": [
           {
            "marker": {
             "colorbar": {
              "outlinewidth": 0,
              "ticks": ""
             }
            },
            "type": "scattergeo"
           }
          ],
          "scattergl": [
           {
            "marker": {
             "colorbar": {
              "outlinewidth": 0,
              "ticks": ""
             }
            },
            "type": "scattergl"
           }
          ],
          "scattermapbox": [
           {
            "marker": {
             "colorbar": {
              "outlinewidth": 0,
              "ticks": ""
             }
            },
            "type": "scattermapbox"
           }
          ],
          "scatterpolar": [
           {
            "marker": {
             "colorbar": {
              "outlinewidth": 0,
              "ticks": ""
             }
            },
            "type": "scatterpolar"
           }
          ],
          "scatterpolargl": [
           {
            "marker": {
             "colorbar": {
              "outlinewidth": 0,
              "ticks": ""
             }
            },
            "type": "scatterpolargl"
           }
          ],
          "scatterternary": [
           {
            "marker": {
             "colorbar": {
              "outlinewidth": 0,
              "ticks": ""
             }
            },
            "type": "scatterternary"
           }
          ],
          "surface": [
           {
            "colorbar": {
             "outlinewidth": 0,
             "ticks": ""
            },
            "colorscale": [
             [
              0,
              "#0d0887"
             ],
             [
              0.1111111111111111,
              "#46039f"
             ],
             [
              0.2222222222222222,
              "#7201a8"
             ],
             [
              0.3333333333333333,
              "#9c179e"
             ],
             [
              0.4444444444444444,
              "#bd3786"
             ],
             [
              0.5555555555555556,
              "#d8576b"
             ],
             [
              0.6666666666666666,
              "#ed7953"
             ],
             [
              0.7777777777777778,
              "#fb9f3a"
             ],
             [
              0.8888888888888888,
              "#fdca26"
             ],
             [
              1,
              "#f0f921"
             ]
            ],
            "type": "surface"
           }
          ],
          "table": [
           {
            "cells": {
             "fill": {
              "color": "#EBF0F8"
             },
             "line": {
              "color": "white"
             }
            },
            "header": {
             "fill": {
              "color": "#C8D4E3"
             },
             "line": {
              "color": "white"
             }
            },
            "type": "table"
           }
          ]
         },
         "layout": {
          "annotationdefaults": {
           "arrowcolor": "#2a3f5f",
           "arrowhead": 0,
           "arrowwidth": 1
          },
          "autotypenumbers": "strict",
          "coloraxis": {
           "colorbar": {
            "outlinewidth": 0,
            "ticks": ""
           }
          },
          "colorscale": {
           "diverging": [
            [
             0,
             "#8e0152"
            ],
            [
             0.1,
             "#c51b7d"
            ],
            [
             0.2,
             "#de77ae"
            ],
            [
             0.3,
             "#f1b6da"
            ],
            [
             0.4,
             "#fde0ef"
            ],
            [
             0.5,
             "#f7f7f7"
            ],
            [
             0.6,
             "#e6f5d0"
            ],
            [
             0.7,
             "#b8e186"
            ],
            [
             0.8,
             "#7fbc41"
            ],
            [
             0.9,
             "#4d9221"
            ],
            [
             1,
             "#276419"
            ]
           ],
           "sequential": [
            [
             0,
             "#0d0887"
            ],
            [
             0.1111111111111111,
             "#46039f"
            ],
            [
             0.2222222222222222,
             "#7201a8"
            ],
            [
             0.3333333333333333,
             "#9c179e"
            ],
            [
             0.4444444444444444,
             "#bd3786"
            ],
            [
             0.5555555555555556,
             "#d8576b"
            ],
            [
             0.6666666666666666,
             "#ed7953"
            ],
            [
             0.7777777777777778,
             "#fb9f3a"
            ],
            [
             0.8888888888888888,
             "#fdca26"
            ],
            [
             1,
             "#f0f921"
            ]
           ],
           "sequentialminus": [
            [
             0,
             "#0d0887"
            ],
            [
             0.1111111111111111,
             "#46039f"
            ],
            [
             0.2222222222222222,
             "#7201a8"
            ],
            [
             0.3333333333333333,
             "#9c179e"
            ],
            [
             0.4444444444444444,
             "#bd3786"
            ],
            [
             0.5555555555555556,
             "#d8576b"
            ],
            [
             0.6666666666666666,
             "#ed7953"
            ],
            [
             0.7777777777777778,
             "#fb9f3a"
            ],
            [
             0.8888888888888888,
             "#fdca26"
            ],
            [
             1,
             "#f0f921"
            ]
           ]
          },
          "colorway": [
           "#636efa",
           "#EF553B",
           "#00cc96",
           "#ab63fa",
           "#FFA15A",
           "#19d3f3",
           "#FF6692",
           "#B6E880",
           "#FF97FF",
           "#FECB52"
          ],
          "font": {
           "color": "#2a3f5f"
          },
          "geo": {
           "bgcolor": "white",
           "lakecolor": "white",
           "landcolor": "#E5ECF6",
           "showlakes": true,
           "showland": true,
           "subunitcolor": "white"
          },
          "hoverlabel": {
           "align": "left"
          },
          "hovermode": "closest",
          "mapbox": {
           "style": "light"
          },
          "paper_bgcolor": "white",
          "plot_bgcolor": "#E5ECF6",
          "polar": {
           "angularaxis": {
            "gridcolor": "white",
            "linecolor": "white",
            "ticks": ""
           },
           "bgcolor": "#E5ECF6",
           "radialaxis": {
            "gridcolor": "white",
            "linecolor": "white",
            "ticks": ""
           }
          },
          "scene": {
           "xaxis": {
            "backgroundcolor": "#E5ECF6",
            "gridcolor": "white",
            "gridwidth": 2,
            "linecolor": "white",
            "showbackground": true,
            "ticks": "",
            "zerolinecolor": "white"
           },
           "yaxis": {
            "backgroundcolor": "#E5ECF6",
            "gridcolor": "white",
            "gridwidth": 2,
            "linecolor": "white",
            "showbackground": true,
            "ticks": "",
            "zerolinecolor": "white"
           },
           "zaxis": {
            "backgroundcolor": "#E5ECF6",
            "gridcolor": "white",
            "gridwidth": 2,
            "linecolor": "white",
            "showbackground": true,
            "ticks": "",
            "zerolinecolor": "white"
           }
          },
          "shapedefaults": {
           "line": {
            "color": "#2a3f5f"
           }
          },
          "ternary": {
           "aaxis": {
            "gridcolor": "white",
            "linecolor": "white",
            "ticks": ""
           },
           "baxis": {
            "gridcolor": "white",
            "linecolor": "white",
            "ticks": ""
           },
           "bgcolor": "#E5ECF6",
           "caxis": {
            "gridcolor": "white",
            "linecolor": "white",
            "ticks": ""
           }
          },
          "title": {
           "x": 0.05
          },
          "xaxis": {
           "automargin": true,
           "gridcolor": "white",
           "linecolor": "white",
           "ticks": "",
           "title": {
            "standoff": 15
           },
           "zerolinecolor": "white",
           "zerolinewidth": 2
          },
          "yaxis": {
           "automargin": true,
           "gridcolor": "white",
           "linecolor": "white",
           "ticks": "",
           "title": {
            "standoff": 15
           },
           "zerolinecolor": "white",
           "zerolinewidth": 2
          }
         }
        },
        "title": {
         "text": "z = 5,94 + -2,46 * ZCR <sup>**</sup> + -0,01 * <i>f₀</i> <sup>*</sup> - R² = 0,801",
         "x": 0.5,
         "xanchor": "center"
        }
       }
      }
     },
     "metadata": {},
     "output_type": "display_data"
    }
   ],
   "source": [
    "if len(dicc_model) == 2:\n",
    "    import plotly.express as px\n",
    "    import plotly.graph_objects as go\n",
    "\n",
    "    # Seleccionamos solo las características seleccionadas en X\n",
    "    X_selected = X[:, selected_features]\n",
    "\n",
    "    # Entrenamos el modelo de regresión con las características seleccionadas\n",
    "    regr_multivar = SMWrapper(sm.OLS)\n",
    "    regr_multivar_fit = regr_multivar.fit(X_selected, y)\n",
    "\n",
    "    # Obtenemos las predicciones del modelo para las características seleccionadas\n",
    "    y_pred = regr_multivar.predict(X_selected)\n",
    "\n",
    "    # Crear la figura\n",
    "    fig = px.scatter_3d(x=X_selected[:, 0], y=X_selected[:, 1], z=y)\n",
    "\n",
    "    # Crear el plano de regresión\n",
    "    xx, yy = np.meshgrid(X_selected[:, 0], X_selected[:, 1])\n",
    "    zz = regr_multivar_fit.params[0] + np.dot(np.array([xx.ravel(), yy.ravel()]).T, regr_multivar_fit.params[1:].ravel()).reshape(xx.shape)\n",
    "    fig.add_trace(go.Surface(x=xx, y=yy, z=zz, opacity=0.5))\n",
    "\n",
    "\n",
    "    axis_name_list = []\n",
    "    # Construir la cadena de texto para la ecuación del plano\n",
    "    equation = f'z = {regr_multivar_fit.params[0].round(2)}'\n",
    "    for i, (key, model) in enumerate(dicc_model.items()):\n",
    "        feature_name = key.replace(\"_model\", \"\").upper()\n",
    "        feature_name_axis = feature_name\n",
    "        if feature_name == 'F0':\n",
    "            feature_name = '<i>f₀</i>'\n",
    "            feature_name_axis = 'f₀'\n",
    "        axis_name_list.append(feature_name_axis)\n",
    "        if regr_multivar_fit.pvalues[1:][i] < 0.01:\n",
    "            label = '<sup>**</sup>'\n",
    "        elif regr_multivar_fit.pvalues[1:][i] < 0.05:\n",
    "            label = '<sup>*</sup>'\n",
    "        else:\n",
    "            label = ''\n",
    "        equation += f' + {regr_multivar_fit.params[1:][i].round(2)} * {feature_name} {label}'\n",
    "        \n",
    "    equation += f' - R² = {r_squared_value:.3f}'\n",
    "    equation = equation.replace('.', ',')\n",
    "     \n",
    "    # Centrar el título\n",
    "    fig.update_layout(title=dict(text=equation, x=0.5, xanchor='center'))\n",
    "    \n",
    "    # Verificar si los valores en el eje x son menores que 1\n",
    "    if np.any(np.abs(X_selected[:, 0]) < 1):\n",
    "        # Calcular los valores de los ticks\n",
    "        xaxis_tickvals = np.linspace(np.min(X_selected[:, 0]), np.max(X_selected[:, 0]), 6)[1:5]\n",
    "\n",
    "        # Convertir los valores de los ticks a strings y reemplazar los puntos por comas\n",
    "        xaxis_ticktext = [f'{val:.2f}'.replace('.', ',') for val in xaxis_tickvals]\n",
    "    else:\n",
    "        # Si los valores en el eje x son mayores o iguales a 1, usar el formato por defecto\n",
    "        xaxis_tickvals = None\n",
    "        xaxis_ticktext = None\n",
    "\n",
    "    # Etiquetas de los ejes y rango del eje z\n",
    "    fig.update_layout(scene=dict(xaxis=dict(title=axis_name_list[0], tickvals=xaxis_tickvals, ticktext=xaxis_ticktext), yaxis_title=axis_name_list[1], zaxis_title='Inteligibilidad', zaxis=dict(range=[0, 6]), yaxis=dict(tickvals=[100, 105, 110, 115])))\n",
    "    \n",
    "    # Agrega la anotación al final\n",
    "    fig.add_annotation(\n",
    "        x=0.07,\n",
    "        y=-0.15,\n",
    "        xref=\"paper\",\n",
    "        yref=\"paper\",\n",
    "        text=\"*: p-valor < 0,05    **: p-valor < 0,01\",\n",
    "        showarrow=False,\n",
    "        font=dict(\n",
    "            size=13\n",
    "        )\n",
    "    )\n",
    "\n",
    "    fig.write_html(\n",
    "       os.path.join(PATH, TEST_FOLDER, REGGRESSION_FOLDER, PARAMETRIC_FOLDER, INTELIGIBILIDAD_FOLDER, FEMALE_FOLDER, 'regresion_inteligibilidad_multivariable_female.html')\n",
    "    )\n",
    "    \n",
    "    fig.write_image(\n",
    "       os.path.join(PATH, TEST_FOLDER, REGGRESSION_FOLDER, PARAMETRIC_FOLDER, INTELIGIBILIDAD_FOLDER, FEMALE_FOLDER, 'regresion_inteligibilidad_multivariable_female.png')\n",
    "    )\n",
    "\n",
    "\n",
    "    fig.show()\n"
   ]
  },
  {
   "attachments": {},
   "cell_type": "markdown",
   "id": "01a284f3",
   "metadata": {
    "papermill": {
     "duration": 0.115527,
     "end_time": "2023-06-11T01:38:17.368774",
     "exception": false,
     "start_time": "2023-06-11T01:38:17.253247",
     "status": "completed"
    },
    "tags": []
   },
   "source": [
    "### Pronunciacion"
   ]
  },
  {
   "cell_type": "code",
   "execution_count": 1040,
   "id": "c79bee73",
   "metadata": {
    "execution": {
     "iopub.execute_input": "2023-06-11T01:38:17.685210Z",
     "iopub.status.busy": "2023-06-11T01:38:17.685210Z",
     "iopub.status.idle": "2023-06-11T01:38:17.708210Z",
     "shell.execute_reply": "2023-06-11T01:38:17.705211Z"
    },
    "papermill": {
     "duration": 0.192,
     "end_time": "2023-06-11T01:38:17.711212",
     "exception": false,
     "start_time": "2023-06-11T01:38:17.519212",
     "status": "completed"
    },
    "tags": []
   },
   "outputs": [],
   "source": [
    "df_pronunciacion = df_union.loc[:, ['Pronunciacion', 'zcr', 'rms', 'f0', 'genero']]"
   ]
  },
  {
   "attachments": {},
   "cell_type": "markdown",
   "id": "d69a3e13",
   "metadata": {
    "papermill": {
     "duration": 0.147861,
     "end_time": "2023-06-11T01:38:18.082069",
     "exception": false,
     "start_time": "2023-06-11T01:38:17.934208",
     "status": "completed"
    },
    "tags": []
   },
   "source": [
    "#### Masculino"
   ]
  },
  {
   "cell_type": "code",
   "execution_count": 1041,
   "id": "d4b57b29",
   "metadata": {
    "execution": {
     "iopub.execute_input": "2023-06-11T01:38:18.361510Z",
     "iopub.status.busy": "2023-06-11T01:38:18.361510Z",
     "iopub.status.idle": "2023-06-11T01:38:18.380512Z",
     "shell.execute_reply": "2023-06-11T01:38:18.378516Z"
    },
    "papermill": {
     "duration": 0.148725,
     "end_time": "2023-06-11T01:38:18.384511",
     "exception": false,
     "start_time": "2023-06-11T01:38:18.235786",
     "status": "completed"
    },
    "tags": []
   },
   "outputs": [],
   "source": [
    "# Lista de p-values\n",
    "p_values = []\n",
    "\n",
    "mask_gender = df_pronunciacion.genero == 'masculino'\n",
    "\n",
    "df_pronunciacion_male = df_pronunciacion[mask_gender].drop(columns=['genero'])"
   ]
  },
  {
   "cell_type": "code",
   "execution_count": 1042,
   "id": "fd73c492",
   "metadata": {
    "execution": {
     "iopub.execute_input": "2023-06-11T01:38:18.587547Z",
     "iopub.status.busy": "2023-06-11T01:38:18.587547Z",
     "iopub.status.idle": "2023-06-11T01:38:18.653881Z",
     "shell.execute_reply": "2023-06-11T01:38:18.652270Z"
    },
    "papermill": {
     "duration": 0.171383,
     "end_time": "2023-06-11T01:38:18.656890",
     "exception": false,
     "start_time": "2023-06-11T01:38:18.485507",
     "status": "completed"
    },
    "tags": []
   },
   "outputs": [
    {
     "name": "stdout",
     "output_type": "stream",
     "text": [
      "Coeficiente de determinación R^2: 0.7798\n",
      "Shapiro-Wilk p-valor: 0.10431306064128876\n",
      "Durbin-Watson: 2.652854131410712\n",
      "Características seleccionadas: (0, 1)\n",
      "Característica Seleccionada ZCR: p-valor = 0.0028\n",
      "Característica Seleccionada RMS: p-valor = 0.0459\n",
      "\n",
      "p-valor global: 0.005011690778112325\n",
      "Ecuación: 2.51 - 5.47*ZCR - 0.12*RMS\n",
      "\n",
      "Característica ZCR: p-valor = 0.0077\n",
      "Característica RMS: p-valor = 0.0483\n",
      "Característica f0: p-valor = 0.3416\n"
     ]
    }
   ],
   "source": [
    "# Cargamos los datos\n",
    "X = np.array(df_pronunciacion_male.drop(columns=['Pronunciacion'])) # df_objetivos es el DataFrame con los parámetros objetivos\n",
    "y = np.array(df_pronunciacion_male.Pronunciacion) # df_subjetivos es el DataFrame con los parámetros subjetivos\n",
    "\n",
    "# Creamos el modelo de regresión lineal con el envoltorio\n",
    "regr_multivar = SMWrapper(sm.OLS)\n",
    "\n",
    "# Creamos el selector de características hacia adelante\n",
    "forward_selector = SequentialFeatureSelector(regr_multivar, k_features='best', forward=True, scoring='neg_mean_squared_error')\n",
    "\n",
    "# Entrenamos el selector de características\n",
    "forward_selector.fit(X, y)\n",
    "\n",
    "# Obtenemos las características seleccionadas\n",
    "selected_features = forward_selector.k_feature_idx_\n",
    "\n",
    "# Lógica para rellenar las características no seleccionadas\n",
    "count_features = set(selected_features)\n",
    "total_features = set([0,1,2])\n",
    "missing_features = total_features - count_features\n",
    "\n",
    "for missing_feature in missing_features:\n",
    "    if missing_feature == 0:\n",
    "        dicc_p_value['ZCR'].append(np.nan)\n",
    "    elif missing_feature == 1:\n",
    "        dicc_p_value['RMS'].append(np.nan)\n",
    "    else:\n",
    "        dicc_p_value['f0'].append(np.nan)\n",
    "\n",
    "regr_multivar_fit = regr_multivar.fit(X[:, selected_features], y)\n",
    "\n",
    "# Obtenemos el R^2 del modelo\n",
    "r_squared_value = regr_multivar_fit.rsquared\n",
    "\n",
    "print(f'Coeficiente de determinación R^2: {r_squared_value:.4f}')\n",
    "\n",
    "# Obtenemos los residuos del modelo\n",
    "residuals = y - regr_multivar.predict(X[:, selected_features])\n",
    "\n",
    "# Realizamos la prueba de Shapiro-Wilk\n",
    "shapiro_test = stats.shapiro(residuals)\n",
    "\n",
    "# Imprimimos el resultado de la prueba\n",
    "print('Shapiro-Wilk p-valor:', shapiro_test.pvalue)\n",
    "\n",
    "# Realizamos el test de Durbin-Watson\n",
    "dw_test = durbin_watson(residuals)\n",
    "\n",
    "# Imprimimos el resultado del test\n",
    "print('Durbin-Watson:', dw_test)\n",
    "\n",
    "# Imprimimos las características seleccionadas\n",
    "print('Características seleccionadas:', selected_features)\n",
    "\n",
    "# Imprimimos los p-valores para cada característica seleccionada\n",
    "for feature, pvalue in zip(selected_features, regr_multivar_fit.pvalues[1:]):\n",
    "    \n",
    "    if feature == 0:\n",
    "        feature = 'ZCR'\n",
    "    elif feature == 1:\n",
    "        feature = 'RMS'\n",
    "    else:\n",
    "        feature = 'f0'\n",
    "        \n",
    "    p_values.append(pvalue)\n",
    "    dicc_p_value[feature].append(pvalue)\n",
    "    \n",
    "    print(f'Característica Seleccionada {feature}: p-valor = {pvalue:.4f}')\n",
    "\n",
    "print()\n",
    "\n",
    "# Imprimimos el p-valor global\n",
    "print('p-valor global:', regr_multivar_fit.f_pvalue)\n",
    "\n",
    "features = {\n",
    "    1: 'ZCR',\n",
    "    2: 'RMS',\n",
    "    3: 'f0'\n",
    "}\n",
    "\n",
    "# Imprimimos la ecuación resultante\n",
    "equation = \"Ecuación: \"\n",
    "for i, coef in enumerate(regr_multivar_fit.params):\n",
    "    if i == 0:\n",
    "        equation += f\"{coef:.2f}\"\n",
    "    else:\n",
    "        if coef < 0:\n",
    "            equation += f\" - {-coef:.2f}*{features[i]}\"\n",
    "        else:\n",
    "            equation += f\" + {coef:.2f}*{features[i]}\"\n",
    "print(equation)\n",
    "\n",
    "print()\n",
    "# Creamos el modelo OLS (mínimos cuadrados ordinarios) y lo ajustamos a los datos\n",
    "results = regr_multivar.fit(X, y)\n",
    "\n",
    "# Imprimimos los p-valores para cada característica seleccionada\n",
    "for feature, pvalue in zip(list(range(X.shape[1])), results.pvalues[1:]):\n",
    "\n",
    "    if feature == 0:\n",
    "        feature = 'ZCR'\n",
    "    elif feature == 1:\n",
    "        feature = 'RMS'\n",
    "    else:\n",
    "        feature = 'f0'\n",
    "    \n",
    "    print(f'Característica {feature}: p-valor = {pvalue:.4f}')\n",
    "\n",
    "\n",
    "dicc_p_value['subjetive_parameter'].append('Pronunciación')\n",
    "dicc_p_value['genero'].append('masculino')\n",
    "dicc_p_value['selected_features'].append(list(selected_features))\n",
    "dicc_p_value['shapiro_wilk_test'].append(shapiro_test.pvalue)\n",
    "\n",
    "# Almacenamos los resultados en el diccionario\n",
    "dicc_dw[\"Dublin-Watson Test\"].append(dw_test)\n",
    "dicc_dw[\"Parametro subjetivo\"].append('Pronunciación')\n",
    "dicc_dw[\"Genero\"].append('masculino')\n"
   ]
  },
  {
   "cell_type": "code",
   "execution_count": 1043,
   "id": "b05df180",
   "metadata": {
    "execution": {
     "iopub.execute_input": "2023-06-11T01:38:45.821326Z",
     "iopub.status.busy": "2023-06-11T01:38:45.821326Z",
     "iopub.status.idle": "2023-06-11T01:38:45.837154Z",
     "shell.execute_reply": "2023-06-11T01:38:45.837154Z"
    },
    "papermill": {
     "duration": 0.119759,
     "end_time": "2023-06-11T01:38:45.837154",
     "exception": false,
     "start_time": "2023-06-11T01:38:45.717395",
     "status": "completed"
    },
    "tags": []
   },
   "outputs": [],
   "source": [
    "# Dicc auxiliar con los nombres asociadas a las variables\n",
    "dicc_names_features = {\n",
    "    'zcr_model': 0,\n",
    "    'rms_model': 1,\n",
    "    'f0_model': 2\n",
    "}\n",
    "\n",
    "# Dicc de los modelos\n",
    "dicc_model = {}\n",
    "\n",
    "# Dicc de las predicciones\n",
    "dicc_pred = {}\n",
    "\n",
    "for selected_feature in selected_features:\n",
    "    # Entrenamos el modelo de regresión con las características seleccionadas\n",
    "    regr_multivar = SMWrapper(sm.OLS)\n",
    "    regr_multivar_fit = regr_multivar.fit(X[:, selected_feature].reshape(-1, 1), y.ravel())\n",
    "\n",
    "    # Almacenamos en dicc_model la clave asociada al modelo que se entrenó y el objeto modelo\n",
    "    for key, value in dicc_names_features.items():\n",
    "        if value == selected_feature:\n",
    "            dicc_model[key] = regr_multivar_fit\n",
    "\n",
    "    # Obtenemos las predicciones del modelo para las características seleccionadas\n",
    "    y_pred = regr_multivar.predict(X[:, selected_feature].reshape(-1, 1))\n",
    "\n",
    "    # Almacenamos en dicc_pred la clave asociada al modelo que se entrenó y la predicción\n",
    "    for key, value in dicc_names_features.items():\n",
    "        if value == selected_feature:\n",
    "            dicc_pred[key] = y_pred\n"
   ]
  },
  {
   "cell_type": "code",
   "execution_count": 1044,
   "id": "23fa11c2",
   "metadata": {
    "execution": {
     "iopub.execute_input": "2023-06-11T01:38:46.006577Z",
     "iopub.status.busy": "2023-06-11T01:38:46.006577Z",
     "iopub.status.idle": "2023-06-11T01:38:46.055505Z",
     "shell.execute_reply": "2023-06-11T01:38:46.053473Z"
    },
    "papermill": {
     "duration": 0.144389,
     "end_time": "2023-06-11T01:38:46.059507",
     "exception": false,
     "start_time": "2023-06-11T01:38:45.915118",
     "status": "completed"
    },
    "tags": []
   },
   "outputs": [
    {
     "name": "stdout",
     "output_type": "stream",
     "text": [
      "y = -3,07 * ZCR$^{**}$ + 4,81\n",
      "y = 0,06 * RMS$^{*}$ + 5,69\n"
     ]
    }
   ],
   "source": [
    "list_equ = []\n",
    "\n",
    "for idx, (key, model) in enumerate(dicc_model.items()):\n",
    "    # Obtenemos los valores de w y b\n",
    "    w = model.params[1:][0]\n",
    "    b = model.params[0]\n",
    "    r_squared = model.rsquared\n",
    "    \n",
    "    label = key.replace(\"_model\", \"\")\n",
    "    if label == 'f0':\n",
    "        label = r'$f_{0}$'\n",
    "    else:\n",
    "        label = label.upper()\n",
    "\n",
    "    # Verificamos el valor de p y agregamos el superíndice correspondiente\n",
    "    if p_values[idx] < 0.01:\n",
    "        label += '$^{**}$'\n",
    "    elif p_values[idx] < 0.05:\n",
    "        label += '$^{*}$'\n",
    "\n",
    "    if len(dicc_model) == 1:\n",
    "        # Construimos la cadena de texto para la ecuación del hiperplano y su p-valor\n",
    "        equation = f'y = {w.round(2)} * {label} + {b.round(2)} - R$^2$ = {r_squared:.3f}'\n",
    "    else:\n",
    "        equation = f'y = {w.round(2)} * {label} + {b.round(2)}'\n",
    "\n",
    "    equation = equation.replace('.', ',')\n",
    "    # Agregamos la cadena a la lista\n",
    "    list_equ.append(equation)\n",
    "\n",
    "# Mostramos el resultado\n",
    "for equ in list_equ:\n",
    "    print(equ)"
   ]
  },
  {
   "cell_type": "code",
   "execution_count": 1045,
   "id": "3bc8172b",
   "metadata": {
    "execution": {
     "iopub.execute_input": "2023-06-11T01:38:46.281510Z",
     "iopub.status.busy": "2023-06-11T01:38:46.280509Z",
     "iopub.status.idle": "2023-06-11T01:38:46.826377Z",
     "shell.execute_reply": "2023-06-11T01:38:46.824452Z"
    },
    "papermill": {
     "duration": 0.658851,
     "end_time": "2023-06-11T01:38:46.828391",
     "exception": false,
     "start_time": "2023-06-11T01:38:46.169540",
     "status": "completed"
    },
    "tags": []
   },
   "outputs": [
    {
     "data": {
      "image/png": "[encoded data removed]",
      "text/plain": [
       "<Figure size 1200x400 with 2 Axes>"
      ]
     },
     "metadata": {},
     "output_type": "display_data"
    }
   ],
   "source": [
    "dims = (6 * len(dicc_model), 4)\n",
    "fig, ax = plt.subplots(figsize=dims, ncols=len(dicc_model))\n",
    "\n",
    "with sns.axes_style('darkgrid'):\n",
    "    for i, (key, model) in enumerate(dicc_model.items()):\n",
    "        if isinstance(ax, np.ndarray):\n",
    "            ax_i = ax[i]\n",
    "        else:\n",
    "            ax_i = ax\n",
    "        label = key.replace(\"_model\", \"\")\n",
    "        if label == 'f0':\n",
    "            label = r'$f_{0}$'\n",
    "        else:\n",
    "            label = label.upper()\n",
    "        g = sns.scatterplot(x=X[:, dicc_names_features[key]], y=y, ax=ax_i, color='blue')\n",
    "        g = sns.lineplot(x=X[:, dicc_names_features[key]], y=dicc_pred[key], ax=ax_i, color='red')\n",
    "        g.text(0.5, -0.1, label, weight='bold', size='large', family='Arial', stretch='extra-expanded', ha='center', va='top', transform=g.transAxes)\n",
    "        g.set_ylabel('Pronunciación', weight='bold', size='large', alpha=0.8, family='Arial', stretch='extra-expanded')\n",
    "        g.set_title(list_equ[i], weight='bold', size='x-large', alpha=0.8, family='Arial', stretch='extra-expanded')\n",
    "        g.grid(alpha=0.7)\n",
    "        ax_i.set_ylim(0, 6)\n",
    "    \n",
    "        # Verificar si los valores en el eje x son menores que 1\n",
    "        if np.any(np.abs(X[:, dicc_names_features[key]]) < 1):\n",
    "            # Crear el formateador\n",
    "            formatter = ticker.FuncFormatter(format_decimal)\n",
    "\n",
    "            # Usar el formateador en el eje x de tus gráficos\n",
    "            ax_i.xaxis.set_major_formatter(formatter)\n",
    "\n",
    "    plt.tight_layout()\n",
    "    plt.figtext(0.02, 0.01, '*: p-valor < 0,05    **: p-valor < 0,01', fontsize=9)\n",
    "    plt.savefig(os.path.join(PATH, TEST_FOLDER, REGGRESSION_FOLDER, PARAMETRIC_FOLDER, PRONUNCIACION_FOLDER, MALE_FOLDER, 'regresiones_pronunciacion_male.png'))\n",
    "    plt.show()\n"
   ]
  },
  {
   "cell_type": "code",
   "execution_count": 1046,
   "id": "f8c0179b",
   "metadata": {
    "execution": {
     "iopub.execute_input": "2023-06-11T01:38:47.024353Z",
     "iopub.status.busy": "2023-06-11T01:38:47.022358Z",
     "iopub.status.idle": "2023-06-11T01:38:47.055399Z",
     "shell.execute_reply": "2023-06-11T01:38:47.055399Z"
    },
    "papermill": {
     "duration": 0.132041,
     "end_time": "2023-06-11T01:38:47.055399",
     "exception": false,
     "start_time": "2023-06-11T01:38:46.923358",
     "status": "completed"
    },
    "tags": []
   },
   "outputs": [
    {
     "data": {
      "application/vnd.plotly.v1+json": {
       "config": {
        "plotlyServerURL": "https://plot.ly"
       },
       "data": [
        {
         "hovertemplate": "x=%{x}<br>y=%{y}<br>z=%{z}<extra></extra>",
         "legendgroup": "",
         "marker": {
          "color": "#636efa",
          "symbol": "circle"
         },
         "mode": "markers",
         "name": "",
         "scene": "scene",
         "showlegend": false,
         "type": "scatter3d",
         "x": [
          0.0980514874287459,
          0.25162586573765,
          0.239188283778317,
          0.105458211555755,
          0.185066881409123,
          0.137448537263939,
          0.239843081121575,
          0.142275783668731,
          0.172730672751451,
          0.0930430482665395
         ],
         "y": [
          -22,
          -25,
          -24,
          -21.5,
          -23.5,
          -21,
          -24.5,
          -20.5,
          -23,
          -22.5
         ],
         "z": [
          4.621212121212121,
          3.962962962962963,
          4.064516129032258,
          4.447761194029851,
          4.5625,
          4.166666666666667,
          4.071428571428571,
          4.188679245283019,
          4.3538461538461535,
          4.588235294117647
         ]
        },
        {
         "opacity": 0.5,
         "type": "surface",
         "x": [
          [
           0.0980514874287459,
           0.25162586573765,
           0.239188283778317,
           0.105458211555755,
           0.185066881409123,
           0.137448537263939,
           0.239843081121575,
           0.142275783668731,
           0.172730672751451,
           0.0930430482665395
          ],
          [
           0.0980514874287459,
           0.25162586573765,
           0.239188283778317,
           0.105458211555755,
           0.185066881409123,
           0.137448537263939,
           0.239843081121575,
           0.142275783668731,
           0.172730672751451,
           0.0930430482665395
          ],
          [
           0.0980514874287459,
           0.25162586573765,
           0.239188283778317,
           0.105458211555755,
           0.185066881409123,
           0.137448537263939,
           0.239843081121575,
           0.142275783668731,
           0.172730672751451,
           0.0930430482665395
          ],
          [
           0.0980514874287459,
           0.25162586573765,
           0.239188283778317,
           0.105458211555755,
           0.185066881409123,
           0.137448537263939,
           0.239843081121575,
           0.142275783668731,
           0.172730672751451,
           0.0930430482665395
          ],
          [
           0.0980514874287459,
           0.25162586573765,
           0.239188283778317,
           0.105458211555755,
           0.185066881409123,
           0.137448537263939,
           0.239843081121575,
           0.142275783668731,
           0.172730672751451,
           0.0930430482665395
          ],
          [
           0.0980514874287459,
           0.25162586573765,
           0.239188283778317,
           0.105458211555755,
           0.185066881409123,
           0.137448537263939,
           0.239843081121575,
           0.142275783668731,
           0.172730672751451,
           0.0930430482665395
          ],
          [
           0.0980514874287459,
           0.25162586573765,
           0.239188283778317,
           0.105458211555755,
           0.185066881409123,
           0.137448537263939,
           0.239843081121575,
           0.142275783668731,
           0.172730672751451,
           0.0930430482665395
          ],
          [
           0.0980514874287459,
           0.25162586573765,
           0.239188283778317,
           0.105458211555755,
           0.185066881409123,
           0.137448537263939,
           0.239843081121575,
           0.142275783668731,
           0.172730672751451,
           0.0930430482665395
          ],
          [
           0.0980514874287459,
           0.25162586573765,
           0.239188283778317,
           0.105458211555755,
           0.185066881409123,
           0.137448537263939,
           0.239843081121575,
           0.142275783668731,
           0.172730672751451,
           0.0930430482665395
          ],
          [
           0.0980514874287459,
           0.25162586573765,
           0.239188283778317,
           0.105458211555755,
           0.185066881409123,
           0.137448537263939,
           0.239843081121575,
           0.142275783668731,
           0.172730672751451,
           0.0930430482665395
          ]
         ],
         "y": [
          [
           -22,
           -22,
           -22,
           -22,
           -22,
           -22,
           -22,
           -22,
           -22,
           -22
          ],
          [
           -25,
           -25,
           -25,
           -25,
           -25,
           -25,
           -25,
           -25,
           -25,
           -25
          ],
          [
           -24,
           -24,
           -24,
           -24,
           -24,
           -24,
           -24,
           -24,
           -24,
           -24
          ],
          [
           -21.5,
           -21.5,
           -21.5,
           -21.5,
           -21.5,
           -21.5,
           -21.5,
           -21.5,
           -21.5,
           -21.5
          ],
          [
           -23.5,
           -23.5,
           -23.5,
           -23.5,
           -23.5,
           -23.5,
           -23.5,
           -23.5,
           -23.5,
           -23.5
          ],
          [
           -21,
           -21,
           -21,
           -21,
           -21,
           -21,
           -21,
           -21,
           -21,
           -21
          ],
          [
           -24.5,
           -24.5,
           -24.5,
           -24.5,
           -24.5,
           -24.5,
           -24.5,
           -24.5,
           -24.5,
           -24.5
          ],
          [
           -20.5,
           -20.5,
           -20.5,
           -20.5,
           -20.5,
           -20.5,
           -20.5,
           -20.5,
           -20.5,
           -20.5
          ],
          [
           -23,
           -23,
           -23,
           -23,
           -23,
           -23,
           -23,
           -23,
           -23,
           -23
          ],
          [
           -22.5,
           -22.5,
           -22.5,
           -22.5,
           -22.5,
           -22.5,
           -22.5,
           -22.5,
           -22.5,
           -22.5
          ]
         ],
         "z": [
          [
           4.588140491408814,
           3.7474290209607157,
           3.815516015243168,
           4.5475938976306765,
           4.111792544372248,
           4.372469413570292,
           3.811931461339335,
           4.34604364211104,
           4.179324591283647,
           4.615558165496603
          ],
          [
           4.944944129473787,
           4.104232659025689,
           4.172319653308141,
           4.904397535695649,
           4.468596182437221,
           4.729273051635265,
           4.168735099404308,
           4.702847280176012,
           4.53612822934862,
           4.972361803561576
          ],
          [
           4.826009583452129,
           3.985298113004031,
           4.053385107286483,
           4.7854629896739915,
           4.349661636415563,
           4.6103385056136075,
           4.04980055338265,
           4.583912734154355,
           4.417193683326962,
           4.853427257539918
          ],
          [
           4.5286732183979845,
           3.6879617479498865,
           3.7560487422323394,
           4.488126624619847,
           4.052325271361418,
           4.313002140559464,
           3.752464188328506,
           4.28657636910021,
           4.119857318272818,
           4.5560908924857735
          ],
          [
           4.7665423104413005,
           3.925830839993202,
           3.9939178342756545,
           4.725995716663162,
           4.290194363404734,
           4.550871232602779,
           3.9903332803718214,
           4.524445461143525,
           4.357726410316134,
           4.7939599845290894
          ],
          [
           4.469205945387156,
           3.6284944749390577,
           3.6965814692215107,
           4.428659351609018,
           3.9928579983505896,
           4.253534867548634,
           3.692996915317677,
           4.227109096089381,
           4.06039004526199,
           4.496623619474946
          ],
          [
           4.885476856462958,
           4.044765386014859,
           4.112852380297312,
           4.844930262684819,
           4.409128909426392,
           4.669805778624436,
           4.109267826393479,
           4.643380007165183,
           4.476660956337792,
           4.912894530550747
          ],
          [
           4.409738672376327,
           3.569027201928229,
           3.637114196210682,
           4.369192078598189,
           3.933390725339761,
           4.194067594537806,
           3.6335296423068484,
           4.167641823078553,
           4.000922772251161,
           4.437156346464116
          ],
          [
           4.707075037430472,
           3.8663635669823733,
           3.9344505612648257,
           4.666528443652334,
           4.230727090393906,
           4.49140395959195,
           3.9308660073609927,
           4.464978188132697,
           4.298259137305305,
           4.734492711518261
          ],
          [
           4.647607764419643,
           3.8068962939715445,
           3.874983288253997,
           4.607061170641504,
           4.171259817383077,
           4.431936686581121,
           3.871398734350164,
           4.405510915121868,
           4.238791864294477,
           4.675025438507432
          ]
         ]
        }
       ],
       "layout": {
        "annotations": [
         {
          "font": {
           "size": 13
          },
          "showarrow": false,
          "text": "*: p-valor < 0,05    **: p-valor < 0,01",
          "x": 0.07,
          "xref": "paper",
          "y": -0.15,
          "yref": "paper"
         }
        ],
        "legend": {
         "tracegroupgap": 0
        },
        "margin": {
         "t": 60
        },
        "scene": {
         "domain": {
          "x": [
           0,
           1
          ],
          "y": [
           0,
           1
          ]
         },
         "xaxis": {
          "ticktext": [
           "0,12",
           "0,16",
           "0,19",
           "0,22"
          ],
          "tickvals": [
           0.1247596117607616,
           0.1564761752549837,
           0.18819273874920578,
           0.2199093022434279
          ],
          "title": {
           "text": "ZCR"
          }
         },
         "yaxis": {
          "tickvals": [
           -24,
           -23,
           -22,
           -21
          ],
          "title": {
           "text": "RMS"
          }
         },
         "zaxis": {
          "range": [
           0,
           6
          ],
          "title": {
           "text": "Pronunciación"
          }
         }
        },
        "template": {
         "data": {
          "bar": [
           {
            "error_x": {
             "color": "#2a3f5f"
            },
            "error_y": {
             "color": "#2a3f5f"
            },
            "marker": {
             "line": {
              "color": "#E5ECF6",
              "width": 0.5
             },
             "pattern": {
              "fillmode": "overlay",
              "size": 10,
              "solidity": 0.2
             }
            },
            "type": "bar"
           }
          ],
          "barpolar": [
           {
            "marker": {
             "line": {
              "color": "#E5ECF6",
              "width": 0.5
             },
             "pattern": {
              "fillmode": "overlay",
              "size": 10,
              "solidity": 0.2
             }
            },
            "type": "barpolar"
           }
          ],
          "carpet": [
           {
            "aaxis": {
             "endlinecolor": "#2a3f5f",
             "gridcolor": "white",
             "linecolor": "white",
             "minorgridcolor": "white",
             "startlinecolor": "#2a3f5f"
            },
            "baxis": {
             "endlinecolor": "#2a3f5f",
             "gridcolor": "white",
             "linecolor": "white",
             "minorgridcolor": "white",
             "startlinecolor": "#2a3f5f"
            },
            "type": "carpet"
           }
          ],
          "choropleth": [
           {
            "colorbar": {
             "outlinewidth": 0,
             "ticks": ""
            },
            "type": "choropleth"
           }
          ],
          "contour": [
           {
            "colorbar": {
             "outlinewidth": 0,
             "ticks": ""
            },
            "colorscale": [
             [
              0,
              "#0d0887"
             ],
             [
              0.1111111111111111,
              "#46039f"
             ],
             [
              0.2222222222222222,
              "#7201a8"
             ],
             [
              0.3333333333333333,
              "#9c179e"
             ],
             [
              0.4444444444444444,
              "#bd3786"
             ],
             [
              0.5555555555555556,
              "#d8576b"
             ],
             [
              0.6666666666666666,
              "#ed7953"
             ],
             [
              0.7777777777777778,
              "#fb9f3a"
             ],
             [
              0.8888888888888888,
              "#fdca26"
             ],
             [
              1,
              "#f0f921"
             ]
            ],
            "type": "contour"
           }
          ],
          "contourcarpet": [
           {
            "colorbar": {
             "outlinewidth": 0,
             "ticks": ""
            },
            "type": "contourcarpet"
           }
          ],
          "heatmap": [
           {
            "colorbar": {
             "outlinewidth": 0,
             "ticks": ""
            },
            "colorscale": [
             [
              0,
              "#0d0887"
             ],
             [
              0.1111111111111111,
              "#46039f"
             ],
             [
              0.2222222222222222,
              "#7201a8"
             ],
             [
              0.3333333333333333,
              "#9c179e"
             ],
             [
              0.4444444444444444,
              "#bd3786"
             ],
             [
              0.5555555555555556,
              "#d8576b"
             ],
             [
              0.6666666666666666,
              "#ed7953"
             ],
             [
              0.7777777777777778,
              "#fb9f3a"
             ],
             [
              0.8888888888888888,
              "#fdca26"
             ],
             [
              1,
              "#f0f921"
             ]
            ],
            "type": "heatmap"
           }
          ],
          "heatmapgl": [
           {
            "colorbar": {
             "outlinewidth": 0,
             "ticks": ""
            },
            "colorscale": [
             [
              0,
              "#0d0887"
             ],
             [
              0.1111111111111111,
              "#46039f"
             ],
             [
              0.2222222222222222,
              "#7201a8"
             ],
             [
              0.3333333333333333,
              "#9c179e"
             ],
             [
              0.4444444444444444,
              "#bd3786"
             ],
             [
              0.5555555555555556,
              "#d8576b"
             ],
             [
              0.6666666666666666,
              "#ed7953"
             ],
             [
              0.7777777777777778,
              "#fb9f3a"
             ],
             [
              0.8888888888888888,
              "#fdca26"
             ],
             [
              1,
              "#f0f921"
             ]
            ],
            "type": "heatmapgl"
           }
          ],
          "histogram": [
           {
            "marker": {
             "pattern": {
              "fillmode": "overlay",
              "size": 10,
              "solidity": 0.2
             }
            },
            "type": "histogram"
           }
          ],
          "histogram2d": [
           {
            "colorbar": {
             "outlinewidth": 0,
             "ticks": ""
            },
            "colorscale": [
             [
              0,
              "#0d0887"
             ],
             [
              0.1111111111111111,
              "#46039f"
             ],
             [
              0.2222222222222222,
              "#7201a8"
             ],
             [
              0.3333333333333333,
              "#9c179e"
             ],
             [
              0.4444444444444444,
              "#bd3786"
             ],
             [
              0.5555555555555556,
              "#d8576b"
             ],
             [
              0.6666666666666666,
              "#ed7953"
             ],
             [
              0.7777777777777778,
              "#fb9f3a"
             ],
             [
              0.8888888888888888,
              "#fdca26"
             ],
             [
              1,
              "#f0f921"
             ]
            ],
            "type": "histogram2d"
           }
          ],
          "histogram2dcontour": [
           {
            "colorbar": {
             "outlinewidth": 0,
             "ticks": ""
            },
            "colorscale": [
             [
              0,
              "#0d0887"
             ],
             [
              0.1111111111111111,
              "#46039f"
             ],
             [
              0.2222222222222222,
              "#7201a8"
             ],
             [
              0.3333333333333333,
              "#9c179e"
             ],
             [
              0.4444444444444444,
              "#bd3786"
             ],
             [
              0.5555555555555556,
              "#d8576b"
             ],
             [
              0.6666666666666666,
              "#ed7953"
             ],
             [
              0.7777777777777778,
              "#fb9f3a"
             ],
             [
              0.8888888888888888,
              "#fdca26"
             ],
             [
              1,
              "#f0f921"
             ]
            ],
            "type": "histogram2dcontour"
           }
          ],
          "mesh3d": [
           {
            "colorbar": {
             "outlinewidth": 0,
             "ticks": ""
            },
            "type": "mesh3d"
           }
          ],
          "parcoords": [
           {
            "line": {
             "colorbar": {
              "outlinewidth": 0,
              "ticks": ""
             }
            },
            "type": "parcoords"
           }
          ],
          "pie": [
           {
            "automargin": true,
            "type": "pie"
           }
          ],
          "scatter": [
           {
            "fillpattern": {
             "fillmode": "overlay",
             "size": 10,
             "solidity": 0.2
            },
            "type": "scatter"
           }
          ],
          "scatter3d": [
           {
            "line": {
             "colorbar": {
              "outlinewidth": 0,
              "ticks": ""
             }
            },
            "marker": {
             "colorbar": {
              "outlinewidth": 0,
              "ticks": ""
             }
            },
            "type": "scatter3d"
           }
          ],
          "scattercarpet": [
           {
            "marker": {
             "colorbar": {
              "outlinewidth": 0,
              "ticks": ""
             }
            },
            "type": "scattercarpet"
           }
          ],
          "scattergeo": [
           {
            "marker": {
             "colorbar": {
              "outlinewidth": 0,
              "ticks": ""
             }
            },
            "type": "scattergeo"
           }
          ],
          "scattergl": [
           {
            "marker": {
             "colorbar": {
              "outlinewidth": 0,
              "ticks": ""
             }
            },
            "type": "scattergl"
           }
          ],
          "scattermapbox": [
           {
            "marker": {
             "colorbar": {
              "outlinewidth": 0,
              "ticks": ""
             }
            },
            "type": "scattermapbox"
           }
          ],
          "scatterpolar": [
           {
            "marker": {
             "colorbar": {
              "outlinewidth": 0,
              "ticks": ""
             }
            },
            "type": "scatterpolar"
           }
          ],
          "scatterpolargl": [
           {
            "marker": {
             "colorbar": {
              "outlinewidth": 0,
              "ticks": ""
             }
            },
            "type": "scatterpolargl"
           }
          ],
          "scatterternary": [
           {
            "marker": {
             "colorbar": {
              "outlinewidth": 0,
              "ticks": ""
             }
            },
            "type": "scatterternary"
           }
          ],
          "surface": [
           {
            "colorbar": {
             "outlinewidth": 0,
             "ticks": ""
            },
            "colorscale": [
             [
              0,
              "#0d0887"
             ],
             [
              0.1111111111111111,
              "#46039f"
             ],
             [
              0.2222222222222222,
              "#7201a8"
             ],
             [
              0.3333333333333333,
              "#9c179e"
             ],
             [
              0.4444444444444444,
              "#bd3786"
             ],
             [
              0.5555555555555556,
              "#d8576b"
             ],
             [
              0.6666666666666666,
              "#ed7953"
             ],
             [
              0.7777777777777778,
              "#fb9f3a"
             ],
             [
              0.8888888888888888,
              "#fdca26"
             ],
             [
              1,
              "#f0f921"
             ]
            ],
            "type": "surface"
           }
          ],
          "table": [
           {
            "cells": {
             "fill": {
              "color": "#EBF0F8"
             },
             "line": {
              "color": "white"
             }
            },
            "header": {
             "fill": {
              "color": "#C8D4E3"
             },
             "line": {
              "color": "white"
             }
            },
            "type": "table"
           }
          ]
         },
         "layout": {
          "annotationdefaults": {
           "arrowcolor": "#2a3f5f",
           "arrowhead": 0,
           "arrowwidth": 1
          },
          "autotypenumbers": "strict",
          "coloraxis": {
           "colorbar": {
            "outlinewidth": 0,
            "ticks": ""
           }
          },
          "colorscale": {
           "diverging": [
            [
             0,
             "#8e0152"
            ],
            [
             0.1,
             "#c51b7d"
            ],
            [
             0.2,
             "#de77ae"
            ],
            [
             0.3,
             "#f1b6da"
            ],
            [
             0.4,
             "#fde0ef"
            ],
            [
             0.5,
             "#f7f7f7"
            ],
            [
             0.6,
             "#e6f5d0"
            ],
            [
             0.7,
             "#b8e186"
            ],
            [
             0.8,
             "#7fbc41"
            ],
            [
             0.9,
             "#4d9221"
            ],
            [
             1,
             "#276419"
            ]
           ],
           "sequential": [
            [
             0,
             "#0d0887"
            ],
            [
             0.1111111111111111,
             "#46039f"
            ],
            [
             0.2222222222222222,
             "#7201a8"
            ],
            [
             0.3333333333333333,
             "#9c179e"
            ],
            [
             0.4444444444444444,
             "#bd3786"
            ],
            [
             0.5555555555555556,
             "#d8576b"
            ],
            [
             0.6666666666666666,
             "#ed7953"
            ],
            [
             0.7777777777777778,
             "#fb9f3a"
            ],
            [
             0.8888888888888888,
             "#fdca26"
            ],
            [
             1,
             "#f0f921"
            ]
           ],
           "sequentialminus": [
            [
             0,
             "#0d0887"
            ],
            [
             0.1111111111111111,
             "#46039f"
            ],
            [
             0.2222222222222222,
             "#7201a8"
            ],
            [
             0.3333333333333333,
             "#9c179e"
            ],
            [
             0.4444444444444444,
             "#bd3786"
            ],
            [
             0.5555555555555556,
             "#d8576b"
            ],
            [
             0.6666666666666666,
             "#ed7953"
            ],
            [
             0.7777777777777778,
             "#fb9f3a"
            ],
            [
             0.8888888888888888,
             "#fdca26"
            ],
            [
             1,
             "#f0f921"
            ]
           ]
          },
          "colorway": [
           "#636efa",
           "#EF553B",
           "#00cc96",
           "#ab63fa",
           "#FFA15A",
           "#19d3f3",
           "#FF6692",
           "#B6E880",
           "#FF97FF",
           "#FECB52"
          ],
          "font": {
           "color": "#2a3f5f"
          },
          "geo": {
           "bgcolor": "white",
           "lakecolor": "white",
           "landcolor": "#E5ECF6",
           "showlakes": true,
           "showland": true,
           "subunitcolor": "white"
          },
          "hoverlabel": {
           "align": "left"
          },
          "hovermode": "closest",
          "mapbox": {
           "style": "light"
          },
          "paper_bgcolor": "white",
          "plot_bgcolor": "#E5ECF6",
          "polar": {
           "angularaxis": {
            "gridcolor": "white",
            "linecolor": "white",
            "ticks": ""
           },
           "bgcolor": "#E5ECF6",
           "radialaxis": {
            "gridcolor": "white",
            "linecolor": "white",
            "ticks": ""
           }
          },
          "scene": {
           "xaxis": {
            "backgroundcolor": "#E5ECF6",
            "gridcolor": "white",
            "gridwidth": 2,
            "linecolor": "white",
            "showbackground": true,
            "ticks": "",
            "zerolinecolor": "white"
           },
           "yaxis": {
            "backgroundcolor": "#E5ECF6",
            "gridcolor": "white",
            "gridwidth": 2,
            "linecolor": "white",
            "showbackground": true,
            "ticks": "",
            "zerolinecolor": "white"
           },
           "zaxis": {
            "backgroundcolor": "#E5ECF6",
            "gridcolor": "white",
            "gridwidth": 2,
            "linecolor": "white",
            "showbackground": true,
            "ticks": "",
            "zerolinecolor": "white"
           }
          },
          "shapedefaults": {
           "line": {
            "color": "#2a3f5f"
           }
          },
          "ternary": {
           "aaxis": {
            "gridcolor": "white",
            "linecolor": "white",
            "ticks": ""
           },
           "baxis": {
            "gridcolor": "white",
            "linecolor": "white",
            "ticks": ""
           },
           "bgcolor": "#E5ECF6",
           "caxis": {
            "gridcolor": "white",
            "linecolor": "white",
            "ticks": ""
           }
          },
          "title": {
           "x": 0.05
          },
          "xaxis": {
           "automargin": true,
           "gridcolor": "white",
           "linecolor": "white",
           "ticks": "",
           "title": {
            "standoff": 15
           },
           "zerolinecolor": "white",
           "zerolinewidth": 2
          },
          "yaxis": {
           "automargin": true,
           "gridcolor": "white",
           "linecolor": "white",
           "ticks": "",
           "title": {
            "standoff": 15
           },
           "zerolinecolor": "white",
           "zerolinewidth": 2
          }
         }
        },
        "title": {
         "text": "z = 2,51 + -5,47 * ZCR <sup>**</sup> + -0,12 * RMS <sup>*</sup> - R² = 0,780",
         "x": 0.5,
         "xanchor": "center"
        }
       }
      }
     },
     "metadata": {},
     "output_type": "display_data"
    }
   ],
   "source": [
    "if len(dicc_model) == 2:\n",
    "    import plotly.express as px\n",
    "    import plotly.graph_objects as go\n",
    "\n",
    "    # Seleccionamos solo las características seleccionadas en X\n",
    "    X_selected = X[:, selected_features]\n",
    "\n",
    "    # Entrenamos el modelo de regresión con las características seleccionadas\n",
    "    regr_multivar = SMWrapper(sm.OLS)\n",
    "    regr_multivar_fit = regr_multivar.fit(X_selected, y)\n",
    "\n",
    "    # Obtenemos las predicciones del modelo para las características seleccionadas\n",
    "    y_pred = regr_multivar.predict(X_selected)\n",
    "\n",
    "    # Crear la figura\n",
    "    fig = px.scatter_3d(x=X_selected[:, 0], y=X_selected[:, 1], z=y)\n",
    "\n",
    "    # Crear el plano de regresión\n",
    "    xx, yy = np.meshgrid(X_selected[:, 0], X_selected[:, 1])\n",
    "    zz = regr_multivar_fit.params[0] + np.dot(np.array([xx.ravel(), yy.ravel()]).T, regr_multivar_fit.params[1:].ravel()).reshape(xx.shape)\n",
    "    fig.add_trace(go.Surface(x=xx, y=yy, z=zz, opacity=0.5))\n",
    "\n",
    "    axis_name_list = []\n",
    "    # Construir la cadena de texto para la ecuación del plano\n",
    "    equation = f'z = {regr_multivar_fit.params[0].round(2)}'\n",
    "    for i, (key, model) in enumerate(dicc_model.items()):\n",
    "        feature_name = key.replace(\"_model\", \"\").upper()\n",
    "        feature_name_axis = feature_name\n",
    "        if feature_name == 'F0':\n",
    "            feature_name = '<i>f₀</i>'\n",
    "            feature_name_axis = 'f₀'\n",
    "        axis_name_list.append(feature_name_axis)\n",
    "        if regr_multivar_fit.pvalues[1:][i] < 0.01:\n",
    "            label = '<sup>**</sup>'\n",
    "        elif regr_multivar_fit.pvalues[1:][i] < 0.05:\n",
    "            label = '<sup>*</sup>'\n",
    "        else:\n",
    "            label = ''\n",
    "        equation += f' + {regr_multivar_fit.params[1:][i].round(2)} * {feature_name} {label}'\n",
    "        \n",
    "    equation += f' - R² = {r_squared_value:.3f}'\n",
    "    equation = equation.replace('.', ',')\n",
    "    \n",
    "    # Centrar el título\n",
    "    fig.update_layout(title=dict(text=equation, x=0.5, xanchor='center'))\n",
    "    \n",
    "    # Verificar si los valores en el eje x son menores que 1\n",
    "    if np.any(np.abs(X_selected[:, 0]) < 1):\n",
    "        # Calcular los valores de los ticks\n",
    "        xaxis_tickvals = np.linspace(np.min(X_selected[:, 0]), np.max(X_selected[:, 0]), 6)[1:5]\n",
    "\n",
    "        # Convertir los valores de los ticks a strings y reemplazar los puntos por comas\n",
    "        xaxis_ticktext = [f'{val:.2f}'.replace('.', ',') for val in xaxis_tickvals]\n",
    "    else:\n",
    "        # Si los valores en el eje x son mayores o iguales a 1, usar el formato por defecto\n",
    "        xaxis_tickvals = None\n",
    "        xaxis_ticktext = None\n",
    "\n",
    "    # Etiquetas de los ejes y rango del eje z\n",
    "    fig.update_layout(scene=dict(xaxis=dict(title=axis_name_list[0], tickvals=xaxis_tickvals, ticktext=xaxis_ticktext), yaxis_title=axis_name_list[1], zaxis_title='Pronunciación', zaxis=dict(range=[0, 6]), yaxis=dict(tickvals=[-24, -23, -22, -21])))\n",
    "    \n",
    "    # Agrega la anotación al final\n",
    "    fig.add_annotation(\n",
    "        x=0.07,\n",
    "        y=-0.15,\n",
    "        xref=\"paper\",\n",
    "        yref=\"paper\",\n",
    "        text=\"*: p-valor < 0,05    **: p-valor < 0,01\",\n",
    "        showarrow=False,\n",
    "        font=dict(\n",
    "            size=13\n",
    "        )\n",
    "    )\n",
    "\n",
    "    fig.write_html(\n",
    "       os.path.join(PATH, TEST_FOLDER, REGGRESSION_FOLDER, PARAMETRIC_FOLDER, PRONUNCIACION_FOLDER, MALE_FOLDER, 'regresion_pronunciacion_multivariable_male.html')\n",
    "    )\n",
    "\n",
    "    fig.write_image(\n",
    "       os.path.join(PATH, TEST_FOLDER, REGGRESSION_FOLDER, PARAMETRIC_FOLDER, PRONUNCIACION_FOLDER, MALE_FOLDER, 'regresion_pronunciacion_multivariable_male.png')\n",
    "    )\n",
    "\n",
    "    fig.show()\n"
   ]
  },
  {
   "attachments": {},
   "cell_type": "markdown",
   "id": "3789acd6",
   "metadata": {
    "papermill": {
     "duration": 0.110001,
     "end_time": "2023-06-11T01:38:47.254045",
     "exception": false,
     "start_time": "2023-06-11T01:38:47.144044",
     "status": "completed"
    },
    "tags": []
   },
   "source": [
    "#### Femenino"
   ]
  },
  {
   "cell_type": "code",
   "execution_count": 1047,
   "id": "e45ae228",
   "metadata": {
    "execution": {
     "iopub.execute_input": "2023-06-11T01:38:47.594799Z",
     "iopub.status.busy": "2023-06-11T01:38:47.594799Z",
     "iopub.status.idle": "2023-06-11T01:38:47.608337Z",
     "shell.execute_reply": "2023-06-11T01:38:47.603800Z"
    },
    "papermill": {
     "duration": 0.191223,
     "end_time": "2023-06-11T01:38:47.612330",
     "exception": false,
     "start_time": "2023-06-11T01:38:47.421107",
     "status": "completed"
    },
    "tags": []
   },
   "outputs": [],
   "source": [
    "# Lista de p-values\n",
    "p_values = []\n",
    "\n",
    "mask_gender = df_pronunciacion.genero == 'femenino'\n",
    "\n",
    "df_pronunciacion_female = df_pronunciacion[mask_gender].drop(columns=['genero'])"
   ]
  },
  {
   "cell_type": "code",
   "execution_count": 1048,
   "id": "bea1d371",
   "metadata": {
    "execution": {
     "iopub.execute_input": "2023-06-11T01:38:47.954251Z",
     "iopub.status.busy": "2023-06-11T01:38:47.954251Z",
     "iopub.status.idle": "2023-06-11T01:38:48.095022Z",
     "shell.execute_reply": "2023-06-11T01:38:48.087938Z"
    },
    "papermill": {
     "duration": 0.270681,
     "end_time": "2023-06-11T01:38:48.098017",
     "exception": false,
     "start_time": "2023-06-11T01:38:47.827336",
     "status": "completed"
    },
    "tags": []
   },
   "outputs": [
    {
     "name": "stdout",
     "output_type": "stream",
     "text": [
      "Coeficiente de determinación R^2: 0.6758\n",
      "Shapiro-Wilk p-valor: 0.019548965618014336\n",
      "Durbin-Watson: 1.0443096256248927\n",
      "Características seleccionadas: (0, 2)\n",
      "Característica Seleccionada ZCR: p-valor = 0.0120\n",
      "Característica Seleccionada f0: p-valor = 0.0524\n",
      "\n",
      "p-valor global: 0.019407839254210572\n",
      "Ecuación: 6.13 - 2.83*ZCR - 0.01*RMS\n",
      "\n",
      "Característica ZCR: p-valor = 0.1217\n",
      "Característica RMS: p-valor = 0.7014\n",
      "Característica f0: p-valor = 0.0722\n"
     ]
    }
   ],
   "source": [
    "# Cargamos los datos\n",
    "X = np.array(df_pronunciacion_female.drop(columns=['Pronunciacion'])) # df_objetivos es el DataFrame con los parámetros objetivos\n",
    "y = np.array(df_pronunciacion_female.Pronunciacion) # df_subjetivos es el DataFrame con los parámetros subjetivos\n",
    "\n",
    "# Creamos el modelo de regresión lineal con el envoltorio\n",
    "regr_multivar = SMWrapper(sm.OLS)\n",
    "\n",
    "# Creamos el selector de características hacia adelante\n",
    "forward_selector = SequentialFeatureSelector(regr_multivar, k_features='best', forward=True, scoring='neg_mean_squared_error')\n",
    "\n",
    "# Entrenamos el selector de características\n",
    "forward_selector.fit(X, y)\n",
    "\n",
    "# Obtenemos las características seleccionadas\n",
    "selected_features = forward_selector.k_feature_idx_\n",
    "\n",
    "# Lógica para rellenar las características no seleccionadas\n",
    "count_features = set(selected_features)\n",
    "total_features = set([0,1,2])\n",
    "missing_features = total_features - count_features\n",
    "\n",
    "for missing_feature in missing_features:\n",
    "    if missing_feature == 0:\n",
    "        dicc_p_value['ZCR'].append(np.nan)\n",
    "    elif missing_feature == 1:\n",
    "        dicc_p_value['RMS'].append(np.nan)\n",
    "    else:\n",
    "        dicc_p_value['f0'].append(np.nan)\n",
    "\n",
    "regr_multivar_fit = regr_multivar.fit(X[:, selected_features], y)\n",
    "\n",
    "# Obtenemos el R^2 del modelo\n",
    "r_squared_value = regr_multivar_fit.rsquared\n",
    "\n",
    "print(f'Coeficiente de determinación R^2: {r_squared_value:.4f}')\n",
    "\n",
    "# Obtenemos los residuos del modelo\n",
    "residuals = y - regr_multivar.predict(X[:, selected_features])\n",
    "\n",
    "# Realizamos la prueba de Shapiro-Wilk\n",
    "shapiro_test = stats.shapiro(residuals)\n",
    "\n",
    "# Imprimimos el resultado de la prueba\n",
    "print('Shapiro-Wilk p-valor:', shapiro_test.pvalue)\n",
    "\n",
    "# Realizamos el test de Durbin-Watson\n",
    "dw_test = durbin_watson(residuals)\n",
    "\n",
    "# Imprimimos el resultado del test\n",
    "print('Durbin-Watson:', dw_test)\n",
    "\n",
    "# Imprimimos las características seleccionadas\n",
    "print('Características seleccionadas:', selected_features)\n",
    "\n",
    "# Imprimimos los p-valores para cada característica seleccionada\n",
    "for feature, pvalue in zip(selected_features, regr_multivar_fit.pvalues[1:]):\n",
    "    \n",
    "    if feature == 0:\n",
    "        feature = 'ZCR'\n",
    "    elif feature == 1:\n",
    "        feature = 'RMS'\n",
    "    else:\n",
    "        feature = 'f0'\n",
    "        \n",
    "    p_values.append(pvalue)\n",
    "    dicc_p_value[feature].append(pvalue)\n",
    "    \n",
    "    print(f'Característica Seleccionada {feature}: p-valor = {pvalue:.4f}')\n",
    "\n",
    "print()\n",
    "\n",
    "# Imprimimos el p-valor global\n",
    "print('p-valor global:', regr_multivar_fit.f_pvalue)\n",
    "\n",
    "features = {\n",
    "    1: 'ZCR',\n",
    "    2: 'RMS',\n",
    "    3: 'f0'\n",
    "}\n",
    "\n",
    "# Imprimimos la ecuación resultante\n",
    "equation = \"Ecuación: \"\n",
    "for i, coef in enumerate(regr_multivar_fit.params):\n",
    "    if i == 0:\n",
    "        equation += f\"{coef:.2f}\"\n",
    "    else:\n",
    "        if coef < 0:\n",
    "            equation += f\" - {-coef:.2f}*{features[i]}\"\n",
    "        else:\n",
    "            equation += f\" + {coef:.2f}*{features[i]}\"\n",
    "print(equation)\n",
    "\n",
    "print()\n",
    "# Creamos el modelo OLS (mínimos cuadrados ordinarios) y lo ajustamos a los datos\n",
    "results = regr_multivar.fit(X, y)\n",
    "\n",
    "# Imprimimos los p-valores para cada característica seleccionada\n",
    "for feature, pvalue in zip(list(range(X.shape[1])), results.pvalues[1:]):\n",
    "\n",
    "    if feature == 0:\n",
    "        feature = 'ZCR'\n",
    "    elif feature == 1:\n",
    "        feature = 'RMS'\n",
    "    else:\n",
    "        feature = 'f0'\n",
    "    \n",
    "    print(f'Característica {feature}: p-valor = {pvalue:.4f}')\n",
    "\n",
    "dicc_p_value['subjetive_parameter'].append('Pronunciación')\n",
    "dicc_p_value['genero'].append('femenino')\n",
    "dicc_p_value['selected_features'].append(list(selected_features))\n",
    "dicc_p_value['shapiro_wilk_test'].append(shapiro_test.pvalue)\n",
    "\n",
    "# Almacenamos los resultados en el diccionario\n",
    "dicc_dw[\"Dublin-Watson Test\"].append(dw_test)\n",
    "dicc_dw[\"Parametro subjetivo\"].append('Pronunciación')\n",
    "dicc_dw[\"Genero\"].append('femenino')\n"
   ]
  },
  {
   "cell_type": "code",
   "execution_count": 1049,
   "id": "46c69347",
   "metadata": {
    "execution": {
     "iopub.execute_input": "2023-06-11T01:39:09.889031Z",
     "iopub.status.busy": "2023-06-11T01:39:09.889031Z",
     "iopub.status.idle": "2023-06-11T01:39:09.920313Z",
     "shell.execute_reply": "2023-06-11T01:39:09.920313Z"
    },
    "papermill": {
     "duration": 0.115312,
     "end_time": "2023-06-11T01:39:09.920313",
     "exception": false,
     "start_time": "2023-06-11T01:39:09.805001",
     "status": "completed"
    },
    "tags": []
   },
   "outputs": [],
   "source": [
    "# Dicc auxiliar con los nombres asociadas a las variables\n",
    "dicc_names_features = {\n",
    "    'zcr_model': 0,\n",
    "    'rms_model': 1,\n",
    "    'f0_model': 2\n",
    "}\n",
    "\n",
    "# Dicc de los modelos\n",
    "dicc_model = {}\n",
    "\n",
    "# Dicc de las predicciones\n",
    "dicc_pred = {}\n",
    "\n",
    "for selected_feature in selected_features:\n",
    "    # Entrenamos el modelo de regresión con las características seleccionadas\n",
    "    regr_multivar = SMWrapper(sm.OLS)\n",
    "    regr_multivar_fit = regr_multivar.fit(X[:, selected_feature].reshape(-1, 1), y.ravel())\n",
    "\n",
    "    # Almacenamos en dicc_model la clave asociada al modelo que se entrenó y el objeto modelo\n",
    "    for key, value in dicc_names_features.items():\n",
    "        if value == selected_feature:\n",
    "            dicc_model[key] = regr_multivar_fit\n",
    "\n",
    "    # Obtenemos las predicciones del modelo para las características seleccionadas\n",
    "    y_pred = regr_multivar.predict(X[:, selected_feature].reshape(-1, 1))\n",
    "\n",
    "    # Almacenamos en dicc_pred la clave asociada al modelo que se entrenó y la predicción\n",
    "    for key, value in dicc_names_features.items():\n",
    "        if value == selected_feature:\n",
    "            dicc_pred[key] = y_pred\n"
   ]
  },
  {
   "cell_type": "code",
   "execution_count": 1050,
   "id": "a184d78d",
   "metadata": {
    "execution": {
     "iopub.execute_input": "2023-06-11T01:39:10.106327Z",
     "iopub.status.busy": "2023-06-11T01:39:10.106327Z",
     "iopub.status.idle": "2023-06-11T01:39:10.122051Z",
     "shell.execute_reply": "2023-06-11T01:39:10.122051Z"
    },
    "papermill": {
     "duration": 0.123645,
     "end_time": "2023-06-11T01:39:10.122051",
     "exception": false,
     "start_time": "2023-06-11T01:39:09.998406",
     "status": "completed"
    },
    "tags": []
   },
   "outputs": [
    {
     "name": "stdout",
     "output_type": "stream",
     "text": [
      "y = -2,51 * ZCR$^{*}$ + 4,79\n",
      "y = -0,01 * $f_{0}$ + 5,37\n"
     ]
    }
   ],
   "source": [
    "list_equ = []\n",
    "\n",
    "for idx, (key, model) in enumerate(dicc_model.items()):\n",
    "    # Obtenemos los valores de w y b\n",
    "    w = model.params[1:][0]\n",
    "    b = model.params[0]\n",
    "    r_squared = model.rsquared\n",
    "    \n",
    "    label = key.replace(\"_model\", \"\")\n",
    "    if label == 'f0':\n",
    "        label = r'$f_{0}$'\n",
    "    else:\n",
    "        label = label.upper()\n",
    "\n",
    "    # Verificamos el valor de p y agregamos el superíndice correspondiente\n",
    "    if p_values[idx] < 0.01:\n",
    "        label += '$^{**}$'\n",
    "    elif p_values[idx] < 0.05:\n",
    "        label += '$^{*}$'\n",
    "\n",
    "    if len(dicc_model) == 1:\n",
    "        # Construimos la cadena de texto para la ecuación del hiperplano y su p-valor\n",
    "        equation = f'y = {w.round(2)} * {label} + {b.round(2)} - R$^2$ = {r_squared:.3f}'\n",
    "    else:\n",
    "        equation = f'y = {w.round(2)} * {label} + {b.round(2)}'\n",
    "\n",
    "    equation = equation.replace('.', ',')\n",
    "    # Agregamos la cadena a la lista\n",
    "    list_equ.append(equation)\n",
    "\n",
    "# Mostramos el resultado\n",
    "for equ in list_equ:\n",
    "    print(equ)"
   ]
  },
  {
   "cell_type": "code",
   "execution_count": 1051,
   "id": "33725fe3",
   "metadata": {
    "execution": {
     "iopub.execute_input": "2023-06-11T01:39:10.330413Z",
     "iopub.status.busy": "2023-06-11T01:39:10.329414Z",
     "iopub.status.idle": "2023-06-11T01:39:11.654720Z",
     "shell.execute_reply": "2023-06-11T01:39:11.654720Z"
    },
    "papermill": {
     "duration": 1.432312,
     "end_time": "2023-06-11T01:39:11.654720",
     "exception": false,
     "start_time": "2023-06-11T01:39:10.222408",
     "status": "completed"
    },
    "tags": []
   },
   "outputs": [
    {
     "data": {
      "image/png": "[encoded data removed]",
      "text/plain": [
       "<Figure size 1200x400 with 2 Axes>"
      ]
     },
     "metadata": {},
     "output_type": "display_data"
    }
   ],
   "source": [
    "dims = (6 * len(dicc_model), 4)\n",
    "fig, ax = plt.subplots(figsize=dims, ncols=len(dicc_model))\n",
    "\n",
    "with sns.axes_style('darkgrid'):\n",
    "    for i, (key, model) in enumerate(dicc_model.items()):\n",
    "        if isinstance(ax, np.ndarray):\n",
    "            ax_i = ax[i]\n",
    "        else:\n",
    "            ax_i = ax\n",
    "        label = key.replace(\"_model\", \"\")\n",
    "        if label == 'f0':\n",
    "            label = r'$f_{0}$'\n",
    "        else:\n",
    "            label = label.upper()\n",
    "        g = sns.scatterplot(x=X[:, dicc_names_features[key]], y=y, ax=ax_i, color='blue')\n",
    "        g = sns.lineplot(x=X[:, dicc_names_features[key]], y=dicc_pred[key], ax=ax_i, color='red')\n",
    "        g.text(0.5, -0.1, label, weight='bold', size='large', family='Arial', stretch='extra-expanded', ha='center', va='top', transform=g.transAxes)\n",
    "        g.set_ylabel('Pronunciación', weight='bold', size='large', alpha=0.8, family='Arial', stretch='extra-expanded')\n",
    "        g.set_title(list_equ[i], weight='bold', size='x-large', alpha=0.8, family='Arial', stretch='extra-expanded')\n",
    "        g.grid(alpha=0.7)\n",
    "        ax_i.set_ylim(0, 6)\n",
    "        \n",
    "        # Verificar si los valores en el eje x son menores que 1\n",
    "        if np.any(np.abs(X[:, dicc_names_features[key]]) < 1):\n",
    "            # Crear el formateador\n",
    "            formatter = ticker.FuncFormatter(format_decimal)\n",
    "\n",
    "            # Usar el formateador en el eje x de tus gráficos\n",
    "            ax_i.xaxis.set_major_formatter(formatter)\n",
    "\n",
    "    plt.tight_layout()\n",
    "    plt.figtext(0.02, 0.01, '*: p-valor < 0,05    **: p-valor < 0,01', fontsize=9)\n",
    "    plt.savefig(os.path.join(PATH, TEST_FOLDER, REGGRESSION_FOLDER, PARAMETRIC_FOLDER, PRONUNCIACION_FOLDER, FEMALE_FOLDER, 'regresiones_pronunciacion_female.png'))\n",
    "    plt.show()\n"
   ]
  },
  {
   "cell_type": "code",
   "execution_count": 1052,
   "id": "3a355a76",
   "metadata": {
    "execution": {
     "iopub.execute_input": "2023-06-11T01:39:11.843823Z",
     "iopub.status.busy": "2023-06-11T01:39:11.842858Z",
     "iopub.status.idle": "2023-06-11T01:39:11.871821Z",
     "shell.execute_reply": "2023-06-11T01:39:11.869922Z"
    },
    "papermill": {
     "duration": 0.142013,
     "end_time": "2023-06-11T01:39:11.874825",
     "exception": false,
     "start_time": "2023-06-11T01:39:11.732812",
     "status": "completed"
    },
    "tags": []
   },
   "outputs": [
    {
     "data": {
      "application/vnd.plotly.v1+json": {
       "config": {
        "plotlyServerURL": "https://plot.ly"
       },
       "data": [
        {
         "hovertemplate": "x=%{x}<br>y=%{y}<br>z=%{z}<extra></extra>",
         "legendgroup": "",
         "marker": {
          "color": "#636efa",
          "symbol": "circle"
         },
         "mode": "markers",
         "name": "",
         "scene": "scene",
         "showlegend": false,
         "type": "scatter3d",
         "x": [
          0.0759442551691729,
          0.137821937674907,
          0.0930354148829909,
          0.235632177146084,
          0.204357250316723,
          0.181163131359012,
          0.147759976291133,
          0.116977757195017,
          0.232525432279325,
          0.173409231085526
         ],
         "y": [
          111.111716480441,
          116.353345265724,
          101.312090449968,
          101.534873965827,
          117.741416962869,
          119.577565453938,
          100.992252773665,
          117.898565521619,
          102.269338478718,
          94.7081174667994
         ],
         "z": [
          4.6923076923076925,
          4.276923076923077,
          4.432835820895522,
          4.163934426229508,
          4,
          4.292307692307692,
          4.602941176470588,
          4.461538461538462,
          4.333333333333333,
          4.588235294117647
         ]
        },
        {
         "opacity": 0.5,
         "type": "surface",
         "x": [
          [
           0.0759442551691729,
           0.137821937674907,
           0.0930354148829909,
           0.235632177146084,
           0.204357250316723,
           0.181163131359012,
           0.147759976291133,
           0.116977757195017,
           0.232525432279325,
           0.173409231085526
          ],
          [
           0.0759442551691729,
           0.137821937674907,
           0.0930354148829909,
           0.235632177146084,
           0.204357250316723,
           0.181163131359012,
           0.147759976291133,
           0.116977757195017,
           0.232525432279325,
           0.173409231085526
          ],
          [
           0.0759442551691729,
           0.137821937674907,
           0.0930354148829909,
           0.235632177146084,
           0.204357250316723,
           0.181163131359012,
           0.147759976291133,
           0.116977757195017,
           0.232525432279325,
           0.173409231085526
          ],
          [
           0.0759442551691729,
           0.137821937674907,
           0.0930354148829909,
           0.235632177146084,
           0.204357250316723,
           0.181163131359012,
           0.147759976291133,
           0.116977757195017,
           0.232525432279325,
           0.173409231085526
          ],
          [
           0.0759442551691729,
           0.137821937674907,
           0.0930354148829909,
           0.235632177146084,
           0.204357250316723,
           0.181163131359012,
           0.147759976291133,
           0.116977757195017,
           0.232525432279325,
           0.173409231085526
          ],
          [
           0.0759442551691729,
           0.137821937674907,
           0.0930354148829909,
           0.235632177146084,
           0.204357250316723,
           0.181163131359012,
           0.147759976291133,
           0.116977757195017,
           0.232525432279325,
           0.173409231085526
          ],
          [
           0.0759442551691729,
           0.137821937674907,
           0.0930354148829909,
           0.235632177146084,
           0.204357250316723,
           0.181163131359012,
           0.147759976291133,
           0.116977757195017,
           0.232525432279325,
           0.173409231085526
          ],
          [
           0.0759442551691729,
           0.137821937674907,
           0.0930354148829909,
           0.235632177146084,
           0.204357250316723,
           0.181163131359012,
           0.147759976291133,
           0.116977757195017,
           0.232525432279325,
           0.173409231085526
          ],
          [
           0.0759442551691729,
           0.137821937674907,
           0.0930354148829909,
           0.235632177146084,
           0.204357250316723,
           0.181163131359012,
           0.147759976291133,
           0.116977757195017,
           0.232525432279325,
           0.173409231085526
          ],
          [
           0.0759442551691729,
           0.137821937674907,
           0.0930354148829909,
           0.235632177146084,
           0.204357250316723,
           0.181163131359012,
           0.147759976291133,
           0.116977757195017,
           0.232525432279325,
           0.173409231085526
          ]
         ],
         "y": [
          [
           111.111716480441,
           111.111716480441,
           111.111716480441,
           111.111716480441,
           111.111716480441,
           111.111716480441,
           111.111716480441,
           111.111716480441,
           111.111716480441,
           111.111716480441
          ],
          [
           116.353345265724,
           116.353345265724,
           116.353345265724,
           116.353345265724,
           116.353345265724,
           116.353345265724,
           116.353345265724,
           116.353345265724,
           116.353345265724,
           116.353345265724
          ],
          [
           101.312090449968,
           101.312090449968,
           101.312090449968,
           101.312090449968,
           101.312090449968,
           101.312090449968,
           101.312090449968,
           101.312090449968,
           101.312090449968,
           101.312090449968
          ],
          [
           101.534873965827,
           101.534873965827,
           101.534873965827,
           101.534873965827,
           101.534873965827,
           101.534873965827,
           101.534873965827,
           101.534873965827,
           101.534873965827,
           101.534873965827
          ],
          [
           117.741416962869,
           117.741416962869,
           117.741416962869,
           117.741416962869,
           117.741416962869,
           117.741416962869,
           117.741416962869,
           117.741416962869,
           117.741416962869,
           117.741416962869
          ],
          [
           119.577565453938,
           119.577565453938,
           119.577565453938,
           119.577565453938,
           119.577565453938,
           119.577565453938,
           119.577565453938,
           119.577565453938,
           119.577565453938,
           119.577565453938
          ],
          [
           100.992252773665,
           100.992252773665,
           100.992252773665,
           100.992252773665,
           100.992252773665,
           100.992252773665,
           100.992252773665,
           100.992252773665,
           100.992252773665,
           100.992252773665
          ],
          [
           117.898565521619,
           117.898565521619,
           117.898565521619,
           117.898565521619,
           117.898565521619,
           117.898565521619,
           117.898565521619,
           117.898565521619,
           117.898565521619,
           117.898565521619
          ],
          [
           102.269338478718,
           102.269338478718,
           102.269338478718,
           102.269338478718,
           102.269338478718,
           102.269338478718,
           102.269338478718,
           102.269338478718,
           102.269338478718,
           102.269338478718
          ],
          [
           94.7081174667994,
           94.7081174667994,
           94.7081174667994,
           94.7081174667994,
           94.7081174667994,
           94.7081174667994,
           94.7081174667994,
           94.7081174667994,
           94.7081174667994,
           94.7081174667994
          ]
         ],
         "z": [
          [
           4.589289698450715,
           4.4139680689922995,
           4.540864323597949,
           4.136836640222073,
           4.22544970572284,
           4.291166949240184,
           4.385810047339567,
           4.473027095421109,
           4.145639160780294,
           4.3131365249507745
          ],
          [
           4.526816390560391,
           4.351494761101977,
           4.478391015707626,
           4.0743633323317505,
           4.162976397832518,
           4.228693641349861,
           4.3233367394492435,
           4.410553787530786,
           4.08316585288997,
           4.250663217060452
          ],
          [
           4.706088327138556,
           4.530766697680141,
           4.65766295228579,
           4.253635268909914,
           4.342248334410681,
           4.4079655779280245,
           4.502608676027408,
           4.58982572410895,
           4.262437789468135,
           4.429935153638615
          ],
          [
           4.703433041205636,
           4.528111411747221,
           4.65500766635287,
           4.250979982976995,
           4.339593048477761,
           4.4053102919951055,
           4.499953390094488,
           4.58717043817603,
           4.259782503535215,
           4.427279867705696
          ],
          [
           4.510272405081476,
           4.334950775623062,
           4.461847030228711,
           4.057819346852836,
           4.146432412353603,
           4.212149655870946,
           4.3067927539703295,
           4.394009802051871,
           4.066621867411056,
           4.234119231581537
          ],
          [
           4.488387934678502,
           4.313066305220087,
           4.439962559825736,
           4.035934876449861,
           4.1245479419506275,
           4.190265185467972,
           4.284908283567354,
           4.3721253316488955,
           4.044737397008081,
           4.212234761178562
          ],
          [
           4.709900370769479,
           4.534578741311064,
           4.661474995916714,
           4.257447312540838,
           4.346060378041605,
           4.411777621558948,
           4.5064207196583315,
           4.593637767739873,
           4.266249833099058,
           4.433747197269539
          ],
          [
           4.5083994013459066,
           4.333077771887491,
           4.459974026493141,
           4.055946343117265,
           4.144559408618032,
           4.210276652135375,
           4.304919750234758,
           4.3921367983163,
           4.064748863675485,
           4.232246227845966
          ],
          [
           4.694679192062945,
           4.5193575626045295,
           4.646253817210179,
           4.242226133834304,
           4.33083919933507,
           4.396556442852415,
           4.491199540951797,
           4.578416589033338,
           4.251028654392524,
           4.418526018563005
          ],
          [
           4.784798982619397,
           4.609477353160981,
           4.736373607766631,
           4.332345924390755,
           4.420958989891522,
           4.486676233408866,
           4.581319331508249,
           4.66853637958979,
           4.341148444948976,
           4.508645809119456
          ]
         ]
        }
       ],
       "layout": {
        "annotations": [
         {
          "font": {
           "size": 13
          },
          "showarrow": false,
          "text": "*: p-valor < 0,05    **: p-valor < 0,01",
          "x": 0.07,
          "xref": "paper",
          "y": -0.15,
          "yref": "paper"
         }
        ],
        "legend": {
         "tracegroupgap": 0
        },
        "margin": {
         "t": 60
        },
        "scene": {
         "domain": {
          "x": [
           0,
           1
          ],
          "y": [
           0,
           1
          ]
         },
         "xaxis": {
          "ticktext": [
           "0,11",
           "0,14",
           "0,17",
           "0,20"
          ],
          "tickvals": [
           0.10788183956455513,
           0.13981942395993735,
           0.1717570083553196,
           0.2036945927507018
          ],
          "title": {
           "text": "ZCR"
          }
         },
         "yaxis": {
          "tickvals": [
           100,
           105,
           110,
           115
          ],
          "title": {
           "text": "f₀"
          }
         },
         "zaxis": {
          "range": [
           0,
           6
          ],
          "title": {
           "text": "Pronunciación"
          }
         }
        },
        "template": {
         "data": {
          "bar": [
           {
            "error_x": {
             "color": "#2a3f5f"
            },
            "error_y": {
             "color": "#2a3f5f"
            },
            "marker": {
             "line": {
              "color": "#E5ECF6",
              "width": 0.5
             },
             "pattern": {
              "fillmode": "overlay",
              "size": 10,
              "solidity": 0.2
             }
            },
            "type": "bar"
           }
          ],
          "barpolar": [
           {
            "marker": {
             "line": {
              "color": "#E5ECF6",
              "width": 0.5
             },
             "pattern": {
              "fillmode": "overlay",
              "size": 10,
              "solidity": 0.2
             }
            },
            "type": "barpolar"
           }
          ],
          "carpet": [
           {
            "aaxis": {
             "endlinecolor": "#2a3f5f",
             "gridcolor": "white",
             "linecolor": "white",
             "minorgridcolor": "white",
             "startlinecolor": "#2a3f5f"
            },
            "baxis": {
             "endlinecolor": "#2a3f5f",
             "gridcolor": "white",
             "linecolor": "white",
             "minorgridcolor": "white",
             "startlinecolor": "#2a3f5f"
            },
            "type": "carpet"
           }
          ],
          "choropleth": [
           {
            "colorbar": {
             "outlinewidth": 0,
             "ticks": ""
            },
            "type": "choropleth"
           }
          ],
          "contour": [
           {
            "colorbar": {
             "outlinewidth": 0,
             "ticks": ""
            },
            "colorscale": [
             [
              0,
              "#0d0887"
             ],
             [
              0.1111111111111111,
              "#46039f"
             ],
             [
              0.2222222222222222,
              "#7201a8"
             ],
             [
              0.3333333333333333,
              "#9c179e"
             ],
             [
              0.4444444444444444,
              "#bd3786"
             ],
             [
              0.5555555555555556,
              "#d8576b"
             ],
             [
              0.6666666666666666,
              "#ed7953"
             ],
             [
              0.7777777777777778,
              "#fb9f3a"
             ],
             [
              0.8888888888888888,
              "#fdca26"
             ],
             [
              1,
              "#f0f921"
             ]
            ],
            "type": "contour"
           }
          ],
          "contourcarpet": [
           {
            "colorbar": {
             "outlinewidth": 0,
             "ticks": ""
            },
            "type": "contourcarpet"
           }
          ],
          "heatmap": [
           {
            "colorbar": {
             "outlinewidth": 0,
             "ticks": ""
            },
            "colorscale": [
             [
              0,
              "#0d0887"
             ],
             [
              0.1111111111111111,
              "#46039f"
             ],
             [
              0.2222222222222222,
              "#7201a8"
             ],
             [
              0.3333333333333333,
              "#9c179e"
             ],
             [
              0.4444444444444444,
              "#bd3786"
             ],
             [
              0.5555555555555556,
              "#d8576b"
             ],
             [
              0.6666666666666666,
              "#ed7953"
             ],
             [
              0.7777777777777778,
              "#fb9f3a"
             ],
             [
              0.8888888888888888,
              "#fdca26"
             ],
             [
              1,
              "#f0f921"
             ]
            ],
            "type": "heatmap"
           }
          ],
          "heatmapgl": [
           {
            "colorbar": {
             "outlinewidth": 0,
             "ticks": ""
            },
            "colorscale": [
             [
              0,
              "#0d0887"
             ],
             [
              0.1111111111111111,
              "#46039f"
             ],
             [
              0.2222222222222222,
              "#7201a8"
             ],
             [
              0.3333333333333333,
              "#9c179e"
             ],
             [
              0.4444444444444444,
              "#bd3786"
             ],
             [
              0.5555555555555556,
              "#d8576b"
             ],
             [
              0.6666666666666666,
              "#ed7953"
             ],
             [
              0.7777777777777778,
              "#fb9f3a"
             ],
             [
              0.8888888888888888,
              "#fdca26"
             ],
             [
              1,
              "#f0f921"
             ]
            ],
            "type": "heatmapgl"
           }
          ],
          "histogram": [
           {
            "marker": {
             "pattern": {
              "fillmode": "overlay",
              "size": 10,
              "solidity": 0.2
             }
            },
            "type": "histogram"
           }
          ],
          "histogram2d": [
           {
            "colorbar": {
             "outlinewidth": 0,
             "ticks": ""
            },
            "colorscale": [
             [
              0,
              "#0d0887"
             ],
             [
              0.1111111111111111,
              "#46039f"
             ],
             [
              0.2222222222222222,
              "#7201a8"
             ],
             [
              0.3333333333333333,
              "#9c179e"
             ],
             [
              0.4444444444444444,
              "#bd3786"
             ],
             [
              0.5555555555555556,
              "#d8576b"
             ],
             [
              0.6666666666666666,
              "#ed7953"
             ],
             [
              0.7777777777777778,
              "#fb9f3a"
             ],
             [
              0.8888888888888888,
              "#fdca26"
             ],
             [
              1,
              "#f0f921"
             ]
            ],
            "type": "histogram2d"
           }
          ],
          "histogram2dcontour": [
           {
            "colorbar": {
             "outlinewidth": 0,
             "ticks": ""
            },
            "colorscale": [
             [
              0,
              "#0d0887"
             ],
             [
              0.1111111111111111,
              "#46039f"
             ],
             [
              0.2222222222222222,
              "#7201a8"
             ],
             [
              0.3333333333333333,
              "#9c179e"
             ],
             [
              0.4444444444444444,
              "#bd3786"
             ],
             [
              0.5555555555555556,
              "#d8576b"
             ],
             [
              0.6666666666666666,
              "#ed7953"
             ],
             [
              0.7777777777777778,
              "#fb9f3a"
             ],
             [
              0.8888888888888888,
              "#fdca26"
             ],
             [
              1,
              "#f0f921"
             ]
            ],
            "type": "histogram2dcontour"
           }
          ],
          "mesh3d": [
           {
            "colorbar": {
             "outlinewidth": 0,
             "ticks": ""
            },
            "type": "mesh3d"
           }
          ],
          "parcoords": [
           {
            "line": {
             "colorbar": {
              "outlinewidth": 0,
              "ticks": ""
             }
            },
            "type": "parcoords"
           }
          ],
          "pie": [
           {
            "automargin": true,
            "type": "pie"
           }
          ],
          "scatter": [
           {
            "fillpattern": {
             "fillmode": "overlay",
             "size": 10,
             "solidity": 0.2
            },
            "type": "scatter"
           }
          ],
          "scatter3d": [
           {
            "line": {
             "colorbar": {
              "outlinewidth": 0,
              "ticks": ""
             }
            },
            "marker": {
             "colorbar": {
              "outlinewidth": 0,
              "ticks": ""
             }
            },
            "type": "scatter3d"
           }
          ],
          "scattercarpet": [
           {
            "marker": {
             "colorbar": {
              "outlinewidth": 0,
              "ticks": ""
             }
            },
            "type": "scattercarpet"
           }
          ],
          "scattergeo": [
           {
            "marker": {
             "colorbar": {
              "outlinewidth": 0,
              "ticks": ""
             }
            },
            "type": "scattergeo"
           }
          ],
          "scattergl": [
           {
            "marker": {
             "colorbar": {
              "outlinewidth": 0,
              "ticks": ""
             }
            },
            "type": "scattergl"
           }
          ],
          "scattermapbox": [
           {
            "marker": {
             "colorbar": {
              "outlinewidth": 0,
              "ticks": ""
             }
            },
            "type": "scattermapbox"
           }
          ],
          "scatterpolar": [
           {
            "marker": {
             "colorbar": {
              "outlinewidth": 0,
              "ticks": ""
             }
            },
            "type": "scatterpolar"
           }
          ],
          "scatterpolargl": [
           {
            "marker": {
             "colorbar": {
              "outlinewidth": 0,
              "ticks": ""
             }
            },
            "type": "scatterpolargl"
           }
          ],
          "scatterternary": [
           {
            "marker": {
             "colorbar": {
              "outlinewidth": 0,
              "ticks": ""
             }
            },
            "type": "scatterternary"
           }
          ],
          "surface": [
           {
            "colorbar": {
             "outlinewidth": 0,
             "ticks": ""
            },
            "colorscale": [
             [
              0,
              "#0d0887"
             ],
             [
              0.1111111111111111,
              "#46039f"
             ],
             [
              0.2222222222222222,
              "#7201a8"
             ],
             [
              0.3333333333333333,
              "#9c179e"
             ],
             [
              0.4444444444444444,
              "#bd3786"
             ],
             [
              0.5555555555555556,
              "#d8576b"
             ],
             [
              0.6666666666666666,
              "#ed7953"
             ],
             [
              0.7777777777777778,
              "#fb9f3a"
             ],
             [
              0.8888888888888888,
              "#fdca26"
             ],
             [
              1,
              "#f0f921"
             ]
            ],
            "type": "surface"
           }
          ],
          "table": [
           {
            "cells": {
             "fill": {
              "color": "#EBF0F8"
             },
             "line": {
              "color": "white"
             }
            },
            "header": {
             "fill": {
              "color": "#C8D4E3"
             },
             "line": {
              "color": "white"
             }
            },
            "type": "table"
           }
          ]
         },
         "layout": {
          "annotationdefaults": {
           "arrowcolor": "#2a3f5f",
           "arrowhead": 0,
           "arrowwidth": 1
          },
          "autotypenumbers": "strict",
          "coloraxis": {
           "colorbar": {
            "outlinewidth": 0,
            "ticks": ""
           }
          },
          "colorscale": {
           "diverging": [
            [
             0,
             "#8e0152"
            ],
            [
             0.1,
             "#c51b7d"
            ],
            [
             0.2,
             "#de77ae"
            ],
            [
             0.3,
             "#f1b6da"
            ],
            [
             0.4,
             "#fde0ef"
            ],
            [
             0.5,
             "#f7f7f7"
            ],
            [
             0.6,
             "#e6f5d0"
            ],
            [
             0.7,
             "#b8e186"
            ],
            [
             0.8,
             "#7fbc41"
            ],
            [
             0.9,
             "#4d9221"
            ],
            [
             1,
             "#276419"
            ]
           ],
           "sequential": [
            [
             0,
             "#0d0887"
            ],
            [
             0.1111111111111111,
             "#46039f"
            ],
            [
             0.2222222222222222,
             "#7201a8"
            ],
            [
             0.3333333333333333,
             "#9c179e"
            ],
            [
             0.4444444444444444,
             "#bd3786"
            ],
            [
             0.5555555555555556,
             "#d8576b"
            ],
            [
             0.6666666666666666,
             "#ed7953"
            ],
            [
             0.7777777777777778,
             "#fb9f3a"
            ],
            [
             0.8888888888888888,
             "#fdca26"
            ],
            [
             1,
             "#f0f921"
            ]
           ],
           "sequentialminus": [
            [
             0,
             "#0d0887"
            ],
            [
             0.1111111111111111,
             "#46039f"
            ],
            [
             0.2222222222222222,
             "#7201a8"
            ],
            [
             0.3333333333333333,
             "#9c179e"
            ],
            [
             0.4444444444444444,
             "#bd3786"
            ],
            [
             0.5555555555555556,
             "#d8576b"
            ],
            [
             0.6666666666666666,
             "#ed7953"
            ],
            [
             0.7777777777777778,
             "#fb9f3a"
            ],
            [
             0.8888888888888888,
             "#fdca26"
            ],
            [
             1,
             "#f0f921"
            ]
           ]
          },
          "colorway": [
           "#636efa",
           "#EF553B",
           "#00cc96",
           "#ab63fa",
           "#FFA15A",
           "#19d3f3",
           "#FF6692",
           "#B6E880",
           "#FF97FF",
           "#FECB52"
          ],
          "font": {
           "color": "#2a3f5f"
          },
          "geo": {
           "bgcolor": "white",
           "lakecolor": "white",
           "landcolor": "#E5ECF6",
           "showlakes": true,
           "showland": true,
           "subunitcolor": "white"
          },
          "hoverlabel": {
           "align": "left"
          },
          "hovermode": "closest",
          "mapbox": {
           "style": "light"
          },
          "paper_bgcolor": "white",
          "plot_bgcolor": "#E5ECF6",
          "polar": {
           "angularaxis": {
            "gridcolor": "white",
            "linecolor": "white",
            "ticks": ""
           },
           "bgcolor": "#E5ECF6",
           "radialaxis": {
            "gridcolor": "white",
            "linecolor": "white",
            "ticks": ""
           }
          },
          "scene": {
           "xaxis": {
            "backgroundcolor": "#E5ECF6",
            "gridcolor": "white",
            "gridwidth": 2,
            "linecolor": "white",
            "showbackground": true,
            "ticks": "",
            "zerolinecolor": "white"
           },
           "yaxis": {
            "backgroundcolor": "#E5ECF6",
            "gridcolor": "white",
            "gridwidth": 2,
            "linecolor": "white",
            "showbackground": true,
            "ticks": "",
            "zerolinecolor": "white"
           },
           "zaxis": {
            "backgroundcolor": "#E5ECF6",
            "gridcolor": "white",
            "gridwidth": 2,
            "linecolor": "white",
            "showbackground": true,
            "ticks": "",
            "zerolinecolor": "white"
           }
          },
          "shapedefaults": {
           "line": {
            "color": "#2a3f5f"
           }
          },
          "ternary": {
           "aaxis": {
            "gridcolor": "white",
            "linecolor": "white",
            "ticks": ""
           },
           "baxis": {
            "gridcolor": "white",
            "linecolor": "white",
            "ticks": ""
           },
           "bgcolor": "#E5ECF6",
           "caxis": {
            "gridcolor": "white",
            "linecolor": "white",
            "ticks": ""
           }
          },
          "title": {
           "x": 0.05
          },
          "xaxis": {
           "automargin": true,
           "gridcolor": "white",
           "linecolor": "white",
           "ticks": "",
           "title": {
            "standoff": 15
           },
           "zerolinecolor": "white",
           "zerolinewidth": 2
          },
          "yaxis": {
           "automargin": true,
           "gridcolor": "white",
           "linecolor": "white",
           "ticks": "",
           "title": {
            "standoff": 15
           },
           "zerolinecolor": "white",
           "zerolinewidth": 2
          }
         }
        },
        "title": {
         "text": "z = 6,13 + -2,83 * ZCR <sup>*</sup> + -0,01 * <i>f₀</i>  - R² = 0,676",
         "x": 0.5,
         "xanchor": "center"
        }
       }
      }
     },
     "metadata": {},
     "output_type": "display_data"
    }
   ],
   "source": [
    "if len(dicc_model) == 2:\n",
    "    import plotly.express as px\n",
    "    import plotly.graph_objects as go\n",
    "\n",
    "    # Seleccionamos solo las características seleccionadas en X\n",
    "    X_selected = X[:, selected_features]\n",
    "\n",
    "    # Entrenamos el modelo de regresión con las características seleccionadas\n",
    "    regr_multivar = SMWrapper(sm.OLS)\n",
    "    regr_multivar_fit = regr_multivar.fit(X_selected, y)\n",
    "\n",
    "    # Obtenemos las predicciones del modelo para las características seleccionadas\n",
    "    y_pred = regr_multivar.predict(X_selected)\n",
    "\n",
    "    # Crear la figura\n",
    "    fig = px.scatter_3d(x=X_selected[:, 0], y=X_selected[:, 1], z=y)\n",
    "\n",
    "    # Crear el plano de regresión\n",
    "    xx, yy = np.meshgrid(X_selected[:, 0], X_selected[:, 1])\n",
    "    zz = regr_multivar_fit.params[0] + np.dot(np.array([xx.ravel(), yy.ravel()]).T, regr_multivar_fit.params[1:].ravel()).reshape(xx.shape)\n",
    "    fig.add_trace(go.Surface(x=xx, y=yy, z=zz, opacity=0.5))\n",
    "\n",
    "    axis_name_list = []\n",
    "    # Construir la cadena de texto para la ecuación del plano\n",
    "    equation = f'z = {regr_multivar_fit.params[0].round(2)}'\n",
    "    for i, (key, model) in enumerate(dicc_model.items()):\n",
    "        feature_name = key.replace(\"_model\", \"\").upper()\n",
    "        feature_name_axis = feature_name\n",
    "        if feature_name == 'F0':\n",
    "            feature_name = '<i>f₀</i>'\n",
    "            feature_name_axis = 'f₀'\n",
    "        axis_name_list.append(feature_name_axis)\n",
    "        if regr_multivar_fit.pvalues[1:][i] < 0.01:\n",
    "            label = '<sup>**</sup>'\n",
    "        elif regr_multivar_fit.pvalues[1:][i] < 0.05:\n",
    "            label = '<sup>*</sup>'\n",
    "        else:\n",
    "            label = ''\n",
    "        equation += f' + {regr_multivar_fit.params[1:][i].round(2)} * {feature_name} {label}'\n",
    "        \n",
    "    equation += f' - R² = {r_squared_value:.3f}'\n",
    "    equation = equation.replace('.', ',')\n",
    "    \n",
    "    # Centrar el título\n",
    "    fig.update_layout(title=dict(text=equation, x=0.5, xanchor='center'))\n",
    "    \n",
    "    # Verificar si los valores en el eje x son menores que 1\n",
    "    if np.any(np.abs(X_selected[:, 0]) < 1):\n",
    "        # Calcular los valores de los ticks\n",
    "        xaxis_tickvals = np.linspace(np.min(X_selected[:, 0]), np.max(X_selected[:, 0]), 6)[1:5]\n",
    "\n",
    "        # Convertir los valores de los ticks a strings y reemplazar los puntos por comas\n",
    "        xaxis_ticktext = [f'{val:.2f}'.replace('.', ',') for val in xaxis_tickvals]\n",
    "    else:\n",
    "        # Si los valores en el eje x son mayores o iguales a 1, usar el formato por defecto\n",
    "        xaxis_tickvals = None\n",
    "        xaxis_ticktext = None\n",
    "\n",
    "    # Etiquetas de los ejes y rango del eje z\n",
    "    fig.update_layout(scene=dict(xaxis=dict(title=axis_name_list[0], tickvals=xaxis_tickvals, ticktext=xaxis_ticktext), yaxis_title=axis_name_list[1], zaxis_title='Pronunciación', zaxis=dict(range=[0, 6]), yaxis=dict(tickvals=[100, 105, 110, 115])))\n",
    "    \n",
    "    # Agrega la anotación al final\n",
    "    fig.add_annotation(\n",
    "        x=0.07,\n",
    "        y=-0.15,\n",
    "        xref=\"paper\",\n",
    "        yref=\"paper\",\n",
    "        text=\"*: p-valor < 0,05    **: p-valor < 0,01\",\n",
    "        showarrow=False,\n",
    "        font=dict(\n",
    "            size=13\n",
    "        )\n",
    "    )\n",
    "\n",
    "    fig.write_html(\n",
    "       os.path.join(PATH, TEST_FOLDER, REGGRESSION_FOLDER, PARAMETRIC_FOLDER, PRONUNCIACION_FOLDER, FEMALE_FOLDER, 'regresion_pronunciacion_multivariable_female.html')\n",
    "    )\n",
    "    \n",
    "    fig.write_image(\n",
    "       os.path.join(PATH, TEST_FOLDER, REGGRESSION_FOLDER, PARAMETRIC_FOLDER, PRONUNCIACION_FOLDER, FEMALE_FOLDER, 'regresion_pronunciacion_multivariable_female.png')\n",
    "    )\n",
    "\n",
    "    fig.show()\n"
   ]
  },
  {
   "attachments": {},
   "cell_type": "markdown",
   "id": "f5df2caa",
   "metadata": {
    "papermill": {
     "duration": 0.120582,
     "end_time": "2023-06-11T01:39:12.102404",
     "exception": false,
     "start_time": "2023-06-11T01:39:11.981822",
     "status": "completed"
    },
    "tags": []
   },
   "source": [
    "### Acentuacion"
   ]
  },
  {
   "cell_type": "code",
   "execution_count": 1053,
   "id": "1e0c37ad",
   "metadata": {
    "execution": {
     "iopub.execute_input": "2023-06-11T01:39:12.332710Z",
     "iopub.status.busy": "2023-06-11T01:39:12.331711Z",
     "iopub.status.idle": "2023-06-11T01:39:12.345384Z",
     "shell.execute_reply": "2023-06-11T01:39:12.343383Z"
    },
    "papermill": {
     "duration": 0.14441,
     "end_time": "2023-06-11T01:39:12.349386",
     "exception": false,
     "start_time": "2023-06-11T01:39:12.204976",
     "status": "completed"
    },
    "tags": []
   },
   "outputs": [],
   "source": [
    "df_acentuacion = df_union.loc[:, ['Acentuacion', 'zcr', 'rms', 'f0', 'genero']]"
   ]
  },
  {
   "attachments": {},
   "cell_type": "markdown",
   "id": "5bd2ac35",
   "metadata": {
    "papermill": {
     "duration": 0.12575,
     "end_time": "2023-06-11T01:39:12.578954",
     "exception": false,
     "start_time": "2023-06-11T01:39:12.453204",
     "status": "completed"
    },
    "tags": []
   },
   "source": [
    "#### Masculino"
   ]
  },
  {
   "cell_type": "code",
   "execution_count": 1054,
   "id": "d50a579c",
   "metadata": {
    "execution": {
     "iopub.execute_input": "2023-06-11T01:39:12.789264Z",
     "iopub.status.busy": "2023-06-11T01:39:12.789264Z",
     "iopub.status.idle": "2023-06-11T01:39:12.804981Z",
     "shell.execute_reply": "2023-06-11T01:39:12.804981Z"
    },
    "papermill": {
     "duration": 0.117242,
     "end_time": "2023-06-11T01:39:12.804981",
     "exception": false,
     "start_time": "2023-06-11T01:39:12.687739",
     "status": "completed"
    },
    "tags": []
   },
   "outputs": [],
   "source": [
    "# Lista de p-values\n",
    "p_values = []\n",
    "\n",
    "mask_gender = df_acentuacion.genero == 'masculino'\n",
    "\n",
    "df_acentuacion_male = df_acentuacion[mask_gender].drop(columns=['genero'])"
   ]
  },
  {
   "cell_type": "code",
   "execution_count": 1055,
   "id": "2763d1e4",
   "metadata": {
    "execution": {
     "iopub.execute_input": "2023-06-11T01:39:13.053736Z",
     "iopub.status.busy": "2023-06-11T01:39:13.053736Z",
     "iopub.status.idle": "2023-06-11T01:39:13.147550Z",
     "shell.execute_reply": "2023-06-11T01:39:13.146553Z"
    },
    "papermill": {
     "duration": 0.249461,
     "end_time": "2023-06-11T01:39:13.150549",
     "exception": false,
     "start_time": "2023-06-11T01:39:12.901088",
     "status": "completed"
    },
    "tags": []
   },
   "outputs": [
    {
     "name": "stdout",
     "output_type": "stream",
     "text": [
      "Coeficiente de determinación R^2: 0.6890\n",
      "Shapiro-Wilk p-valor: 0.8480933904647827\n",
      "Durbin-Watson: 2.637199390357284\n",
      "Características seleccionadas: (0,)\n",
      "Característica Seleccionada ZCR: p-valor = 0.0030\n",
      "\n",
      "p-valor global: 0.002955902156710493\n",
      "Ecuación: 5.08 - 8.08*ZCR\n",
      "\n",
      "Característica ZCR: p-valor = 0.0168\n",
      "Característica RMS: p-valor = 0.1353\n",
      "Característica f0: p-valor = 0.3779\n"
     ]
    }
   ],
   "source": [
    "# Cargamos los datos\n",
    "X = np.array(df_acentuacion_male.drop(columns=['Acentuacion'])) # df_objetivos es el DataFrame con los parámetros objetivos\n",
    "y = np.array(df_acentuacion_male.Acentuacion) # df_subjetivos es el DataFrame con los parámetros subjetivos\n",
    "\n",
    "# Creamos el modelo de regresión lineal con el envoltorio\n",
    "regr_multivar = SMWrapper(sm.OLS)\n",
    "\n",
    "# Creamos el selector de características hacia adelante\n",
    "forward_selector = SequentialFeatureSelector(regr_multivar, k_features='best', forward=True, scoring='neg_mean_squared_error')\n",
    "\n",
    "# Entrenamos el selector de características\n",
    "forward_selector.fit(X, y)\n",
    "\n",
    "# Obtenemos las características seleccionadas\n",
    "selected_features = forward_selector.k_feature_idx_\n",
    "\n",
    "# Lógica para rellenar las características no seleccionadas\n",
    "count_features = set(selected_features)\n",
    "total_features = set([0,1,2])\n",
    "missing_features = total_features - count_features\n",
    "\n",
    "for missing_feature in missing_features:\n",
    "    if missing_feature == 0:\n",
    "        dicc_p_value['ZCR'].append(np.nan)\n",
    "    elif missing_feature == 1:\n",
    "        dicc_p_value['RMS'].append(np.nan)\n",
    "    else:\n",
    "        dicc_p_value['f0'].append(np.nan)\n",
    "\n",
    "regr_multivar_fit = regr_multivar.fit(X[:, selected_features], y)\n",
    "\n",
    "# Obtenemos el R^2 del modelo\n",
    "r_squared_value = regr_multivar_fit.rsquared\n",
    "\n",
    "print(f'Coeficiente de determinación R^2: {r_squared_value:.4f}')\n",
    "\n",
    "# Obtenemos los residuos del modelo\n",
    "residuals = y - regr_multivar.predict(X[:, selected_features])\n",
    "\n",
    "# Realizamos la prueba de Shapiro-Wilk\n",
    "shapiro_test = stats.shapiro(residuals)\n",
    "\n",
    "# Imprimimos el resultado de la prueba\n",
    "print('Shapiro-Wilk p-valor:', shapiro_test.pvalue)\n",
    "\n",
    "# Realizamos el test de Durbin-Watson\n",
    "dw_test = durbin_watson(residuals)\n",
    "\n",
    "# Imprimimos el resultado del test\n",
    "print('Durbin-Watson:', dw_test)\n",
    "\n",
    "# Imprimimos las características seleccionadas\n",
    "print('Características seleccionadas:', selected_features)\n",
    "\n",
    "# Imprimimos los p-valores para cada característica seleccionada\n",
    "for feature, pvalue in zip(selected_features, regr_multivar_fit.pvalues[1:]):\n",
    "    \n",
    "    if feature == 0:\n",
    "        feature = 'ZCR'\n",
    "    elif feature == 1:\n",
    "        feature = 'RMS'\n",
    "    else:\n",
    "        feature = 'f0'\n",
    "        \n",
    "    p_values.append(pvalue)\n",
    "    dicc_p_value[feature].append(pvalue)\n",
    "    \n",
    "    print(f'Característica Seleccionada {feature}: p-valor = {pvalue:.4f}')\n",
    "\n",
    "print()\n",
    "\n",
    "# Imprimimos el p-valor global\n",
    "print('p-valor global:', regr_multivar_fit.f_pvalue)\n",
    "\n",
    "features = {\n",
    "    1: 'ZCR',\n",
    "    2: 'RMS',\n",
    "    3: 'f0'\n",
    "}\n",
    "\n",
    "# Imprimimos la ecuación resultante\n",
    "equation = \"Ecuación: \"\n",
    "for i, coef in enumerate(regr_multivar_fit.params):\n",
    "    if i == 0:\n",
    "        equation += f\"{coef:.2f}\"\n",
    "    else:\n",
    "        if coef < 0:\n",
    "            equation += f\" - {-coef:.2f}*{features[i]}\"\n",
    "        else:\n",
    "            equation += f\" + {coef:.2f}*{features[i]}\"\n",
    "print(equation)\n",
    "\n",
    "print()\n",
    "# Creamos el modelo OLS (mínimos cuadrados ordinarios) y lo ajustamos a los datos\n",
    "results = regr_multivar.fit(X, y)\n",
    "\n",
    "# Imprimimos los p-valores para cada característica seleccionada\n",
    "for feature, pvalue in zip(list(range(X.shape[1])), results.pvalues[1:]):\n",
    "\n",
    "    if feature == 0:\n",
    "        feature = 'ZCR'\n",
    "    elif feature == 1:\n",
    "        feature = 'RMS'\n",
    "    else:\n",
    "        feature = 'f0'\n",
    "    \n",
    "    print(f'Característica {feature}: p-valor = {pvalue:.4f}')\n",
    "\n",
    "\n",
    "dicc_p_value['subjetive_parameter'].append('Acentuación')\n",
    "dicc_p_value['genero'].append('masculino')\n",
    "dicc_p_value['selected_features'].append(list(selected_features))\n",
    "dicc_p_value['shapiro_wilk_test'].append(shapiro_test.pvalue)\n",
    "\n",
    "# Almacenamos los resultados en el diccionario\n",
    "dicc_dw[\"Dublin-Watson Test\"].append(dw_test)\n",
    "dicc_dw[\"Parametro subjetivo\"].append('Acentuación')\n",
    "dicc_dw[\"Genero\"].append('masculino')\n"
   ]
  },
  {
   "cell_type": "code",
   "execution_count": 1056,
   "id": "beb71f07",
   "metadata": {
    "execution": {
     "iopub.execute_input": "2023-06-11T01:39:33.289632Z",
     "iopub.status.busy": "2023-06-11T01:39:33.289632Z",
     "iopub.status.idle": "2023-06-11T01:39:33.305459Z",
     "shell.execute_reply": "2023-06-11T01:39:33.305459Z"
    },
    "papermill": {
     "duration": 0.120785,
     "end_time": "2023-06-11T01:39:33.305459",
     "exception": false,
     "start_time": "2023-06-11T01:39:33.184674",
     "status": "completed"
    },
    "tags": []
   },
   "outputs": [],
   "source": [
    "# Dicc auxiliar con los nombres asociadas a las variables\n",
    "dicc_names_features = {\n",
    "    'zcr_model': 0,\n",
    "    'rms_model': 1,\n",
    "    'f0_model': 2\n",
    "}\n",
    "\n",
    "# Dicc de los modelos\n",
    "dicc_model = {}\n",
    "\n",
    "# Dicc de las predicciones\n",
    "dicc_pred = {}\n",
    "\n",
    "for selected_feature in selected_features:\n",
    "    # Entrenamos el modelo de regresión con las características seleccionadas\n",
    "    regr_multivar = SMWrapper(sm.OLS)\n",
    "    regr_multivar_fit = regr_multivar.fit(X[:, selected_feature].reshape(-1, 1), y.ravel())\n",
    "\n",
    "    # Almacenamos en dicc_model la clave asociada al modelo que se entrenó y el objeto modelo\n",
    "    for key, value in dicc_names_features.items():\n",
    "        if value == selected_feature:\n",
    "            dicc_model[key] = regr_multivar_fit\n",
    "\n",
    "    # Obtenemos las predicciones del modelo para las características seleccionadas\n",
    "    y_pred = regr_multivar.predict(X[:, selected_feature].reshape(-1, 1))\n",
    "\n",
    "    # Almacenamos en dicc_pred la clave asociada al modelo que se entrenó y la predicción\n",
    "    for key, value in dicc_names_features.items():\n",
    "        if value == selected_feature:\n",
    "            dicc_pred[key] = y_pred\n"
   ]
  },
  {
   "cell_type": "code",
   "execution_count": 1057,
   "id": "324fada1",
   "metadata": {
    "execution": {
     "iopub.execute_input": "2023-06-11T01:39:33.488650Z",
     "iopub.status.busy": "2023-06-11T01:39:33.488650Z",
     "iopub.status.idle": "2023-06-11T01:39:33.504478Z",
     "shell.execute_reply": "2023-06-11T01:39:33.504478Z"
    },
    "papermill": {
     "duration": 0.12105,
     "end_time": "2023-06-11T01:39:33.504478",
     "exception": false,
     "start_time": "2023-06-11T01:39:33.383428",
     "status": "completed"
    },
    "tags": []
   },
   "outputs": [
    {
     "name": "stdout",
     "output_type": "stream",
     "text": [
      "y = -8,08 * ZCR$^{**}$ + 5,08 - R$^2$ = 0,689\n"
     ]
    }
   ],
   "source": [
    "list_equ = []\n",
    "\n",
    "for idx, (key, model) in enumerate(dicc_model.items()):\n",
    "    # Obtenemos los valores de w y b\n",
    "    w = model.params[1:][0]\n",
    "    b = model.params[0]\n",
    "    r_squared = model.rsquared\n",
    "    \n",
    "    label = key.replace(\"_model\", \"\")\n",
    "    if label == 'f0':\n",
    "        label = r'$f_{0}$'\n",
    "    else:\n",
    "        label = label.upper()\n",
    "\n",
    "    # Verificamos el valor de p y agregamos el superíndice correspondiente\n",
    "    if p_values[idx] < 0.01:\n",
    "        label += '$^{**}$'\n",
    "    elif p_values[idx] < 0.05:\n",
    "        label += '$^{*}$'\n",
    "\n",
    "    if len(dicc_model) == 1:\n",
    "        # Construimos la cadena de texto para la ecuación del hiperplano y su p-valor\n",
    "        equation = f'y = {w.round(2)} * {label} + {b.round(2)} - R$^2$ = {r_squared:.3f}'\n",
    "    else:\n",
    "        equation = f'y = {w.round(2)} * {label} + {b.round(2)}'\n",
    "\n",
    "    equation = equation.replace('.', ',')\n",
    "    # Agregamos la cadena a la lista\n",
    "    list_equ.append(equation)\n",
    "\n",
    "# Mostramos el resultado\n",
    "for equ in list_equ:\n",
    "    print(equ)"
   ]
  },
  {
   "cell_type": "code",
   "execution_count": 1058,
   "id": "42ab5a74",
   "metadata": {
    "execution": {
     "iopub.execute_input": "2023-06-11T01:39:33.724895Z",
     "iopub.status.busy": "2023-06-11T01:39:33.723891Z",
     "iopub.status.idle": "2023-06-11T01:39:34.138928Z",
     "shell.execute_reply": "2023-06-11T01:39:34.138928Z"
    },
    "papermill": {
     "duration": 0.541028,
     "end_time": "2023-06-11T01:39:34.138928",
     "exception": false,
     "start_time": "2023-06-11T01:39:33.597900",
     "status": "completed"
    },
    "tags": []
   },
   "outputs": [
    {
     "data": {
      "image/png": "[encoded data removed]",
      "text/plain": [
       "<Figure size 600x400 with 1 Axes>"
      ]
     },
     "metadata": {},
     "output_type": "display_data"
    }
   ],
   "source": [
    "dims = (6 * len(dicc_model), 4)\n",
    "fig, ax = plt.subplots(figsize=dims, ncols=len(dicc_model))\n",
    "\n",
    "with sns.axes_style('darkgrid'):\n",
    "    for i, (key, model) in enumerate(dicc_model.items()):\n",
    "        if isinstance(ax, np.ndarray):\n",
    "            ax_i = ax[i]\n",
    "        else:\n",
    "            ax_i = ax\n",
    "        label = key.replace(\"_model\", \"\")\n",
    "        if label == 'f0':\n",
    "            label = r'$f_{0}$'\n",
    "        else:\n",
    "            label = label.upper()\n",
    "        g = sns.scatterplot(x=X[:, dicc_names_features[key]], y=y, ax=ax_i, color='blue')\n",
    "        g = sns.lineplot(x=X[:, dicc_names_features[key]], y=dicc_pred[key], ax=ax_i, color='red')\n",
    "        g.text(0.5, -0.1, label, weight='bold', size='large', family='Arial', stretch='extra-expanded', ha='center', va='top', transform=g.transAxes)\n",
    "        g.set_ylabel('Acentuación', weight='bold', size='large', alpha=0.8, family='Arial', stretch='extra-expanded')\n",
    "        g.set_title(list_equ[i], weight='bold', size='x-large', alpha=0.8, family='Arial', stretch='extra-expanded')\n",
    "        g.grid(alpha=0.7)\n",
    "        ax_i.set_ylim(0, 6)\n",
    "        \n",
    "        # Verificar si los valores en el eje x son menores que 1\n",
    "        if np.any(np.abs(X[:, dicc_names_features[key]]) < 1):\n",
    "            # Crear el formateador\n",
    "            formatter = ticker.FuncFormatter(format_decimal)\n",
    "\n",
    "            # Usar el formateador en el eje x de tus gráficos\n",
    "            ax_i.xaxis.set_major_formatter(formatter)\n",
    "\n",
    "    plt.tight_layout()\n",
    "    plt.figtext(0.02, 0.01, '*: p-valor < 0,05    **: p-valor < 0,01', fontsize=9)\n",
    "    plt.savefig(os.path.join(PATH, TEST_FOLDER, REGGRESSION_FOLDER, PARAMETRIC_FOLDER, ACENTUACION_FOLDER, MALE_FOLDER, 'regresiones_acentuacion_male.png'))\n",
    "    plt.show()\n"
   ]
  },
  {
   "cell_type": "code",
   "execution_count": 1059,
   "id": "a2d1c79f",
   "metadata": {
    "execution": {
     "iopub.execute_input": "2023-06-11T01:39:34.324185Z",
     "iopub.status.busy": "2023-06-11T01:39:34.324185Z",
     "iopub.status.idle": "2023-06-11T01:39:34.355467Z",
     "shell.execute_reply": "2023-06-11T01:39:34.355467Z"
    },
    "papermill": {
     "duration": 0.116792,
     "end_time": "2023-06-11T01:39:34.355467",
     "exception": false,
     "start_time": "2023-06-11T01:39:34.238675",
     "status": "completed"
    },
    "tags": []
   },
   "outputs": [],
   "source": [
    "if len(dicc_model) == 2:\n",
    "    import plotly.express as px\n",
    "    import plotly.graph_objects as go\n",
    "\n",
    "    # Seleccionamos solo las características seleccionadas en X\n",
    "    X_selected = X[:, selected_features]\n",
    "\n",
    "    # Entrenamos el modelo de regresión con las características seleccionadas\n",
    "    regr_multivar = SMWrapper(sm.OLS)\n",
    "    regr_multivar_fit = regr_multivar.fit(X_selected, y)\n",
    "\n",
    "    # Obtenemos las predicciones del modelo para las características seleccionadas\n",
    "    y_pred = regr_multivar.predict(X_selected)\n",
    "\n",
    "    # Crear la figura\n",
    "    fig = px.scatter_3d(x=X_selected[:, 0], y=X_selected[:, 1], z=y)\n",
    "\n",
    "    # Crear el plano de regresión\n",
    "    xx, yy = np.meshgrid(X_selected[:, 0], X_selected[:, 1])\n",
    "    zz = regr_multivar_fit.params[0] + np.dot(np.array([xx.ravel(), yy.ravel()]).T, regr_multivar_fit.params[1:].ravel()).reshape(xx.shape)\n",
    "    fig.add_trace(go.Surface(x=xx, y=yy, z=zz, opacity=0.5))\n",
    "\n",
    "    axis_name_list = []\n",
    "    # Construir la cadena de texto para la ecuación del plano\n",
    "    equation = f'z = {regr_multivar_fit.params[0].round(2)}'\n",
    "    for i, (key, model) in enumerate(dicc_model.items()):\n",
    "        feature_name = key.replace(\"_model\", \"\").upper()\n",
    "        feature_name_axis = feature_name\n",
    "        if feature_name == 'F0':\n",
    "            feature_name = '<i>f₀</i>'\n",
    "            feature_name_axis = 'f₀'\n",
    "        axis_name_list.append(feature_name_axis)\n",
    "        if regr_multivar_fit.pvalues[1:][i] < 0.01:\n",
    "            label = '<sup>**</sup>'\n",
    "        elif regr_multivar_fit.pvalues[1:][i] < 0.05:\n",
    "            label = '<sup>*</sup>'\n",
    "        else:\n",
    "            label = ''\n",
    "        equation += f' + {regr_multivar_fit.params[1:][i].round(2)} * {feature_name} {label}'\n",
    "        \n",
    "    equation += f' - R² = {r_squared_value:.3f}'\n",
    "    equation = equation.replace('.', ',')\n",
    "    \n",
    "    # Centrar el título\n",
    "    fig.update_layout(title=dict(text=equation, x=0.5, xanchor='center'))\n",
    "    \n",
    "    # Verificar si los valores en el eje x son menores que 1\n",
    "    if np.any(np.abs(X_selected[:, 0]) < 1):\n",
    "        # Calcular los valores de los ticks\n",
    "        xaxis_tickvals = np.linspace(np.min(X_selected[:, 0]), np.max(X_selected[:, 0]), 6)[1:5]\n",
    "\n",
    "        # Convertir los valores de los ticks a strings y reemplazar los puntos por comas\n",
    "        xaxis_ticktext = [f'{val:.2f}'.replace('.', ',') for val in xaxis_tickvals]\n",
    "    else:\n",
    "        # Si los valores en el eje x son mayores o iguales a 1, usar el formato por defecto\n",
    "        xaxis_tickvals = None\n",
    "        xaxis_ticktext = None\n",
    "\n",
    "    # Etiquetas de los ejes y rango del eje z\n",
    "    fig.update_layout(scene=dict(xaxis=dict(title=axis_name_list[0], tickvals=xaxis_tickvals, ticktext=xaxis_ticktext), yaxis_title=axis_name_list[1], zaxis_title='Acentuación', zaxis=dict(range=[0, 6])))\n",
    "    \n",
    "    # Agrega la anotación al final\n",
    "    fig.add_annotation(\n",
    "        x=0.07,\n",
    "        y=-0.15,\n",
    "        xref=\"paper\",\n",
    "        yref=\"paper\",\n",
    "        text=\"*: p-valor < 0,05    **: p-valor < 0,01\",\n",
    "        showarrow=False,\n",
    "        font=dict(\n",
    "            size=13\n",
    "        )\n",
    "    )\n",
    "\n",
    "    fig.write_html(\n",
    "       os.path.join(PATH, TEST_FOLDER, REGGRESSION_FOLDER, PARAMETRIC_FOLDER, ACENTUACION_FOLDER, MALE_FOLDER, 'regresion_acentuacion_multivariable_male.html')\n",
    "    )\n",
    "    \n",
    "    fig.write_image(\n",
    "       os.path.join(PATH, TEST_FOLDER, REGGRESSION_FOLDER, PARAMETRIC_FOLDER, ACENTUACION_FOLDER, MALE_FOLDER, 'regresion_acentuacion_multivariable_male.png')\n",
    "    )\n",
    "\n",
    "    fig.show()\n"
   ]
  },
  {
   "attachments": {},
   "cell_type": "markdown",
   "id": "aed96fb8",
   "metadata": {
    "papermill": {
     "duration": 0.099476,
     "end_time": "2023-06-11T01:39:34.540345",
     "exception": false,
     "start_time": "2023-06-11T01:39:34.440869",
     "status": "completed"
    },
    "tags": []
   },
   "source": [
    "#### Femenino"
   ]
  },
  {
   "cell_type": "code",
   "execution_count": 1060,
   "id": "4d40234e",
   "metadata": {
    "execution": {
     "iopub.execute_input": "2023-06-11T01:39:34.740368Z",
     "iopub.status.busy": "2023-06-11T01:39:34.740368Z",
     "iopub.status.idle": "2023-06-11T01:39:34.755994Z",
     "shell.execute_reply": "2023-06-11T01:39:34.755994Z"
    },
    "papermill": {
     "duration": 0.116826,
     "end_time": "2023-06-11T01:39:34.755994",
     "exception": false,
     "start_time": "2023-06-11T01:39:34.639168",
     "status": "completed"
    },
    "tags": []
   },
   "outputs": [],
   "source": [
    "# Lista de p-values\n",
    "p_values = []\n",
    "\n",
    "mask_gender = df_acentuacion.genero == 'femenino'\n",
    "\n",
    "df_acentuacion_female = df_acentuacion[mask_gender].drop(columns=['genero'])"
   ]
  },
  {
   "cell_type": "code",
   "execution_count": 1061,
   "id": "8d8faced",
   "metadata": {
    "execution": {
     "iopub.execute_input": "2023-06-11T01:39:35.004661Z",
     "iopub.status.busy": "2023-06-11T01:39:35.004661Z",
     "iopub.status.idle": "2023-06-11T01:39:35.332231Z",
     "shell.execute_reply": "2023-06-11T01:39:35.300937Z"
    },
    "papermill": {
     "duration": 0.479287,
     "end_time": "2023-06-11T01:39:35.332231",
     "exception": false,
     "start_time": "2023-06-11T01:39:34.852944",
     "status": "completed"
    },
    "tags": []
   },
   "outputs": [
    {
     "name": "stdout",
     "output_type": "stream",
     "text": [
      "Coeficiente de determinación R^2: 0.5348\n",
      "Shapiro-Wilk p-valor: 0.9564486742019653\n",
      "Durbin-Watson: 1.902658671445973\n",
      "Características seleccionadas: (1, 2)\n",
      "Característica Seleccionada RMS: p-valor = 0.0521\n",
      "Característica Seleccionada f0: p-valor = 0.1067\n",
      "\n",
      "p-valor global: 0.06867595963202278\n",
      "Ecuación: 12.44 + 0.20*ZCR - 0.03*RMS\n",
      "\n",
      "Característica ZCR: p-valor = 0.4835\n",
      "Característica RMS: p-valor = 0.3797\n",
      "Característica f0: p-valor = 0.1105\n"
     ]
    }
   ],
   "source": [
    "# Cargamos los datos\n",
    "X = np.array(df_acentuacion_female.drop(columns=['Acentuacion'])) # df_objetivos es el DataFrame con los parámetros objetivos\n",
    "y = np.array(df_acentuacion_female.Acentuacion) # df_subjetivos es el DataFrame con los parámetros subjetivos\n",
    "\n",
    "# Creamos el modelo de regresión lineal con el envoltorio\n",
    "regr_multivar = SMWrapper(sm.OLS)\n",
    "\n",
    "# Creamos el selector de características hacia adelante\n",
    "forward_selector = SequentialFeatureSelector(regr_multivar, k_features='best', forward=True, scoring='neg_mean_squared_error')\n",
    "\n",
    "# Entrenamos el selector de características\n",
    "forward_selector.fit(X, y)\n",
    "\n",
    "# Obtenemos las características seleccionadas\n",
    "selected_features = forward_selector.k_feature_idx_\n",
    "\n",
    "# Lógica para rellenar las características no seleccionadas\n",
    "count_features = set(selected_features)\n",
    "total_features = set([0,1,2])\n",
    "missing_features = total_features - count_features\n",
    "\n",
    "for missing_feature in missing_features:\n",
    "    if missing_feature == 0:\n",
    "        dicc_p_value['ZCR'].append(np.nan)\n",
    "    elif missing_feature == 1:\n",
    "        dicc_p_value['RMS'].append(np.nan)\n",
    "    else:\n",
    "        dicc_p_value['f0'].append(np.nan)\n",
    "\n",
    "regr_multivar_fit = regr_multivar.fit(X[:, selected_features], y)\n",
    "\n",
    "# Obtenemos el R^2 del modelo\n",
    "r_squared_value = regr_multivar_fit.rsquared\n",
    "\n",
    "print(f'Coeficiente de determinación R^2: {r_squared_value:.4f}')\n",
    "\n",
    "# Obtenemos los residuos del modelo\n",
    "residuals = y - regr_multivar.predict(X[:, selected_features])\n",
    "\n",
    "# Realizamos la prueba de Shapiro-Wilk\n",
    "shapiro_test = stats.shapiro(residuals)\n",
    "\n",
    "# Imprimimos el resultado de la prueba\n",
    "print('Shapiro-Wilk p-valor:', shapiro_test.pvalue)\n",
    "\n",
    "# Realizamos el test de Durbin-Watson\n",
    "dw_test = durbin_watson(residuals)\n",
    "\n",
    "# Imprimimos el resultado del test\n",
    "print('Durbin-Watson:', dw_test)\n",
    "\n",
    "# Imprimimos las características seleccionadas\n",
    "print('Características seleccionadas:', selected_features)\n",
    "\n",
    "# Imprimimos los p-valores para cada característica seleccionada\n",
    "for feature, pvalue in zip(selected_features, regr_multivar_fit.pvalues[1:]):\n",
    "    \n",
    "    if feature == 0:\n",
    "        feature = 'ZCR'\n",
    "    elif feature == 1:\n",
    "        feature = 'RMS'\n",
    "    else:\n",
    "        feature = 'f0'\n",
    "        \n",
    "    p_values.append(pvalue)\n",
    "    dicc_p_value[feature].append(pvalue)\n",
    "    \n",
    "    print(f'Característica Seleccionada {feature}: p-valor = {pvalue:.4f}')\n",
    "\n",
    "print()\n",
    "\n",
    "# Imprimimos el p-valor global\n",
    "print('p-valor global:', regr_multivar_fit.f_pvalue)\n",
    "\n",
    "features = {\n",
    "    1: 'ZCR',\n",
    "    2: 'RMS',\n",
    "    3: 'f0'\n",
    "}\n",
    "\n",
    "# Imprimimos la ecuación resultante\n",
    "equation = \"Ecuación: \"\n",
    "for i, coef in enumerate(regr_multivar_fit.params):\n",
    "    if i == 0:\n",
    "        equation += f\"{coef:.2f}\"\n",
    "    else:\n",
    "        if coef < 0:\n",
    "            equation += f\" - {-coef:.2f}*{features[i]}\"\n",
    "        else:\n",
    "            equation += f\" + {coef:.2f}*{features[i]}\"\n",
    "print(equation)\n",
    "\n",
    "print()\n",
    "# Creamos el modelo OLS (mínimos cuadrados ordinarios) y lo ajustamos a los datos\n",
    "results = regr_multivar.fit(X, y)\n",
    "\n",
    "# Imprimimos los p-valores para cada característica seleccionada\n",
    "for feature, pvalue in zip(list(range(X.shape[1])), results.pvalues[1:]):\n",
    "\n",
    "    if feature == 0:\n",
    "        feature = 'ZCR'\n",
    "    elif feature == 1:\n",
    "        feature = 'RMS'\n",
    "    else:\n",
    "        feature = 'f0'\n",
    "    \n",
    "    print(f'Característica {feature}: p-valor = {pvalue:.4f}')\n",
    "\n",
    "dicc_p_value['subjetive_parameter'].append('Acentuación')\n",
    "dicc_p_value['genero'].append('femenino')\n",
    "dicc_p_value['selected_features'].append(list(selected_features))\n",
    "dicc_p_value['shapiro_wilk_test'].append(shapiro_test.pvalue)\n",
    "\n",
    "# Almacenamos los resultados en el diccionario\n",
    "dicc_dw[\"Dublin-Watson Test\"].append(dw_test)\n",
    "dicc_dw[\"Parametro subjetivo\"].append('Acentuación')\n",
    "dicc_dw[\"Genero\"].append('femenino')\n"
   ]
  },
  {
   "cell_type": "code",
   "execution_count": 1062,
   "id": "c3e0667b",
   "metadata": {
    "execution": {
     "iopub.execute_input": "2023-06-11T01:39:55.204544Z",
     "iopub.status.busy": "2023-06-11T01:39:55.203544Z",
     "iopub.status.idle": "2023-06-11T01:39:55.229608Z",
     "shell.execute_reply": "2023-06-11T01:39:55.227700Z"
    },
    "papermill": {
     "duration": 0.131106,
     "end_time": "2023-06-11T01:39:55.232652",
     "exception": false,
     "start_time": "2023-06-11T01:39:55.101546",
     "status": "completed"
    },
    "tags": []
   },
   "outputs": [],
   "source": [
    "# Dicc auxiliar con los nombres asociadas a las variables\n",
    "dicc_names_features = {\n",
    "    'zcr_model': 0,\n",
    "    'rms_model': 1,\n",
    "    'f0_model': 2\n",
    "}\n",
    "\n",
    "# Dicc de los modelos\n",
    "dicc_model = {}\n",
    "\n",
    "# Dicc de las predicciones\n",
    "dicc_pred = {}\n",
    "\n",
    "for selected_feature in selected_features:\n",
    "    # Entrenamos el modelo de regresión con las características seleccionadas\n",
    "    regr_multivar = SMWrapper(sm.OLS)\n",
    "    regr_multivar_fit = regr_multivar.fit(X[:, selected_feature].reshape(-1, 1), y.ravel())\n",
    "\n",
    "    # Almacenamos en dicc_model la clave asociada al modelo que se entrenó y el objeto modelo\n",
    "    for key, value in dicc_names_features.items():\n",
    "        if value == selected_feature:\n",
    "            dicc_model[key] = regr_multivar_fit\n",
    "\n",
    "    # Obtenemos las predicciones del modelo para las características seleccionadas\n",
    "    y_pred = regr_multivar.predict(X[:, selected_feature].reshape(-1, 1))\n",
    "\n",
    "    # Almacenamos en dicc_pred la clave asociada al modelo que se entrenó y la predicción\n",
    "    for key, value in dicc_names_features.items():\n",
    "        if value == selected_feature:\n",
    "            dicc_pred[key] = y_pred\n"
   ]
  },
  {
   "cell_type": "code",
   "execution_count": 1063,
   "id": "ba02adb5",
   "metadata": {
    "execution": {
     "iopub.execute_input": "2023-06-11T01:39:55.417533Z",
     "iopub.status.busy": "2023-06-11T01:39:55.417533Z",
     "iopub.status.idle": "2023-06-11T01:39:55.435209Z",
     "shell.execute_reply": "2023-06-11T01:39:55.433260Z"
    },
    "papermill": {
     "duration": 0.114409,
     "end_time": "2023-06-11T01:39:55.438231",
     "exception": false,
     "start_time": "2023-06-11T01:39:55.323822",
     "status": "completed"
    },
    "tags": []
   },
   "outputs": [
    {
     "name": "stdout",
     "output_type": "stream",
     "text": [
      "y = 0,18 * RMS + 9,16\n",
      "y = -0,02 * $f_{0}$ + 6,52\n"
     ]
    }
   ],
   "source": [
    "list_equ = []\n",
    "\n",
    "for idx, (key, model) in enumerate(dicc_model.items()):\n",
    "    # Obtenemos los valores de w y b\n",
    "    w = model.params[1:][0]\n",
    "    b = model.params[0]\n",
    "    r_squared = model.rsquared\n",
    "    \n",
    "    label = key.replace(\"_model\", \"\")\n",
    "    if label == 'f0':\n",
    "        label = r'$f_{0}$'\n",
    "    else:\n",
    "        label = label.upper()\n",
    "\n",
    "    # Verificamos el valor de p y agregamos el superíndice correspondiente\n",
    "    if p_values[idx] < 0.01:\n",
    "        label += '$^{**}$'\n",
    "    elif p_values[idx] < 0.05:\n",
    "        label += '$^{*}$'\n",
    "\n",
    "    if len(dicc_model) == 1:\n",
    "        # Construimos la cadena de texto para la ecuación del hiperplano y su p-valor\n",
    "        equation = f'y = {w.round(2)} * {label} + {b.round(2)} - R$^2$ = {r_squared:.3f}'\n",
    "    else:\n",
    "        equation = f'y = {w.round(2)} * {label} + {b.round(2)}'\n",
    "\n",
    "    equation = equation.replace('.', ',')\n",
    "    # Agregamos la cadena a la lista\n",
    "    list_equ.append(equation)\n",
    "\n",
    "# Mostramos el resultado\n",
    "for equ in list_equ:\n",
    "    print(equ)"
   ]
  },
  {
   "cell_type": "code",
   "execution_count": 1064,
   "id": "0b6cab5d",
   "metadata": {
    "execution": {
     "iopub.execute_input": "2023-06-11T01:39:55.633240Z",
     "iopub.status.busy": "2023-06-11T01:39:55.633240Z",
     "iopub.status.idle": "2023-06-11T01:39:56.460115Z",
     "shell.execute_reply": "2023-06-11T01:39:56.460115Z"
    },
    "papermill": {
     "duration": 0.92063,
     "end_time": "2023-06-11T01:39:56.460115",
     "exception": false,
     "start_time": "2023-06-11T01:39:55.539485",
     "status": "completed"
    },
    "tags": []
   },
   "outputs": [
    {
     "data": {
      "image/png": "[encoded data removed]",
      "text/plain": [
       "<Figure size 1200x400 with 2 Axes>"
      ]
     },
     "metadata": {},
     "output_type": "display_data"
    }
   ],
   "source": [
    "dims = (6 * len(dicc_model), 4)\n",
    "fig, ax = plt.subplots(figsize=dims, ncols=len(dicc_model))\n",
    "\n",
    "with sns.axes_style('darkgrid'):\n",
    "    for i, (key, model) in enumerate(dicc_model.items()):\n",
    "        if isinstance(ax, np.ndarray):\n",
    "            ax_i = ax[i]\n",
    "        else:\n",
    "            ax_i = ax\n",
    "        label = key.replace(\"_model\", \"\")\n",
    "        if label == 'f0':\n",
    "            label = r'$f_{0}$'\n",
    "        else:\n",
    "            label = label.upper()\n",
    "        g = sns.scatterplot(x=X[:, dicc_names_features[key]], y=y, ax=ax_i, color='blue')\n",
    "        g = sns.lineplot(x=X[:, dicc_names_features[key]], y=dicc_pred[key], ax=ax_i, color='red')\n",
    "        g.text(0.5, -0.1, label, weight='bold', size='large', family='Arial', stretch='extra-expanded', ha='center', va='top', transform=g.transAxes)\n",
    "        g.set_ylabel('Acentuación', weight='bold', size='large', alpha=0.8, family='Arial', stretch='extra-expanded')\n",
    "        g.set_title(list_equ[i], weight='bold', size='x-large', alpha=0.8, family='Arial', stretch='extra-expanded')\n",
    "        g.grid(alpha=0.7)\n",
    "        ax_i.set_ylim(0, 6)\n",
    "        \n",
    "        # Verificar si los valores en el eje x son menores que 1\n",
    "        if np.any(np.abs(X[:, dicc_names_features[key]]) < 1):\n",
    "            # Crear el formateador\n",
    "            formatter = ticker.FuncFormatter(format_decimal)\n",
    "\n",
    "            # Usar el formateador en el eje x de tus gráficos\n",
    "            ax_i.xaxis.set_major_formatter(formatter)\n",
    "\n",
    "    plt.tight_layout()\n",
    "    plt.figtext(0.02, 0.01, '*: p-valor < 0,05    **: p-valor < 0,01', fontsize=9)\n",
    "    plt.savefig(os.path.join(PATH, TEST_FOLDER, REGGRESSION_FOLDER, PARAMETRIC_FOLDER, ACENTUACION_FOLDER, FEMALE_FOLDER, 'regresiones_acentuacion_female.png'))\n",
    "    plt.show()\n"
   ]
  },
  {
   "cell_type": "code",
   "execution_count": 1065,
   "id": "87975b39",
   "metadata": {
    "execution": {
     "iopub.execute_input": "2023-06-11T01:39:56.642090Z",
     "iopub.status.busy": "2023-06-11T01:39:56.642090Z",
     "iopub.status.idle": "2023-06-11T01:39:56.767298Z",
     "shell.execute_reply": "2023-06-11T01:39:56.767298Z"
    },
    "papermill": {
     "duration": 0.211526,
     "end_time": "2023-06-11T01:39:56.767298",
     "exception": false,
     "start_time": "2023-06-11T01:39:56.555772",
     "status": "completed"
    },
    "tags": []
   },
   "outputs": [
    {
     "data": {
      "application/vnd.plotly.v1+json": {
       "config": {
        "plotlyServerURL": "https://plot.ly"
       },
       "data": [
        {
         "hovertemplate": "x=%{x}<br>y=%{y}<br>z=%{z}<extra></extra>",
         "legendgroup": "",
         "marker": {
          "color": "#636efa",
          "symbol": "circle"
         },
         "mode": "markers",
         "name": "",
         "scene": "scene",
         "showlegend": false,
         "type": "scatter3d",
         "x": [
          -27.5,
          -26.1,
          -27,
          -30,
          -29,
          -28.5,
          -25.5,
          -26.5,
          -29.5,
          -28
         ],
         "y": [
          111.111716480441,
          116.353345265724,
          101.312090449968,
          101.534873965827,
          117.741416962869,
          119.577565453938,
          100.992252773665,
          117.898565521619,
          102.269338478718,
          94.7081174667994
         ],
         "z": [
          4.602941176470588,
          4.294117647058823,
          4.161764705882353,
          3.632352941176471,
          3.014705882352941,
          4.0588235294117645,
          4.632352941176471,
          3.8676470588235294,
          4.117647058823529,
          4.514705882352941
         ]
        },
        {
         "opacity": 0.5,
         "type": "surface",
         "x": [
          [
           -27.5,
           -26.1,
           -27,
           -30,
           -29,
           -28.5,
           -25.5,
           -26.5,
           -29.5,
           -28
          ],
          [
           -27.5,
           -26.1,
           -27,
           -30,
           -29,
           -28.5,
           -25.5,
           -26.5,
           -29.5,
           -28
          ],
          [
           -27.5,
           -26.1,
           -27,
           -30,
           -29,
           -28.5,
           -25.5,
           -26.5,
           -29.5,
           -28
          ],
          [
           -27.5,
           -26.1,
           -27,
           -30,
           -29,
           -28.5,
           -25.5,
           -26.5,
           -29.5,
           -28
          ],
          [
           -27.5,
           -26.1,
           -27,
           -30,
           -29,
           -28.5,
           -25.5,
           -26.5,
           -29.5,
           -28
          ],
          [
           -27.5,
           -26.1,
           -27,
           -30,
           -29,
           -28.5,
           -25.5,
           -26.5,
           -29.5,
           -28
          ],
          [
           -27.5,
           -26.1,
           -27,
           -30,
           -29,
           -28.5,
           -25.5,
           -26.5,
           -29.5,
           -28
          ],
          [
           -27.5,
           -26.1,
           -27,
           -30,
           -29,
           -28.5,
           -25.5,
           -26.5,
           -29.5,
           -28
          ],
          [
           -27.5,
           -26.1,
           -27,
           -30,
           -29,
           -28.5,
           -25.5,
           -26.5,
           -29.5,
           -28
          ],
          [
           -27.5,
           -26.1,
           -27,
           -30,
           -29,
           -28.5,
           -25.5,
           -26.5,
           -29.5,
           -28
          ]
         ],
         "y": [
          [
           111.111716480441,
           111.111716480441,
           111.111716480441,
           111.111716480441,
           111.111716480441,
           111.111716480441,
           111.111716480441,
           111.111716480441,
           111.111716480441,
           111.111716480441
          ],
          [
           116.353345265724,
           116.353345265724,
           116.353345265724,
           116.353345265724,
           116.353345265724,
           116.353345265724,
           116.353345265724,
           116.353345265724,
           116.353345265724,
           116.353345265724
          ],
          [
           101.312090449968,
           101.312090449968,
           101.312090449968,
           101.312090449968,
           101.312090449968,
           101.312090449968,
           101.312090449968,
           101.312090449968,
           101.312090449968,
           101.312090449968
          ],
          [
           101.534873965827,
           101.534873965827,
           101.534873965827,
           101.534873965827,
           101.534873965827,
           101.534873965827,
           101.534873965827,
           101.534873965827,
           101.534873965827,
           101.534873965827
          ],
          [
           117.741416962869,
           117.741416962869,
           117.741416962869,
           117.741416962869,
           117.741416962869,
           117.741416962869,
           117.741416962869,
           117.741416962869,
           117.741416962869,
           117.741416962869
          ],
          [
           119.577565453938,
           119.577565453938,
           119.577565453938,
           119.577565453938,
           119.577565453938,
           119.577565453938,
           119.577565453938,
           119.577565453938,
           119.577565453938,
           119.577565453938
          ],
          [
           100.992252773665,
           100.992252773665,
           100.992252773665,
           100.992252773665,
           100.992252773665,
           100.992252773665,
           100.992252773665,
           100.992252773665,
           100.992252773665,
           100.992252773665
          ],
          [
           117.898565521619,
           117.898565521619,
           117.898565521619,
           117.898565521619,
           117.898565521619,
           117.898565521619,
           117.898565521619,
           117.898565521619,
           117.898565521619,
           117.898565521619
          ],
          [
           102.269338478718,
           102.269338478718,
           102.269338478718,
           102.269338478718,
           102.269338478718,
           102.269338478718,
           102.269338478718,
           102.269338478718,
           102.269338478718,
           102.269338478718
          ],
          [
           94.7081174667994,
           94.7081174667994,
           94.7081174667994,
           94.7081174667994,
           94.7081174667994,
           94.7081174667994,
           94.7081174667994,
           94.7081174667994,
           94.7081174667994,
           94.7081174667994
          ]
         ],
         "z": [
          [
           4.069813482312524,
           4.349170723844159,
           4.16958392571668,
           3.570961265291748,
           3.7705021521000575,
           3.870272595504213,
           4.468895255929144,
           4.269354369120835,
           3.6707317086959037,
           3.9700430389083685
          ],
          [
           3.933594642843996,
           4.212951884375631,
           4.03336508624815,
           3.43474242582322,
           3.6342833126315295,
           3.734053756035685,
           4.332676416460616,
           4.133135529652307,
           3.534512869227374,
           3.8338241994398405
          ],
          [
           4.324485024266165,
           4.6038422657978,
           4.424255467670321,
           3.8256328072453893,
           4.025173694053699,
           4.124944137457856,
           4.723566797882786,
           4.524025911074476,
           3.925403250649545,
           4.22471458086201
          ],
          [
           4.318695352157327,
           4.598052593688962,
           4.418465795561483,
           3.8198431351365514,
           4.019384021944862,
           4.119154465349018,
           4.717777125773949,
           4.518236238965638,
           3.919613578540707,
           4.2189249087531735
          ],
          [
           3.8975215969588906,
           4.176878838490525,
           3.997292040363046,
           3.3986693799381147,
           3.598210266746424,
           3.6979807101505795,
           4.296603370575511,
           4.097062483767202,
           3.49843982334227,
           3.797751153554735
          ],
          [
           3.849803983447691,
           4.129161224979326,
           3.9495744268518465,
           3.350951766426915,
           3.5504926532352243,
           3.6502630966393816,
           4.248885757064311,
           4.049344870256002,
           3.4507222098310706,
           3.7500335400435354
          ],
          [
           4.332796928612888,
           4.612154170144523,
           4.4325673720170435,
           3.833944711592112,
           4.033485598400423,
           4.133256041804579,
           4.73187870222951,
           4.532337815421199,
           3.9337151549962677,
           4.233026485208734
          ],
          [
           3.893437638484535,
           4.17279488001617,
           3.9932080818886906,
           3.394585421463759,
           3.5941263082720702,
           3.6938967516762258,
           4.292519412101157,
           4.092978525292846,
           3.4943558648679147,
           3.7936671950803813
          ],
          [
           4.299608173786792,
           4.578965415318427,
           4.399378617190948,
           3.8007559567660163,
           4.000296843574326,
           4.100067286978483,
           4.698689947403413,
           4.499149060595103,
           3.900526400170172,
           4.199837730382637
          ],
          [
           4.496108306360181,
           4.775465547891816,
           4.595878749764337,
           3.9972560893394053,
           4.196796976147716,
           4.296567419551872,
           4.895190079976803,
           4.695649193168492,
           4.097026532743561,
           4.3963378629560275
          ]
         ]
        }
       ],
       "layout": {
        "annotations": [
         {
          "font": {
           "size": 13
          },
          "showarrow": false,
          "text": "*: p-valor < 0,05    **: p-valor < 0,01",
          "x": 0.07,
          "xref": "paper",
          "y": -0.15,
          "yref": "paper"
         }
        ],
        "legend": {
         "tracegroupgap": 0
        },
        "margin": {
         "t": 60
        },
        "scene": {
         "domain": {
          "x": [
           0,
           1
          ],
          "y": [
           0,
           1
          ]
         },
         "xaxis": {
          "title": {
           "text": "RMS"
          }
         },
         "yaxis": {
          "tickvals": [
           100,
           105,
           110,
           115
          ],
          "title": {
           "text": "f₀"
          }
         },
         "zaxis": {
          "range": [
           0,
           6
          ],
          "title": {
           "text": "Acentuación"
          }
         }
        },
        "template": {
         "data": {
          "bar": [
           {
            "error_x": {
             "color": "#2a3f5f"
            },
            "error_y": {
             "color": "#2a3f5f"
            },
            "marker": {
             "line": {
              "color": "#E5ECF6",
              "width": 0.5
             },
             "pattern": {
              "fillmode": "overlay",
              "size": 10,
              "solidity": 0.2
             }
            },
            "type": "bar"
           }
          ],
          "barpolar": [
           {
            "marker": {
             "line": {
              "color": "#E5ECF6",
              "width": 0.5
             },
             "pattern": {
              "fillmode": "overlay",
              "size": 10,
              "solidity": 0.2
             }
            },
            "type": "barpolar"
           }
          ],
          "carpet": [
           {
            "aaxis": {
             "endlinecolor": "#2a3f5f",
             "gridcolor": "white",
             "linecolor": "white",
             "minorgridcolor": "white",
             "startlinecolor": "#2a3f5f"
            },
            "baxis": {
             "endlinecolor": "#2a3f5f",
             "gridcolor": "white",
             "linecolor": "white",
             "minorgridcolor": "white",
             "startlinecolor": "#2a3f5f"
            },
            "type": "carpet"
           }
          ],
          "choropleth": [
           {
            "colorbar": {
             "outlinewidth": 0,
             "ticks": ""
            },
            "type": "choropleth"
           }
          ],
          "contour": [
           {
            "colorbar": {
             "outlinewidth": 0,
             "ticks": ""
            },
            "colorscale": [
             [
              0,
              "#0d0887"
             ],
             [
              0.1111111111111111,
              "#46039f"
             ],
             [
              0.2222222222222222,
              "#7201a8"
             ],
             [
              0.3333333333333333,
              "#9c179e"
             ],
             [
              0.4444444444444444,
              "#bd3786"
             ],
             [
              0.5555555555555556,
              "#d8576b"
             ],
             [
              0.6666666666666666,
              "#ed7953"
             ],
             [
              0.7777777777777778,
              "#fb9f3a"
             ],
             [
              0.8888888888888888,
              "#fdca26"
             ],
             [
              1,
              "#f0f921"
             ]
            ],
            "type": "contour"
           }
          ],
          "contourcarpet": [
           {
            "colorbar": {
             "outlinewidth": 0,
             "ticks": ""
            },
            "type": "contourcarpet"
           }
          ],
          "heatmap": [
           {
            "colorbar": {
             "outlinewidth": 0,
             "ticks": ""
            },
            "colorscale": [
             [
              0,
              "#0d0887"
             ],
             [
              0.1111111111111111,
              "#46039f"
             ],
             [
              0.2222222222222222,
              "#7201a8"
             ],
             [
              0.3333333333333333,
              "#9c179e"
             ],
             [
              0.4444444444444444,
              "#bd3786"
             ],
             [
              0.5555555555555556,
              "#d8576b"
             ],
             [
              0.6666666666666666,
              "#ed7953"
             ],
             [
              0.7777777777777778,
              "#fb9f3a"
             ],
             [
              0.8888888888888888,
              "#fdca26"
             ],
             [
              1,
              "#f0f921"
             ]
            ],
            "type": "heatmap"
           }
          ],
          "heatmapgl": [
           {
            "colorbar": {
             "outlinewidth": 0,
             "ticks": ""
            },
            "colorscale": [
             [
              0,
              "#0d0887"
             ],
             [
              0.1111111111111111,
              "#46039f"
             ],
             [
              0.2222222222222222,
              "#7201a8"
             ],
             [
              0.3333333333333333,
              "#9c179e"
             ],
             [
              0.4444444444444444,
              "#bd3786"
             ],
             [
              0.5555555555555556,
              "#d8576b"
             ],
             [
              0.6666666666666666,
              "#ed7953"
             ],
             [
              0.7777777777777778,
              "#fb9f3a"
             ],
             [
              0.8888888888888888,
              "#fdca26"
             ],
             [
              1,
              "#f0f921"
             ]
            ],
            "type": "heatmapgl"
           }
          ],
          "histogram": [
           {
            "marker": {
             "pattern": {
              "fillmode": "overlay",
              "size": 10,
              "solidity": 0.2
             }
            },
            "type": "histogram"
           }
          ],
          "histogram2d": [
           {
            "colorbar": {
             "outlinewidth": 0,
             "ticks": ""
            },
            "colorscale": [
             [
              0,
              "#0d0887"
             ],
             [
              0.1111111111111111,
              "#46039f"
             ],
             [
              0.2222222222222222,
              "#7201a8"
             ],
             [
              0.3333333333333333,
              "#9c179e"
             ],
             [
              0.4444444444444444,
              "#bd3786"
             ],
             [
              0.5555555555555556,
              "#d8576b"
             ],
             [
              0.6666666666666666,
              "#ed7953"
             ],
             [
              0.7777777777777778,
              "#fb9f3a"
             ],
             [
              0.8888888888888888,
              "#fdca26"
             ],
             [
              1,
              "#f0f921"
             ]
            ],
            "type": "histogram2d"
           }
          ],
          "histogram2dcontour": [
           {
            "colorbar": {
             "outlinewidth": 0,
             "ticks": ""
            },
            "colorscale": [
             [
              0,
              "#0d0887"
             ],
             [
              0.1111111111111111,
              "#46039f"
             ],
             [
              0.2222222222222222,
              "#7201a8"
             ],
             [
              0.3333333333333333,
              "#9c179e"
             ],
             [
              0.4444444444444444,
              "#bd3786"
             ],
             [
              0.5555555555555556,
              "#d8576b"
             ],
             [
              0.6666666666666666,
              "#ed7953"
             ],
             [
              0.7777777777777778,
              "#fb9f3a"
             ],
             [
              0.8888888888888888,
              "#fdca26"
             ],
             [
              1,
              "#f0f921"
             ]
            ],
            "type": "histogram2dcontour"
           }
          ],
          "mesh3d": [
           {
            "colorbar": {
             "outlinewidth": 0,
             "ticks": ""
            },
            "type": "mesh3d"
           }
          ],
          "parcoords": [
           {
            "line": {
             "colorbar": {
              "outlinewidth": 0,
              "ticks": ""
             }
            },
            "type": "parcoords"
           }
          ],
          "pie": [
           {
            "automargin": true,
            "type": "pie"
           }
          ],
          "scatter": [
           {
            "fillpattern": {
             "fillmode": "overlay",
             "size": 10,
             "solidity": 0.2
            },
            "type": "scatter"
           }
          ],
          "scatter3d": [
           {
            "line": {
             "colorbar": {
              "outlinewidth": 0,
              "ticks": ""
             }
            },
            "marker": {
             "colorbar": {
              "outlinewidth": 0,
              "ticks": ""
             }
            },
            "type": "scatter3d"
           }
          ],
          "scattercarpet": [
           {
            "marker": {
             "colorbar": {
              "outlinewidth": 0,
              "ticks": ""
             }
            },
            "type": "scattercarpet"
           }
          ],
          "scattergeo": [
           {
            "marker": {
             "colorbar": {
              "outlinewidth": 0,
              "ticks": ""
             }
            },
            "type": "scattergeo"
           }
          ],
          "scattergl": [
           {
            "marker": {
             "colorbar": {
              "outlinewidth": 0,
              "ticks": ""
             }
            },
            "type": "scattergl"
           }
          ],
          "scattermapbox": [
           {
            "marker": {
             "colorbar": {
              "outlinewidth": 0,
              "ticks": ""
             }
            },
            "type": "scattermapbox"
           }
          ],
          "scatterpolar": [
           {
            "marker": {
             "colorbar": {
              "outlinewidth": 0,
              "ticks": ""
             }
            },
            "type": "scatterpolar"
           }
          ],
          "scatterpolargl": [
           {
            "marker": {
             "colorbar": {
              "outlinewidth": 0,
              "ticks": ""
             }
            },
            "type": "scatterpolargl"
           }
          ],
          "scatterternary": [
           {
            "marker": {
             "colorbar": {
              "outlinewidth": 0,
              "ticks": ""
             }
            },
            "type": "scatterternary"
           }
          ],
          "surface": [
           {
            "colorbar": {
             "outlinewidth": 0,
             "ticks": ""
            },
            "colorscale": [
             [
              0,
              "#0d0887"
             ],
             [
              0.1111111111111111,
              "#46039f"
             ],
             [
              0.2222222222222222,
              "#7201a8"
             ],
             [
              0.3333333333333333,
              "#9c179e"
             ],
             [
              0.4444444444444444,
              "#bd3786"
             ],
             [
              0.5555555555555556,
              "#d8576b"
             ],
             [
              0.6666666666666666,
              "#ed7953"
             ],
             [
              0.7777777777777778,
              "#fb9f3a"
             ],
             [
              0.8888888888888888,
              "#fdca26"
             ],
             [
              1,
              "#f0f921"
             ]
            ],
            "type": "surface"
           }
          ],
          "table": [
           {
            "cells": {
             "fill": {
              "color": "#EBF0F8"
             },
             "line": {
              "color": "white"
             }
            },
            "header": {
             "fill": {
              "color": "#C8D4E3"
             },
             "line": {
              "color": "white"
             }
            },
            "type": "table"
           }
          ]
         },
         "layout": {
          "annotationdefaults": {
           "arrowcolor": "#2a3f5f",
           "arrowhead": 0,
           "arrowwidth": 1
          },
          "autotypenumbers": "strict",
          "coloraxis": {
           "colorbar": {
            "outlinewidth": 0,
            "ticks": ""
           }
          },
          "colorscale": {
           "diverging": [
            [
             0,
             "#8e0152"
            ],
            [
             0.1,
             "#c51b7d"
            ],
            [
             0.2,
             "#de77ae"
            ],
            [
             0.3,
             "#f1b6da"
            ],
            [
             0.4,
             "#fde0ef"
            ],
            [
             0.5,
             "#f7f7f7"
            ],
            [
             0.6,
             "#e6f5d0"
            ],
            [
             0.7,
             "#b8e186"
            ],
            [
             0.8,
             "#7fbc41"
            ],
            [
             0.9,
             "#4d9221"
            ],
            [
             1,
             "#276419"
            ]
           ],
           "sequential": [
            [
             0,
             "#0d0887"
            ],
            [
             0.1111111111111111,
             "#46039f"
            ],
            [
             0.2222222222222222,
             "#7201a8"
            ],
            [
             0.3333333333333333,
             "#9c179e"
            ],
            [
             0.4444444444444444,
             "#bd3786"
            ],
            [
             0.5555555555555556,
             "#d8576b"
            ],
            [
             0.6666666666666666,
             "#ed7953"
            ],
            [
             0.7777777777777778,
             "#fb9f3a"
            ],
            [
             0.8888888888888888,
             "#fdca26"
            ],
            [
             1,
             "#f0f921"
            ]
           ],
           "sequentialminus": [
            [
             0,
             "#0d0887"
            ],
            [
             0.1111111111111111,
             "#46039f"
            ],
            [
             0.2222222222222222,
             "#7201a8"
            ],
            [
             0.3333333333333333,
             "#9c179e"
            ],
            [
             0.4444444444444444,
             "#bd3786"
            ],
            [
             0.5555555555555556,
             "#d8576b"
            ],
            [
             0.6666666666666666,
             "#ed7953"
            ],
            [
             0.7777777777777778,
             "#fb9f3a"
            ],
            [
             0.8888888888888888,
             "#fdca26"
            ],
            [
             1,
             "#f0f921"
            ]
           ]
          },
          "colorway": [
           "#636efa",
           "#EF553B",
           "#00cc96",
           "#ab63fa",
           "#FFA15A",
           "#19d3f3",
           "#FF6692",
           "#B6E880",
           "#FF97FF",
           "#FECB52"
          ],
          "font": {
           "color": "#2a3f5f"
          },
          "geo": {
           "bgcolor": "white",
           "lakecolor": "white",
           "landcolor": "#E5ECF6",
           "showlakes": true,
           "showland": true,
           "subunitcolor": "white"
          },
          "hoverlabel": {
           "align": "left"
          },
          "hovermode": "closest",
          "mapbox": {
           "style": "light"
          },
          "paper_bgcolor": "white",
          "plot_bgcolor": "#E5ECF6",
          "polar": {
           "angularaxis": {
            "gridcolor": "white",
            "linecolor": "white",
            "ticks": ""
           },
           "bgcolor": "#E5ECF6",
           "radialaxis": {
            "gridcolor": "white",
            "linecolor": "white",
            "ticks": ""
           }
          },
          "scene": {
           "xaxis": {
            "backgroundcolor": "#E5ECF6",
            "gridcolor": "white",
            "gridwidth": 2,
            "linecolor": "white",
            "showbackground": true,
            "ticks": "",
            "zerolinecolor": "white"
           },
           "yaxis": {
            "backgroundcolor": "#E5ECF6",
            "gridcolor": "white",
            "gridwidth": 2,
            "linecolor": "white",
            "showbackground": true,
            "ticks": "",
            "zerolinecolor": "white"
           },
           "zaxis": {
            "backgroundcolor": "#E5ECF6",
            "gridcolor": "white",
            "gridwidth": 2,
            "linecolor": "white",
            "showbackground": true,
            "ticks": "",
            "zerolinecolor": "white"
           }
          },
          "shapedefaults": {
           "line": {
            "color": "#2a3f5f"
           }
          },
          "ternary": {
           "aaxis": {
            "gridcolor": "white",
            "linecolor": "white",
            "ticks": ""
           },
           "baxis": {
            "gridcolor": "white",
            "linecolor": "white",
            "ticks": ""
           },
           "bgcolor": "#E5ECF6",
           "caxis": {
            "gridcolor": "white",
            "linecolor": "white",
            "ticks": ""
           }
          },
          "title": {
           "x": 0.05
          },
          "xaxis": {
           "automargin": true,
           "gridcolor": "white",
           "linecolor": "white",
           "ticks": "",
           "title": {
            "standoff": 15
           },
           "zerolinecolor": "white",
           "zerolinewidth": 2
          },
          "yaxis": {
           "automargin": true,
           "gridcolor": "white",
           "linecolor": "white",
           "ticks": "",
           "title": {
            "standoff": 15
           },
           "zerolinecolor": "white",
           "zerolinewidth": 2
          }
         }
        },
        "title": {
         "text": "z = 12,44 + 0,2 * RMS  + -0,03 * <i>f₀</i>  - R² = 0,535",
         "x": 0.5,
         "xanchor": "center"
        }
       }
      }
     },
     "metadata": {},
     "output_type": "display_data"
    }
   ],
   "source": [
    "if len(dicc_model) == 2:\n",
    "    import plotly.express as px\n",
    "    import plotly.graph_objects as go\n",
    "\n",
    "    # Seleccionamos solo las características seleccionadas en X\n",
    "    X_selected = X[:, selected_features]\n",
    "\n",
    "    # Entrenamos el modelo de regresión con las características seleccionadas\n",
    "    regr_multivar = SMWrapper(sm.OLS)\n",
    "    regr_multivar_fit = regr_multivar.fit(X_selected, y)\n",
    "\n",
    "    # Obtenemos las predicciones del modelo para las características seleccionadas\n",
    "    y_pred = regr_multivar.predict(X_selected)\n",
    "\n",
    "    # Crear la figura\n",
    "    fig = px.scatter_3d(x=X_selected[:, 0], y=X_selected[:, 1], z=y)\n",
    "\n",
    "    # Crear el plano de regresión\n",
    "    xx, yy = np.meshgrid(X_selected[:, 0], X_selected[:, 1])\n",
    "    zz = regr_multivar_fit.params[0] + np.dot(np.array([xx.ravel(), yy.ravel()]).T, regr_multivar_fit.params[1:].ravel()).reshape(xx.shape)\n",
    "    fig.add_trace(go.Surface(x=xx, y=yy, z=zz, opacity=0.5))\n",
    "\n",
    "    axis_name_list = []\n",
    "    # Construir la cadena de texto para la ecuación del plano\n",
    "    equation = f'z = {regr_multivar_fit.params[0].round(2)}'\n",
    "    for i, (key, model) in enumerate(dicc_model.items()):\n",
    "        feature_name = key.replace(\"_model\", \"\").upper()\n",
    "        feature_name_axis = feature_name\n",
    "        if feature_name == 'F0':\n",
    "            feature_name = '<i>f₀</i>'\n",
    "            feature_name_axis = 'f₀'\n",
    "        axis_name_list.append(feature_name_axis)\n",
    "        if regr_multivar_fit.pvalues[1:][i] < 0.01:\n",
    "            label = '<sup>**</sup>'\n",
    "        elif regr_multivar_fit.pvalues[1:][i] < 0.05:\n",
    "            label = '<sup>*</sup>'\n",
    "        else:\n",
    "            label = ''\n",
    "        equation += f' + {regr_multivar_fit.params[1:][i].round(2)} * {feature_name} {label}'\n",
    "        \n",
    "    equation += f' - R² = {r_squared_value:.3f}'\n",
    "    equation = equation.replace('.', ',')\n",
    "    \n",
    "    # Centrar el título\n",
    "    fig.update_layout(title=dict(text=equation, x=0.5, xanchor='center'))\n",
    "    \n",
    "    # Verificar si los valores en el eje x son menores que 1\n",
    "    if np.any(np.abs(X_selected[:, 0]) < 1):\n",
    "        # Calcular los valores de los ticks\n",
    "        xaxis_tickvals = np.linspace(np.min(X_selected[:, 0]), np.max(X_selected[:, 0]), 6)[1:5]\n",
    "\n",
    "        # Convertir los valores de los ticks a strings y reemplazar los puntos por comas\n",
    "        xaxis_ticktext = [f'{val:.2f}'.replace('.', ',') for val in xaxis_tickvals]\n",
    "    else:\n",
    "        # Si los valores en el eje x son mayores o iguales a 1, usar el formato por defecto\n",
    "        xaxis_tickvals = None\n",
    "        xaxis_ticktext = None\n",
    "\n",
    "    # Etiquetas de los ejes y rango del eje z\n",
    "    fig.update_layout(scene=dict(xaxis=dict(title=axis_name_list[0], tickvals=xaxis_tickvals, ticktext=xaxis_ticktext), yaxis_title=axis_name_list[1], zaxis_title='Acentuación', zaxis=dict(range=[0, 6]), yaxis=dict(tickvals=[100, 105, 110, 115])))\n",
    "    \n",
    "    # Agrega la anotación al final\n",
    "    fig.add_annotation(\n",
    "        x=0.07,\n",
    "        y=-0.15,\n",
    "        xref=\"paper\",\n",
    "        yref=\"paper\",\n",
    "        text=\"*: p-valor < 0,05    **: p-valor < 0,01\",\n",
    "        showarrow=False,\n",
    "        font=dict(\n",
    "            size=13\n",
    "        )\n",
    "    )\n",
    "\n",
    "    fig.write_html(\n",
    "       os.path.join(PATH, TEST_FOLDER, REGGRESSION_FOLDER, PARAMETRIC_FOLDER, ACENTUACION_FOLDER, FEMALE_FOLDER, 'regresion_acentuacion_multivariable_female.html')\n",
    "    )\n",
    "\n",
    "    fig.write_image(\n",
    "       os.path.join(PATH, TEST_FOLDER, REGGRESSION_FOLDER, PARAMETRIC_FOLDER, ACENTUACION_FOLDER, FEMALE_FOLDER, 'regresion_acentuacion_multivariable_female.png')\n",
    "    )\n",
    "\n",
    "    fig.show()\n"
   ]
  },
  {
   "attachments": {},
   "cell_type": "markdown",
   "id": "9afe24b5",
   "metadata": {
    "papermill": {
     "duration": 0.129846,
     "end_time": "2023-06-11T01:39:56.990706",
     "exception": false,
     "start_time": "2023-06-11T01:39:56.860860",
     "status": "completed"
    },
    "tags": []
   },
   "source": [
    "### Naturalidad"
   ]
  },
  {
   "cell_type": "code",
   "execution_count": 1066,
   "id": "240d9c8e",
   "metadata": {
    "execution": {
     "iopub.execute_input": "2023-06-11T01:39:57.219758Z",
     "iopub.status.busy": "2023-06-11T01:39:57.218755Z",
     "iopub.status.idle": "2023-06-11T01:39:57.240450Z",
     "shell.execute_reply": "2023-06-11T01:39:57.240450Z"
    },
    "papermill": {
     "duration": 0.148918,
     "end_time": "2023-06-11T01:39:57.240450",
     "exception": false,
     "start_time": "2023-06-11T01:39:57.091532",
     "status": "completed"
    },
    "tags": []
   },
   "outputs": [],
   "source": [
    "df_naturalidad = df_union.loc[:, ['Naturalidad', 'zcr', 'rms', 'f0', 'genero']]"
   ]
  },
  {
   "attachments": {},
   "cell_type": "markdown",
   "id": "bedcb547",
   "metadata": {
    "papermill": {
     "duration": 0.097517,
     "end_time": "2023-06-11T01:39:57.494187",
     "exception": false,
     "start_time": "2023-06-11T01:39:57.396670",
     "status": "completed"
    },
    "tags": []
   },
   "source": [
    "#### Masculino"
   ]
  },
  {
   "cell_type": "code",
   "execution_count": 1067,
   "id": "3dc67f02",
   "metadata": {
    "execution": {
     "iopub.execute_input": "2023-06-11T01:39:57.874157Z",
     "iopub.status.busy": "2023-06-11T01:39:57.874157Z",
     "iopub.status.idle": "2023-06-11T01:39:57.889775Z",
     "shell.execute_reply": "2023-06-11T01:39:57.889775Z"
    },
    "papermill": {
     "duration": 0.231743,
     "end_time": "2023-06-11T01:39:57.889775",
     "exception": false,
     "start_time": "2023-06-11T01:39:57.658032",
     "status": "completed"
    },
    "tags": []
   },
   "outputs": [],
   "source": [
    "# Lista de p-values\n",
    "p_values = []\n",
    "\n",
    "mask_gender = df_naturalidad.genero == 'masculino'\n",
    "\n",
    "df_naturalidad_male = df_naturalidad[mask_gender].drop(columns=['genero'])"
   ]
  },
  {
   "cell_type": "code",
   "execution_count": 1068,
   "id": "0b3818c3",
   "metadata": {
    "execution": {
     "iopub.execute_input": "2023-06-11T01:39:58.079556Z",
     "iopub.status.busy": "2023-06-11T01:39:58.079556Z",
     "iopub.status.idle": "2023-06-11T01:39:58.158201Z",
     "shell.execute_reply": "2023-06-11T01:39:58.157967Z"
    },
    "papermill": {
     "duration": 0.172364,
     "end_time": "2023-06-11T01:39:58.158201",
     "exception": false,
     "start_time": "2023-06-11T01:39:57.985837",
     "status": "completed"
    },
    "tags": []
   },
   "outputs": [
    {
     "name": "stdout",
     "output_type": "stream",
     "text": [
      "Coeficiente de determinación R^2: 0.8144\n",
      "Shapiro-Wilk p-valor: 0.9401729702949524\n",
      "Durbin-Watson: 2.1105953426825907\n",
      "Características seleccionadas: (0,)\n",
      "Característica Seleccionada ZCR: p-valor = 0.0004\n",
      "\n",
      "p-valor global: 0.0003514629613687443\n",
      "Ecuación: 4.66 - 11.44*ZCR\n",
      "\n",
      "Característica ZCR: p-valor = 0.0144\n",
      "Característica RMS: p-valor = 0.9226\n",
      "Característica f0: p-valor = 0.7219\n"
     ]
    }
   ],
   "source": [
    "# Cargamos los datos\n",
    "X = np.array(df_naturalidad_male.drop(columns=['Naturalidad'])) # df_objetivos es el DataFrame con los parámetros objetivos\n",
    "y = np.array(df_naturalidad_male.Naturalidad) # df_subjetivos es el DataFrame con los parámetros subjetivos\n",
    "\n",
    "# Creamos el modelo de regresión lineal con el envoltorio\n",
    "regr_multivar = SMWrapper(sm.OLS)\n",
    "\n",
    "# Creamos el selector de características hacia adelante\n",
    "forward_selector = SequentialFeatureSelector(regr_multivar, k_features='best', forward=True, scoring='neg_mean_squared_error')\n",
    "\n",
    "# Entrenamos el selector de características\n",
    "forward_selector.fit(X, y)\n",
    "\n",
    "# Obtenemos las características seleccionadas\n",
    "selected_features = forward_selector.k_feature_idx_\n",
    "\n",
    "# Lógica para rellenar las características no seleccionadas\n",
    "count_features = set(selected_features)\n",
    "total_features = set([0,1,2])\n",
    "missing_features = total_features - count_features\n",
    "\n",
    "for missing_feature in missing_features:\n",
    "    if missing_feature == 0:\n",
    "        dicc_p_value['ZCR'].append(np.nan)\n",
    "    elif missing_feature == 1:\n",
    "        dicc_p_value['RMS'].append(np.nan)\n",
    "    else:\n",
    "        dicc_p_value['f0'].append(np.nan)\n",
    "\n",
    "regr_multivar_fit = regr_multivar.fit(X[:, selected_features], y)\n",
    "\n",
    "# Obtenemos el R^2 del modelo\n",
    "r_squared_value = regr_multivar_fit.rsquared\n",
    "\n",
    "print(f'Coeficiente de determinación R^2: {r_squared_value:.4f}')\n",
    "\n",
    "# Obtenemos los residuos del modelo\n",
    "residuals = y - regr_multivar.predict(X[:, selected_features])\n",
    "\n",
    "# Realizamos la prueba de Shapiro-Wilk\n",
    "shapiro_test = stats.shapiro(residuals)\n",
    "\n",
    "# Imprimimos el resultado de la prueba\n",
    "print('Shapiro-Wilk p-valor:', shapiro_test.pvalue)\n",
    "\n",
    "# Realizamos el test de Durbin-Watson\n",
    "dw_test = durbin_watson(residuals)\n",
    "\n",
    "# Imprimimos el resultado del test\n",
    "print('Durbin-Watson:', dw_test)\n",
    "\n",
    "# Imprimimos las características seleccionadas\n",
    "print('Características seleccionadas:', selected_features)\n",
    "\n",
    "# Imprimimos los p-valores para cada característica seleccionada\n",
    "for feature, pvalue in zip(selected_features, regr_multivar_fit.pvalues[1:]):\n",
    "    \n",
    "    if feature == 0:\n",
    "        feature = 'ZCR'\n",
    "    elif feature == 1:\n",
    "        feature = 'RMS'\n",
    "    else:\n",
    "        feature = 'f0'\n",
    "        \n",
    "    p_values.append(pvalue)\n",
    "    dicc_p_value[feature].append(pvalue)\n",
    "    \n",
    "    print(f'Característica Seleccionada {feature}: p-valor = {pvalue:.4f}')\n",
    "\n",
    "print()\n",
    "\n",
    "# Imprimimos el p-valor global\n",
    "print('p-valor global:', regr_multivar_fit.f_pvalue)\n",
    "\n",
    "features = {\n",
    "    1: 'ZCR',\n",
    "    2: 'RMS',\n",
    "    3: 'f0'\n",
    "}\n",
    "\n",
    "# Imprimimos la ecuación resultante\n",
    "equation = \"Ecuación: \"\n",
    "for i, coef in enumerate(regr_multivar_fit.params):\n",
    "    if i == 0:\n",
    "        equation += f\"{coef:.2f}\"\n",
    "    else:\n",
    "        if coef < 0:\n",
    "            equation += f\" - {-coef:.2f}*{features[i]}\"\n",
    "        else:\n",
    "            equation += f\" + {coef:.2f}*{features[i]}\"\n",
    "print(equation)\n",
    "\n",
    "print()\n",
    "# Creamos el modelo OLS (mínimos cuadrados ordinarios) y lo ajustamos a los datos\n",
    "results = regr_multivar.fit(X, y)\n",
    "\n",
    "# Imprimimos los p-valores para cada característica seleccionada\n",
    "for feature, pvalue in zip(list(range(X.shape[1])), results.pvalues[1:]):\n",
    "\n",
    "    if feature == 0:\n",
    "        feature = 'ZCR'\n",
    "    elif feature == 1:\n",
    "        feature = 'RMS'\n",
    "    else:\n",
    "        feature = 'f0'\n",
    "    \n",
    "    print(f'Característica {feature}: p-valor = {pvalue:.4f}')\n",
    "\n",
    "\n",
    "dicc_p_value['subjetive_parameter'].append('Naturalidad')\n",
    "dicc_p_value['genero'].append('masculino')\n",
    "dicc_p_value['selected_features'].append(list(selected_features))\n",
    "dicc_p_value['shapiro_wilk_test'].append(shapiro_test.pvalue)\n",
    "\n",
    "# Almacenamos los resultados en el diccionario\n",
    "dicc_dw[\"Dublin-Watson Test\"].append(dw_test)\n",
    "dicc_dw[\"Parametro subjetivo\"].append('Naturalidad')\n",
    "dicc_dw[\"Genero\"].append('masculino')\n"
   ]
  },
  {
   "cell_type": "code",
   "execution_count": 1069,
   "id": "6dd1969f",
   "metadata": {
    "execution": {
     "iopub.execute_input": "2023-06-11T01:40:17.691057Z",
     "iopub.status.busy": "2023-06-11T01:40:17.675433Z",
     "iopub.status.idle": "2023-06-11T01:40:17.706883Z",
     "shell.execute_reply": "2023-06-11T01:40:17.706883Z"
    },
    "papermill": {
     "duration": 0.119392,
     "end_time": "2023-06-11T01:40:17.706883",
     "exception": false,
     "start_time": "2023-06-11T01:40:17.587491",
     "status": "completed"
    },
    "tags": []
   },
   "outputs": [],
   "source": [
    "# Dicc auxiliar con los nombres asociadas a las variables\n",
    "dicc_names_features = {\n",
    "    'zcr_model': 0,\n",
    "    'rms_model': 1,\n",
    "    'f0_model': 2\n",
    "}\n",
    "\n",
    "# Dicc de los modelos\n",
    "dicc_model = {}\n",
    "\n",
    "# Dicc de las predicciones\n",
    "dicc_pred = {}\n",
    "\n",
    "for selected_feature in selected_features:\n",
    "    # Entrenamos el modelo de regresión con las características seleccionadas\n",
    "    regr_multivar = SMWrapper(sm.OLS)\n",
    "    regr_multivar_fit = regr_multivar.fit(X[:, selected_feature].reshape(-1, 1), y.ravel())\n",
    "\n",
    "    # Almacenamos en dicc_model la clave asociada al modelo que se entrenó y el objeto modelo\n",
    "    for key, value in dicc_names_features.items():\n",
    "        if value == selected_feature:\n",
    "            dicc_model[key] = regr_multivar_fit\n",
    "\n",
    "    # Obtenemos las predicciones del modelo para las características seleccionadas\n",
    "    y_pred = regr_multivar.predict(X[:, selected_feature].reshape(-1, 1))\n",
    "\n",
    "    # Almacenamos en dicc_pred la clave asociada al modelo que se entrenó y la predicción\n",
    "    for key, value in dicc_names_features.items():\n",
    "        if value == selected_feature:\n",
    "            dicc_pred[key] = y_pred\n"
   ]
  },
  {
   "cell_type": "code",
   "execution_count": 1070,
   "id": "9a7cb8e5",
   "metadata": {
    "execution": {
     "iopub.execute_input": "2023-06-11T01:40:17.908699Z",
     "iopub.status.busy": "2023-06-11T01:40:17.908699Z",
     "iopub.status.idle": "2023-06-11T01:40:17.924331Z",
     "shell.execute_reply": "2023-06-11T01:40:17.924331Z"
    },
    "papermill": {
     "duration": 0.108657,
     "end_time": "2023-06-11T01:40:17.924331",
     "exception": false,
     "start_time": "2023-06-11T01:40:17.815674",
     "status": "completed"
    },
    "tags": []
   },
   "outputs": [
    {
     "name": "stdout",
     "output_type": "stream",
     "text": [
      "y = -11,44 * ZCR$^{**}$ + 4,66 - R$^2$ = 0,814\n"
     ]
    }
   ],
   "source": [
    "list_equ = []\n",
    "\n",
    "for idx, (key, model) in enumerate(dicc_model.items()):\n",
    "    # Obtenemos los valores de w y b\n",
    "    w = model.params[1:][0]\n",
    "    b = model.params[0]\n",
    "    r_squared = model.rsquared\n",
    "\n",
    "    label = key.replace(\"_model\", \"\")\n",
    "    if label == 'f0':\n",
    "        label = r'$f_{0}$'\n",
    "    else:\n",
    "        label = label.upper()\n",
    "\n",
    "    # Verificamos el valor de p y agregamos el superíndice correspondiente\n",
    "    if p_values[idx] < 0.01:\n",
    "        label += '$^{**}$'\n",
    "    elif p_values[idx] < 0.05:\n",
    "        label += '$^{*}$'\n",
    "\n",
    "    if len(dicc_model) == 1:\n",
    "        # Construimos la cadena de texto para la ecuación del hiperplano y su p-valor\n",
    "        equation = f'y = {w.round(2)} * {label} + {b.round(2)} - R$^2$ = {r_squared:.3f}'\n",
    "    else:\n",
    "        equation = f'y = {w.round(2)} * {label} + {b.round(2)}'\n",
    "\n",
    "    equation = equation.replace('.', ',')\n",
    "    # Agregamos la cadena a la lista\n",
    "    list_equ.append(equation)\n",
    "\n",
    "# Mostramos el resultado\n",
    "for equ in list_equ:\n",
    "    print(equ)"
   ]
  },
  {
   "cell_type": "code",
   "execution_count": 1071,
   "id": "31b4d1c2",
   "metadata": {
    "execution": {
     "iopub.execute_input": "2023-06-11T01:40:18.127457Z",
     "iopub.status.busy": "2023-06-11T01:40:18.127457Z",
     "iopub.status.idle": "2023-06-11T01:40:18.965351Z",
     "shell.execute_reply": "2023-06-11T01:40:18.964382Z"
    },
    "papermill": {
     "duration": 0.95023,
     "end_time": "2023-06-11T01:40:18.968347",
     "exception": false,
     "start_time": "2023-06-11T01:40:18.018117",
     "status": "completed"
    },
    "tags": []
   },
   "outputs": [
    {
     "data": {
      "image/png": "[encoded data removed]",
      "text/plain": [
       "<Figure size 600x400 with 1 Axes>"
      ]
     },
     "metadata": {},
     "output_type": "display_data"
    }
   ],
   "source": [
    "dims = (6 * len(dicc_model), 4)\n",
    "fig, ax = plt.subplots(figsize=dims, ncols=len(dicc_model))\n",
    "\n",
    "with sns.axes_style('darkgrid'):\n",
    "    for i, (key, model) in enumerate(dicc_model.items()):\n",
    "        if isinstance(ax, np.ndarray):\n",
    "            ax_i = ax[i]\n",
    "        else:\n",
    "            ax_i = ax\n",
    "        label = key.replace(\"_model\", \"\")\n",
    "        if label == 'f0':\n",
    "            label = r'$f_{0}$'\n",
    "        else:\n",
    "            label = label.upper()\n",
    "        g = sns.scatterplot(x=X[:, dicc_names_features[key]], y=y, ax=ax_i, color='blue')\n",
    "        g = sns.lineplot(x=X[:, dicc_names_features[key]], y=dicc_pred[key], ax=ax_i, color='red')\n",
    "        g.text(0.5, -0.1, label, weight='bold', size='large', family='Arial', stretch='extra-expanded', ha='center', va='top', transform=g.transAxes)\n",
    "        g.set_ylabel('Naturalidad', weight='bold', size='large', alpha=0.8, family='Arial', stretch='extra-expanded')\n",
    "        g.set_title(list_equ[i], weight='bold', size='x-large', alpha=0.8, family='Arial', stretch='extra-expanded')\n",
    "        g.grid(alpha=0.7)\n",
    "        ax_i.set_ylim(0, 6)\n",
    "        \n",
    "        # Verificar si los valores en el eje x son menores que 1\n",
    "        if np.any(np.abs(X[:, dicc_names_features[key]]) < 1):\n",
    "            # Crear el formateador\n",
    "            formatter = ticker.FuncFormatter(format_decimal)\n",
    "\n",
    "            # Usar el formateador en el eje x de tus gráficos\n",
    "            ax_i.xaxis.set_major_formatter(formatter)\n",
    "\n",
    "    plt.tight_layout()\n",
    "    plt.figtext(0.02, 0.01, '*: p-valor < 0,05    **: p-valor < 0,01', fontsize=9)\n",
    "    plt.savefig(os.path.join(PATH, TEST_FOLDER, REGGRESSION_FOLDER, PARAMETRIC_FOLDER, NATURALIDAD_FOLDER, MALE_FOLDER, 'regresiones_naturalidad_male.png'))\n",
    "    plt.show()\n"
   ]
  },
  {
   "cell_type": "code",
   "execution_count": 1072,
   "id": "32e10979",
   "metadata": {
    "execution": {
     "iopub.execute_input": "2023-06-11T01:40:19.202274Z",
     "iopub.status.busy": "2023-06-11T01:40:19.200275Z",
     "iopub.status.idle": "2023-06-11T01:40:19.345301Z",
     "shell.execute_reply": "2023-06-11T01:40:19.341372Z"
    },
    "papermill": {
     "duration": 0.269195,
     "end_time": "2023-06-11T01:40:19.348273",
     "exception": false,
     "start_time": "2023-06-11T01:40:19.079078",
     "status": "completed"
    },
    "tags": []
   },
   "outputs": [],
   "source": [
    "if len(dicc_model) == 2:\n",
    "    import plotly.express as px\n",
    "    import plotly.graph_objects as go\n",
    "\n",
    "    # Seleccionamos solo las características seleccionadas en X\n",
    "    X_selected = X[:, selected_features]\n",
    "\n",
    "    # Entrenamos el modelo de regresión con las características seleccionadas\n",
    "    regr_multivar = SMWrapper(sm.OLS)\n",
    "    regr_multivar_fit = regr_multivar.fit(X_selected, y)\n",
    "\n",
    "    # Obtenemos las predicciones del modelo para las características seleccionadas\n",
    "    y_pred = regr_multivar.predict(X_selected)\n",
    "\n",
    "    # Crear la figura\n",
    "    fig = px.scatter_3d(x=X_selected[:, 0], y=X_selected[:, 1], z=y)\n",
    "\n",
    "    # Crear el plano de regresión\n",
    "    xx, yy = np.meshgrid(X_selected[:, 0], X_selected[:, 1])\n",
    "    zz = regr_multivar_fit.params[0] + np.dot(np.array([xx.ravel(), yy.ravel()]).T, regr_multivar_fit.params[1:].ravel()).reshape(xx.shape)\n",
    "    fig.add_trace(go.Surface(x=xx, y=yy, z=zz, opacity=0.5))\n",
    "\n",
    "    axis_name_list = []\n",
    "    # Construir la cadena de texto para la ecuación del plano\n",
    "    equation = f'z = {regr_multivar_fit.params[0].round(2)}'\n",
    "    for i, (key, model) in enumerate(dicc_model.items()):\n",
    "        feature_name = key.replace(\"_model\", \"\").upper()\n",
    "        feature_name_axis = feature_name\n",
    "        if feature_name == 'F0':\n",
    "            feature_name = '<i>f₀</i>'\n",
    "            feature_name_axis = 'f₀'\n",
    "        axis_name_list.append(feature_name_axis)\n",
    "        if regr_multivar_fit.pvalues[1:][i] < 0.01:\n",
    "            label = '<sup>**</sup>'\n",
    "        elif regr_multivar_fit.pvalues[1:][i] < 0.05:\n",
    "            label = '<sup>*</sup>'\n",
    "        else:\n",
    "            label = ''\n",
    "        equation += f' + {regr_multivar_fit.params[1:][i].round(2)} * {feature_name} {label}'\n",
    "        \n",
    "    equation += f' - R² = {r_squared_value:.3f}'\n",
    "    equation = equation.replace('.', ',')\n",
    "    \n",
    "    # Centrar el título\n",
    "    fig.update_layout(title=dict(text=equation, x=0.5, xanchor='center'))\n",
    "    \n",
    "    # Verificar si los valores en el eje x son menores que 1\n",
    "    if np.any(np.abs(X_selected[:, 0]) < 1):\n",
    "        # Calcular los valores de los ticks\n",
    "        xaxis_tickvals = np.linspace(np.min(X_selected[:, 0]), np.max(X_selected[:, 0]), 6)[1:5]\n",
    "\n",
    "        # Convertir los valores de los ticks a strings y reemplazar los puntos por comas\n",
    "        xaxis_ticktext = [f'{val:.2f}'.replace('.', ',') for val in xaxis_tickvals]\n",
    "    else:\n",
    "        # Si los valores en el eje x son mayores o iguales a 1, usar el formato por defecto\n",
    "        xaxis_tickvals = None\n",
    "        xaxis_ticktext = None\n",
    "\n",
    "    # Etiquetas de los ejes y rango del eje z\n",
    "    fig.update_layout(scene=dict(xaxis=dict(title=axis_name_list[0], tickvals=xaxis_tickvals, ticktext=xaxis_ticktext), yaxis_title=axis_name_list[1], zaxis_title='Naturalidad', zaxis=dict(range=[0, 6]), yaxis=dict(tickvals=[-24, -23, -22, -21])))\n",
    "\n",
    "    # Agrega la anotación al final\n",
    "    fig.add_annotation(\n",
    "        x=0.07,\n",
    "        y=-0.15,\n",
    "        xref=\"paper\",\n",
    "        yref=\"paper\",\n",
    "        text=\"*: p-valor < 0,05    **: p-valor < 0,01\",\n",
    "        showarrow=False,\n",
    "        font=dict(\n",
    "            size=13\n",
    "        )\n",
    "    )\n",
    "\n",
    "    fig.write_html(\n",
    "       os.path.join(PATH, TEST_FOLDER, REGGRESSION_FOLDER, PARAMETRIC_FOLDER, NATURALIDAD_FOLDER, MALE_FOLDER, 'regresion_naturalidad_multivariable_male.html')\n",
    "    )\n",
    "    \n",
    "    fig.write_image(\n",
    "       os.path.join(PATH, TEST_FOLDER, REGGRESSION_FOLDER, PARAMETRIC_FOLDER, NATURALIDAD_FOLDER, MALE_FOLDER, 'regresion_naturalidad_multivariable_male.png')\n",
    "    )\n",
    "\n",
    "    fig.show()\n"
   ]
  },
  {
   "attachments": {},
   "cell_type": "markdown",
   "id": "1968705b",
   "metadata": {
    "papermill": {
     "duration": 0.096481,
     "end_time": "2023-06-11T01:40:19.556672",
     "exception": false,
     "start_time": "2023-06-11T01:40:19.460191",
     "status": "completed"
    },
    "tags": []
   },
   "source": [
    "#### Femenino"
   ]
  },
  {
   "cell_type": "code",
   "execution_count": 1073,
   "id": "fbe4ffcc",
   "metadata": {
    "execution": {
     "iopub.execute_input": "2023-06-11T01:40:19.839035Z",
     "iopub.status.busy": "2023-06-11T01:40:19.838033Z",
     "iopub.status.idle": "2023-06-11T01:40:19.862031Z",
     "shell.execute_reply": "2023-06-11T01:40:19.861039Z"
    },
    "papermill": {
     "duration": 0.194993,
     "end_time": "2023-06-11T01:40:19.865029",
     "exception": false,
     "start_time": "2023-06-11T01:40:19.670036",
     "status": "completed"
    },
    "tags": []
   },
   "outputs": [],
   "source": [
    "# Lista de p-values\n",
    "p_values = []\n",
    "\n",
    "mask_gender = df_naturalidad.genero == 'femenino'\n",
    "\n",
    "df_naturalidad_female = df_naturalidad[mask_gender].drop(columns=['genero'])"
   ]
  },
  {
   "cell_type": "code",
   "execution_count": 1074,
   "id": "e6dbfa05",
   "metadata": {
    "execution": {
     "iopub.execute_input": "2023-06-11T01:40:20.091998Z",
     "iopub.status.busy": "2023-06-11T01:40:20.090998Z",
     "iopub.status.idle": "2023-06-11T01:40:20.171002Z",
     "shell.execute_reply": "2023-06-11T01:40:20.169094Z"
    },
    "papermill": {
     "duration": 0.219815,
     "end_time": "2023-06-11T01:40:20.174036",
     "exception": false,
     "start_time": "2023-06-11T01:40:19.954221",
     "status": "completed"
    },
    "tags": []
   },
   "outputs": [
    {
     "name": "stdout",
     "output_type": "stream",
     "text": [
      "Coeficiente de determinación R^2: 0.6409\n",
      "Shapiro-Wilk p-valor: 0.026250893250107765\n",
      "Durbin-Watson: 1.402493870586606\n",
      "Características seleccionadas: (1, 2)\n",
      "Característica Seleccionada RMS: p-valor = 0.0141\n",
      "Característica Seleccionada f0: p-valor = 0.1263\n",
      "\n",
      "p-valor global: 0.02775608961568071\n",
      "Ecuación: 17.29 + 0.38*ZCR - 0.03*RMS\n",
      "\n",
      "Característica ZCR: p-valor = 0.1165\n",
      "Característica RMS: p-valor = 0.3008\n",
      "Característica f0: p-valor = 0.0680\n"
     ]
    }
   ],
   "source": [
    "# Cargamos los datos\n",
    "X = np.array(df_naturalidad_female.drop(columns=['Naturalidad'])) # df_objetivos es el DataFrame con los parámetros objetivos\n",
    "y = np.array(df_naturalidad_female.Naturalidad) # df_subjetivos es el DataFrame con los parámetros subjetivos\n",
    "\n",
    "# Creamos el modelo de regresión lineal con el envoltorio\n",
    "regr_multivar = SMWrapper(sm.OLS)\n",
    "\n",
    "# Creamos el selector de características hacia adelante\n",
    "forward_selector = SequentialFeatureSelector(regr_multivar, k_features='best', forward=True, scoring='neg_mean_squared_error')\n",
    "\n",
    "# Entrenamos el selector de características\n",
    "forward_selector.fit(X, y)\n",
    "\n",
    "# Obtenemos las características seleccionadas\n",
    "selected_features = forward_selector.k_feature_idx_\n",
    "\n",
    "# Lógica para rellenar las características no seleccionadas\n",
    "count_features = set(selected_features)\n",
    "total_features = set([0,1,2])\n",
    "missing_features = total_features - count_features\n",
    "\n",
    "for missing_feature in missing_features:\n",
    "    if missing_feature == 0:\n",
    "        dicc_p_value['ZCR'].append(np.nan)\n",
    "    elif missing_feature == 1:\n",
    "        dicc_p_value['RMS'].append(np.nan)\n",
    "    else:\n",
    "        dicc_p_value['f0'].append(np.nan)\n",
    "\n",
    "regr_multivar_fit = regr_multivar.fit(X[:, selected_features], y)\n",
    "\n",
    "# Obtenemos el R^2 del modelo\n",
    "r_squared_value = regr_multivar_fit.rsquared\n",
    "\n",
    "print(f'Coeficiente de determinación R^2: {r_squared_value:.4f}')\n",
    "\n",
    "# Obtenemos los residuos del modelo\n",
    "residuals = y - regr_multivar.predict(X[:, selected_features])\n",
    "\n",
    "# Realizamos la prueba de Shapiro-Wilk\n",
    "shapiro_test = stats.shapiro(residuals)\n",
    "\n",
    "# Imprimimos el resultado de la prueba\n",
    "print('Shapiro-Wilk p-valor:', shapiro_test.pvalue)\n",
    "\n",
    "# Realizamos el test de Durbin-Watson\n",
    "dw_test = durbin_watson(residuals)\n",
    "\n",
    "# Imprimimos el resultado del test\n",
    "print('Durbin-Watson:', dw_test)\n",
    "\n",
    "# Imprimimos las características seleccionadas\n",
    "print('Características seleccionadas:', selected_features)\n",
    "\n",
    "# Imprimimos los p-valores para cada característica seleccionada\n",
    "for feature, pvalue in zip(selected_features, regr_multivar_fit.pvalues[1:]):\n",
    "    \n",
    "    if feature == 0:\n",
    "        feature = 'ZCR'\n",
    "    elif feature == 1:\n",
    "        feature = 'RMS'\n",
    "    else:\n",
    "        feature = 'f0'\n",
    "        \n",
    "    p_values.append(pvalue)\n",
    "    dicc_p_value[feature].append(pvalue)\n",
    "    \n",
    "    print(f'Característica Seleccionada {feature}: p-valor = {pvalue:.4f}')\n",
    "\n",
    "print()\n",
    "\n",
    "# Imprimimos el p-valor global\n",
    "print('p-valor global:', regr_multivar_fit.f_pvalue)\n",
    "\n",
    "features = {\n",
    "    1: 'ZCR',\n",
    "    2: 'RMS',\n",
    "    3: 'f0'\n",
    "}\n",
    "\n",
    "# Imprimimos la ecuación resultante\n",
    "equation = \"Ecuación: \"\n",
    "for i, coef in enumerate(regr_multivar_fit.params):\n",
    "    if i == 0:\n",
    "        equation += f\"{coef:.2f}\"\n",
    "    else:\n",
    "        if coef < 0:\n",
    "            equation += f\" - {-coef:.2f}*{features[i]}\"\n",
    "        else:\n",
    "            equation += f\" + {coef:.2f}*{features[i]}\"\n",
    "print(equation)\n",
    "\n",
    "print()\n",
    "# Creamos el modelo OLS (mínimos cuadrados ordinarios) y lo ajustamos a los datos\n",
    "results = regr_multivar.fit(X, y)\n",
    "\n",
    "# Imprimimos los p-valores para cada característica seleccionada\n",
    "for feature, pvalue in zip(list(range(X.shape[1])), results.pvalues[1:]):\n",
    "\n",
    "    if feature == 0:\n",
    "        feature = 'ZCR'\n",
    "    elif feature == 1:\n",
    "        feature = 'RMS'\n",
    "    else:\n",
    "        feature = 'f0'\n",
    "    \n",
    "    print(f'Característica {feature}: p-valor = {pvalue:.4f}')\n",
    "\n",
    "dicc_p_value['subjetive_parameter'].append('Naturalidad')\n",
    "dicc_p_value['genero'].append('femenino')\n",
    "dicc_p_value['selected_features'].append(list(selected_features))\n",
    "dicc_p_value['shapiro_wilk_test'].append(shapiro_test.pvalue)\n",
    "\n",
    "# Almacenamos los resultados en el diccionario\n",
    "dicc_dw[\"Dublin-Watson Test\"].append(dw_test)\n",
    "dicc_dw[\"Parametro subjetivo\"].append('Naturalidad')\n",
    "dicc_dw[\"Genero\"].append('femenino')\n"
   ]
  },
  {
   "cell_type": "code",
   "execution_count": 1075,
   "id": "97910b40",
   "metadata": {
    "execution": {
     "iopub.execute_input": "2023-06-11T01:40:36.840026Z",
     "iopub.status.busy": "2023-06-11T01:40:36.840026Z",
     "iopub.status.idle": "2023-06-11T01:40:36.855735Z",
     "shell.execute_reply": "2023-06-11T01:40:36.855735Z"
    },
    "papermill": {
     "duration": 0.128818,
     "end_time": "2023-06-11T01:40:36.855735",
     "exception": false,
     "start_time": "2023-06-11T01:40:36.726917",
     "status": "completed"
    },
    "tags": []
   },
   "outputs": [],
   "source": [
    "# Dicc auxiliar con los nombres asociadas a las variables\n",
    "dicc_names_features = {\n",
    "    'zcr_model': 0,\n",
    "    'rms_model': 1,\n",
    "    'f0_model': 2\n",
    "}\n",
    "\n",
    "# Dicc de los modelos\n",
    "dicc_model = {}\n",
    "\n",
    "# Dicc de las predicciones\n",
    "dicc_pred = {}\n",
    "\n",
    "for selected_feature in selected_features:\n",
    "    # Entrenamos el modelo de regresión con las características seleccionadas\n",
    "    regr_multivar = SMWrapper(sm.OLS)\n",
    "    regr_multivar_fit = regr_multivar.fit(X[:, selected_feature].reshape(-1, 1), y.ravel())\n",
    "\n",
    "    # Almacenamos en dicc_model la clave asociada al modelo que se entrenó y el objeto modelo\n",
    "    for key, value in dicc_names_features.items():\n",
    "        if value == selected_feature:\n",
    "            dicc_model[key] = regr_multivar_fit\n",
    "\n",
    "    # Obtenemos las predicciones del modelo para las características seleccionadas\n",
    "    y_pred = regr_multivar.predict(X[:, selected_feature].reshape(-1, 1))\n",
    "\n",
    "    # Almacenamos en dicc_pred la clave asociada al modelo que se entrenó y la predicción\n",
    "    for key, value in dicc_names_features.items():\n",
    "        if value == selected_feature:\n",
    "            dicc_pred[key] = y_pred\n"
   ]
  },
  {
   "cell_type": "code",
   "execution_count": 1076,
   "id": "0959ca28",
   "metadata": {
    "execution": {
     "iopub.execute_input": "2023-06-11T01:40:37.071862Z",
     "iopub.status.busy": "2023-06-11T01:40:37.071862Z",
     "iopub.status.idle": "2023-06-11T01:40:37.103162Z",
     "shell.execute_reply": "2023-06-11T01:40:37.103162Z"
    },
    "papermill": {
     "duration": 0.153774,
     "end_time": "2023-06-11T01:40:37.103162",
     "exception": false,
     "start_time": "2023-06-11T01:40:36.949388",
     "status": "completed"
    },
    "tags": []
   },
   "outputs": [
    {
     "name": "stdout",
     "output_type": "stream",
     "text": [
      "y = 0,36 * RMS$^{*}$ + 13,09\n",
      "y = -0,03 * $f_{0}$ + 6,07\n"
     ]
    }
   ],
   "source": [
    "list_equ = []\n",
    "\n",
    "for idx, (key, model) in enumerate(dicc_model.items()):\n",
    "    # Obtenemos los valores de w y b\n",
    "    w = model.params[1:][0]\n",
    "    b = model.params[0]\n",
    "    r_squared = model.rsquared\n",
    "    \n",
    "    label = key.replace(\"_model\", \"\")\n",
    "    if label == 'f0':\n",
    "        label = r'$f_{0}$'\n",
    "    else:\n",
    "        label = label.upper()\n",
    "\n",
    "    # Verificamos el valor de p y agregamos el superíndice correspondiente\n",
    "    if p_values[idx] < 0.01:\n",
    "        label += '$^{**}$'\n",
    "    elif p_values[idx] < 0.05:\n",
    "        label += '$^{*}$'\n",
    "\n",
    "    if len(dicc_model) == 1:\n",
    "        # Construimos la cadena de texto para la ecuación del hiperplano y su p-valor\n",
    "        equation = f'y = {w.round(2)} * {label} + {b.round(2)} - R$^2$ = {r_squared:.3f}'\n",
    "    else:\n",
    "        equation = f'y = {w.round(2)} * {label} + {b.round(2)}'\n",
    "\n",
    "    equation = equation.replace('.', ',')\n",
    "    # Agregamos la cadena a la lista\n",
    "    list_equ.append(equation)\n",
    "\n",
    "# Mostramos el resultado\n",
    "for equ in list_equ:\n",
    "    print(equ)"
   ]
  },
  {
   "cell_type": "code",
   "execution_count": 1077,
   "id": "5a51f6be",
   "metadata": {
    "execution": {
     "iopub.execute_input": "2023-06-11T01:40:37.325110Z",
     "iopub.status.busy": "2023-06-11T01:40:37.325110Z",
     "iopub.status.idle": "2023-06-11T01:40:38.407252Z",
     "shell.execute_reply": "2023-06-11T01:40:38.407252Z"
    },
    "papermill": {
     "duration": 1.210398,
     "end_time": "2023-06-11T01:40:38.407252",
     "exception": false,
     "start_time": "2023-06-11T01:40:37.196854",
     "status": "completed"
    },
    "tags": []
   },
   "outputs": [
    {
     "data": {
      "image/png": "[encoded data removed]",
      "text/plain": [
       "<Figure size 1200x400 with 2 Axes>"
      ]
     },
     "metadata": {},
     "output_type": "display_data"
    }
   ],
   "source": [
    "dims = (6 * len(dicc_model), 4)\n",
    "fig, ax = plt.subplots(figsize=dims, ncols=len(dicc_model))\n",
    "\n",
    "with sns.axes_style('darkgrid'):\n",
    "    for i, (key, model) in enumerate(dicc_model.items()):\n",
    "        if isinstance(ax, np.ndarray):\n",
    "            ax_i = ax[i]\n",
    "        else:\n",
    "            ax_i = ax\n",
    "        label = key.replace(\"_model\", \"\")\n",
    "        if label == 'f0':\n",
    "            label = r'$f_{0}$'\n",
    "        else:\n",
    "            label = label.upper()\n",
    "        g = sns.scatterplot(x=X[:, dicc_names_features[key]], y=y, ax=ax_i, color='blue')\n",
    "        g = sns.lineplot(x=X[:, dicc_names_features[key]], y=dicc_pred[key], ax=ax_i, color='red')\n",
    "        g.text(0.5, -0.1, label, weight='bold', size='large', family='Arial', stretch='extra-expanded', ha='center', va='top', transform=g.transAxes)\n",
    "        g.set_ylabel('Naturalidad', weight='bold', size='large', alpha=0.8, family='Arial', stretch='extra-expanded')\n",
    "        g.set_title(list_equ[i], weight='bold', size='x-large', alpha=0.8, family='Arial', stretch='extra-expanded')\n",
    "        g.grid(alpha=0.7)\n",
    "        ax_i.set_ylim(0, 6)\n",
    "        \n",
    "        # Verificar si los valores en el eje x son menores que 1\n",
    "        if np.any(np.abs(X[:, dicc_names_features[key]]) < 1):\n",
    "            # Crear el formateador\n",
    "            formatter = ticker.FuncFormatter(format_decimal)\n",
    "\n",
    "            # Usar el formateador en el eje x de tus gráficos\n",
    "            ax_i.xaxis.set_major_formatter(formatter)\n",
    "\n",
    "    plt.tight_layout()\n",
    "    plt.figtext(0.02, 0.01, '*: p-valor < 0,05    **: p-valor < 0,01', fontsize=9)\n",
    "    plt.savefig(os.path.join(PATH, TEST_FOLDER, REGGRESSION_FOLDER, PARAMETRIC_FOLDER, NATURALIDAD_FOLDER, FEMALE_FOLDER, 'regresiones_naturalidad_female.png'))\n",
    "    plt.show()\n"
   ]
  },
  {
   "cell_type": "code",
   "execution_count": 1078,
   "id": "e1e3c881",
   "metadata": {
    "execution": {
     "iopub.execute_input": "2023-06-11T01:40:38.608543Z",
     "iopub.status.busy": "2023-06-11T01:40:38.608543Z",
     "iopub.status.idle": "2023-06-11T01:40:38.639886Z",
     "shell.execute_reply": "2023-06-11T01:40:38.639886Z"
    },
    "papermill": {
     "duration": 0.138964,
     "end_time": "2023-06-11T01:40:38.639886",
     "exception": false,
     "start_time": "2023-06-11T01:40:38.500922",
     "status": "completed"
    },
    "tags": []
   },
   "outputs": [
    {
     "data": {
      "application/vnd.plotly.v1+json": {
       "config": {
        "plotlyServerURL": "https://plot.ly"
       },
       "data": [
        {
         "hovertemplate": "x=%{x}<br>y=%{y}<br>z=%{z}<extra></extra>",
         "legendgroup": "",
         "marker": {
          "color": "#636efa",
          "symbol": "circle"
         },
         "mode": "markers",
         "name": "",
         "scene": "scene",
         "showlegend": false,
         "type": "scatter3d",
         "x": [
          -27.5,
          -26.1,
          -27,
          -30,
          -29,
          -28.5,
          -25.5,
          -26.5,
          -29.5,
          -28
         ],
         "y": [
          111.111716480441,
          116.353345265724,
          101.312090449968,
          101.534873965827,
          117.741416962869,
          119.577565453938,
          100.992252773665,
          117.898565521619,
          102.269338478718,
          94.7081174667994
         ],
         "z": [
          4.3088235294117645,
          3.2205882352941178,
          3.411764705882353,
          2.176470588235294,
          2,
          2.75,
          4.147058823529412,
          3.264705882352941,
          2.8823529411764706,
          3.779411764705882
         ]
        },
        {
         "opacity": 0.5,
         "type": "surface",
         "x": [
          [
           -27.5,
           -26.1,
           -27,
           -30,
           -29,
           -28.5,
           -25.5,
           -26.5,
           -29.5,
           -28
          ],
          [
           -27.5,
           -26.1,
           -27,
           -30,
           -29,
           -28.5,
           -25.5,
           -26.5,
           -29.5,
           -28
          ],
          [
           -27.5,
           -26.1,
           -27,
           -30,
           -29,
           -28.5,
           -25.5,
           -26.5,
           -29.5,
           -28
          ],
          [
           -27.5,
           -26.1,
           -27,
           -30,
           -29,
           -28.5,
           -25.5,
           -26.5,
           -29.5,
           -28
          ],
          [
           -27.5,
           -26.1,
           -27,
           -30,
           -29,
           -28.5,
           -25.5,
           -26.5,
           -29.5,
           -28
          ],
          [
           -27.5,
           -26.1,
           -27,
           -30,
           -29,
           -28.5,
           -25.5,
           -26.5,
           -29.5,
           -28
          ],
          [
           -27.5,
           -26.1,
           -27,
           -30,
           -29,
           -28.5,
           -25.5,
           -26.5,
           -29.5,
           -28
          ],
          [
           -27.5,
           -26.1,
           -27,
           -30,
           -29,
           -28.5,
           -25.5,
           -26.5,
           -29.5,
           -28
          ],
          [
           -27.5,
           -26.1,
           -27,
           -30,
           -29,
           -28.5,
           -25.5,
           -26.5,
           -29.5,
           -28
          ],
          [
           -27.5,
           -26.1,
           -27,
           -30,
           -29,
           -28.5,
           -25.5,
           -26.5,
           -29.5,
           -28
          ]
         ],
         "y": [
          [
           111.111716480441,
           111.111716480441,
           111.111716480441,
           111.111716480441,
           111.111716480441,
           111.111716480441,
           111.111716480441,
           111.111716480441,
           111.111716480441,
           111.111716480441
          ],
          [
           116.353345265724,
           116.353345265724,
           116.353345265724,
           116.353345265724,
           116.353345265724,
           116.353345265724,
           116.353345265724,
           116.353345265724,
           116.353345265724,
           116.353345265724
          ],
          [
           101.312090449968,
           101.312090449968,
           101.312090449968,
           101.312090449968,
           101.312090449968,
           101.312090449968,
           101.312090449968,
           101.312090449968,
           101.312090449968,
           101.312090449968
          ],
          [
           101.534873965827,
           101.534873965827,
           101.534873965827,
           101.534873965827,
           101.534873965827,
           101.534873965827,
           101.534873965827,
           101.534873965827,
           101.534873965827,
           101.534873965827
          ],
          [
           117.741416962869,
           117.741416962869,
           117.741416962869,
           117.741416962869,
           117.741416962869,
           117.741416962869,
           117.741416962869,
           117.741416962869,
           117.741416962869,
           117.741416962869
          ],
          [
           119.577565453938,
           119.577565453938,
           119.577565453938,
           119.577565453938,
           119.577565453938,
           119.577565453938,
           119.577565453938,
           119.577565453938,
           119.577565453938,
           119.577565453938
          ],
          [
           100.992252773665,
           100.992252773665,
           100.992252773665,
           100.992252773665,
           100.992252773665,
           100.992252773665,
           100.992252773665,
           100.992252773665,
           100.992252773665,
           100.992252773665
          ],
          [
           117.898565521619,
           117.898565521619,
           117.898565521619,
           117.898565521619,
           117.898565521619,
           117.898565521619,
           117.898565521619,
           117.898565521619,
           117.898565521619,
           117.898565521619
          ],
          [
           102.269338478718,
           102.269338478718,
           102.269338478718,
           102.269338478718,
           102.269338478718,
           102.269338478718,
           102.269338478718,
           102.269338478718,
           102.269338478718,
           102.269338478718
          ],
          [
           94.7081174667994,
           94.7081174667994,
           94.7081174667994,
           94.7081174667994,
           94.7081174667994,
           94.7081174667994,
           94.7081174667994,
           94.7081174667994,
           94.7081174667994,
           94.7081174667994
          ]
         ],
         "z": [
          [
           3.200675961265599,
           3.7302051745941505,
           3.3897935374543664,
           2.2550880803217552,
           2.6333232326992935,
           2.822440808888061,
           3.957146266020672,
           3.5789111136431373,
           2.444205656510526,
           3.0115583850768317
          ],
          [
           3.0264803079077733,
           3.5560095212363247,
           3.2155978840965425,
           2.0808924269639313,
           2.4591275793414695,
           2.648245155530237,
           3.782950612662848,
           3.4047154602853116,
           2.2700100031527004,
           2.837362731719006
          ],
          [
           3.5263480622418264,
           4.055877275570378,
           3.7154656384305955,
           2.5807601812979843,
           2.9589953336755226,
           3.14811290986429,
           4.282818366996901,
           3.9045832146193646,
           2.7698777574867535,
           3.337230486053059
          ],
          [
           3.5189442719903354,
           4.048473485318887,
           3.7080618481791046,
           2.5733563910464934,
           2.9515915434240316,
           3.140709119612799,
           4.27541457674541,
           3.8971794243678737,
           2.7624739672352625,
           3.329826695801568
          ],
          [
           2.98035036126398,
           3.5098795745925315,
           3.1694679374527492,
           2.034762480320138,
           2.4129976326976763,
           2.6021152088864437,
           3.736820666019055,
           3.3585855136415184,
           2.223880056508907,
           2.7912327850752128
          ],
          [
           2.9193294269006405,
           3.448858640229192,
           3.1084470030894096,
           1.9737415459567984,
           2.3519766983343366,
           2.541094274523104,
           3.675799731655715,
           3.2975645792781787,
           2.1628591221455675,
           2.730211850711873
          ],
          [
           3.5369772645898596,
           4.066506477918411,
           3.7260948407786287,
           2.5913893836460176,
           2.969624536023556,
           3.158742112212323,
           4.293447569344934,
           3.915212416967398,
           2.7805069598347867,
           3.3478596884010923
          ],
          [
           2.9751278251045026,
           3.504657038433054,
           3.1642454012932717,
           2.0295399441606605,
           2.4077750965381988,
           2.596892672726966,
           3.7315981298595773,
           3.353362977482041,
           2.2186575203494296,
           2.7860102489157352
          ],
          [
           3.494535728208982,
           4.024064941537533,
           3.683653304397751,
           2.54894784726514,
           2.927182999642678,
           3.1163005758314455,
           4.251006032964057,
           3.87277088058652,
           2.738065423453909,
           3.3054181520202146
          ],
          [
           3.745818657296253,
           4.275347870624804,
           3.934936233485022,
           2.800230776352411,
           3.178465928729949,
           3.3675835049187164,
           4.502288962051328,
           4.124053809673791,
           2.98934835254118,
           3.5567010811074855
          ]
         ]
        }
       ],
       "layout": {
        "annotations": [
         {
          "font": {
           "size": 13
          },
          "showarrow": false,
          "text": "*: p-valor < 0,05    **: p-valor < 0,01",
          "x": 0.07,
          "xref": "paper",
          "y": -0.15,
          "yref": "paper"
         }
        ],
        "legend": {
         "tracegroupgap": 0
        },
        "margin": {
         "t": 60
        },
        "scene": {
         "domain": {
          "x": [
           0,
           1
          ],
          "y": [
           0,
           1
          ]
         },
         "xaxis": {
          "title": {
           "text": "RMS"
          }
         },
         "yaxis": {
          "tickvals": [
           100,
           105,
           110,
           115
          ],
          "title": {
           "text": "f₀"
          }
         },
         "zaxis": {
          "range": [
           0,
           6
          ],
          "title": {
           "text": "Naturalidad"
          }
         }
        },
        "template": {
         "data": {
          "bar": [
           {
            "error_x": {
             "color": "#2a3f5f"
            },
            "error_y": {
             "color": "#2a3f5f"
            },
            "marker": {
             "line": {
              "color": "#E5ECF6",
              "width": 0.5
             },
             "pattern": {
              "fillmode": "overlay",
              "size": 10,
              "solidity": 0.2
             }
            },
            "type": "bar"
           }
          ],
          "barpolar": [
           {
            "marker": {
             "line": {
              "color": "#E5ECF6",
              "width": 0.5
             },
             "pattern": {
              "fillmode": "overlay",
              "size": 10,
              "solidity": 0.2
             }
            },
            "type": "barpolar"
           }
          ],
          "carpet": [
           {
            "aaxis": {
             "endlinecolor": "#2a3f5f",
             "gridcolor": "white",
             "linecolor": "white",
             "minorgridcolor": "white",
             "startlinecolor": "#2a3f5f"
            },
            "baxis": {
             "endlinecolor": "#2a3f5f",
             "gridcolor": "white",
             "linecolor": "white",
             "minorgridcolor": "white",
             "startlinecolor": "#2a3f5f"
            },
            "type": "carpet"
           }
          ],
          "choropleth": [
           {
            "colorbar": {
             "outlinewidth": 0,
             "ticks": ""
            },
            "type": "choropleth"
           }
          ],
          "contour": [
           {
            "colorbar": {
             "outlinewidth": 0,
             "ticks": ""
            },
            "colorscale": [
             [
              0,
              "#0d0887"
             ],
             [
              0.1111111111111111,
              "#46039f"
             ],
             [
              0.2222222222222222,
              "#7201a8"
             ],
             [
              0.3333333333333333,
              "#9c179e"
             ],
             [
              0.4444444444444444,
              "#bd3786"
             ],
             [
              0.5555555555555556,
              "#d8576b"
             ],
             [
              0.6666666666666666,
              "#ed7953"
             ],
             [
              0.7777777777777778,
              "#fb9f3a"
             ],
             [
              0.8888888888888888,
              "#fdca26"
             ],
             [
              1,
              "#f0f921"
             ]
            ],
            "type": "contour"
           }
          ],
          "contourcarpet": [
           {
            "colorbar": {
             "outlinewidth": 0,
             "ticks": ""
            },
            "type": "contourcarpet"
           }
          ],
          "heatmap": [
           {
            "colorbar": {
             "outlinewidth": 0,
             "ticks": ""
            },
            "colorscale": [
             [
              0,
              "#0d0887"
             ],
             [
              0.1111111111111111,
              "#46039f"
             ],
             [
              0.2222222222222222,
              "#7201a8"
             ],
             [
              0.3333333333333333,
              "#9c179e"
             ],
             [
              0.4444444444444444,
              "#bd3786"
             ],
             [
              0.5555555555555556,
              "#d8576b"
             ],
             [
              0.6666666666666666,
              "#ed7953"
             ],
             [
              0.7777777777777778,
              "#fb9f3a"
             ],
             [
              0.8888888888888888,
              "#fdca26"
             ],
             [
              1,
              "#f0f921"
             ]
            ],
            "type": "heatmap"
           }
          ],
          "heatmapgl": [
           {
            "colorbar": {
             "outlinewidth": 0,
             "ticks": ""
            },
            "colorscale": [
             [
              0,
              "#0d0887"
             ],
             [
              0.1111111111111111,
              "#46039f"
             ],
             [
              0.2222222222222222,
              "#7201a8"
             ],
             [
              0.3333333333333333,
              "#9c179e"
             ],
             [
              0.4444444444444444,
              "#bd3786"
             ],
             [
              0.5555555555555556,
              "#d8576b"
             ],
             [
              0.6666666666666666,
              "#ed7953"
             ],
             [
              0.7777777777777778,
              "#fb9f3a"
             ],
             [
              0.8888888888888888,
              "#fdca26"
             ],
             [
              1,
              "#f0f921"
             ]
            ],
            "type": "heatmapgl"
           }
          ],
          "histogram": [
           {
            "marker": {
             "pattern": {
              "fillmode": "overlay",
              "size": 10,
              "solidity": 0.2
             }
            },
            "type": "histogram"
           }
          ],
          "histogram2d": [
           {
            "colorbar": {
             "outlinewidth": 0,
             "ticks": ""
            },
            "colorscale": [
             [
              0,
              "#0d0887"
             ],
             [
              0.1111111111111111,
              "#46039f"
             ],
             [
              0.2222222222222222,
              "#7201a8"
             ],
             [
              0.3333333333333333,
              "#9c179e"
             ],
             [
              0.4444444444444444,
              "#bd3786"
             ],
             [
              0.5555555555555556,
              "#d8576b"
             ],
             [
              0.6666666666666666,
              "#ed7953"
             ],
             [
              0.7777777777777778,
              "#fb9f3a"
             ],
             [
              0.8888888888888888,
              "#fdca26"
             ],
             [
              1,
              "#f0f921"
             ]
            ],
            "type": "histogram2d"
           }
          ],
          "histogram2dcontour": [
           {
            "colorbar": {
             "outlinewidth": 0,
             "ticks": ""
            },
            "colorscale": [
             [
              0,
              "#0d0887"
             ],
             [
              0.1111111111111111,
              "#46039f"
             ],
             [
              0.2222222222222222,
              "#7201a8"
             ],
             [
              0.3333333333333333,
              "#9c179e"
             ],
             [
              0.4444444444444444,
              "#bd3786"
             ],
             [
              0.5555555555555556,
              "#d8576b"
             ],
             [
              0.6666666666666666,
              "#ed7953"
             ],
             [
              0.7777777777777778,
              "#fb9f3a"
             ],
             [
              0.8888888888888888,
              "#fdca26"
             ],
             [
              1,
              "#f0f921"
             ]
            ],
            "type": "histogram2dcontour"
           }
          ],
          "mesh3d": [
           {
            "colorbar": {
             "outlinewidth": 0,
             "ticks": ""
            },
            "type": "mesh3d"
           }
          ],
          "parcoords": [
           {
            "line": {
             "colorbar": {
              "outlinewidth": 0,
              "ticks": ""
             }
            },
            "type": "parcoords"
           }
          ],
          "pie": [
           {
            "automargin": true,
            "type": "pie"
           }
          ],
          "scatter": [
           {
            "fillpattern": {
             "fillmode": "overlay",
             "size": 10,
             "solidity": 0.2
            },
            "type": "scatter"
           }
          ],
          "scatter3d": [
           {
            "line": {
             "colorbar": {
              "outlinewidth": 0,
              "ticks": ""
             }
            },
            "marker": {
             "colorbar": {
              "outlinewidth": 0,
              "ticks": ""
             }
            },
            "type": "scatter3d"
           }
          ],
          "scattercarpet": [
           {
            "marker": {
             "colorbar": {
              "outlinewidth": 0,
              "ticks": ""
             }
            },
            "type": "scattercarpet"
           }
          ],
          "scattergeo": [
           {
            "marker": {
             "colorbar": {
              "outlinewidth": 0,
              "ticks": ""
             }
            },
            "type": "scattergeo"
           }
          ],
          "scattergl": [
           {
            "marker": {
             "colorbar": {
              "outlinewidth": 0,
              "ticks": ""
             }
            },
            "type": "scattergl"
           }
          ],
          "scattermapbox": [
           {
            "marker": {
             "colorbar": {
              "outlinewidth": 0,
              "ticks": ""
             }
            },
            "type": "scattermapbox"
           }
          ],
          "scatterpolar": [
           {
            "marker": {
             "colorbar": {
              "outlinewidth": 0,
              "ticks": ""
             }
            },
            "type": "scatterpolar"
           }
          ],
          "scatterpolargl": [
           {
            "marker": {
             "colorbar": {
              "outlinewidth": 0,
              "ticks": ""
             }
            },
            "type": "scatterpolargl"
           }
          ],
          "scatterternary": [
           {
            "marker": {
             "colorbar": {
              "outlinewidth": 0,
              "ticks": ""
             }
            },
            "type": "scatterternary"
           }
          ],
          "surface": [
           {
            "colorbar": {
             "outlinewidth": 0,
             "ticks": ""
            },
            "colorscale": [
             [
              0,
              "#0d0887"
             ],
             [
              0.1111111111111111,
              "#46039f"
             ],
             [
              0.2222222222222222,
              "#7201a8"
             ],
             [
              0.3333333333333333,
              "#9c179e"
             ],
             [
              0.4444444444444444,
              "#bd3786"
             ],
             [
              0.5555555555555556,
              "#d8576b"
             ],
             [
              0.6666666666666666,
              "#ed7953"
             ],
             [
              0.7777777777777778,
              "#fb9f3a"
             ],
             [
              0.8888888888888888,
              "#fdca26"
             ],
             [
              1,
              "#f0f921"
             ]
            ],
            "type": "surface"
           }
          ],
          "table": [
           {
            "cells": {
             "fill": {
              "color": "#EBF0F8"
             },
             "line": {
              "color": "white"
             }
            },
            "header": {
             "fill": {
              "color": "#C8D4E3"
             },
             "line": {
              "color": "white"
             }
            },
            "type": "table"
           }
          ]
         },
         "layout": {
          "annotationdefaults": {
           "arrowcolor": "#2a3f5f",
           "arrowhead": 0,
           "arrowwidth": 1
          },
          "autotypenumbers": "strict",
          "coloraxis": {
           "colorbar": {
            "outlinewidth": 0,
            "ticks": ""
           }
          },
          "colorscale": {
           "diverging": [
            [
             0,
             "#8e0152"
            ],
            [
             0.1,
             "#c51b7d"
            ],
            [
             0.2,
             "#de77ae"
            ],
            [
             0.3,
             "#f1b6da"
            ],
            [
             0.4,
             "#fde0ef"
            ],
            [
             0.5,
             "#f7f7f7"
            ],
            [
             0.6,
             "#e6f5d0"
            ],
            [
             0.7,
             "#b8e186"
            ],
            [
             0.8,
             "#7fbc41"
            ],
            [
             0.9,
             "#4d9221"
            ],
            [
             1,
             "#276419"
            ]
           ],
           "sequential": [
            [
             0,
             "#0d0887"
            ],
            [
             0.1111111111111111,
             "#46039f"
            ],
            [
             0.2222222222222222,
             "#7201a8"
            ],
            [
             0.3333333333333333,
             "#9c179e"
            ],
            [
             0.4444444444444444,
             "#bd3786"
            ],
            [
             0.5555555555555556,
             "#d8576b"
            ],
            [
             0.6666666666666666,
             "#ed7953"
            ],
            [
             0.7777777777777778,
             "#fb9f3a"
            ],
            [
             0.8888888888888888,
             "#fdca26"
            ],
            [
             1,
             "#f0f921"
            ]
           ],
           "sequentialminus": [
            [
             0,
             "#0d0887"
            ],
            [
             0.1111111111111111,
             "#46039f"
            ],
            [
             0.2222222222222222,
             "#7201a8"
            ],
            [
             0.3333333333333333,
             "#9c179e"
            ],
            [
             0.4444444444444444,
             "#bd3786"
            ],
            [
             0.5555555555555556,
             "#d8576b"
            ],
            [
             0.6666666666666666,
             "#ed7953"
            ],
            [
             0.7777777777777778,
             "#fb9f3a"
            ],
            [
             0.8888888888888888,
             "#fdca26"
            ],
            [
             1,
             "#f0f921"
            ]
           ]
          },
          "colorway": [
           "#636efa",
           "#EF553B",
           "#00cc96",
           "#ab63fa",
           "#FFA15A",
           "#19d3f3",
           "#FF6692",
           "#B6E880",
           "#FF97FF",
           "#FECB52"
          ],
          "font": {
           "color": "#2a3f5f"
          },
          "geo": {
           "bgcolor": "white",
           "lakecolor": "white",
           "landcolor": "#E5ECF6",
           "showlakes": true,
           "showland": true,
           "subunitcolor": "white"
          },
          "hoverlabel": {
           "align": "left"
          },
          "hovermode": "closest",
          "mapbox": {
           "style": "light"
          },
          "paper_bgcolor": "white",
          "plot_bgcolor": "#E5ECF6",
          "polar": {
           "angularaxis": {
            "gridcolor": "white",
            "linecolor": "white",
            "ticks": ""
           },
           "bgcolor": "#E5ECF6",
           "radialaxis": {
            "gridcolor": "white",
            "linecolor": "white",
            "ticks": ""
           }
          },
          "scene": {
           "xaxis": {
            "backgroundcolor": "#E5ECF6",
            "gridcolor": "white",
            "gridwidth": 2,
            "linecolor": "white",
            "showbackground": true,
            "ticks": "",
            "zerolinecolor": "white"
           },
           "yaxis": {
            "backgroundcolor": "#E5ECF6",
            "gridcolor": "white",
            "gridwidth": 2,
            "linecolor": "white",
            "showbackground": true,
            "ticks": "",
            "zerolinecolor": "white"
           },
           "zaxis": {
            "backgroundcolor": "#E5ECF6",
            "gridcolor": "white",
            "gridwidth": 2,
            "linecolor": "white",
            "showbackground": true,
            "ticks": "",
            "zerolinecolor": "white"
           }
          },
          "shapedefaults": {
           "line": {
            "color": "#2a3f5f"
           }
          },
          "ternary": {
           "aaxis": {
            "gridcolor": "white",
            "linecolor": "white",
            "ticks": ""
           },
           "baxis": {
            "gridcolor": "white",
            "linecolor": "white",
            "ticks": ""
           },
           "bgcolor": "#E5ECF6",
           "caxis": {
            "gridcolor": "white",
            "linecolor": "white",
            "ticks": ""
           }
          },
          "title": {
           "x": 0.05
          },
          "xaxis": {
           "automargin": true,
           "gridcolor": "white",
           "linecolor": "white",
           "ticks": "",
           "title": {
            "standoff": 15
           },
           "zerolinecolor": "white",
           "zerolinewidth": 2
          },
          "yaxis": {
           "automargin": true,
           "gridcolor": "white",
           "linecolor": "white",
           "ticks": "",
           "title": {
            "standoff": 15
           },
           "zerolinecolor": "white",
           "zerolinewidth": 2
          }
         }
        },
        "title": {
         "text": "z = 17,29 + 0,38 * RMS <sup>*</sup> + -0,03 * <i>f₀</i>  - R² = 0,641",
         "x": 0.5,
         "xanchor": "center"
        }
       }
      }
     },
     "metadata": {},
     "output_type": "display_data"
    }
   ],
   "source": [
    "if len(dicc_model) == 2:\n",
    "    import plotly.express as px\n",
    "    import plotly.graph_objects as go\n",
    "\n",
    "    # Seleccionamos solo las características seleccionadas en X\n",
    "    X_selected = X[:, selected_features]\n",
    "\n",
    "    # Entrenamos el modelo de regresión con las características seleccionadas\n",
    "    regr_multivar = SMWrapper(sm.OLS)\n",
    "    regr_multivar_fit = regr_multivar.fit(X_selected, y)\n",
    "\n",
    "    # Obtenemos las predicciones del modelo para las características seleccionadas\n",
    "    y_pred = regr_multivar.predict(X_selected)\n",
    "\n",
    "    # Crear la figura\n",
    "    fig = px.scatter_3d(x=X_selected[:, 0], y=X_selected[:, 1], z=y)\n",
    "\n",
    "    # Crear el plano de regresión\n",
    "    xx, yy = np.meshgrid(X_selected[:, 0], X_selected[:, 1])\n",
    "    zz = regr_multivar_fit.params[0] + np.dot(np.array([xx.ravel(), yy.ravel()]).T, regr_multivar_fit.params[1:].ravel()).reshape(xx.shape)\n",
    "    fig.add_trace(go.Surface(x=xx, y=yy, z=zz, opacity=0.5))\n",
    "\n",
    "    axis_name_list = []\n",
    "    # Construir la cadena de texto para la ecuación del plano\n",
    "    equation = f'z = {regr_multivar_fit.params[0].round(2)}'\n",
    "    for i, (key, model) in enumerate(dicc_model.items()):\n",
    "        feature_name = key.replace(\"_model\", \"\").upper()\n",
    "        feature_name_axis = feature_name\n",
    "        if feature_name == 'F0':\n",
    "            feature_name = '<i>f₀</i>'\n",
    "            feature_name_axis = 'f₀'\n",
    "        axis_name_list.append(feature_name_axis)\n",
    "        if regr_multivar_fit.pvalues[1:][i] < 0.01:\n",
    "            label = '<sup>**</sup>'\n",
    "        elif regr_multivar_fit.pvalues[1:][i] < 0.05:\n",
    "            label = '<sup>*</sup>'\n",
    "        else:\n",
    "            label = ''\n",
    "        equation += f' + {regr_multivar_fit.params[1:][i].round(2)} * {feature_name} {label}'\n",
    "        \n",
    "    equation += f' - R² = {r_squared_value:.3f}'\n",
    "    equation = equation.replace('.', ',')\n",
    "    \n",
    "    # Centrar el título\n",
    "    fig.update_layout(title=dict(text=equation, x=0.5, xanchor='center'))\n",
    "\n",
    "    # Verificar si los valores en el eje x son menores que 1\n",
    "    if np.any(np.abs(X_selected[:, 0]) < 1):\n",
    "        # Calcular los valores de los ticks\n",
    "        xaxis_tickvals = np.linspace(np.min(X_selected[:, 0]), np.max(X_selected[:, 0]), 6)[1:5]\n",
    "\n",
    "        # Convertir los valores de los ticks a strings y reemplazar los puntos por comas\n",
    "        xaxis_ticktext = [f'{val:.2f}'.replace('.', ',') for val in xaxis_tickvals]\n",
    "    else:\n",
    "        # Si los valores en el eje x son mayores o iguales a 1, usar el formato por defecto\n",
    "        xaxis_tickvals = None\n",
    "        xaxis_ticktext = None\n",
    "\n",
    "    # Etiquetas de los ejes y rango del eje z\n",
    "    fig.update_layout(scene=dict(xaxis=dict(title=axis_name_list[0], tickvals=xaxis_tickvals, ticktext=xaxis_ticktext), yaxis_title=axis_name_list[1], zaxis_title='Naturalidad', zaxis=dict(range=[0, 6]), yaxis=dict(tickvals=[100, 105, 110, 115])))\n",
    "\n",
    "    # Agrega la anotación al final\n",
    "    fig.add_annotation(\n",
    "        x=0.07,\n",
    "        y=-0.15,\n",
    "        xref=\"paper\",\n",
    "        yref=\"paper\",\n",
    "        text=\"*: p-valor < 0,05    **: p-valor < 0,01\",\n",
    "        showarrow=False,\n",
    "        font=dict(\n",
    "            size=13\n",
    "        )\n",
    "    )\n",
    "\n",
    "    fig.write_html(\n",
    "       os.path.join(PATH, TEST_FOLDER, REGGRESSION_FOLDER, PARAMETRIC_FOLDER, NATURALIDAD_FOLDER, FEMALE_FOLDER, 'regresion_naturalidad_multivariable_female.html')\n",
    "    )\n",
    "\n",
    "    fig.write_image(\n",
    "       os.path.join(PATH, TEST_FOLDER, REGGRESSION_FOLDER, PARAMETRIC_FOLDER, NATURALIDAD_FOLDER, FEMALE_FOLDER, 'regresion_naturalidad_multivariable_female.png')\n",
    "    )\n",
    "\n",
    "\n",
    "    fig.show()\n"
   ]
  },
  {
   "attachments": {},
   "cell_type": "markdown",
   "id": "c93d4d28",
   "metadata": {
    "papermill": {
     "duration": 0.107936,
     "end_time": "2023-06-11T01:40:38.841485",
     "exception": false,
     "start_time": "2023-06-11T01:40:38.733549",
     "status": "completed"
    },
    "tags": []
   },
   "source": [
    "### Cadencia"
   ]
  },
  {
   "cell_type": "code",
   "execution_count": 1079,
   "id": "842fcc7f",
   "metadata": {
    "execution": {
     "iopub.execute_input": "2023-06-11T01:40:39.074205Z",
     "iopub.status.busy": "2023-06-11T01:40:39.074205Z",
     "iopub.status.idle": "2023-06-11T01:40:39.089780Z",
     "shell.execute_reply": "2023-06-11T01:40:39.089780Z"
    },
    "papermill": {
     "duration": 0.134513,
     "end_time": "2023-06-11T01:40:39.089780",
     "exception": false,
     "start_time": "2023-06-11T01:40:38.955267",
     "status": "completed"
    },
    "tags": []
   },
   "outputs": [],
   "source": [
    "df_cadencia = df_union.loc[:, ['Cadencia', 'zcr', 'rms', 'f0', 'genero']]"
   ]
  },
  {
   "attachments": {},
   "cell_type": "markdown",
   "id": "a360f909",
   "metadata": {
    "papermill": {
     "duration": 0.12338,
     "end_time": "2023-06-11T01:40:39.306947",
     "exception": false,
     "start_time": "2023-06-11T01:40:39.183567",
     "status": "completed"
    },
    "tags": []
   },
   "source": [
    "#### Masculino"
   ]
  },
  {
   "cell_type": "code",
   "execution_count": 1080,
   "id": "c9cb3974",
   "metadata": {
    "execution": {
     "iopub.execute_input": "2023-06-11T01:40:39.507602Z",
     "iopub.status.busy": "2023-06-11T01:40:39.507602Z",
     "iopub.status.idle": "2023-06-11T01:40:39.538914Z",
     "shell.execute_reply": "2023-06-11T01:40:39.538914Z"
    },
    "papermill": {
     "duration": 0.12972,
     "end_time": "2023-06-11T01:40:39.538914",
     "exception": false,
     "start_time": "2023-06-11T01:40:39.409194",
     "status": "completed"
    },
    "tags": []
   },
   "outputs": [],
   "source": [
    "# Lista de p-values\n",
    "p_values = []\n",
    "\n",
    "mask_gender = df_cadencia.genero == 'masculino'\n",
    "\n",
    "df_cadencia_male = df_cadencia[mask_gender].drop(columns=['genero'])"
   ]
  },
  {
   "cell_type": "code",
   "execution_count": 1081,
   "id": "3c719c59",
   "metadata": {
    "execution": {
     "iopub.execute_input": "2023-06-11T01:40:39.756568Z",
     "iopub.status.busy": "2023-06-11T01:40:39.756568Z",
     "iopub.status.idle": "2023-06-11T01:40:39.834860Z",
     "shell.execute_reply": "2023-06-11T01:40:39.834860Z"
    },
    "papermill": {
     "duration": 0.202257,
     "end_time": "2023-06-11T01:40:39.834860",
     "exception": false,
     "start_time": "2023-06-11T01:40:39.632603",
     "status": "completed"
    },
    "tags": []
   },
   "outputs": [
    {
     "name": "stdout",
     "output_type": "stream",
     "text": [
      "Coeficiente de determinación R^2: 0.8347\n",
      "Shapiro-Wilk p-valor: 0.6572168469429016\n",
      "Durbin-Watson: 2.352290246781225\n",
      "Características seleccionadas: (0,)\n",
      "Característica Seleccionada ZCR: p-valor = 0.0002\n",
      "\n",
      "p-valor global: 0.0002194107813633637\n",
      "Ecuación: 5.10 - 13.50*ZCR\n",
      "\n",
      "Característica ZCR: p-valor = 0.0036\n",
      "Característica RMS: p-valor = 0.2866\n",
      "Característica f0: p-valor = 0.8908\n"
     ]
    }
   ],
   "source": [
    "# Cargamos los datos\n",
    "X = np.array(df_cadencia_male.drop(columns=['Cadencia'])) # df_objetivos es el DataFrame con los parámetros objetivos\n",
    "y = np.array(df_cadencia_male.Cadencia) # df_subjetivos es el DataFrame con los parámetros subjetivos\n",
    "\n",
    "# Creamos el modelo de regresión lineal con el envoltorio\n",
    "regr_multivar = SMWrapper(sm.OLS)\n",
    "\n",
    "# Creamos el selector de características hacia adelante\n",
    "forward_selector = SequentialFeatureSelector(regr_multivar, k_features='best', forward=True, scoring='neg_mean_squared_error')\n",
    "\n",
    "# Entrenamos el selector de características\n",
    "forward_selector.fit(X, y)\n",
    "\n",
    "# Obtenemos las características seleccionadas\n",
    "selected_features = forward_selector.k_feature_idx_\n",
    "\n",
    "# Lógica para rellenar las características no seleccionadas\n",
    "count_features = set(selected_features)\n",
    "total_features = set([0,1,2])\n",
    "missing_features = total_features - count_features\n",
    "\n",
    "for missing_feature in missing_features:\n",
    "    if missing_feature == 0:\n",
    "        dicc_p_value['ZCR'].append(np.nan)\n",
    "    elif missing_feature == 1:\n",
    "        dicc_p_value['RMS'].append(np.nan)\n",
    "    else:\n",
    "        dicc_p_value['f0'].append(np.nan)\n",
    "\n",
    "regr_multivar_fit = regr_multivar.fit(X[:, selected_features], y)\n",
    "\n",
    "# Obtenemos el R^2 del modelo\n",
    "r_squared_value = regr_multivar_fit.rsquared\n",
    "\n",
    "print(f'Coeficiente de determinación R^2: {r_squared_value:.4f}')\n",
    "\n",
    "# Obtenemos los residuos del modelo\n",
    "residuals = y - regr_multivar.predict(X[:, selected_features])\n",
    "\n",
    "# Realizamos la prueba de Shapiro-Wilk\n",
    "shapiro_test = stats.shapiro(residuals)\n",
    "\n",
    "# Imprimimos el resultado de la prueba\n",
    "print('Shapiro-Wilk p-valor:', shapiro_test.pvalue)\n",
    "\n",
    "# Realizamos el test de Durbin-Watson\n",
    "dw_test = durbin_watson(residuals)\n",
    "\n",
    "# Imprimimos el resultado del test\n",
    "print('Durbin-Watson:', dw_test)\n",
    "\n",
    "# Imprimimos las características seleccionadas\n",
    "print('Características seleccionadas:', selected_features)\n",
    "\n",
    "# Imprimimos los p-valores para cada característica seleccionada\n",
    "for feature, pvalue in zip(selected_features, regr_multivar_fit.pvalues[1:]):\n",
    "\n",
    "    if feature == 0:\n",
    "        feature = 'ZCR'\n",
    "    elif feature == 1:\n",
    "        feature = 'RMS'\n",
    "    else:\n",
    "        feature = 'f0'\n",
    "        \n",
    "    p_values.append(pvalue)\n",
    "    dicc_p_value[feature].append(pvalue)\n",
    "    \n",
    "    print(f'Característica Seleccionada {feature}: p-valor = {pvalue:.4f}')\n",
    "\n",
    "print()\n",
    "\n",
    "# Imprimimos el p-valor global\n",
    "print('p-valor global:', regr_multivar_fit.f_pvalue)\n",
    "\n",
    "features = {\n",
    "    1: 'ZCR',\n",
    "    2: 'RMS',\n",
    "    3: 'f0'\n",
    "}\n",
    "\n",
    "# Imprimimos la ecuación resultante\n",
    "equation = \"Ecuación: \"\n",
    "for i, coef in enumerate(regr_multivar_fit.params):\n",
    "    if i == 0:\n",
    "        equation += f\"{coef:.2f}\"\n",
    "    else:\n",
    "        if coef < 0:\n",
    "            equation += f\" - {-coef:.2f}*{features[i]}\"\n",
    "        else:\n",
    "            equation += f\" + {coef:.2f}*{features[i]}\"\n",
    "print(equation)\n",
    "\n",
    "print()\n",
    "# Creamos el modelo OLS (mínimos cuadrados ordinarios) y lo ajustamos a los datos\n",
    "results = regr_multivar.fit(X, y)\n",
    "\n",
    "# Imprimimos los p-valores para cada característica seleccionada\n",
    "for feature, pvalue in zip(list(range(X.shape[1])), results.pvalues[1:]):\n",
    "\n",
    "    if feature == 0:\n",
    "        feature = 'ZCR'\n",
    "    elif feature == 1:\n",
    "        feature = 'RMS'\n",
    "    else:\n",
    "        feature = 'f0'\n",
    "    \n",
    "    print(f'Característica {feature}: p-valor = {pvalue:.4f}')\n",
    "\n",
    "\n",
    "dicc_p_value['subjetive_parameter'].append('Cadencia')\n",
    "dicc_p_value['genero'].append('masculino')\n",
    "dicc_p_value['selected_features'].append(list(selected_features))\n",
    "dicc_p_value['shapiro_wilk_test'].append(shapiro_test.pvalue)\n",
    "\n",
    "# Almacenamos los resultados en el diccionario\n",
    "dicc_dw[\"Dublin-Watson Test\"].append(dw_test)\n",
    "dicc_dw[\"Parametro subjetivo\"].append('Cadencia')\n",
    "dicc_dw[\"Genero\"].append('masculino')\n"
   ]
  },
  {
   "cell_type": "code",
   "execution_count": 1082,
   "id": "57102a14",
   "metadata": {
    "execution": {
     "iopub.execute_input": "2023-06-11T01:40:56.607176Z",
     "iopub.status.busy": "2023-06-11T01:40:56.607176Z",
     "iopub.status.idle": "2023-06-11T01:40:56.622896Z",
     "shell.execute_reply": "2023-06-11T01:40:56.622896Z"
    },
    "papermill": {
     "duration": 0.136056,
     "end_time": "2023-06-11T01:40:56.622896",
     "exception": false,
     "start_time": "2023-06-11T01:40:56.486840",
     "status": "completed"
    },
    "tags": []
   },
   "outputs": [],
   "source": [
    "# Dicc auxiliar con los nombres asociadas a las variables\n",
    "dicc_names_features = {\n",
    "    'zcr_model': 0,\n",
    "    'rms_model': 1,\n",
    "    'f0_model': 2\n",
    "}\n",
    "\n",
    "# Dicc de los modelos\n",
    "dicc_model = {}\n",
    "\n",
    "# Dicc de las predicciones\n",
    "dicc_pred = {}\n",
    "\n",
    "for selected_feature in selected_features:\n",
    "    # Entrenamos el modelo de regresión con las características seleccionadas\n",
    "    regr_multivar = SMWrapper(sm.OLS)\n",
    "    regr_multivar_fit = regr_multivar.fit(X[:, selected_feature].reshape(-1, 1), y.ravel())\n",
    "\n",
    "    # Almacenamos en dicc_model la clave asociada al modelo que se entrenó y el objeto modelo\n",
    "    for key, value in dicc_names_features.items():\n",
    "        if value == selected_feature:\n",
    "            dicc_model[key] = regr_multivar_fit\n",
    "\n",
    "    # Obtenemos las predicciones del modelo para las características seleccionadas\n",
    "    y_pred = regr_multivar.predict(X[:, selected_feature].reshape(-1, 1))\n",
    "\n",
    "    # Almacenamos en dicc_pred la clave asociada al modelo que se entrenó y la predicción\n",
    "    for key, value in dicc_names_features.items():\n",
    "        if value == selected_feature:\n",
    "            dicc_pred[key] = y_pred\n"
   ]
  },
  {
   "cell_type": "code",
   "execution_count": 1083,
   "id": "53e6df24",
   "metadata": {
    "execution": {
     "iopub.execute_input": "2023-06-11T01:40:56.856864Z",
     "iopub.status.busy": "2023-06-11T01:40:56.856864Z",
     "iopub.status.idle": "2023-06-11T01:40:56.872593Z",
     "shell.execute_reply": "2023-06-11T01:40:56.872593Z"
    },
    "papermill": {
     "duration": 0.140415,
     "end_time": "2023-06-11T01:40:56.872593",
     "exception": false,
     "start_time": "2023-06-11T01:40:56.732178",
     "status": "completed"
    },
    "tags": []
   },
   "outputs": [
    {
     "name": "stdout",
     "output_type": "stream",
     "text": [
      "y = -13,5 * ZCR$^{**}$ + 5,1 - R$^2$ = 0,835\n"
     ]
    }
   ],
   "source": [
    "list_equ = []\n",
    "\n",
    "for idx, (key, model) in enumerate(dicc_model.items()):\n",
    "    # Obtenemos los valores de w y b\n",
    "    w = model.params[1:][0]\n",
    "    b = model.params[0]\n",
    "    r_squared = model.rsquared\n",
    "    \n",
    "    label = key.replace(\"_model\", \"\")\n",
    "    if label == 'f0':\n",
    "        label = r'$f_{0}$'\n",
    "    else:\n",
    "        label = label.upper()\n",
    "\n",
    "    # Verificamos el valor de p y agregamos el superíndice correspondiente\n",
    "    if p_values[idx] < 0.01:\n",
    "        label += '$^{**}$'\n",
    "    elif p_values[idx] < 0.05:\n",
    "        label += '$^{*}$'\n",
    "\n",
    "    if len(dicc_model) == 1:\n",
    "        # Construimos la cadena de texto para la ecuación del hiperplano y su p-valor\n",
    "        equation = f'y = {w.round(2)} * {label} + {b.round(2)} - R$^2$ = {r_squared:.3f}'\n",
    "    else:\n",
    "        equation = f'y = {w.round(2)} * {label} + {b.round(2)}'\n",
    "\n",
    "    equation = equation.replace('.', ',')\n",
    "    # Agregamos la cadena a la lista\n",
    "    list_equ.append(equation)\n",
    "\n",
    "# Mostramos el resultado\n",
    "for equ in list_equ:\n",
    "    print(equ)"
   ]
  },
  {
   "cell_type": "code",
   "execution_count": 1084,
   "id": "63878874",
   "metadata": {
    "execution": {
     "iopub.execute_input": "2023-06-11T01:40:57.091076Z",
     "iopub.status.busy": "2023-06-11T01:40:57.091076Z",
     "iopub.status.idle": "2023-06-11T01:40:57.945078Z",
     "shell.execute_reply": "2023-06-11T01:40:57.943395Z"
    },
    "papermill": {
     "duration": 0.975622,
     "end_time": "2023-06-11T01:40:57.948078",
     "exception": false,
     "start_time": "2023-06-11T01:40:56.972456",
     "status": "completed"
    },
    "tags": []
   },
   "outputs": [
    {
     "data": {
      "image/png": "[encoded data removed]",
      "text/plain": [
       "<Figure size 600x400 with 1 Axes>"
      ]
     },
     "metadata": {},
     "output_type": "display_data"
    }
   ],
   "source": [
    "dims = (6 * len(dicc_model), 4)\n",
    "fig, ax = plt.subplots(figsize=dims, ncols=len(dicc_model))\n",
    "\n",
    "with sns.axes_style('darkgrid'):\n",
    "    for i, (key, model) in enumerate(dicc_model.items()):\n",
    "        if isinstance(ax, np.ndarray):\n",
    "            ax_i = ax[i]\n",
    "        else:\n",
    "            ax_i = ax\n",
    "        label = key.replace(\"_model\", \"\")\n",
    "        if label == 'f0':\n",
    "            label = r'$f_{0}$'\n",
    "        else:\n",
    "            label = label.upper()\n",
    "        g = sns.scatterplot(x=X[:, dicc_names_features[key]], y=y, ax=ax_i, color='blue')\n",
    "        g = sns.lineplot(x=X[:, dicc_names_features[key]], y=dicc_pred[key], ax=ax_i, color='red')\n",
    "        g.text(0.5, -0.1, label, weight='bold', size='large', family='Arial', stretch='extra-expanded', ha='center', va='top', transform=g.transAxes)\n",
    "        g.set_ylabel('Cadencia', weight='bold', size='large', alpha=0.8, family='Arial', stretch='extra-expanded')\n",
    "        g.set_title(list_equ[i], weight='bold', size='x-large', alpha=0.8, family='Arial', stretch='extra-expanded')\n",
    "        g.grid(alpha=0.7)\n",
    "        ax_i.set_ylim(0, 6)\n",
    "        \n",
    "        # Verificar si los valores en el eje x son menores que 1\n",
    "        if np.any(np.abs(X[:, dicc_names_features[key]]) < 1):\n",
    "            # Crear el formateador\n",
    "            formatter = ticker.FuncFormatter(format_decimal)\n",
    "\n",
    "            # Usar el formateador en el eje x de tus gráficos\n",
    "            ax_i.xaxis.set_major_formatter(formatter)\n",
    "\n",
    "    plt.tight_layout()\n",
    "    plt.figtext(0.02, 0.01, '*: p-valor < 0,05    **: p-valor < 0,01', fontsize=9)\n",
    "    plt.savefig(os.path.join(PATH, TEST_FOLDER, REGGRESSION_FOLDER, PARAMETRIC_FOLDER, CADENCIA_FOLDER, MALE_FOLDER, 'regresiones_cadencia_male.png'))\n",
    "    plt.show()\n"
   ]
  },
  {
   "cell_type": "code",
   "execution_count": 1085,
   "id": "31c9bddd",
   "metadata": {
    "execution": {
     "iopub.execute_input": "2023-06-11T01:40:58.174372Z",
     "iopub.status.busy": "2023-06-11T01:40:58.174372Z",
     "iopub.status.idle": "2023-06-11T01:40:58.299448Z",
     "shell.execute_reply": "2023-06-11T01:40:58.299448Z"
    },
    "papermill": {
     "duration": 0.244883,
     "end_time": "2023-06-11T01:40:58.299448",
     "exception": false,
     "start_time": "2023-06-11T01:40:58.054565",
     "status": "completed"
    },
    "tags": []
   },
   "outputs": [],
   "source": [
    "if len(dicc_model) == 2:\n",
    "    import plotly.express as px\n",
    "    import plotly.graph_objects as go\n",
    "\n",
    "    # Seleccionamos solo las características seleccionadas en X\n",
    "    X_selected = X[:, selected_features]\n",
    "\n",
    "    # Entrenamos el modelo de regresión con las características seleccionadas\n",
    "    regr_multivar = SMWrapper(sm.OLS)\n",
    "    regr_multivar_fit = regr_multivar.fit(X_selected, y)\n",
    "\n",
    "    # Obtenemos las predicciones del modelo para las características seleccionadas\n",
    "    y_pred = regr_multivar.predict(X_selected)\n",
    "\n",
    "    # Crear la figura\n",
    "    fig = px.scatter_3d(x=X_selected[:, 0], y=X_selected[:, 1], z=y)\n",
    "\n",
    "    # Crear el plano de regresión\n",
    "    xx, yy = np.meshgrid(X_selected[:, 0], X_selected[:, 1])\n",
    "    zz = regr_multivar_fit.params[0] + np.dot(np.array([xx.ravel(), yy.ravel()]).T, regr_multivar_fit.params[1:].ravel()).reshape(xx.shape)\n",
    "    fig.add_trace(go.Surface(x=xx, y=yy, z=zz, opacity=0.5))\n",
    "\n",
    "    axis_name_list = []\n",
    "    # Construir la cadena de texto para la ecuación del plano\n",
    "    equation = f'z = {regr_multivar_fit.params[0].round(2)}'\n",
    "    for i, (key, model) in enumerate(dicc_model.items()):\n",
    "        feature_name = key.replace(\"_model\", \"\").upper()\n",
    "        feature_name_axis = feature_name\n",
    "        if feature_name == 'F0':\n",
    "            feature_name = '<i>f₀</i>'\n",
    "            feature_name_axis = 'f₀'\n",
    "        axis_name_list.append(feature_name_axis)\n",
    "        if regr_multivar_fit.pvalues[1:][i] < 0.01:\n",
    "            label = '<sup>**</sup>'\n",
    "        elif regr_multivar_fit.pvalues[1:][i] < 0.05:\n",
    "            label = '<sup>*</sup>'\n",
    "        else:\n",
    "            label = ''\n",
    "        equation += f' + {regr_multivar_fit.params[1:][i].round(2)} * {feature_name} {label}'\n",
    "        \n",
    "    equation += f' - R² = {r_squared_value:.3f}'\n",
    "    equation = equation.replace('.', ',')\n",
    "    \n",
    "    # Centrar el título\n",
    "    fig.update_layout(title=dict(text=equation, x=0.5, xanchor='center'))\n",
    "    \n",
    "    # Verificar si los valores en el eje x son menores que 1\n",
    "    if np.any(np.abs(X_selected[:, 0]) < 1):\n",
    "        # Calcular los valores de los ticks\n",
    "        xaxis_tickvals = np.linspace(np.min(X_selected[:, 0]), np.max(X_selected[:, 0]), 6)[1:5]\n",
    "\n",
    "        # Convertir los valores de los ticks a strings y reemplazar los puntos por comas\n",
    "        xaxis_ticktext = [f'{val:.2f}'.replace('.', ',') for val in xaxis_tickvals]\n",
    "    else:\n",
    "        # Si los valores en el eje x son mayores o iguales a 1, usar el formato por defecto\n",
    "        xaxis_tickvals = None\n",
    "        xaxis_ticktext = None\n",
    "\n",
    "    # Etiquetas de los ejes y rango del eje z\n",
    "    fig.update_layout(scene=dict(xaxis=dict(title=axis_name_list[0], tickvals=xaxis_tickvals, ticktext=xaxis_ticktext), yaxis_title=axis_name_list[1], zaxis_title='Cadencia', zaxis=dict(range=[0, 6]), yaxis=dict(tickvals=[75, 80, 85, 90, 95])))\n",
    "\n",
    "    # Agrega la anotación al final\n",
    "    fig.add_annotation(\n",
    "        x=0.07,\n",
    "        y=-0.15,\n",
    "        xref=\"paper\",\n",
    "        yref=\"paper\",\n",
    "        text=\"*: p-valor < 0,05    **: p-valor < 0,01\",\n",
    "        showarrow=False,\n",
    "        font=dict(\n",
    "            size=13\n",
    "        )\n",
    "    )\n",
    "\n",
    "    fig.write_html(\n",
    "       os.path.join(PATH, TEST_FOLDER, REGGRESSION_FOLDER, PARAMETRIC_FOLDER, CADENCIA_FOLDER, MALE_FOLDER, 'regresion_cadencia_multivariable_male.html')\n",
    "    )\n",
    "\n",
    "    fig.write_image(\n",
    "       os.path.join(PATH, TEST_FOLDER, REGGRESSION_FOLDER, PARAMETRIC_FOLDER, CADENCIA_FOLDER, MALE_FOLDER, 'regresion_cadencia_multivariable_male.png')\n",
    "    )\n",
    "\n",
    "    fig.show()\n"
   ]
  },
  {
   "attachments": {},
   "cell_type": "markdown",
   "id": "43b90f4a",
   "metadata": {
    "papermill": {
     "duration": 0.116854,
     "end_time": "2023-06-11T01:40:58.525552",
     "exception": false,
     "start_time": "2023-06-11T01:40:58.408698",
     "status": "completed"
    },
    "tags": []
   },
   "source": [
    "#### Femenino"
   ]
  },
  {
   "cell_type": "code",
   "execution_count": 1086,
   "id": "a9fab79f",
   "metadata": {
    "execution": {
     "iopub.execute_input": "2023-06-11T01:40:58.757912Z",
     "iopub.status.busy": "2023-06-11T01:40:58.757912Z",
     "iopub.status.idle": "2023-06-11T01:40:58.773634Z",
     "shell.execute_reply": "2023-06-11T01:40:58.773634Z"
    },
    "papermill": {
     "duration": 0.138716,
     "end_time": "2023-06-11T01:40:58.773634",
     "exception": false,
     "start_time": "2023-06-11T01:40:58.634918",
     "status": "completed"
    },
    "tags": []
   },
   "outputs": [],
   "source": [
    "# Lista de p-values\n",
    "p_values = []\n",
    "\n",
    "mask_gender = df_cadencia.genero == 'femenino'\n",
    "\n",
    "df_cadencia_female = df_cadencia[mask_gender].drop(columns=['genero'])"
   ]
  },
  {
   "cell_type": "code",
   "execution_count": 1087,
   "id": "7b4cd46a",
   "metadata": {
    "execution": {
     "iopub.execute_input": "2023-06-11T01:40:59.026064Z",
     "iopub.status.busy": "2023-06-11T01:40:59.026064Z",
     "iopub.status.idle": "2023-06-11T01:40:59.091196Z",
     "shell.execute_reply": "2023-06-11T01:40:59.091196Z"
    },
    "papermill": {
     "duration": 0.192663,
     "end_time": "2023-06-11T01:40:59.091196",
     "exception": false,
     "start_time": "2023-06-11T01:40:58.898533",
     "status": "completed"
    },
    "tags": []
   },
   "outputs": [
    {
     "name": "stdout",
     "output_type": "stream",
     "text": [
      "Coeficiente de determinación R^2: 0.8850\n",
      "Shapiro-Wilk p-valor: 0.8104830980300903\n",
      "Durbin-Watson: 1.1912281124725277\n",
      "Características seleccionadas: (0, 1, 2)\n",
      "Característica Seleccionada ZCR: p-valor = 0.0800\n",
      "Característica Seleccionada RMS: p-valor = 0.0495\n",
      "Característica Seleccionada f0: p-valor = 0.0197\n",
      "\n",
      "p-valor global: 0.0031825075013412383\n",
      "Ecuación: 16.18 - 6.39*ZCR + 0.27*RMS - 0.04*f0\n",
      "\n",
      "Característica ZCR: p-valor = 0.0800\n",
      "Característica RMS: p-valor = 0.0495\n",
      "Característica f0: p-valor = 0.0197\n"
     ]
    }
   ],
   "source": [
    "# Cargamos los datos\n",
    "X = np.array(df_cadencia_female.drop(columns=['Cadencia'])) # df_objetivos es el DataFrame con los parámetros objetivos\n",
    "y = np.array(df_cadencia_female.Cadencia) # df_subjetivos es el DataFrame con los parámetros subjetivos\n",
    "\n",
    "# Creamos el modelo de regresión lineal con el envoltorio\n",
    "regr_multivar = SMWrapper(sm.OLS)\n",
    "\n",
    "# Creamos el selector de características hacia adelante\n",
    "forward_selector = SequentialFeatureSelector(regr_multivar, k_features='best', forward=True, scoring='neg_mean_squared_error')\n",
    "\n",
    "# Entrenamos el selector de características\n",
    "forward_selector.fit(X, y)\n",
    "\n",
    "# Obtenemos las características seleccionadas\n",
    "selected_features = forward_selector.k_feature_idx_\n",
    "\n",
    "# Lógica para rellenar las características no seleccionadas\n",
    "count_features = set(selected_features)\n",
    "total_features = set([0,1,2])\n",
    "missing_features = total_features - count_features\n",
    "\n",
    "for missing_feature in missing_features:\n",
    "    if missing_feature == 0:\n",
    "        dicc_p_value['ZCR'].append(np.nan)\n",
    "    elif missing_feature == 1:\n",
    "        dicc_p_value['RMS'].append(np.nan)\n",
    "    else:\n",
    "        dicc_p_value['f0'].append(np.nan)\n",
    "\n",
    "regr_multivar_fit = regr_multivar.fit(X[:, selected_features], y)\n",
    "\n",
    "# Obtenemos el R^2 del modelo\n",
    "r_squared_value = regr_multivar_fit.rsquared\n",
    "\n",
    "print(f'Coeficiente de determinación R^2: {r_squared_value:.4f}')\n",
    "\n",
    "# Obtenemos los residuos del modelo\n",
    "residuals = y - regr_multivar.predict(X[:, selected_features])\n",
    "\n",
    "# Realizamos la prueba de Shapiro-Wilk\n",
    "shapiro_test = stats.shapiro(residuals)\n",
    "\n",
    "# Imprimimos el resultado de la prueba\n",
    "print('Shapiro-Wilk p-valor:', shapiro_test.pvalue)\n",
    "\n",
    "# Realizamos el test de Durbin-Watson\n",
    "dw_test = durbin_watson(residuals)\n",
    "\n",
    "# Imprimimos el resultado del test\n",
    "print('Durbin-Watson:', dw_test)\n",
    "\n",
    "# Imprimimos las características seleccionadas\n",
    "print('Características seleccionadas:', selected_features)\n",
    "\n",
    "# Imprimimos los p-valores para cada característica seleccionada\n",
    "for feature, pvalue in zip(selected_features, regr_multivar_fit.pvalues[1:]):\n",
    "    \n",
    "    if feature == 0:\n",
    "        feature = 'ZCR'\n",
    "    elif feature == 1:\n",
    "        feature = 'RMS'\n",
    "    else:\n",
    "        feature = 'f0'\n",
    "        \n",
    "    p_values.append(pvalue)\n",
    "    dicc_p_value[feature].append(pvalue)\n",
    "    \n",
    "    print(f'Característica Seleccionada {feature}: p-valor = {pvalue:.4f}')\n",
    "\n",
    "print()\n",
    "\n",
    "# Imprimimos el p-valor global\n",
    "print('p-valor global:', regr_multivar_fit.f_pvalue)\n",
    "\n",
    "features = {\n",
    "    1: 'ZCR',\n",
    "    2: 'RMS',\n",
    "    3: 'f0'\n",
    "}\n",
    "\n",
    "# Imprimimos la ecuación resultante\n",
    "equation = \"Ecuación: \"\n",
    "for i, coef in enumerate(regr_multivar_fit.params):\n",
    "    if i == 0:\n",
    "        equation += f\"{coef:.2f}\"\n",
    "    else:\n",
    "        if coef < 0:\n",
    "            equation += f\" - {-coef:.2f}*{features[i]}\"\n",
    "        else:\n",
    "            equation += f\" + {coef:.2f}*{features[i]}\"\n",
    "print(equation)\n",
    "\n",
    "print()\n",
    "# Creamos el modelo OLS (mínimos cuadrados ordinarios) y lo ajustamos a los datos\n",
    "results = regr_multivar.fit(X, y)\n",
    "\n",
    "# Imprimimos los p-valores para cada característica seleccionada\n",
    "for feature, pvalue in zip(list(range(X.shape[1])), results.pvalues[1:]):\n",
    "\n",
    "    if feature == 0:\n",
    "        feature = 'ZCR'\n",
    "    elif feature == 1:\n",
    "        feature = 'RMS'\n",
    "    else:\n",
    "        feature = 'f0'\n",
    "    \n",
    "    print(f'Característica {feature}: p-valor = {pvalue:.4f}')\n",
    "\n",
    "dicc_p_value['subjetive_parameter'].append('Cadencia')\n",
    "dicc_p_value['genero'].append('femenino')\n",
    "dicc_p_value['selected_features'].append(list(selected_features))\n",
    "dicc_p_value['shapiro_wilk_test'].append(shapiro_test.pvalue)\n",
    "\n",
    "# Almacenamos los resultados en el diccionario\n",
    "dicc_dw[\"Dublin-Watson Test\"].append(dw_test)\n",
    "dicc_dw[\"Parametro subjetivo\"].append('Cadencia')\n",
    "dicc_dw[\"Genero\"].append('femenino')\n"
   ]
  },
  {
   "cell_type": "code",
   "execution_count": 1088,
   "id": "690f2f5e",
   "metadata": {
    "execution": {
     "iopub.execute_input": "2023-06-11T01:41:15.839639Z",
     "iopub.status.busy": "2023-06-11T01:41:15.839639Z",
     "iopub.status.idle": "2023-06-11T01:41:15.870972Z",
     "shell.execute_reply": "2023-06-11T01:41:15.870972Z"
    },
    "papermill": {
     "duration": 0.143807,
     "end_time": "2023-06-11T01:41:15.870972",
     "exception": false,
     "start_time": "2023-06-11T01:41:15.727165",
     "status": "completed"
    },
    "tags": []
   },
   "outputs": [],
   "source": [
    "# Dicc auxiliar con los nombres asociadas a las variables\n",
    "dicc_names_features = {\n",
    "    'zcr_model': 0,\n",
    "    'rms_model': 1,\n",
    "    'f0_model': 2\n",
    "}\n",
    "\n",
    "# Dicc de los modelos\n",
    "dicc_model = {}\n",
    "\n",
    "# Dicc de las predicciones\n",
    "dicc_pred = {}\n",
    "\n",
    "for selected_feature in selected_features:\n",
    "    # Entrenamos el modelo de regresión con las características seleccionadas\n",
    "    regr_multivar = SMWrapper(sm.OLS)\n",
    "    regr_multivar_fit = regr_multivar.fit(X[:, selected_feature].reshape(-1, 1), y.ravel())\n",
    "\n",
    "    # Almacenamos en dicc_model la clave asociada al modelo que se entrenó y el objeto modelo\n",
    "    for key, value in dicc_names_features.items():\n",
    "        if value == selected_feature:\n",
    "            dicc_model[key] = regr_multivar_fit\n",
    "\n",
    "    # Obtenemos las predicciones del modelo para las características seleccionadas\n",
    "    y_pred = regr_multivar.predict(X[:, selected_feature].reshape(-1, 1))\n",
    "\n",
    "    # Almacenamos en dicc_pred la clave asociada al modelo que se entrenó y la predicción\n",
    "    for key, value in dicc_names_features.items():\n",
    "        if value == selected_feature:\n",
    "            dicc_pred[key] = y_pred\n"
   ]
  },
  {
   "cell_type": "code",
   "execution_count": 1089,
   "id": "1828995c",
   "metadata": {
    "execution": {
     "iopub.execute_input": "2023-06-11T01:41:16.108629Z",
     "iopub.status.busy": "2023-06-11T01:41:16.108629Z",
     "iopub.status.idle": "2023-06-11T01:41:16.124303Z",
     "shell.execute_reply": "2023-06-11T01:41:16.124303Z"
    },
    "papermill": {
     "duration": 0.130575,
     "end_time": "2023-06-11T01:41:16.124303",
     "exception": false,
     "start_time": "2023-06-11T01:41:15.993728",
     "status": "completed"
    },
    "tags": []
   },
   "outputs": [
    {
     "name": "stdout",
     "output_type": "stream",
     "text": [
      "y = -10,88 * ZCR + 5,13\n",
      "y = 0,42 * RMS$^{*}$ + 15,17\n",
      "y = -0,03 * $f_{0}$$^{*}$ + 6,38\n"
     ]
    }
   ],
   "source": [
    "list_equ = []\n",
    "\n",
    "for idx, (key, model) in enumerate(dicc_model.items()):\n",
    "    # Obtenemos los valores de w y b\n",
    "    w = model.params[1:][0]\n",
    "    b = model.params[0]\n",
    "    r_squared = model.rsquared\n",
    "    \n",
    "    label = key.replace(\"_model\", \"\")\n",
    "    if label == 'f0':\n",
    "        label = r'$f_{0}$'\n",
    "    else:\n",
    "        label = label.upper()\n",
    "\n",
    "    # Verificamos el valor de p y agregamos el superíndice correspondiente\n",
    "    if p_values[idx] < 0.01:\n",
    "        label += '$^{**}$'\n",
    "    elif p_values[idx] < 0.05:\n",
    "        label += '$^{*}$'\n",
    "\n",
    "    if len(dicc_model) == 1:\n",
    "        # Construimos la cadena de texto para la ecuación del hiperplano y su p-valor\n",
    "        equation = f'y = {w.round(2)} * {label} + {b.round(2)} - R$^2$ = {r_squared:.3f}'\n",
    "    else:\n",
    "        equation = f'y = {w.round(2)} * {label} + {b.round(2)}'\n",
    "\n",
    "    equation = equation.replace('.', ',')\n",
    "    # Agregamos la cadena a la lista\n",
    "    list_equ.append(equation)\n",
    "\n",
    "# Mostramos el resultado\n",
    "for equ in list_equ:\n",
    "    print(equ)"
   ]
  },
  {
   "cell_type": "code",
   "execution_count": 1090,
   "id": "33e8c9e3",
   "metadata": {
    "execution": {
     "iopub.execute_input": "2023-06-11T01:41:16.372740Z",
     "iopub.status.busy": "2023-06-11T01:41:16.372740Z",
     "iopub.status.idle": "2023-06-11T01:41:17.075959Z",
     "shell.execute_reply": "2023-06-11T01:41:17.075959Z"
    },
    "papermill": {
     "duration": 0.826741,
     "end_time": "2023-06-11T01:41:17.075959",
     "exception": false,
     "start_time": "2023-06-11T01:41:16.249218",
     "status": "completed"
    },
    "tags": []
   },
   "outputs": [
    {
     "data": {
      "image/png": "[encoded data removed]",
      "text/plain": [
       "<Figure size 1800x400 with 3 Axes>"
      ]
     },
     "metadata": {},
     "output_type": "display_data"
    }
   ],
   "source": [
    "dims = (6 * len(dicc_model), 4)\n",
    "fig, ax = plt.subplots(figsize=dims, ncols=len(dicc_model))\n",
    "\n",
    "with sns.axes_style('darkgrid'):\n",
    "    for i, (key, model) in enumerate(dicc_model.items()):\n",
    "        if isinstance(ax, np.ndarray):\n",
    "            ax_i = ax[i]\n",
    "        else:\n",
    "            ax_i = ax\n",
    "        label = key.replace(\"_model\", \"\")\n",
    "        if label == 'f0':\n",
    "            label = r'$f_{0}$'\n",
    "        else:\n",
    "            label = label.upper()\n",
    "        g = sns.scatterplot(x=X[:, dicc_names_features[key]], y=y, ax=ax_i, color='blue')\n",
    "        g = sns.lineplot(x=X[:, dicc_names_features[key]], y=dicc_pred[key], ax=ax_i, color='red')\n",
    "        g.text(0.5, -0.1, label, weight='bold', size='large', family='Arial', stretch='extra-expanded', ha='center', va='top', transform=g.transAxes)\n",
    "        g.set_ylabel('Cadencia', weight='bold', size='large', alpha=0.8, family='Arial', stretch='extra-expanded')\n",
    "        g.set_title(list_equ[i], weight='bold', size='x-large', alpha=0.8, family='Arial', stretch='extra-expanded')\n",
    "        g.grid(alpha=0.7)\n",
    "        ax_i.set_ylim(0, 6)\n",
    "        \n",
    "        # Verificar si los valores en el eje x son menores que 1\n",
    "        if np.any(np.abs(X[:, dicc_names_features[key]]) < 1):\n",
    "            # Crear el formateador\n",
    "            formatter = ticker.FuncFormatter(format_decimal)\n",
    "\n",
    "            # Usar el formateador en el eje x de tus gráficos\n",
    "            ax_i.xaxis.set_major_formatter(formatter)\n",
    "\n",
    "    plt.tight_layout()\n",
    "    plt.figtext(0.02, 0.01, '*: p-valor < 0,05    **: p-valor < 0,01', fontsize=9)\n",
    "    plt.savefig(os.path.join(PATH, TEST_FOLDER, REGGRESSION_FOLDER, PARAMETRIC_FOLDER, CADENCIA_FOLDER, FEMALE_FOLDER, 'regresiones_cadencia_female.png'))\n",
    "    plt.show()\n"
   ]
  },
  {
   "cell_type": "code",
   "execution_count": 1091,
   "id": "dde67b70",
   "metadata": {
    "execution": {
     "iopub.execute_input": "2023-06-11T01:41:17.308215Z",
     "iopub.status.busy": "2023-06-11T01:41:17.308215Z",
     "iopub.status.idle": "2023-06-11T01:41:17.448925Z",
     "shell.execute_reply": "2023-06-11T01:41:17.448925Z"
    },
    "papermill": {
     "duration": 0.263594,
     "end_time": "2023-06-11T01:41:17.448925",
     "exception": false,
     "start_time": "2023-06-11T01:41:17.185331",
     "status": "completed"
    },
    "tags": []
   },
   "outputs": [],
   "source": [
    "if len(dicc_model) == 2:\n",
    "    import plotly.express as px\n",
    "    import plotly.graph_objects as go\n",
    "\n",
    "    # Seleccionamos solo las características seleccionadas en X\n",
    "    X_selected = X[:, selected_features]\n",
    "\n",
    "    # Entrenamos el modelo de regresión con las características seleccionadas\n",
    "    regr_multivar = SMWrapper(sm.OLS)\n",
    "    regr_multivar_fit = regr_multivar.fit(X_selected, y)\n",
    "\n",
    "    # Obtenemos las predicciones del modelo para las características seleccionadas\n",
    "    y_pred = regr_multivar.predict(X_selected)\n",
    "\n",
    "    # Crear la figura\n",
    "    fig = px.scatter_3d(x=X_selected[:, 0], y=X_selected[:, 1], z=y)\n",
    "\n",
    "    # Crear el plano de regresión\n",
    "    xx, yy = np.meshgrid(X_selected[:, 0], X_selected[:, 1])\n",
    "    zz = regr_multivar_fit.params[0] + np.dot(np.array([xx.ravel(), yy.ravel()]).T, regr_multivar_fit.params[1:].ravel()).reshape(xx.shape)\n",
    "    fig.add_trace(go.Surface(x=xx, y=yy, z=zz, opacity=0.5))\n",
    "\n",
    "    axis_name_list = []\n",
    "    # Construir la cadena de texto para la ecuación del plano\n",
    "    equation = f'z = {regr_multivar_fit.params[0].round(2)}'\n",
    "    for i, (key, model) in enumerate(dicc_model.items()):\n",
    "        feature_name = key.replace(\"_model\", \"\").upper()\n",
    "        feature_name_axis = feature_name\n",
    "        if feature_name == 'F0':\n",
    "            feature_name = '<i>f₀</i>'\n",
    "            feature_name_axis = 'f₀'\n",
    "        axis_name_list.append(feature_name_axis)\n",
    "        if regr_multivar_fit.pvalues[1:][i] < 0.01:\n",
    "            label = '<sup>**</sup>'\n",
    "        elif regr_multivar_fit.pvalues[1:][i] < 0.05:\n",
    "            label = '<sup>*</sup>'\n",
    "        else:\n",
    "            label = ''\n",
    "        equation += f' + {regr_multivar_fit.params[1:][i].round(2)} * {feature_name} {label}'\n",
    "        \n",
    "    equation += f' - R² = {r_squared_value:.3f}'\n",
    "    equation = equation.replace('.', ',')\n",
    "    \n",
    "    # Centrar el título\n",
    "    fig.update_layout(title=dict(text=equation, x=0.5, xanchor='center'))\n",
    "\n",
    "    # Verificar si los valores en el eje x son menores que 1\n",
    "    if np.any(np.abs(X_selected[:, 0]) < 1):\n",
    "        # Calcular los valores de los ticks\n",
    "        xaxis_tickvals = np.linspace(np.min(X_selected[:, 0]), np.max(X_selected[:, 0]), 6)[1:5]\n",
    "\n",
    "        # Convertir los valores de los ticks a strings y reemplazar los puntos por comas\n",
    "        xaxis_ticktext = [f'{val:.2f}'.replace('.', ',') for val in xaxis_tickvals]\n",
    "    else:\n",
    "        # Si los valores en el eje x son mayores o iguales a 1, usar el formato por defecto\n",
    "        xaxis_tickvals = None\n",
    "        xaxis_ticktext = None\n",
    "        \n",
    "    # Etiquetas de los ejes y rango del eje z\n",
    "    fig.update_layout(scene=dict(xaxis=dict(title=axis_name_list[0], tickvals=xaxis_tickvals, ticktext=xaxis_ticktext), yaxis_title=axis_name_list[1], zaxis_title='Cadencia', zaxis=dict(range=[0, 6]), yaxis=dict(tickvals=[100, 105, 110, 115, 120])))\n",
    "    \n",
    "    # Agrega la anotación al final\n",
    "    fig.add_annotation(\n",
    "        x=0.07,\n",
    "        y=-0.15,\n",
    "        xref=\"paper\",\n",
    "        yref=\"paper\",\n",
    "        text=\"*: p-valor < 0,05    **: p-valor < 0,01\",\n",
    "        showarrow=False,\n",
    "        font=dict(\n",
    "            size=13\n",
    "        )\n",
    "    )\n",
    "\n",
    "    fig.write_html(\n",
    "       os.path.join(PATH, TEST_FOLDER, REGGRESSION_FOLDER, PARAMETRIC_FOLDER, CADENCIA_FOLDER, FEMALE_FOLDER, 'regresion_cadencia_multivariable_female.html')\n",
    "    )\n",
    "\n",
    "    fig.write_image(\n",
    "       os.path.join(PATH, TEST_FOLDER, REGGRESSION_FOLDER, PARAMETRIC_FOLDER, CADENCIA_FOLDER, FEMALE_FOLDER, 'regresion_cadencia_multivariable_female.png')\n",
    "    )\n",
    "\n",
    "    fig.show()"
   ]
  },
  {
   "attachments": {},
   "cell_type": "markdown",
   "id": "0ebfe3be",
   "metadata": {},
   "source": [
    "## Output p-values regressions"
   ]
  },
  {
   "cell_type": "code",
   "execution_count": 1092,
   "id": "49717feb",
   "metadata": {},
   "outputs": [],
   "source": [
    "df_output_p_value_regression = pd.DataFrame(dicc_p_value)"
   ]
  },
  {
   "cell_type": "code",
   "execution_count": 1093,
   "id": "49d26b08",
   "metadata": {},
   "outputs": [
    {
     "name": "stderr",
     "output_type": "stream",
     "text": [
      "C:\\Users\\lnard\\AppData\\Local\\Temp\\ipykernel_3968\\138939346.py:6: FutureWarning:\n",
      "\n",
      "Setting an item of incompatible dtype is deprecated and will raise in a future error of pandas. Value '-' has dtype incompatible with float64, please explicitly cast to a compatible dtype first.\n",
      "\n"
     ]
    }
   ],
   "source": [
    "# Crea un diccionario para mapear los valores\n",
    "map_dict = {0: 'ZCR', 1: 'RMS', 2: 'F0'}\n",
    "\n",
    "df_output_p_value_regression['selected_features'] = df_output_p_value_regression['selected_features'].apply(lambda x: [map_dict[val] for val in x])\n",
    "\n",
    "df_output_p_value_regression.fillna('-', inplace=True)"
   ]
  },
  {
   "cell_type": "code",
   "execution_count": 1094,
   "id": "055f5162",
   "metadata": {},
   "outputs": [],
   "source": [
    "df_output_p_value_regression['shapiro_wilk_test_result'] = df_output_p_value_regression.shapiro_wilk_test.apply(\n",
    "    lambda x: 'No hay evidencia suficiente para afirmar que los residuos no se distribuyen normalmente' if x > 0.05\n",
    "    else 'Hay evidencia suficiente para afirmar que los residuos no se distribuyen normalmente'\n",
    ")"
   ]
  },
  {
   "cell_type": "code",
   "execution_count": 1095,
   "id": "ba2685df",
   "metadata": {},
   "outputs": [
    {
     "data": {
      "text/html": [
       "<div>\n",
       "<style scoped>\n",
       "    .dataframe tbody tr th:only-of-type {\n",
       "        vertical-align: middle;\n",
       "    }\n",
       "\n",
       "    .dataframe tbody tr th {\n",
       "        vertical-align: top;\n",
       "    }\n",
       "\n",
       "    .dataframe thead th {\n",
       "        text-align: right;\n",
       "    }\n",
       "</style>\n",
       "<table border=\"1\" class=\"dataframe\">\n",
       "  <thead>\n",
       "    <tr style=\"text-align: right;\">\n",
       "      <th></th>\n",
       "      <th>subjetive_parameter</th>\n",
       "      <th>ZCR</th>\n",
       "      <th>RMS</th>\n",
       "      <th>f0</th>\n",
       "      <th>selected_features</th>\n",
       "      <th>shapiro_wilk_test</th>\n",
       "      <th>genero</th>\n",
       "      <th>shapiro_wilk_test_result</th>\n",
       "    </tr>\n",
       "  </thead>\n",
       "  <tbody>\n",
       "    <tr>\n",
       "      <th>0</th>\n",
       "      <td>Inteligibilidad</td>\n",
       "      <td>0.015597</td>\n",
       "      <td>-</td>\n",
       "      <td>-</td>\n",
       "      <td>[ZCR]</td>\n",
       "      <td>0.536903</td>\n",
       "      <td>masculino</td>\n",
       "      <td>No hay evidencia suficiente para afirmar que l...</td>\n",
       "    </tr>\n",
       "    <tr>\n",
       "      <th>1</th>\n",
       "      <td>Inteligibilidad</td>\n",
       "      <td>0.001549</td>\n",
       "      <td>-</td>\n",
       "      <td>0.03856</td>\n",
       "      <td>[ZCR, F0]</td>\n",
       "      <td>0.526493</td>\n",
       "      <td>femenino</td>\n",
       "      <td>No hay evidencia suficiente para afirmar que l...</td>\n",
       "    </tr>\n",
       "    <tr>\n",
       "      <th>2</th>\n",
       "      <td>Pronunciación</td>\n",
       "      <td>0.002814</td>\n",
       "      <td>0.045937</td>\n",
       "      <td>-</td>\n",
       "      <td>[ZCR, RMS]</td>\n",
       "      <td>0.104313</td>\n",
       "      <td>masculino</td>\n",
       "      <td>No hay evidencia suficiente para afirmar que l...</td>\n",
       "    </tr>\n",
       "    <tr>\n",
       "      <th>3</th>\n",
       "      <td>Pronunciación</td>\n",
       "      <td>0.012001</td>\n",
       "      <td>-</td>\n",
       "      <td>0.05237</td>\n",
       "      <td>[ZCR, F0]</td>\n",
       "      <td>0.019549</td>\n",
       "      <td>femenino</td>\n",
       "      <td>Hay evidencia suficiente para afirmar que los ...</td>\n",
       "    </tr>\n",
       "    <tr>\n",
       "      <th>4</th>\n",
       "      <td>Acentuación</td>\n",
       "      <td>0.002956</td>\n",
       "      <td>-</td>\n",
       "      <td>-</td>\n",
       "      <td>[ZCR]</td>\n",
       "      <td>0.848093</td>\n",
       "      <td>masculino</td>\n",
       "      <td>No hay evidencia suficiente para afirmar que l...</td>\n",
       "    </tr>\n",
       "    <tr>\n",
       "      <th>5</th>\n",
       "      <td>Acentuación</td>\n",
       "      <td>-</td>\n",
       "      <td>0.052149</td>\n",
       "      <td>0.10671</td>\n",
       "      <td>[RMS, F0]</td>\n",
       "      <td>0.956449</td>\n",
       "      <td>femenino</td>\n",
       "      <td>No hay evidencia suficiente para afirmar que l...</td>\n",
       "    </tr>\n",
       "    <tr>\n",
       "      <th>6</th>\n",
       "      <td>Naturalidad</td>\n",
       "      <td>0.000351</td>\n",
       "      <td>-</td>\n",
       "      <td>-</td>\n",
       "      <td>[ZCR]</td>\n",
       "      <td>0.940173</td>\n",
       "      <td>masculino</td>\n",
       "      <td>No hay evidencia suficiente para afirmar que l...</td>\n",
       "    </tr>\n",
       "    <tr>\n",
       "      <th>7</th>\n",
       "      <td>Naturalidad</td>\n",
       "      <td>-</td>\n",
       "      <td>0.014109</td>\n",
       "      <td>0.12627</td>\n",
       "      <td>[RMS, F0]</td>\n",
       "      <td>0.026251</td>\n",
       "      <td>femenino</td>\n",
       "      <td>Hay evidencia suficiente para afirmar que los ...</td>\n",
       "    </tr>\n",
       "    <tr>\n",
       "      <th>8</th>\n",
       "      <td>Cadencia</td>\n",
       "      <td>0.000219</td>\n",
       "      <td>-</td>\n",
       "      <td>-</td>\n",
       "      <td>[ZCR]</td>\n",
       "      <td>0.657217</td>\n",
       "      <td>masculino</td>\n",
       "      <td>No hay evidencia suficiente para afirmar que l...</td>\n",
       "    </tr>\n",
       "    <tr>\n",
       "      <th>9</th>\n",
       "      <td>Cadencia</td>\n",
       "      <td>0.080017</td>\n",
       "      <td>0.049479</td>\n",
       "      <td>0.019715</td>\n",
       "      <td>[ZCR, RMS, F0]</td>\n",
       "      <td>0.810483</td>\n",
       "      <td>femenino</td>\n",
       "      <td>No hay evidencia suficiente para afirmar que l...</td>\n",
       "    </tr>\n",
       "  </tbody>\n",
       "</table>\n",
       "</div>"
      ],
      "text/plain": [
       "  subjetive_parameter       ZCR       RMS        f0 selected_features  \\\n",
       "0     Inteligibilidad  0.015597         -         -             [ZCR]   \n",
       "1     Inteligibilidad  0.001549         -   0.03856         [ZCR, F0]   \n",
       "2       Pronunciación  0.002814  0.045937         -        [ZCR, RMS]   \n",
       "3       Pronunciación  0.012001         -   0.05237         [ZCR, F0]   \n",
       "4         Acentuación  0.002956         -         -             [ZCR]   \n",
       "5         Acentuación         -  0.052149   0.10671         [RMS, F0]   \n",
       "6         Naturalidad  0.000351         -         -             [ZCR]   \n",
       "7         Naturalidad         -  0.014109   0.12627         [RMS, F0]   \n",
       "8            Cadencia  0.000219         -         -             [ZCR]   \n",
       "9            Cadencia  0.080017  0.049479  0.019715    [ZCR, RMS, F0]   \n",
       "\n",
       "   shapiro_wilk_test     genero  \\\n",
       "0           0.536903  masculino   \n",
       "1           0.526493   femenino   \n",
       "2           0.104313  masculino   \n",
       "3           0.019549   femenino   \n",
       "4           0.848093  masculino   \n",
       "5           0.956449   femenino   \n",
       "6           0.940173  masculino   \n",
       "7           0.026251   femenino   \n",
       "8           0.657217  masculino   \n",
       "9           0.810483   femenino   \n",
       "\n",
       "                            shapiro_wilk_test_result  \n",
       "0  No hay evidencia suficiente para afirmar que l...  \n",
       "1  No hay evidencia suficiente para afirmar que l...  \n",
       "2  No hay evidencia suficiente para afirmar que l...  \n",
       "3  Hay evidencia suficiente para afirmar que los ...  \n",
       "4  No hay evidencia suficiente para afirmar que l...  \n",
       "5  No hay evidencia suficiente para afirmar que l...  \n",
       "6  No hay evidencia suficiente para afirmar que l...  \n",
       "7  Hay evidencia suficiente para afirmar que los ...  \n",
       "8  No hay evidencia suficiente para afirmar que l...  \n",
       "9  No hay evidencia suficiente para afirmar que l...  "
      ]
     },
     "execution_count": 1095,
     "metadata": {},
     "output_type": "execute_result"
    }
   ],
   "source": [
    "df_output_p_value_regression"
   ]
  },
  {
   "cell_type": "code",
   "execution_count": 1096,
   "id": "b70d9656",
   "metadata": {},
   "outputs": [],
   "source": [
    "df_output_p_value_regression.to_excel(\n",
    "    os.path.join(PATH, TEST_FOLDER, REGGRESSION_FOLDER, PARAMETRIC_FOLDER, 'output_p_values_parametric_regressions.xlsx'),\n",
    "    index=False\n",
    ")"
   ]
  },
  {
   "cell_type": "markdown",
   "metadata": {},
   "source": [
    "## Output Test Durbin-Watson"
   ]
  },
  {
   "cell_type": "code",
   "execution_count": 1097,
   "metadata": {},
   "outputs": [],
   "source": [
    "# Convertimos el diccionario a DataFrame\n",
    "df_durbin_watson = pd.DataFrame(dicc_dw)\n",
    "\n",
    "# Creamos una nueva columna 'Resultado' basada en los valores del test de Durbin-Watson\n",
    "df_durbin_watson['Resultado'] = pd.cut(\n",
    "    df_durbin_watson['Dublin-Watson Test'],\n",
    "    bins=[0, 1.5, 2.5, 4],\n",
    "    labels=['Existe autocorrelación grave positiva',\n",
    "            'Existe autocorrelación pero no es un problema',\n",
    "            'Existe autocorrelación grave negativa'],\n",
    "    include_lowest=True\n",
    ")\n",
    "\n",
    "# Convertimos la columna 'Resultado' a una cadena\n",
    "df_durbin_watson['Resultado'] = df_durbin_watson['Resultado'].astype(str)\n",
    "\n",
    "# Si el valor es exactamente 2, decimos que no hay autocorrelación\n",
    "df_durbin_watson.loc[df_durbin_watson['Dublin-Watson Test'] == 2, 'Resultado'] = 'No hay autocorrelación'\n",
    "\n",
    "df_durbin_watson = df_durbin_watson.rename(\n",
    "    columns={\n",
    "        'Dublin-Watson Test': 'Durbin-Watson',\n",
    "        'Parametro subjetivo': 'Parámetro subjetivo',\n",
    "        'Genero': 'Género'\n",
    "    }\n",
    ")\n",
    "\n",
    "df_durbin_watson = df_durbin_watson.loc[:, ['Parámetro subjetivo', 'Género', 'Durbin-Watson', 'Resultado']]"
   ]
  },
  {
   "cell_type": "code",
   "execution_count": 1098,
   "metadata": {},
   "outputs": [
    {
     "data": {
      "text/html": [
       "<div>\n",
       "<style scoped>\n",
       "    .dataframe tbody tr th:only-of-type {\n",
       "        vertical-align: middle;\n",
       "    }\n",
       "\n",
       "    .dataframe tbody tr th {\n",
       "        vertical-align: top;\n",
       "    }\n",
       "\n",
       "    .dataframe thead th {\n",
       "        text-align: right;\n",
       "    }\n",
       "</style>\n",
       "<table border=\"1\" class=\"dataframe\">\n",
       "  <thead>\n",
       "    <tr style=\"text-align: right;\">\n",
       "      <th></th>\n",
       "      <th>Parámetro subjetivo</th>\n",
       "      <th>Género</th>\n",
       "      <th>Durbin-Watson</th>\n",
       "      <th>Resultado</th>\n",
       "    </tr>\n",
       "  </thead>\n",
       "  <tbody>\n",
       "    <tr>\n",
       "      <th>0</th>\n",
       "      <td>Inteligibilidad</td>\n",
       "      <td>masculino</td>\n",
       "      <td>1.719567</td>\n",
       "      <td>Existe autocorrelación pero no es un problema</td>\n",
       "    </tr>\n",
       "    <tr>\n",
       "      <th>1</th>\n",
       "      <td>Inteligibilidad</td>\n",
       "      <td>femenino</td>\n",
       "      <td>1.208976</td>\n",
       "      <td>Existe autocorrelación grave positiva</td>\n",
       "    </tr>\n",
       "    <tr>\n",
       "      <th>2</th>\n",
       "      <td>Pronunciación</td>\n",
       "      <td>masculino</td>\n",
       "      <td>2.652854</td>\n",
       "      <td>Existe autocorrelación grave negativa</td>\n",
       "    </tr>\n",
       "    <tr>\n",
       "      <th>3</th>\n",
       "      <td>Pronunciación</td>\n",
       "      <td>femenino</td>\n",
       "      <td>1.044310</td>\n",
       "      <td>Existe autocorrelación grave positiva</td>\n",
       "    </tr>\n",
       "    <tr>\n",
       "      <th>4</th>\n",
       "      <td>Acentuación</td>\n",
       "      <td>masculino</td>\n",
       "      <td>2.637199</td>\n",
       "      <td>Existe autocorrelación grave negativa</td>\n",
       "    </tr>\n",
       "    <tr>\n",
       "      <th>5</th>\n",
       "      <td>Acentuación</td>\n",
       "      <td>femenino</td>\n",
       "      <td>1.902659</td>\n",
       "      <td>Existe autocorrelación pero no es un problema</td>\n",
       "    </tr>\n",
       "    <tr>\n",
       "      <th>6</th>\n",
       "      <td>Naturalidad</td>\n",
       "      <td>masculino</td>\n",
       "      <td>2.110595</td>\n",
       "      <td>Existe autocorrelación pero no es un problema</td>\n",
       "    </tr>\n",
       "    <tr>\n",
       "      <th>7</th>\n",
       "      <td>Naturalidad</td>\n",
       "      <td>femenino</td>\n",
       "      <td>1.402494</td>\n",
       "      <td>Existe autocorrelación grave positiva</td>\n",
       "    </tr>\n",
       "    <tr>\n",
       "      <th>8</th>\n",
       "      <td>Cadencia</td>\n",
       "      <td>masculino</td>\n",
       "      <td>2.352290</td>\n",
       "      <td>Existe autocorrelación pero no es un problema</td>\n",
       "    </tr>\n",
       "    <tr>\n",
       "      <th>9</th>\n",
       "      <td>Cadencia</td>\n",
       "      <td>femenino</td>\n",
       "      <td>1.191228</td>\n",
       "      <td>Existe autocorrelación grave positiva</td>\n",
       "    </tr>\n",
       "  </tbody>\n",
       "</table>\n",
       "</div>"
      ],
      "text/plain": [
       "  Parámetro subjetivo     Género  Durbin-Watson  \\\n",
       "0     Inteligibilidad  masculino       1.719567   \n",
       "1     Inteligibilidad   femenino       1.208976   \n",
       "2       Pronunciación  masculino       2.652854   \n",
       "3       Pronunciación   femenino       1.044310   \n",
       "4         Acentuación  masculino       2.637199   \n",
       "5         Acentuación   femenino       1.902659   \n",
       "6         Naturalidad  masculino       2.110595   \n",
       "7         Naturalidad   femenino       1.402494   \n",
       "8            Cadencia  masculino       2.352290   \n",
       "9            Cadencia   femenino       1.191228   \n",
       "\n",
       "                                       Resultado  \n",
       "0  Existe autocorrelación pero no es un problema  \n",
       "1          Existe autocorrelación grave positiva  \n",
       "2          Existe autocorrelación grave negativa  \n",
       "3          Existe autocorrelación grave positiva  \n",
       "4          Existe autocorrelación grave negativa  \n",
       "5  Existe autocorrelación pero no es un problema  \n",
       "6  Existe autocorrelación pero no es un problema  \n",
       "7          Existe autocorrelación grave positiva  \n",
       "8  Existe autocorrelación pero no es un problema  \n",
       "9          Existe autocorrelación grave positiva  "
      ]
     },
     "execution_count": 1098,
     "metadata": {},
     "output_type": "execute_result"
    }
   ],
   "source": [
    "df_durbin_watson"
   ]
  },
  {
   "cell_type": "code",
   "execution_count": 1099,
   "metadata": {},
   "outputs": [],
   "source": [
    "df_durbin_watson.to_excel(\n",
    "    os.path.join(PATH, TEST_FOLDER, DURBIN_WATSON, 'output_durbin_watson_test.xlsx'),\n",
    "    index=False\n",
    ")"
   ]
  }
 ],
 "metadata": {
  "kernelspec": {
   "display_name": "venv",
   "language": "python",
   "name": "python3"
  },
  "language_info": {
   "codemirror_mode": {
    "name": "ipython",
    "version": 3
   },
   "file_extension": ".py",
   "mimetype": "text/x-python",
   "name": "python",
   "nbconvert_exporter": "python",
   "pygments_lexer": "ipython3",
   "version": "3.11.4"
  },
  "papermill": {
   "default_parameters": {},
   "duration": 239.127782,
   "end_time": "2023-06-11T01:41:18.251081",
   "environment_variables": {},
   "exception": null,
   "input_path": "regression.ipynb",
   "output_path": "regression.ipynb",
   "parameters": {},
   "start_time": "2023-06-11T01:37:19.123299",
   "version": "2.4.0"
  }
 },
 "nbformat": 4,
 "nbformat_minor": 5
}
