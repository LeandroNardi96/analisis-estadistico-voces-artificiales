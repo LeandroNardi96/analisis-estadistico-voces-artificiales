{
 "cells": [
  {
   "cell_type": "code",
   "execution_count": 1,
   "id": "951176c9",
   "metadata": {
    "execution": {
     "iopub.execute_input": "2023-06-11T00:31:57.028854Z",
     "iopub.status.busy": "2023-06-11T00:31:57.028854Z",
     "iopub.status.idle": "2023-06-11T00:31:59.332329Z",
     "shell.execute_reply": "2023-06-11T00:31:59.332329Z"
    },
    "papermill": {
     "duration": 2.33454,
     "end_time": "2023-06-11T00:31:59.332329",
     "exception": false,
     "start_time": "2023-06-11T00:31:56.997789",
     "status": "completed"
    },
    "tags": []
   },
   "outputs": [],
   "source": [
    "import pandas as pd\n",
    "import numpy as np\n",
    "from matplotlib import pyplot as plt\n",
    "from scipy.stats import mannwhitneyu\n",
    "import re\n",
    "import os\n",
    "import seaborn as sns\n",
    "from matplotlib import cm, colors"
   ]
  },
  {
   "cell_type": "code",
   "execution_count": 2,
   "id": "70706bb0",
   "metadata": {
    "execution": {
     "iopub.execute_input": "2023-06-11T00:31:59.364358Z",
     "iopub.status.busy": "2023-06-11T00:31:59.363352Z",
     "iopub.status.idle": "2023-06-11T00:31:59.380348Z",
     "shell.execute_reply": "2023-06-11T00:31:59.379350Z"
    },
    "papermill": {
     "duration": 0.051058,
     "end_time": "2023-06-11T00:31:59.383387",
     "exception": false,
     "start_time": "2023-06-11T00:31:59.332329",
     "status": "completed"
    },
    "tags": []
   },
   "outputs": [],
   "source": [
    "pd.set_option('display.max_columns', None) # Mostrar todas las columnas del DataFrame"
   ]
  },
  {
   "cell_type": "code",
   "execution_count": 3,
   "id": "9e818d44",
   "metadata": {
    "execution": {
     "iopub.execute_input": "2023-06-11T00:31:59.403032Z",
     "iopub.status.busy": "2023-06-11T00:31:59.403032Z",
     "iopub.status.idle": "2023-06-11T00:31:59.418663Z",
     "shell.execute_reply": "2023-06-11T00:31:59.418663Z"
    },
    "papermill": {
     "duration": 0.024315,
     "end_time": "2023-06-11T00:31:59.418663",
     "exception": false,
     "start_time": "2023-06-11T00:31:59.394348",
     "status": "completed"
    },
    "tags": []
   },
   "outputs": [],
   "source": [
    "PATH = os.getcwd()\n",
    "TEST_FOLDER = 'test-result'\n",
    "MW_FOLDER = 'mann-whitney'"
   ]
  },
  {
   "attachments": {},
   "cell_type": "markdown",
   "id": "d5d54cf5",
   "metadata": {
    "papermill": {
     "duration": 0.014258,
     "end_time": "2023-06-11T00:31:59.448542",
     "exception": false,
     "start_time": "2023-06-11T00:31:59.434284",
     "status": "completed"
    },
    "tags": []
   },
   "source": [
    "## Mann-Whitney Test"
   ]
  },
  {
   "cell_type": "code",
   "execution_count": 4,
   "id": "3d757e11",
   "metadata": {
    "execution": {
     "iopub.execute_input": "2023-06-11T00:31:59.503614Z",
     "iopub.status.busy": "2023-06-11T00:31:59.503614Z",
     "iopub.status.idle": "2023-06-11T00:31:59.961593Z",
     "shell.execute_reply": "2023-06-11T00:31:59.961593Z"
    },
    "papermill": {
     "duration": 0.501053,
     "end_time": "2023-06-11T00:31:59.961593",
     "exception": false,
     "start_time": "2023-06-11T00:31:59.460540",
     "status": "completed"
    },
    "tags": []
   },
   "outputs": [],
   "source": [
    "order = pd.read_excel('order_filename.ods')"
   ]
  },
  {
   "cell_type": "code",
   "execution_count": 5,
   "id": "4f89e563",
   "metadata": {
    "execution": {
     "iopub.execute_input": "2023-06-11T00:31:59.991197Z",
     "iopub.status.busy": "2023-06-11T00:31:59.990203Z",
     "iopub.status.idle": "2023-06-11T00:32:00.055911Z",
     "shell.execute_reply": "2023-06-11T00:32:00.053113Z"
    },
    "papermill": {
     "duration": 0.09832,
     "end_time": "2023-06-11T00:32:00.059913",
     "exception": false,
     "start_time": "2023-06-11T00:31:59.961593",
     "status": "completed"
    },
    "tags": []
   },
   "outputs": [],
   "source": [
    "obj_params = pd.read_excel('voces_test_rms.ods')"
   ]
  },
  {
   "cell_type": "code",
   "execution_count": 6,
   "id": "a3cb7332",
   "metadata": {
    "execution": {
     "iopub.execute_input": "2023-06-11T00:32:00.084913Z",
     "iopub.status.busy": "2023-06-11T00:32:00.083911Z",
     "iopub.status.idle": "2023-06-11T00:32:00.117150Z",
     "shell.execute_reply": "2023-06-11T00:32:00.116151Z"
    },
    "papermill": {
     "duration": 0.049237,
     "end_time": "2023-06-11T00:32:00.120152",
     "exception": false,
     "start_time": "2023-06-11T00:32:00.070915",
     "status": "completed"
    },
    "tags": []
   },
   "outputs": [],
   "source": [
    "df_final = pd.read_csv(r'aux_file\\data_to_mannwhitney.csv')"
   ]
  },
  {
   "cell_type": "code",
   "execution_count": 7,
   "id": "61254257",
   "metadata": {
    "execution": {
     "iopub.execute_input": "2023-06-11T00:32:00.138237Z",
     "iopub.status.busy": "2023-06-11T00:32:00.138237Z",
     "iopub.status.idle": "2023-06-11T00:32:00.153862Z",
     "shell.execute_reply": "2023-06-11T00:32:00.153862Z"
    },
    "papermill": {
     "duration": 0.025711,
     "end_time": "2023-06-11T00:32:00.153862",
     "exception": false,
     "start_time": "2023-06-11T00:32:00.128151",
     "status": "completed"
    },
    "tags": []
   },
   "outputs": [],
   "source": [
    "df_values =  pd.merge(\n",
    "    df_final,\n",
    "    order,\n",
    "    how='left',\n",
    "    on='ID'\n",
    ")"
   ]
  },
  {
   "cell_type": "code",
   "execution_count": 8,
   "id": "d2a304f1",
   "metadata": {
    "execution": {
     "iopub.execute_input": "2023-06-11T00:32:00.169504Z",
     "iopub.status.busy": "2023-06-11T00:32:00.169504Z",
     "iopub.status.idle": "2023-06-11T00:32:00.200830Z",
     "shell.execute_reply": "2023-06-11T00:32:00.200830Z"
    },
    "papermill": {
     "duration": 0.046968,
     "end_time": "2023-06-11T00:32:00.200830",
     "exception": false,
     "start_time": "2023-06-11T00:32:00.153862",
     "status": "completed"
    },
    "tags": []
   },
   "outputs": [],
   "source": [
    "df_mannwhitney =  pd.merge(\n",
    "    df_values,\n",
    "    obj_params[['file', 'genero']],\n",
    "    how='left',\n",
    "    left_on='filename',\n",
    "    right_on='file'\n",
    ").drop(columns=['filename'])"
   ]
  },
  {
   "cell_type": "code",
   "execution_count": 9,
   "id": "d2e7fc2f",
   "metadata": {
    "execution": {
     "iopub.execute_input": "2023-06-11T00:32:00.231424Z",
     "iopub.status.busy": "2023-06-11T00:32:00.230428Z",
     "iopub.status.idle": "2023-06-11T00:32:00.265137Z",
     "shell.execute_reply": "2023-06-11T00:32:00.263262Z"
    },
    "papermill": {
     "duration": 0.051806,
     "end_time": "2023-06-11T00:32:00.268173",
     "exception": false,
     "start_time": "2023-06-11T00:32:00.216367",
     "status": "completed"
    },
    "tags": []
   },
   "outputs": [
    {
     "data": {
      "text/html": [
       "<div>\n",
       "<style scoped>\n",
       "    .dataframe tbody tr th:only-of-type {\n",
       "        vertical-align: middle;\n",
       "    }\n",
       "\n",
       "    .dataframe tbody tr th {\n",
       "        vertical-align: top;\n",
       "    }\n",
       "\n",
       "    .dataframe thead th {\n",
       "        text-align: right;\n",
       "    }\n",
       "</style>\n",
       "<table border=\"1\" class=\"dataframe\">\n",
       "  <thead>\n",
       "    <tr style=\"text-align: right;\">\n",
       "      <th></th>\n",
       "      <th>Inteligibilidad</th>\n",
       "      <th>Pronunciacion</th>\n",
       "      <th>Acentuacion</th>\n",
       "      <th>Naturalidad</th>\n",
       "      <th>Cadencia</th>\n",
       "      <th>ID</th>\n",
       "      <th>file</th>\n",
       "      <th>genero</th>\n",
       "    </tr>\n",
       "  </thead>\n",
       "  <tbody>\n",
       "    <tr>\n",
       "      <th>0</th>\n",
       "      <td>5</td>\n",
       "      <td>5</td>\n",
       "      <td>5</td>\n",
       "      <td>4</td>\n",
       "      <td>5</td>\n",
       "      <td>1</td>\n",
       "      <td>alonso-naturalreader.wav</td>\n",
       "      <td>masculino</td>\n",
       "    </tr>\n",
       "    <tr>\n",
       "      <th>1</th>\n",
       "      <td>5</td>\n",
       "      <td>5</td>\n",
       "      <td>5</td>\n",
       "      <td>5</td>\n",
       "      <td>5</td>\n",
       "      <td>2</td>\n",
       "      <td>hyacinthe-lovo-v3.wav</td>\n",
       "      <td>femenino</td>\n",
       "    </tr>\n",
       "    <tr>\n",
       "      <th>2</th>\n",
       "      <td>5</td>\n",
       "      <td>4</td>\n",
       "      <td>2</td>\n",
       "      <td>2</td>\n",
       "      <td>2</td>\n",
       "      <td>3</td>\n",
       "      <td>neural2C-pitchmodified-speedmodified.wav</td>\n",
       "      <td>masculino</td>\n",
       "    </tr>\n",
       "    <tr>\n",
       "      <th>3</th>\n",
       "      <td>4</td>\n",
       "      <td>3</td>\n",
       "      <td>3</td>\n",
       "      <td>3</td>\n",
       "      <td>4</td>\n",
       "      <td>4</td>\n",
       "      <td>francisca-lovo-v2.wav</td>\n",
       "      <td>femenino</td>\n",
       "    </tr>\n",
       "    <tr>\n",
       "      <th>4</th>\n",
       "      <td>5</td>\n",
       "      <td>4</td>\n",
       "      <td>2</td>\n",
       "      <td>2</td>\n",
       "      <td>3</td>\n",
       "      <td>5</td>\n",
       "      <td>antoni-evenlabs-linguistico-v2.wav</td>\n",
       "      <td>masculino</td>\n",
       "    </tr>\n",
       "    <tr>\n",
       "      <th>...</th>\n",
       "      <td>...</td>\n",
       "      <td>...</td>\n",
       "      <td>...</td>\n",
       "      <td>...</td>\n",
       "      <td>...</td>\n",
       "      <td>...</td>\n",
       "      <td>...</td>\n",
       "      <td>...</td>\n",
       "    </tr>\n",
       "    <tr>\n",
       "      <th>795</th>\n",
       "      <td>5</td>\n",
       "      <td>5</td>\n",
       "      <td>4</td>\n",
       "      <td>3</td>\n",
       "      <td>4</td>\n",
       "      <td>16</td>\n",
       "      <td>neural2A-GCP.wav</td>\n",
       "      <td>femenino</td>\n",
       "    </tr>\n",
       "    <tr>\n",
       "      <th>796</th>\n",
       "      <td>5</td>\n",
       "      <td>4</td>\n",
       "      <td>4</td>\n",
       "      <td>1</td>\n",
       "      <td>3</td>\n",
       "      <td>17</td>\n",
       "      <td>antoni-evenlabs-v3.wav</td>\n",
       "      <td>masculino</td>\n",
       "    </tr>\n",
       "    <tr>\n",
       "      <th>797</th>\n",
       "      <td>5</td>\n",
       "      <td>5</td>\n",
       "      <td>5</td>\n",
       "      <td>2</td>\n",
       "      <td>2</td>\n",
       "      <td>18</td>\n",
       "      <td>elvira-lovo-pitchmodified.wav</td>\n",
       "      <td>femenino</td>\n",
       "    </tr>\n",
       "    <tr>\n",
       "      <th>798</th>\n",
       "      <td>5</td>\n",
       "      <td>5</td>\n",
       "      <td>5</td>\n",
       "      <td>2</td>\n",
       "      <td>4</td>\n",
       "      <td>19</td>\n",
       "      <td>neural2B-GCP.wav</td>\n",
       "      <td>masculino</td>\n",
       "    </tr>\n",
       "    <tr>\n",
       "      <th>799</th>\n",
       "      <td>5</td>\n",
       "      <td>5</td>\n",
       "      <td>4</td>\n",
       "      <td>3</td>\n",
       "      <td>4</td>\n",
       "      <td>20</td>\n",
       "      <td>lia-lovo-pitchmodified.wav</td>\n",
       "      <td>femenino</td>\n",
       "    </tr>\n",
       "  </tbody>\n",
       "</table>\n",
       "<p>800 rows × 8 columns</p>\n",
       "</div>"
      ],
      "text/plain": [
       "     Inteligibilidad  Pronunciacion  Acentuacion  Naturalidad  Cadencia  ID   \n",
       "0                  5              5            5            4         5   1  \\\n",
       "1                  5              5            5            5         5   2   \n",
       "2                  5              4            2            2         2   3   \n",
       "3                  4              3            3            3         4   4   \n",
       "4                  5              4            2            2         3   5   \n",
       "..               ...            ...          ...          ...       ...  ..   \n",
       "795                5              5            4            3         4  16   \n",
       "796                5              4            4            1         3  17   \n",
       "797                5              5            5            2         2  18   \n",
       "798                5              5            5            2         4  19   \n",
       "799                5              5            4            3         4  20   \n",
       "\n",
       "                                         file     genero  \n",
       "0                    alonso-naturalreader.wav  masculino  \n",
       "1                       hyacinthe-lovo-v3.wav   femenino  \n",
       "2    neural2C-pitchmodified-speedmodified.wav  masculino  \n",
       "3                       francisca-lovo-v2.wav   femenino  \n",
       "4          antoni-evenlabs-linguistico-v2.wav  masculino  \n",
       "..                                        ...        ...  \n",
       "795                          neural2A-GCP.wav   femenino  \n",
       "796                    antoni-evenlabs-v3.wav  masculino  \n",
       "797             elvira-lovo-pitchmodified.wav   femenino  \n",
       "798                          neural2B-GCP.wav  masculino  \n",
       "799                lia-lovo-pitchmodified.wav   femenino  \n",
       "\n",
       "[800 rows x 8 columns]"
      ]
     },
     "execution_count": 9,
     "metadata": {},
     "output_type": "execute_result"
    }
   ],
   "source": [
    "df_mannwhitney"
   ]
  },
  {
   "attachments": {},
   "cell_type": "markdown",
   "id": "5db9c08e",
   "metadata": {
    "papermill": {
     "duration": 0.011075,
     "end_time": "2023-06-11T00:32:00.287211",
     "exception": false,
     "start_time": "2023-06-11T00:32:00.276136",
     "status": "completed"
    },
    "tags": []
   },
   "source": [
    "### Inteligibilidad"
   ]
  },
  {
   "cell_type": "code",
   "execution_count": 10,
   "id": "73208d4d",
   "metadata": {
    "execution": {
     "iopub.execute_input": "2023-06-11T00:32:00.302858Z",
     "iopub.status.busy": "2023-06-11T00:32:00.302858Z",
     "iopub.status.idle": "2023-06-11T00:32:00.318658Z",
     "shell.execute_reply": "2023-06-11T00:32:00.318658Z"
    },
    "papermill": {
     "duration": 0.031447,
     "end_time": "2023-06-11T00:32:00.318658",
     "exception": false,
     "start_time": "2023-06-11T00:32:00.287211",
     "status": "completed"
    },
    "tags": []
   },
   "outputs": [],
   "source": [
    "mask_masculina = df_mannwhitney.genero == 'masculino'\n",
    "inteligibilidad_masculina = df_mannwhitney.loc[mask_masculina, ['Inteligibilidad']].values.flatten()"
   ]
  },
  {
   "cell_type": "code",
   "execution_count": 11,
   "id": "2cb60363",
   "metadata": {
    "execution": {
     "iopub.execute_input": "2023-06-11T00:32:00.348627Z",
     "iopub.status.busy": "2023-06-11T00:32:00.347657Z",
     "iopub.status.idle": "2023-06-11T00:32:00.365125Z",
     "shell.execute_reply": "2023-06-11T00:32:00.364110Z"
    },
    "papermill": {
     "duration": 0.049516,
     "end_time": "2023-06-11T00:32:00.368174",
     "exception": false,
     "start_time": "2023-06-11T00:32:00.318658",
     "status": "completed"
    },
    "tags": []
   },
   "outputs": [],
   "source": [
    "mask_femenina = df_mannwhitney.genero == 'femenino'\n",
    "inteligibilidad_femenina = df_mannwhitney.loc[mask_femenina, ['Inteligibilidad']].values.flatten()"
   ]
  },
  {
   "cell_type": "code",
   "execution_count": 12,
   "id": "a87f1481",
   "metadata": {
    "execution": {
     "iopub.execute_input": "2023-06-11T00:32:00.390118Z",
     "iopub.status.busy": "2023-06-11T00:32:00.389120Z",
     "iopub.status.idle": "2023-06-11T00:32:00.419040Z",
     "shell.execute_reply": "2023-06-11T00:32:00.419040Z"
    },
    "papermill": {
     "duration": 0.040916,
     "end_time": "2023-06-11T00:32:00.419040",
     "exception": false,
     "start_time": "2023-06-11T00:32:00.378124",
     "status": "completed"
    },
    "tags": []
   },
   "outputs": [],
   "source": [
    "# Realizar el test de Mann-Whitney U\n",
    "inteligibilidad_estadistico, inteligibilidad_valor_p = mannwhitneyu(inteligibilidad_masculina, inteligibilidad_femenina)"
   ]
  },
  {
   "cell_type": "code",
   "execution_count": 13,
   "id": "be56136a",
   "metadata": {
    "execution": {
     "iopub.execute_input": "2023-06-11T00:32:00.448375Z",
     "iopub.status.busy": "2023-06-11T00:32:00.447379Z",
     "iopub.status.idle": "2023-06-11T00:32:00.467347Z",
     "shell.execute_reply": "2023-06-11T00:32:00.465334Z"
    },
    "papermill": {
     "duration": 0.052316,
     "end_time": "2023-06-11T00:32:00.471356",
     "exception": false,
     "start_time": "2023-06-11T00:32:00.419040",
     "status": "completed"
    },
    "tags": []
   },
   "outputs": [
    {
     "name": "stdout",
     "output_type": "stream",
     "text": [
      "El genero no es factor de influencia para la inteligibilidad p_value: 0.12963062219716953\n"
     ]
    }
   ],
   "source": [
    "if inteligibilidad_valor_p <= 0.05:\n",
    "    print('El genero es factor de influencia para la inteligibilidad', 'p_value:', inteligibilidad_valor_p)\n",
    "else:\n",
    "    print('El genero no es factor de influencia para la inteligibilidad', 'p_value:', inteligibilidad_valor_p)"
   ]
  },
  {
   "attachments": {},
   "cell_type": "markdown",
   "id": "714956e7",
   "metadata": {
    "papermill": {
     "duration": 0.007396,
     "end_time": "2023-06-11T00:32:00.486744",
     "exception": false,
     "start_time": "2023-06-11T00:32:00.479348",
     "status": "completed"
    },
    "tags": []
   },
   "source": [
    "### Pronunciación"
   ]
  },
  {
   "cell_type": "code",
   "execution_count": 14,
   "id": "92ae3c44",
   "metadata": {
    "execution": {
     "iopub.execute_input": "2023-06-11T00:32:00.502375Z",
     "iopub.status.busy": "2023-06-11T00:32:00.502375Z",
     "iopub.status.idle": "2023-06-11T00:32:00.518194Z",
     "shell.execute_reply": "2023-06-11T00:32:00.518194Z"
    },
    "papermill": {
     "duration": 0.03145,
     "end_time": "2023-06-11T00:32:00.518194",
     "exception": false,
     "start_time": "2023-06-11T00:32:00.486744",
     "status": "completed"
    },
    "tags": []
   },
   "outputs": [],
   "source": [
    "mask_masculina = df_mannwhitney.genero == 'masculino'\n",
    "pronunciacion_masculina = df_mannwhitney.loc[mask_masculina, ['Pronunciacion']].values.flatten()"
   ]
  },
  {
   "cell_type": "code",
   "execution_count": 15,
   "id": "61813b3f",
   "metadata": {
    "execution": {
     "iopub.execute_input": "2023-06-11T00:32:00.533624Z",
     "iopub.status.busy": "2023-06-11T00:32:00.533624Z",
     "iopub.status.idle": "2023-06-11T00:32:00.549277Z",
     "shell.execute_reply": "2023-06-11T00:32:00.549277Z"
    },
    "papermill": {
     "duration": 0.031083,
     "end_time": "2023-06-11T00:32:00.549277",
     "exception": false,
     "start_time": "2023-06-11T00:32:00.518194",
     "status": "completed"
    },
    "tags": []
   },
   "outputs": [],
   "source": [
    "mask_femenina = df_mannwhitney.genero == 'femenino'\n",
    "pronunciacion_femenina = df_mannwhitney.loc[mask_femenina, ['Pronunciacion']].values.flatten()"
   ]
  },
  {
   "cell_type": "code",
   "execution_count": 16,
   "id": "567229dc",
   "metadata": {
    "execution": {
     "iopub.execute_input": "2023-06-11T00:32:00.579409Z",
     "iopub.status.busy": "2023-06-11T00:32:00.579409Z",
     "iopub.status.idle": "2023-06-11T00:32:00.598403Z",
     "shell.execute_reply": "2023-06-11T00:32:00.596496Z"
    },
    "papermill": {
     "duration": 0.051128,
     "end_time": "2023-06-11T00:32:00.600405",
     "exception": false,
     "start_time": "2023-06-11T00:32:00.549277",
     "status": "completed"
    },
    "tags": []
   },
   "outputs": [],
   "source": [
    "# Realizar el test de Mann-Whitney U\n",
    "pronunciacion_estadistico, pronunciacion_valor_p = mannwhitneyu(pronunciacion_masculina, pronunciacion_femenina)"
   ]
  },
  {
   "cell_type": "code",
   "execution_count": 17,
   "id": "fca37a88",
   "metadata": {
    "execution": {
     "iopub.execute_input": "2023-06-11T00:32:00.619998Z",
     "iopub.status.busy": "2023-06-11T00:32:00.619998Z",
     "iopub.status.idle": "2023-06-11T00:32:00.635718Z",
     "shell.execute_reply": "2023-06-11T00:32:00.635718Z"
    },
    "papermill": {
     "duration": 0.026278,
     "end_time": "2023-06-11T00:32:00.635718",
     "exception": false,
     "start_time": "2023-06-11T00:32:00.609440",
     "status": "completed"
    },
    "tags": []
   },
   "outputs": [
    {
     "name": "stdout",
     "output_type": "stream",
     "text": [
      "El genero es factor de influencia para la pronunciación p_value: 0.037513325130613624\n"
     ]
    }
   ],
   "source": [
    "if pronunciacion_valor_p <= 0.05:\n",
    "    print('El genero es factor de influencia para la pronunciación', 'p_value:', pronunciacion_valor_p)\n",
    "else:\n",
    "    print('El genero no es factor de influencia para la pronunciación', 'p_value:', pronunciacion_valor_p)"
   ]
  },
  {
   "attachments": {},
   "cell_type": "markdown",
   "id": "4aa04ea3",
   "metadata": {
    "papermill": {
     "duration": 0.015565,
     "end_time": "2023-06-11T00:32:00.651283",
     "exception": false,
     "start_time": "2023-06-11T00:32:00.635718",
     "status": "completed"
    },
    "tags": []
   },
   "source": [
    "### Acentuación"
   ]
  },
  {
   "cell_type": "code",
   "execution_count": 18,
   "id": "c487631b",
   "metadata": {
    "execution": {
     "iopub.execute_input": "2023-06-11T00:32:00.684405Z",
     "iopub.status.busy": "2023-06-11T00:32:00.683409Z",
     "iopub.status.idle": "2023-06-11T00:32:00.699403Z",
     "shell.execute_reply": "2023-06-11T00:32:00.697909Z"
    },
    "papermill": {
     "duration": 0.035528,
     "end_time": "2023-06-11T00:32:00.702439",
     "exception": false,
     "start_time": "2023-06-11T00:32:00.666911",
     "status": "completed"
    },
    "tags": []
   },
   "outputs": [],
   "source": [
    "mask_masculina = df_mannwhitney.genero == 'masculino'\n",
    "acentuacion_masculina = df_mannwhitney.loc[mask_masculina, ['Acentuacion']].values.flatten()"
   ]
  },
  {
   "cell_type": "code",
   "execution_count": 19,
   "id": "8aa5ec8f",
   "metadata": {
    "execution": {
     "iopub.execute_input": "2023-06-11T00:32:00.723442Z",
     "iopub.status.busy": "2023-06-11T00:32:00.722439Z",
     "iopub.status.idle": "2023-06-11T00:32:00.752420Z",
     "shell.execute_reply": "2023-06-11T00:32:00.752420Z"
    },
    "papermill": {
     "duration": 0.040981,
     "end_time": "2023-06-11T00:32:00.752420",
     "exception": false,
     "start_time": "2023-06-11T00:32:00.711439",
     "status": "completed"
    },
    "tags": []
   },
   "outputs": [],
   "source": [
    "mask_femenina = df_mannwhitney.genero == 'femenino'\n",
    "acentuacion_femenina = df_mannwhitney.loc[mask_femenina, ['Acentuacion']].values.flatten()"
   ]
  },
  {
   "cell_type": "code",
   "execution_count": 20,
   "id": "76106ccf",
   "metadata": {
    "execution": {
     "iopub.execute_input": "2023-06-11T00:32:00.767853Z",
     "iopub.status.busy": "2023-06-11T00:32:00.767853Z",
     "iopub.status.idle": "2023-06-11T00:32:00.783643Z",
     "shell.execute_reply": "2023-06-11T00:32:00.783643Z"
    },
    "papermill": {
     "duration": 0.031223,
     "end_time": "2023-06-11T00:32:00.783643",
     "exception": false,
     "start_time": "2023-06-11T00:32:00.752420",
     "status": "completed"
    },
    "tags": []
   },
   "outputs": [],
   "source": [
    "# Realizar el test de Mann-Whitney U\n",
    "acentuacion_estadistico, acentuacion_valor_p = mannwhitneyu(acentuacion_masculina, acentuacion_femenina)"
   ]
  },
  {
   "cell_type": "code",
   "execution_count": 21,
   "id": "4da74fa1",
   "metadata": {
    "execution": {
     "iopub.execute_input": "2023-06-11T00:32:00.815109Z",
     "iopub.status.busy": "2023-06-11T00:32:00.813500Z",
     "iopub.status.idle": "2023-06-11T00:32:00.831133Z",
     "shell.execute_reply": "2023-06-11T00:32:00.829119Z"
    },
    "papermill": {
     "duration": 0.049488,
     "end_time": "2023-06-11T00:32:00.833131",
     "exception": false,
     "start_time": "2023-06-11T00:32:00.783643",
     "status": "completed"
    },
    "tags": []
   },
   "outputs": [
    {
     "name": "stdout",
     "output_type": "stream",
     "text": [
      "El genero es factor de influencia para la acentuación p_value: 0.0018631840072653517\n"
     ]
    }
   ],
   "source": [
    "if acentuacion_valor_p <= 0.05:\n",
    "    print('El genero es factor de influencia para la acentuación', 'p_value:', acentuacion_valor_p)\n",
    "else:\n",
    "    print('El genero no es factor de influencia para la acentuación', 'p_value:', acentuacion_valor_p)"
   ]
  },
  {
   "attachments": {},
   "cell_type": "markdown",
   "id": "beea14d3",
   "metadata": {
    "papermill": {
     "duration": 0.009963,
     "end_time": "2023-06-11T00:32:00.852131",
     "exception": false,
     "start_time": "2023-06-11T00:32:00.842168",
     "status": "completed"
    },
    "tags": []
   },
   "source": [
    "### Naturalidad"
   ]
  },
  {
   "cell_type": "code",
   "execution_count": 22,
   "id": "849d6e70",
   "metadata": {
    "execution": {
     "iopub.execute_input": "2023-06-11T00:32:00.868678Z",
     "iopub.status.busy": "2023-06-11T00:32:00.868678Z",
     "iopub.status.idle": "2023-06-11T00:32:00.884502Z",
     "shell.execute_reply": "2023-06-11T00:32:00.884502Z"
    },
    "papermill": {
     "duration": 0.031449,
     "end_time": "2023-06-11T00:32:00.884502",
     "exception": false,
     "start_time": "2023-06-11T00:32:00.853053",
     "status": "completed"
    },
    "tags": []
   },
   "outputs": [],
   "source": [
    "mask_masculina = df_mannwhitney.genero == 'masculino'\n",
    "naturalidad_masculina = df_mannwhitney.loc[mask_masculina, ['Naturalidad']].values.flatten()"
   ]
  },
  {
   "cell_type": "code",
   "execution_count": 23,
   "id": "c22e4214",
   "metadata": {
    "execution": {
     "iopub.execute_input": "2023-06-11T00:32:00.915313Z",
     "iopub.status.busy": "2023-06-11T00:32:00.913315Z",
     "iopub.status.idle": "2023-06-11T00:32:00.931320Z",
     "shell.execute_reply": "2023-06-11T00:32:00.929488Z"
    },
    "papermill": {
     "duration": 0.048813,
     "end_time": "2023-06-11T00:32:00.933315",
     "exception": false,
     "start_time": "2023-06-11T00:32:00.884502",
     "status": "completed"
    },
    "tags": []
   },
   "outputs": [],
   "source": [
    "mask_femenina = df_mannwhitney.genero == 'femenino'\n",
    "naturalidad_femenina = df_mannwhitney.loc[mask_femenina, ['Naturalidad']].values.flatten()"
   ]
  },
  {
   "cell_type": "code",
   "execution_count": 24,
   "id": "1cab49a5",
   "metadata": {
    "execution": {
     "iopub.execute_input": "2023-06-11T00:32:00.953421Z",
     "iopub.status.busy": "2023-06-11T00:32:00.953421Z",
     "iopub.status.idle": "2023-06-11T00:32:00.969227Z",
     "shell.execute_reply": "2023-06-11T00:32:00.969227Z"
    },
    "papermill": {
     "duration": 0.025877,
     "end_time": "2023-06-11T00:32:00.969227",
     "exception": false,
     "start_time": "2023-06-11T00:32:00.943350",
     "status": "completed"
    },
    "tags": []
   },
   "outputs": [],
   "source": [
    "# Realizar el test de Mann-Whitney U\n",
    "naturalidad_estadistico, naturalidad_valor_p = mannwhitneyu(naturalidad_masculina, naturalidad_femenina)"
   ]
  },
  {
   "cell_type": "code",
   "execution_count": 25,
   "id": "be597de7",
   "metadata": {
    "execution": {
     "iopub.execute_input": "2023-06-11T00:32:00.984712Z",
     "iopub.status.busy": "2023-06-11T00:32:00.984712Z",
     "iopub.status.idle": "2023-06-11T00:32:01.000459Z",
     "shell.execute_reply": "2023-06-11T00:32:01.000459Z"
    },
    "papermill": {
     "duration": 0.031232,
     "end_time": "2023-06-11T00:32:01.000459",
     "exception": false,
     "start_time": "2023-06-11T00:32:00.969227",
     "status": "completed"
    },
    "tags": []
   },
   "outputs": [
    {
     "name": "stdout",
     "output_type": "stream",
     "text": [
      "El genero es factor de influencia para la naturalidad p_value: 0.00020305097947062839\n"
     ]
    }
   ],
   "source": [
    "if naturalidad_valor_p <= 0.05:\n",
    "    print('El genero es factor de influencia para la naturalidad', 'p_value:', naturalidad_valor_p)\n",
    "else:\n",
    "    print('El genero no es factor de influencia para la naturalidad', 'p_value:', naturalidad_valor_p)"
   ]
  },
  {
   "attachments": {},
   "cell_type": "markdown",
   "id": "7185c068",
   "metadata": {
    "papermill": {
     "duration": 0.027398,
     "end_time": "2023-06-11T00:32:01.027857",
     "exception": false,
     "start_time": "2023-06-11T00:32:01.000459",
     "status": "completed"
    },
    "tags": []
   },
   "source": [
    "### Cadencia"
   ]
  },
  {
   "cell_type": "code",
   "execution_count": 26,
   "id": "e4aaf5b3",
   "metadata": {
    "execution": {
     "iopub.execute_input": "2023-06-11T00:32:01.049858Z",
     "iopub.status.busy": "2023-06-11T00:32:01.048860Z",
     "iopub.status.idle": "2023-06-11T00:32:01.069109Z",
     "shell.execute_reply": "2023-06-11T00:32:01.069109Z"
    },
    "papermill": {
     "duration": 0.030246,
     "end_time": "2023-06-11T00:32:01.069109",
     "exception": false,
     "start_time": "2023-06-11T00:32:01.038863",
     "status": "completed"
    },
    "tags": []
   },
   "outputs": [],
   "source": [
    "mask_masculina = df_mannwhitney.genero == 'masculino'\n",
    "cadencia_masculina = df_mannwhitney.loc[mask_masculina, ['Cadencia']].values.flatten()"
   ]
  },
  {
   "cell_type": "code",
   "execution_count": 27,
   "id": "4b544469",
   "metadata": {
    "execution": {
     "iopub.execute_input": "2023-06-11T00:32:01.084675Z",
     "iopub.status.busy": "2023-06-11T00:32:01.084675Z",
     "iopub.status.idle": "2023-06-11T00:32:01.100467Z",
     "shell.execute_reply": "2023-06-11T00:32:01.100467Z"
    },
    "papermill": {
     "duration": 0.031358,
     "end_time": "2023-06-11T00:32:01.100467",
     "exception": false,
     "start_time": "2023-06-11T00:32:01.069109",
     "status": "completed"
    },
    "tags": []
   },
   "outputs": [],
   "source": [
    "mask_femenina = df_mannwhitney.genero == 'femenino'\n",
    "cadencia_femenina = df_mannwhitney.loc[mask_femenina, ['Cadencia']].values.flatten()"
   ]
  },
  {
   "cell_type": "code",
   "execution_count": 28,
   "id": "f5cf0a10",
   "metadata": {
    "execution": {
     "iopub.execute_input": "2023-06-11T00:32:01.130794Z",
     "iopub.status.busy": "2023-06-11T00:32:01.130794Z",
     "iopub.status.idle": "2023-06-11T00:32:01.148788Z",
     "shell.execute_reply": "2023-06-11T00:32:01.147835Z"
    },
    "papermill": {
     "duration": 0.051319,
     "end_time": "2023-06-11T00:32:01.151786",
     "exception": false,
     "start_time": "2023-06-11T00:32:01.100467",
     "status": "completed"
    },
    "tags": []
   },
   "outputs": [],
   "source": [
    "# Realizar el test de Mann-Whitney U\n",
    "cadencia_estadistico, cadencia_valor_p = mannwhitneyu(cadencia_masculina, cadencia_femenina)"
   ]
  },
  {
   "cell_type": "code",
   "execution_count": 29,
   "id": "a34716d6",
   "metadata": {
    "execution": {
     "iopub.execute_input": "2023-06-11T00:32:01.170040Z",
     "iopub.status.busy": "2023-06-11T00:32:01.170040Z",
     "iopub.status.idle": "2023-06-11T00:32:01.185760Z",
     "shell.execute_reply": "2023-06-11T00:32:01.185760Z"
    },
    "papermill": {
     "duration": 0.023969,
     "end_time": "2023-06-11T00:32:01.185760",
     "exception": false,
     "start_time": "2023-06-11T00:32:01.161791",
     "status": "completed"
    },
    "tags": []
   },
   "outputs": [
    {
     "name": "stdout",
     "output_type": "stream",
     "text": [
      "El genero es factor de influencia para la cadencia p_value: 8.79190661398857e-06\n"
     ]
    }
   ],
   "source": [
    "if cadencia_valor_p <= 0.05:\n",
    "    print('El genero es factor de influencia para la cadencia', 'p_value:', cadencia_valor_p)\n",
    "else:\n",
    "    print('El genero no es factor de influencia para la cadencia', 'p_value:', cadencia_valor_p)"
   ]
  },
  {
   "attachments": {},
   "cell_type": "markdown",
   "id": "85edb1ca",
   "metadata": {
    "papermill": {
     "duration": 0.015531,
     "end_time": "2023-06-11T00:32:01.201291",
     "exception": false,
     "start_time": "2023-06-11T00:32:01.185760",
     "status": "completed"
    },
    "tags": []
   },
   "source": [
    "### Output Mann-Whitney Test"
   ]
  },
  {
   "cell_type": "code",
   "execution_count": 30,
   "id": "8bf851c4",
   "metadata": {
    "execution": {
     "iopub.execute_input": "2023-06-11T00:32:01.220124Z",
     "iopub.status.busy": "2023-06-11T00:32:01.220124Z",
     "iopub.status.idle": "2023-06-11T00:32:01.255048Z",
     "shell.execute_reply": "2023-06-11T00:32:01.251411Z"
    },
    "papermill": {
     "duration": 0.041152,
     "end_time": "2023-06-11T00:32:01.258069",
     "exception": false,
     "start_time": "2023-06-11T00:32:01.216917",
     "status": "completed"
    },
    "tags": []
   },
   "outputs": [],
   "source": [
    "dicc_manwhitney = {\n",
    "    'Parametro_subjetivo': [\n",
    "        'inteligibilidad',\n",
    "        'pronunciación',\n",
    "        'acentuación',\n",
    "        'naturalidad',\n",
    "        'cadencia'\n",
    "    ],\n",
    "    'p_valor':[\n",
    "        inteligibilidad_valor_p,\n",
    "        pronunciacion_valor_p,\n",
    "        acentuacion_valor_p,\n",
    "        naturalidad_valor_p,\n",
    "        cadencia_valor_p\n",
    "    ]\n",
    "}\n",
    "\n",
    "df_output_mannwhitney = pd.DataFrame(dicc_manwhitney)"
   ]
  },
  {
   "cell_type": "code",
   "execution_count": 31,
   "id": "4efcc130",
   "metadata": {
    "execution": {
     "iopub.execute_input": "2023-06-11T00:32:01.281034Z",
     "iopub.status.busy": "2023-06-11T00:32:01.280036Z",
     "iopub.status.idle": "2023-06-11T00:32:01.300981Z",
     "shell.execute_reply": "2023-06-11T00:32:01.298969Z"
    },
    "papermill": {
     "duration": 0.036177,
     "end_time": "2023-06-11T00:32:01.303212",
     "exception": false,
     "start_time": "2023-06-11T00:32:01.267035",
     "status": "completed"
    },
    "tags": []
   },
   "outputs": [],
   "source": [
    "df_output_mannwhitney['Manwhitney'] = df_output_mannwhitney.apply(\n",
    "    lambda x: 'Hay evidencia para afirmar que el genero es factor de influencia' if x.p_valor <= 0.05\n",
    "        else 'No hay evidencia para afirmar que el genero es factor de influencia',\n",
    "    axis=1\n",
    ")"
   ]
  },
  {
   "cell_type": "code",
   "execution_count": 32,
   "id": "c2722cb1",
   "metadata": {
    "execution": {
     "iopub.execute_input": "2023-06-11T00:32:01.318881Z",
     "iopub.status.busy": "2023-06-11T00:32:01.318881Z",
     "iopub.status.idle": "2023-06-11T00:32:01.334501Z",
     "shell.execute_reply": "2023-06-11T00:32:01.334501Z"
    },
    "papermill": {
     "duration": 0.031289,
     "end_time": "2023-06-11T00:32:01.334501",
     "exception": false,
     "start_time": "2023-06-11T00:32:01.303212",
     "status": "completed"
    },
    "tags": []
   },
   "outputs": [
    {
     "data": {
      "text/html": [
       "<div>\n",
       "<style scoped>\n",
       "    .dataframe tbody tr th:only-of-type {\n",
       "        vertical-align: middle;\n",
       "    }\n",
       "\n",
       "    .dataframe tbody tr th {\n",
       "        vertical-align: top;\n",
       "    }\n",
       "\n",
       "    .dataframe thead th {\n",
       "        text-align: right;\n",
       "    }\n",
       "</style>\n",
       "<table border=\"1\" class=\"dataframe\">\n",
       "  <thead>\n",
       "    <tr style=\"text-align: right;\">\n",
       "      <th></th>\n",
       "      <th>Parametro_subjetivo</th>\n",
       "      <th>p_valor</th>\n",
       "      <th>Manwhitney</th>\n",
       "    </tr>\n",
       "  </thead>\n",
       "  <tbody>\n",
       "    <tr>\n",
       "      <th>0</th>\n",
       "      <td>inteligibilidad</td>\n",
       "      <td>0.129631</td>\n",
       "      <td>No hay evidencia para afirmar que el genero es...</td>\n",
       "    </tr>\n",
       "    <tr>\n",
       "      <th>1</th>\n",
       "      <td>pronunciación</td>\n",
       "      <td>0.037513</td>\n",
       "      <td>Hay evidencia para afirmar que el genero es fa...</td>\n",
       "    </tr>\n",
       "    <tr>\n",
       "      <th>2</th>\n",
       "      <td>acentuación</td>\n",
       "      <td>0.001863</td>\n",
       "      <td>Hay evidencia para afirmar que el genero es fa...</td>\n",
       "    </tr>\n",
       "    <tr>\n",
       "      <th>3</th>\n",
       "      <td>naturalidad</td>\n",
       "      <td>0.000203</td>\n",
       "      <td>Hay evidencia para afirmar que el genero es fa...</td>\n",
       "    </tr>\n",
       "    <tr>\n",
       "      <th>4</th>\n",
       "      <td>cadencia</td>\n",
       "      <td>0.000009</td>\n",
       "      <td>Hay evidencia para afirmar que el genero es fa...</td>\n",
       "    </tr>\n",
       "  </tbody>\n",
       "</table>\n",
       "</div>"
      ],
      "text/plain": [
       "  Parametro_subjetivo   p_valor   \n",
       "0     inteligibilidad  0.129631  \\\n",
       "1       pronunciación  0.037513   \n",
       "2         acentuación  0.001863   \n",
       "3         naturalidad  0.000203   \n",
       "4            cadencia  0.000009   \n",
       "\n",
       "                                          Manwhitney  \n",
       "0  No hay evidencia para afirmar que el genero es...  \n",
       "1  Hay evidencia para afirmar que el genero es fa...  \n",
       "2  Hay evidencia para afirmar que el genero es fa...  \n",
       "3  Hay evidencia para afirmar que el genero es fa...  \n",
       "4  Hay evidencia para afirmar que el genero es fa...  "
      ]
     },
     "execution_count": 32,
     "metadata": {},
     "output_type": "execute_result"
    }
   ],
   "source": [
    "df_output_mannwhitney"
   ]
  },
  {
   "cell_type": "code",
   "execution_count": 33,
   "id": "3b65ac38",
   "metadata": {
    "execution": {
     "iopub.execute_input": "2023-06-11T00:32:01.365606Z",
     "iopub.status.busy": "2023-06-11T00:32:01.364165Z",
     "iopub.status.idle": "2023-06-11T00:32:05.778140Z",
     "shell.execute_reply": "2023-06-11T00:32:05.778140Z"
    },
    "papermill": {
     "duration": 4.443639,
     "end_time": "2023-06-11T00:32:05.778140",
     "exception": false,
     "start_time": "2023-06-11T00:32:01.334501",
     "status": "completed"
    },
    "tags": []
   },
   "outputs": [],
   "source": [
    "df_output_mannwhitney.to_excel(os.path.join(PATH, TEST_FOLDER, MW_FOLDER, 'df_output_mannwhitney.xlsx'), index=False)"
   ]
  },
  {
   "cell_type": "code",
   "execution_count": 34,
   "id": "fa10fe93",
   "metadata": {
    "execution": {
     "iopub.execute_input": "2023-06-11T00:32:05.809209Z",
     "iopub.status.busy": "2023-06-11T00:32:05.809209Z",
     "iopub.status.idle": "2023-06-11T00:32:05.840626Z",
     "shell.execute_reply": "2023-06-11T00:32:05.840626Z"
    },
    "papermill": {
     "duration": 0.047051,
     "end_time": "2023-06-11T00:32:05.840626",
     "exception": false,
     "start_time": "2023-06-11T00:32:05.793575",
     "status": "completed"
    },
    "tags": []
   },
   "outputs": [],
   "source": [
    "df_values.to_csv(r'aux_file\\data_preprocess_regression.csv', index=False)"
   ]
  }
 ],
 "metadata": {
  "kernelspec": {
   "display_name": "venv",
   "language": "python",
   "name": "python3"
  },
  "language_info": {
   "codemirror_mode": {
    "name": "ipython",
    "version": 3
   },
   "file_extension": ".py",
   "mimetype": "text/x-python",
   "name": "python",
   "nbconvert_exporter": "python",
   "pygments_lexer": "ipython3",
   "version": "3.10.11"
  },
  "papermill": {
   "default_parameters": {},
   "duration": 11.693063,
   "end_time": "2023-06-11T00:32:06.310810",
   "environment_variables": {},
   "exception": null,
   "input_path": "mann_whitnet_test.ipynb",
   "output_path": "mann_whitnet_test.ipynb",
   "parameters": {},
   "start_time": "2023-06-11T00:31:54.617747",
   "version": "2.4.0"
  }
 },
 "nbformat": 4,
 "nbformat_minor": 5
}