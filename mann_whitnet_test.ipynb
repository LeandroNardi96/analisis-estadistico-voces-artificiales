{
 "cells": [
  {
   "cell_type": "code",
   "execution_count": 1,
   "id": "951176c9",
   "metadata": {
    "execution": {
     "iopub.execute_input": "2023-06-09T01:26:24.811779Z",
     "iopub.status.busy": "2023-06-09T01:26:24.811059Z",
     "iopub.status.idle": "2023-06-09T01:26:27.714139Z",
     "shell.execute_reply": "2023-06-09T01:26:27.711783Z"
    },
    "papermill": {
     "duration": 2.934142,
     "end_time": "2023-06-09T01:26:27.717174",
     "exception": false,
     "start_time": "2023-06-09T01:26:24.783032",
     "status": "completed"
    },
    "tags": []
   },
   "outputs": [],
   "source": [
    "import pandas as pd\n",
    "import numpy as np\n",
    "from matplotlib import pyplot as plt\n",
    "from scipy.stats import mannwhitneyu\n",
    "import re\n",
    "import os\n",
    "import seaborn as sns\n",
    "from matplotlib import cm, colors"
   ]
  },
  {
   "cell_type": "code",
   "execution_count": 2,
   "id": "70706bb0",
   "metadata": {
    "execution": {
     "iopub.execute_input": "2023-06-09T01:26:27.751082Z",
     "iopub.status.busy": "2023-06-09T01:26:27.747282Z",
     "iopub.status.idle": "2023-06-09T01:26:27.766262Z",
     "shell.execute_reply": "2023-06-09T01:26:27.764883Z"
    },
    "papermill": {
     "duration": 0.035832,
     "end_time": "2023-06-09T01:26:27.769293",
     "exception": false,
     "start_time": "2023-06-09T01:26:27.733461",
     "status": "completed"
    },
    "tags": []
   },
   "outputs": [],
   "source": [
    "pd.set_option('display.max_columns', None) # Mostrar todas las columnas del DataFrame"
   ]
  },
  {
   "cell_type": "code",
   "execution_count": 3,
   "id": "9e818d44",
   "metadata": {
    "execution": {
     "iopub.execute_input": "2023-06-09T01:26:27.790640Z",
     "iopub.status.busy": "2023-06-09T01:26:27.789547Z",
     "iopub.status.idle": "2023-06-09T01:26:27.817291Z",
     "shell.execute_reply": "2023-06-09T01:26:27.815294Z"
    },
    "papermill": {
     "duration": 0.039494,
     "end_time": "2023-06-09T01:26:27.819341",
     "exception": false,
     "start_time": "2023-06-09T01:26:27.779847",
     "status": "completed"
    },
    "tags": []
   },
   "outputs": [],
   "source": [
    "PATH = os.getcwd()\n",
    "TEST_FOLDER = 'test-result'\n",
    "MW_FOLDER = 'mann-whitney'"
   ]
  },
  {
   "attachments": {},
   "cell_type": "markdown",
   "id": "d5d54cf5",
   "metadata": {
    "papermill": {
     "duration": 0.011872,
     "end_time": "2023-06-09T01:26:27.846915",
     "exception": false,
     "start_time": "2023-06-09T01:26:27.835043",
     "status": "completed"
    },
    "tags": []
   },
   "source": [
    "## Mann-Whitney Test"
   ]
  },
  {
   "cell_type": "code",
   "execution_count": 4,
   "id": "3d757e11",
   "metadata": {
    "execution": {
     "iopub.execute_input": "2023-06-09T01:26:27.869322Z",
     "iopub.status.busy": "2023-06-09T01:26:27.868246Z",
     "iopub.status.idle": "2023-06-09T01:26:28.654592Z",
     "shell.execute_reply": "2023-06-09T01:26:28.650206Z"
    },
    "papermill": {
     "duration": 0.800843,
     "end_time": "2023-06-09T01:26:28.658710",
     "exception": false,
     "start_time": "2023-06-09T01:26:27.857867",
     "status": "completed"
    },
    "tags": []
   },
   "outputs": [],
   "source": [
    "order = pd.read_excel('order_filename.ods')"
   ]
  },
  {
   "cell_type": "code",
   "execution_count": 5,
   "id": "4f89e563",
   "metadata": {
    "execution": {
     "iopub.execute_input": "2023-06-09T01:26:28.736176Z",
     "iopub.status.busy": "2023-06-09T01:26:28.732891Z",
     "iopub.status.idle": "2023-06-09T01:26:28.855807Z",
     "shell.execute_reply": "2023-06-09T01:26:28.854545Z"
    },
    "papermill": {
     "duration": 0.167453,
     "end_time": "2023-06-09T01:26:28.859063",
     "exception": false,
     "start_time": "2023-06-09T01:26:28.691610",
     "status": "completed"
    },
    "tags": []
   },
   "outputs": [],
   "source": [
    "obj_params = pd.read_excel('voces_test_rms.ods')"
   ]
  },
  {
   "cell_type": "code",
   "execution_count": 6,
   "id": "a3cb7332",
   "metadata": {
    "execution": {
     "iopub.execute_input": "2023-06-09T01:26:28.890199Z",
     "iopub.status.busy": "2023-06-09T01:26:28.889653Z",
     "iopub.status.idle": "2023-06-09T01:26:28.910378Z",
     "shell.execute_reply": "2023-06-09T01:26:28.909267Z"
    },
    "papermill": {
     "duration": 0.039649,
     "end_time": "2023-06-09T01:26:28.912448",
     "exception": false,
     "start_time": "2023-06-09T01:26:28.872799",
     "status": "completed"
    },
    "tags": []
   },
   "outputs": [],
   "source": [
    "df_final = pd.read_csv(r'aux_file\\data_to_mannwhitney.csv')"
   ]
  },
  {
   "cell_type": "code",
   "execution_count": 7,
   "id": "61254257",
   "metadata": {
    "execution": {
     "iopub.execute_input": "2023-06-09T01:26:28.933906Z",
     "iopub.status.busy": "2023-06-09T01:26:28.932570Z",
     "iopub.status.idle": "2023-06-09T01:26:28.974402Z",
     "shell.execute_reply": "2023-06-09T01:26:28.970308Z"
    },
    "papermill": {
     "duration": 0.057873,
     "end_time": "2023-06-09T01:26:28.979530",
     "exception": false,
     "start_time": "2023-06-09T01:26:28.921657",
     "status": "completed"
    },
    "tags": []
   },
   "outputs": [],
   "source": [
    "df_values =  pd.merge(\n",
    "    df_final,\n",
    "    order,\n",
    "    how='left',\n",
    "    on='ID'\n",
    ")"
   ]
  },
  {
   "cell_type": "code",
   "execution_count": 8,
   "id": "d2a304f1",
   "metadata": {
    "execution": {
     "iopub.execute_input": "2023-06-09T01:26:29.052084Z",
     "iopub.status.busy": "2023-06-09T01:26:29.050034Z",
     "iopub.status.idle": "2023-06-09T01:26:29.095008Z",
     "shell.execute_reply": "2023-06-09T01:26:29.091733Z"
    },
    "papermill": {
     "duration": 0.093136,
     "end_time": "2023-06-09T01:26:29.098972",
     "exception": false,
     "start_time": "2023-06-09T01:26:29.005836",
     "status": "completed"
    },
    "tags": []
   },
   "outputs": [],
   "source": [
    "df_mannwhitney =  pd.merge(\n",
    "    df_values,\n",
    "    obj_params[['file', 'genero']],\n",
    "    how='left',\n",
    "    left_on='filename',\n",
    "    right_on='file'\n",
    ").drop(columns=['filename'])"
   ]
  },
  {
   "cell_type": "code",
   "execution_count": 9,
   "id": "d2e7fc2f",
   "metadata": {
    "execution": {
     "iopub.execute_input": "2023-06-09T01:26:29.154075Z",
     "iopub.status.busy": "2023-06-09T01:26:29.152070Z",
     "iopub.status.idle": "2023-06-09T01:26:29.197218Z",
     "shell.execute_reply": "2023-06-09T01:26:29.194275Z"
    },
    "papermill": {
     "duration": 0.074349,
     "end_time": "2023-06-09T01:26:29.201212",
     "exception": false,
     "start_time": "2023-06-09T01:26:29.126863",
     "status": "completed"
    },
    "tags": []
   },
   "outputs": [
    {
     "data": {
      "text/html": [
       "<div>\n",
       "<style scoped>\n",
       "    .dataframe tbody tr th:only-of-type {\n",
       "        vertical-align: middle;\n",
       "    }\n",
       "\n",
       "    .dataframe tbody tr th {\n",
       "        vertical-align: top;\n",
       "    }\n",
       "\n",
       "    .dataframe thead th {\n",
       "        text-align: right;\n",
       "    }\n",
       "</style>\n",
       "<table border=\"1\" class=\"dataframe\">\n",
       "  <thead>\n",
       "    <tr style=\"text-align: right;\">\n",
       "      <th></th>\n",
       "      <th>Inteligibilidad</th>\n",
       "      <th>Pronunciacion</th>\n",
       "      <th>Acentuacion</th>\n",
       "      <th>Naturalidad</th>\n",
       "      <th>Cadencia</th>\n",
       "      <th>ID</th>\n",
       "      <th>file</th>\n",
       "      <th>genero</th>\n",
       "    </tr>\n",
       "  </thead>\n",
       "  <tbody>\n",
       "    <tr>\n",
       "      <th>0</th>\n",
       "      <td>5</td>\n",
       "      <td>5</td>\n",
       "      <td>5</td>\n",
       "      <td>4</td>\n",
       "      <td>5</td>\n",
       "      <td>1</td>\n",
       "      <td>alonso-naturalreader.wav</td>\n",
       "      <td>masculino</td>\n",
       "    </tr>\n",
       "    <tr>\n",
       "      <th>1</th>\n",
       "      <td>5</td>\n",
       "      <td>5</td>\n",
       "      <td>5</td>\n",
       "      <td>5</td>\n",
       "      <td>5</td>\n",
       "      <td>2</td>\n",
       "      <td>hyacinthe-lovo-v3.wav</td>\n",
       "      <td>femenino</td>\n",
       "    </tr>\n",
       "    <tr>\n",
       "      <th>2</th>\n",
       "      <td>5</td>\n",
       "      <td>4</td>\n",
       "      <td>2</td>\n",
       "      <td>2</td>\n",
       "      <td>2</td>\n",
       "      <td>3</td>\n",
       "      <td>neural2C-pitchmodified-speedmodified.wav</td>\n",
       "      <td>masculino</td>\n",
       "    </tr>\n",
       "    <tr>\n",
       "      <th>3</th>\n",
       "      <td>4</td>\n",
       "      <td>3</td>\n",
       "      <td>3</td>\n",
       "      <td>3</td>\n",
       "      <td>4</td>\n",
       "      <td>4</td>\n",
       "      <td>francisca-lovo-v2.wav</td>\n",
       "      <td>femenino</td>\n",
       "    </tr>\n",
       "    <tr>\n",
       "      <th>4</th>\n",
       "      <td>5</td>\n",
       "      <td>4</td>\n",
       "      <td>2</td>\n",
       "      <td>2</td>\n",
       "      <td>3</td>\n",
       "      <td>5</td>\n",
       "      <td>antoni-evenlabs-linguistico-v2.wav</td>\n",
       "      <td>masculino</td>\n",
       "    </tr>\n",
       "    <tr>\n",
       "      <th>...</th>\n",
       "      <td>...</td>\n",
       "      <td>...</td>\n",
       "      <td>...</td>\n",
       "      <td>...</td>\n",
       "      <td>...</td>\n",
       "      <td>...</td>\n",
       "      <td>...</td>\n",
       "      <td>...</td>\n",
       "    </tr>\n",
       "    <tr>\n",
       "      <th>795</th>\n",
       "      <td>5</td>\n",
       "      <td>5</td>\n",
       "      <td>4</td>\n",
       "      <td>3</td>\n",
       "      <td>4</td>\n",
       "      <td>16</td>\n",
       "      <td>neural2A-GCP.wav</td>\n",
       "      <td>femenino</td>\n",
       "    </tr>\n",
       "    <tr>\n",
       "      <th>796</th>\n",
       "      <td>5</td>\n",
       "      <td>4</td>\n",
       "      <td>4</td>\n",
       "      <td>1</td>\n",
       "      <td>3</td>\n",
       "      <td>17</td>\n",
       "      <td>antoni-evenlabs-v3.wav</td>\n",
       "      <td>masculino</td>\n",
       "    </tr>\n",
       "    <tr>\n",
       "      <th>797</th>\n",
       "      <td>5</td>\n",
       "      <td>5</td>\n",
       "      <td>5</td>\n",
       "      <td>2</td>\n",
       "      <td>2</td>\n",
       "      <td>18</td>\n",
       "      <td>elvira-lovo-pitchmodified.wav</td>\n",
       "      <td>femenino</td>\n",
       "    </tr>\n",
       "    <tr>\n",
       "      <th>798</th>\n",
       "      <td>5</td>\n",
       "      <td>5</td>\n",
       "      <td>5</td>\n",
       "      <td>2</td>\n",
       "      <td>4</td>\n",
       "      <td>19</td>\n",
       "      <td>neural2B-GCP.wav</td>\n",
       "      <td>masculino</td>\n",
       "    </tr>\n",
       "    <tr>\n",
       "      <th>799</th>\n",
       "      <td>5</td>\n",
       "      <td>5</td>\n",
       "      <td>4</td>\n",
       "      <td>3</td>\n",
       "      <td>4</td>\n",
       "      <td>20</td>\n",
       "      <td>lia-lovo-pitchmodified.wav</td>\n",
       "      <td>femenino</td>\n",
       "    </tr>\n",
       "  </tbody>\n",
       "</table>\n",
       "<p>800 rows × 8 columns</p>\n",
       "</div>"
      ],
      "text/plain": [
       "     Inteligibilidad  Pronunciacion  Acentuacion  Naturalidad  Cadencia  ID   \n",
       "0                  5              5            5            4         5   1  \\\n",
       "1                  5              5            5            5         5   2   \n",
       "2                  5              4            2            2         2   3   \n",
       "3                  4              3            3            3         4   4   \n",
       "4                  5              4            2            2         3   5   \n",
       "..               ...            ...          ...          ...       ...  ..   \n",
       "795                5              5            4            3         4  16   \n",
       "796                5              4            4            1         3  17   \n",
       "797                5              5            5            2         2  18   \n",
       "798                5              5            5            2         4  19   \n",
       "799                5              5            4            3         4  20   \n",
       "\n",
       "                                         file     genero  \n",
       "0                    alonso-naturalreader.wav  masculino  \n",
       "1                       hyacinthe-lovo-v3.wav   femenino  \n",
       "2    neural2C-pitchmodified-speedmodified.wav  masculino  \n",
       "3                       francisca-lovo-v2.wav   femenino  \n",
       "4          antoni-evenlabs-linguistico-v2.wav  masculino  \n",
       "..                                        ...        ...  \n",
       "795                          neural2A-GCP.wav   femenino  \n",
       "796                    antoni-evenlabs-v3.wav  masculino  \n",
       "797             elvira-lovo-pitchmodified.wav   femenino  \n",
       "798                          neural2B-GCP.wav  masculino  \n",
       "799                lia-lovo-pitchmodified.wav   femenino  \n",
       "\n",
       "[800 rows x 8 columns]"
      ]
     },
     "execution_count": 9,
     "metadata": {},
     "output_type": "execute_result"
    }
   ],
   "source": [
    "df_mannwhitney"
   ]
  },
  {
   "attachments": {},
   "cell_type": "markdown",
   "id": "5db9c08e",
   "metadata": {
    "papermill": {
     "duration": 0.015775,
     "end_time": "2023-06-09T01:26:29.232808",
     "exception": false,
     "start_time": "2023-06-09T01:26:29.217033",
     "status": "completed"
    },
    "tags": []
   },
   "source": [
    "### Inteligibilidad"
   ]
  },
  {
   "cell_type": "code",
   "execution_count": 10,
   "id": "73208d4d",
   "metadata": {
    "execution": {
     "iopub.execute_input": "2023-06-09T01:26:29.264516Z",
     "iopub.status.busy": "2023-06-09T01:26:29.264161Z",
     "iopub.status.idle": "2023-06-09T01:26:29.282937Z",
     "shell.execute_reply": "2023-06-09T01:26:29.281523Z"
    },
    "papermill": {
     "duration": 0.035655,
     "end_time": "2023-06-09T01:26:29.286110",
     "exception": false,
     "start_time": "2023-06-09T01:26:29.250455",
     "status": "completed"
    },
    "tags": []
   },
   "outputs": [],
   "source": [
    "mask_masculina = df_mannwhitney.genero == 'masculino'\n",
    "inteligibilidad_masculina = df_mannwhitney.loc[mask_masculina, ['Inteligibilidad']].values.flatten()"
   ]
  },
  {
   "cell_type": "code",
   "execution_count": 11,
   "id": "2cb60363",
   "metadata": {
    "execution": {
     "iopub.execute_input": "2023-06-09T01:26:29.309084Z",
     "iopub.status.busy": "2023-06-09T01:26:29.307058Z",
     "iopub.status.idle": "2023-06-09T01:26:29.324016Z",
     "shell.execute_reply": "2023-06-09T01:26:29.322974Z"
    },
    "papermill": {
     "duration": 0.031645,
     "end_time": "2023-06-09T01:26:29.327284",
     "exception": false,
     "start_time": "2023-06-09T01:26:29.295639",
     "status": "completed"
    },
    "tags": []
   },
   "outputs": [],
   "source": [
    "mask_femenina = df_mannwhitney.genero == 'femenino'\n",
    "inteligibilidad_femenina = df_mannwhitney.loc[mask_femenina, ['Inteligibilidad']].values.flatten()"
   ]
  },
  {
   "cell_type": "code",
   "execution_count": 12,
   "id": "a87f1481",
   "metadata": {
    "execution": {
     "iopub.execute_input": "2023-06-09T01:26:29.353355Z",
     "iopub.status.busy": "2023-06-09T01:26:29.351950Z",
     "iopub.status.idle": "2023-06-09T01:26:29.451685Z",
     "shell.execute_reply": "2023-06-09T01:26:29.447270Z"
    },
    "papermill": {
     "duration": 0.119316,
     "end_time": "2023-06-09T01:26:29.455476",
     "exception": false,
     "start_time": "2023-06-09T01:26:29.336160",
     "status": "completed"
    },
    "tags": []
   },
   "outputs": [],
   "source": [
    "# Realizar el test de Mann-Whitney U\n",
    "inteligibilidad_estadistico, inteligibilidad_valor_p = mannwhitneyu(inteligibilidad_masculina, inteligibilidad_femenina)"
   ]
  },
  {
   "cell_type": "code",
   "execution_count": 13,
   "id": "be56136a",
   "metadata": {
    "execution": {
     "iopub.execute_input": "2023-06-09T01:26:29.529555Z",
     "iopub.status.busy": "2023-06-09T01:26:29.527731Z",
     "iopub.status.idle": "2023-06-09T01:26:29.569464Z",
     "shell.execute_reply": "2023-06-09T01:26:29.566121Z"
    },
    "papermill": {
     "duration": 0.09023,
     "end_time": "2023-06-09T01:26:29.571862",
     "exception": false,
     "start_time": "2023-06-09T01:26:29.481632",
     "status": "completed"
    },
    "tags": []
   },
   "outputs": [
    {
     "name": "stdout",
     "output_type": "stream",
     "text": [
      "El genero no es factor de influencia para la inteligibilidad p_value: 0.12963062219716953\n"
     ]
    }
   ],
   "source": [
    "if inteligibilidad_valor_p <= 0.05:\n",
    "    print('El genero es factor de influencia para la inteligibilidad', 'p_value:', inteligibilidad_valor_p)\n",
    "else:\n",
    "    print('El genero no es factor de influencia para la inteligibilidad', 'p_value:', inteligibilidad_valor_p)"
   ]
  },
  {
   "attachments": {},
   "cell_type": "markdown",
   "id": "714956e7",
   "metadata": {
    "papermill": {
     "duration": 0.021997,
     "end_time": "2023-06-09T01:26:29.622910",
     "exception": false,
     "start_time": "2023-06-09T01:26:29.600913",
     "status": "completed"
    },
    "tags": []
   },
   "source": [
    "### Pronunciación"
   ]
  },
  {
   "cell_type": "code",
   "execution_count": 14,
   "id": "92ae3c44",
   "metadata": {
    "execution": {
     "iopub.execute_input": "2023-06-09T01:26:29.657868Z",
     "iopub.status.busy": "2023-06-09T01:26:29.656572Z",
     "iopub.status.idle": "2023-06-09T01:26:29.667261Z",
     "shell.execute_reply": "2023-06-09T01:26:29.664796Z"
    },
    "papermill": {
     "duration": 0.032227,
     "end_time": "2023-06-09T01:26:29.670293",
     "exception": false,
     "start_time": "2023-06-09T01:26:29.638066",
     "status": "completed"
    },
    "tags": []
   },
   "outputs": [],
   "source": [
    "mask_masculina = df_mannwhitney.genero == 'masculino'\n",
    "pronunciacion_masculina = df_mannwhitney.loc[mask_masculina, ['Pronunciacion']].values.flatten()"
   ]
  },
  {
   "cell_type": "code",
   "execution_count": 15,
   "id": "61813b3f",
   "metadata": {
    "execution": {
     "iopub.execute_input": "2023-06-09T01:26:29.692475Z",
     "iopub.status.busy": "2023-06-09T01:26:29.691067Z",
     "iopub.status.idle": "2023-06-09T01:26:29.707709Z",
     "shell.execute_reply": "2023-06-09T01:26:29.706315Z"
    },
    "papermill": {
     "duration": 0.031332,
     "end_time": "2023-06-09T01:26:29.710885",
     "exception": false,
     "start_time": "2023-06-09T01:26:29.679553",
     "status": "completed"
    },
    "tags": []
   },
   "outputs": [],
   "source": [
    "mask_femenina = df_mannwhitney.genero == 'femenino'\n",
    "pronunciacion_femenina = df_mannwhitney.loc[mask_femenina, ['Pronunciacion']].values.flatten()"
   ]
  },
  {
   "cell_type": "code",
   "execution_count": 16,
   "id": "567229dc",
   "metadata": {
    "execution": {
     "iopub.execute_input": "2023-06-09T01:26:29.731770Z",
     "iopub.status.busy": "2023-06-09T01:26:29.730771Z",
     "iopub.status.idle": "2023-06-09T01:26:29.756680Z",
     "shell.execute_reply": "2023-06-09T01:26:29.755551Z"
    },
    "papermill": {
     "duration": 0.039471,
     "end_time": "2023-06-09T01:26:29.759681",
     "exception": false,
     "start_time": "2023-06-09T01:26:29.720210",
     "status": "completed"
    },
    "tags": []
   },
   "outputs": [],
   "source": [
    "# Realizar el test de Mann-Whitney U\n",
    "pronunciacion_estadistico, pronunciacion_valor_p = mannwhitneyu(pronunciacion_masculina, pronunciacion_femenina)"
   ]
  },
  {
   "cell_type": "code",
   "execution_count": 17,
   "id": "fca37a88",
   "metadata": {
    "execution": {
     "iopub.execute_input": "2023-06-09T01:26:29.819811Z",
     "iopub.status.busy": "2023-06-09T01:26:29.816988Z",
     "iopub.status.idle": "2023-06-09T01:26:29.843679Z",
     "shell.execute_reply": "2023-06-09T01:26:29.840713Z"
    },
    "papermill": {
     "duration": 0.06766,
     "end_time": "2023-06-09T01:26:29.849043",
     "exception": false,
     "start_time": "2023-06-09T01:26:29.781383",
     "status": "completed"
    },
    "tags": []
   },
   "outputs": [
    {
     "name": "stdout",
     "output_type": "stream",
     "text": [
      "El genero es factor de influencia para la pronunciación p_value: 0.037513325130613624\n"
     ]
    }
   ],
   "source": [
    "if pronunciacion_valor_p <= 0.05:\n",
    "    print('El genero es factor de influencia para la pronunciación', 'p_value:', pronunciacion_valor_p)\n",
    "else:\n",
    "    print('El genero no es factor de influencia para la pronunciación', 'p_value:', pronunciacion_valor_p)"
   ]
  },
  {
   "attachments": {},
   "cell_type": "markdown",
   "id": "4aa04ea3",
   "metadata": {
    "papermill": {
     "duration": 0.020651,
     "end_time": "2023-06-09T01:26:29.890076",
     "exception": false,
     "start_time": "2023-06-09T01:26:29.869425",
     "status": "completed"
    },
    "tags": []
   },
   "source": [
    "### Acentuación"
   ]
  },
  {
   "cell_type": "code",
   "execution_count": 18,
   "id": "c487631b",
   "metadata": {
    "execution": {
     "iopub.execute_input": "2023-06-09T01:26:29.934217Z",
     "iopub.status.busy": "2023-06-09T01:26:29.933217Z",
     "iopub.status.idle": "2023-06-09T01:26:29.950471Z",
     "shell.execute_reply": "2023-06-09T01:26:29.948210Z"
    },
    "papermill": {
     "duration": 0.040328,
     "end_time": "2023-06-09T01:26:29.953501",
     "exception": false,
     "start_time": "2023-06-09T01:26:29.913173",
     "status": "completed"
    },
    "tags": []
   },
   "outputs": [],
   "source": [
    "mask_masculina = df_mannwhitney.genero == 'masculino'\n",
    "acentuacion_masculina = df_mannwhitney.loc[mask_masculina, ['Acentuacion']].values.flatten()"
   ]
  },
  {
   "cell_type": "code",
   "execution_count": 19,
   "id": "8aa5ec8f",
   "metadata": {
    "execution": {
     "iopub.execute_input": "2023-06-09T01:26:29.982229Z",
     "iopub.status.busy": "2023-06-09T01:26:29.981230Z",
     "iopub.status.idle": "2023-06-09T01:26:30.007033Z",
     "shell.execute_reply": "2023-06-09T01:26:30.005568Z"
    },
    "papermill": {
     "duration": 0.044541,
     "end_time": "2023-06-09T01:26:30.010617",
     "exception": false,
     "start_time": "2023-06-09T01:26:29.966076",
     "status": "completed"
    },
    "tags": []
   },
   "outputs": [],
   "source": [
    "mask_femenina = df_mannwhitney.genero == 'femenino'\n",
    "acentuacion_femenina = df_mannwhitney.loc[mask_femenina, ['Acentuacion']].values.flatten()"
   ]
  },
  {
   "cell_type": "code",
   "execution_count": 20,
   "id": "76106ccf",
   "metadata": {
    "execution": {
     "iopub.execute_input": "2023-06-09T01:26:30.048196Z",
     "iopub.status.busy": "2023-06-09T01:26:30.046972Z",
     "iopub.status.idle": "2023-06-09T01:26:30.068567Z",
     "shell.execute_reply": "2023-06-09T01:26:30.067102Z"
    },
    "papermill": {
     "duration": 0.04671,
     "end_time": "2023-06-09T01:26:30.071602",
     "exception": false,
     "start_time": "2023-06-09T01:26:30.024892",
     "status": "completed"
    },
    "tags": []
   },
   "outputs": [],
   "source": [
    "# Realizar el test de Mann-Whitney U\n",
    "acentuacion_estadistico, acentuacion_valor_p = mannwhitneyu(acentuacion_masculina, acentuacion_femenina)"
   ]
  },
  {
   "cell_type": "code",
   "execution_count": 21,
   "id": "4da74fa1",
   "metadata": {
    "execution": {
     "iopub.execute_input": "2023-06-09T01:26:30.102701Z",
     "iopub.status.busy": "2023-06-09T01:26:30.101705Z",
     "iopub.status.idle": "2023-06-09T01:26:30.125689Z",
     "shell.execute_reply": "2023-06-09T01:26:30.124326Z"
    },
    "papermill": {
     "duration": 0.042018,
     "end_time": "2023-06-09T01:26:30.128369",
     "exception": false,
     "start_time": "2023-06-09T01:26:30.086351",
     "status": "completed"
    },
    "tags": []
   },
   "outputs": [
    {
     "name": "stdout",
     "output_type": "stream",
     "text": [
      "El genero es factor de influencia para la acentuación p_value: 0.0018631840072653517\n"
     ]
    }
   ],
   "source": [
    "if acentuacion_valor_p <= 0.05:\n",
    "    print('El genero es factor de influencia para la acentuación', 'p_value:', acentuacion_valor_p)\n",
    "else:\n",
    "    print('El genero no es factor de influencia para la acentuación', 'p_value:', acentuacion_valor_p)"
   ]
  },
  {
   "attachments": {},
   "cell_type": "markdown",
   "id": "beea14d3",
   "metadata": {
    "papermill": {
     "duration": 0.01667,
     "end_time": "2023-06-09T01:26:30.155775",
     "exception": false,
     "start_time": "2023-06-09T01:26:30.139105",
     "status": "completed"
    },
    "tags": []
   },
   "source": [
    "### Naturalidad"
   ]
  },
  {
   "cell_type": "code",
   "execution_count": 22,
   "id": "849d6e70",
   "metadata": {
    "execution": {
     "iopub.execute_input": "2023-06-09T01:26:30.177994Z",
     "iopub.status.busy": "2023-06-09T01:26:30.176979Z",
     "iopub.status.idle": "2023-06-09T01:26:30.194945Z",
     "shell.execute_reply": "2023-06-09T01:26:30.193697Z"
    },
    "papermill": {
     "duration": 0.03212,
     "end_time": "2023-06-09T01:26:30.197894",
     "exception": false,
     "start_time": "2023-06-09T01:26:30.165774",
     "status": "completed"
    },
    "tags": []
   },
   "outputs": [],
   "source": [
    "mask_masculina = df_mannwhitney.genero == 'masculino'\n",
    "naturalidad_masculina = df_mannwhitney.loc[mask_masculina, ['Naturalidad']].values.flatten()"
   ]
  },
  {
   "cell_type": "code",
   "execution_count": 23,
   "id": "c22e4214",
   "metadata": {
    "execution": {
     "iopub.execute_input": "2023-06-09T01:26:30.234016Z",
     "iopub.status.busy": "2023-06-09T01:26:30.230690Z",
     "iopub.status.idle": "2023-06-09T01:26:30.266868Z",
     "shell.execute_reply": "2023-06-09T01:26:30.263335Z"
    },
    "papermill": {
     "duration": 0.062621,
     "end_time": "2023-06-09T01:26:30.270522",
     "exception": false,
     "start_time": "2023-06-09T01:26:30.207901",
     "status": "completed"
    },
    "tags": []
   },
   "outputs": [],
   "source": [
    "mask_femenina = df_mannwhitney.genero == 'femenino'\n",
    "naturalidad_femenina = df_mannwhitney.loc[mask_femenina, ['Naturalidad']].values.flatten()"
   ]
  },
  {
   "cell_type": "code",
   "execution_count": 24,
   "id": "1cab49a5",
   "metadata": {
    "execution": {
     "iopub.execute_input": "2023-06-09T01:26:30.323862Z",
     "iopub.status.busy": "2023-06-09T01:26:30.323358Z",
     "iopub.status.idle": "2023-06-09T01:26:30.345316Z",
     "shell.execute_reply": "2023-06-09T01:26:30.343165Z"
    },
    "papermill": {
     "duration": 0.051383,
     "end_time": "2023-06-09T01:26:30.349401",
     "exception": false,
     "start_time": "2023-06-09T01:26:30.298018",
     "status": "completed"
    },
    "tags": []
   },
   "outputs": [],
   "source": [
    "# Realizar el test de Mann-Whitney U\n",
    "naturalidad_estadistico, naturalidad_valor_p = mannwhitneyu(naturalidad_masculina, naturalidad_femenina)"
   ]
  },
  {
   "cell_type": "code",
   "execution_count": 25,
   "id": "be597de7",
   "metadata": {
    "execution": {
     "iopub.execute_input": "2023-06-09T01:26:30.394073Z",
     "iopub.status.busy": "2023-06-09T01:26:30.392447Z",
     "iopub.status.idle": "2023-06-09T01:26:30.418364Z",
     "shell.execute_reply": "2023-06-09T01:26:30.416338Z"
    },
    "papermill": {
     "duration": 0.05786,
     "end_time": "2023-06-09T01:26:30.421577",
     "exception": false,
     "start_time": "2023-06-09T01:26:30.363717",
     "status": "completed"
    },
    "tags": []
   },
   "outputs": [
    {
     "name": "stdout",
     "output_type": "stream",
     "text": [
      "El genero es factor de influencia para la naturalidad p_value: 0.00020305097947062839\n"
     ]
    }
   ],
   "source": [
    "if naturalidad_valor_p <= 0.05:\n",
    "    print('El genero es factor de influencia para la naturalidad', 'p_value:', naturalidad_valor_p)\n",
    "else:\n",
    "    print('El genero no es factor de influencia para la naturalidad', 'p_value:', naturalidad_valor_p)"
   ]
  },
  {
   "attachments": {},
   "cell_type": "markdown",
   "id": "7185c068",
   "metadata": {
    "papermill": {
     "duration": 0.023372,
     "end_time": "2023-06-09T01:26:30.460199",
     "exception": false,
     "start_time": "2023-06-09T01:26:30.436827",
     "status": "completed"
    },
    "tags": []
   },
   "source": [
    "### Cadencia"
   ]
  },
  {
   "cell_type": "code",
   "execution_count": 26,
   "id": "e4aaf5b3",
   "metadata": {
    "execution": {
     "iopub.execute_input": "2023-06-09T01:26:30.497272Z",
     "iopub.status.busy": "2023-06-09T01:26:30.496303Z",
     "iopub.status.idle": "2023-06-09T01:26:30.524176Z",
     "shell.execute_reply": "2023-06-09T01:26:30.522881Z"
    },
    "papermill": {
     "duration": 0.049705,
     "end_time": "2023-06-09T01:26:30.526715",
     "exception": false,
     "start_time": "2023-06-09T01:26:30.477010",
     "status": "completed"
    },
    "tags": []
   },
   "outputs": [],
   "source": [
    "mask_masculina = df_mannwhitney.genero == 'masculino'\n",
    "cadencia_masculina = df_mannwhitney.loc[mask_masculina, ['Cadencia']].values.flatten()"
   ]
  },
  {
   "cell_type": "code",
   "execution_count": 27,
   "id": "4b544469",
   "metadata": {
    "execution": {
     "iopub.execute_input": "2023-06-09T01:26:30.570046Z",
     "iopub.status.busy": "2023-06-09T01:26:30.568827Z",
     "iopub.status.idle": "2023-06-09T01:26:30.583045Z",
     "shell.execute_reply": "2023-06-09T01:26:30.581681Z"
    },
    "papermill": {
     "duration": 0.043018,
     "end_time": "2023-06-09T01:26:30.586078",
     "exception": false,
     "start_time": "2023-06-09T01:26:30.543060",
     "status": "completed"
    },
    "tags": []
   },
   "outputs": [],
   "source": [
    "mask_femenina = df_mannwhitney.genero == 'femenino'\n",
    "cadencia_femenina = df_mannwhitney.loc[mask_femenina, ['Cadencia']].values.flatten()"
   ]
  },
  {
   "cell_type": "code",
   "execution_count": 28,
   "id": "f5cf0a10",
   "metadata": {
    "execution": {
     "iopub.execute_input": "2023-06-09T01:26:30.610115Z",
     "iopub.status.busy": "2023-06-09T01:26:30.609723Z",
     "iopub.status.idle": "2023-06-09T01:26:30.634835Z",
     "shell.execute_reply": "2023-06-09T01:26:30.632829Z"
    },
    "papermill": {
     "duration": 0.041364,
     "end_time": "2023-06-09T01:26:30.637827",
     "exception": false,
     "start_time": "2023-06-09T01:26:30.596463",
     "status": "completed"
    },
    "tags": []
   },
   "outputs": [],
   "source": [
    "# Realizar el test de Mann-Whitney U\n",
    "cadencia_estadistico, cadencia_valor_p = mannwhitneyu(cadencia_masculina, cadencia_femenina)"
   ]
  },
  {
   "cell_type": "code",
   "execution_count": 29,
   "id": "a34716d6",
   "metadata": {
    "execution": {
     "iopub.execute_input": "2023-06-09T01:26:30.664742Z",
     "iopub.status.busy": "2023-06-09T01:26:30.663628Z",
     "iopub.status.idle": "2023-06-09T01:26:30.682900Z",
     "shell.execute_reply": "2023-06-09T01:26:30.680348Z"
    },
    "papermill": {
     "duration": 0.035828,
     "end_time": "2023-06-09T01:26:30.684097",
     "exception": false,
     "start_time": "2023-06-09T01:26:30.648269",
     "status": "completed"
    },
    "tags": []
   },
   "outputs": [
    {
     "name": "stdout",
     "output_type": "stream",
     "text": [
      "El genero es factor de influencia para la cadencia p_value: 8.79190661398857e-06\n"
     ]
    }
   ],
   "source": [
    "if cadencia_valor_p <= 0.05:\n",
    "    print('El genero es factor de influencia para la cadencia', 'p_value:', cadencia_valor_p)\n",
    "else:\n",
    "    print('El genero no es factor de influencia para la cadencia', 'p_value:', cadencia_valor_p)"
   ]
  },
  {
   "attachments": {},
   "cell_type": "markdown",
   "id": "85edb1ca",
   "metadata": {
    "papermill": {
     "duration": 0.009993,
     "end_time": "2023-06-09T01:26:30.705078",
     "exception": false,
     "start_time": "2023-06-09T01:26:30.695085",
     "status": "completed"
    },
    "tags": []
   },
   "source": [
    "### Output Mann-Whitney Test"
   ]
  },
  {
   "cell_type": "code",
   "execution_count": 30,
   "id": "8bf851c4",
   "metadata": {
    "execution": {
     "iopub.execute_input": "2023-06-09T01:26:30.725629Z",
     "iopub.status.busy": "2023-06-09T01:26:30.724626Z",
     "iopub.status.idle": "2023-06-09T01:26:30.749157Z",
     "shell.execute_reply": "2023-06-09T01:26:30.747316Z"
    },
    "papermill": {
     "duration": 0.03799,
     "end_time": "2023-06-09T01:26:30.752163",
     "exception": false,
     "start_time": "2023-06-09T01:26:30.714173",
     "status": "completed"
    },
    "tags": []
   },
   "outputs": [],
   "source": [
    "dicc_manwhitney = {\n",
    "    'Parametro_subjetivo': [\n",
    "        'inteligibilidad',\n",
    "        'pronunciación',\n",
    "        'acentuación',\n",
    "        'naturalidad',\n",
    "        'cadencia'\n",
    "    ],\n",
    "    'p_valor':[\n",
    "        inteligibilidad_valor_p,\n",
    "        pronunciacion_valor_p,\n",
    "        acentuacion_valor_p,\n",
    "        naturalidad_valor_p,\n",
    "        cadencia_valor_p\n",
    "    ]\n",
    "}\n",
    "\n",
    "df_output_mannwhitney = pd.DataFrame(dicc_manwhitney)"
   ]
  },
  {
   "cell_type": "code",
   "execution_count": 31,
   "id": "4efcc130",
   "metadata": {
    "execution": {
     "iopub.execute_input": "2023-06-09T01:26:30.777080Z",
     "iopub.status.busy": "2023-06-09T01:26:30.775666Z",
     "iopub.status.idle": "2023-06-09T01:26:30.800931Z",
     "shell.execute_reply": "2023-06-09T01:26:30.798259Z"
    },
    "papermill": {
     "duration": 0.041103,
     "end_time": "2023-06-09T01:26:30.803962",
     "exception": false,
     "start_time": "2023-06-09T01:26:30.762859",
     "status": "completed"
    },
    "tags": []
   },
   "outputs": [],
   "source": [
    "df_output_mannwhitney['Manwhitney'] = df_output_mannwhitney.apply(\n",
    "    lambda x: 'Hay evidencia para afirmar que el genero es factor de influencia' if x.p_valor <= 0.05\n",
    "        else 'No hay evidencia para afirmar que el genero es factor de influencia',\n",
    "    axis=1\n",
    ")"
   ]
  },
  {
   "cell_type": "code",
   "execution_count": 32,
   "id": "c2722cb1",
   "metadata": {
    "execution": {
     "iopub.execute_input": "2023-06-09T01:26:30.843537Z",
     "iopub.status.busy": "2023-06-09T01:26:30.842099Z",
     "iopub.status.idle": "2023-06-09T01:26:30.867769Z",
     "shell.execute_reply": "2023-06-09T01:26:30.865018Z"
    },
    "papermill": {
     "duration": 0.053529,
     "end_time": "2023-06-09T01:26:30.870473",
     "exception": false,
     "start_time": "2023-06-09T01:26:30.816944",
     "status": "completed"
    },
    "tags": []
   },
   "outputs": [
    {
     "data": {
      "text/html": [
       "<div>\n",
       "<style scoped>\n",
       "    .dataframe tbody tr th:only-of-type {\n",
       "        vertical-align: middle;\n",
       "    }\n",
       "\n",
       "    .dataframe tbody tr th {\n",
       "        vertical-align: top;\n",
       "    }\n",
       "\n",
       "    .dataframe thead th {\n",
       "        text-align: right;\n",
       "    }\n",
       "</style>\n",
       "<table border=\"1\" class=\"dataframe\">\n",
       "  <thead>\n",
       "    <tr style=\"text-align: right;\">\n",
       "      <th></th>\n",
       "      <th>Parametro_subjetivo</th>\n",
       "      <th>p_valor</th>\n",
       "      <th>Manwhitney</th>\n",
       "    </tr>\n",
       "  </thead>\n",
       "  <tbody>\n",
       "    <tr>\n",
       "      <th>0</th>\n",
       "      <td>inteligibilidad</td>\n",
       "      <td>0.129631</td>\n",
       "      <td>No hay evidencia para afirmar que el genero es...</td>\n",
       "    </tr>\n",
       "    <tr>\n",
       "      <th>1</th>\n",
       "      <td>pronunciación</td>\n",
       "      <td>0.037513</td>\n",
       "      <td>Hay evidencia para afirmar que el genero es fa...</td>\n",
       "    </tr>\n",
       "    <tr>\n",
       "      <th>2</th>\n",
       "      <td>acentuación</td>\n",
       "      <td>0.001863</td>\n",
       "      <td>Hay evidencia para afirmar que el genero es fa...</td>\n",
       "    </tr>\n",
       "    <tr>\n",
       "      <th>3</th>\n",
       "      <td>naturalidad</td>\n",
       "      <td>0.000203</td>\n",
       "      <td>Hay evidencia para afirmar que el genero es fa...</td>\n",
       "    </tr>\n",
       "    <tr>\n",
       "      <th>4</th>\n",
       "      <td>cadencia</td>\n",
       "      <td>0.000009</td>\n",
       "      <td>Hay evidencia para afirmar que el genero es fa...</td>\n",
       "    </tr>\n",
       "  </tbody>\n",
       "</table>\n",
       "</div>"
      ],
      "text/plain": [
       "  Parametro_subjetivo   p_valor   \n",
       "0     inteligibilidad  0.129631  \\\n",
       "1       pronunciación  0.037513   \n",
       "2         acentuación  0.001863   \n",
       "3         naturalidad  0.000203   \n",
       "4            cadencia  0.000009   \n",
       "\n",
       "                                          Manwhitney  \n",
       "0  No hay evidencia para afirmar que el genero es...  \n",
       "1  Hay evidencia para afirmar que el genero es fa...  \n",
       "2  Hay evidencia para afirmar que el genero es fa...  \n",
       "3  Hay evidencia para afirmar que el genero es fa...  \n",
       "4  Hay evidencia para afirmar que el genero es fa...  "
      ]
     },
     "execution_count": 32,
     "metadata": {},
     "output_type": "execute_result"
    }
   ],
   "source": [
    "df_output_mannwhitney"
   ]
  },
  {
   "cell_type": "code",
   "execution_count": 33,
   "id": "3b65ac38",
   "metadata": {
    "execution": {
     "iopub.execute_input": "2023-06-09T01:26:30.919880Z",
     "iopub.status.busy": "2023-06-09T01:26:30.918875Z",
     "iopub.status.idle": "2023-06-09T01:26:34.632104Z",
     "shell.execute_reply": "2023-06-09T01:26:34.627642Z"
    },
    "papermill": {
     "duration": 3.746091,
     "end_time": "2023-06-09T01:26:34.635828",
     "exception": false,
     "start_time": "2023-06-09T01:26:30.889737",
     "status": "completed"
    },
    "tags": []
   },
   "outputs": [],
   "source": [
    "df_output_mannwhitney.to_excel(os.path.join(PATH, TEST_FOLDER, MW_FOLDER, 'df_output_mannwhitney.xlsx'), index=False)"
   ]
  },
  {
   "cell_type": "code",
   "execution_count": 34,
   "id": "fa10fe93",
   "metadata": {
    "execution": {
     "iopub.execute_input": "2023-06-09T01:26:34.708103Z",
     "iopub.status.busy": "2023-06-09T01:26:34.705735Z",
     "iopub.status.idle": "2023-06-09T01:26:34.744665Z",
     "shell.execute_reply": "2023-06-09T01:26:34.742121Z"
    },
    "papermill": {
     "duration": 0.074399,
     "end_time": "2023-06-09T01:26:34.748287",
     "exception": false,
     "start_time": "2023-06-09T01:26:34.673888",
     "status": "completed"
    },
    "tags": []
   },
   "outputs": [],
   "source": [
    "df_values.to_csv(r'aux_file\\data_preprocess_regression.csv', index=False)"
   ]
  }
 ],
 "metadata": {
  "kernelspec": {
   "display_name": "venv",
   "language": "python",
   "name": "python3"
  },
  "language_info": {
   "codemirror_mode": {
    "name": "ipython",
    "version": 3
   },
   "file_extension": ".py",
   "mimetype": "text/x-python",
   "name": "python",
   "nbconvert_exporter": "python",
   "pygments_lexer": "ipython3",
   "version": "3.10.11"
  },
  "papermill": {
   "default_parameters": {},
   "duration": 13.653081,
   "end_time": "2023-06-09T01:26:35.346620",
   "environment_variables": {},
   "exception": null,
   "input_path": "mann_whitnet_test.ipynb",
   "output_path": "mann_whitnet_test.ipynb",
   "parameters": {},
   "start_time": "2023-06-09T01:26:21.693539",
   "version": "2.4.0"
  }
 },
 "nbformat": 4,
 "nbformat_minor": 5
}