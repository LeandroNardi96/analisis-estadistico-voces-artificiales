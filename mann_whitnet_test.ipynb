{
 "cells": [
  {
   "cell_type": "code",
   "execution_count": 1,
   "id": "951176c9",
   "metadata": {
    "execution": {
     "iopub.execute_input": "2023-06-11T01:37:05.333336Z",
     "iopub.status.busy": "2023-06-11T01:37:05.333336Z",
     "iopub.status.idle": "2023-06-11T01:37:07.598689Z",
     "shell.execute_reply": "2023-06-11T01:37:07.598689Z"
    },
    "papermill": {
     "duration": 2.280789,
     "end_time": "2023-06-11T01:37:07.598689",
     "exception": false,
     "start_time": "2023-06-11T01:37:05.317900",
     "status": "completed"
    },
    "tags": []
   },
   "outputs": [],
   "source": [
    "import pandas as pd\n",
    "import numpy as np\n",
    "from matplotlib import pyplot as plt\n",
    "from scipy.stats import mannwhitneyu\n",
    "import re\n",
    "import os\n",
    "import seaborn as sns\n",
    "from matplotlib import cm, colors"
   ]
  },
  {
   "cell_type": "code",
   "execution_count": 2,
   "id": "70706bb0",
   "metadata": {
    "execution": {
     "iopub.execute_input": "2023-06-11T01:37:07.631753Z",
     "iopub.status.busy": "2023-06-11T01:37:07.630754Z",
     "iopub.status.idle": "2023-06-11T01:37:07.645759Z",
     "shell.execute_reply": "2023-06-11T01:37:07.644786Z"
    },
    "papermill": {
     "duration": 0.034463,
     "end_time": "2023-06-11T01:37:07.648753",
     "exception": false,
     "start_time": "2023-06-11T01:37:07.614290",
     "status": "completed"
    },
    "tags": []
   },
   "outputs": [],
   "source": [
    "pd.set_option('display.max_columns', None) # Mostrar todas las columnas del DataFrame"
   ]
  },
  {
   "cell_type": "code",
   "execution_count": 3,
   "id": "9e818d44",
   "metadata": {
    "execution": {
     "iopub.execute_input": "2023-06-11T01:37:07.668759Z",
     "iopub.status.busy": "2023-06-11T01:37:07.667757Z",
     "iopub.status.idle": "2023-06-11T01:37:07.677762Z",
     "shell.execute_reply": "2023-06-11T01:37:07.676771Z"
    },
    "papermill": {
     "duration": 0.022002,
     "end_time": "2023-06-11T01:37:07.679752",
     "exception": false,
     "start_time": "2023-06-11T01:37:07.657750",
     "status": "completed"
    },
    "tags": []
   },
   "outputs": [],
   "source": [
    "PATH = os.getcwd()\n",
    "TEST_FOLDER = 'test-result'\n",
    "MW_FOLDER = 'mann-whitney'"
   ]
  },
  {
   "attachments": {},
   "cell_type": "markdown",
   "id": "d5d54cf5",
   "metadata": {
    "papermill": {
     "duration": 0.0,
     "end_time": "2023-06-11T01:37:07.687828",
     "exception": false,
     "start_time": "2023-06-11T01:37:07.687828",
     "status": "completed"
    },
    "tags": []
   },
   "source": [
    "## Mann-Whitney Test"
   ]
  },
  {
   "cell_type": "code",
   "execution_count": 4,
   "id": "3d757e11",
   "metadata": {
    "execution": {
     "iopub.execute_input": "2023-06-11T01:37:07.703460Z",
     "iopub.status.busy": "2023-06-11T01:37:07.703460Z",
     "iopub.status.idle": "2023-06-11T01:37:07.892459Z",
     "shell.execute_reply": "2023-06-11T01:37:07.890995Z"
    },
    "papermill": {
     "duration": 0.191991,
     "end_time": "2023-06-11T01:37:07.895451",
     "exception": false,
     "start_time": "2023-06-11T01:37:07.703460",
     "status": "completed"
    },
    "tags": []
   },
   "outputs": [],
   "source": [
    "order = pd.read_excel('order_filename.ods')"
   ]
  },
  {
   "cell_type": "code",
   "execution_count": 5,
   "id": "4f89e563",
   "metadata": {
    "execution": {
     "iopub.execute_input": "2023-06-11T01:37:07.919455Z",
     "iopub.status.busy": "2023-06-11T01:37:07.918458Z",
     "iopub.status.idle": "2023-06-11T01:37:07.970525Z",
     "shell.execute_reply": "2023-06-11T01:37:07.969488Z"
    },
    "papermill": {
     "duration": 0.065073,
     "end_time": "2023-06-11T01:37:07.970525",
     "exception": false,
     "start_time": "2023-06-11T01:37:07.905452",
     "status": "completed"
    },
    "tags": []
   },
   "outputs": [],
   "source": [
    "obj_params = pd.read_excel('voces_test_rms.ods')"
   ]
  },
  {
   "cell_type": "code",
   "execution_count": 6,
   "id": "a3cb7332",
   "metadata": {
    "execution": {
     "iopub.execute_input": "2023-06-11T01:37:07.986157Z",
     "iopub.status.busy": "2023-06-11T01:37:07.986157Z",
     "iopub.status.idle": "2023-06-11T01:37:08.017498Z",
     "shell.execute_reply": "2023-06-11T01:37:08.017498Z"
    },
    "papermill": {
     "duration": 0.046973,
     "end_time": "2023-06-11T01:37:08.017498",
     "exception": false,
     "start_time": "2023-06-11T01:37:07.970525",
     "status": "completed"
    },
    "tags": []
   },
   "outputs": [],
   "source": [
    "df_final = pd.read_csv(r'aux_file\\data_to_mannwhitney.csv')"
   ]
  },
  {
   "cell_type": "code",
   "execution_count": 7,
   "id": "61254257",
   "metadata": {
    "execution": {
     "iopub.execute_input": "2023-06-11T01:37:08.045432Z",
     "iopub.status.busy": "2023-06-11T01:37:08.044434Z",
     "iopub.status.idle": "2023-06-11T01:37:08.065723Z",
     "shell.execute_reply": "2023-06-11T01:37:08.063682Z"
    },
    "papermill": {
     "duration": 0.050251,
     "end_time": "2023-06-11T01:37:08.067749",
     "exception": false,
     "start_time": "2023-06-11T01:37:08.017498",
     "status": "completed"
    },
    "tags": []
   },
   "outputs": [],
   "source": [
    "df_values =  pd.merge(\n",
    "    df_final,\n",
    "    order,\n",
    "    how='left',\n",
    "    on='ID'\n",
    ")"
   ]
  },
  {
   "cell_type": "code",
   "execution_count": 8,
   "id": "d2a304f1",
   "metadata": {
    "execution": {
     "iopub.execute_input": "2023-06-11T01:37:08.086604Z",
     "iopub.status.busy": "2023-06-11T01:37:08.086604Z",
     "iopub.status.idle": "2023-06-11T01:37:08.102432Z",
     "shell.execute_reply": "2023-06-11T01:37:08.102432Z"
    },
    "papermill": {
     "duration": 0.025725,
     "end_time": "2023-06-11T01:37:08.102432",
     "exception": false,
     "start_time": "2023-06-11T01:37:08.076707",
     "status": "completed"
    },
    "tags": []
   },
   "outputs": [],
   "source": [
    "df_mannwhitney =  pd.merge(\n",
    "    df_values,\n",
    "    obj_params[['file', 'genero']],\n",
    "    how='left',\n",
    "    left_on='filename',\n",
    "    right_on='file'\n",
    ").drop(columns=['filename'])"
   ]
  },
  {
   "cell_type": "code",
   "execution_count": 9,
   "id": "d2e7fc2f",
   "metadata": {
    "execution": {
     "iopub.execute_input": "2023-06-11T01:37:08.117886Z",
     "iopub.status.busy": "2023-06-11T01:37:08.117886Z",
     "iopub.status.idle": "2023-06-11T01:37:08.149310Z",
     "shell.execute_reply": "2023-06-11T01:37:08.149310Z"
    },
    "papermill": {
     "duration": 0.046878,
     "end_time": "2023-06-11T01:37:08.149310",
     "exception": false,
     "start_time": "2023-06-11T01:37:08.102432",
     "status": "completed"
    },
    "tags": []
   },
   "outputs": [
    {
     "data": {
      "text/html": [
       "<div>\n",
       "<style scoped>\n",
       "    .dataframe tbody tr th:only-of-type {\n",
       "        vertical-align: middle;\n",
       "    }\n",
       "\n",
       "    .dataframe tbody tr th {\n",
       "        vertical-align: top;\n",
       "    }\n",
       "\n",
       "    .dataframe thead th {\n",
       "        text-align: right;\n",
       "    }\n",
       "</style>\n",
       "<table border=\"1\" class=\"dataframe\">\n",
       "  <thead>\n",
       "    <tr style=\"text-align: right;\">\n",
       "      <th></th>\n",
       "      <th>Inteligibilidad</th>\n",
       "      <th>Pronunciacion</th>\n",
       "      <th>Acentuacion</th>\n",
       "      <th>Naturalidad</th>\n",
       "      <th>Cadencia</th>\n",
       "      <th>ID</th>\n",
       "      <th>file</th>\n",
       "      <th>genero</th>\n",
       "    </tr>\n",
       "  </thead>\n",
       "  <tbody>\n",
       "    <tr>\n",
       "      <th>0</th>\n",
       "      <td>5</td>\n",
       "      <td>5</td>\n",
       "      <td>5</td>\n",
       "      <td>4</td>\n",
       "      <td>5</td>\n",
       "      <td>1</td>\n",
       "      <td>alonso-naturalreader.wav</td>\n",
       "      <td>masculino</td>\n",
       "    </tr>\n",
       "    <tr>\n",
       "      <th>1</th>\n",
       "      <td>5</td>\n",
       "      <td>5</td>\n",
       "      <td>5</td>\n",
       "      <td>5</td>\n",
       "      <td>5</td>\n",
       "      <td>2</td>\n",
       "      <td>hyacinthe-lovo-v3.wav</td>\n",
       "      <td>femenino</td>\n",
       "    </tr>\n",
       "    <tr>\n",
       "      <th>2</th>\n",
       "      <td>5</td>\n",
       "      <td>4</td>\n",
       "      <td>2</td>\n",
       "      <td>2</td>\n",
       "      <td>2</td>\n",
       "      <td>3</td>\n",
       "      <td>neural2C-pitchmodified-speedmodified.wav</td>\n",
       "      <td>masculino</td>\n",
       "    </tr>\n",
       "    <tr>\n",
       "      <th>3</th>\n",
       "      <td>4</td>\n",
       "      <td>3</td>\n",
       "      <td>3</td>\n",
       "      <td>3</td>\n",
       "      <td>4</td>\n",
       "      <td>4</td>\n",
       "      <td>francisca-lovo-v2.wav</td>\n",
       "      <td>femenino</td>\n",
       "    </tr>\n",
       "    <tr>\n",
       "      <th>4</th>\n",
       "      <td>5</td>\n",
       "      <td>4</td>\n",
       "      <td>2</td>\n",
       "      <td>2</td>\n",
       "      <td>3</td>\n",
       "      <td>5</td>\n",
       "      <td>antoni-evenlabs-linguistico-v2.wav</td>\n",
       "      <td>masculino</td>\n",
       "    </tr>\n",
       "    <tr>\n",
       "      <th>...</th>\n",
       "      <td>...</td>\n",
       "      <td>...</td>\n",
       "      <td>...</td>\n",
       "      <td>...</td>\n",
       "      <td>...</td>\n",
       "      <td>...</td>\n",
       "      <td>...</td>\n",
       "      <td>...</td>\n",
       "    </tr>\n",
       "    <tr>\n",
       "      <th>795</th>\n",
       "      <td>5</td>\n",
       "      <td>5</td>\n",
       "      <td>4</td>\n",
       "      <td>3</td>\n",
       "      <td>4</td>\n",
       "      <td>16</td>\n",
       "      <td>neural2A-GCP.wav</td>\n",
       "      <td>femenino</td>\n",
       "    </tr>\n",
       "    <tr>\n",
       "      <th>796</th>\n",
       "      <td>5</td>\n",
       "      <td>4</td>\n",
       "      <td>4</td>\n",
       "      <td>1</td>\n",
       "      <td>3</td>\n",
       "      <td>17</td>\n",
       "      <td>antoni-evenlabs-v3.wav</td>\n",
       "      <td>masculino</td>\n",
       "    </tr>\n",
       "    <tr>\n",
       "      <th>797</th>\n",
       "      <td>5</td>\n",
       "      <td>5</td>\n",
       "      <td>5</td>\n",
       "      <td>2</td>\n",
       "      <td>2</td>\n",
       "      <td>18</td>\n",
       "      <td>elvira-lovo-pitchmodified.wav</td>\n",
       "      <td>femenino</td>\n",
       "    </tr>\n",
       "    <tr>\n",
       "      <th>798</th>\n",
       "      <td>5</td>\n",
       "      <td>5</td>\n",
       "      <td>5</td>\n",
       "      <td>2</td>\n",
       "      <td>4</td>\n",
       "      <td>19</td>\n",
       "      <td>neural2B-GCP.wav</td>\n",
       "      <td>masculino</td>\n",
       "    </tr>\n",
       "    <tr>\n",
       "      <th>799</th>\n",
       "      <td>5</td>\n",
       "      <td>5</td>\n",
       "      <td>4</td>\n",
       "      <td>3</td>\n",
       "      <td>4</td>\n",
       "      <td>20</td>\n",
       "      <td>lia-lovo-pitchmodified.wav</td>\n",
       "      <td>femenino</td>\n",
       "    </tr>\n",
       "  </tbody>\n",
       "</table>\n",
       "<p>800 rows × 8 columns</p>\n",
       "</div>"
      ],
      "text/plain": [
       "     Inteligibilidad  Pronunciacion  Acentuacion  Naturalidad  Cadencia  ID   \n",
       "0                  5              5            5            4         5   1  \\\n",
       "1                  5              5            5            5         5   2   \n",
       "2                  5              4            2            2         2   3   \n",
       "3                  4              3            3            3         4   4   \n",
       "4                  5              4            2            2         3   5   \n",
       "..               ...            ...          ...          ...       ...  ..   \n",
       "795                5              5            4            3         4  16   \n",
       "796                5              4            4            1         3  17   \n",
       "797                5              5            5            2         2  18   \n",
       "798                5              5            5            2         4  19   \n",
       "799                5              5            4            3         4  20   \n",
       "\n",
       "                                         file     genero  \n",
       "0                    alonso-naturalreader.wav  masculino  \n",
       "1                       hyacinthe-lovo-v3.wav   femenino  \n",
       "2    neural2C-pitchmodified-speedmodified.wav  masculino  \n",
       "3                       francisca-lovo-v2.wav   femenino  \n",
       "4          antoni-evenlabs-linguistico-v2.wav  masculino  \n",
       "..                                        ...        ...  \n",
       "795                          neural2A-GCP.wav   femenino  \n",
       "796                    antoni-evenlabs-v3.wav  masculino  \n",
       "797             elvira-lovo-pitchmodified.wav   femenino  \n",
       "798                          neural2B-GCP.wav  masculino  \n",
       "799                lia-lovo-pitchmodified.wav   femenino  \n",
       "\n",
       "[800 rows x 8 columns]"
      ]
     },
     "execution_count": 9,
     "metadata": {},
     "output_type": "execute_result"
    }
   ],
   "source": [
    "df_mannwhitney"
   ]
  },
  {
   "attachments": {},
   "cell_type": "markdown",
   "id": "5db9c08e",
   "metadata": {
    "papermill": {
     "duration": 0.028694,
     "end_time": "2023-06-11T01:37:08.178004",
     "exception": false,
     "start_time": "2023-06-11T01:37:08.149310",
     "status": "completed"
    },
    "tags": []
   },
   "source": [
    "### Inteligibilidad"
   ]
  },
  {
   "cell_type": "code",
   "execution_count": 10,
   "id": "73208d4d",
   "metadata": {
    "execution": {
     "iopub.execute_input": "2023-06-11T01:37:08.199001Z",
     "iopub.status.busy": "2023-06-11T01:37:08.198013Z",
     "iopub.status.idle": "2023-06-11T01:37:08.219420Z",
     "shell.execute_reply": "2023-06-11T01:37:08.219420Z"
    },
    "papermill": {
     "duration": 0.033381,
     "end_time": "2023-06-11T01:37:08.219420",
     "exception": false,
     "start_time": "2023-06-11T01:37:08.186039",
     "status": "completed"
    },
    "tags": []
   },
   "outputs": [],
   "source": [
    "mask_masculina = df_mannwhitney.genero == 'masculino'\n",
    "inteligibilidad_masculina = df_mannwhitney.loc[mask_masculina, ['Inteligibilidad']].values.flatten()"
   ]
  },
  {
   "cell_type": "code",
   "execution_count": 11,
   "id": "2cb60363",
   "metadata": {
    "execution": {
     "iopub.execute_input": "2023-06-11T01:37:08.234847Z",
     "iopub.status.busy": "2023-06-11T01:37:08.234847Z",
     "iopub.status.idle": "2023-06-11T01:37:08.250567Z",
     "shell.execute_reply": "2023-06-11T01:37:08.250567Z"
    },
    "papermill": {
     "duration": 0.031147,
     "end_time": "2023-06-11T01:37:08.250567",
     "exception": false,
     "start_time": "2023-06-11T01:37:08.219420",
     "status": "completed"
    },
    "tags": []
   },
   "outputs": [],
   "source": [
    "mask_femenina = df_mannwhitney.genero == 'femenino'\n",
    "inteligibilidad_femenina = df_mannwhitney.loc[mask_femenina, ['Inteligibilidad']].values.flatten()"
   ]
  },
  {
   "cell_type": "code",
   "execution_count": 12,
   "id": "a87f1481",
   "metadata": {
    "execution": {
     "iopub.execute_input": "2023-06-11T01:37:08.280267Z",
     "iopub.status.busy": "2023-06-11T01:37:08.279260Z",
     "iopub.status.idle": "2023-06-11T01:37:08.298266Z",
     "shell.execute_reply": "2023-06-11T01:37:08.296357Z"
    },
    "papermill": {
     "duration": 0.04973,
     "end_time": "2023-06-11T01:37:08.300297",
     "exception": false,
     "start_time": "2023-06-11T01:37:08.250567",
     "status": "completed"
    },
    "tags": []
   },
   "outputs": [],
   "source": [
    "# Realizar el test de Mann-Whitney U\n",
    "inteligibilidad_estadistico, inteligibilidad_valor_p = mannwhitneyu(inteligibilidad_masculina, inteligibilidad_femenina)"
   ]
  },
  {
   "cell_type": "code",
   "execution_count": 13,
   "id": "be56136a",
   "metadata": {
    "execution": {
     "iopub.execute_input": "2023-06-11T01:37:08.320124Z",
     "iopub.status.busy": "2023-06-11T01:37:08.320124Z",
     "iopub.status.idle": "2023-06-11T01:37:08.335849Z",
     "shell.execute_reply": "2023-06-11T01:37:08.335849Z"
    },
    "papermill": {
     "duration": 0.026592,
     "end_time": "2023-06-11T01:37:08.335849",
     "exception": false,
     "start_time": "2023-06-11T01:37:08.309257",
     "status": "completed"
    },
    "tags": []
   },
   "outputs": [
    {
     "name": "stdout",
     "output_type": "stream",
     "text": [
      "El genero no es factor de influencia para la inteligibilidad p_value: 0.12963062219716953\n"
     ]
    }
   ],
   "source": [
    "if inteligibilidad_valor_p <= 0.05:\n",
    "    print('El genero es factor de influencia para la inteligibilidad', 'p_value:', inteligibilidad_valor_p)\n",
    "else:\n",
    "    print('El genero no es factor de influencia para la inteligibilidad', 'p_value:', inteligibilidad_valor_p)"
   ]
  },
  {
   "attachments": {},
   "cell_type": "markdown",
   "id": "714956e7",
   "metadata": {
    "papermill": {
     "duration": 0.015531,
     "end_time": "2023-06-11T01:37:08.351380",
     "exception": false,
     "start_time": "2023-06-11T01:37:08.335849",
     "status": "completed"
    },
    "tags": []
   },
   "source": [
    "### Pronunciación"
   ]
  },
  {
   "cell_type": "code",
   "execution_count": 14,
   "id": "92ae3c44",
   "metadata": {
    "execution": {
     "iopub.execute_input": "2023-06-11T01:37:08.382670Z",
     "iopub.status.busy": "2023-06-11T01:37:08.381673Z",
     "iopub.status.idle": "2023-06-11T01:37:08.398684Z",
     "shell.execute_reply": "2023-06-11T01:37:08.396763Z"
    },
    "papermill": {
     "duration": 0.033721,
     "end_time": "2023-06-11T01:37:08.400721",
     "exception": false,
     "start_time": "2023-06-11T01:37:08.367000",
     "status": "completed"
    },
    "tags": []
   },
   "outputs": [],
   "source": [
    "mask_masculina = df_mannwhitney.genero == 'masculino'\n",
    "pronunciacion_masculina = df_mannwhitney.loc[mask_masculina, ['Pronunciacion']].values.flatten()"
   ]
  },
  {
   "cell_type": "code",
   "execution_count": 15,
   "id": "61813b3f",
   "metadata": {
    "execution": {
     "iopub.execute_input": "2023-06-11T01:37:08.422670Z",
     "iopub.status.busy": "2023-06-11T01:37:08.421692Z",
     "iopub.status.idle": "2023-06-11T01:37:08.430255Z",
     "shell.execute_reply": "2023-06-11T01:37:08.428842Z"
    },
    "papermill": {
     "duration": 0.023603,
     "end_time": "2023-06-11T01:37:08.433305",
     "exception": false,
     "start_time": "2023-06-11T01:37:08.409702",
     "status": "completed"
    },
    "tags": []
   },
   "outputs": [],
   "source": [
    "mask_femenina = df_mannwhitney.genero == 'femenino'\n",
    "pronunciacion_femenina = df_mannwhitney.loc[mask_femenina, ['Pronunciacion']].values.flatten()"
   ]
  },
  {
   "cell_type": "code",
   "execution_count": 16,
   "id": "567229dc",
   "metadata": {
    "execution": {
     "iopub.execute_input": "2023-06-11T01:37:08.467996Z",
     "iopub.status.busy": "2023-06-11T01:37:08.467996Z",
     "iopub.status.idle": "2023-06-11T01:37:08.483816Z",
     "shell.execute_reply": "2023-06-11T01:37:08.483816Z"
    },
    "papermill": {
     "duration": 0.031245,
     "end_time": "2023-06-11T01:37:08.483816",
     "exception": false,
     "start_time": "2023-06-11T01:37:08.452571",
     "status": "completed"
    },
    "tags": []
   },
   "outputs": [],
   "source": [
    "# Realizar el test de Mann-Whitney U\n",
    "pronunciacion_estadistico, pronunciacion_valor_p = mannwhitneyu(pronunciacion_masculina, pronunciacion_femenina)"
   ]
  },
  {
   "cell_type": "code",
   "execution_count": 17,
   "id": "fca37a88",
   "metadata": {
    "execution": {
     "iopub.execute_input": "2023-06-11T01:37:08.513389Z",
     "iopub.status.busy": "2023-06-11T01:37:08.512391Z",
     "iopub.status.idle": "2023-06-11T01:37:08.532340Z",
     "shell.execute_reply": "2023-06-11T01:37:08.531013Z"
    },
    "papermill": {
     "duration": 0.051542,
     "end_time": "2023-06-11T01:37:08.535358",
     "exception": false,
     "start_time": "2023-06-11T01:37:08.483816",
     "status": "completed"
    },
    "tags": []
   },
   "outputs": [
    {
     "name": "stdout",
     "output_type": "stream",
     "text": [
      "El genero es factor de influencia para la pronunciación p_value: 0.037513325130613624\n"
     ]
    }
   ],
   "source": [
    "if pronunciacion_valor_p <= 0.05:\n",
    "    print('El genero es factor de influencia para la pronunciación', 'p_value:', pronunciacion_valor_p)\n",
    "else:\n",
    "    print('El genero no es factor de influencia para la pronunciación', 'p_value:', pronunciacion_valor_p)"
   ]
  },
  {
   "attachments": {},
   "cell_type": "markdown",
   "id": "4aa04ea3",
   "metadata": {
    "papermill": {
     "duration": 0.008932,
     "end_time": "2023-06-11T01:37:08.553286",
     "exception": false,
     "start_time": "2023-06-11T01:37:08.544354",
     "status": "completed"
    },
    "tags": []
   },
   "source": [
    "### Acentuación"
   ]
  },
  {
   "cell_type": "code",
   "execution_count": 18,
   "id": "c487631b",
   "metadata": {
    "execution": {
     "iopub.execute_input": "2023-06-11T01:37:08.568949Z",
     "iopub.status.busy": "2023-06-11T01:37:08.568949Z",
     "iopub.status.idle": "2023-06-11T01:37:08.584563Z",
     "shell.execute_reply": "2023-06-11T01:37:08.584563Z"
    },
    "papermill": {
     "duration": 0.031277,
     "end_time": "2023-06-11T01:37:08.584563",
     "exception": false,
     "start_time": "2023-06-11T01:37:08.553286",
     "status": "completed"
    },
    "tags": []
   },
   "outputs": [],
   "source": [
    "mask_masculina = df_mannwhitney.genero == 'masculino'\n",
    "acentuacion_masculina = df_mannwhitney.loc[mask_masculina, ['Acentuacion']].values.flatten()"
   ]
  },
  {
   "cell_type": "code",
   "execution_count": 19,
   "id": "8aa5ec8f",
   "metadata": {
    "execution": {
     "iopub.execute_input": "2023-06-11T01:37:08.603336Z",
     "iopub.status.busy": "2023-06-11T01:37:08.603336Z",
     "iopub.status.idle": "2023-06-11T01:37:08.621988Z",
     "shell.execute_reply": "2023-06-11T01:37:08.619144Z"
    },
    "papermill": {
     "duration": 0.041435,
     "end_time": "2023-06-11T01:37:08.625998",
     "exception": false,
     "start_time": "2023-06-11T01:37:08.584563",
     "status": "completed"
    },
    "tags": []
   },
   "outputs": [],
   "source": [
    "mask_femenina = df_mannwhitney.genero == 'femenino'\n",
    "acentuacion_femenina = df_mannwhitney.loc[mask_femenina, ['Acentuacion']].values.flatten()"
   ]
  },
  {
   "cell_type": "code",
   "execution_count": 20,
   "id": "76106ccf",
   "metadata": {
    "execution": {
     "iopub.execute_input": "2023-06-11T01:37:08.646984Z",
     "iopub.status.busy": "2023-06-11T01:37:08.645987Z",
     "iopub.status.idle": "2023-06-11T01:37:08.667984Z",
     "shell.execute_reply": "2023-06-11T01:37:08.666084Z"
    },
    "papermill": {
     "duration": 0.035999,
     "end_time": "2023-06-11T01:37:08.670983",
     "exception": false,
     "start_time": "2023-06-11T01:37:08.634984",
     "status": "completed"
    },
    "tags": []
   },
   "outputs": [],
   "source": [
    "# Realizar el test de Mann-Whitney U\n",
    "acentuacion_estadistico, acentuacion_valor_p = mannwhitneyu(acentuacion_masculina, acentuacion_femenina)"
   ]
  },
  {
   "cell_type": "code",
   "execution_count": 21,
   "id": "4da74fa1",
   "metadata": {
    "execution": {
     "iopub.execute_input": "2023-06-11T01:37:08.686701Z",
     "iopub.status.busy": "2023-06-11T01:37:08.686701Z",
     "iopub.status.idle": "2023-06-11T01:37:08.702525Z",
     "shell.execute_reply": "2023-06-11T01:37:08.702525Z"
    },
    "papermill": {
     "duration": 0.031451,
     "end_time": "2023-06-11T01:37:08.702525",
     "exception": false,
     "start_time": "2023-06-11T01:37:08.671074",
     "status": "completed"
    },
    "tags": []
   },
   "outputs": [
    {
     "name": "stdout",
     "output_type": "stream",
     "text": [
      "El genero es factor de influencia para la acentuación p_value: 0.0018631840072653517\n"
     ]
    }
   ],
   "source": [
    "if acentuacion_valor_p <= 0.05:\n",
    "    print('El genero es factor de influencia para la acentuación', 'p_value:', acentuacion_valor_p)\n",
    "else:\n",
    "    print('El genero no es factor de influencia para la acentuación', 'p_value:', acentuacion_valor_p)"
   ]
  },
  {
   "attachments": {},
   "cell_type": "markdown",
   "id": "beea14d3",
   "metadata": {
    "papermill": {
     "duration": 0.025718,
     "end_time": "2023-06-11T01:37:08.728243",
     "exception": false,
     "start_time": "2023-06-11T01:37:08.702525",
     "status": "completed"
    },
    "tags": []
   },
   "source": [
    "### Naturalidad"
   ]
  },
  {
   "cell_type": "code",
   "execution_count": 22,
   "id": "849d6e70",
   "metadata": {
    "execution": {
     "iopub.execute_input": "2023-06-11T01:37:08.750242Z",
     "iopub.status.busy": "2023-06-11T01:37:08.749240Z",
     "iopub.status.idle": "2023-06-11T01:37:08.768671Z",
     "shell.execute_reply": "2023-06-11T01:37:08.763661Z"
    },
    "papermill": {
     "duration": 0.033435,
     "end_time": "2023-06-11T01:37:08.772679",
     "exception": false,
     "start_time": "2023-06-11T01:37:08.739244",
     "status": "completed"
    },
    "tags": []
   },
   "outputs": [],
   "source": [
    "mask_masculina = df_mannwhitney.genero == 'masculino'\n",
    "naturalidad_masculina = df_mannwhitney.loc[mask_masculina, ['Naturalidad']].values.flatten()"
   ]
  },
  {
   "cell_type": "code",
   "execution_count": 23,
   "id": "c22e4214",
   "metadata": {
    "execution": {
     "iopub.execute_input": "2023-06-11T01:37:08.787780Z",
     "iopub.status.busy": "2023-06-11T01:37:08.787780Z",
     "iopub.status.idle": "2023-06-11T01:37:08.803424Z",
     "shell.execute_reply": "2023-06-11T01:37:08.803424Z"
    },
    "papermill": {
     "duration": 0.021753,
     "end_time": "2023-06-11T01:37:08.803424",
     "exception": false,
     "start_time": "2023-06-11T01:37:08.781671",
     "status": "completed"
    },
    "tags": []
   },
   "outputs": [],
   "source": [
    "mask_femenina = df_mannwhitney.genero == 'femenino'\n",
    "naturalidad_femenina = df_mannwhitney.loc[mask_femenina, ['Naturalidad']].values.flatten()"
   ]
  },
  {
   "cell_type": "code",
   "execution_count": 24,
   "id": "1cab49a5",
   "metadata": {
    "execution": {
     "iopub.execute_input": "2023-06-11T01:37:08.831684Z",
     "iopub.status.busy": "2023-06-11T01:37:08.830694Z",
     "iopub.status.idle": "2023-06-11T01:37:08.852358Z",
     "shell.execute_reply": "2023-06-11T01:37:08.850347Z"
    },
    "papermill": {
     "duration": 0.051932,
     "end_time": "2023-06-11T01:37:08.855356",
     "exception": false,
     "start_time": "2023-06-11T01:37:08.803424",
     "status": "completed"
    },
    "tags": []
   },
   "outputs": [],
   "source": [
    "# Realizar el test de Mann-Whitney U\n",
    "naturalidad_estadistico, naturalidad_valor_p = mannwhitneyu(naturalidad_masculina, naturalidad_femenina)"
   ]
  },
  {
   "cell_type": "code",
   "execution_count": 25,
   "id": "be597de7",
   "metadata": {
    "execution": {
     "iopub.execute_input": "2023-06-11T01:37:08.876360Z",
     "iopub.status.busy": "2023-06-11T01:37:08.874361Z",
     "iopub.status.idle": "2023-06-11T01:37:08.884358Z",
     "shell.execute_reply": "2023-06-11T01:37:08.882448Z"
    },
    "papermill": {
     "duration": 0.023028,
     "end_time": "2023-06-11T01:37:08.886385",
     "exception": false,
     "start_time": "2023-06-11T01:37:08.863357",
     "status": "completed"
    },
    "tags": []
   },
   "outputs": [
    {
     "name": "stdout",
     "output_type": "stream",
     "text": [
      "El genero es factor de influencia para la naturalidad p_value: 0.00020305097947062839\n"
     ]
    }
   ],
   "source": [
    "if naturalidad_valor_p <= 0.05:\n",
    "    print('El genero es factor de influencia para la naturalidad', 'p_value:', naturalidad_valor_p)\n",
    "else:\n",
    "    print('El genero no es factor de influencia para la naturalidad', 'p_value:', naturalidad_valor_p)"
   ]
  },
  {
   "attachments": {},
   "cell_type": "markdown",
   "id": "7185c068",
   "metadata": {
    "papermill": {
     "duration": 0.015627,
     "end_time": "2023-06-11T01:37:08.904107",
     "exception": false,
     "start_time": "2023-06-11T01:37:08.888480",
     "status": "completed"
    },
    "tags": []
   },
   "source": [
    "### Cadencia"
   ]
  },
  {
   "cell_type": "code",
   "execution_count": 26,
   "id": "e4aaf5b3",
   "metadata": {
    "execution": {
     "iopub.execute_input": "2023-06-11T01:37:08.930103Z",
     "iopub.status.busy": "2023-06-11T01:37:08.929102Z",
     "iopub.status.idle": "2023-06-11T01:37:08.951969Z",
     "shell.execute_reply": "2023-06-11T01:37:08.950068Z"
    },
    "papermill": {
     "duration": 0.050915,
     "end_time": "2023-06-11T01:37:08.955022",
     "exception": false,
     "start_time": "2023-06-11T01:37:08.904107",
     "status": "completed"
    },
    "tags": []
   },
   "outputs": [],
   "source": [
    "mask_masculina = df_mannwhitney.genero == 'masculino'\n",
    "cadencia_masculina = df_mannwhitney.loc[mask_masculina, ['Cadencia']].values.flatten()"
   ]
  },
  {
   "cell_type": "code",
   "execution_count": 27,
   "id": "4b544469",
   "metadata": {
    "execution": {
     "iopub.execute_input": "2023-06-11T01:37:08.970194Z",
     "iopub.status.busy": "2023-06-11T01:37:08.970194Z",
     "iopub.status.idle": "2023-06-11T01:37:08.986031Z",
     "shell.execute_reply": "2023-06-11T01:37:08.986031Z"
    },
    "papermill": {
     "duration": 0.022041,
     "end_time": "2023-06-11T01:37:08.986031",
     "exception": false,
     "start_time": "2023-06-11T01:37:08.963990",
     "status": "completed"
    },
    "tags": []
   },
   "outputs": [],
   "source": [
    "mask_femenina = df_mannwhitney.genero == 'femenino'\n",
    "cadencia_femenina = df_mannwhitney.loc[mask_femenina, ['Cadencia']].values.flatten()"
   ]
  },
  {
   "cell_type": "code",
   "execution_count": 28,
   "id": "f5cf0a10",
   "metadata": {
    "execution": {
     "iopub.execute_input": "2023-06-11T01:37:09.001482Z",
     "iopub.status.busy": "2023-06-11T01:37:09.001482Z",
     "iopub.status.idle": "2023-06-11T01:37:09.032903Z",
     "shell.execute_reply": "2023-06-11T01:37:09.032903Z"
    },
    "papermill": {
     "duration": 0.046872,
     "end_time": "2023-06-11T01:37:09.032903",
     "exception": false,
     "start_time": "2023-06-11T01:37:08.986031",
     "status": "completed"
    },
    "tags": []
   },
   "outputs": [],
   "source": [
    "# Realizar el test de Mann-Whitney U\n",
    "cadencia_estadistico, cadencia_valor_p = mannwhitneyu(cadencia_masculina, cadencia_femenina)"
   ]
  },
  {
   "cell_type": "code",
   "execution_count": 29,
   "id": "a34716d6",
   "metadata": {
    "execution": {
     "iopub.execute_input": "2023-06-11T01:37:09.063966Z",
     "iopub.status.busy": "2023-06-11T01:37:09.062965Z",
     "iopub.status.idle": "2023-06-11T01:37:09.081239Z",
     "shell.execute_reply": "2023-06-11T01:37:09.079224Z"
    },
    "papermill": {
     "duration": 0.050369,
     "end_time": "2023-06-11T01:37:09.083272",
     "exception": false,
     "start_time": "2023-06-11T01:37:09.032903",
     "status": "completed"
    },
    "tags": []
   },
   "outputs": [
    {
     "name": "stdout",
     "output_type": "stream",
     "text": [
      "El genero es factor de influencia para la cadencia p_value: 8.79190661398857e-06\n"
     ]
    }
   ],
   "source": [
    "if cadencia_valor_p <= 0.05:\n",
    "    print('El genero es factor de influencia para la cadencia', 'p_value:', cadencia_valor_p)\n",
    "else:\n",
    "    print('El genero no es factor de influencia para la cadencia', 'p_value:', cadencia_valor_p)"
   ]
  },
  {
   "attachments": {},
   "cell_type": "markdown",
   "id": "85edb1ca",
   "metadata": {
    "papermill": {
     "duration": 0.009072,
     "end_time": "2023-06-11T01:37:09.103304",
     "exception": false,
     "start_time": "2023-06-11T01:37:09.094232",
     "status": "completed"
    },
    "tags": []
   },
   "source": [
    "### Output Mann-Whitney Test"
   ]
  },
  {
   "cell_type": "code",
   "execution_count": 30,
   "id": "8bf851c4",
   "metadata": {
    "execution": {
     "iopub.execute_input": "2023-06-11T01:37:09.118966Z",
     "iopub.status.busy": "2023-06-11T01:37:09.118966Z",
     "iopub.status.idle": "2023-06-11T01:37:09.134756Z",
     "shell.execute_reply": "2023-06-11T01:37:09.134756Z"
    },
    "papermill": {
     "duration": 0.031452,
     "end_time": "2023-06-11T01:37:09.134756",
     "exception": false,
     "start_time": "2023-06-11T01:37:09.103304",
     "status": "completed"
    },
    "tags": []
   },
   "outputs": [],
   "source": [
    "dicc_manwhitney = {\n",
    "    'Parametro_subjetivo': [\n",
    "        'inteligibilidad',\n",
    "        'pronunciación',\n",
    "        'acentuación',\n",
    "        'naturalidad',\n",
    "        'cadencia'\n",
    "    ],\n",
    "    'p_valor':[\n",
    "        inteligibilidad_valor_p,\n",
    "        pronunciacion_valor_p,\n",
    "        acentuacion_valor_p,\n",
    "        naturalidad_valor_p,\n",
    "        cadencia_valor_p\n",
    "    ]\n",
    "}\n",
    "\n",
    "df_output_mannwhitney = pd.DataFrame(dicc_manwhitney)"
   ]
  },
  {
   "cell_type": "code",
   "execution_count": 31,
   "id": "4efcc130",
   "metadata": {
    "execution": {
     "iopub.execute_input": "2023-06-11T01:37:09.164696Z",
     "iopub.status.busy": "2023-06-11T01:37:09.163680Z",
     "iopub.status.idle": "2023-06-11T01:37:09.182082Z",
     "shell.execute_reply": "2023-06-11T01:37:09.180584Z"
    },
    "papermill": {
     "duration": 0.050374,
     "end_time": "2023-06-11T01:37:09.185130",
     "exception": false,
     "start_time": "2023-06-11T01:37:09.134756",
     "status": "completed"
    },
    "tags": []
   },
   "outputs": [],
   "source": [
    "df_output_mannwhitney['Manwhitney'] = df_output_mannwhitney.apply(\n",
    "    lambda x: 'Hay evidencia para afirmar que el genero es factor de influencia' if x.p_valor <= 0.05\n",
    "        else 'No hay evidencia para afirmar que el genero es factor de influencia',\n",
    "    axis=1\n",
    ")"
   ]
  },
  {
   "cell_type": "code",
   "execution_count": 32,
   "id": "c2722cb1",
   "metadata": {
    "execution": {
     "iopub.execute_input": "2023-06-11T01:37:09.206096Z",
     "iopub.status.busy": "2023-06-11T01:37:09.205095Z",
     "iopub.status.idle": "2023-06-11T01:37:09.236105Z",
     "shell.execute_reply": "2023-06-11T01:37:09.236105Z"
    },
    "papermill": {
     "duration": 0.042009,
     "end_time": "2023-06-11T01:37:09.236105",
     "exception": false,
     "start_time": "2023-06-11T01:37:09.194096",
     "status": "completed"
    },
    "tags": []
   },
   "outputs": [
    {
     "data": {
      "text/html": [
       "<div>\n",
       "<style scoped>\n",
       "    .dataframe tbody tr th:only-of-type {\n",
       "        vertical-align: middle;\n",
       "    }\n",
       "\n",
       "    .dataframe tbody tr th {\n",
       "        vertical-align: top;\n",
       "    }\n",
       "\n",
       "    .dataframe thead th {\n",
       "        text-align: right;\n",
       "    }\n",
       "</style>\n",
       "<table border=\"1\" class=\"dataframe\">\n",
       "  <thead>\n",
       "    <tr style=\"text-align: right;\">\n",
       "      <th></th>\n",
       "      <th>Parametro_subjetivo</th>\n",
       "      <th>p_valor</th>\n",
       "      <th>Manwhitney</th>\n",
       "    </tr>\n",
       "  </thead>\n",
       "  <tbody>\n",
       "    <tr>\n",
       "      <th>0</th>\n",
       "      <td>inteligibilidad</td>\n",
       "      <td>0.129631</td>\n",
       "      <td>No hay evidencia para afirmar que el genero es...</td>\n",
       "    </tr>\n",
       "    <tr>\n",
       "      <th>1</th>\n",
       "      <td>pronunciación</td>\n",
       "      <td>0.037513</td>\n",
       "      <td>Hay evidencia para afirmar que el genero es fa...</td>\n",
       "    </tr>\n",
       "    <tr>\n",
       "      <th>2</th>\n",
       "      <td>acentuación</td>\n",
       "      <td>0.001863</td>\n",
       "      <td>Hay evidencia para afirmar que el genero es fa...</td>\n",
       "    </tr>\n",
       "    <tr>\n",
       "      <th>3</th>\n",
       "      <td>naturalidad</td>\n",
       "      <td>0.000203</td>\n",
       "      <td>Hay evidencia para afirmar que el genero es fa...</td>\n",
       "    </tr>\n",
       "    <tr>\n",
       "      <th>4</th>\n",
       "      <td>cadencia</td>\n",
       "      <td>0.000009</td>\n",
       "      <td>Hay evidencia para afirmar que el genero es fa...</td>\n",
       "    </tr>\n",
       "  </tbody>\n",
       "</table>\n",
       "</div>"
      ],
      "text/plain": [
       "  Parametro_subjetivo   p_valor   \n",
       "0     inteligibilidad  0.129631  \\\n",
       "1       pronunciación  0.037513   \n",
       "2         acentuación  0.001863   \n",
       "3         naturalidad  0.000203   \n",
       "4            cadencia  0.000009   \n",
       "\n",
       "                                          Manwhitney  \n",
       "0  No hay evidencia para afirmar que el genero es...  \n",
       "1  Hay evidencia para afirmar que el genero es fa...  \n",
       "2  Hay evidencia para afirmar que el genero es fa...  \n",
       "3  Hay evidencia para afirmar que el genero es fa...  \n",
       "4  Hay evidencia para afirmar que el genero es fa...  "
      ]
     },
     "execution_count": 32,
     "metadata": {},
     "output_type": "execute_result"
    }
   ],
   "source": [
    "df_output_mannwhitney"
   ]
  },
  {
   "cell_type": "code",
   "execution_count": 33,
   "id": "3b65ac38",
   "metadata": {
    "execution": {
     "iopub.execute_input": "2023-06-11T01:37:09.251574Z",
     "iopub.status.busy": "2023-06-11T01:37:09.251574Z",
     "iopub.status.idle": "2023-06-11T01:37:11.588939Z",
     "shell.execute_reply": "2023-06-11T01:37:11.588939Z"
    },
    "papermill": {
     "duration": 2.352834,
     "end_time": "2023-06-11T01:37:11.588939",
     "exception": false,
     "start_time": "2023-06-11T01:37:09.236105",
     "status": "completed"
    },
    "tags": []
   },
   "outputs": [],
   "source": [
    "df_output_mannwhitney.to_excel(os.path.join(PATH, TEST_FOLDER, MW_FOLDER, 'df_output_mannwhitney.xlsx'), index=False)"
   ]
  },
  {
   "cell_type": "code",
   "execution_count": 34,
   "id": "fa10fe93",
   "metadata": {
    "execution": {
     "iopub.execute_input": "2023-06-11T01:37:11.633165Z",
     "iopub.status.busy": "2023-06-11T01:37:11.632162Z",
     "iopub.status.idle": "2023-06-11T01:37:11.652360Z",
     "shell.execute_reply": "2023-06-11T01:37:11.650346Z"
    },
    "papermill": {
     "duration": 0.044201,
     "end_time": "2023-06-11T01:37:11.655364",
     "exception": false,
     "start_time": "2023-06-11T01:37:11.611163",
     "status": "completed"
    },
    "tags": []
   },
   "outputs": [],
   "source": [
    "df_values.to_csv(r'aux_file\\data_preprocess_regression.csv', index=False)"
   ]
  }
 ],
 "metadata": {
  "kernelspec": {
   "display_name": "venv",
   "language": "python",
   "name": "python3"
  },
  "language_info": {
   "codemirror_mode": {
    "name": "ipython",
    "version": 3
   },
   "file_extension": ".py",
   "mimetype": "text/x-python",
   "name": "python",
   "nbconvert_exporter": "python",
   "pygments_lexer": "ipython3",
   "version": "3.10.11"
  },
  "papermill": {
   "default_parameters": {},
   "duration": 9.158689,
   "end_time": "2023-06-11T01:37:12.133502",
   "environment_variables": {},
   "exception": null,
   "input_path": "mann_whitnet_test.ipynb",
   "output_path": "mann_whitnet_test.ipynb",
   "parameters": {},
   "start_time": "2023-06-11T01:37:02.974813",
   "version": "2.4.0"
  }
 },
 "nbformat": 4,
 "nbformat_minor": 5
}