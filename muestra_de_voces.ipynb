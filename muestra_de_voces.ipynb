{
 "cells": [
  {
   "cell_type": "code",
   "execution_count": 1,
   "metadata": {},
   "outputs": [],
   "source": [
    "import librosa\n",
    "import numpy as np\n",
    "import pandas as pd\n",
    "import os\n",
    "import seaborn as sns\n",
    "import matplotlib.pyplot as plt\n",
    "from scipy.stats import pearsonr"
   ]
  },
  {
   "cell_type": "code",
   "execution_count": 2,
   "metadata": {},
   "outputs": [],
   "source": [
    "DATASET_ODS = True"
   ]
  },
  {
   "cell_type": "code",
   "execution_count": 3,
   "metadata": {},
   "outputs": [],
   "source": [
    "pd.read_excel('voces_test_rms.ods').sort_values(['zero_crossing_rate']).to_excel(r'features\\features.xlsx', index=False)"
   ]
  },
  {
   "cell_type": "code",
   "execution_count": 4,
   "metadata": {},
   "outputs": [],
   "source": [
    "if DATASET_ODS:\n",
    "    dataset_features = pd.read_excel('voces_test_rms.ods').sort_values(['zero_crossing_rate'])"
   ]
  },
  {
   "cell_type": "code",
   "execution_count": 5,
   "metadata": {},
   "outputs": [],
   "source": [
    "def extract_features(audio_path):\n",
    "    \"\"\"\n",
    "    Extrae características de un archivo de audio.\n",
    "\n",
    "    Args:\n",
    "        audio_path (str): Ruta del archivo de audio.\n",
    "\n",
    "    Returns:\n",
    "        dict: Un diccionario que contiene las características extraídas:\n",
    "            - 'zero_crossing_rate': Tasa de cruce por cero promedio.\n",
    "            - 'rms': Valor RMS promedio.\n",
    "            - 'mfcc': Coeficientes cepstrales de frecuencia promedio.\n",
    "            - 'pitch': Valor de pitch promedio.\n",
    "    \"\"\"\n",
    "    y, sr = librosa.load(audio_path, sr=None)\n",
    "    zcr = librosa.feature.zero_crossing_rate(y)\n",
    "    rms = librosa.feature.rms(y=y)\n",
    "    rms_avg = np.mean(rms)\n",
    "    rms_avg_np = np.array([rms_avg])\n",
    "    rms_db = librosa.amplitude_to_db(rms_avg_np)\n",
    "    mfcc = librosa.feature.mfcc(y=y, sr=sr)\n",
    "    f0, voiced_flag, voiced_probs = librosa.pyin(\n",
    "            y,\n",
    "            fmin=librosa.note_to_hz('C2'),\n",
    "            fmax=librosa.note_to_hz('C7')\n",
    "        )\n",
    "    pitch = f0[voiced_flag > 0]\n",
    "\n",
    "    features = {\n",
    "        'zero_crossing_rate': np.mean(zcr),\n",
    "        'rms': rms_db[0],\n",
    "        'mfcc': np.mean(mfcc, axis=1),\n",
    "        'pitch': pitch.mean()\n",
    "    }\n",
    "\n",
    "    return features, y, sr"
   ]
  },
  {
   "cell_type": "code",
   "execution_count": 6,
   "metadata": {},
   "outputs": [],
   "source": [
    "if not DATASET_ODS:\n",
    "    PATH = os.getcwd()\n",
    "    AUDIO_FOLDER = 'voces'\n",
    "    SUBFOLDERS = ['masculino', 'femenino']\n",
    "    RMS_FOLDER = 'voces_rms'\n",
    "    OUTPUT_FOLDER = 'features'\n",
    "    FEATURES_FILE = 'features.xlsx'\n",
    "    features_list = []"
   ]
  },
  {
   "cell_type": "code",
   "execution_count": 7,
   "metadata": {},
   "outputs": [],
   "source": [
    "voice = [\n",
    "    'hyacinthe-lovo-v3.wav',\n",
    "    'lola-murf.wav',\n",
    "    'neural2A-GCP.wav',\n",
    "    'veronica-lovo-v4-pitchmodified.wav',\n",
    "    'francisca-lovo-v2.wav'\n",
    "]"
   ]
  },
  {
   "cell_type": "code",
   "execution_count": 8,
   "metadata": {},
   "outputs": [],
   "source": [
    "if not DATASET_ODS:\n",
    "\n",
    "    for subfolder in SUBFOLDERS:\n",
    "        \n",
    "        # if subfolder == 'masculino':\n",
    "        #     continue\n",
    "        \n",
    "        \n",
    "        audio_folder_path = os.path.join(PATH, AUDIO_FOLDER, subfolder, RMS_FOLDER)\n",
    "        files = os.listdir(audio_folder_path)\n",
    "        \n",
    "        for file in files:\n",
    "            \n",
    "            if not file.endswith('.wav'): # or file != 'antoni-v2.wav'\n",
    "                continue\n",
    "            \n",
    "            audio_file_path = os.path.join(audio_folder_path, file)\n",
    "            features, y, sr = extract_features(audio_file_path)\n",
    "            features = {key: [value] for key, value in features.items()}\n",
    "            features.update({'genero': [subfolder]})\n",
    "            features.update({'file': [file]})\n",
    "            features_list.append(features)"
   ]
  },
  {
   "cell_type": "code",
   "execution_count": 9,
   "metadata": {},
   "outputs": [],
   "source": [
    "if not DATASET_ODS:\n",
    "    dataset_features = pd.DataFrame()\n",
    "\n",
    "    for features in features_list:\n",
    "        df_features = pd.DataFrame.from_dict(features, orient='columns')\n",
    "        dataset_features = pd.concat([dataset_features, df_features], axis=0)\n"
   ]
  },
  {
   "cell_type": "code",
   "execution_count": 10,
   "metadata": {},
   "outputs": [
    {
     "data": {
      "text/html": [
       "<div>\n",
       "<style scoped>\n",
       "    .dataframe tbody tr th:only-of-type {\n",
       "        vertical-align: middle;\n",
       "    }\n",
       "\n",
       "    .dataframe tbody tr th {\n",
       "        vertical-align: top;\n",
       "    }\n",
       "\n",
       "    .dataframe thead th {\n",
       "        text-align: right;\n",
       "    }\n",
       "</style>\n",
       "<table border=\"1\" class=\"dataframe\">\n",
       "  <thead>\n",
       "    <tr style=\"text-align: right;\">\n",
       "      <th></th>\n",
       "      <th>zero_crossing_rate</th>\n",
       "      <th>rms</th>\n",
       "      <th>mfcc</th>\n",
       "      <th>pitch</th>\n",
       "      <th>genero</th>\n",
       "      <th>file</th>\n",
       "    </tr>\n",
       "  </thead>\n",
       "  <tbody>\n",
       "    <tr>\n",
       "      <th>0</th>\n",
       "      <td>0.075944</td>\n",
       "      <td>-27.5</td>\n",
       "      <td>[-4.0729132e+02  1.3076346e+02 -3.0420111e+01 ...</td>\n",
       "      <td>111.111716</td>\n",
       "      <td>femenino</td>\n",
       "      <td>hyacinthe-lovo-v3.wav</td>\n",
       "    </tr>\n",
       "    <tr>\n",
       "      <th>1</th>\n",
       "      <td>0.093035</td>\n",
       "      <td>-27.0</td>\n",
       "      <td>[-424.61664     138.61742     -14.495688     3...</td>\n",
       "      <td>101.312090</td>\n",
       "      <td>femenino</td>\n",
       "      <td>lola-murf.wav</td>\n",
       "    </tr>\n",
       "    <tr>\n",
       "      <th>2</th>\n",
       "      <td>0.093043</td>\n",
       "      <td>-22.5</td>\n",
       "      <td>[-3.71418152e+02  1.31561859e+02 -1.60284328e+...</td>\n",
       "      <td>76.492752</td>\n",
       "      <td>masculino</td>\n",
       "      <td>neural2B-GCP.wav</td>\n",
       "    </tr>\n",
       "    <tr>\n",
       "      <th>3</th>\n",
       "      <td>0.098051</td>\n",
       "      <td>-22.0</td>\n",
       "      <td>[-3.4943588e+02  1.2940279e+02 -1.8956478e+01 ...</td>\n",
       "      <td>68.726911</td>\n",
       "      <td>masculino</td>\n",
       "      <td>alonso-naturalreader.wav</td>\n",
       "    </tr>\n",
       "    <tr>\n",
       "      <th>4</th>\n",
       "      <td>0.105458</td>\n",
       "      <td>-21.5</td>\n",
       "      <td>[-3.5115176e+02  1.1943483e+02 -1.9279911e+01 ...</td>\n",
       "      <td>69.045778</td>\n",
       "      <td>masculino</td>\n",
       "      <td>antonio-murf.wav</td>\n",
       "    </tr>\n",
       "    <tr>\n",
       "      <th>5</th>\n",
       "      <td>0.116978</td>\n",
       "      <td>-26.5</td>\n",
       "      <td>[-406.0902      126.13792     -21.46513      3...</td>\n",
       "      <td>117.898566</td>\n",
       "      <td>femenino</td>\n",
       "      <td>neural2A-GCP.wav</td>\n",
       "    </tr>\n",
       "    <tr>\n",
       "      <th>6</th>\n",
       "      <td>0.137449</td>\n",
       "      <td>-21.0</td>\n",
       "      <td>[-340.7002      132.91704     -31.981354     3...</td>\n",
       "      <td>71.771793</td>\n",
       "      <td>masculino</td>\n",
       "      <td>adam-evenlabs-pitchmodifield.wav</td>\n",
       "    </tr>\n",
       "    <tr>\n",
       "      <th>7</th>\n",
       "      <td>0.137822</td>\n",
       "      <td>-26.1</td>\n",
       "      <td>[-454.8679      72.41395    -14.8625145   45.9...</td>\n",
       "      <td>116.353345</td>\n",
       "      <td>femenino</td>\n",
       "      <td>francisca-lovo-v2.wav</td>\n",
       "    </tr>\n",
       "    <tr>\n",
       "      <th>8</th>\n",
       "      <td>0.142276</td>\n",
       "      <td>-20.5</td>\n",
       "      <td>[-3.6916684e+02  1.2000591e+02 -1.8859159e+01 ...</td>\n",
       "      <td>69.133215</td>\n",
       "      <td>masculino</td>\n",
       "      <td>lautaro-lovo-v3.wav</td>\n",
       "    </tr>\n",
       "    <tr>\n",
       "      <th>9</th>\n",
       "      <td>0.147760</td>\n",
       "      <td>-25.5</td>\n",
       "      <td>[-403.0913     113.70938    -25.405426    40.5...</td>\n",
       "      <td>100.992253</td>\n",
       "      <td>femenino</td>\n",
       "      <td>veronica-lovo-v4-pitchmodified.wav</td>\n",
       "    </tr>\n",
       "    <tr>\n",
       "      <th>10</th>\n",
       "      <td>0.172731</td>\n",
       "      <td>-23.0</td>\n",
       "      <td>[-3.6952478e+02  8.0498894e+01 -1.0428074e+01 ...</td>\n",
       "      <td>80.499580</td>\n",
       "      <td>masculino</td>\n",
       "      <td>antoni-evenlabs-v3.wav</td>\n",
       "    </tr>\n",
       "    <tr>\n",
       "      <th>11</th>\n",
       "      <td>0.173409</td>\n",
       "      <td>-28.0</td>\n",
       "      <td>[-4.5971887e+02  1.0447976e+02 -1.6792286e+01 ...</td>\n",
       "      <td>94.708117</td>\n",
       "      <td>femenino</td>\n",
       "      <td>lia-lovo-pitchmodified.wav</td>\n",
       "    </tr>\n",
       "    <tr>\n",
       "      <th>12</th>\n",
       "      <td>0.181163</td>\n",
       "      <td>-28.5</td>\n",
       "      <td>[-4.4759967e+02  9.5588432e+01 -1.9238350e+01 ...</td>\n",
       "      <td>119.577565</td>\n",
       "      <td>femenino</td>\n",
       "      <td>julieta-lovo-v2-pitchmodified.wav</td>\n",
       "    </tr>\n",
       "    <tr>\n",
       "      <th>13</th>\n",
       "      <td>0.185067</td>\n",
       "      <td>-23.5</td>\n",
       "      <td>[-402.69196    108.625534   -19.02167     38.0...</td>\n",
       "      <td>81.499212</td>\n",
       "      <td>masculino</td>\n",
       "      <td>neural2C-GCP-linguistico-speed0.78-pitchmodifi...</td>\n",
       "    </tr>\n",
       "    <tr>\n",
       "      <th>14</th>\n",
       "      <td>0.204357</td>\n",
       "      <td>-29.0</td>\n",
       "      <td>[-461.32425    101.1998     -19.272114    28.5...</td>\n",
       "      <td>117.741417</td>\n",
       "      <td>femenino</td>\n",
       "      <td>rosa-lovo-pitchmodified.wav</td>\n",
       "    </tr>\n",
       "    <tr>\n",
       "      <th>15</th>\n",
       "      <td>0.232525</td>\n",
       "      <td>-29.5</td>\n",
       "      <td>[-4.7352054e+02  9.6443787e+01 -1.4195227e+01 ...</td>\n",
       "      <td>102.269338</td>\n",
       "      <td>femenino</td>\n",
       "      <td>elvira-lovo-pitchmodified.wav</td>\n",
       "    </tr>\n",
       "    <tr>\n",
       "      <th>16</th>\n",
       "      <td>0.235632</td>\n",
       "      <td>-30.0</td>\n",
       "      <td>[-4.8260114e+02  8.7294914e+01 -1.3890450e+01 ...</td>\n",
       "      <td>101.534874</td>\n",
       "      <td>femenino</td>\n",
       "      <td>agata-lovo-pitchmodified.wav</td>\n",
       "    </tr>\n",
       "    <tr>\n",
       "      <th>17</th>\n",
       "      <td>0.239188</td>\n",
       "      <td>-24.0</td>\n",
       "      <td>[-406.19888     84.30505    -12.89493     18.8...</td>\n",
       "      <td>78.968152</td>\n",
       "      <td>masculino</td>\n",
       "      <td>antoni-evenlabs-linguistico-v2.wav</td>\n",
       "    </tr>\n",
       "    <tr>\n",
       "      <th>18</th>\n",
       "      <td>0.239843</td>\n",
       "      <td>-24.5</td>\n",
       "      <td>[-4.2446661e+02  9.1029022e+01 -1.2799178e+01 ...</td>\n",
       "      <td>86.627444</td>\n",
       "      <td>masculino</td>\n",
       "      <td>neural2C-GCP-linguistico-speed0.78-pitchmodifi...</td>\n",
       "    </tr>\n",
       "    <tr>\n",
       "      <th>19</th>\n",
       "      <td>0.251626</td>\n",
       "      <td>-25.0</td>\n",
       "      <td>[-4.4141333e+02  8.9362648e+01 -1.2164741e+01 ...</td>\n",
       "      <td>98.468505</td>\n",
       "      <td>masculino</td>\n",
       "      <td>neural2C-pitchmodified-speedmodified.wav</td>\n",
       "    </tr>\n",
       "  </tbody>\n",
       "</table>\n",
       "</div>"
      ],
      "text/plain": [
       "    zero_crossing_rate   rms  \\\n",
       "0             0.075944 -27.5   \n",
       "1             0.093035 -27.0   \n",
       "2             0.093043 -22.5   \n",
       "3             0.098051 -22.0   \n",
       "4             0.105458 -21.5   \n",
       "5             0.116978 -26.5   \n",
       "6             0.137449 -21.0   \n",
       "7             0.137822 -26.1   \n",
       "8             0.142276 -20.5   \n",
       "9             0.147760 -25.5   \n",
       "10            0.172731 -23.0   \n",
       "11            0.173409 -28.0   \n",
       "12            0.181163 -28.5   \n",
       "13            0.185067 -23.5   \n",
       "14            0.204357 -29.0   \n",
       "15            0.232525 -29.5   \n",
       "16            0.235632 -30.0   \n",
       "17            0.239188 -24.0   \n",
       "18            0.239843 -24.5   \n",
       "19            0.251626 -25.0   \n",
       "\n",
       "                                                 mfcc       pitch     genero  \\\n",
       "0   [-4.0729132e+02  1.3076346e+02 -3.0420111e+01 ...  111.111716   femenino   \n",
       "1   [-424.61664     138.61742     -14.495688     3...  101.312090   femenino   \n",
       "2   [-3.71418152e+02  1.31561859e+02 -1.60284328e+...   76.492752  masculino   \n",
       "3   [-3.4943588e+02  1.2940279e+02 -1.8956478e+01 ...   68.726911  masculino   \n",
       "4   [-3.5115176e+02  1.1943483e+02 -1.9279911e+01 ...   69.045778  masculino   \n",
       "5   [-406.0902      126.13792     -21.46513      3...  117.898566   femenino   \n",
       "6   [-340.7002      132.91704     -31.981354     3...   71.771793  masculino   \n",
       "7   [-454.8679      72.41395    -14.8625145   45.9...  116.353345   femenino   \n",
       "8   [-3.6916684e+02  1.2000591e+02 -1.8859159e+01 ...   69.133215  masculino   \n",
       "9   [-403.0913     113.70938    -25.405426    40.5...  100.992253   femenino   \n",
       "10  [-3.6952478e+02  8.0498894e+01 -1.0428074e+01 ...   80.499580  masculino   \n",
       "11  [-4.5971887e+02  1.0447976e+02 -1.6792286e+01 ...   94.708117   femenino   \n",
       "12  [-4.4759967e+02  9.5588432e+01 -1.9238350e+01 ...  119.577565   femenino   \n",
       "13  [-402.69196    108.625534   -19.02167     38.0...   81.499212  masculino   \n",
       "14  [-461.32425    101.1998     -19.272114    28.5...  117.741417   femenino   \n",
       "15  [-4.7352054e+02  9.6443787e+01 -1.4195227e+01 ...  102.269338   femenino   \n",
       "16  [-4.8260114e+02  8.7294914e+01 -1.3890450e+01 ...  101.534874   femenino   \n",
       "17  [-406.19888     84.30505    -12.89493     18.8...   78.968152  masculino   \n",
       "18  [-4.2446661e+02  9.1029022e+01 -1.2799178e+01 ...   86.627444  masculino   \n",
       "19  [-4.4141333e+02  8.9362648e+01 -1.2164741e+01 ...   98.468505  masculino   \n",
       "\n",
       "                                                 file  \n",
       "0                               hyacinthe-lovo-v3.wav  \n",
       "1                                       lola-murf.wav  \n",
       "2                                    neural2B-GCP.wav  \n",
       "3                            alonso-naturalreader.wav  \n",
       "4                                    antonio-murf.wav  \n",
       "5                                    neural2A-GCP.wav  \n",
       "6                    adam-evenlabs-pitchmodifield.wav  \n",
       "7                               francisca-lovo-v2.wav  \n",
       "8                                 lautaro-lovo-v3.wav  \n",
       "9                  veronica-lovo-v4-pitchmodified.wav  \n",
       "10                             antoni-evenlabs-v3.wav  \n",
       "11                         lia-lovo-pitchmodified.wav  \n",
       "12                  julieta-lovo-v2-pitchmodified.wav  \n",
       "13  neural2C-GCP-linguistico-speed0.78-pitchmodifi...  \n",
       "14                        rosa-lovo-pitchmodified.wav  \n",
       "15                      elvira-lovo-pitchmodified.wav  \n",
       "16                       agata-lovo-pitchmodified.wav  \n",
       "17                 antoni-evenlabs-linguistico-v2.wav  \n",
       "18  neural2C-GCP-linguistico-speed0.78-pitchmodifi...  \n",
       "19           neural2C-pitchmodified-speedmodified.wav  "
      ]
     },
     "execution_count": 10,
     "metadata": {},
     "output_type": "execute_result"
    }
   ],
   "source": [
    "dataset_features.sort_values('zero_crossing_rate')"
   ]
  },
  {
   "cell_type": "code",
   "execution_count": 11,
   "metadata": {},
   "outputs": [],
   "source": [
    "dataset_features = dataset_features.rename(columns={\n",
    "    'zero_crossing_rate': 'ZCR',\n",
    "    'rms': 'RMS',\n",
    "    'pitch': '$f_0$'\n",
    "})"
   ]
  },
  {
   "cell_type": "code",
   "execution_count": 12,
   "metadata": {},
   "outputs": [],
   "source": [
    "def calculate_corr_pvals(df):\n",
    "    corr = pd.DataFrame()  # DataFrame para almacenar los coeficientes de correlación\n",
    "    pvals = pd.DataFrame()  # DataFrame para almacenar los p-valores\n",
    "\n",
    "    for col1 in df.columns:\n",
    "        for col2 in df.columns:\n",
    "            r, p = pearsonr(df[col1], df[col2])\n",
    "            corr.loc[col1, col2] = r\n",
    "            pvals.loc[col1, col2] = p\n",
    "\n",
    "    return corr, pvals"
   ]
  },
  {
   "cell_type": "code",
   "execution_count": 13,
   "metadata": {},
   "outputs": [],
   "source": [
    "def heatmap_with_pvals(corr, pvals):\n",
    "    # mask = np.zeros_like(corr, dtype=bool)\n",
    "    # mask[np.triu_indices_from(mask)] = True\n",
    "\n",
    "    # Crea una matriz de anotaciones con los asteriscos basados en los p-valores\n",
    "    annot = corr.map(lambda x: '1' if x == 1 else format(x, '.2f'))\n",
    "    annot = annot.map(lambda x: '1' if x == '1.00' else x)\n",
    "    annot = annot.map(lambda x: x.replace('.', ','))\n",
    "    for i in range(corr.shape[0]):\n",
    "        for j in range(corr.shape[1]):\n",
    "            if i != j:  # Ignora la diagonal\n",
    "                if pvals.iat[i, j] < 0.01:\n",
    "                    annot.iat[i, j] += '$^{**}$'\n",
    "                elif pvals.iat[i, j] < 0.05:\n",
    "                    annot.iat[i, j] += '$^{*}$'\n",
    "\n",
    "    # Genera el heatmap\n",
    "    ax = sns.heatmap(corr,  annot=annot, fmt='') #, mask=mask cmap='coolwarm',\n",
    "    # plt.title('Correlation heatmap with p-values')\n",
    "    plt.figtext(0.1, 0.01, '*: p-valor < 0,05    **: p-valor < 0,01', fontsize=8)\n",
    "    ax.set_xticklabels(ax.get_xticklabels(), fontdict={'verticalalignment': 'top', 'rotation': 0, 'style': 'italic'})\n",
    "    ax.set_yticklabels(ax.get_yticklabels(), fontdict={'verticalalignment': 'center', 'horizontalalignment': 'right', 'rotation': 0, 'style': 'italic'})\n",
    "    plt.show()"
   ]
  },
  {
   "cell_type": "code",
   "execution_count": 14,
   "metadata": {},
   "outputs": [],
   "source": [
    "mask = dataset_features.genero == 'masculino'\n",
    "dataset_features_male = dataset_features[mask].loc[:, ['ZCR', 'RMS', '$f_0$']]"
   ]
  },
  {
   "cell_type": "code",
   "execution_count": 15,
   "metadata": {},
   "outputs": [],
   "source": [
    "corr, pvals = calculate_corr_pvals(dataset_features_male)"
   ]
  },
  {
   "cell_type": "code",
   "execution_count": 16,
   "metadata": {},
   "outputs": [
    {
     "data": {
      "image/png": "[encoded data removed]",
      "text/plain": [
       "<Figure size 640x480 with 2 Axes>"
      ]
     },
     "metadata": {},
     "output_type": "display_data"
    }
   ],
   "source": [
    "# Correlación masculina\n",
    "heatmap_with_pvals(corr, pvals)"
   ]
  },
  {
   "cell_type": "code",
   "execution_count": 17,
   "metadata": {},
   "outputs": [],
   "source": [
    "mask = dataset_features.genero == 'femenino'\n",
    "dataset_features_male = dataset_features[mask].loc[:, ['ZCR', 'RMS', '$f_0$']]"
   ]
  },
  {
   "cell_type": "code",
   "execution_count": 18,
   "metadata": {},
   "outputs": [],
   "source": [
    "corr, pvals = calculate_corr_pvals(dataset_features_male)"
   ]
  },
  {
   "cell_type": "code",
   "execution_count": 19,
   "metadata": {},
   "outputs": [
    {
     "data": {
      "image/png": "[encoded data removed]",
      "text/plain": [
       "<Figure size 640x480 with 2 Axes>"
      ]
     },
     "metadata": {},
     "output_type": "display_data"
    }
   ],
   "source": [
    "# Correlación femenina\n",
    "heatmap_with_pvals(corr, pvals)"
   ]
  },
  {
   "cell_type": "code",
   "execution_count": 20,
   "metadata": {},
   "outputs": [],
   "source": [
    "corr, pvals = calculate_corr_pvals(dataset_features.loc[:, ['ZCR', 'RMS', '$f_0$']])"
   ]
  },
  {
   "cell_type": "code",
   "execution_count": 21,
   "metadata": {},
   "outputs": [
    {
     "data": {
      "image/png": "[encoded data removed]",
      "text/plain": [
       "<Figure size 640x480 with 2 Axes>"
      ]
     },
     "metadata": {},
     "output_type": "display_data"
    }
   ],
   "source": [
    "# Correlación completa\n",
    "heatmap_with_pvals(corr, pvals)"
   ]
  },
  {
   "cell_type": "code",
   "execution_count": 22,
   "metadata": {},
   "outputs": [
    {
     "data": {
      "text/html": [
       "<div>\n",
       "<style scoped>\n",
       "    .dataframe tbody tr th:only-of-type {\n",
       "        vertical-align: middle;\n",
       "    }\n",
       "\n",
       "    .dataframe tbody tr th {\n",
       "        vertical-align: top;\n",
       "    }\n",
       "\n",
       "    .dataframe thead th {\n",
       "        text-align: right;\n",
       "    }\n",
       "</style>\n",
       "<table border=\"1\" class=\"dataframe\">\n",
       "  <thead>\n",
       "    <tr style=\"text-align: right;\">\n",
       "      <th></th>\n",
       "      <th>ZCR</th>\n",
       "      <th>RMS</th>\n",
       "      <th>$f_0$</th>\n",
       "    </tr>\n",
       "  </thead>\n",
       "  <tbody>\n",
       "    <tr>\n",
       "      <th>ZCR</th>\n",
       "      <td>1.000000</td>\n",
       "      <td>-0.814776</td>\n",
       "      <td>0.814360</td>\n",
       "    </tr>\n",
       "    <tr>\n",
       "      <th>RMS</th>\n",
       "      <td>-0.814776</td>\n",
       "      <td>1.000000</td>\n",
       "      <td>-0.895991</td>\n",
       "    </tr>\n",
       "    <tr>\n",
       "      <th>$f_0$</th>\n",
       "      <td>0.814360</td>\n",
       "      <td>-0.895991</td>\n",
       "      <td>1.000000</td>\n",
       "    </tr>\n",
       "  </tbody>\n",
       "</table>\n",
       "</div>"
      ],
      "text/plain": [
       "            ZCR       RMS     $f_0$\n",
       "ZCR    1.000000 -0.814776  0.814360\n",
       "RMS   -0.814776  1.000000 -0.895991\n",
       "$f_0$  0.814360 -0.895991  1.000000"
      ]
     },
     "execution_count": 22,
     "metadata": {},
     "output_type": "execute_result"
    }
   ],
   "source": [
    "mask = dataset_features.genero == 'masculino'\n",
    "dataset_features[mask].loc[:, ['ZCR', 'RMS', '$f_0$']].corr()"
   ]
  },
  {
   "cell_type": "code",
   "execution_count": 23,
   "metadata": {},
   "outputs": [
    {
     "data": {
      "image/png": "[encoded data removed]",
      "text/plain": [
       "<Figure size 640x480 with 2 Axes>"
      ]
     },
     "metadata": {},
     "output_type": "display_data"
    }
   ],
   "source": [
    "# Correlación Masculina\n",
    "\n",
    "mask = dataset_features.genero == 'masculino'\n",
    "ax = sns.heatmap(dataset_features[mask].loc[:, ['ZCR', 'RMS', '$f_0$']].corr(), annot=True)\n",
    "\n",
    "# Cambiar los nombres de las variables a cursiva\n",
    "ax.set_xticklabels(ax.get_xticklabels(), fontdict={'verticalalignment': 'top', 'rotation': 0, 'style': 'italic'})\n",
    "ax.set_yticklabels(ax.get_yticklabels(), fontdict={'verticalalignment': 'center', 'horizontalalignment': 'right', 'rotation': 0, 'style': 'italic'})\n",
    "\n",
    "plt.show()"
   ]
  },
  {
   "cell_type": "code",
   "execution_count": 24,
   "metadata": {},
   "outputs": [
    {
     "data": {
      "text/html": [
       "<div>\n",
       "<style scoped>\n",
       "    .dataframe tbody tr th:only-of-type {\n",
       "        vertical-align: middle;\n",
       "    }\n",
       "\n",
       "    .dataframe tbody tr th {\n",
       "        vertical-align: top;\n",
       "    }\n",
       "\n",
       "    .dataframe thead th {\n",
       "        text-align: right;\n",
       "    }\n",
       "</style>\n",
       "<table border=\"1\" class=\"dataframe\">\n",
       "  <thead>\n",
       "    <tr style=\"text-align: right;\">\n",
       "      <th></th>\n",
       "      <th>ZCR</th>\n",
       "      <th>RMS</th>\n",
       "      <th>$f_0$</th>\n",
       "    </tr>\n",
       "  </thead>\n",
       "  <tbody>\n",
       "    <tr>\n",
       "      <th>ZCR</th>\n",
       "      <td>1.000000</td>\n",
       "      <td>-0.749440</td>\n",
       "      <td>-0.163502</td>\n",
       "    </tr>\n",
       "    <tr>\n",
       "      <th>RMS</th>\n",
       "      <td>-0.749440</td>\n",
       "      <td>1.000000</td>\n",
       "      <td>0.107193</td>\n",
       "    </tr>\n",
       "    <tr>\n",
       "      <th>$f_0$</th>\n",
       "      <td>-0.163502</td>\n",
       "      <td>0.107193</td>\n",
       "      <td>1.000000</td>\n",
       "    </tr>\n",
       "  </tbody>\n",
       "</table>\n",
       "</div>"
      ],
      "text/plain": [
       "            ZCR       RMS     $f_0$\n",
       "ZCR    1.000000 -0.749440 -0.163502\n",
       "RMS   -0.749440  1.000000  0.107193\n",
       "$f_0$ -0.163502  0.107193  1.000000"
      ]
     },
     "execution_count": 24,
     "metadata": {},
     "output_type": "execute_result"
    }
   ],
   "source": [
    "mask = dataset_features.genero == 'femenino'\n",
    "dataset_features[mask].loc[:, ['ZCR', 'RMS', '$f_0$']].corr()"
   ]
  },
  {
   "cell_type": "code",
   "execution_count": 25,
   "metadata": {},
   "outputs": [
    {
     "data": {
      "image/png": "[encoded data removed]",
      "text/plain": [
       "<Figure size 640x480 with 2 Axes>"
      ]
     },
     "metadata": {},
     "output_type": "display_data"
    }
   ],
   "source": [
    "# Correlación Femenina\n",
    "\n",
    "mask = dataset_features.genero == 'femenino'\n",
    "ax = sns.heatmap(dataset_features[mask].loc[:, ['ZCR', 'RMS', '$f_0$']].corr(), annot=True)\n",
    "\n",
    "# Cambiar los nombres de las variables a cursiva\n",
    "ax.set_xticklabels(ax.get_xticklabels(), fontdict={'verticalalignment': 'top', 'rotation': 0, 'style': 'italic'})\n",
    "ax.set_yticklabels(ax.get_yticklabels(), fontdict={'verticalalignment': 'center', 'horizontalalignment': 'right', 'rotation': 0, 'style': 'italic'})\n",
    "\n",
    "plt.show()"
   ]
  },
  {
   "cell_type": "code",
   "execution_count": 26,
   "metadata": {},
   "outputs": [
    {
     "data": {
      "text/html": [
       "<div>\n",
       "<style scoped>\n",
       "    .dataframe tbody tr th:only-of-type {\n",
       "        vertical-align: middle;\n",
       "    }\n",
       "\n",
       "    .dataframe tbody tr th {\n",
       "        vertical-align: top;\n",
       "    }\n",
       "\n",
       "    .dataframe thead th {\n",
       "        text-align: right;\n",
       "    }\n",
       "</style>\n",
       "<table border=\"1\" class=\"dataframe\">\n",
       "  <thead>\n",
       "    <tr style=\"text-align: right;\">\n",
       "      <th></th>\n",
       "      <th>ZCR</th>\n",
       "      <th>RMS</th>\n",
       "      <th>$f_0$</th>\n",
       "    </tr>\n",
       "  </thead>\n",
       "  <tbody>\n",
       "    <tr>\n",
       "      <th>ZCR</th>\n",
       "      <td>1.000000</td>\n",
       "      <td>-0.335742</td>\n",
       "      <td>0.127512</td>\n",
       "    </tr>\n",
       "    <tr>\n",
       "      <th>RMS</th>\n",
       "      <td>-0.335742</td>\n",
       "      <td>1.000000</td>\n",
       "      <td>-0.851337</td>\n",
       "    </tr>\n",
       "    <tr>\n",
       "      <th>$f_0$</th>\n",
       "      <td>0.127512</td>\n",
       "      <td>-0.851337</td>\n",
       "      <td>1.000000</td>\n",
       "    </tr>\n",
       "  </tbody>\n",
       "</table>\n",
       "</div>"
      ],
      "text/plain": [
       "            ZCR       RMS     $f_0$\n",
       "ZCR    1.000000 -0.335742  0.127512\n",
       "RMS   -0.335742  1.000000 -0.851337\n",
       "$f_0$  0.127512 -0.851337  1.000000"
      ]
     },
     "execution_count": 26,
     "metadata": {},
     "output_type": "execute_result"
    }
   ],
   "source": [
    "dataset_features.loc[:, ['ZCR', 'RMS', '$f_0$']].corr()"
   ]
  },
  {
   "cell_type": "code",
   "execution_count": 27,
   "metadata": {},
   "outputs": [
    {
     "data": {
      "image/png": "[encoded data removed]",
      "text/plain": [
       "<Figure size 640x480 with 2 Axes>"
      ]
     },
     "metadata": {},
     "output_type": "display_data"
    }
   ],
   "source": [
    "# Correlación Completa\n",
    "\n",
    "ax = sns.heatmap(dataset_features.loc[:, ['ZCR', 'RMS', '$f_0$']].corr(), annot=True)\n",
    "\n",
    "# Cambiar los nombres de las variables a cursiva\n",
    "ax.set_xticklabels(ax.get_xticklabels(), fontdict={'verticalalignment': 'top', 'rotation': 0, 'style': 'italic'})\n",
    "ax.set_yticklabels(ax.get_yticklabels(), fontdict={'verticalalignment': 'center', 'horizontalalignment': 'right', 'rotation': 0, 'style': 'italic'})\n",
    "\n",
    "plt.show()"
   ]
  },
  {
   "cell_type": "code",
   "execution_count": 28,
   "metadata": {},
   "outputs": [],
   "source": [
    "dataset_features = dataset_features.rename(columns={\n",
    "    'ZCR': 'zero_crossing_rate',\n",
    "    'RMS': 'rms',\n",
    "    '$f_0$': 'pitch'\n",
    "})"
   ]
  },
  {
   "cell_type": "code",
   "execution_count": 29,
   "metadata": {},
   "outputs": [],
   "source": [
    "dataset_features.sort_values('zero_crossing_rate').to_excel(\n",
    "    'voces_test_rms.ods',\n",
    "    index=False,\n",
    "    engine='odf'\n",
    ") #, engine='odf'"
   ]
  },
  {
   "cell_type": "code",
   "execution_count": 30,
   "metadata": {},
   "outputs": [],
   "source": [
    "mask = dataset_features.genero == 'femenino'\n",
    "dataset_features[mask].sort_values('zero_crossing_rate').to_excel(\n",
    "    'voces_femenina_rms.ods',\n",
    "    index=False,\n",
    "    engine='odf'\n",
    ") "
   ]
  },
  {
   "cell_type": "code",
   "execution_count": 31,
   "metadata": {},
   "outputs": [],
   "source": [
    "mask = dataset_features.genero == 'masculino'\n",
    "dataset_features[mask].sort_values('zero_crossing_rate').to_excel(\n",
    "    'voces_masculina_rms.ods',\n",
    "    index=False,\n",
    "    engine='odf'\n",
    ") "
   ]
  }
 ],
 "metadata": {
  "kernelspec": {
   "display_name": "venv",
   "language": "python",
   "name": "python3"
  },
  "language_info": {
   "codemirror_mode": {
    "name": "ipython",
    "version": 3
   },
   "file_extension": ".py",
   "mimetype": "text/x-python",
   "name": "python",
   "nbconvert_exporter": "python",
   "pygments_lexer": "ipython3",
   "version": "3.11.4"
  },
  "orig_nbformat": 4
 },
 "nbformat": 4,
 "nbformat_minor": 2
}
