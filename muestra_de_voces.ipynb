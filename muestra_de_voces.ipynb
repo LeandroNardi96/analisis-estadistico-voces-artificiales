{
 "cells": [
  {
   "cell_type": "code",
   "execution_count": 1,
   "metadata": {},
   "outputs": [],
   "source": [
    "import librosa\n",
    "import numpy as np\n",
    "import pandas as pd\n",
    "import os\n",
    "import seaborn as sns"
   ]
  },
  {
   "cell_type": "code",
   "execution_count": 4,
   "metadata": {},
   "outputs": [],
   "source": [
    "pd.read_excel('voces_test_rms.ods').sort_values(['zero_crossing_rate']).to_excel(r'features\\features.xlsx', index=False)"
   ]
  },
  {
   "cell_type": "code",
   "execution_count": 108,
   "metadata": {},
   "outputs": [],
   "source": [
    "def extract_features(audio_path):\n",
    "    \"\"\"\n",
    "    Extrae características de un archivo de audio.\n",
    "\n",
    "    Args:\n",
    "        audio_path (str): Ruta del archivo de audio.\n",
    "\n",
    "    Returns:\n",
    "        dict: Un diccionario que contiene las características extraídas:\n",
    "            - 'zero_crossing_rate': Tasa de cruce por cero promedio.\n",
    "            - 'rms': Valor RMS promedio.\n",
    "            - 'mfcc': Coeficientes cepstrales de frecuencia promedio.\n",
    "            - 'pitch': Valor de pitch promedio.\n",
    "    \"\"\"\n",
    "    y, sr = librosa.load(audio_path, sr=None)\n",
    "    zcr = librosa.feature.zero_crossing_rate(y)\n",
    "    rms = librosa.feature.rms(y=y)\n",
    "    rms_avg = np.mean(rms)\n",
    "    rms_avg_np = np.array([rms_avg])\n",
    "    rms_db = librosa.amplitude_to_db(rms_avg_np)\n",
    "    mfcc = librosa.feature.mfcc(y=y, sr=sr)\n",
    "    f0, voiced_flag, voiced_probs = librosa.pyin(\n",
    "            y,\n",
    "            fmin=librosa.note_to_hz('C2'),\n",
    "            fmax=librosa.note_to_hz('C7')\n",
    "        )\n",
    "    pitch = f0[voiced_flag > 0]\n",
    "\n",
    "    features = {\n",
    "        'zero_crossing_rate': np.mean(zcr),\n",
    "        'rms': rms_db[0],\n",
    "        'mfcc': np.mean(mfcc, axis=1),\n",
    "        'pitch': pitch.mean()\n",
    "    }\n",
    "\n",
    "    return features, y, sr"
   ]
  },
  {
   "cell_type": "code",
   "execution_count": 109,
   "metadata": {},
   "outputs": [],
   "source": [
    "PATH = os.getcwd()\n",
    "AUDIO_FOLDER = 'voces'\n",
    "SUBFOLDERS = ['masculino', 'femenino']\n",
    "RMS_FOLDER = 'voces_rms'\n",
    "OUTPUT_FOLDER = 'features'\n",
    "FEATURES_FILE = 'features.xlsx'\n",
    "features_list = []"
   ]
  },
  {
   "cell_type": "code",
   "execution_count": 110,
   "metadata": {},
   "outputs": [],
   "source": [
    "voice = [\n",
    "    'hyacinthe-lovo-v3.wav',\n",
    "    'lola-murf.wav',\n",
    "    'neural2A-GCP.wav',\n",
    "    'veronica-lovo-v4-pitchmodified.wav',\n",
    "    'francisca-lovo-v2.wav'\n",
    "]"
   ]
  },
  {
   "cell_type": "code",
   "execution_count": 111,
   "metadata": {},
   "outputs": [],
   "source": [
    "for subfolder in SUBFOLDERS:\n",
    "    \n",
    "    # if subfolder == 'masculino':\n",
    "    #     continue\n",
    "    \n",
    "    \n",
    "    audio_folder_path = os.path.join(PATH, AUDIO_FOLDER, subfolder, RMS_FOLDER)\n",
    "    files = os.listdir(audio_folder_path)\n",
    "    \n",
    "    for file in files:\n",
    "        \n",
    "        if not file.endswith('.wav'): # or file != 'antoni-v2.wav'\n",
    "            continue\n",
    "        \n",
    "        audio_file_path = os.path.join(audio_folder_path, file)\n",
    "        features, y, sr = extract_features(audio_file_path)\n",
    "        features = {key: [value] for key, value in features.items()}\n",
    "        features.update({'genero': [subfolder]})\n",
    "        features.update({'file': [file]})\n",
    "        features_list.append(features)"
   ]
  },
  {
   "cell_type": "code",
   "execution_count": 112,
   "metadata": {},
   "outputs": [],
   "source": [
    "dataset_features = pd.DataFrame()\n",
    "\n",
    "for features in features_list:\n",
    "    df_features = pd.DataFrame.from_dict(features, orient='columns')\n",
    "    dataset_features = pd.concat([dataset_features, df_features], axis=0)\n"
   ]
  },
  {
   "cell_type": "code",
   "execution_count": 113,
   "metadata": {},
   "outputs": [
    {
     "data": {
      "text/html": [
       "<div>\n",
       "<style scoped>\n",
       "    .dataframe tbody tr th:only-of-type {\n",
       "        vertical-align: middle;\n",
       "    }\n",
       "\n",
       "    .dataframe tbody tr th {\n",
       "        vertical-align: top;\n",
       "    }\n",
       "\n",
       "    .dataframe thead th {\n",
       "        text-align: right;\n",
       "    }\n",
       "</style>\n",
       "<table border=\"1\" class=\"dataframe\">\n",
       "  <thead>\n",
       "    <tr style=\"text-align: right;\">\n",
       "      <th></th>\n",
       "      <th>zero_crossing_rate</th>\n",
       "      <th>rms</th>\n",
       "      <th>mfcc</th>\n",
       "      <th>pitch</th>\n",
       "      <th>genero</th>\n",
       "      <th>file</th>\n",
       "    </tr>\n",
       "  </thead>\n",
       "  <tbody>\n",
       "    <tr>\n",
       "      <th>0</th>\n",
       "      <td>0.075944</td>\n",
       "      <td>-29.140640</td>\n",
       "      <td>[-407.29132, 130.76346, -30.42011, 33.040672, ...</td>\n",
       "      <td>111.111716</td>\n",
       "      <td>femenino</td>\n",
       "      <td>hyacinthe-lovo-v3.wav</td>\n",
       "    </tr>\n",
       "    <tr>\n",
       "      <th>0</th>\n",
       "      <td>0.093035</td>\n",
       "      <td>-28.350708</td>\n",
       "      <td>[-424.61664, 138.61742, -14.495688, 33.75851, ...</td>\n",
       "      <td>101.312090</td>\n",
       "      <td>femenino</td>\n",
       "      <td>lola-murf.wav</td>\n",
       "    </tr>\n",
       "    <tr>\n",
       "      <th>0</th>\n",
       "      <td>0.093043</td>\n",
       "      <td>-23.979513</td>\n",
       "      <td>[-371.41815, 131.56186, -16.028433, 46.37507, ...</td>\n",
       "      <td>76.492752</td>\n",
       "      <td>masculino</td>\n",
       "      <td>neural2B-GCP.wav</td>\n",
       "    </tr>\n",
       "    <tr>\n",
       "      <th>0</th>\n",
       "      <td>0.098051</td>\n",
       "      <td>-23.398396</td>\n",
       "      <td>[-349.43588, 129.40279, -18.956478, 59.89803, ...</td>\n",
       "      <td>68.726911</td>\n",
       "      <td>masculino</td>\n",
       "      <td>alonso-naturalreader.wav</td>\n",
       "    </tr>\n",
       "    <tr>\n",
       "      <th>0</th>\n",
       "      <td>0.105458</td>\n",
       "      <td>-22.707998</td>\n",
       "      <td>[-351.15176, 119.43483, -19.279911, 63.51706, ...</td>\n",
       "      <td>69.045778</td>\n",
       "      <td>masculino</td>\n",
       "      <td>antonio-murf.wav</td>\n",
       "    </tr>\n",
       "    <tr>\n",
       "      <th>0</th>\n",
       "      <td>0.116978</td>\n",
       "      <td>-27.881086</td>\n",
       "      <td>[-406.0902, 126.13792, -21.46513, 33.420044, 2...</td>\n",
       "      <td>117.898566</td>\n",
       "      <td>femenino</td>\n",
       "      <td>neural2A-GCP.wav</td>\n",
       "    </tr>\n",
       "    <tr>\n",
       "      <th>0</th>\n",
       "      <td>0.137449</td>\n",
       "      <td>-22.841682</td>\n",
       "      <td>[-340.7002, 132.91704, -31.981354, 30.77706, 8...</td>\n",
       "      <td>71.771793</td>\n",
       "      <td>masculino</td>\n",
       "      <td>adam-evenlabs-pitchmodifield.wav</td>\n",
       "    </tr>\n",
       "    <tr>\n",
       "      <th>0</th>\n",
       "      <td>0.137822</td>\n",
       "      <td>-28.349379</td>\n",
       "      <td>[-454.8679, 72.41395, -14.8625145, 45.98217, -...</td>\n",
       "      <td>116.353345</td>\n",
       "      <td>femenino</td>\n",
       "      <td>francisca-lovo-v2.wav</td>\n",
       "    </tr>\n",
       "    <tr>\n",
       "      <th>0</th>\n",
       "      <td>0.142276</td>\n",
       "      <td>-22.651031</td>\n",
       "      <td>[-369.16684, 120.00591, -18.85916, 37.700653, ...</td>\n",
       "      <td>69.133215</td>\n",
       "      <td>masculino</td>\n",
       "      <td>lautaro-lovo-v3.wav</td>\n",
       "    </tr>\n",
       "    <tr>\n",
       "      <th>0</th>\n",
       "      <td>0.147760</td>\n",
       "      <td>-26.861671</td>\n",
       "      <td>[-403.0913, 113.70938, -25.405426, 40.56639, -...</td>\n",
       "      <td>100.992253</td>\n",
       "      <td>femenino</td>\n",
       "      <td>veronica-lovo-v4-pitchmodified.wav</td>\n",
       "    </tr>\n",
       "    <tr>\n",
       "      <th>0</th>\n",
       "      <td>0.172731</td>\n",
       "      <td>-24.866428</td>\n",
       "      <td>[-369.52478, 80.49889, -10.428074, 33.87161, -...</td>\n",
       "      <td>80.499580</td>\n",
       "      <td>masculino</td>\n",
       "      <td>antoni-evenlabs-v3.wav</td>\n",
       "    </tr>\n",
       "    <tr>\n",
       "      <th>0</th>\n",
       "      <td>0.173409</td>\n",
       "      <td>-30.234955</td>\n",
       "      <td>[-459.71887, 104.47976, -16.792286, 41.82907, ...</td>\n",
       "      <td>94.708117</td>\n",
       "      <td>femenino</td>\n",
       "      <td>lia-lovo-pitchmodified.wav</td>\n",
       "    </tr>\n",
       "    <tr>\n",
       "      <th>0</th>\n",
       "      <td>0.181163</td>\n",
       "      <td>-30.512751</td>\n",
       "      <td>[-447.59967, 95.58843, -19.23835, 33.739536, -...</td>\n",
       "      <td>119.577565</td>\n",
       "      <td>femenino</td>\n",
       "      <td>julieta-lovo-v2-pitchmodified.wav</td>\n",
       "    </tr>\n",
       "    <tr>\n",
       "      <th>0</th>\n",
       "      <td>0.185067</td>\n",
       "      <td>-25.730629</td>\n",
       "      <td>[-402.69196, 108.625534, -19.02167, 38.089905,...</td>\n",
       "      <td>81.499212</td>\n",
       "      <td>masculino</td>\n",
       "      <td>neural2C-GCP-linguistico-speed0.78-pitchmodifi...</td>\n",
       "    </tr>\n",
       "    <tr>\n",
       "      <th>0</th>\n",
       "      <td>0.204357</td>\n",
       "      <td>-31.151531</td>\n",
       "      <td>[-461.32425, 101.1998, -19.272114, 28.598906, ...</td>\n",
       "      <td>117.741417</td>\n",
       "      <td>femenino</td>\n",
       "      <td>rosa-lovo-pitchmodified.wav</td>\n",
       "    </tr>\n",
       "    <tr>\n",
       "      <th>0</th>\n",
       "      <td>0.232525</td>\n",
       "      <td>-31.898108</td>\n",
       "      <td>[-473.52054, 96.44379, -14.195227, 34.814404, ...</td>\n",
       "      <td>102.269338</td>\n",
       "      <td>femenino</td>\n",
       "      <td>elvira-lovo-pitchmodified.wav</td>\n",
       "    </tr>\n",
       "    <tr>\n",
       "      <th>0</th>\n",
       "      <td>0.235632</td>\n",
       "      <td>-32.254543</td>\n",
       "      <td>[-482.60114, 87.294914, -13.89045, 45.30435, 6...</td>\n",
       "      <td>101.534874</td>\n",
       "      <td>femenino</td>\n",
       "      <td>agata-lovo-pitchmodified.wav</td>\n",
       "    </tr>\n",
       "    <tr>\n",
       "      <th>0</th>\n",
       "      <td>0.239188</td>\n",
       "      <td>-26.444183</td>\n",
       "      <td>[-406.19888, 84.30505, -12.89493, 18.848259, -...</td>\n",
       "      <td>78.968152</td>\n",
       "      <td>masculino</td>\n",
       "      <td>antoni-evenlabs-linguistico-v2.wav</td>\n",
       "    </tr>\n",
       "    <tr>\n",
       "      <th>0</th>\n",
       "      <td>0.239843</td>\n",
       "      <td>-27.266445</td>\n",
       "      <td>[-424.4666, 91.02902, -12.799178, 32.182114, -...</td>\n",
       "      <td>86.627444</td>\n",
       "      <td>masculino</td>\n",
       "      <td>neural2C-GCP-linguistico-speed0.78-pitchmodifi...</td>\n",
       "    </tr>\n",
       "    <tr>\n",
       "      <th>0</th>\n",
       "      <td>0.251626</td>\n",
       "      <td>-27.891197</td>\n",
       "      <td>[-441.41333, 89.36265, -12.164741, 31.590233, ...</td>\n",
       "      <td>98.468505</td>\n",
       "      <td>masculino</td>\n",
       "      <td>neural2C-pitchmodified-speedmodified.wav</td>\n",
       "    </tr>\n",
       "  </tbody>\n",
       "</table>\n",
       "</div>"
      ],
      "text/plain": [
       "   zero_crossing_rate        rms   \n",
       "0            0.075944 -29.140640  \\\n",
       "0            0.093035 -28.350708   \n",
       "0            0.093043 -23.979513   \n",
       "0            0.098051 -23.398396   \n",
       "0            0.105458 -22.707998   \n",
       "0            0.116978 -27.881086   \n",
       "0            0.137449 -22.841682   \n",
       "0            0.137822 -28.349379   \n",
       "0            0.142276 -22.651031   \n",
       "0            0.147760 -26.861671   \n",
       "0            0.172731 -24.866428   \n",
       "0            0.173409 -30.234955   \n",
       "0            0.181163 -30.512751   \n",
       "0            0.185067 -25.730629   \n",
       "0            0.204357 -31.151531   \n",
       "0            0.232525 -31.898108   \n",
       "0            0.235632 -32.254543   \n",
       "0            0.239188 -26.444183   \n",
       "0            0.239843 -27.266445   \n",
       "0            0.251626 -27.891197   \n",
       "\n",
       "                                                mfcc       pitch     genero   \n",
       "0  [-407.29132, 130.76346, -30.42011, 33.040672, ...  111.111716   femenino  \\\n",
       "0  [-424.61664, 138.61742, -14.495688, 33.75851, ...  101.312090   femenino   \n",
       "0  [-371.41815, 131.56186, -16.028433, 46.37507, ...   76.492752  masculino   \n",
       "0  [-349.43588, 129.40279, -18.956478, 59.89803, ...   68.726911  masculino   \n",
       "0  [-351.15176, 119.43483, -19.279911, 63.51706, ...   69.045778  masculino   \n",
       "0  [-406.0902, 126.13792, -21.46513, 33.420044, 2...  117.898566   femenino   \n",
       "0  [-340.7002, 132.91704, -31.981354, 30.77706, 8...   71.771793  masculino   \n",
       "0  [-454.8679, 72.41395, -14.8625145, 45.98217, -...  116.353345   femenino   \n",
       "0  [-369.16684, 120.00591, -18.85916, 37.700653, ...   69.133215  masculino   \n",
       "0  [-403.0913, 113.70938, -25.405426, 40.56639, -...  100.992253   femenino   \n",
       "0  [-369.52478, 80.49889, -10.428074, 33.87161, -...   80.499580  masculino   \n",
       "0  [-459.71887, 104.47976, -16.792286, 41.82907, ...   94.708117   femenino   \n",
       "0  [-447.59967, 95.58843, -19.23835, 33.739536, -...  119.577565   femenino   \n",
       "0  [-402.69196, 108.625534, -19.02167, 38.089905,...   81.499212  masculino   \n",
       "0  [-461.32425, 101.1998, -19.272114, 28.598906, ...  117.741417   femenino   \n",
       "0  [-473.52054, 96.44379, -14.195227, 34.814404, ...  102.269338   femenino   \n",
       "0  [-482.60114, 87.294914, -13.89045, 45.30435, 6...  101.534874   femenino   \n",
       "0  [-406.19888, 84.30505, -12.89493, 18.848259, -...   78.968152  masculino   \n",
       "0  [-424.4666, 91.02902, -12.799178, 32.182114, -...   86.627444  masculino   \n",
       "0  [-441.41333, 89.36265, -12.164741, 31.590233, ...   98.468505  masculino   \n",
       "\n",
       "                                                file  \n",
       "0                              hyacinthe-lovo-v3.wav  \n",
       "0                                      lola-murf.wav  \n",
       "0                                   neural2B-GCP.wav  \n",
       "0                           alonso-naturalreader.wav  \n",
       "0                                   antonio-murf.wav  \n",
       "0                                   neural2A-GCP.wav  \n",
       "0                   adam-evenlabs-pitchmodifield.wav  \n",
       "0                              francisca-lovo-v2.wav  \n",
       "0                                lautaro-lovo-v3.wav  \n",
       "0                 veronica-lovo-v4-pitchmodified.wav  \n",
       "0                             antoni-evenlabs-v3.wav  \n",
       "0                         lia-lovo-pitchmodified.wav  \n",
       "0                  julieta-lovo-v2-pitchmodified.wav  \n",
       "0  neural2C-GCP-linguistico-speed0.78-pitchmodifi...  \n",
       "0                        rosa-lovo-pitchmodified.wav  \n",
       "0                      elvira-lovo-pitchmodified.wav  \n",
       "0                       agata-lovo-pitchmodified.wav  \n",
       "0                 antoni-evenlabs-linguistico-v2.wav  \n",
       "0  neural2C-GCP-linguistico-speed0.78-pitchmodifi...  \n",
       "0           neural2C-pitchmodified-speedmodified.wav  "
      ]
     },
     "execution_count": 113,
     "metadata": {},
     "output_type": "execute_result"
    }
   ],
   "source": [
    "dataset_features.sort_values('zero_crossing_rate')"
   ]
  },
  {
   "cell_type": "code",
   "execution_count": 114,
   "metadata": {},
   "outputs": [
    {
     "data": {
      "text/plain": [
       "<Axes: >"
      ]
     },
     "execution_count": 114,
     "metadata": {},
     "output_type": "execute_result"
    },
    {
     "data": {
      "image/png": "[encoded data removed]",
      "text/plain": [
       "<Figure size 640x480 with 2 Axes>"
      ]
     },
     "metadata": {},
     "output_type": "display_data"
    }
   ],
   "source": [
    "# Correlación Masculina\n",
    "\n",
    "mask = dataset_features.genero == 'masculino'\n",
    "sns.heatmap(dataset_features[mask].loc[:, ['zero_crossing_rate', 'rms', 'pitch']].corr(), annot=True)"
   ]
  },
  {
   "cell_type": "code",
   "execution_count": 115,
   "metadata": {},
   "outputs": [
    {
     "data": {
      "text/plain": [
       "<Axes: >"
      ]
     },
     "execution_count": 115,
     "metadata": {},
     "output_type": "execute_result"
    },
    {
     "data": {
      "image/png": "[encoded data removed]",
      "text/plain": [
       "<Figure size 640x480 with 2 Axes>"
      ]
     },
     "metadata": {},
     "output_type": "display_data"
    }
   ],
   "source": [
    "# Correlación Femenina\n",
    "\n",
    "mask = dataset_features.genero == 'femenino'\n",
    "sns.heatmap(dataset_features[mask].loc[:, ['zero_crossing_rate', 'rms', 'pitch']].corr(), annot=True)"
   ]
  },
  {
   "cell_type": "code",
   "execution_count": 116,
   "metadata": {},
   "outputs": [
    {
     "data": {
      "text/plain": [
       "<Axes: >"
      ]
     },
     "execution_count": 116,
     "metadata": {},
     "output_type": "execute_result"
    },
    {
     "data": {
      "image/png": "[encoded data removed]",
      "text/plain": [
       "<Figure size 640x480 with 2 Axes>"
      ]
     },
     "metadata": {},
     "output_type": "display_data"
    }
   ],
   "source": [
    "# Correlación Completa\n",
    "\n",
    "sns.heatmap(dataset_features.loc[:, ['zero_crossing_rate', 'rms', 'pitch']].corr(), annot=True)"
   ]
  },
  {
   "cell_type": "code",
   "execution_count": 117,
   "metadata": {},
   "outputs": [],
   "source": [
    "dataset_features.sort_values('zero_crossing_rate').to_excel(\n",
    "    'voces_test_rms.ods',\n",
    "    index=False,\n",
    "    engine='odf'\n",
    ") #, engine='odf'"
   ]
  },
  {
   "cell_type": "code",
   "execution_count": 118,
   "metadata": {},
   "outputs": [],
   "source": [
    "mask = dataset_features.genero == 'femenino'\n",
    "dataset_features[mask].sort_values('zero_crossing_rate').to_excel(\n",
    "    'voces_femenina_rms.ods',\n",
    "    index=False,\n",
    "    engine='odf'\n",
    ") "
   ]
  },
  {
   "cell_type": "code",
   "execution_count": 119,
   "metadata": {},
   "outputs": [],
   "source": [
    "mask = dataset_features.genero == 'masculino'\n",
    "dataset_features[mask].sort_values('zero_crossing_rate').to_excel(\n",
    "    'voces_masculina_rms.ods',\n",
    "    index=False,\n",
    "    engine='odf'\n",
    ") "
   ]
  }
 ],
 "metadata": {
  "kernelspec": {
   "display_name": "venv",
   "language": "python",
   "name": "python3"
  },
  "language_info": {
   "codemirror_mode": {
    "name": "ipython",
    "version": 3
   },
   "file_extension": ".py",
   "mimetype": "text/x-python",
   "name": "python",
   "nbconvert_exporter": "python",
   "pygments_lexer": "ipython3",
   "version": "3.10.11"
  },
  "orig_nbformat": 4
 },
 "nbformat": 4,
 "nbformat_minor": 2
}
