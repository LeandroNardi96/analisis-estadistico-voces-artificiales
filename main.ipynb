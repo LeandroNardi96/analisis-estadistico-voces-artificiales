{
 "cells": [
  {
   "cell_type": "code",
   "execution_count": 1,
   "metadata": {},
   "outputs": [],
   "source": [
    "import papermill as pm"
   ]
  },
  {
   "cell_type": "code",
   "execution_count": 2,
   "metadata": {},
   "outputs": [
    {
     "data": {
      "application/vnd.jupyter.widget-view+json": {
       "model_id": "cf47a845fabb4d20a8f73c968dd9c4ba",
       "version_major": 2,
       "version_minor": 0
      },
      "text/plain": [
       "Executing:   0%|          | 0/46 [00:00<?, ?cell/s]"
      ]
     },
     "metadata": {},
     "output_type": "display_data"
    }
   ],
   "source": [
    "# Sample Population\n",
    "nb_sample_population = pm.execute_notebook(\n",
    "   'sample_population.ipynb',\n",
    "   r'notebook-output\\sample_population_output.ipynb',\n",
    "   kernel_name='python',\n",
    "   log_out=True\n",
    ")"
   ]
  },
  {
   "cell_type": "code",
   "execution_count": 3,
   "metadata": {},
   "outputs": [
    {
     "data": {
      "application/vnd.jupyter.widget-view+json": {
       "model_id": "14e06e1865e046e48966ab2e61ee5b45",
       "version_major": 2,
       "version_minor": 0
      },
      "text/plain": [
       "Executing:   0%|          | 0/41 [00:00<?, ?cell/s]"
      ]
     },
     "metadata": {},
     "output_type": "display_data"
    }
   ],
   "source": [
    "# Mann Whitney Test\n",
    "nb_mann_whitnet_test = pm.execute_notebook(\n",
    "   'mann_whitnet_test.ipynb',\n",
    "   r'notebook-output\\mann_whitnet_test_output.ipynb',\n",
    "   kernel_name='python',\n",
    "   log_out=True\n",
    ")"
   ]
  },
  {
   "cell_type": "code",
   "execution_count": 4,
   "metadata": {},
   "outputs": [
    {
     "data": {
      "application/vnd.jupyter.widget-view+json": {
       "model_id": "a3da126517174b96995900ec6cd93c2f",
       "version_major": 2,
       "version_minor": 0
      },
      "text/plain": [
       "Executing:   0%|          | 0/21 [00:00<?, ?cell/s]"
      ]
     },
     "metadata": {},
     "output_type": "display_data"
    }
   ],
   "source": [
    "# Preprocessing Regression\n",
    "nb_preprocess_regression = pm.execute_notebook(\n",
    "   'preprocess_regression.ipynb',\n",
    "   r'notebook-output\\preprocess_regression_output.ipynb',\n",
    "   kernel_name='python',\n",
    "   log_out=True\n",
    ")"
   ]
  },
  {
   "cell_type": "code",
   "execution_count": 5,
   "metadata": {},
   "outputs": [
    {
     "data": {
      "application/vnd.jupyter.widget-view+json": {
       "model_id": "9f805f09618b40a8b7d81c530dd7695d",
       "version_major": 2,
       "version_minor": 0
      },
      "text/plain": [
       "Executing:   0%|          | 0/96 [00:00<?, ?cell/s]"
      ]
     },
     "metadata": {},
     "output_type": "display_data"
    }
   ],
   "source": [
    "# Parametric Regression\n",
    "nb_paraetric_regression = pm.execute_notebook(\n",
    "   'parametric_regression.ipynb',\n",
    "   r'notebook-output\\parametric_regression_output.ipynb',\n",
    "   kernel_name='python',\n",
    "   log_out=True\n",
    ")"
   ]
  },
  {
   "cell_type": "code",
   "execution_count": 6,
   "metadata": {},
   "outputs": [
    {
     "data": {
      "application/vnd.jupyter.widget-view+json": {
       "model_id": "816aa9a9b8b544ec97cf79ca6c4eca4e",
       "version_major": 2,
       "version_minor": 0
      },
      "text/plain": [
       "Executing:   0%|          | 0/107 [00:00<?, ?cell/s]"
      ]
     },
     "metadata": {},
     "output_type": "display_data"
    }
   ],
   "source": [
    "# No Parametric Regression\n",
    "nb_no_paraetric_regression = pm.execute_notebook(\n",
    "   'no_parametric_regression.ipynb',\n",
    "   r'notebook-output\\no_parametric_regression_output.ipynb',\n",
    "   kernel_name='python',\n",
    "   log_out=True\n",
    ")"
   ]
  }
 ],
 "metadata": {
  "kernelspec": {
   "display_name": "venv",
   "language": "python",
   "name": "python3"
  },
  "language_info": {
   "codemirror_mode": {
    "name": "ipython",
    "version": 3
   },
   "file_extension": ".py",
   "mimetype": "text/x-python",
   "name": "python",
   "nbconvert_exporter": "python",
   "pygments_lexer": "ipython3",
   "version": "3.10.11"
  },
  "orig_nbformat": 4
 },
 "nbformat": 4,
 "nbformat_minor": 2
}
