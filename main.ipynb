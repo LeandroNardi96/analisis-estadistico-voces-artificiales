{
 "cells": [
  {
   "cell_type": "code",
   "execution_count": 1,
   "metadata": {},
   "outputs": [],
   "source": [
    "import papermill as pm"
   ]
  },
  {
   "cell_type": "code",
   "execution_count": 3,
   "metadata": {},
   "outputs": [
    {
     "data": {
      "application/vnd.jupyter.widget-view+json": {
       "model_id": "5fc65df27b0c4368a8f6970c40556fb0",
       "version_major": 2,
       "version_minor": 0
      },
      "text/plain": [
       "Executing:   0%|          | 0/46 [00:00<?, ?cell/s]"
      ]
     },
     "metadata": {},
     "output_type": "display_data"
    }
   ],
   "source": [
    "# Sample Population\n",
    "nb_sample_population = pm.execute_notebook(\n",
    "   'sample_population.ipynb',\n",
    "   r'notebook-output\\sample_population_output.ipynb',\n",
    "   kernel_name='python',\n",
    "   log_out=True\n",
    ")"
   ]
  },
  {
   "cell_type": "code",
   "execution_count": 4,
   "metadata": {},
   "outputs": [
    {
     "data": {
      "application/vnd.jupyter.widget-view+json": {
       "model_id": "2aa7ed2328be4c26b83ea89d3afa45e1",
       "version_major": 2,
       "version_minor": 0
      },
      "text/plain": [
       "Executing:   0%|          | 0/41 [00:00<?, ?cell/s]"
      ]
     },
     "metadata": {},
     "output_type": "display_data"
    }
   ],
   "source": [
    "# Mann Whitney Test\n",
    "nb_mann_whitnet_test = pm.execute_notebook(\n",
    "   'mann_whitnet_test.ipynb',\n",
    "   r'notebook-output\\mann_whitnet_test_output.ipynb',\n",
    "   kernel_name='python',\n",
    "   log_out=True\n",
    ")"
   ]
  },
  {
   "cell_type": "code",
   "execution_count": 5,
   "metadata": {},
   "outputs": [
    {
     "data": {
      "application/vnd.jupyter.widget-view+json": {
       "model_id": "25a66a3dbd1b48488069cb4fd9d19ea6",
       "version_major": 2,
       "version_minor": 0
      },
      "text/plain": [
       "Executing:   0%|          | 0/21 [00:00<?, ?cell/s]"
      ]
     },
     "metadata": {},
     "output_type": "display_data"
    }
   ],
   "source": [
    "# Preprocessing Regression\n",
    "nb_preprocess_regression = pm.execute_notebook(\n",
    "   'preprocess_regression.ipynb',\n",
    "   r'notebook-output\\preprocess_regression_output.ipynb',\n",
    "   kernel_name='python',\n",
    "   log_out=True\n",
    ")"
   ]
  },
  {
   "cell_type": "code",
   "execution_count": 6,
   "metadata": {},
   "outputs": [
    {
     "data": {
      "application/vnd.jupyter.widget-view+json": {
       "model_id": "562e649125d5429a8b9c59adb0e4410b",
       "version_major": 2,
       "version_minor": 0
      },
      "text/plain": [
       "Executing:   0%|          | 0/26 [00:00<?, ?cell/s]"
      ]
     },
     "metadata": {},
     "output_type": "display_data"
    }
   ],
   "source": [
    "# Regression\n",
    "nb_regression = pm.execute_notebook(\n",
    "   'regression.ipynb',\n",
    "   r'notebook-output\\regression_output.ipynb',\n",
    "   kernel_name='python',\n",
    "   log_out=True\n",
    ")"
   ]
  }
 ],
 "metadata": {
  "kernelspec": {
   "display_name": "venv",
   "language": "python",
   "name": "python3"
  },
  "language_info": {
   "codemirror_mode": {
    "name": "ipython",
    "version": 3
   },
   "file_extension": ".py",
   "mimetype": "text/x-python",
   "name": "python",
   "nbconvert_exporter": "python",
   "pygments_lexer": "ipython3",
   "version": "3.10.11"
  },
  "orig_nbformat": 4
 },
 "nbformat": 4,
 "nbformat_minor": 2
}
