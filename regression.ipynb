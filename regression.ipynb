{
    "cells": [
        {
            "cell_type": "code",
            "execution_count": 1,
            "metadata": {},
            "outputs": [],
            "source": [
                "import pandas as pd\n",
                "import numpy as np\n",
                "from matplotlib import pyplot as plt\n",
                "from scipy.stats import mannwhitneyu\n",
                "import re\n",
                "import os\n",
                "import seaborn as sns\n",
                "from matplotlib import cm, colors"
            ]
        },
        {
            "cell_type": "code",
            "execution_count": 2,
            "metadata": {},
            "outputs": [],
            "source": [
                "merged_df = pd.read_csv(r'aux_file\\data_regression.csv')"
            ]
        },
        {
            "cell_type": "code",
            "execution_count": 3,
            "metadata": {},
            "outputs": [],
            "source": [
                "obj_params = pd.read_excel('voces_test_rms.ods')"
            ]
        },
        {
            "cell_type": "code",
            "execution_count": 4,
            "metadata": {},
            "outputs": [
                {
                    "data": {
                        "text/html": [
                            "<div>\n",
                            "<style scoped>\n",
                            "    .dataframe tbody tr th:only-of-type {\n",
                            "        vertical-align: middle;\n",
                            "    }\n",
                            "\n",
                            "    .dataframe tbody tr th {\n",
                            "        vertical-align: top;\n",
                            "    }\n",
                            "\n",
                            "    .dataframe thead th {\n",
                            "        text-align: right;\n",
                            "    }\n",
                            "</style>\n",
                            "<table border=\"1\" class=\"dataframe\">\n",
                            "  <thead>\n",
                            "    <tr style=\"text-align: right;\">\n",
                            "      <th></th>\n",
                            "      <th>zero_crossing_rate</th>\n",
                            "      <th>rms</th>\n",
                            "      <th>mfcc</th>\n",
                            "      <th>pitch</th>\n",
                            "      <th>genero</th>\n",
                            "      <th>file</th>\n",
                            "    </tr>\n",
                            "  </thead>\n",
                            "  <tbody>\n",
                            "    <tr>\n",
                            "      <th>0</th>\n",
                            "      <td>0.075944</td>\n",
                            "      <td>-27.5</td>\n",
                            "      <td>[-4.0729132e+02  1.3076346e+02 -3.0420111e+01 ...</td>\n",
                            "      <td>111.111716</td>\n",
                            "      <td>femenino</td>\n",
                            "      <td>hyacinthe-lovo-v3.wav</td>\n",
                            "    </tr>\n",
                            "    <tr>\n",
                            "      <th>1</th>\n",
                            "      <td>0.093035</td>\n",
                            "      <td>-27.0</td>\n",
                            "      <td>[-424.61664     138.61742     -14.495688     3...</td>\n",
                            "      <td>101.312090</td>\n",
                            "      <td>femenino</td>\n",
                            "      <td>lola-murf.wav</td>\n",
                            "    </tr>\n",
                            "    <tr>\n",
                            "      <th>2</th>\n",
                            "      <td>0.093043</td>\n",
                            "      <td>-22.5</td>\n",
                            "      <td>[-3.71418152e+02  1.31561859e+02 -1.60284328e+...</td>\n",
                            "      <td>76.492752</td>\n",
                            "      <td>masculino</td>\n",
                            "      <td>neural2B-GCP.wav</td>\n",
                            "    </tr>\n",
                            "    <tr>\n",
                            "      <th>3</th>\n",
                            "      <td>0.098051</td>\n",
                            "      <td>-22.0</td>\n",
                            "      <td>[-3.4943588e+02  1.2940279e+02 -1.8956478e+01 ...</td>\n",
                            "      <td>68.726911</td>\n",
                            "      <td>masculino</td>\n",
                            "      <td>alonso-naturalreader.wav</td>\n",
                            "    </tr>\n",
                            "    <tr>\n",
                            "      <th>4</th>\n",
                            "      <td>0.105458</td>\n",
                            "      <td>-21.5</td>\n",
                            "      <td>[-3.5115176e+02  1.1943483e+02 -1.9279911e+01 ...</td>\n",
                            "      <td>69.045778</td>\n",
                            "      <td>masculino</td>\n",
                            "      <td>antonio-murf.wav</td>\n",
                            "    </tr>\n",
                            "  </tbody>\n",
                            "</table>\n",
                            "</div>"
                        ],
                        "text/plain": [
                            "   zero_crossing_rate   rms   \n",
                            "0            0.075944 -27.5  \\\n",
                            "1            0.093035 -27.0   \n",
                            "2            0.093043 -22.5   \n",
                            "3            0.098051 -22.0   \n",
                            "4            0.105458 -21.5   \n",
                            "\n",
                            "                                                mfcc       pitch     genero   \n",
                            "0  [-4.0729132e+02  1.3076346e+02 -3.0420111e+01 ...  111.111716   femenino  \\\n",
                            "1  [-424.61664     138.61742     -14.495688     3...  101.312090   femenino   \n",
                            "2  [-3.71418152e+02  1.31561859e+02 -1.60284328e+...   76.492752  masculino   \n",
                            "3  [-3.4943588e+02  1.2940279e+02 -1.8956478e+01 ...   68.726911  masculino   \n",
                            "4  [-3.5115176e+02  1.1943483e+02 -1.9279911e+01 ...   69.045778  masculino   \n",
                            "\n",
                            "                       file  \n",
                            "0     hyacinthe-lovo-v3.wav  \n",
                            "1             lola-murf.wav  \n",
                            "2          neural2B-GCP.wav  \n",
                            "3  alonso-naturalreader.wav  \n",
                            "4          antonio-murf.wav  "
                        ]
                    },
                    "execution_count": 4,
                    "metadata": {},
                    "output_type": "execute_result"
                }
            ],
            "source": [
                "obj_params.head()"
            ]
        },
        {
            "cell_type": "code",
            "execution_count": 5,
            "metadata": {},
            "outputs": [],
            "source": [
                "df_union = pd.merge(\n",
                "    merged_df,\n",
                "    obj_params,\n",
                "    how='left',\n",
                "    left_on='filename',\n",
                "    right_on='file'\n",
                ").drop(columns=['file'])"
            ]
        },
        {
            "cell_type": "code",
            "execution_count": 6,
            "metadata": {},
            "outputs": [],
            "source": [
                "df_union.rename(\n",
                "    columns={\n",
                "        'zero_crossing_rate': 'zcr',\n",
                "        'pitch': 'f0'\n",
                "    },\n",
                "    inplace=True\n",
                ")"
            ]
        },
        {
            "cell_type": "code",
            "execution_count": 7,
            "metadata": {},
            "outputs": [
                {
                    "data": {
                        "text/html": [
                            "<div>\n",
                            "<style scoped>\n",
                            "    .dataframe tbody tr th:only-of-type {\n",
                            "        vertical-align: middle;\n",
                            "    }\n",
                            "\n",
                            "    .dataframe tbody tr th {\n",
                            "        vertical-align: top;\n",
                            "    }\n",
                            "\n",
                            "    .dataframe thead th {\n",
                            "        text-align: right;\n",
                            "    }\n",
                            "</style>\n",
                            "<table border=\"1\" class=\"dataframe\">\n",
                            "  <thead>\n",
                            "    <tr style=\"text-align: right;\">\n",
                            "      <th></th>\n",
                            "      <th>ID</th>\n",
                            "      <th>filename</th>\n",
                            "      <th>Inteligibilidad</th>\n",
                            "      <th>Pronunciacion</th>\n",
                            "      <th>Acentuacion</th>\n",
                            "      <th>Naturalidad</th>\n",
                            "      <th>Cadencia</th>\n",
                            "      <th>zcr</th>\n",
                            "      <th>rms</th>\n",
                            "      <th>mfcc</th>\n",
                            "      <th>f0</th>\n",
                            "      <th>genero</th>\n",
                            "    </tr>\n",
                            "  </thead>\n",
                            "  <tbody>\n",
                            "    <tr>\n",
                            "      <th>0</th>\n",
                            "      <td>1</td>\n",
                            "      <td>alonso-naturalreader.wav</td>\n",
                            "      <td>4.900000</td>\n",
                            "      <td>4.641026</td>\n",
                            "      <td>4.500</td>\n",
                            "      <td>2.925</td>\n",
                            "      <td>3.900</td>\n",
                            "      <td>0.098051</td>\n",
                            "      <td>-22.0</td>\n",
                            "      <td>[-3.4943588e+02  1.2940279e+02 -1.8956478e+01 ...</td>\n",
                            "      <td>68.726911</td>\n",
                            "      <td>masculino</td>\n",
                            "    </tr>\n",
                            "    <tr>\n",
                            "      <th>1</th>\n",
                            "      <td>2</td>\n",
                            "      <td>hyacinthe-lovo-v3.wav</td>\n",
                            "      <td>4.975000</td>\n",
                            "      <td>4.641026</td>\n",
                            "      <td>4.525</td>\n",
                            "      <td>4.100</td>\n",
                            "      <td>4.175</td>\n",
                            "      <td>0.075944</td>\n",
                            "      <td>-27.5</td>\n",
                            "      <td>[-4.0729132e+02  1.3076346e+02 -3.0420111e+01 ...</td>\n",
                            "      <td>111.111716</td>\n",
                            "      <td>femenino</td>\n",
                            "    </tr>\n",
                            "    <tr>\n",
                            "      <th>2</th>\n",
                            "      <td>3</td>\n",
                            "      <td>neural2C-pitchmodified-speedmodified.wav</td>\n",
                            "      <td>4.447368</td>\n",
                            "      <td>3.882353</td>\n",
                            "      <td>2.900</td>\n",
                            "      <td>1.675</td>\n",
                            "      <td>1.675</td>\n",
                            "      <td>0.251626</td>\n",
                            "      <td>-25.0</td>\n",
                            "      <td>[-4.4141333e+02  8.9362648e+01 -1.2164741e+01 ...</td>\n",
                            "      <td>98.468505</td>\n",
                            "      <td>masculino</td>\n",
                            "    </tr>\n",
                            "    <tr>\n",
                            "      <th>3</th>\n",
                            "      <td>4</td>\n",
                            "      <td>francisca-lovo-v2.wav</td>\n",
                            "      <td>4.625000</td>\n",
                            "      <td>4.297297</td>\n",
                            "      <td>4.225</td>\n",
                            "      <td>2.975</td>\n",
                            "      <td>3.750</td>\n",
                            "      <td>0.137822</td>\n",
                            "      <td>-26.1</td>\n",
                            "      <td>[-454.8679      72.41395    -14.8625145   45.9...</td>\n",
                            "      <td>116.353345</td>\n",
                            "      <td>femenino</td>\n",
                            "    </tr>\n",
                            "    <tr>\n",
                            "      <th>4</th>\n",
                            "      <td>5</td>\n",
                            "      <td>antoni-evenlabs-linguistico-v2.wav</td>\n",
                            "      <td>4.550000</td>\n",
                            "      <td>4.142857</td>\n",
                            "      <td>3.200</td>\n",
                            "      <td>1.825</td>\n",
                            "      <td>1.600</td>\n",
                            "      <td>0.239188</td>\n",
                            "      <td>-24.0</td>\n",
                            "      <td>[-406.19888     84.30505    -12.89493     18.8...</td>\n",
                            "      <td>78.968152</td>\n",
                            "      <td>masculino</td>\n",
                            "    </tr>\n",
                            "  </tbody>\n",
                            "</table>\n",
                            "</div>"
                        ],
                        "text/plain": [
                            "   ID                                  filename  Inteligibilidad   \n",
                            "0   1                  alonso-naturalreader.wav         4.900000  \\\n",
                            "1   2                     hyacinthe-lovo-v3.wav         4.975000   \n",
                            "2   3  neural2C-pitchmodified-speedmodified.wav         4.447368   \n",
                            "3   4                     francisca-lovo-v2.wav         4.625000   \n",
                            "4   5        antoni-evenlabs-linguistico-v2.wav         4.550000   \n",
                            "\n",
                            "   Pronunciacion  Acentuacion  Naturalidad  Cadencia       zcr   rms   \n",
                            "0       4.641026        4.500        2.925     3.900  0.098051 -22.0  \\\n",
                            "1       4.641026        4.525        4.100     4.175  0.075944 -27.5   \n",
                            "2       3.882353        2.900        1.675     1.675  0.251626 -25.0   \n",
                            "3       4.297297        4.225        2.975     3.750  0.137822 -26.1   \n",
                            "4       4.142857        3.200        1.825     1.600  0.239188 -24.0   \n",
                            "\n",
                            "                                                mfcc          f0     genero  \n",
                            "0  [-3.4943588e+02  1.2940279e+02 -1.8956478e+01 ...   68.726911  masculino  \n",
                            "1  [-4.0729132e+02  1.3076346e+02 -3.0420111e+01 ...  111.111716   femenino  \n",
                            "2  [-4.4141333e+02  8.9362648e+01 -1.2164741e+01 ...   98.468505  masculino  \n",
                            "3  [-454.8679      72.41395    -14.8625145   45.9...  116.353345   femenino  \n",
                            "4  [-406.19888     84.30505    -12.89493     18.8...   78.968152  masculino  "
                        ]
                    },
                    "execution_count": 7,
                    "metadata": {},
                    "output_type": "execute_result"
                }
            ],
            "source": [
                "df_union.head()"
            ]
        },
        {
            "attachments": {},
            "cell_type": "markdown",
            "metadata": {},
            "source": [
                "## SelectorFeature"
            ]
        },
        {
            "cell_type": "code",
            "execution_count": 8,
            "metadata": {},
            "outputs": [],
            "source": [
                "from sklearn.pipeline import make_pipeline\n",
                "from sklearn.preprocessing import StandardScaler\n",
                "from sklearn.neighbors import KNeighborsRegressor\n",
                "from mlxtend.feature_selection import SequentialFeatureSelector\n",
                "from sklearn.utils import check_random_state\n",
                "from sklearn.model_selection import permutation_test_score\n",
                "from sklearn.svm import SVR"
            ]
        },
        {
            "attachments": {},
            "cell_type": "markdown",
            "metadata": {},
            "source": [
                "### Inteligibilidad"
            ]
        },
        {
            "cell_type": "code",
            "execution_count": 9,
            "metadata": {},
            "outputs": [],
            "source": [
                "df_inteligibilidad = df_union.loc[:, ['Inteligibilidad', 'zcr', 'rms', 'f0', 'genero']]"
            ]
        },
        {
            "attachments": {},
            "cell_type": "markdown",
            "metadata": {},
            "source": [
                "#### Masculino"
            ]
        },
        {
            "cell_type": "code",
            "execution_count": 10,
            "metadata": {},
            "outputs": [],
            "source": [
                "mask_gender = df_inteligibilidad.genero == 'masculino'\n",
                "\n",
                "df_inteligibilidad_male = df_inteligibilidad[mask_gender].drop(columns=['genero'])"
            ]
        },
        {
            "cell_type": "code",
            "execution_count": 11,
            "metadata": {},
            "outputs": [
                {
                    "name": "stdout",
                    "output_type": "stream",
                    "text": [
                        "Características seleccionadas: (2,)\n"
                    ]
                }
            ],
            "source": [
                "# Cargamos los datos\n",
                "X = np.array(df_inteligibilidad_male.drop(columns=['Inteligibilidad'])) # df_objetivos es el DataFrame con los parámetros objetivos\n",
                "y = np.array(df_inteligibilidad_male.Inteligibilidad) # df_subjetivos es el DataFrame con los parámetros subjetivos\n",
                "\n",
                "# Creamos el modelo de regresión kNN\n",
                "regr_multivar = SVR(kernel='linear')\n",
                "\n",
                "# Creamos el selector de características hacia adelante\n",
                "forward_selector = SequentialFeatureSelector(regr_multivar, k_features='best', forward=True, scoring='neg_mean_squared_error')\n",
                "\n",
                "# Entrenamos el selector de características\n",
                "forward_selector.fit(X, y)\n",
                "\n",
                "# Obtenemos las características seleccionadas\n",
                "selected_features = forward_selector.k_feature_idx_\n",
                "\n",
                "# Imprimimos las características seleccionadas\n",
                "print('Características seleccionadas:', selected_features)\n"
            ]
        },
        {
            "cell_type": "code",
            "execution_count": 12,
            "metadata": {},
            "outputs": [
                {
                    "name": "stdout",
                    "output_type": "stream",
                    "text": [
                        "ZCR p-valor: 0.008991008991008992\n",
                        "RMS p-valor: 0.14485514485514486\n",
                        "f0 p-valor: 0.08491508491508491\n"
                    ]
                }
            ],
            "source": [
                "# Establecemos la semilla aleatoria para reproducibilidad\n",
                "random_state = check_random_state(0)\n",
                "\n",
                "p_values = []\n",
                "\n",
                "for i in range(X.shape[1]):\n",
                "    \n",
                "    # Seleccionamos solo una columna en X\n",
                "    X_single = X[:, i].reshape(-1, 1)\n",
                "    \n",
                "    # Aplicamos la prueba de permutación\n",
                "    score, permutation_scores, pvalue = permutation_test_score(regr_multivar, X_single, y, scoring='neg_mean_squared_error', cv=5, n_permutations=1000, random_state=random_state)\n",
                "    \n",
                "    p_values.append(pvalue)\n",
                "\n",
                "    # Imprimimos el p-valor\n",
                "    if i == 0:\n",
                "        var = 'ZCR'\n",
                "    elif i == 1:\n",
                "        var = 'RMS'\n",
                "    else:\n",
                "        var = 'f0'\n",
                "    print(f'{var} p-valor:', pvalue)\n"
            ]
        },
        {
            "cell_type": "code",
            "execution_count": 13,
            "metadata": {},
            "outputs": [],
            "source": [
                "# Dicc auxiliar con los nombres asociadas a las variables\n",
                "dicc_names_features = {\n",
                "    'zcr_model': 0,\n",
                "    'rms_model': 1,\n",
                "    'f0_model': 2\n",
                "}\n",
                "\n",
                "# Dicc de los modelos\n",
                "dicc_model = {}\n",
                "\n",
                "# Dicc de las predicciones\n",
                "dicc_pred = {}\n",
                "\n",
                "for selected_feature in selected_features:\n",
                "    # Entrenamos el modelo de regresión con las características seleccionadas\n",
                "    regr_multivar = SVR(kernel='linear')\n",
                "    regr_multivar.fit(X[:, selected_feature].reshape(-1, 1), y.ravel())\n",
                "\n",
                "    # Almacenamos en dicc_model la clave asociada al modelo que se entrenó y el objeto modelo\n",
                "    for key, value in dicc_names_features.items():\n",
                "        if value == selected_feature:\n",
                "            dicc_model[key] = regr_multivar\n",
                "\n",
                "    # Obtenemos las predicciones del modelo para las características seleccionadas\n",
                "    y_pred = regr_multivar.predict(X[:, selected_feature].reshape(-1, 1))\n",
                "\n",
                "    # Almacenamos en dicc_pred la clave asociada al modelo que se entrenó y la predicción\n",
                "    for key, value in dicc_names_features.items():\n",
                "        if value == selected_feature:\n",
                "            dicc_pred[key] = y_pred\n"
            ]
        },
        {
            "cell_type": "code",
            "execution_count": 23,
            "metadata": {},
            "outputs": [
                {
                    "name": "stdout",
                    "output_type": "stream",
                    "text": [
                        "y = -0.02 * $f_{0}$ + 5.86 - p-valor = 0.085\n"
                    ]
                }
            ],
            "source": [
                "list_equ = []\n",
                "\n",
                "for key, model in dicc_model.items():\n",
                "    # Obtenemos los valores de w y b\n",
                "    w = model.coef_[0][0]\n",
                "    b = model.intercept_[0]\n",
                "    \n",
                "    label = key.replace(\"_model\", \"\")\n",
                "    if label == 'f0':\n",
                "        label = r'$f_{0}$'\n",
                "    else:\n",
                "        label = label.upper()\n",
                "\n",
                "    # Construimos la cadena de texto para la ecuación del hiperplano y su p-valor\n",
                "    equation = f'y = {w:.2f} * {label} + {b:.2f} - p-valor = {p_values[dicc_names_features[key]]:.3f}'\n",
                "\n",
                "    # Agregamos la cadena a la lista\n",
                "    list_equ.append(equation)\n",
                "\n",
                "# Mostramos el resultado\n",
                "for equ in list_equ:\n",
                "    print(equ)\n"
            ]
        },
        {
            "cell_type": "code",
            "execution_count": 24,
            "metadata": {},
            "outputs": [
                {
                    "data": {
                        "image/png": "[encoded data removed]",
                        "text/plain": [
                            "<Figure size 600x400 with 1 Axes>"
                        ]
                    },
                    "metadata": {},
                    "output_type": "display_data"
                }
            ],
            "source": [
                "dims = (6 * len(dicc_model), 4)\n",
                "fig, ax = plt.subplots(figsize=dims, ncols=len(dicc_model))\n",
                "\n",
                "with sns.axes_style('darkgrid'):\n",
                "    for i, (key, model) in enumerate(dicc_model.items()):\n",
                "        if isinstance(ax, np.ndarray):\n",
                "            ax_i = ax[i]\n",
                "        else:\n",
                "            ax_i = ax\n",
                "        label = key.replace(\"_model\", \"\")\n",
                "        if label == 'f0':\n",
                "            label = r'$f_{0}$'\n",
                "        else:\n",
                "            label = label.upper()\n",
                "        g = sns.scatterplot(x=X[:, dicc_names_features[key]], y=y, ax=ax_i, color='blue')\n",
                "        g = sns.lineplot(x=X[:, dicc_names_features[key]], y=dicc_pred[key], ax=ax_i, color='red')\n",
                "        g.text(0.5, -0.1, label, weight='bold', size='large', family='Arial', stretch='extra-expanded', ha='center', va='top', transform=g.transAxes)\n",
                "        g.set_ylabel('Inteligibilidad', weight='bold', size='large', alpha=0.8, family='Arial', stretch='extra-expanded')\n",
                "        g.set_title(list_equ[i], weight='bold', size='x-large', alpha=0.8, family='Arial', stretch='extra-expanded')\n",
                "        g.grid(alpha=0.7)\n",
                "        ax_i.set_ylim(0, 6)\n",
                "\n",
                "    plt.tight_layout()\n",
                "    # plt.savefig(os.path.join(PATH, TEST_FOLDER, GRAPH_FOLDER, 'regresiones_inteligibilidad.png'))\n",
                "    plt.show()\n"
            ]
        },
        {
            "cell_type": "code",
            "execution_count": null,
            "metadata": {},
            "outputs": [],
            "source": [
                "if len(dicc_model) == 2:\n",
                "    import plotly.express as px\n",
                "    import plotly.graph_objects as go\n",
                "\n",
                "    # Seleccionamos solo las características seleccionadas en X\n",
                "    X_selected = X[:, selected_features]\n",
                "\n",
                "    # Entrenamos el modelo de regresión con las características seleccionadas\n",
                "    regr_multivar = SVR(kernel='linear')\n",
                "    regr_multivar.fit(X_selected, y)\n",
                "\n",
                "    # Obtenemos las predicciones del modelo para las características seleccionadas\n",
                "    y_pred = regr_multivar.predict(X_selected)\n",
                "\n",
                "    # Crear la figura\n",
                "    fig = px.scatter_3d(x=X_selected[:, 0], y=X_selected[:, 1], z=y)\n",
                "\n",
                "    # Crear el plano de regresión\n",
                "    xx, yy = np.meshgrid(X_selected[:, 0], X_selected[:, 1])\n",
                "    zz = regr_multivar.intercept_ + np.dot(np.array([xx.ravel(), yy.ravel()]).T, regr_multivar.coef_.ravel()).reshape(xx.shape)\n",
                "    fig.add_trace(go.Surface(x=xx, y=yy, z=zz, opacity=0.5))\n",
                "\n",
                "    # Construir la cadena de texto para la ecuación del plano\n",
                "    equation = f'z = {regr_multivar.intercept_[0].round(2)}'\n",
                "    for i, (key, model) in enumerate(dicc_model.items()):\n",
                "        equation += f' + {regr_multivar.coef_[0][i].round(2)} * {key.replace(\"_model\", \"\")}'\n",
                "    \n",
                "    # Centrar el título\n",
                "    fig.update_layout(title=dict(text=equation, x=0.5, xanchor='center'))\n",
                "\n",
                "    # Etiquetas de los ejes y rango del eje z\n",
                "    fig.update_layout(scene=dict(xaxis_title=list(dicc_model.keys())[0].replace(\"_model\", \"\"), yaxis_title=list(dicc_model.keys())[1].replace(\"_model\", \"\"), zaxis_title='Inteligibilidad', zaxis=dict(range=[0, 6])))\n",
                "\n",
                "    # fig.write_html(os.path.join(PATH, TEST_FOLDER, GRAPH_FOLDER,'regresion_inteligibilidad_multivariable.html'))\n",
                "\n",
                "    fig.show()\n"
            ]
        },
        {
            "attachments": {},
            "cell_type": "markdown",
            "metadata": {},
            "source": [
                "#### Femenino"
            ]
        },
        {
            "cell_type": "code",
            "execution_count": 29,
            "metadata": {},
            "outputs": [],
            "source": [
                "mask_gender = df_inteligibilidad.genero == 'femenino'\n",
                "\n",
                "df_inteligibilidad_female = df_inteligibilidad[mask_gender].drop(columns=['genero'])"
            ]
        },
        {
            "cell_type": "code",
            "execution_count": 30,
            "metadata": {},
            "outputs": [
                {
                    "name": "stdout",
                    "output_type": "stream",
                    "text": [
                        "Características seleccionadas: (0, 1)\n"
                    ]
                }
            ],
            "source": [
                "# Cargamos los datos\n",
                "X = np.array(df_inteligibilidad_female.drop(columns=['Inteligibilidad'])) # df_objetivos es el DataFrame con los parámetros objetivos\n",
                "y = np.array(df_inteligibilidad_female.Inteligibilidad) # df_subjetivos es el DataFrame con los parámetros subjetivos\n",
                "\n",
                "# Creamos el modelo de regresión kNN\n",
                "regr_multivar = SVR(kernel='linear')\n",
                "\n",
                "# Creamos el selector de características hacia adelante\n",
                "forward_selector = SequentialFeatureSelector(regr_multivar, k_features='best', forward=True, scoring='neg_mean_squared_error')\n",
                "\n",
                "# Entrenamos el selector de características\n",
                "forward_selector.fit(X, y)\n",
                "\n",
                "# Obtenemos las características seleccionadas\n",
                "selected_features = forward_selector.k_feature_idx_\n",
                "\n",
                "# Imprimimos las características seleccionadas\n",
                "print('Características seleccionadas:', selected_features)\n"
            ]
        },
        {
            "cell_type": "code",
            "execution_count": 31,
            "metadata": {},
            "outputs": [
                {
                    "name": "stdout",
                    "output_type": "stream",
                    "text": [
                        "ZCR p-valor: 0.04195804195804196\n",
                        "RMS p-valor: 0.04595404595404595\n",
                        "f0 p-valor: 0.2017982017982018\n"
                    ]
                }
            ],
            "source": [
                "# Establecemos la semilla aleatoria para reproducibilidad\n",
                "random_state = check_random_state(0)\n",
                "\n",
                "p_values = []\n",
                "\n",
                "for i in range(X.shape[1]):\n",
                "    \n",
                "    # Seleccionamos solo una columna en X\n",
                "    X_single = X[:, i].reshape(-1, 1)\n",
                "    \n",
                "    # Aplicamos la prueba de permutación\n",
                "    score, permutation_scores, pvalue = permutation_test_score(regr_multivar, X_single, y, scoring='neg_mean_squared_error', cv=5, n_permutations=1000, random_state=random_state)\n",
                "    \n",
                "    p_values.append(pvalue)\n",
                "\n",
                "    # Imprimimos el p-valor\n",
                "    if i == 0:\n",
                "        var = 'ZCR'\n",
                "    elif i == 1:\n",
                "        var = 'RMS'\n",
                "    else:\n",
                "        var = 'f0'\n",
                "    print(f'{var} p-valor:', pvalue)\n"
            ]
        },
        {
            "cell_type": "code",
            "execution_count": 32,
            "metadata": {},
            "outputs": [],
            "source": [
                "# Dicc auxiliar con los nombres asociadas a las variables\n",
                "dicc_names_features = {\n",
                "    'zcr_model': 0,\n",
                "    'rms_model': 1,\n",
                "    'f0_model': 2\n",
                "}\n",
                "\n",
                "# Dicc de los modelos\n",
                "dicc_model = {}\n",
                "\n",
                "# Dicc de las predicciones\n",
                "dicc_pred = {}\n",
                "\n",
                "for selected_feature in selected_features:\n",
                "    # Entrenamos el modelo de regresión con las características seleccionadas\n",
                "    regr_multivar = SVR(kernel='linear')\n",
                "    regr_multivar.fit(X[:, selected_feature].reshape(-1, 1), y.ravel())\n",
                "\n",
                "    # Almacenamos en dicc_model la clave asociada al modelo que se entrenó y el objeto modelo\n",
                "    for key, value in dicc_names_features.items():\n",
                "        if value == selected_feature:\n",
                "            dicc_model[key] = regr_multivar\n",
                "\n",
                "    # Obtenemos las predicciones del modelo para las características seleccionadas\n",
                "    y_pred = regr_multivar.predict(X[:, selected_feature].reshape(-1, 1))\n",
                "\n",
                "    # Almacenamos en dicc_pred la clave asociada al modelo que se entrenó y la predicción\n",
                "    for key, value in dicc_names_features.items():\n",
                "        if value == selected_feature:\n",
                "            dicc_pred[key] = y_pred\n"
            ]
        },
        {
            "cell_type": "code",
            "execution_count": 33,
            "metadata": {},
            "outputs": [
                {
                    "name": "stdout",
                    "output_type": "stream",
                    "text": [
                        "y = -0.26 * ZCR + 4.78 - p-valor = 0.042\n",
                        "y = 0.10 * RMS + 7.50 - p-valor = 0.046\n"
                    ]
                }
            ],
            "source": [
                "list_equ = []\n",
                "\n",
                "for key, model in dicc_model.items():\n",
                "    # Obtenemos los valores de w y b\n",
                "    w = model.coef_[0][0]\n",
                "    b = model.intercept_[0]\n",
                "    \n",
                "    label = key.replace(\"_model\", \"\")\n",
                "    if label == 'f0':\n",
                "        label = r'$f_{0}$'\n",
                "    else:\n",
                "        label = label.upper()\n",
                "\n",
                "    # Construimos la cadena de texto para la ecuación del hiperplano y su p-valor\n",
                "    equation = f'y = {w:.2f} * {label} + {b:.2f} - p-valor = {p_values[dicc_names_features[key]]:.3f}'\n",
                "\n",
                "    # Agregamos la cadena a la lista\n",
                "    list_equ.append(equation)\n",
                "\n",
                "# Mostramos el resultado\n",
                "for equ in list_equ:\n",
                "    print(equ)\n"
            ]
        },
        {
            "cell_type": "code",
            "execution_count": 34,
            "metadata": {},
            "outputs": [
                {
                    "data": {
                        "image/png": "[encoded data removed]",
                        "text/plain": [
                            "<Figure size 1200x400 with 2 Axes>"
                        ]
                    },
                    "metadata": {},
                    "output_type": "display_data"
                }
            ],
            "source": [
                "dims = (6 * len(dicc_model), 4)\n",
                "fig, ax = plt.subplots(figsize=dims, ncols=len(dicc_model))\n",
                "\n",
                "with sns.axes_style('darkgrid'):\n",
                "    for i, (key, model) in enumerate(dicc_model.items()):\n",
                "        if isinstance(ax, np.ndarray):\n",
                "            ax_i = ax[i]\n",
                "        else:\n",
                "            ax_i = ax\n",
                "        label = key.replace(\"_model\", \"\")\n",
                "        if label == 'f0':\n",
                "            label = r'$f_{0}$'\n",
                "        else:\n",
                "            label = label.upper()\n",
                "        g = sns.scatterplot(x=X[:, dicc_names_features[key]], y=y, ax=ax_i, color='blue')\n",
                "        g = sns.lineplot(x=X[:, dicc_names_features[key]], y=dicc_pred[key], ax=ax_i, color='red')\n",
                "        g.text(0.5, -0.1, label, weight='bold', size='large', family='Arial', stretch='extra-expanded', ha='center', va='top', transform=g.transAxes)\n",
                "        g.set_ylabel('Inteligibilidad', weight='bold', size='large', alpha=0.8, family='Arial', stretch='extra-expanded')\n",
                "        g.set_title(list_equ[i], weight='bold', size='x-large', alpha=0.8, family='Arial', stretch='extra-expanded')\n",
                "        g.grid(alpha=0.7)\n",
                "        ax_i.set_ylim(0, 6)\n",
                "\n",
                "    plt.tight_layout()\n",
                "    # plt.savefig(os.path.join(PATH, TEST_FOLDER, GRAPH_FOLDER, 'regresiones_inteligibilidad.png'))\n",
                "    plt.show()\n"
            ]
        },
        {
            "cell_type": "code",
            "execution_count": 36,
            "metadata": {},
            "outputs": [
                {
                    "data": {
                        "application/vnd.plotly.v1+json": {
                            "config": {
                                "plotlyServerURL": "https://plot.ly"
                            },
                            "data": [
                                {
                                    "hovertemplate": "x=%{x}<br>y=%{y}<br>z=%{z}<extra></extra>",
                                    "legendgroup": "",
                                    "marker": {
                                        "color": "#636efa",
                                        "symbol": "circle"
                                    },
                                    "mode": "markers",
                                    "name": "",
                                    "scene": "scene",
                                    "showlegend": false,
                                    "type": "scatter3d",
                                    "x": [
                                        0.0759442551691729,
                                        0.137821937674907,
                                        0.0930354148829909,
                                        0.235632177146084,
                                        0.204357250316723,
                                        0.181163131359012,
                                        0.147759976291133,
                                        0.116977757195017,
                                        0.232525432279325,
                                        0.173409231085526
                                    ],
                                    "y": [
                                        -27.5,
                                        -26.1,
                                        -27,
                                        -30,
                                        -29,
                                        -28.5,
                                        -25.5,
                                        -26.5,
                                        -29.5,
                                        -28
                                    ],
                                    "z": [
                                        4.975,
                                        4.625,
                                        4.9,
                                        4.4,
                                        4.5,
                                        4.65,
                                        4.875,
                                        4.725,
                                        4.65,
                                        4.8
                                    ]
                                },
                                {
                                    "opacity": 0.5,
                                    "type": "surface",
                                    "x": [
                                        [
                                            0.0759442551691729,
                                            0.137821937674907,
                                            0.0930354148829909,
                                            0.235632177146084,
                                            0.204357250316723,
                                            0.181163131359012,
                                            0.147759976291133,
                                            0.116977757195017,
                                            0.232525432279325,
                                            0.173409231085526
                                        ],
                                        [
                                            0.0759442551691729,
                                            0.137821937674907,
                                            0.0930354148829909,
                                            0.235632177146084,
                                            0.204357250316723,
                                            0.181163131359012,
                                            0.147759976291133,
                                            0.116977757195017,
                                            0.232525432279325,
                                            0.173409231085526
                                        ],
                                        [
                                            0.0759442551691729,
                                            0.137821937674907,
                                            0.0930354148829909,
                                            0.235632177146084,
                                            0.204357250316723,
                                            0.181163131359012,
                                            0.147759976291133,
                                            0.116977757195017,
                                            0.232525432279325,
                                            0.173409231085526
                                        ],
                                        [
                                            0.0759442551691729,
                                            0.137821937674907,
                                            0.0930354148829909,
                                            0.235632177146084,
                                            0.204357250316723,
                                            0.181163131359012,
                                            0.147759976291133,
                                            0.116977757195017,
                                            0.232525432279325,
                                            0.173409231085526
                                        ],
                                        [
                                            0.0759442551691729,
                                            0.137821937674907,
                                            0.0930354148829909,
                                            0.235632177146084,
                                            0.204357250316723,
                                            0.181163131359012,
                                            0.147759976291133,
                                            0.116977757195017,
                                            0.232525432279325,
                                            0.173409231085526
                                        ],
                                        [
                                            0.0759442551691729,
                                            0.137821937674907,
                                            0.0930354148829909,
                                            0.235632177146084,
                                            0.204357250316723,
                                            0.181163131359012,
                                            0.147759976291133,
                                            0.116977757195017,
                                            0.232525432279325,
                                            0.173409231085526
                                        ],
                                        [
                                            0.0759442551691729,
                                            0.137821937674907,
                                            0.0930354148829909,
                                            0.235632177146084,
                                            0.204357250316723,
                                            0.181163131359012,
                                            0.147759976291133,
                                            0.116977757195017,
                                            0.232525432279325,
                                            0.173409231085526
                                        ],
                                        [
                                            0.0759442551691729,
                                            0.137821937674907,
                                            0.0930354148829909,
                                            0.235632177146084,
                                            0.204357250316723,
                                            0.181163131359012,
                                            0.147759976291133,
                                            0.116977757195017,
                                            0.232525432279325,
                                            0.173409231085526
                                        ],
                                        [
                                            0.0759442551691729,
                                            0.137821937674907,
                                            0.0930354148829909,
                                            0.235632177146084,
                                            0.204357250316723,
                                            0.181163131359012,
                                            0.147759976291133,
                                            0.116977757195017,
                                            0.232525432279325,
                                            0.173409231085526
                                        ],
                                        [
                                            0.0759442551691729,
                                            0.137821937674907,
                                            0.0930354148829909,
                                            0.235632177146084,
                                            0.204357250316723,
                                            0.181163131359012,
                                            0.147759976291133,
                                            0.116977757195017,
                                            0.232525432279325,
                                            0.173409231085526
                                        ]
                                    ],
                                    "y": [
                                        [
                                            -27.5,
                                            -27.5,
                                            -27.5,
                                            -27.5,
                                            -27.5,
                                            -27.5,
                                            -27.5,
                                            -27.5,
                                            -27.5,
                                            -27.5
                                        ],
                                        [
                                            -26.1,
                                            -26.1,
                                            -26.1,
                                            -26.1,
                                            -26.1,
                                            -26.1,
                                            -26.1,
                                            -26.1,
                                            -26.1,
                                            -26.1
                                        ],
                                        [
                                            -27,
                                            -27,
                                            -27,
                                            -27,
                                            -27,
                                            -27,
                                            -27,
                                            -27,
                                            -27,
                                            -27
                                        ],
                                        [
                                            -30,
                                            -30,
                                            -30,
                                            -30,
                                            -30,
                                            -30,
                                            -30,
                                            -30,
                                            -30,
                                            -30
                                        ],
                                        [
                                            -29,
                                            -29,
                                            -29,
                                            -29,
                                            -29,
                                            -29,
                                            -29,
                                            -29,
                                            -29,
                                            -29
                                        ],
                                        [
                                            -28.5,
                                            -28.5,
                                            -28.5,
                                            -28.5,
                                            -28.5,
                                            -28.5,
                                            -28.5,
                                            -28.5,
                                            -28.5,
                                            -28.5
                                        ],
                                        [
                                            -25.5,
                                            -25.5,
                                            -25.5,
                                            -25.5,
                                            -25.5,
                                            -25.5,
                                            -25.5,
                                            -25.5,
                                            -25.5,
                                            -25.5
                                        ],
                                        [
                                            -26.5,
                                            -26.5,
                                            -26.5,
                                            -26.5,
                                            -26.5,
                                            -26.5,
                                            -26.5,
                                            -26.5,
                                            -26.5,
                                            -26.5
                                        ],
                                        [
                                            -29.5,
                                            -29.5,
                                            -29.5,
                                            -29.5,
                                            -29.5,
                                            -29.5,
                                            -29.5,
                                            -29.5,
                                            -29.5,
                                            -29.5
                                        ],
                                        [
                                            -28,
                                            -28,
                                            -28,
                                            -28,
                                            -28,
                                            -28,
                                            -28,
                                            -28,
                                            -28,
                                            -28
                                        ]
                                    ],
                                    "z": [
                                        [
                                            4.755521467972326,
                                            4.746391849479414,
                                            4.752999787109858,
                                            4.731960633976319,
                                            4.736575030294723,
                                            4.739997160031782,
                                            4.7449255615148385,
                                            4.7494672622594765,
                                            4.732419012413258,
                                            4.741141193687575
                                        ],
                                        [
                                            4.883096657134027,
                                            4.873967038641115,
                                            4.880574976271559,
                                            4.859535823138021,
                                            4.864150219456425,
                                            4.867572349193484,
                                            4.87250075067654,
                                            4.877042451421177,
                                            4.85999420157496,
                                            4.868716382849277
                                        ],
                                        [
                                            4.801084035530076,
                                            4.791954417037164,
                                            4.798562354667609,
                                            4.77752320153407,
                                            4.782137597852474,
                                            4.785559727589533,
                                            4.790488129072589,
                                            4.795029829817227,
                                            4.777981579971009,
                                            4.786703761245326
                                        ],
                                        [
                                            4.527708630183573,
                                            4.518579011690662,
                                            4.525186949321106,
                                            4.504147796187567,
                                            4.508762192505971,
                                            4.51218432224303,
                                            4.517112723726086,
                                            4.521654424470724,
                                            4.504606174624506,
                                            4.513328355898823
                                        ],
                                        [
                                            4.618833765299074,
                                            4.609704146806163,
                                            4.616312084436607,
                                            4.595272931303068,
                                            4.599887327621472,
                                            4.603309457358531,
                                            4.608237858841587,
                                            4.612779559586225,
                                            4.595731309740007,
                                            4.604453491014324
                                        ],
                                        [
                                            4.664396332856825,
                                            4.655266714363913,
                                            4.661874651994357,
                                            4.6408354988608185,
                                            4.6454498951792225,
                                            4.648872024916281,
                                            4.6538004263993376,
                                            4.6583421271439756,
                                            4.641293877297757,
                                            4.650016058572074
                                        ],
                                        [
                                            4.9377717382033275,
                                            4.928642119710416,
                                            4.93525005734086,
                                            4.914210904207321,
                                            4.918825300525725,
                                            4.922247430262784,
                                            4.92717583174584,
                                            4.931717532490478,
                                            4.91466928264426,
                                            4.923391463918577
                                        ],
                                        [
                                            4.846646603087827,
                                            4.837516984594915,
                                            4.844124922225359,
                                            4.82308576909182,
                                            4.827700165410224,
                                            4.831122295147283,
                                            4.836050696630339,
                                            4.840592397374977,
                                            4.823544147528759,
                                            4.832266328803076
                                        ],
                                        [
                                            4.573271197741324,
                                            4.564141579248412,
                                            4.570749516878856,
                                            4.549710363745318,
                                            4.5543247600637216,
                                            4.5577468898007805,
                                            4.562675291283837,
                                            4.567216992028475,
                                            4.550168742182256,
                                            4.558890923456573
                                        ],
                                        [
                                            4.709958900414575,
                                            4.7008292819216635,
                                            4.707437219552108,
                                            4.686398066418569,
                                            4.691012462736973,
                                            4.694434592474032,
                                            4.699362993957088,
                                            4.703904694701726,
                                            4.686856444855508,
                                            4.695578626129825
                                        ]
                                    ]
                                }
                            ],
                            "layout": {
                                "legend": {
                                    "tracegroupgap": 0
                                },
                                "margin": {
                                    "t": 60
                                },
                                "scene": {
                                    "domain": {
                                        "x": [
                                            0,
                                            1
                                        ],
                                        "y": [
                                            0,
                                            1
                                        ]
                                    },
                                    "xaxis": {
                                        "title": {
                                            "text": "zcr"
                                        }
                                    },
                                    "yaxis": {
                                        "tickvals": [
                                            -28,
                                            -26,
                                            -24,
                                            -22
                                        ],
                                        "title": {
                                            "text": "rms"
                                        }
                                    },
                                    "zaxis": {
                                        "range": [
                                            0,
                                            6
                                        ],
                                        "title": {
                                            "text": "Inteligibilidad"
                                        }
                                    }
                                },
                                "template": {
                                    "data": {
                                        "bar": [
                                            {
                                                "error_x": {
                                                    "color": "#2a3f5f"
                                                },
                                                "error_y": {
                                                    "color": "#2a3f5f"
                                                },
                                                "marker": {
                                                    "line": {
                                                        "color": "#E5ECF6",
                                                        "width": 0.5
                                                    },
                                                    "pattern": {
                                                        "fillmode": "overlay",
                                                        "size": 10,
                                                        "solidity": 0.2
                                                    }
                                                },
                                                "type": "bar"
                                            }
                                        ],
                                        "barpolar": [
                                            {
                                                "marker": {
                                                    "line": {
                                                        "color": "#E5ECF6",
                                                        "width": 0.5
                                                    },
                                                    "pattern": {
                                                        "fillmode": "overlay",
                                                        "size": 10,
                                                        "solidity": 0.2
                                                    }
                                                },
                                                "type": "barpolar"
                                            }
                                        ],
                                        "carpet": [
                                            {
                                                "aaxis": {
                                                    "endlinecolor": "#2a3f5f",
                                                    "gridcolor": "white",
                                                    "linecolor": "white",
                                                    "minorgridcolor": "white",
                                                    "startlinecolor": "#2a3f5f"
                                                },
                                                "baxis": {
                                                    "endlinecolor": "#2a3f5f",
                                                    "gridcolor": "white",
                                                    "linecolor": "white",
                                                    "minorgridcolor": "white",
                                                    "startlinecolor": "#2a3f5f"
                                                },
                                                "type": "carpet"
                                            }
                                        ],
                                        "choropleth": [
                                            {
                                                "colorbar": {
                                                    "outlinewidth": 0,
                                                    "ticks": ""
                                                },
                                                "type": "choropleth"
                                            }
                                        ],
                                        "contour": [
                                            {
                                                "colorbar": {
                                                    "outlinewidth": 0,
                                                    "ticks": ""
                                                },
                                                "colorscale": [
                                                    [
                                                        0,
                                                        "#0d0887"
                                                    ],
                                                    [
                                                        0.1111111111111111,
                                                        "#46039f"
                                                    ],
                                                    [
                                                        0.2222222222222222,
                                                        "#7201a8"
                                                    ],
                                                    [
                                                        0.3333333333333333,
                                                        "#9c179e"
                                                    ],
                                                    [
                                                        0.4444444444444444,
                                                        "#bd3786"
                                                    ],
                                                    [
                                                        0.5555555555555556,
                                                        "#d8576b"
                                                    ],
                                                    [
                                                        0.6666666666666666,
                                                        "#ed7953"
                                                    ],
                                                    [
                                                        0.7777777777777778,
                                                        "#fb9f3a"
                                                    ],
                                                    [
                                                        0.8888888888888888,
                                                        "#fdca26"
                                                    ],
                                                    [
                                                        1,
                                                        "#f0f921"
                                                    ]
                                                ],
                                                "type": "contour"
                                            }
                                        ],
                                        "contourcarpet": [
                                            {
                                                "colorbar": {
                                                    "outlinewidth": 0,
                                                    "ticks": ""
                                                },
                                                "type": "contourcarpet"
                                            }
                                        ],
                                        "heatmap": [
                                            {
                                                "colorbar": {
                                                    "outlinewidth": 0,
                                                    "ticks": ""
                                                },
                                                "colorscale": [
                                                    [
                                                        0,
                                                        "#0d0887"
                                                    ],
                                                    [
                                                        0.1111111111111111,
                                                        "#46039f"
                                                    ],
                                                    [
                                                        0.2222222222222222,
                                                        "#7201a8"
                                                    ],
                                                    [
                                                        0.3333333333333333,
                                                        "#9c179e"
                                                    ],
                                                    [
                                                        0.4444444444444444,
                                                        "#bd3786"
                                                    ],
                                                    [
                                                        0.5555555555555556,
                                                        "#d8576b"
                                                    ],
                                                    [
                                                        0.6666666666666666,
                                                        "#ed7953"
                                                    ],
                                                    [
                                                        0.7777777777777778,
                                                        "#fb9f3a"
                                                    ],
                                                    [
                                                        0.8888888888888888,
                                                        "#fdca26"
                                                    ],
                                                    [
                                                        1,
                                                        "#f0f921"
                                                    ]
                                                ],
                                                "type": "heatmap"
                                            }
                                        ],
                                        "heatmapgl": [
                                            {
                                                "colorbar": {
                                                    "outlinewidth": 0,
                                                    "ticks": ""
                                                },
                                                "colorscale": [
                                                    [
                                                        0,
                                                        "#0d0887"
                                                    ],
                                                    [
                                                        0.1111111111111111,
                                                        "#46039f"
                                                    ],
                                                    [
                                                        0.2222222222222222,
                                                        "#7201a8"
                                                    ],
                                                    [
                                                        0.3333333333333333,
                                                        "#9c179e"
                                                    ],
                                                    [
                                                        0.4444444444444444,
                                                        "#bd3786"
                                                    ],
                                                    [
                                                        0.5555555555555556,
                                                        "#d8576b"
                                                    ],
                                                    [
                                                        0.6666666666666666,
                                                        "#ed7953"
                                                    ],
                                                    [
                                                        0.7777777777777778,
                                                        "#fb9f3a"
                                                    ],
                                                    [
                                                        0.8888888888888888,
                                                        "#fdca26"
                                                    ],
                                                    [
                                                        1,
                                                        "#f0f921"
                                                    ]
                                                ],
                                                "type": "heatmapgl"
                                            }
                                        ],
                                        "histogram": [
                                            {
                                                "marker": {
                                                    "pattern": {
                                                        "fillmode": "overlay",
                                                        "size": 10,
                                                        "solidity": 0.2
                                                    }
                                                },
                                                "type": "histogram"
                                            }
                                        ],
                                        "histogram2d": [
                                            {
                                                "colorbar": {
                                                    "outlinewidth": 0,
                                                    "ticks": ""
                                                },
                                                "colorscale": [
                                                    [
                                                        0,
                                                        "#0d0887"
                                                    ],
                                                    [
                                                        0.1111111111111111,
                                                        "#46039f"
                                                    ],
                                                    [
                                                        0.2222222222222222,
                                                        "#7201a8"
                                                    ],
                                                    [
                                                        0.3333333333333333,
                                                        "#9c179e"
                                                    ],
                                                    [
                                                        0.4444444444444444,
                                                        "#bd3786"
                                                    ],
                                                    [
                                                        0.5555555555555556,
                                                        "#d8576b"
                                                    ],
                                                    [
                                                        0.6666666666666666,
                                                        "#ed7953"
                                                    ],
                                                    [
                                                        0.7777777777777778,
                                                        "#fb9f3a"
                                                    ],
                                                    [
                                                        0.8888888888888888,
                                                        "#fdca26"
                                                    ],
                                                    [
                                                        1,
                                                        "#f0f921"
                                                    ]
                                                ],
                                                "type": "histogram2d"
                                            }
                                        ],
                                        "histogram2dcontour": [
                                            {
                                                "colorbar": {
                                                    "outlinewidth": 0,
                                                    "ticks": ""
                                                },
                                                "colorscale": [
                                                    [
                                                        0,
                                                        "#0d0887"
                                                    ],
                                                    [
                                                        0.1111111111111111,
                                                        "#46039f"
                                                    ],
                                                    [
                                                        0.2222222222222222,
                                                        "#7201a8"
                                                    ],
                                                    [
                                                        0.3333333333333333,
                                                        "#9c179e"
                                                    ],
                                                    [
                                                        0.4444444444444444,
                                                        "#bd3786"
                                                    ],
                                                    [
                                                        0.5555555555555556,
                                                        "#d8576b"
                                                    ],
                                                    [
                                                        0.6666666666666666,
                                                        "#ed7953"
                                                    ],
                                                    [
                                                        0.7777777777777778,
                                                        "#fb9f3a"
                                                    ],
                                                    [
                                                        0.8888888888888888,
                                                        "#fdca26"
                                                    ],
                                                    [
                                                        1,
                                                        "#f0f921"
                                                    ]
                                                ],
                                                "type": "histogram2dcontour"
                                            }
                                        ],
                                        "mesh3d": [
                                            {
                                                "colorbar": {
                                                    "outlinewidth": 0,
                                                    "ticks": ""
                                                },
                                                "type": "mesh3d"
                                            }
                                        ],
                                        "parcoords": [
                                            {
                                                "line": {
                                                    "colorbar": {
                                                        "outlinewidth": 0,
                                                        "ticks": ""
                                                    }
                                                },
                                                "type": "parcoords"
                                            }
                                        ],
                                        "pie": [
                                            {
                                                "automargin": true,
                                                "type": "pie"
                                            }
                                        ],
                                        "scatter": [
                                            {
                                                "fillpattern": {
                                                    "fillmode": "overlay",
                                                    "size": 10,
                                                    "solidity": 0.2
                                                },
                                                "type": "scatter"
                                            }
                                        ],
                                        "scatter3d": [
                                            {
                                                "line": {
                                                    "colorbar": {
                                                        "outlinewidth": 0,
                                                        "ticks": ""
                                                    }
                                                },
                                                "marker": {
                                                    "colorbar": {
                                                        "outlinewidth": 0,
                                                        "ticks": ""
                                                    }
                                                },
                                                "type": "scatter3d"
                                            }
                                        ],
                                        "scattercarpet": [
                                            {
                                                "marker": {
                                                    "colorbar": {
                                                        "outlinewidth": 0,
                                                        "ticks": ""
                                                    }
                                                },
                                                "type": "scattercarpet"
                                            }
                                        ],
                                        "scattergeo": [
                                            {
                                                "marker": {
                                                    "colorbar": {
                                                        "outlinewidth": 0,
                                                        "ticks": ""
                                                    }
                                                },
                                                "type": "scattergeo"
                                            }
                                        ],
                                        "scattergl": [
                                            {
                                                "marker": {
                                                    "colorbar": {
                                                        "outlinewidth": 0,
                                                        "ticks": ""
                                                    }
                                                },
                                                "type": "scattergl"
                                            }
                                        ],
                                        "scattermapbox": [
                                            {
                                                "marker": {
                                                    "colorbar": {
                                                        "outlinewidth": 0,
                                                        "ticks": ""
                                                    }
                                                },
                                                "type": "scattermapbox"
                                            }
                                        ],
                                        "scatterpolar": [
                                            {
                                                "marker": {
                                                    "colorbar": {
                                                        "outlinewidth": 0,
                                                        "ticks": ""
                                                    }
                                                },
                                                "type": "scatterpolar"
                                            }
                                        ],
                                        "scatterpolargl": [
                                            {
                                                "marker": {
                                                    "colorbar": {
                                                        "outlinewidth": 0,
                                                        "ticks": ""
                                                    }
                                                },
                                                "type": "scatterpolargl"
                                            }
                                        ],
                                        "scatterternary": [
                                            {
                                                "marker": {
                                                    "colorbar": {
                                                        "outlinewidth": 0,
                                                        "ticks": ""
                                                    }
                                                },
                                                "type": "scatterternary"
                                            }
                                        ],
                                        "surface": [
                                            {
                                                "colorbar": {
                                                    "outlinewidth": 0,
                                                    "ticks": ""
                                                },
                                                "colorscale": [
                                                    [
                                                        0,
                                                        "#0d0887"
                                                    ],
                                                    [
                                                        0.1111111111111111,
                                                        "#46039f"
                                                    ],
                                                    [
                                                        0.2222222222222222,
                                                        "#7201a8"
                                                    ],
                                                    [
                                                        0.3333333333333333,
                                                        "#9c179e"
                                                    ],
                                                    [
                                                        0.4444444444444444,
                                                        "#bd3786"
                                                    ],
                                                    [
                                                        0.5555555555555556,
                                                        "#d8576b"
                                                    ],
                                                    [
                                                        0.6666666666666666,
                                                        "#ed7953"
                                                    ],
                                                    [
                                                        0.7777777777777778,
                                                        "#fb9f3a"
                                                    ],
                                                    [
                                                        0.8888888888888888,
                                                        "#fdca26"
                                                    ],
                                                    [
                                                        1,
                                                        "#f0f921"
                                                    ]
                                                ],
                                                "type": "surface"
                                            }
                                        ],
                                        "table": [
                                            {
                                                "cells": {
                                                    "fill": {
                                                        "color": "#EBF0F8"
                                                    },
                                                    "line": {
                                                        "color": "white"
                                                    }
                                                },
                                                "header": {
                                                    "fill": {
                                                        "color": "#C8D4E3"
                                                    },
                                                    "line": {
                                                        "color": "white"
                                                    }
                                                },
                                                "type": "table"
                                            }
                                        ]
                                    },
                                    "layout": {
                                        "annotationdefaults": {
                                            "arrowcolor": "#2a3f5f",
                                            "arrowhead": 0,
                                            "arrowwidth": 1
                                        },
                                        "autotypenumbers": "strict",
                                        "coloraxis": {
                                            "colorbar": {
                                                "outlinewidth": 0,
                                                "ticks": ""
                                            }
                                        },
                                        "colorscale": {
                                            "diverging": [
                                                [
                                                    0,
                                                    "#8e0152"
                                                ],
                                                [
                                                    0.1,
                                                    "#c51b7d"
                                                ],
                                                [
                                                    0.2,
                                                    "#de77ae"
                                                ],
                                                [
                                                    0.3,
                                                    "#f1b6da"
                                                ],
                                                [
                                                    0.4,
                                                    "#fde0ef"
                                                ],
                                                [
                                                    0.5,
                                                    "#f7f7f7"
                                                ],
                                                [
                                                    0.6,
                                                    "#e6f5d0"
                                                ],
                                                [
                                                    0.7,
                                                    "#b8e186"
                                                ],
                                                [
                                                    0.8,
                                                    "#7fbc41"
                                                ],
                                                [
                                                    0.9,
                                                    "#4d9221"
                                                ],
                                                [
                                                    1,
                                                    "#276419"
                                                ]
                                            ],
                                            "sequential": [
                                                [
                                                    0,
                                                    "#0d0887"
                                                ],
                                                [
                                                    0.1111111111111111,
                                                    "#46039f"
                                                ],
                                                [
                                                    0.2222222222222222,
                                                    "#7201a8"
                                                ],
                                                [
                                                    0.3333333333333333,
                                                    "#9c179e"
                                                ],
                                                [
                                                    0.4444444444444444,
                                                    "#bd3786"
                                                ],
                                                [
                                                    0.5555555555555556,
                                                    "#d8576b"
                                                ],
                                                [
                                                    0.6666666666666666,
                                                    "#ed7953"
                                                ],
                                                [
                                                    0.7777777777777778,
                                                    "#fb9f3a"
                                                ],
                                                [
                                                    0.8888888888888888,
                                                    "#fdca26"
                                                ],
                                                [
                                                    1,
                                                    "#f0f921"
                                                ]
                                            ],
                                            "sequentialminus": [
                                                [
                                                    0,
                                                    "#0d0887"
                                                ],
                                                [
                                                    0.1111111111111111,
                                                    "#46039f"
                                                ],
                                                [
                                                    0.2222222222222222,
                                                    "#7201a8"
                                                ],
                                                [
                                                    0.3333333333333333,
                                                    "#9c179e"
                                                ],
                                                [
                                                    0.4444444444444444,
                                                    "#bd3786"
                                                ],
                                                [
                                                    0.5555555555555556,
                                                    "#d8576b"
                                                ],
                                                [
                                                    0.6666666666666666,
                                                    "#ed7953"
                                                ],
                                                [
                                                    0.7777777777777778,
                                                    "#fb9f3a"
                                                ],
                                                [
                                                    0.8888888888888888,
                                                    "#fdca26"
                                                ],
                                                [
                                                    1,
                                                    "#f0f921"
                                                ]
                                            ]
                                        },
                                        "colorway": [
                                            "#636efa",
                                            "#EF553B",
                                            "#00cc96",
                                            "#ab63fa",
                                            "#FFA15A",
                                            "#19d3f3",
                                            "#FF6692",
                                            "#B6E880",
                                            "#FF97FF",
                                            "#FECB52"
                                        ],
                                        "font": {
                                            "color": "#2a3f5f"
                                        },
                                        "geo": {
                                            "bgcolor": "white",
                                            "lakecolor": "white",
                                            "landcolor": "#E5ECF6",
                                            "showlakes": true,
                                            "showland": true,
                                            "subunitcolor": "white"
                                        },
                                        "hoverlabel": {
                                            "align": "left"
                                        },
                                        "hovermode": "closest",
                                        "mapbox": {
                                            "style": "light"
                                        },
                                        "paper_bgcolor": "white",
                                        "plot_bgcolor": "#E5ECF6",
                                        "polar": {
                                            "angularaxis": {
                                                "gridcolor": "white",
                                                "linecolor": "white",
                                                "ticks": ""
                                            },
                                            "bgcolor": "#E5ECF6",
                                            "radialaxis": {
                                                "gridcolor": "white",
                                                "linecolor": "white",
                                                "ticks": ""
                                            }
                                        },
                                        "scene": {
                                            "xaxis": {
                                                "backgroundcolor": "#E5ECF6",
                                                "gridcolor": "white",
                                                "gridwidth": 2,
                                                "linecolor": "white",
                                                "showbackground": true,
                                                "ticks": "",
                                                "zerolinecolor": "white"
                                            },
                                            "yaxis": {
                                                "backgroundcolor": "#E5ECF6",
                                                "gridcolor": "white",
                                                "gridwidth": 2,
                                                "linecolor": "white",
                                                "showbackground": true,
                                                "ticks": "",
                                                "zerolinecolor": "white"
                                            },
                                            "zaxis": {
                                                "backgroundcolor": "#E5ECF6",
                                                "gridcolor": "white",
                                                "gridwidth": 2,
                                                "linecolor": "white",
                                                "showbackground": true,
                                                "ticks": "",
                                                "zerolinecolor": "white"
                                            }
                                        },
                                        "shapedefaults": {
                                            "line": {
                                                "color": "#2a3f5f"
                                            }
                                        },
                                        "ternary": {
                                            "aaxis": {
                                                "gridcolor": "white",
                                                "linecolor": "white",
                                                "ticks": ""
                                            },
                                            "baxis": {
                                                "gridcolor": "white",
                                                "linecolor": "white",
                                                "ticks": ""
                                            },
                                            "bgcolor": "#E5ECF6",
                                            "caxis": {
                                                "gridcolor": "white",
                                                "linecolor": "white",
                                                "ticks": ""
                                            }
                                        },
                                        "title": {
                                            "x": 0.05
                                        },
                                        "xaxis": {
                                            "automargin": true,
                                            "gridcolor": "white",
                                            "linecolor": "white",
                                            "ticks": "",
                                            "title": {
                                                "standoff": 15
                                            },
                                            "zerolinecolor": "white",
                                            "zerolinewidth": 2
                                        },
                                        "yaxis": {
                                            "automargin": true,
                                            "gridcolor": "white",
                                            "linecolor": "white",
                                            "ticks": "",
                                            "title": {
                                                "standoff": 15
                                            },
                                            "zerolinecolor": "white",
                                            "zerolinewidth": 2
                                        }
                                    }
                                },
                                "title": {
                                    "text": "z = 7.27 + -0.15 * zcr + 0.09 * rms",
                                    "x": 0.5,
                                    "xanchor": "center"
                                }
                            }
                        }
                    },
                    "metadata": {},
                    "output_type": "display_data"
                }
            ],
            "source": [
                "if len(dicc_model) == 2:\n",
                "    import plotly.express as px\n",
                "    import plotly.graph_objects as go\n",
                "\n",
                "    # Seleccionamos solo las características seleccionadas en X\n",
                "    X_selected = X[:, selected_features]\n",
                "\n",
                "    # Entrenamos el modelo de regresión con las características seleccionadas\n",
                "    regr_multivar = SVR(kernel='linear')\n",
                "    regr_multivar.fit(X_selected, y)\n",
                "\n",
                "    # Obtenemos las predicciones del modelo para las características seleccionadas\n",
                "    y_pred = regr_multivar.predict(X_selected)\n",
                "\n",
                "    # Crear la figura\n",
                "    fig = px.scatter_3d(x=X_selected[:, 0], y=X_selected[:, 1], z=y)\n",
                "\n",
                "    # Crear el plano de regresión\n",
                "    xx, yy = np.meshgrid(X_selected[:, 0], X_selected[:, 1])\n",
                "    zz = regr_multivar.intercept_ + np.dot(np.array([xx.ravel(), yy.ravel()]).T, regr_multivar.coef_.ravel()).reshape(xx.shape)\n",
                "    fig.add_trace(go.Surface(x=xx, y=yy, z=zz, opacity=0.5))\n",
                "\n",
                "    # Construir la cadena de texto para la ecuación del plano\n",
                "    equation = f'z = {regr_multivar.intercept_[0].round(2)}'\n",
                "    for i, (key, model) in enumerate(dicc_model.items()):\n",
                "        equation += f' + {regr_multivar.coef_[0][i].round(2)} * {key.replace(\"_model\", \"\")}'\n",
                "    \n",
                "    # Centrar el título\n",
                "    fig.update_layout(title=dict(text=equation, x=0.5, xanchor='center'))\n",
                "\n",
                "    # Etiquetas de los ejes y rango del eje z\n",
                "    fig.update_layout(scene=dict(xaxis_title=list(dicc_model.keys())[0].replace(\"_model\", \"\"), yaxis_title=list(dicc_model.keys())[1].replace(\"_model\", \"\"), zaxis_title='Inteligibilidad', zaxis=dict(range=[0, 6]), yaxis=dict(tickvals=[-28, -26, -24, -22])))\n",
                "\n",
                "    # fig.write_html(os.path.join(PATH, TEST_FOLDER, GRAPH_FOLDER,'regresion_inteligibilidad_multivariable.html'))\n",
                "\n",
                "    fig.show()\n"
            ]
        }
    ],
    "metadata": {
        "kernelspec": {
            "display_name": "venv",
            "language": "python",
            "name": "python3"
        },
        "language_info": {
            "codemirror_mode": {
                "name": "ipython",
                "version": 3
            },
            "file_extension": ".py",
            "mimetype": "text/x-python",
            "name": "python",
            "nbconvert_exporter": "python",
            "pygments_lexer": "ipython3",
            "version": "3.10.11"
        },
        "orig_nbformat": 4
    },
    "nbformat": 4,
    "nbformat_minor": 2
}
