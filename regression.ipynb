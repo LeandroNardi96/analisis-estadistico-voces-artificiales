{
 "cells": [
  {
   "cell_type": "code",
   "execution_count": 1,
   "id": "17795b15",
   "metadata": {
    "execution": {
     "iopub.execute_input": "2023-06-11T00:32:16.591003Z",
     "iopub.status.busy": "2023-06-11T00:32:16.590005Z",
     "iopub.status.idle": "2023-06-11T00:32:19.702873Z",
     "shell.execute_reply": "2023-06-11T00:32:19.699872Z"
    },
    "papermill": {
     "duration": 3.142111,
     "end_time": "2023-06-11T00:32:19.706876",
     "exception": false,
     "start_time": "2023-06-11T00:32:16.564765",
     "status": "completed"
    },
    "tags": []
   },
   "outputs": [],
   "source": [
    "import pandas as pd\n",
    "import numpy as np\n",
    "from matplotlib import pyplot as plt\n",
    "from scipy.stats import mannwhitneyu\n",
    "import re\n",
    "import os\n",
    "import seaborn as sns\n",
    "from matplotlib import cm, colors"
   ]
  },
  {
   "cell_type": "code",
   "execution_count": 2,
   "id": "a3e117cb",
   "metadata": {},
   "outputs": [],
   "source": [
    "PATH = os.getcwd()\n",
    "TEST_FOLDER = 'test-result'\n",
    "REGGRESSION_FOLDER = 'regressions'\n",
    "ACENTUACION_FOLDER = 'Acentuacion'\n",
    "CADENCIA_FOLDER = 'Cadencia'\n",
    "INTELIGIBILIDAD_FOLDER = 'Inteligibilidad'\n",
    "NATURALIDAD_FOLDER = 'Naturalidad'\n",
    "PRONUNCIACION_FOLDER = 'Pronunciacion'\n",
    "MALE_FOLDER = 'masculino'\n",
    "FEMALE_FOLDER = 'femenino'"
   ]
  },
  {
   "cell_type": "code",
   "execution_count": 3,
   "id": "bb52d572",
   "metadata": {
    "execution": {
     "iopub.execute_input": "2023-06-11T00:32:19.792874Z",
     "iopub.status.busy": "2023-06-11T00:32:19.790876Z",
     "iopub.status.idle": "2023-06-11T00:32:19.853916Z",
     "shell.execute_reply": "2023-06-11T00:32:19.851912Z"
    },
    "papermill": {
     "duration": 0.116012,
     "end_time": "2023-06-11T00:32:19.857913",
     "exception": false,
     "start_time": "2023-06-11T00:32:19.741901",
     "status": "completed"
    },
    "tags": []
   },
   "outputs": [],
   "source": [
    "merged_df = pd.read_csv(r'aux_file\\data_regression.csv')"
   ]
  },
  {
   "cell_type": "code",
   "execution_count": 4,
   "id": "2a1bdb65",
   "metadata": {
    "execution": {
     "iopub.execute_input": "2023-06-11T00:32:19.938882Z",
     "iopub.status.busy": "2023-06-11T00:32:19.936882Z",
     "iopub.status.idle": "2023-06-11T00:32:20.234998Z",
     "shell.execute_reply": "2023-06-11T00:32:20.234998Z"
    },
    "papermill": {
     "duration": 0.355743,
     "end_time": "2023-06-11T00:32:20.250629",
     "exception": false,
     "start_time": "2023-06-11T00:32:19.894886",
     "status": "completed"
    },
    "tags": []
   },
   "outputs": [],
   "source": [
    "obj_params = pd.read_excel('voces_test_rms.ods')"
   ]
  },
  {
   "cell_type": "code",
   "execution_count": 5,
   "id": "45d42bb4",
   "metadata": {
    "execution": {
     "iopub.execute_input": "2023-06-11T00:32:20.328488Z",
     "iopub.status.busy": "2023-06-11T00:32:20.327490Z",
     "iopub.status.idle": "2023-06-11T00:32:20.369186Z",
     "shell.execute_reply": "2023-06-11T00:32:20.369186Z"
    },
    "papermill": {
     "duration": 0.087311,
     "end_time": "2023-06-11T00:32:20.369186",
     "exception": false,
     "start_time": "2023-06-11T00:32:20.281875",
     "status": "completed"
    },
    "tags": []
   },
   "outputs": [
    {
     "data": {
      "text/html": [
       "<div>\n",
       "<style scoped>\n",
       "    .dataframe tbody tr th:only-of-type {\n",
       "        vertical-align: middle;\n",
       "    }\n",
       "\n",
       "    .dataframe tbody tr th {\n",
       "        vertical-align: top;\n",
       "    }\n",
       "\n",
       "    .dataframe thead th {\n",
       "        text-align: right;\n",
       "    }\n",
       "</style>\n",
       "<table border=\"1\" class=\"dataframe\">\n",
       "  <thead>\n",
       "    <tr style=\"text-align: right;\">\n",
       "      <th></th>\n",
       "      <th>zero_crossing_rate</th>\n",
       "      <th>rms</th>\n",
       "      <th>mfcc</th>\n",
       "      <th>pitch</th>\n",
       "      <th>genero</th>\n",
       "      <th>file</th>\n",
       "    </tr>\n",
       "  </thead>\n",
       "  <tbody>\n",
       "    <tr>\n",
       "      <th>0</th>\n",
       "      <td>0.075944</td>\n",
       "      <td>-27.5</td>\n",
       "      <td>[-4.0729132e+02  1.3076346e+02 -3.0420111e+01 ...</td>\n",
       "      <td>111.111716</td>\n",
       "      <td>femenino</td>\n",
       "      <td>hyacinthe-lovo-v3.wav</td>\n",
       "    </tr>\n",
       "    <tr>\n",
       "      <th>1</th>\n",
       "      <td>0.093035</td>\n",
       "      <td>-27.0</td>\n",
       "      <td>[-424.61664     138.61742     -14.495688     3...</td>\n",
       "      <td>101.312090</td>\n",
       "      <td>femenino</td>\n",
       "      <td>lola-murf.wav</td>\n",
       "    </tr>\n",
       "    <tr>\n",
       "      <th>2</th>\n",
       "      <td>0.093043</td>\n",
       "      <td>-22.5</td>\n",
       "      <td>[-3.71418152e+02  1.31561859e+02 -1.60284328e+...</td>\n",
       "      <td>76.492752</td>\n",
       "      <td>masculino</td>\n",
       "      <td>neural2B-GCP.wav</td>\n",
       "    </tr>\n",
       "    <tr>\n",
       "      <th>3</th>\n",
       "      <td>0.098051</td>\n",
       "      <td>-22.0</td>\n",
       "      <td>[-3.4943588e+02  1.2940279e+02 -1.8956478e+01 ...</td>\n",
       "      <td>68.726911</td>\n",
       "      <td>masculino</td>\n",
       "      <td>alonso-naturalreader.wav</td>\n",
       "    </tr>\n",
       "    <tr>\n",
       "      <th>4</th>\n",
       "      <td>0.105458</td>\n",
       "      <td>-21.5</td>\n",
       "      <td>[-3.5115176e+02  1.1943483e+02 -1.9279911e+01 ...</td>\n",
       "      <td>69.045778</td>\n",
       "      <td>masculino</td>\n",
       "      <td>antonio-murf.wav</td>\n",
       "    </tr>\n",
       "  </tbody>\n",
       "</table>\n",
       "</div>"
      ],
      "text/plain": [
       "   zero_crossing_rate   rms   \n",
       "0            0.075944 -27.5  \\\n",
       "1            0.093035 -27.0   \n",
       "2            0.093043 -22.5   \n",
       "3            0.098051 -22.0   \n",
       "4            0.105458 -21.5   \n",
       "\n",
       "                                                mfcc       pitch     genero   \n",
       "0  [-4.0729132e+02  1.3076346e+02 -3.0420111e+01 ...  111.111716   femenino  \\\n",
       "1  [-424.61664     138.61742     -14.495688     3...  101.312090   femenino   \n",
       "2  [-3.71418152e+02  1.31561859e+02 -1.60284328e+...   76.492752  masculino   \n",
       "3  [-3.4943588e+02  1.2940279e+02 -1.8956478e+01 ...   68.726911  masculino   \n",
       "4  [-3.5115176e+02  1.1943483e+02 -1.9279911e+01 ...   69.045778  masculino   \n",
       "\n",
       "                       file  \n",
       "0     hyacinthe-lovo-v3.wav  \n",
       "1             lola-murf.wav  \n",
       "2          neural2B-GCP.wav  \n",
       "3  alonso-naturalreader.wav  \n",
       "4          antonio-murf.wav  "
      ]
     },
     "execution_count": 5,
     "metadata": {},
     "output_type": "execute_result"
    }
   ],
   "source": [
    "obj_params.head()"
   ]
  },
  {
   "cell_type": "code",
   "execution_count": 6,
   "id": "22e415c4",
   "metadata": {
    "execution": {
     "iopub.execute_input": "2023-06-11T00:32:20.449882Z",
     "iopub.status.busy": "2023-06-11T00:32:20.448904Z",
     "iopub.status.idle": "2023-06-11T00:32:20.465878Z",
     "shell.execute_reply": "2023-06-11T00:32:20.463876Z"
    },
    "papermill": {
     "duration": 0.069441,
     "end_time": "2023-06-11T00:32:20.469877",
     "exception": false,
     "start_time": "2023-06-11T00:32:20.400436",
     "status": "completed"
    },
    "tags": []
   },
   "outputs": [],
   "source": [
    "df_union = pd.merge(\n",
    "    merged_df,\n",
    "    obj_params,\n",
    "    how='left',\n",
    "    left_on='filename',\n",
    "    right_on='file'\n",
    ").drop(columns=['file'])"
   ]
  },
  {
   "cell_type": "code",
   "execution_count": 7,
   "id": "b7f1cba5",
   "metadata": {
    "execution": {
     "iopub.execute_input": "2023-06-11T00:32:20.570381Z",
     "iopub.status.busy": "2023-06-11T00:32:20.570381Z",
     "iopub.status.idle": "2023-06-11T00:32:20.586005Z",
     "shell.execute_reply": "2023-06-11T00:32:20.586005Z"
    },
    "papermill": {
     "duration": 0.08279,
     "end_time": "2023-06-11T00:32:20.586005",
     "exception": false,
     "start_time": "2023-06-11T00:32:20.503215",
     "status": "completed"
    },
    "tags": []
   },
   "outputs": [],
   "source": [
    "df_union.rename(\n",
    "    columns={\n",
    "        'zero_crossing_rate': 'zcr',\n",
    "        'pitch': 'f0'\n",
    "    },\n",
    "    inplace=True\n",
    ")"
   ]
  },
  {
   "cell_type": "code",
   "execution_count": 8,
   "id": "fa0f3880",
   "metadata": {
    "execution": {
     "iopub.execute_input": "2023-06-11T00:32:20.680086Z",
     "iopub.status.busy": "2023-06-11T00:32:20.679061Z",
     "iopub.status.idle": "2023-06-11T00:32:20.722317Z",
     "shell.execute_reply": "2023-06-11T00:32:20.720799Z"
    },
    "papermill": {
     "duration": 0.092437,
     "end_time": "2023-06-11T00:32:20.725319",
     "exception": false,
     "start_time": "2023-06-11T00:32:20.632882",
     "status": "completed"
    },
    "tags": []
   },
   "outputs": [
    {
     "data": {
      "text/html": [
       "<div>\n",
       "<style scoped>\n",
       "    .dataframe tbody tr th:only-of-type {\n",
       "        vertical-align: middle;\n",
       "    }\n",
       "\n",
       "    .dataframe tbody tr th {\n",
       "        vertical-align: top;\n",
       "    }\n",
       "\n",
       "    .dataframe thead th {\n",
       "        text-align: right;\n",
       "    }\n",
       "</style>\n",
       "<table border=\"1\" class=\"dataframe\">\n",
       "  <thead>\n",
       "    <tr style=\"text-align: right;\">\n",
       "      <th></th>\n",
       "      <th>ID</th>\n",
       "      <th>filename</th>\n",
       "      <th>Inteligibilidad</th>\n",
       "      <th>Pronunciacion</th>\n",
       "      <th>Acentuacion</th>\n",
       "      <th>Naturalidad</th>\n",
       "      <th>Cadencia</th>\n",
       "      <th>zcr</th>\n",
       "      <th>rms</th>\n",
       "      <th>mfcc</th>\n",
       "      <th>f0</th>\n",
       "      <th>genero</th>\n",
       "    </tr>\n",
       "  </thead>\n",
       "  <tbody>\n",
       "    <tr>\n",
       "      <th>0</th>\n",
       "      <td>1</td>\n",
       "      <td>alonso-naturalreader.wav</td>\n",
       "      <td>4.900000</td>\n",
       "      <td>4.641026</td>\n",
       "      <td>4.500</td>\n",
       "      <td>2.925</td>\n",
       "      <td>3.900</td>\n",
       "      <td>0.098051</td>\n",
       "      <td>-22.0</td>\n",
       "      <td>[-3.4943588e+02  1.2940279e+02 -1.8956478e+01 ...</td>\n",
       "      <td>68.726911</td>\n",
       "      <td>masculino</td>\n",
       "    </tr>\n",
       "    <tr>\n",
       "      <th>1</th>\n",
       "      <td>2</td>\n",
       "      <td>hyacinthe-lovo-v3.wav</td>\n",
       "      <td>4.975000</td>\n",
       "      <td>4.641026</td>\n",
       "      <td>4.525</td>\n",
       "      <td>4.100</td>\n",
       "      <td>4.175</td>\n",
       "      <td>0.075944</td>\n",
       "      <td>-27.5</td>\n",
       "      <td>[-4.0729132e+02  1.3076346e+02 -3.0420111e+01 ...</td>\n",
       "      <td>111.111716</td>\n",
       "      <td>femenino</td>\n",
       "    </tr>\n",
       "    <tr>\n",
       "      <th>2</th>\n",
       "      <td>3</td>\n",
       "      <td>neural2C-pitchmodified-speedmodified.wav</td>\n",
       "      <td>4.447368</td>\n",
       "      <td>3.882353</td>\n",
       "      <td>2.900</td>\n",
       "      <td>1.675</td>\n",
       "      <td>1.675</td>\n",
       "      <td>0.251626</td>\n",
       "      <td>-25.0</td>\n",
       "      <td>[-4.4141333e+02  8.9362648e+01 -1.2164741e+01 ...</td>\n",
       "      <td>98.468505</td>\n",
       "      <td>masculino</td>\n",
       "    </tr>\n",
       "    <tr>\n",
       "      <th>3</th>\n",
       "      <td>4</td>\n",
       "      <td>francisca-lovo-v2.wav</td>\n",
       "      <td>4.625000</td>\n",
       "      <td>4.297297</td>\n",
       "      <td>4.225</td>\n",
       "      <td>2.975</td>\n",
       "      <td>3.750</td>\n",
       "      <td>0.137822</td>\n",
       "      <td>-26.1</td>\n",
       "      <td>[-454.8679      72.41395    -14.8625145   45.9...</td>\n",
       "      <td>116.353345</td>\n",
       "      <td>femenino</td>\n",
       "    </tr>\n",
       "    <tr>\n",
       "      <th>4</th>\n",
       "      <td>5</td>\n",
       "      <td>antoni-evenlabs-linguistico-v2.wav</td>\n",
       "      <td>4.550000</td>\n",
       "      <td>4.142857</td>\n",
       "      <td>3.200</td>\n",
       "      <td>1.825</td>\n",
       "      <td>1.600</td>\n",
       "      <td>0.239188</td>\n",
       "      <td>-24.0</td>\n",
       "      <td>[-406.19888     84.30505    -12.89493     18.8...</td>\n",
       "      <td>78.968152</td>\n",
       "      <td>masculino</td>\n",
       "    </tr>\n",
       "  </tbody>\n",
       "</table>\n",
       "</div>"
      ],
      "text/plain": [
       "   ID                                  filename  Inteligibilidad   \n",
       "0   1                  alonso-naturalreader.wav         4.900000  \\\n",
       "1   2                     hyacinthe-lovo-v3.wav         4.975000   \n",
       "2   3  neural2C-pitchmodified-speedmodified.wav         4.447368   \n",
       "3   4                     francisca-lovo-v2.wav         4.625000   \n",
       "4   5        antoni-evenlabs-linguistico-v2.wav         4.550000   \n",
       "\n",
       "   Pronunciacion  Acentuacion  Naturalidad  Cadencia       zcr   rms   \n",
       "0       4.641026        4.500        2.925     3.900  0.098051 -22.0  \\\n",
       "1       4.641026        4.525        4.100     4.175  0.075944 -27.5   \n",
       "2       3.882353        2.900        1.675     1.675  0.251626 -25.0   \n",
       "3       4.297297        4.225        2.975     3.750  0.137822 -26.1   \n",
       "4       4.142857        3.200        1.825     1.600  0.239188 -24.0   \n",
       "\n",
       "                                                mfcc          f0     genero  \n",
       "0  [-3.4943588e+02  1.2940279e+02 -1.8956478e+01 ...   68.726911  masculino  \n",
       "1  [-4.0729132e+02  1.3076346e+02 -3.0420111e+01 ...  111.111716   femenino  \n",
       "2  [-4.4141333e+02  8.9362648e+01 -1.2164741e+01 ...   98.468505  masculino  \n",
       "3  [-454.8679      72.41395    -14.8625145   45.9...  116.353345   femenino  \n",
       "4  [-406.19888     84.30505    -12.89493     18.8...   78.968152  masculino  "
      ]
     },
     "execution_count": 8,
     "metadata": {},
     "output_type": "execute_result"
    }
   ],
   "source": [
    "df_union.head()"
   ]
  },
  {
   "attachments": {},
   "cell_type": "markdown",
   "id": "c7108eb7",
   "metadata": {
    "papermill": {
     "duration": 0.022998,
     "end_time": "2023-06-11T00:32:20.769316",
     "exception": false,
     "start_time": "2023-06-11T00:32:20.746318",
     "status": "completed"
    },
    "tags": []
   },
   "source": [
    "## SelectorFeature"
   ]
  },
  {
   "cell_type": "code",
   "execution_count": 9,
   "id": "0574d6e5",
   "metadata": {
    "execution": {
     "iopub.execute_input": "2023-06-11T00:32:20.803673Z",
     "iopub.status.busy": "2023-06-11T00:32:20.803673Z",
     "iopub.status.idle": "2023-06-11T00:32:25.190665Z",
     "shell.execute_reply": "2023-06-11T00:32:25.190665Z"
    },
    "papermill": {
     "duration": 4.40233,
     "end_time": "2023-06-11T00:32:25.190665",
     "exception": false,
     "start_time": "2023-06-11T00:32:20.788335",
     "status": "completed"
    },
    "tags": []
   },
   "outputs": [],
   "source": [
    "from sklearn.pipeline import make_pipeline\n",
    "from sklearn.preprocessing import StandardScaler\n",
    "from sklearn.neighbors import KNeighborsRegressor\n",
    "from mlxtend.feature_selection import SequentialFeatureSelector\n",
    "from sklearn.utils import check_random_state\n",
    "from sklearn.model_selection import permutation_test_score\n",
    "from sklearn.svm import SVR"
   ]
  },
  {
   "attachments": {},
   "cell_type": "markdown",
   "id": "80a45a4d",
   "metadata": {
    "papermill": {
     "duration": 0.029786,
     "end_time": "2023-06-11T00:32:25.235878",
     "exception": false,
     "start_time": "2023-06-11T00:32:25.206092",
     "status": "completed"
    },
    "tags": []
   },
   "source": [
    "### Inteligibilidad"
   ]
  },
  {
   "cell_type": "code",
   "execution_count": 10,
   "id": "04fb2a9a",
   "metadata": {
    "execution": {
     "iopub.execute_input": "2023-06-11T00:32:25.271180Z",
     "iopub.status.busy": "2023-06-11T00:32:25.271180Z",
     "iopub.status.idle": "2023-06-11T00:32:25.286973Z",
     "shell.execute_reply": "2023-06-11T00:32:25.286973Z"
    },
    "papermill": {
     "duration": 0.030894,
     "end_time": "2023-06-11T00:32:25.286973",
     "exception": false,
     "start_time": "2023-06-11T00:32:25.256079",
     "status": "completed"
    },
    "tags": []
   },
   "outputs": [],
   "source": [
    "df_inteligibilidad = df_union.loc[:, ['Inteligibilidad', 'zcr', 'rms', 'f0', 'genero']]"
   ]
  },
  {
   "attachments": {},
   "cell_type": "markdown",
   "id": "f4e45e85",
   "metadata": {
    "papermill": {
     "duration": 0.045849,
     "end_time": "2023-06-11T00:32:25.348284",
     "exception": false,
     "start_time": "2023-06-11T00:32:25.302435",
     "status": "completed"
    },
    "tags": []
   },
   "source": [
    "#### Masculino"
   ]
  },
  {
   "cell_type": "code",
   "execution_count": 11,
   "id": "5c68b92e",
   "metadata": {
    "execution": {
     "iopub.execute_input": "2023-06-11T00:32:25.401404Z",
     "iopub.status.busy": "2023-06-11T00:32:25.400404Z",
     "iopub.status.idle": "2023-06-11T00:32:25.419403Z",
     "shell.execute_reply": "2023-06-11T00:32:25.418405Z"
    },
    "papermill": {
     "duration": 0.048127,
     "end_time": "2023-06-11T00:32:25.423410",
     "exception": false,
     "start_time": "2023-06-11T00:32:25.375283",
     "status": "completed"
    },
    "tags": []
   },
   "outputs": [],
   "source": [
    "mask_gender = df_inteligibilidad.genero == 'masculino'\n",
    "\n",
    "df_inteligibilidad_male = df_inteligibilidad[mask_gender].drop(columns=['genero'])"
   ]
  },
  {
   "cell_type": "code",
   "execution_count": 12,
   "id": "c2d8db90",
   "metadata": {
    "execution": {
     "iopub.execute_input": "2023-06-11T00:32:25.454504Z",
     "iopub.status.busy": "2023-06-11T00:32:25.454504Z",
     "iopub.status.idle": "2023-06-11T00:32:25.552900Z",
     "shell.execute_reply": "2023-06-11T00:32:25.552900Z"
    },
    "papermill": {
     "duration": 0.110493,
     "end_time": "2023-06-11T00:32:25.552900",
     "exception": false,
     "start_time": "2023-06-11T00:32:25.442407",
     "status": "completed"
    },
    "tags": []
   },
   "outputs": [
    {
     "name": "stdout",
     "output_type": "stream",
     "text": [
      "Características seleccionadas: (2,)\n"
     ]
    }
   ],
   "source": [
    "# Cargamos los datos\n",
    "X = np.array(df_inteligibilidad_male.drop(columns=['Inteligibilidad'])) # df_objetivos es el DataFrame con los parámetros objetivos\n",
    "y = np.array(df_inteligibilidad_male.Inteligibilidad) # df_subjetivos es el DataFrame con los parámetros subjetivos\n",
    "\n",
    "# Creamos el modelo de regresión kNN\n",
    "regr_multivar = SVR(kernel='linear')\n",
    "\n",
    "# Creamos el selector de características hacia adelante\n",
    "forward_selector = SequentialFeatureSelector(regr_multivar, k_features='best', forward=True, scoring='neg_mean_squared_error')\n",
    "\n",
    "# Entrenamos el selector de características\n",
    "forward_selector.fit(X, y)\n",
    "\n",
    "# Obtenemos las características seleccionadas\n",
    "selected_features = forward_selector.k_feature_idx_\n",
    "\n",
    "# Imprimimos las características seleccionadas\n",
    "print('Características seleccionadas:', selected_features)\n"
   ]
  },
  {
   "cell_type": "code",
   "execution_count": 13,
   "id": "1444c7d0",
   "metadata": {
    "execution": {
     "iopub.execute_input": "2023-06-11T00:32:25.602858Z",
     "iopub.status.busy": "2023-06-11T00:32:25.601850Z",
     "iopub.status.idle": "2023-06-11T00:32:44.870413Z",
     "shell.execute_reply": "2023-06-11T00:32:44.870413Z"
    },
    "papermill": {
     "duration": 19.301978,
     "end_time": "2023-06-11T00:32:44.870413",
     "exception": false,
     "start_time": "2023-06-11T00:32:25.568435",
     "status": "completed"
    },
    "tags": []
   },
   "outputs": [
    {
     "name": "stdout",
     "output_type": "stream",
     "text": [
      "ZCR p-valor: 0.008991008991008992\n",
      "RMS p-valor: 0.14485514485514486\n",
      "f0 p-valor: 0.08491508491508491\n"
     ]
    }
   ],
   "source": [
    "# Establecemos la semilla aleatoria para reproducibilidad\n",
    "random_state = check_random_state(0)\n",
    "\n",
    "p_values = []\n",
    "\n",
    "for i in range(X.shape[1]):\n",
    "    \n",
    "    # Seleccionamos solo una columna en X\n",
    "    X_single = X[:, i].reshape(-1, 1)\n",
    "    \n",
    "    # Aplicamos la prueba de permutación\n",
    "    score, permutation_scores, pvalue = permutation_test_score(regr_multivar, X_single, y, scoring='neg_mean_squared_error', cv=5, n_permutations=1000, random_state=random_state)\n",
    "    \n",
    "    p_values.append(pvalue)\n",
    "\n",
    "    # Imprimimos el p-valor\n",
    "    if i == 0:\n",
    "        var = 'ZCR'\n",
    "    elif i == 1:\n",
    "        var = 'RMS'\n",
    "    else:\n",
    "        var = 'f0'\n",
    "    print(f'{var} p-valor:', pvalue)\n"
   ]
  },
  {
   "cell_type": "code",
   "execution_count": 14,
   "id": "e27ea5ec",
   "metadata": {
    "execution": {
     "iopub.execute_input": "2023-06-11T00:32:44.920258Z",
     "iopub.status.busy": "2023-06-11T00:32:44.919250Z",
     "iopub.status.idle": "2023-06-11T00:32:44.935353Z",
     "shell.execute_reply": "2023-06-11T00:32:44.933415Z"
    },
    "papermill": {
     "duration": 0.052399,
     "end_time": "2023-06-11T00:32:44.938373",
     "exception": false,
     "start_time": "2023-06-11T00:32:44.885974",
     "status": "completed"
    },
    "tags": []
   },
   "outputs": [],
   "source": [
    "# Dicc auxiliar con los nombres asociadas a las variables\n",
    "dicc_names_features = {\n",
    "    'zcr_model': 0,\n",
    "    'rms_model': 1,\n",
    "    'f0_model': 2\n",
    "}\n",
    "\n",
    "# Dicc de los modelos\n",
    "dicc_model = {}\n",
    "\n",
    "# Dicc de las predicciones\n",
    "dicc_pred = {}\n",
    "\n",
    "for selected_feature in selected_features:\n",
    "    # Entrenamos el modelo de regresión con las características seleccionadas\n",
    "    regr_multivar = SVR(kernel='linear')\n",
    "    regr_multivar.fit(X[:, selected_feature].reshape(-1, 1), y.ravel())\n",
    "\n",
    "    # Almacenamos en dicc_model la clave asociada al modelo que se entrenó y el objeto modelo\n",
    "    for key, value in dicc_names_features.items():\n",
    "        if value == selected_feature:\n",
    "            dicc_model[key] = regr_multivar\n",
    "\n",
    "    # Obtenemos las predicciones del modelo para las características seleccionadas\n",
    "    y_pred = regr_multivar.predict(X[:, selected_feature].reshape(-1, 1))\n",
    "\n",
    "    # Almacenamos en dicc_pred la clave asociada al modelo que se entrenó y la predicción\n",
    "    for key, value in dicc_names_features.items():\n",
    "        if value == selected_feature:\n",
    "            dicc_pred[key] = y_pred\n"
   ]
  },
  {
   "cell_type": "code",
   "execution_count": 15,
   "id": "3eec5163",
   "metadata": {
    "execution": {
     "iopub.execute_input": "2023-06-11T00:32:45.033674Z",
     "iopub.status.busy": "2023-06-11T00:32:45.033674Z",
     "iopub.status.idle": "2023-06-11T00:32:45.049308Z",
     "shell.execute_reply": "2023-06-11T00:32:45.049308Z"
    },
    "papermill": {
     "duration": 0.07804,
     "end_time": "2023-06-11T00:32:45.049308",
     "exception": false,
     "start_time": "2023-06-11T00:32:44.971268",
     "status": "completed"
    },
    "tags": []
   },
   "outputs": [
    {
     "name": "stdout",
     "output_type": "stream",
     "text": [
      "y = -0.02 * $f_{0}$ + 5.86 - p-valor = 0.085\n"
     ]
    }
   ],
   "source": [
    "list_equ = []\n",
    "\n",
    "for key, model in dicc_model.items():\n",
    "    # Obtenemos los valores de w y b\n",
    "    w = model.coef_[0][0]\n",
    "    b = model.intercept_[0]\n",
    "    \n",
    "    label = key.replace(\"_model\", \"\")\n",
    "    if label == 'f0':\n",
    "        label = r'$f_{0}$'\n",
    "    else:\n",
    "        label = label.upper()\n",
    "\n",
    "    # Construimos la cadena de texto para la ecuación del hiperplano y su p-valor\n",
    "    equation = f'y = {w:.2f} * {label} + {b:.2f} - p-valor = {p_values[dicc_names_features[key]]:.3f}'\n",
    "\n",
    "    # Agregamos la cadena a la lista\n",
    "    list_equ.append(equation)\n",
    "\n",
    "# Mostramos el resultado\n",
    "for equ in list_equ:\n",
    "    print(equ)\n"
   ]
  },
  {
   "cell_type": "code",
   "execution_count": 16,
   "id": "8ab1366d",
   "metadata": {
    "execution": {
     "iopub.execute_input": "2023-06-11T00:32:45.197658Z",
     "iopub.status.busy": "2023-06-11T00:32:45.196660Z",
     "iopub.status.idle": "2023-06-11T00:32:45.931483Z",
     "shell.execute_reply": "2023-06-11T00:32:45.931483Z"
    },
    "papermill": {
     "duration": 0.81039,
     "end_time": "2023-06-11T00:32:45.931483",
     "exception": false,
     "start_time": "2023-06-11T00:32:45.121093",
     "status": "completed"
    },
    "tags": []
   },
   "outputs": [
    {
     "data": {
      "image/png": "[encoded data removed]",
      "text/plain": [
       "<Figure size 600x400 with 1 Axes>"
      ]
     },
     "metadata": {},
     "output_type": "display_data"
    }
   ],
   "source": [
    "dims = (6 * len(dicc_model), 4)\n",
    "fig, ax = plt.subplots(figsize=dims, ncols=len(dicc_model))\n",
    "\n",
    "with sns.axes_style('darkgrid'):\n",
    "    for i, (key, model) in enumerate(dicc_model.items()):\n",
    "        if isinstance(ax, np.ndarray):\n",
    "            ax_i = ax[i]\n",
    "        else:\n",
    "            ax_i = ax\n",
    "        label = key.replace(\"_model\", \"\")\n",
    "        if label == 'f0':\n",
    "            label = r'$f_{0}$'\n",
    "        else:\n",
    "            label = label.upper()\n",
    "        g = sns.scatterplot(x=X[:, dicc_names_features[key]], y=y, ax=ax_i, color='blue')\n",
    "        g = sns.lineplot(x=X[:, dicc_names_features[key]], y=dicc_pred[key], ax=ax_i, color='red')\n",
    "        g.text(0.5, -0.1, label, weight='bold', size='large', family='Arial', stretch='extra-expanded', ha='center', va='top', transform=g.transAxes)\n",
    "        g.set_ylabel('Inteligibilidad', weight='bold', size='large', alpha=0.8, family='Arial', stretch='extra-expanded')\n",
    "        g.set_title(list_equ[i], weight='bold', size='x-large', alpha=0.8, family='Arial', stretch='extra-expanded')\n",
    "        g.grid(alpha=0.7)\n",
    "        ax_i.set_ylim(0, 6)\n",
    "\n",
    "    plt.tight_layout()\n",
    "    plt.savefig(os.path.join(PATH, TEST_FOLDER, REGGRESSION_FOLDER, INTELIGIBILIDAD_FOLDER, MALE_FOLDER, 'regresiones_inteligibilidad_male.png'))\n",
    "    plt.show()\n"
   ]
  },
  {
   "cell_type": "code",
   "execution_count": 17,
   "id": "ede9f8e4",
   "metadata": {
    "execution": {
     "iopub.execute_input": "2023-06-11T00:32:45.981879Z",
     "iopub.status.busy": "2023-06-11T00:32:45.980857Z",
     "iopub.status.idle": "2023-06-11T00:32:45.993863Z",
     "shell.execute_reply": "2023-06-11T00:32:45.992951Z"
    },
    "papermill": {
     "duration": 0.048843,
     "end_time": "2023-06-11T00:32:45.995893",
     "exception": false,
     "start_time": "2023-06-11T00:32:45.947050",
     "status": "completed"
    },
    "tags": []
   },
   "outputs": [],
   "source": [
    "if len(dicc_model) == 2:\n",
    "    import plotly.express as px\n",
    "    import plotly.graph_objects as go\n",
    "\n",
    "    # Seleccionamos solo las características seleccionadas en X\n",
    "    X_selected = X[:, selected_features]\n",
    "\n",
    "    # Entrenamos el modelo de regresión con las características seleccionadas\n",
    "    regr_multivar = SVR(kernel='linear')\n",
    "    regr_multivar.fit(X_selected, y)\n",
    "\n",
    "    # Obtenemos las predicciones del modelo para las características seleccionadas\n",
    "    y_pred = regr_multivar.predict(X_selected)\n",
    "\n",
    "    # Crear la figura\n",
    "    fig = px.scatter_3d(x=X_selected[:, 0], y=X_selected[:, 1], z=y)\n",
    "\n",
    "    # Crear el plano de regresión\n",
    "    xx, yy = np.meshgrid(X_selected[:, 0], X_selected[:, 1])\n",
    "    zz = regr_multivar.intercept_ + np.dot(np.array([xx.ravel(), yy.ravel()]).T, regr_multivar.coef_.ravel()).reshape(xx.shape)\n",
    "    fig.add_trace(go.Surface(x=xx, y=yy, z=zz, opacity=0.5))\n",
    "\n",
    "    # Construir la cadena de texto para la ecuación del plano\n",
    "    equation = f'z = {regr_multivar.intercept_[0].round(2)}'\n",
    "    for i, (key, model) in enumerate(dicc_model.items()):\n",
    "        equation += f' + {regr_multivar.coef_[0][i].round(2)} * {key.replace(\"_model\", \"\")}'\n",
    "    \n",
    "    # Centrar el título\n",
    "    fig.update_layout(title=dict(text=equation, x=0.5, xanchor='center'))\n",
    "\n",
    "    # Etiquetas de los ejes y rango del eje z\n",
    "    fig.update_layout(scene=dict(xaxis_title=list(dicc_model.keys())[0].replace(\"_model\", \"\"), yaxis_title=list(dicc_model.keys())[1].replace(\"_model\", \"\"), zaxis_title='Inteligibilidad', zaxis=dict(range=[0, 6])))\n",
    "\n",
    "    fig.write_html(os.path.join(PATH, TEST_FOLDER, REGGRESSION_FOLDER, INTELIGIBILIDAD_FOLDER, MALE_FOLDER, 'regresion_inteligibilidad_multivariable_male.html'))\n",
    "\n",
    "    fig.show()\n"
   ]
  },
  {
   "attachments": {},
   "cell_type": "markdown",
   "id": "1246354a",
   "metadata": {
    "papermill": {
     "duration": 0.008108,
     "end_time": "2023-06-11T00:32:46.021969",
     "exception": false,
     "start_time": "2023-06-11T00:32:46.013861",
     "status": "completed"
    },
    "tags": []
   },
   "source": [
    "#### Femenino"
   ]
  },
  {
   "cell_type": "code",
   "execution_count": 18,
   "id": "7e71f571",
   "metadata": {
    "execution": {
     "iopub.execute_input": "2023-06-11T00:32:46.106330Z",
     "iopub.status.busy": "2023-06-11T00:32:46.106330Z",
     "iopub.status.idle": "2023-06-11T00:32:46.116332Z",
     "shell.execute_reply": "2023-06-11T00:32:46.115328Z"
    },
    "papermill": {
     "duration": 0.066105,
     "end_time": "2023-06-11T00:32:46.119331",
     "exception": false,
     "start_time": "2023-06-11T00:32:46.053226",
     "status": "completed"
    },
    "tags": []
   },
   "outputs": [],
   "source": [
    "mask_gender = df_inteligibilidad.genero == 'femenino'\n",
    "\n",
    "df_inteligibilidad_female = df_inteligibilidad[mask_gender].drop(columns=['genero'])"
   ]
  },
  {
   "cell_type": "code",
   "execution_count": 19,
   "id": "274b8c1e",
   "metadata": {
    "execution": {
     "iopub.execute_input": "2023-06-11T00:32:46.165057Z",
     "iopub.status.busy": "2023-06-11T00:32:46.164057Z",
     "iopub.status.idle": "2023-06-11T00:32:46.220148Z",
     "shell.execute_reply": "2023-06-11T00:32:46.220148Z"
    },
    "papermill": {
     "duration": 0.07609,
     "end_time": "2023-06-11T00:32:46.220148",
     "exception": false,
     "start_time": "2023-06-11T00:32:46.144058",
     "status": "completed"
    },
    "tags": []
   },
   "outputs": [
    {
     "name": "stdout",
     "output_type": "stream",
     "text": [
      "Características seleccionadas: (0, 1)\n"
     ]
    }
   ],
   "source": [
    "# Cargamos los datos\n",
    "X = np.array(df_inteligibilidad_female.drop(columns=['Inteligibilidad'])) # df_objetivos es el DataFrame con los parámetros objetivos\n",
    "y = np.array(df_inteligibilidad_female.Inteligibilidad) # df_subjetivos es el DataFrame con los parámetros subjetivos\n",
    "\n",
    "# Creamos el modelo de regresión kNN\n",
    "regr_multivar = SVR(kernel='linear')\n",
    "\n",
    "# Creamos el selector de características hacia adelante\n",
    "forward_selector = SequentialFeatureSelector(regr_multivar, k_features='best', forward=True, scoring='neg_mean_squared_error')\n",
    "\n",
    "# Entrenamos el selector de características\n",
    "forward_selector.fit(X, y)\n",
    "\n",
    "# Obtenemos las características seleccionadas\n",
    "selected_features = forward_selector.k_feature_idx_\n",
    "\n",
    "# Imprimimos las características seleccionadas\n",
    "print('Características seleccionadas:', selected_features)\n"
   ]
  },
  {
   "cell_type": "code",
   "execution_count": 20,
   "id": "f4a0cf4b",
   "metadata": {
    "execution": {
     "iopub.execute_input": "2023-06-11T00:32:46.278063Z",
     "iopub.status.busy": "2023-06-11T00:32:46.278063Z",
     "iopub.status.idle": "2023-06-11T00:33:03.766703Z",
     "shell.execute_reply": "2023-06-11T00:33:03.766703Z"
    },
    "papermill": {
     "duration": 17.530981,
     "end_time": "2023-06-11T00:33:03.766703",
     "exception": false,
     "start_time": "2023-06-11T00:32:46.235722",
     "status": "completed"
    },
    "tags": []
   },
   "outputs": [
    {
     "name": "stdout",
     "output_type": "stream",
     "text": [
      "ZCR p-valor: 0.04195804195804196\n",
      "RMS p-valor: 0.04595404595404595\n",
      "f0 p-valor: 0.2017982017982018\n"
     ]
    }
   ],
   "source": [
    "# Establecemos la semilla aleatoria para reproducibilidad\n",
    "random_state = check_random_state(0)\n",
    "\n",
    "p_values = []\n",
    "\n",
    "for i in range(X.shape[1]):\n",
    "    \n",
    "    # Seleccionamos solo una columna en X\n",
    "    X_single = X[:, i].reshape(-1, 1)\n",
    "    \n",
    "    # Aplicamos la prueba de permutación\n",
    "    score, permutation_scores, pvalue = permutation_test_score(regr_multivar, X_single, y, scoring='neg_mean_squared_error', cv=5, n_permutations=1000, random_state=random_state)\n",
    "    \n",
    "    p_values.append(pvalue)\n",
    "\n",
    "    # Imprimimos el p-valor\n",
    "    if i == 0:\n",
    "        var = 'ZCR'\n",
    "    elif i == 1:\n",
    "        var = 'RMS'\n",
    "    else:\n",
    "        var = 'f0'\n",
    "    print(f'{var} p-valor:', pvalue)\n"
   ]
  },
  {
   "cell_type": "code",
   "execution_count": 21,
   "id": "e26e8b03",
   "metadata": {
    "execution": {
     "iopub.execute_input": "2023-06-11T00:33:03.815980Z",
     "iopub.status.busy": "2023-06-11T00:33:03.815015Z",
     "iopub.status.idle": "2023-06-11T00:33:03.828986Z",
     "shell.execute_reply": "2023-06-11T00:33:03.827158Z"
    },
    "papermill": {
     "duration": 0.048841,
     "end_time": "2023-06-11T00:33:03.830979",
     "exception": false,
     "start_time": "2023-06-11T00:33:03.782138",
     "status": "completed"
    },
    "tags": []
   },
   "outputs": [],
   "source": [
    "# Dicc auxiliar con los nombres asociadas a las variables\n",
    "dicc_names_features = {\n",
    "    'zcr_model': 0,\n",
    "    'rms_model': 1,\n",
    "    'f0_model': 2\n",
    "}\n",
    "\n",
    "# Dicc de los modelos\n",
    "dicc_model = {}\n",
    "\n",
    "# Dicc de las predicciones\n",
    "dicc_pred = {}\n",
    "\n",
    "for selected_feature in selected_features:\n",
    "    # Entrenamos el modelo de regresión con las características seleccionadas\n",
    "    regr_multivar = SVR(kernel='linear')\n",
    "    regr_multivar.fit(X[:, selected_feature].reshape(-1, 1), y.ravel())\n",
    "\n",
    "    # Almacenamos en dicc_model la clave asociada al modelo que se entrenó y el objeto modelo\n",
    "    for key, value in dicc_names_features.items():\n",
    "        if value == selected_feature:\n",
    "            dicc_model[key] = regr_multivar\n",
    "\n",
    "    # Obtenemos las predicciones del modelo para las características seleccionadas\n",
    "    y_pred = regr_multivar.predict(X[:, selected_feature].reshape(-1, 1))\n",
    "\n",
    "    # Almacenamos en dicc_pred la clave asociada al modelo que se entrenó y la predicción\n",
    "    for key, value in dicc_names_features.items():\n",
    "        if value == selected_feature:\n",
    "            dicc_pred[key] = y_pred\n"
   ]
  },
  {
   "cell_type": "code",
   "execution_count": 22,
   "id": "8ecfd613",
   "metadata": {
    "execution": {
     "iopub.execute_input": "2023-06-11T00:33:03.870718Z",
     "iopub.status.busy": "2023-06-11T00:33:03.870718Z",
     "iopub.status.idle": "2023-06-11T00:33:03.886334Z",
     "shell.execute_reply": "2023-06-11T00:33:03.886334Z"
    },
    "papermill": {
     "duration": 0.037352,
     "end_time": "2023-06-11T00:33:03.886334",
     "exception": false,
     "start_time": "2023-06-11T00:33:03.848982",
     "status": "completed"
    },
    "tags": []
   },
   "outputs": [
    {
     "name": "stdout",
     "output_type": "stream",
     "text": [
      "y = -0.26 * ZCR + 4.78 - p-valor = 0.042\n",
      "y = 0.10 * RMS + 7.50 - p-valor = 0.046\n"
     ]
    }
   ],
   "source": [
    "list_equ = []\n",
    "\n",
    "for key, model in dicc_model.items():\n",
    "    # Obtenemos los valores de w y b\n",
    "    w = model.coef_[0][0]\n",
    "    b = model.intercept_[0]\n",
    "    \n",
    "    label = key.replace(\"_model\", \"\")\n",
    "    if label == 'f0':\n",
    "        label = r'$f_{0}$'\n",
    "    else:\n",
    "        label = label.upper()\n",
    "\n",
    "    # Construimos la cadena de texto para la ecuación del hiperplano y su p-valor\n",
    "    equation = f'y = {w:.2f} * {label} + {b:.2f} - p-valor = {p_values[dicc_names_features[key]]:.3f}'\n",
    "\n",
    "    # Agregamos la cadena a la lista\n",
    "    list_equ.append(equation)\n",
    "\n",
    "# Mostramos el resultado\n",
    "for equ in list_equ:\n",
    "    print(equ)\n"
   ]
  },
  {
   "cell_type": "code",
   "execution_count": 23,
   "id": "7a54f90b",
   "metadata": {
    "execution": {
     "iopub.execute_input": "2023-06-11T00:33:03.970786Z",
     "iopub.status.busy": "2023-06-11T00:33:03.969788Z",
     "iopub.status.idle": "2023-06-11T00:33:04.671594Z",
     "shell.execute_reply": "2023-06-11T00:33:04.671594Z"
    },
    "papermill": {
     "duration": 0.754003,
     "end_time": "2023-06-11T00:33:04.671594",
     "exception": false,
     "start_time": "2023-06-11T00:33:03.917591",
     "status": "completed"
    },
    "tags": []
   },
   "outputs": [
    {
     "data": {
      "image/png": "[encoded data removed]",
      "text/plain": [
       "<Figure size 1200x400 with 2 Axes>"
      ]
     },
     "metadata": {},
     "output_type": "display_data"
    }
   ],
   "source": [
    "dims = (6 * len(dicc_model), 4)\n",
    "fig, ax = plt.subplots(figsize=dims, ncols=len(dicc_model))\n",
    "\n",
    "with sns.axes_style('darkgrid'):\n",
    "    for i, (key, model) in enumerate(dicc_model.items()):\n",
    "        if isinstance(ax, np.ndarray):\n",
    "            ax_i = ax[i]\n",
    "        else:\n",
    "            ax_i = ax\n",
    "        label = key.replace(\"_model\", \"\")\n",
    "        if label == 'f0':\n",
    "            label = r'$f_{0}$'\n",
    "        else:\n",
    "            label = label.upper()\n",
    "        g = sns.scatterplot(x=X[:, dicc_names_features[key]], y=y, ax=ax_i, color='blue')\n",
    "        g = sns.lineplot(x=X[:, dicc_names_features[key]], y=dicc_pred[key], ax=ax_i, color='red')\n",
    "        g.text(0.5, -0.1, label, weight='bold', size='large', family='Arial', stretch='extra-expanded', ha='center', va='top', transform=g.transAxes)\n",
    "        g.set_ylabel('Inteligibilidad', weight='bold', size='large', alpha=0.8, family='Arial', stretch='extra-expanded')\n",
    "        g.set_title(list_equ[i], weight='bold', size='x-large', alpha=0.8, family='Arial', stretch='extra-expanded')\n",
    "        g.grid(alpha=0.7)\n",
    "        ax_i.set_ylim(0, 6)\n",
    "\n",
    "    plt.tight_layout()\n",
    "    plt.savefig(\n",
    "        os.path.join(PATH, TEST_FOLDER, REGGRESSION_FOLDER, INTELIGIBILIDAD_FOLDER, FEMALE_FOLDER, 'regresiones_inteligibilidad_female.png')\n",
    "    )\n",
    "    plt.show()\n"
   ]
  },
  {
   "cell_type": "code",
   "execution_count": 24,
   "id": "f75d0821",
   "metadata": {
    "execution": {
     "iopub.execute_input": "2023-06-11T00:33:04.720900Z",
     "iopub.status.busy": "2023-06-11T00:33:04.719901Z",
     "iopub.status.idle": "2023-06-11T00:33:08.502106Z",
     "shell.execute_reply": "2023-06-11T00:33:08.502106Z"
    },
    "papermill": {
     "duration": 3.877356,
     "end_time": "2023-06-11T00:33:08.564571",
     "exception": false,
     "start_time": "2023-06-11T00:33:04.687215",
     "status": "completed"
    },
    "tags": []
   },
   "outputs": [
    {
     "data": {
      "application/vnd.plotly.v1+json": {
       "config": {
        "plotlyServerURL": "https://plot.ly"
       },
       "data": [
        {
         "hovertemplate": "x=%{x}<br>y=%{y}<br>z=%{z}<extra></extra>",
         "legendgroup": "",
         "marker": {
          "color": "#636efa",
          "symbol": "circle"
         },
         "mode": "markers",
         "name": "",
         "scene": "scene",
         "showlegend": false,
         "type": "scatter3d",
         "x": [
          0.0759442551691729,
          0.137821937674907,
          0.0930354148829909,
          0.235632177146084,
          0.204357250316723,
          0.181163131359012,
          0.147759976291133,
          0.116977757195017,
          0.232525432279325,
          0.173409231085526
         ],
         "y": [
          -27.5,
          -26.1,
          -27,
          -30,
          -29,
          -28.5,
          -25.5,
          -26.5,
          -29.5,
          -28
         ],
         "z": [
          4.975,
          4.625,
          4.9,
          4.4,
          4.5,
          4.65,
          4.875,
          4.725,
          4.65,
          4.8
         ]
        },
        {
         "opacity": 0.5,
         "type": "surface",
         "x": [
          [
           0.0759442551691729,
           0.137821937674907,
           0.0930354148829909,
           0.235632177146084,
           0.204357250316723,
           0.181163131359012,
           0.147759976291133,
           0.116977757195017,
           0.232525432279325,
           0.173409231085526
          ],
          [
           0.0759442551691729,
           0.137821937674907,
           0.0930354148829909,
           0.235632177146084,
           0.204357250316723,
           0.181163131359012,
           0.147759976291133,
           0.116977757195017,
           0.232525432279325,
           0.173409231085526
          ],
          [
           0.0759442551691729,
           0.137821937674907,
           0.0930354148829909,
           0.235632177146084,
           0.204357250316723,
           0.181163131359012,
           0.147759976291133,
           0.116977757195017,
           0.232525432279325,
           0.173409231085526
          ],
          [
           0.0759442551691729,
           0.137821937674907,
           0.0930354148829909,
           0.235632177146084,
           0.204357250316723,
           0.181163131359012,
           0.147759976291133,
           0.116977757195017,
           0.232525432279325,
           0.173409231085526
          ],
          [
           0.0759442551691729,
           0.137821937674907,
           0.0930354148829909,
           0.235632177146084,
           0.204357250316723,
           0.181163131359012,
           0.147759976291133,
           0.116977757195017,
           0.232525432279325,
           0.173409231085526
          ],
          [
           0.0759442551691729,
           0.137821937674907,
           0.0930354148829909,
           0.235632177146084,
           0.204357250316723,
           0.181163131359012,
           0.147759976291133,
           0.116977757195017,
           0.232525432279325,
           0.173409231085526
          ],
          [
           0.0759442551691729,
           0.137821937674907,
           0.0930354148829909,
           0.235632177146084,
           0.204357250316723,
           0.181163131359012,
           0.147759976291133,
           0.116977757195017,
           0.232525432279325,
           0.173409231085526
          ],
          [
           0.0759442551691729,
           0.137821937674907,
           0.0930354148829909,
           0.235632177146084,
           0.204357250316723,
           0.181163131359012,
           0.147759976291133,
           0.116977757195017,
           0.232525432279325,
           0.173409231085526
          ],
          [
           0.0759442551691729,
           0.137821937674907,
           0.0930354148829909,
           0.235632177146084,
           0.204357250316723,
           0.181163131359012,
           0.147759976291133,
           0.116977757195017,
           0.232525432279325,
           0.173409231085526
          ],
          [
           0.0759442551691729,
           0.137821937674907,
           0.0930354148829909,
           0.235632177146084,
           0.204357250316723,
           0.181163131359012,
           0.147759976291133,
           0.116977757195017,
           0.232525432279325,
           0.173409231085526
          ]
         ],
         "y": [
          [
           -27.5,
           -27.5,
           -27.5,
           -27.5,
           -27.5,
           -27.5,
           -27.5,
           -27.5,
           -27.5,
           -27.5
          ],
          [
           -26.1,
           -26.1,
           -26.1,
           -26.1,
           -26.1,
           -26.1,
           -26.1,
           -26.1,
           -26.1,
           -26.1
          ],
          [
           -27,
           -27,
           -27,
           -27,
           -27,
           -27,
           -27,
           -27,
           -27,
           -27
          ],
          [
           -30,
           -30,
           -30,
           -30,
           -30,
           -30,
           -30,
           -30,
           -30,
           -30
          ],
          [
           -29,
           -29,
           -29,
           -29,
           -29,
           -29,
           -29,
           -29,
           -29,
           -29
          ],
          [
           -28.5,
           -28.5,
           -28.5,
           -28.5,
           -28.5,
           -28.5,
           -28.5,
           -28.5,
           -28.5,
           -28.5
          ],
          [
           -25.5,
           -25.5,
           -25.5,
           -25.5,
           -25.5,
           -25.5,
           -25.5,
           -25.5,
           -25.5,
           -25.5
          ],
          [
           -26.5,
           -26.5,
           -26.5,
           -26.5,
           -26.5,
           -26.5,
           -26.5,
           -26.5,
           -26.5,
           -26.5
          ],
          [
           -29.5,
           -29.5,
           -29.5,
           -29.5,
           -29.5,
           -29.5,
           -29.5,
           -29.5,
           -29.5,
           -29.5
          ],
          [
           -28,
           -28,
           -28,
           -28,
           -28,
           -28,
           -28,
           -28,
           -28,
           -28
          ]
         ],
         "z": [
          [
           4.755521467972326,
           4.746391849479414,
           4.752999787109858,
           4.731960633976319,
           4.736575030294723,
           4.739997160031782,
           4.7449255615148385,
           4.7494672622594765,
           4.732419012413258,
           4.741141193687575
          ],
          [
           4.883096657134027,
           4.873967038641115,
           4.880574976271559,
           4.859535823138021,
           4.864150219456425,
           4.867572349193484,
           4.87250075067654,
           4.877042451421177,
           4.85999420157496,
           4.868716382849277
          ],
          [
           4.801084035530076,
           4.791954417037164,
           4.798562354667609,
           4.77752320153407,
           4.782137597852474,
           4.785559727589533,
           4.790488129072589,
           4.795029829817227,
           4.777981579971009,
           4.786703761245326
          ],
          [
           4.527708630183573,
           4.518579011690662,
           4.525186949321106,
           4.504147796187567,
           4.508762192505971,
           4.51218432224303,
           4.517112723726086,
           4.521654424470724,
           4.504606174624506,
           4.513328355898823
          ],
          [
           4.618833765299074,
           4.609704146806163,
           4.616312084436607,
           4.595272931303068,
           4.599887327621472,
           4.603309457358531,
           4.608237858841587,
           4.612779559586225,
           4.595731309740007,
           4.604453491014324
          ],
          [
           4.664396332856825,
           4.655266714363913,
           4.661874651994357,
           4.6408354988608185,
           4.6454498951792225,
           4.648872024916281,
           4.6538004263993376,
           4.6583421271439756,
           4.641293877297757,
           4.650016058572074
          ],
          [
           4.9377717382033275,
           4.928642119710416,
           4.93525005734086,
           4.914210904207321,
           4.918825300525725,
           4.922247430262784,
           4.92717583174584,
           4.931717532490478,
           4.91466928264426,
           4.923391463918577
          ],
          [
           4.846646603087827,
           4.837516984594915,
           4.844124922225359,
           4.82308576909182,
           4.827700165410224,
           4.831122295147283,
           4.836050696630339,
           4.840592397374977,
           4.823544147528759,
           4.832266328803076
          ],
          [
           4.573271197741324,
           4.564141579248412,
           4.570749516878856,
           4.549710363745318,
           4.5543247600637216,
           4.5577468898007805,
           4.562675291283837,
           4.567216992028475,
           4.550168742182256,
           4.558890923456573
          ],
          [
           4.709958900414575,
           4.7008292819216635,
           4.707437219552108,
           4.686398066418569,
           4.691012462736973,
           4.694434592474032,
           4.699362993957088,
           4.703904694701726,
           4.686856444855508,
           4.695578626129825
          ]
         ]
        }
       ],
       "layout": {
        "legend": {
         "tracegroupgap": 0
        },
        "margin": {
         "t": 60
        },
        "scene": {
         "domain": {
          "x": [
           0,
           1
          ],
          "y": [
           0,
           1
          ]
         },
         "xaxis": {
          "title": {
           "text": "zcr"
          }
         },
         "yaxis": {
          "tickvals": [
           -28,
           -26,
           -24,
           -22
          ],
          "title": {
           "text": "rms"
          }
         },
         "zaxis": {
          "range": [
           0,
           6
          ],
          "title": {
           "text": "Inteligibilidad"
          }
         }
        },
        "template": {
         "data": {
          "bar": [
           {
            "error_x": {
             "color": "#2a3f5f"
            },
            "error_y": {
             "color": "#2a3f5f"
            },
            "marker": {
             "line": {
              "color": "#E5ECF6",
              "width": 0.5
             },
             "pattern": {
              "fillmode": "overlay",
              "size": 10,
              "solidity": 0.2
             }
            },
            "type": "bar"
           }
          ],
          "barpolar": [
           {
            "marker": {
             "line": {
              "color": "#E5ECF6",
              "width": 0.5
             },
             "pattern": {
              "fillmode": "overlay",
              "size": 10,
              "solidity": 0.2
             }
            },
            "type": "barpolar"
           }
          ],
          "carpet": [
           {
            "aaxis": {
             "endlinecolor": "#2a3f5f",
             "gridcolor": "white",
             "linecolor": "white",
             "minorgridcolor": "white",
             "startlinecolor": "#2a3f5f"
            },
            "baxis": {
             "endlinecolor": "#2a3f5f",
             "gridcolor": "white",
             "linecolor": "white",
             "minorgridcolor": "white",
             "startlinecolor": "#2a3f5f"
            },
            "type": "carpet"
           }
          ],
          "choropleth": [
           {
            "colorbar": {
             "outlinewidth": 0,
             "ticks": ""
            },
            "type": "choropleth"
           }
          ],
          "contour": [
           {
            "colorbar": {
             "outlinewidth": 0,
             "ticks": ""
            },
            "colorscale": [
             [
              0,
              "#0d0887"
             ],
             [
              0.1111111111111111,
              "#46039f"
             ],
             [
              0.2222222222222222,
              "#7201a8"
             ],
             [
              0.3333333333333333,
              "#9c179e"
             ],
             [
              0.4444444444444444,
              "#bd3786"
             ],
             [
              0.5555555555555556,
              "#d8576b"
             ],
             [
              0.6666666666666666,
              "#ed7953"
             ],
             [
              0.7777777777777778,
              "#fb9f3a"
             ],
             [
              0.8888888888888888,
              "#fdca26"
             ],
             [
              1,
              "#f0f921"
             ]
            ],
            "type": "contour"
           }
          ],
          "contourcarpet": [
           {
            "colorbar": {
             "outlinewidth": 0,
             "ticks": ""
            },
            "type": "contourcarpet"
           }
          ],
          "heatmap": [
           {
            "colorbar": {
             "outlinewidth": 0,
             "ticks": ""
            },
            "colorscale": [
             [
              0,
              "#0d0887"
             ],
             [
              0.1111111111111111,
              "#46039f"
             ],
             [
              0.2222222222222222,
              "#7201a8"
             ],
             [
              0.3333333333333333,
              "#9c179e"
             ],
             [
              0.4444444444444444,
              "#bd3786"
             ],
             [
              0.5555555555555556,
              "#d8576b"
             ],
             [
              0.6666666666666666,
              "#ed7953"
             ],
             [
              0.7777777777777778,
              "#fb9f3a"
             ],
             [
              0.8888888888888888,
              "#fdca26"
             ],
             [
              1,
              "#f0f921"
             ]
            ],
            "type": "heatmap"
           }
          ],
          "heatmapgl": [
           {
            "colorbar": {
             "outlinewidth": 0,
             "ticks": ""
            },
            "colorscale": [
             [
              0,
              "#0d0887"
             ],
             [
              0.1111111111111111,
              "#46039f"
             ],
             [
              0.2222222222222222,
              "#7201a8"
             ],
             [
              0.3333333333333333,
              "#9c179e"
             ],
             [
              0.4444444444444444,
              "#bd3786"
             ],
             [
              0.5555555555555556,
              "#d8576b"
             ],
             [
              0.6666666666666666,
              "#ed7953"
             ],
             [
              0.7777777777777778,
              "#fb9f3a"
             ],
             [
              0.8888888888888888,
              "#fdca26"
             ],
             [
              1,
              "#f0f921"
             ]
            ],
            "type": "heatmapgl"
           }
          ],
          "histogram": [
           {
            "marker": {
             "pattern": {
              "fillmode": "overlay",
              "size": 10,
              "solidity": 0.2
             }
            },
            "type": "histogram"
           }
          ],
          "histogram2d": [
           {
            "colorbar": {
             "outlinewidth": 0,
             "ticks": ""
            },
            "colorscale": [
             [
              0,
              "#0d0887"
             ],
             [
              0.1111111111111111,
              "#46039f"
             ],
             [
              0.2222222222222222,
              "#7201a8"
             ],
             [
              0.3333333333333333,
              "#9c179e"
             ],
             [
              0.4444444444444444,
              "#bd3786"
             ],
             [
              0.5555555555555556,
              "#d8576b"
             ],
             [
              0.6666666666666666,
              "#ed7953"
             ],
             [
              0.7777777777777778,
              "#fb9f3a"
             ],
             [
              0.8888888888888888,
              "#fdca26"
             ],
             [
              1,
              "#f0f921"
             ]
            ],
            "type": "histogram2d"
           }
          ],
          "histogram2dcontour": [
           {
            "colorbar": {
             "outlinewidth": 0,
             "ticks": ""
            },
            "colorscale": [
             [
              0,
              "#0d0887"
             ],
             [
              0.1111111111111111,
              "#46039f"
             ],
             [
              0.2222222222222222,
              "#7201a8"
             ],
             [
              0.3333333333333333,
              "#9c179e"
             ],
             [
              0.4444444444444444,
              "#bd3786"
             ],
             [
              0.5555555555555556,
              "#d8576b"
             ],
             [
              0.6666666666666666,
              "#ed7953"
             ],
             [
              0.7777777777777778,
              "#fb9f3a"
             ],
             [
              0.8888888888888888,
              "#fdca26"
             ],
             [
              1,
              "#f0f921"
             ]
            ],
            "type": "histogram2dcontour"
           }
          ],
          "mesh3d": [
           {
            "colorbar": {
             "outlinewidth": 0,
             "ticks": ""
            },
            "type": "mesh3d"
           }
          ],
          "parcoords": [
           {
            "line": {
             "colorbar": {
              "outlinewidth": 0,
              "ticks": ""
             }
            },
            "type": "parcoords"
           }
          ],
          "pie": [
           {
            "automargin": true,
            "type": "pie"
           }
          ],
          "scatter": [
           {
            "fillpattern": {
             "fillmode": "overlay",
             "size": 10,
             "solidity": 0.2
            },
            "type": "scatter"
           }
          ],
          "scatter3d": [
           {
            "line": {
             "colorbar": {
              "outlinewidth": 0,
              "ticks": ""
             }
            },
            "marker": {
             "colorbar": {
              "outlinewidth": 0,
              "ticks": ""
             }
            },
            "type": "scatter3d"
           }
          ],
          "scattercarpet": [
           {
            "marker": {
             "colorbar": {
              "outlinewidth": 0,
              "ticks": ""
             }
            },
            "type": "scattercarpet"
           }
          ],
          "scattergeo": [
           {
            "marker": {
             "colorbar": {
              "outlinewidth": 0,
              "ticks": ""
             }
            },
            "type": "scattergeo"
           }
          ],
          "scattergl": [
           {
            "marker": {
             "colorbar": {
              "outlinewidth": 0,
              "ticks": ""
             }
            },
            "type": "scattergl"
           }
          ],
          "scattermapbox": [
           {
            "marker": {
             "colorbar": {
              "outlinewidth": 0,
              "ticks": ""
             }
            },
            "type": "scattermapbox"
           }
          ],
          "scatterpolar": [
           {
            "marker": {
             "colorbar": {
              "outlinewidth": 0,
              "ticks": ""
             }
            },
            "type": "scatterpolar"
           }
          ],
          "scatterpolargl": [
           {
            "marker": {
             "colorbar": {
              "outlinewidth": 0,
              "ticks": ""
             }
            },
            "type": "scatterpolargl"
           }
          ],
          "scatterternary": [
           {
            "marker": {
             "colorbar": {
              "outlinewidth": 0,
              "ticks": ""
             }
            },
            "type": "scatterternary"
           }
          ],
          "surface": [
           {
            "colorbar": {
             "outlinewidth": 0,
             "ticks": ""
            },
            "colorscale": [
             [
              0,
              "#0d0887"
             ],
             [
              0.1111111111111111,
              "#46039f"
             ],
             [
              0.2222222222222222,
              "#7201a8"
             ],
             [
              0.3333333333333333,
              "#9c179e"
             ],
             [
              0.4444444444444444,
              "#bd3786"
             ],
             [
              0.5555555555555556,
              "#d8576b"
             ],
             [
              0.6666666666666666,
              "#ed7953"
             ],
             [
              0.7777777777777778,
              "#fb9f3a"
             ],
             [
              0.8888888888888888,
              "#fdca26"
             ],
             [
              1,
              "#f0f921"
             ]
            ],
            "type": "surface"
           }
          ],
          "table": [
           {
            "cells": {
             "fill": {
              "color": "#EBF0F8"
             },
             "line": {
              "color": "white"
             }
            },
            "header": {
             "fill": {
              "color": "#C8D4E3"
             },
             "line": {
              "color": "white"
             }
            },
            "type": "table"
           }
          ]
         },
         "layout": {
          "annotationdefaults": {
           "arrowcolor": "#2a3f5f",
           "arrowhead": 0,
           "arrowwidth": 1
          },
          "autotypenumbers": "strict",
          "coloraxis": {
           "colorbar": {
            "outlinewidth": 0,
            "ticks": ""
           }
          },
          "colorscale": {
           "diverging": [
            [
             0,
             "#8e0152"
            ],
            [
             0.1,
             "#c51b7d"
            ],
            [
             0.2,
             "#de77ae"
            ],
            [
             0.3,
             "#f1b6da"
            ],
            [
             0.4,
             "#fde0ef"
            ],
            [
             0.5,
             "#f7f7f7"
            ],
            [
             0.6,
             "#e6f5d0"
            ],
            [
             0.7,
             "#b8e186"
            ],
            [
             0.8,
             "#7fbc41"
            ],
            [
             0.9,
             "#4d9221"
            ],
            [
             1,
             "#276419"
            ]
           ],
           "sequential": [
            [
             0,
             "#0d0887"
            ],
            [
             0.1111111111111111,
             "#46039f"
            ],
            [
             0.2222222222222222,
             "#7201a8"
            ],
            [
             0.3333333333333333,
             "#9c179e"
            ],
            [
             0.4444444444444444,
             "#bd3786"
            ],
            [
             0.5555555555555556,
             "#d8576b"
            ],
            [
             0.6666666666666666,
             "#ed7953"
            ],
            [
             0.7777777777777778,
             "#fb9f3a"
            ],
            [
             0.8888888888888888,
             "#fdca26"
            ],
            [
             1,
             "#f0f921"
            ]
           ],
           "sequentialminus": [
            [
             0,
             "#0d0887"
            ],
            [
             0.1111111111111111,
             "#46039f"
            ],
            [
             0.2222222222222222,
             "#7201a8"
            ],
            [
             0.3333333333333333,
             "#9c179e"
            ],
            [
             0.4444444444444444,
             "#bd3786"
            ],
            [
             0.5555555555555556,
             "#d8576b"
            ],
            [
             0.6666666666666666,
             "#ed7953"
            ],
            [
             0.7777777777777778,
             "#fb9f3a"
            ],
            [
             0.8888888888888888,
             "#fdca26"
            ],
            [
             1,
             "#f0f921"
            ]
           ]
          },
          "colorway": [
           "#636efa",
           "#EF553B",
           "#00cc96",
           "#ab63fa",
           "#FFA15A",
           "#19d3f3",
           "#FF6692",
           "#B6E880",
           "#FF97FF",
           "#FECB52"
          ],
          "font": {
           "color": "#2a3f5f"
          },
          "geo": {
           "bgcolor": "white",
           "lakecolor": "white",
           "landcolor": "#E5ECF6",
           "showlakes": true,
           "showland": true,
           "subunitcolor": "white"
          },
          "hoverlabel": {
           "align": "left"
          },
          "hovermode": "closest",
          "mapbox": {
           "style": "light"
          },
          "paper_bgcolor": "white",
          "plot_bgcolor": "#E5ECF6",
          "polar": {
           "angularaxis": {
            "gridcolor": "white",
            "linecolor": "white",
            "ticks": ""
           },
           "bgcolor": "#E5ECF6",
           "radialaxis": {
            "gridcolor": "white",
            "linecolor": "white",
            "ticks": ""
           }
          },
          "scene": {
           "xaxis": {
            "backgroundcolor": "#E5ECF6",
            "gridcolor": "white",
            "gridwidth": 2,
            "linecolor": "white",
            "showbackground": true,
            "ticks": "",
            "zerolinecolor": "white"
           },
           "yaxis": {
            "backgroundcolor": "#E5ECF6",
            "gridcolor": "white",
            "gridwidth": 2,
            "linecolor": "white",
            "showbackground": true,
            "ticks": "",
            "zerolinecolor": "white"
           },
           "zaxis": {
            "backgroundcolor": "#E5ECF6",
            "gridcolor": "white",
            "gridwidth": 2,
            "linecolor": "white",
            "showbackground": true,
            "ticks": "",
            "zerolinecolor": "white"
           }
          },
          "shapedefaults": {
           "line": {
            "color": "#2a3f5f"
           }
          },
          "ternary": {
           "aaxis": {
            "gridcolor": "white",
            "linecolor": "white",
            "ticks": ""
           },
           "baxis": {
            "gridcolor": "white",
            "linecolor": "white",
            "ticks": ""
           },
           "bgcolor": "#E5ECF6",
           "caxis": {
            "gridcolor": "white",
            "linecolor": "white",
            "ticks": ""
           }
          },
          "title": {
           "x": 0.05
          },
          "xaxis": {
           "automargin": true,
           "gridcolor": "white",
           "linecolor": "white",
           "ticks": "",
           "title": {
            "standoff": 15
           },
           "zerolinecolor": "white",
           "zerolinewidth": 2
          },
          "yaxis": {
           "automargin": true,
           "gridcolor": "white",
           "linecolor": "white",
           "ticks": "",
           "title": {
            "standoff": 15
           },
           "zerolinecolor": "white",
           "zerolinewidth": 2
          }
         }
        },
        "title": {
         "text": "z = 7.27 + -0.15 * zcr + 0.09 * rms",
         "x": 0.5,
         "xanchor": "center"
        }
       }
      }
     },
     "metadata": {},
     "output_type": "display_data"
    }
   ],
   "source": [
    "if len(dicc_model) == 2:\n",
    "    import plotly.express as px\n",
    "    import plotly.graph_objects as go\n",
    "\n",
    "    # Seleccionamos solo las características seleccionadas en X\n",
    "    X_selected = X[:, selected_features]\n",
    "\n",
    "    # Entrenamos el modelo de regresión con las características seleccionadas\n",
    "    regr_multivar = SVR(kernel='linear')\n",
    "    regr_multivar.fit(X_selected, y)\n",
    "\n",
    "    # Obtenemos las predicciones del modelo para las características seleccionadas\n",
    "    y_pred = regr_multivar.predict(X_selected)\n",
    "\n",
    "    # Crear la figura\n",
    "    fig = px.scatter_3d(x=X_selected[:, 0], y=X_selected[:, 1], z=y)\n",
    "\n",
    "    # Crear el plano de regresión\n",
    "    xx, yy = np.meshgrid(X_selected[:, 0], X_selected[:, 1])\n",
    "    zz = regr_multivar.intercept_ + np.dot(np.array([xx.ravel(), yy.ravel()]).T, regr_multivar.coef_.ravel()).reshape(xx.shape)\n",
    "    fig.add_trace(go.Surface(x=xx, y=yy, z=zz, opacity=0.5))\n",
    "\n",
    "    # Construir la cadena de texto para la ecuación del plano\n",
    "    equation = f'z = {regr_multivar.intercept_[0].round(2)}'\n",
    "    for i, (key, model) in enumerate(dicc_model.items()):\n",
    "        equation += f' + {regr_multivar.coef_[0][i].round(2)} * {key.replace(\"_model\", \"\")}'\n",
    "    \n",
    "    # Centrar el título\n",
    "    fig.update_layout(title=dict(text=equation, x=0.5, xanchor='center'))\n",
    "\n",
    "    # Etiquetas de los ejes y rango del eje z\n",
    "    fig.update_layout(scene=dict(xaxis_title=list(dicc_model.keys())[0].replace(\"_model\", \"\"), yaxis_title=list(dicc_model.keys())[1].replace(\"_model\", \"\"), zaxis_title='Inteligibilidad', zaxis=dict(range=[0, 6]), yaxis=dict(tickvals=[-28, -26, -24, -22])))\n",
    "\n",
    "    fig.write_html(\n",
    "       os.path.join(PATH, TEST_FOLDER, REGGRESSION_FOLDER, INTELIGIBILIDAD_FOLDER, FEMALE_FOLDER, 'regresion_inteligibilidad_multivariable_female.html')\n",
    "    )\n",
    "\n",
    "    fig.show()\n"
   ]
  },
  {
   "attachments": {},
   "cell_type": "markdown",
   "id": "01a284f3",
   "metadata": {
    "papermill": {
     "duration": 0.095378,
     "end_time": "2023-06-11T00:33:08.753702",
     "exception": false,
     "start_time": "2023-06-11T00:33:08.658324",
     "status": "completed"
    },
    "tags": []
   },
   "source": [
    "### Pronunciacion"
   ]
  },
  {
   "cell_type": "code",
   "execution_count": 25,
   "id": "c79bee73",
   "metadata": {
    "execution": {
     "iopub.execute_input": "2023-06-11T00:33:09.197392Z",
     "iopub.status.busy": "2023-06-11T00:33:09.197392Z",
     "iopub.status.idle": "2023-06-11T00:33:09.228635Z",
     "shell.execute_reply": "2023-06-11T00:33:09.228635Z"
    },
    "papermill": {
     "duration": 0.303057,
     "end_time": "2023-06-11T00:33:09.228635",
     "exception": false,
     "start_time": "2023-06-11T00:33:08.925578",
     "status": "completed"
    },
    "tags": []
   },
   "outputs": [],
   "source": [
    "df_pronunciacion = df_union.loc[:, ['Pronunciacion', 'zcr', 'rms', 'f0', 'genero']]"
   ]
  },
  {
   "attachments": {},
   "cell_type": "markdown",
   "id": "d69a3e13",
   "metadata": {
    "papermill": {
     "duration": 0.25284,
     "end_time": "2023-06-11T00:33:09.808581",
     "exception": false,
     "start_time": "2023-06-11T00:33:09.555741",
     "status": "completed"
    },
    "tags": []
   },
   "source": [
    "#### Masculino"
   ]
  },
  {
   "cell_type": "code",
   "execution_count": 26,
   "id": "d4b57b29",
   "metadata": {
    "execution": {
     "iopub.execute_input": "2023-06-11T00:33:10.536217Z",
     "iopub.status.busy": "2023-06-11T00:33:10.536217Z",
     "iopub.status.idle": "2023-06-11T00:33:10.553174Z",
     "shell.execute_reply": "2023-06-11T00:33:10.551168Z"
    },
    "papermill": {
     "duration": 0.292648,
     "end_time": "2023-06-11T00:33:10.557169",
     "exception": false,
     "start_time": "2023-06-11T00:33:10.264521",
     "status": "completed"
    },
    "tags": []
   },
   "outputs": [],
   "source": [
    "mask_gender = df_pronunciacion.genero == 'masculino'\n",
    "\n",
    "df_pronunciacion_male = df_pronunciacion[mask_gender].drop(columns=['genero'])"
   ]
  },
  {
   "cell_type": "code",
   "execution_count": 27,
   "id": "fd73c492",
   "metadata": {
    "execution": {
     "iopub.execute_input": "2023-06-11T00:33:11.210203Z",
     "iopub.status.busy": "2023-06-11T00:33:11.210203Z",
     "iopub.status.idle": "2023-06-11T00:33:11.368035Z",
     "shell.execute_reply": "2023-06-11T00:33:11.366004Z"
    },
    "papermill": {
     "duration": 0.378748,
     "end_time": "2023-06-11T00:33:11.372005",
     "exception": false,
     "start_time": "2023-06-11T00:33:10.993257",
     "status": "completed"
    },
    "tags": []
   },
   "outputs": [
    {
     "name": "stdout",
     "output_type": "stream",
     "text": [
      "Características seleccionadas: (0,)\n"
     ]
    }
   ],
   "source": [
    "# Cargamos los datos\n",
    "X = np.array(df_pronunciacion_male.drop(columns=['Pronunciacion'])) # df_objetivos es el DataFrame con los parámetros objetivos\n",
    "y = np.array(df_pronunciacion_male.Pronunciacion) # df_subjetivos es el DataFrame con los parámetros subjetivos\n",
    "\n",
    "# Creamos el modelo de regresión kNN\n",
    "regr_multivar = SVR(kernel='linear')\n",
    "\n",
    "# Creamos el selector de características hacia adelante\n",
    "forward_selector = SequentialFeatureSelector(regr_multivar, k_features='best', forward=True, scoring='neg_mean_squared_error')\n",
    "\n",
    "# Entrenamos el selector de características\n",
    "forward_selector.fit(X, y)\n",
    "\n",
    "# Obtenemos las características seleccionadas\n",
    "selected_features = forward_selector.k_feature_idx_\n",
    "\n",
    "# Imprimimos las características seleccionadas\n",
    "print('Características seleccionadas:', selected_features)\n"
   ]
  },
  {
   "cell_type": "code",
   "execution_count": 28,
   "id": "af725c73",
   "metadata": {
    "execution": {
     "iopub.execute_input": "2023-06-11T00:33:11.894623Z",
     "iopub.status.busy": "2023-06-11T00:33:11.894623Z",
     "iopub.status.idle": "2023-06-11T00:33:31.928835Z",
     "shell.execute_reply": "2023-06-11T00:33:31.928835Z"
    },
    "papermill": {
     "duration": 20.319966,
     "end_time": "2023-06-11T00:33:31.928835",
     "exception": false,
     "start_time": "2023-06-11T00:33:11.608869",
     "status": "completed"
    },
    "tags": []
   },
   "outputs": [
    {
     "name": "stdout",
     "output_type": "stream",
     "text": [
      "ZCR p-valor: 0.06393606393606394\n",
      "RMS p-valor: 0.7522477522477522\n",
      "f0 p-valor: 0.2677322677322677\n"
     ]
    }
   ],
   "source": [
    "# Establecemos la semilla aleatoria para reproducibilidad\n",
    "random_state = check_random_state(0)\n",
    "\n",
    "p_values = []\n",
    "\n",
    "for i in range(X.shape[1]):\n",
    "    \n",
    "    # Seleccionamos solo una columna en X\n",
    "    X_single = X[:, i].reshape(-1, 1)\n",
    "    \n",
    "    # Aplicamos la prueba de permutación\n",
    "    score, permutation_scores, pvalue = permutation_test_score(regr_multivar, X_single, y, scoring='neg_mean_squared_error', cv=5, n_permutations=1000, random_state=random_state)\n",
    "    \n",
    "    p_values.append(pvalue)\n",
    "\n",
    "    # Imprimimos el p-valor\n",
    "    if i == 0:\n",
    "        var = 'ZCR'\n",
    "    elif i == 1:\n",
    "        var = 'RMS'\n",
    "    else:\n",
    "        var = 'f0'\n",
    "    print(f'{var} p-valor:', pvalue)\n"
   ]
  },
  {
   "cell_type": "code",
   "execution_count": 29,
   "id": "b05df180",
   "metadata": {
    "execution": {
     "iopub.execute_input": "2023-06-11T00:33:32.103884Z",
     "iopub.status.busy": "2023-06-11T00:33:32.103884Z",
     "iopub.status.idle": "2023-06-11T00:33:32.135133Z",
     "shell.execute_reply": "2023-06-11T00:33:32.135133Z"
    },
    "papermill": {
     "duration": 0.128279,
     "end_time": "2023-06-11T00:33:32.135133",
     "exception": false,
     "start_time": "2023-06-11T00:33:32.006854",
     "status": "completed"
    },
    "tags": []
   },
   "outputs": [],
   "source": [
    "# Dicc auxiliar con los nombres asociadas a las variables\n",
    "dicc_names_features = {\n",
    "    'zcr_model': 0,\n",
    "    'rms_model': 1,\n",
    "    'f0_model': 2\n",
    "}\n",
    "\n",
    "# Dicc de los modelos\n",
    "dicc_model = {}\n",
    "\n",
    "# Dicc de las predicciones\n",
    "dicc_pred = {}\n",
    "\n",
    "for selected_feature in selected_features:\n",
    "    # Entrenamos el modelo de regresión con las características seleccionadas\n",
    "    regr_multivar = SVR(kernel='linear')\n",
    "    regr_multivar.fit(X[:, selected_feature].reshape(-1, 1), y.ravel())\n",
    "\n",
    "    # Almacenamos en dicc_model la clave asociada al modelo que se entrenó y el objeto modelo\n",
    "    for key, value in dicc_names_features.items():\n",
    "        if value == selected_feature:\n",
    "            dicc_model[key] = regr_multivar\n",
    "\n",
    "    # Obtenemos las predicciones del modelo para las características seleccionadas\n",
    "    y_pred = regr_multivar.predict(X[:, selected_feature].reshape(-1, 1))\n",
    "\n",
    "    # Almacenamos en dicc_pred la clave asociada al modelo que se entrenó y la predicción\n",
    "    for key, value in dicc_names_features.items():\n",
    "        if value == selected_feature:\n",
    "            dicc_pred[key] = y_pred\n"
   ]
  },
  {
   "cell_type": "code",
   "execution_count": 30,
   "id": "23fa11c2",
   "metadata": {
    "execution": {
     "iopub.execute_input": "2023-06-11T00:33:32.622267Z",
     "iopub.status.busy": "2023-06-11T00:33:32.622267Z",
     "iopub.status.idle": "2023-06-11T00:33:32.653518Z",
     "shell.execute_reply": "2023-06-11T00:33:32.653518Z"
    },
    "papermill": {
     "duration": 0.348901,
     "end_time": "2023-06-11T00:33:32.653518",
     "exception": false,
     "start_time": "2023-06-11T00:33:32.304617",
     "status": "completed"
    },
    "tags": []
   },
   "outputs": [
    {
     "name": "stdout",
     "output_type": "stream",
     "text": [
      "y = -0.39 * ZCR + 4.41 - p-valor = 0.064\n"
     ]
    }
   ],
   "source": [
    "list_equ = []\n",
    "\n",
    "for key, model in dicc_model.items():\n",
    "    # Obtenemos los valores de w y b\n",
    "    w = model.coef_[0][0]\n",
    "    b = model.intercept_[0]\n",
    "    \n",
    "    label = key.replace(\"_model\", \"\")\n",
    "    if label == 'f0':\n",
    "        label = r'$f_{0}$'\n",
    "    else:\n",
    "        label = label.upper()\n",
    "\n",
    "    # Construimos la cadena de texto para la ecuación del hiperplano y su p-valor\n",
    "    equation = f'y = {w:.2f} * {label} + {b:.2f} - p-valor = {p_values[dicc_names_features[key]]:.3f}'\n",
    "\n",
    "    # Agregamos la cadena a la lista\n",
    "    list_equ.append(equation)\n",
    "\n",
    "# Mostramos el resultado\n",
    "for equ in list_equ:\n",
    "    print(equ)\n"
   ]
  },
  {
   "cell_type": "code",
   "execution_count": 31,
   "id": "3bc8172b",
   "metadata": {
    "execution": {
     "iopub.execute_input": "2023-06-11T00:33:33.206621Z",
     "iopub.status.busy": "2023-06-11T00:33:33.206621Z",
     "iopub.status.idle": "2023-06-11T00:33:34.284935Z",
     "shell.execute_reply": "2023-06-11T00:33:34.284935Z"
    },
    "papermill": {
     "duration": 1.363946,
     "end_time": "2023-06-11T00:33:34.284935",
     "exception": false,
     "start_time": "2023-06-11T00:33:32.920989",
     "status": "completed"
    },
    "tags": []
   },
   "outputs": [
    {
     "data": {
      "image/png": "[encoded data removed]",
      "text/plain": [
       "<Figure size 600x400 with 1 Axes>"
      ]
     },
     "metadata": {},
     "output_type": "display_data"
    }
   ],
   "source": [
    "dims = (6 * len(dicc_model), 4)\n",
    "fig, ax = plt.subplots(figsize=dims, ncols=len(dicc_model))\n",
    "\n",
    "with sns.axes_style('darkgrid'):\n",
    "    for i, (key, model) in enumerate(dicc_model.items()):\n",
    "        if isinstance(ax, np.ndarray):\n",
    "            ax_i = ax[i]\n",
    "        else:\n",
    "            ax_i = ax\n",
    "        label = key.replace(\"_model\", \"\")\n",
    "        if label == 'f0':\n",
    "            label = r'$f_{0}$'\n",
    "        else:\n",
    "            label = label.upper()\n",
    "        g = sns.scatterplot(x=X[:, dicc_names_features[key]], y=y, ax=ax_i, color='blue')\n",
    "        g = sns.lineplot(x=X[:, dicc_names_features[key]], y=dicc_pred[key], ax=ax_i, color='red')\n",
    "        g.text(0.5, -0.1, label, weight='bold', size='large', family='Arial', stretch='extra-expanded', ha='center', va='top', transform=g.transAxes)\n",
    "        g.set_ylabel('Pronunciación', weight='bold', size='large', alpha=0.8, family='Arial', stretch='extra-expanded')\n",
    "        g.set_title(list_equ[i], weight='bold', size='x-large', alpha=0.8, family='Arial', stretch='extra-expanded')\n",
    "        g.grid(alpha=0.7)\n",
    "        ax_i.set_ylim(0, 6)\n",
    "\n",
    "    plt.tight_layout()\n",
    "    plt.savefig(os.path.join(PATH, TEST_FOLDER, REGGRESSION_FOLDER, PRONUNCIACION_FOLDER, MALE_FOLDER, 'regresiones_pronunciacion_male.png'))\n",
    "    plt.show()\n"
   ]
  },
  {
   "cell_type": "code",
   "execution_count": 32,
   "id": "f8c0179b",
   "metadata": {
    "execution": {
     "iopub.execute_input": "2023-06-11T00:33:34.633451Z",
     "iopub.status.busy": "2023-06-11T00:33:34.633451Z",
     "iopub.status.idle": "2023-06-11T00:33:34.664698Z",
     "shell.execute_reply": "2023-06-11T00:33:34.664698Z"
    },
    "papermill": {
     "duration": 0.193167,
     "end_time": "2023-06-11T00:33:34.664698",
     "exception": false,
     "start_time": "2023-06-11T00:33:34.471531",
     "status": "completed"
    },
    "tags": []
   },
   "outputs": [],
   "source": [
    "if len(dicc_model) == 2:\n",
    "    import plotly.express as px\n",
    "    import plotly.graph_objects as go\n",
    "\n",
    "    # Seleccionamos solo las características seleccionadas en X\n",
    "    X_selected = X[:, selected_features]\n",
    "\n",
    "    # Entrenamos el modelo de regresión con las características seleccionadas\n",
    "    regr_multivar = SVR(kernel='linear')\n",
    "    regr_multivar.fit(X_selected, y)\n",
    "\n",
    "    # Obtenemos las predicciones del modelo para las características seleccionadas\n",
    "    y_pred = regr_multivar.predict(X_selected)\n",
    "\n",
    "    # Crear la figura\n",
    "    fig = px.scatter_3d(x=X_selected[:, 0], y=X_selected[:, 1], z=y)\n",
    "\n",
    "    # Crear el plano de regresión\n",
    "    xx, yy = np.meshgrid(X_selected[:, 0], X_selected[:, 1])\n",
    "    zz = regr_multivar.intercept_ + np.dot(np.array([xx.ravel(), yy.ravel()]).T, regr_multivar.coef_.ravel()).reshape(xx.shape)\n",
    "    fig.add_trace(go.Surface(x=xx, y=yy, z=zz, opacity=0.5))\n",
    "\n",
    "    # Construir la cadena de texto para la ecuación del plano\n",
    "    equation = f'z = {regr_multivar.intercept_[0].round(2)}'\n",
    "    for i, (key, model) in enumerate(dicc_model.items()):\n",
    "        equation += f' + {regr_multivar.coef_[0][i].round(2)} * {key.replace(\"_model\", \"\")}'\n",
    "    \n",
    "    # Centrar el título\n",
    "    fig.update_layout(title=dict(text=equation, x=0.5, xanchor='center'))\n",
    "\n",
    "    # Etiquetas de los ejes y rango del eje z\n",
    "    fig.update_layout(scene=dict(xaxis_title=list(dicc_model.keys())[0].replace(\"_model\", \"\"), yaxis_title=list(dicc_model.keys())[1].replace(\"_model\", \"\"), zaxis_title='Pronunciación', zaxis=dict(range=[0, 6])))\n",
    "\n",
    "    fig.write_html(os.path.join(PATH, TEST_FOLDER, REGGRESSION_FOLDER, PRONUNCIACION_FOLDER, MALE_FOLDER, 'regresion_pronunciacion_multivariable_male.html'))\n",
    "\n",
    "    fig.show()\n"
   ]
  },
  {
   "attachments": {},
   "cell_type": "markdown",
   "id": "3789acd6",
   "metadata": {
    "papermill": {
     "duration": 0.235564,
     "end_time": "2023-06-11T00:33:35.134639",
     "exception": false,
     "start_time": "2023-06-11T00:33:34.899075",
     "status": "completed"
    },
    "tags": []
   },
   "source": [
    "#### Femenino"
   ]
  },
  {
   "cell_type": "code",
   "execution_count": 33,
   "id": "e45ae228",
   "metadata": {
    "execution": {
     "iopub.execute_input": "2023-06-11T00:33:35.719951Z",
     "iopub.status.busy": "2023-06-11T00:33:35.718954Z",
     "iopub.status.idle": "2023-06-11T00:33:35.742950Z",
     "shell.execute_reply": "2023-06-11T00:33:35.739949Z"
    },
    "papermill": {
     "duration": 0.242499,
     "end_time": "2023-06-11T00:33:35.746950",
     "exception": false,
     "start_time": "2023-06-11T00:33:35.504451",
     "status": "completed"
    },
    "tags": []
   },
   "outputs": [],
   "source": [
    "mask_gender = df_pronunciacion.genero == 'femenino'\n",
    "\n",
    "df_pronunciacion_female = df_pronunciacion[mask_gender].drop(columns=['genero'])"
   ]
  },
  {
   "cell_type": "code",
   "execution_count": 34,
   "id": "bea1d371",
   "metadata": {
    "execution": {
     "iopub.execute_input": "2023-06-11T00:33:36.020184Z",
     "iopub.status.busy": "2023-06-11T00:33:36.019186Z",
     "iopub.status.idle": "2023-06-11T00:33:36.163172Z",
     "shell.execute_reply": "2023-06-11T00:33:36.163172Z"
    },
    "papermill": {
     "duration": 0.280773,
     "end_time": "2023-06-11T00:33:36.163172",
     "exception": false,
     "start_time": "2023-06-11T00:33:35.882399",
     "status": "completed"
    },
    "tags": []
   },
   "outputs": [
    {
     "name": "stdout",
     "output_type": "stream",
     "text": [
      "Características seleccionadas: (0, 1, 2)\n"
     ]
    }
   ],
   "source": [
    "# Cargamos los datos\n",
    "X = np.array(df_pronunciacion_female.drop(columns=['Pronunciacion'])) # df_objetivos es el DataFrame con los parámetros objetivos\n",
    "y = np.array(df_pronunciacion_female.Pronunciacion) # df_subjetivos es el DataFrame con los parámetros subjetivos\n",
    "\n",
    "# Creamos el modelo de regresión kNN\n",
    "regr_multivar = SVR(kernel='linear')\n",
    "\n",
    "# Creamos el selector de características hacia adelante\n",
    "forward_selector = SequentialFeatureSelector(regr_multivar, k_features='best', forward=True, scoring='neg_mean_squared_error')\n",
    "\n",
    "# Entrenamos el selector de características\n",
    "forward_selector.fit(X, y)\n",
    "\n",
    "# Obtenemos las características seleccionadas\n",
    "selected_features = forward_selector.k_feature_idx_\n",
    "\n",
    "# Imprimimos las características seleccionadas\n",
    "print('Características seleccionadas:', selected_features)\n"
   ]
  },
  {
   "cell_type": "code",
   "execution_count": 35,
   "id": "d12e967d",
   "metadata": {
    "execution": {
     "iopub.execute_input": "2023-06-11T00:33:36.714738Z",
     "iopub.status.busy": "2023-06-11T00:33:36.713740Z",
     "iopub.status.idle": "2023-06-11T00:33:58.177250Z",
     "shell.execute_reply": "2023-06-11T00:33:58.177250Z"
    },
    "papermill": {
     "duration": 21.764078,
     "end_time": "2023-06-11T00:33:58.177250",
     "exception": false,
     "start_time": "2023-06-11T00:33:36.413172",
     "status": "completed"
    },
    "tags": []
   },
   "outputs": [
    {
     "name": "stdout",
     "output_type": "stream",
     "text": [
      "ZCR p-valor: 0.24975024975024976\n",
      "RMS p-valor: 0.1848151848151848\n",
      "f0 p-valor: 0.27672327672327673\n"
     ]
    }
   ],
   "source": [
    "# Establecemos la semilla aleatoria para reproducibilidad\n",
    "random_state = check_random_state(0)\n",
    "\n",
    "p_values = []\n",
    "\n",
    "for i in range(X.shape[1]):\n",
    "    \n",
    "    # Seleccionamos solo una columna en X\n",
    "    X_single = X[:, i].reshape(-1, 1)\n",
    "    \n",
    "    # Aplicamos la prueba de permutación\n",
    "    score, permutation_scores, pvalue = permutation_test_score(regr_multivar, X_single, y, scoring='neg_mean_squared_error', cv=5, n_permutations=1000, random_state=random_state)\n",
    "    \n",
    "    p_values.append(pvalue)\n",
    "\n",
    "    # Imprimimos el p-valor\n",
    "    if i == 0:\n",
    "        var = 'ZCR'\n",
    "    elif i == 1:\n",
    "        var = 'RMS'\n",
    "    else:\n",
    "        var = 'f0'\n",
    "    print(f'{var} p-valor:', pvalue)\n"
   ]
  },
  {
   "cell_type": "code",
   "execution_count": 36,
   "id": "46c69347",
   "metadata": {
    "execution": {
     "iopub.execute_input": "2023-06-11T00:33:58.466117Z",
     "iopub.status.busy": "2023-06-11T00:33:58.466117Z",
     "iopub.status.idle": "2023-06-11T00:33:58.497330Z",
     "shell.execute_reply": "2023-06-11T00:33:58.497330Z"
    },
    "papermill": {
     "duration": 0.224225,
     "end_time": "2023-06-11T00:33:58.497330",
     "exception": false,
     "start_time": "2023-06-11T00:33:58.273105",
     "status": "completed"
    },
    "tags": []
   },
   "outputs": [],
   "source": [
    "# Dicc auxiliar con los nombres asociadas a las variables\n",
    "dicc_names_features = {\n",
    "    'zcr_model': 0,\n",
    "    'rms_model': 1,\n",
    "    'f0_model': 2\n",
    "}\n",
    "\n",
    "# Dicc de los modelos\n",
    "dicc_model = {}\n",
    "\n",
    "# Dicc de las predicciones\n",
    "dicc_pred = {}\n",
    "\n",
    "for selected_feature in selected_features:\n",
    "    # Entrenamos el modelo de regresión con las características seleccionadas\n",
    "    regr_multivar = SVR(kernel='linear')\n",
    "    regr_multivar.fit(X[:, selected_feature].reshape(-1, 1), y.ravel())\n",
    "\n",
    "    # Almacenamos en dicc_model la clave asociada al modelo que se entrenó y el objeto modelo\n",
    "    for key, value in dicc_names_features.items():\n",
    "        if value == selected_feature:\n",
    "            dicc_model[key] = regr_multivar\n",
    "\n",
    "    # Obtenemos las predicciones del modelo para las características seleccionadas\n",
    "    y_pred = regr_multivar.predict(X[:, selected_feature].reshape(-1, 1))\n",
    "\n",
    "    # Almacenamos en dicc_pred la clave asociada al modelo que se entrenó y la predicción\n",
    "    for key, value in dicc_names_features.items():\n",
    "        if value == selected_feature:\n",
    "            dicc_pred[key] = y_pred\n"
   ]
  },
  {
   "cell_type": "code",
   "execution_count": 37,
   "id": "a184d78d",
   "metadata": {
    "execution": {
     "iopub.execute_input": "2023-06-11T00:33:58.856291Z",
     "iopub.status.busy": "2023-06-11T00:33:58.840661Z",
     "iopub.status.idle": "2023-06-11T00:33:58.871918Z",
     "shell.execute_reply": "2023-06-11T00:33:58.871918Z"
    },
    "papermill": {
     "duration": 0.12459,
     "end_time": "2023-06-11T00:33:58.871918",
     "exception": false,
     "start_time": "2023-06-11T00:33:58.747328",
     "status": "completed"
    },
    "tags": []
   },
   "outputs": [
    {
     "name": "stdout",
     "output_type": "stream",
     "text": [
      "y = -0.24 * ZCR + 4.43 - p-valor = 0.250\n",
      "y = 0.06 * RMS + 6.15 - p-valor = 0.185\n",
      "y = -0.01 * $f_{0}$ + 5.17 - p-valor = 0.277\n"
     ]
    }
   ],
   "source": [
    "list_equ = []\n",
    "\n",
    "for key, model in dicc_model.items():\n",
    "    # Obtenemos los valores de w y b\n",
    "    w = model.coef_[0][0]\n",
    "    b = model.intercept_[0]\n",
    "    \n",
    "    label = key.replace(\"_model\", \"\")\n",
    "    if label == 'f0':\n",
    "        label = r'$f_{0}$'\n",
    "    else:\n",
    "        label = label.upper()\n",
    "\n",
    "    # Construimos la cadena de texto para la ecuación del hiperplano y su p-valor\n",
    "    equation = f'y = {w:.2f} * {label} + {b:.2f} - p-valor = {p_values[dicc_names_features[key]]:.3f}'\n",
    "\n",
    "    # Agregamos la cadena a la lista\n",
    "    list_equ.append(equation)\n",
    "\n",
    "# Mostramos el resultado\n",
    "for equ in list_equ:\n",
    "    print(equ)\n"
   ]
  },
  {
   "cell_type": "code",
   "execution_count": 38,
   "id": "33725fe3",
   "metadata": {
    "execution": {
     "iopub.execute_input": "2023-06-11T00:33:59.387541Z",
     "iopub.status.busy": "2023-06-11T00:33:59.387541Z",
     "iopub.status.idle": "2023-06-11T00:34:01.368928Z",
     "shell.execute_reply": "2023-06-11T00:34:01.368928Z"
    },
    "papermill": {
     "duration": 2.293886,
     "end_time": "2023-06-11T00:34:01.368928",
     "exception": false,
     "start_time": "2023-06-11T00:33:59.075042",
     "status": "completed"
    },
    "tags": []
   },
   "outputs": [
    {
     "data": {
      "image/png": "[encoded data removed]",
      "text/plain": [
       "<Figure size 1800x400 with 3 Axes>"
      ]
     },
     "metadata": {},
     "output_type": "display_data"
    }
   ],
   "source": [
    "dims = (6 * len(dicc_model), 4)\n",
    "fig, ax = plt.subplots(figsize=dims, ncols=len(dicc_model))\n",
    "\n",
    "with sns.axes_style('darkgrid'):\n",
    "    for i, (key, model) in enumerate(dicc_model.items()):\n",
    "        if isinstance(ax, np.ndarray):\n",
    "            ax_i = ax[i]\n",
    "        else:\n",
    "            ax_i = ax\n",
    "        label = key.replace(\"_model\", \"\")\n",
    "        if label == 'f0':\n",
    "            label = r'$f_{0}$'\n",
    "        else:\n",
    "            label = label.upper()\n",
    "        g = sns.scatterplot(x=X[:, dicc_names_features[key]], y=y, ax=ax_i, color='blue')\n",
    "        g = sns.lineplot(x=X[:, dicc_names_features[key]], y=dicc_pred[key], ax=ax_i, color='red')\n",
    "        g.text(0.5, -0.1, label, weight='bold', size='large', family='Arial', stretch='extra-expanded', ha='center', va='top', transform=g.transAxes)\n",
    "        g.set_ylabel('Pronunciación', weight='bold', size='large', alpha=0.8, family='Arial', stretch='extra-expanded')\n",
    "        g.set_title(list_equ[i], weight='bold', size='x-large', alpha=0.8, family='Arial', stretch='extra-expanded')\n",
    "        g.grid(alpha=0.7)\n",
    "        ax_i.set_ylim(0, 6)\n",
    "\n",
    "    plt.tight_layout()\n",
    "    plt.savefig(os.path.join(PATH, TEST_FOLDER, REGGRESSION_FOLDER, PRONUNCIACION_FOLDER, FEMALE_FOLDER, 'regresiones_pronunciacion_female.png'))\n",
    "    plt.show()\n"
   ]
  },
  {
   "cell_type": "code",
   "execution_count": 39,
   "id": "3a355a76",
   "metadata": {
    "execution": {
     "iopub.execute_input": "2023-06-11T00:34:01.689667Z",
     "iopub.status.busy": "2023-06-11T00:34:01.689667Z",
     "iopub.status.idle": "2023-06-11T00:34:01.723339Z",
     "shell.execute_reply": "2023-06-11T00:34:01.721341Z"
    },
    "papermill": {
     "duration": 0.255171,
     "end_time": "2023-06-11T00:34:01.726338",
     "exception": false,
     "start_time": "2023-06-11T00:34:01.471167",
     "status": "completed"
    },
    "tags": []
   },
   "outputs": [],
   "source": [
    "if len(dicc_model) == 2:\n",
    "    import plotly.express as px\n",
    "    import plotly.graph_objects as go\n",
    "\n",
    "    # Seleccionamos solo las características seleccionadas en X\n",
    "    X_selected = X[:, selected_features]\n",
    "\n",
    "    # Entrenamos el modelo de regresión con las características seleccionadas\n",
    "    regr_multivar = SVR(kernel='linear')\n",
    "    regr_multivar.fit(X_selected, y)\n",
    "\n",
    "    # Obtenemos las predicciones del modelo para las características seleccionadas\n",
    "    y_pred = regr_multivar.predict(X_selected)\n",
    "\n",
    "    # Crear la figura\n",
    "    fig = px.scatter_3d(x=X_selected[:, 0], y=X_selected[:, 1], z=y)\n",
    "\n",
    "    # Crear el plano de regresión\n",
    "    xx, yy = np.meshgrid(X_selected[:, 0], X_selected[:, 1])\n",
    "    zz = regr_multivar.intercept_ + np.dot(np.array([xx.ravel(), yy.ravel()]).T, regr_multivar.coef_.ravel()).reshape(xx.shape)\n",
    "    fig.add_trace(go.Surface(x=xx, y=yy, z=zz, opacity=0.5))\n",
    "\n",
    "    # Construir la cadena de texto para la ecuación del plano\n",
    "    equation = f'z = {regr_multivar.intercept_[0].round(2)}'\n",
    "    for i, (key, model) in enumerate(dicc_model.items()):\n",
    "        equation += f' + {regr_multivar.coef_[0][i].round(2)} * {key.replace(\"_model\", \"\")}'\n",
    "    \n",
    "    # Centrar el título\n",
    "    fig.update_layout(title=dict(text=equation, x=0.5, xanchor='center'))\n",
    "\n",
    "    # Etiquetas de los ejes y rango del eje z\n",
    "    fig.update_layout(scene=dict(xaxis_title=list(dicc_model.keys())[0].replace(\"_model\", \"\"), yaxis_title=list(dicc_model.keys())[1].replace(\"_model\", \"\"), zaxis_title='Pronunciación', zaxis=dict(range=[0, 6]), yaxis=dict(tickvals=[-28, -26, -24, -22])))\n",
    "\n",
    "    fig.write_html(os.path.join(PATH, TEST_FOLDER, REGGRESSION_FOLDER, PRONUNCIACION_FOLDER, FEMALE_FOLDER, 'regresion_pronunciacion_multivariable_female.html'))\n",
    "\n",
    "    fig.show()\n"
   ]
  },
  {
   "attachments": {},
   "cell_type": "markdown",
   "id": "f5df2caa",
   "metadata": {
    "papermill": {
     "duration": 0.236309,
     "end_time": "2023-06-11T00:34:02.196623",
     "exception": false,
     "start_time": "2023-06-11T00:34:01.960314",
     "status": "completed"
    },
    "tags": []
   },
   "source": [
    "### Acentuacion"
   ]
  },
  {
   "cell_type": "code",
   "execution_count": 40,
   "id": "1e0c37ad",
   "metadata": {
    "execution": {
     "iopub.execute_input": "2023-06-11T00:34:02.787855Z",
     "iopub.status.busy": "2023-06-11T00:34:02.787855Z",
     "iopub.status.idle": "2023-06-11T00:34:02.803482Z",
     "shell.execute_reply": "2023-06-11T00:34:02.803482Z"
    },
    "papermill": {
     "duration": 0.36384,
     "end_time": "2023-06-11T00:34:02.803482",
     "exception": false,
     "start_time": "2023-06-11T00:34:02.439642",
     "status": "completed"
    },
    "tags": []
   },
   "outputs": [],
   "source": [
    "df_acentuacion = df_union.loc[:, ['Acentuacion', 'zcr', 'rms', 'f0', 'genero']]"
   ]
  },
  {
   "attachments": {},
   "cell_type": "markdown",
   "id": "5bd2ac35",
   "metadata": {
    "papermill": {
     "duration": 0.141601,
     "end_time": "2023-06-11T00:34:03.152732",
     "exception": false,
     "start_time": "2023-06-11T00:34:03.011131",
     "status": "completed"
    },
    "tags": []
   },
   "source": [
    "#### Masculino"
   ]
  },
  {
   "cell_type": "code",
   "execution_count": 41,
   "id": "d50a579c",
   "metadata": {
    "execution": {
     "iopub.execute_input": "2023-06-11T00:34:03.640029Z",
     "iopub.status.busy": "2023-06-11T00:34:03.640029Z",
     "iopub.status.idle": "2023-06-11T00:34:03.655654Z",
     "shell.execute_reply": "2023-06-11T00:34:03.655654Z"
    },
    "papermill": {
     "duration": 0.298179,
     "end_time": "2023-06-11T00:34:03.655654",
     "exception": false,
     "start_time": "2023-06-11T00:34:03.357475",
     "status": "completed"
    },
    "tags": []
   },
   "outputs": [],
   "source": [
    "mask_gender = df_acentuacion.genero == 'masculino'\n",
    "\n",
    "df_acentuacion_male = df_acentuacion[mask_gender].drop(columns=['genero'])"
   ]
  },
  {
   "cell_type": "code",
   "execution_count": 42,
   "id": "2763d1e4",
   "metadata": {
    "execution": {
     "iopub.execute_input": "2023-06-11T00:34:04.280299Z",
     "iopub.status.busy": "2023-06-11T00:34:04.280299Z",
     "iopub.status.idle": "2023-06-11T00:34:04.436547Z",
     "shell.execute_reply": "2023-06-11T00:34:04.436547Z"
    },
    "papermill": {
     "duration": 0.536665,
     "end_time": "2023-06-11T00:34:04.436547",
     "exception": false,
     "start_time": "2023-06-11T00:34:03.899882",
     "status": "completed"
    },
    "tags": []
   },
   "outputs": [
    {
     "name": "stdout",
     "output_type": "stream",
     "text": [
      "Características seleccionadas: (0,)\n"
     ]
    }
   ],
   "source": [
    "# Cargamos los datos\n",
    "X = np.array(df_acentuacion_male.drop(columns=['Acentuacion'])) # df_objetivos es el DataFrame con los parámetros objetivos\n",
    "y = np.array(df_acentuacion_male.Acentuacion) # df_subjetivos es el DataFrame con los parámetros subjetivos\n",
    "\n",
    "# Creamos el modelo de regresión kNN\n",
    "regr_multivar = SVR(kernel='linear')\n",
    "\n",
    "# Creamos el selector de características hacia adelante\n",
    "forward_selector = SequentialFeatureSelector(regr_multivar, k_features='best', forward=True, scoring='neg_mean_squared_error')\n",
    "\n",
    "# Entrenamos el selector de características\n",
    "forward_selector.fit(X, y)\n",
    "\n",
    "# Obtenemos las características seleccionadas\n",
    "selected_features = forward_selector.k_feature_idx_\n",
    "\n",
    "# Imprimimos las características seleccionadas\n",
    "print('Características seleccionadas:', selected_features)\n"
   ]
  },
  {
   "cell_type": "code",
   "execution_count": 43,
   "id": "85ab3da9",
   "metadata": {
    "execution": {
     "iopub.execute_input": "2023-06-11T00:34:04.911181Z",
     "iopub.status.busy": "2023-06-11T00:34:04.910182Z",
     "iopub.status.idle": "2023-06-11T00:34:24.396967Z",
     "shell.execute_reply": "2023-06-11T00:34:24.396967Z"
    },
    "papermill": {
     "duration": 19.772922,
     "end_time": "2023-06-11T00:34:24.396967",
     "exception": false,
     "start_time": "2023-06-11T00:34:04.624045",
     "status": "completed"
    },
    "tags": []
   },
   "outputs": [
    {
     "name": "stdout",
     "output_type": "stream",
     "text": [
      "ZCR p-valor: 0.1878121878121878\n",
      "RMS p-valor: 0.7432567432567433\n",
      "f0 p-valor: 0.3106893106893107\n"
     ]
    }
   ],
   "source": [
    "# Establecemos la semilla aleatoria para reproducibilidad\n",
    "random_state = check_random_state(0)\n",
    "\n",
    "p_values = []\n",
    "\n",
    "for i in range(X.shape[1]):\n",
    "    \n",
    "    # Seleccionamos solo una columna en X\n",
    "    X_single = X[:, i].reshape(-1, 1)\n",
    "    \n",
    "    # Aplicamos la prueba de permutación\n",
    "    score, permutation_scores, pvalue = permutation_test_score(regr_multivar, X_single, y, scoring='neg_mean_squared_error', cv=5, n_permutations=1000, random_state=random_state)\n",
    "    \n",
    "    p_values.append(pvalue)\n",
    "\n",
    "    # Imprimimos el p-valor\n",
    "    if i == 0:\n",
    "        var = 'ZCR'\n",
    "    elif i == 1:\n",
    "        var = 'RMS'\n",
    "    else:\n",
    "        var = 'f0'\n",
    "    print(f'{var} p-valor:', pvalue)\n"
   ]
  },
  {
   "cell_type": "code",
   "execution_count": 44,
   "id": "beb71f07",
   "metadata": {
    "execution": {
     "iopub.execute_input": "2023-06-11T00:34:24.587223Z",
     "iopub.status.busy": "2023-06-11T00:34:24.587223Z",
     "iopub.status.idle": "2023-06-11T00:34:24.618476Z",
     "shell.execute_reply": "2023-06-11T00:34:24.618476Z"
    },
    "papermill": {
     "duration": 0.14349,
     "end_time": "2023-06-11T00:34:24.618476",
     "exception": false,
     "start_time": "2023-06-11T00:34:24.474986",
     "status": "completed"
    },
    "tags": []
   },
   "outputs": [],
   "source": [
    "# Dicc auxiliar con los nombres asociadas a las variables\n",
    "dicc_names_features = {\n",
    "    'zcr_model': 0,\n",
    "    'rms_model': 1,\n",
    "    'f0_model': 2\n",
    "}\n",
    "\n",
    "# Dicc de los modelos\n",
    "dicc_model = {}\n",
    "\n",
    "# Dicc de las predicciones\n",
    "dicc_pred = {}\n",
    "\n",
    "for selected_feature in selected_features:\n",
    "    # Entrenamos el modelo de regresión con las características seleccionadas\n",
    "    regr_multivar = SVR(kernel='linear')\n",
    "    regr_multivar.fit(X[:, selected_feature].reshape(-1, 1), y.ravel())\n",
    "\n",
    "    # Almacenamos en dicc_model la clave asociada al modelo que se entrenó y el objeto modelo\n",
    "    for key, value in dicc_names_features.items():\n",
    "        if value == selected_feature:\n",
    "            dicc_model[key] = regr_multivar\n",
    "\n",
    "    # Obtenemos las predicciones del modelo para las características seleccionadas\n",
    "    y_pred = regr_multivar.predict(X[:, selected_feature].reshape(-1, 1))\n",
    "\n",
    "    # Almacenamos en dicc_pred la clave asociada al modelo que se entrenó y la predicción\n",
    "    for key, value in dicc_names_features.items():\n",
    "        if value == selected_feature:\n",
    "            dicc_pred[key] = y_pred\n"
   ]
  },
  {
   "cell_type": "code",
   "execution_count": 45,
   "id": "324fada1",
   "metadata": {
    "execution": {
     "iopub.execute_input": "2023-06-11T00:34:25.150398Z",
     "iopub.status.busy": "2023-06-11T00:34:25.150398Z",
     "iopub.status.idle": "2023-06-11T00:34:25.166018Z",
     "shell.execute_reply": "2023-06-11T00:34:25.166018Z"
    },
    "papermill": {
     "duration": 0.283823,
     "end_time": "2023-06-11T00:34:25.166018",
     "exception": false,
     "start_time": "2023-06-11T00:34:24.882195",
     "status": "completed"
    },
    "tags": []
   },
   "outputs": [
    {
     "name": "stdout",
     "output_type": "stream",
     "text": [
      "y = -0.36 * ZCR + 3.96 - p-valor = 0.188\n"
     ]
    }
   ],
   "source": [
    "list_equ = []\n",
    "\n",
    "for key, model in dicc_model.items():\n",
    "    # Obtenemos los valores de w y b\n",
    "    w = model.coef_[0][0]\n",
    "    b = model.intercept_[0]\n",
    "    \n",
    "    label = key.replace(\"_model\", \"\")\n",
    "    if label == 'f0':\n",
    "        label = r'$f_{0}$'\n",
    "    else:\n",
    "        label = label.upper()\n",
    "\n",
    "    # Construimos la cadena de texto para la ecuación del hiperplano y su p-valor\n",
    "    equation = f'y = {w:.2f} * {label} + {b:.2f} - p-valor = {p_values[dicc_names_features[key]]:.3f}'\n",
    "\n",
    "    # Agregamos la cadena a la lista\n",
    "    list_equ.append(equation)\n",
    "\n",
    "# Mostramos el resultado\n",
    "for equ in list_equ:\n",
    "    print(equ)\n"
   ]
  },
  {
   "cell_type": "code",
   "execution_count": 46,
   "id": "42ab5a74",
   "metadata": {
    "execution": {
     "iopub.execute_input": "2023-06-11T00:34:25.519746Z",
     "iopub.status.busy": "2023-06-11T00:34:25.519746Z",
     "iopub.status.idle": "2023-06-11T00:34:26.231643Z",
     "shell.execute_reply": "2023-06-11T00:34:26.231643Z"
    },
    "papermill": {
     "duration": 0.844122,
     "end_time": "2023-06-11T00:34:26.231643",
     "exception": false,
     "start_time": "2023-06-11T00:34:25.387521",
     "status": "completed"
    },
    "tags": []
   },
   "outputs": [
    {
     "data": {
      "image/png": "[encoded data removed]",
      "text/plain": [
       "<Figure size 600x400 with 1 Axes>"
      ]
     },
     "metadata": {},
     "output_type": "display_data"
    }
   ],
   "source": [
    "dims = (6 * len(dicc_model), 4)\n",
    "fig, ax = plt.subplots(figsize=dims, ncols=len(dicc_model))\n",
    "\n",
    "with sns.axes_style('darkgrid'):\n",
    "    for i, (key, model) in enumerate(dicc_model.items()):\n",
    "        if isinstance(ax, np.ndarray):\n",
    "            ax_i = ax[i]\n",
    "        else:\n",
    "            ax_i = ax\n",
    "        label = key.replace(\"_model\", \"\")\n",
    "        if label == 'f0':\n",
    "            label = r'$f_{0}$'\n",
    "        else:\n",
    "            label = label.upper()\n",
    "        g = sns.scatterplot(x=X[:, dicc_names_features[key]], y=y, ax=ax_i, color='blue')\n",
    "        g = sns.lineplot(x=X[:, dicc_names_features[key]], y=dicc_pred[key], ax=ax_i, color='red')\n",
    "        g.text(0.5, -0.1, label, weight='bold', size='large', family='Arial', stretch='extra-expanded', ha='center', va='top', transform=g.transAxes)\n",
    "        g.set_ylabel('Acentuación', weight='bold', size='large', alpha=0.8, family='Arial', stretch='extra-expanded')\n",
    "        g.set_title(list_equ[i], weight='bold', size='x-large', alpha=0.8, family='Arial', stretch='extra-expanded')\n",
    "        g.grid(alpha=0.7)\n",
    "        ax_i.set_ylim(0, 6)\n",
    "\n",
    "    plt.tight_layout()\n",
    "    plt.savefig(os.path.join(PATH, TEST_FOLDER, REGGRESSION_FOLDER, ACENTUACION_FOLDER, MALE_FOLDER, 'regresiones_acentuacion_male.png'))\n",
    "    plt.show()\n"
   ]
  },
  {
   "cell_type": "code",
   "execution_count": 47,
   "id": "a2d1c79f",
   "metadata": {
    "execution": {
     "iopub.execute_input": "2023-06-11T00:34:26.753119Z",
     "iopub.status.busy": "2023-06-11T00:34:26.752119Z",
     "iopub.status.idle": "2023-06-11T00:34:26.773810Z",
     "shell.execute_reply": "2023-06-11T00:34:26.773810Z"
    },
    "papermill": {
     "duration": 0.323416,
     "end_time": "2023-06-11T00:34:26.773810",
     "exception": false,
     "start_time": "2023-06-11T00:34:26.450394",
     "status": "completed"
    },
    "tags": []
   },
   "outputs": [],
   "source": [
    "if len(dicc_model) == 2:\n",
    "    import plotly.express as px\n",
    "    import plotly.graph_objects as go\n",
    "\n",
    "    # Seleccionamos solo las características seleccionadas en X\n",
    "    X_selected = X[:, selected_features]\n",
    "\n",
    "    # Entrenamos el modelo de regresión con las características seleccionadas\n",
    "    regr_multivar = SVR(kernel='linear')\n",
    "    regr_multivar.fit(X_selected, y)\n",
    "\n",
    "    # Obtenemos las predicciones del modelo para las características seleccionadas\n",
    "    y_pred = regr_multivar.predict(X_selected)\n",
    "\n",
    "    # Crear la figura\n",
    "    fig = px.scatter_3d(x=X_selected[:, 0], y=X_selected[:, 1], z=y)\n",
    "\n",
    "    # Crear el plano de regresión\n",
    "    xx, yy = np.meshgrid(X_selected[:, 0], X_selected[:, 1])\n",
    "    zz = regr_multivar.intercept_ + np.dot(np.array([xx.ravel(), yy.ravel()]).T, regr_multivar.coef_.ravel()).reshape(xx.shape)\n",
    "    fig.add_trace(go.Surface(x=xx, y=yy, z=zz, opacity=0.5))\n",
    "\n",
    "    # Construir la cadena de texto para la ecuación del plano\n",
    "    equation = f'z = {regr_multivar.intercept_[0].round(2)}'\n",
    "    for i, (key, model) in enumerate(dicc_model.items()):\n",
    "        equation += f' + {regr_multivar.coef_[0][i].round(2)} * {key.replace(\"_model\", \"\")}'\n",
    "    \n",
    "    # Centrar el título\n",
    "    fig.update_layout(title=dict(text=equation, x=0.5, xanchor='center'))\n",
    "\n",
    "    # Etiquetas de los ejes y rango del eje z\n",
    "    fig.update_layout(scene=dict(xaxis_title=list(dicc_model.keys())[0].replace(\"_model\", \"\"), yaxis_title=list(dicc_model.keys())[1].replace(\"_model\", \"\"), zaxis_title='Acentuación', zaxis=dict(range=[0, 6])))\n",
    "\n",
    "    fig.write_html(os.path.join(PATH, TEST_FOLDER, REGGRESSION_FOLDER, ACENTUACION_FOLDER, MALE_FOLDER, 'regresion_acentuacion_multivariable_male.html'))\n",
    "\n",
    "    fig.show()\n"
   ]
  },
  {
   "attachments": {},
   "cell_type": "markdown",
   "id": "aed96fb8",
   "metadata": {
    "papermill": {
     "duration": 0.31164,
     "end_time": "2023-06-11T00:34:27.395064",
     "exception": false,
     "start_time": "2023-06-11T00:34:27.083424",
     "status": "completed"
    },
    "tags": []
   },
   "source": [
    "#### Femenino"
   ]
  },
  {
   "cell_type": "code",
   "execution_count": 48,
   "id": "4d40234e",
   "metadata": {
    "execution": {
     "iopub.execute_input": "2023-06-11T00:34:27.862331Z",
     "iopub.status.busy": "2023-06-11T00:34:27.862331Z",
     "iopub.status.idle": "2023-06-11T00:34:27.893582Z",
     "shell.execute_reply": "2023-06-11T00:34:27.893582Z"
    },
    "papermill": {
     "duration": 0.298852,
     "end_time": "2023-06-11T00:34:27.893582",
     "exception": false,
     "start_time": "2023-06-11T00:34:27.594730",
     "status": "completed"
    },
    "tags": []
   },
   "outputs": [],
   "source": [
    "mask_gender = df_acentuacion.genero == 'femenino'\n",
    "\n",
    "df_acentuacion_female = df_acentuacion[mask_gender].drop(columns=['genero'])"
   ]
  },
  {
   "cell_type": "code",
   "execution_count": 49,
   "id": "8d8faced",
   "metadata": {
    "execution": {
     "iopub.execute_input": "2023-06-11T00:34:28.569693Z",
     "iopub.status.busy": "2023-06-11T00:34:28.569693Z",
     "iopub.status.idle": "2023-06-11T00:34:28.694694Z",
     "shell.execute_reply": "2023-06-11T00:34:28.694694Z"
    },
    "papermill": {
     "duration": 0.41929,
     "end_time": "2023-06-11T00:34:28.694694",
     "exception": false,
     "start_time": "2023-06-11T00:34:28.275404",
     "status": "completed"
    },
    "tags": []
   },
   "outputs": [
    {
     "name": "stdout",
     "output_type": "stream",
     "text": [
      "Características seleccionadas: (1, 2)\n"
     ]
    }
   ],
   "source": [
    "# Cargamos los datos\n",
    "X = np.array(df_acentuacion_female.drop(columns=['Acentuacion'])) # df_objetivos es el DataFrame con los parámetros objetivos\n",
    "y = np.array(df_acentuacion_female.Acentuacion) # df_subjetivos es el DataFrame con los parámetros subjetivos\n",
    "\n",
    "# Creamos el modelo de regresión kNN\n",
    "regr_multivar = SVR(kernel='linear')\n",
    "\n",
    "# Creamos el selector de características hacia adelante\n",
    "forward_selector = SequentialFeatureSelector(regr_multivar, k_features='best', forward=True, scoring='neg_mean_squared_error')\n",
    "\n",
    "# Entrenamos el selector de características\n",
    "forward_selector.fit(X, y)\n",
    "\n",
    "# Obtenemos las características seleccionadas\n",
    "selected_features = forward_selector.k_feature_idx_\n",
    "\n",
    "# Imprimimos las características seleccionadas\n",
    "print('Características seleccionadas:', selected_features)\n"
   ]
  },
  {
   "cell_type": "code",
   "execution_count": 50,
   "id": "9e9c8d0a",
   "metadata": {
    "execution": {
     "iopub.execute_input": "2023-06-11T00:34:29.288453Z",
     "iopub.status.busy": "2023-06-11T00:34:29.288453Z",
     "iopub.status.idle": "2023-06-11T00:34:49.738299Z",
     "shell.execute_reply": "2023-06-11T00:34:49.738299Z"
    },
    "papermill": {
     "duration": 20.666947,
     "end_time": "2023-06-11T00:34:49.738299",
     "exception": false,
     "start_time": "2023-06-11T00:34:29.071352",
     "status": "completed"
    },
    "tags": []
   },
   "outputs": [
    {
     "name": "stdout",
     "output_type": "stream",
     "text": [
      "ZCR p-valor: 0.40559440559440557\n",
      "RMS p-valor: 0.028971028971028972\n",
      "f0 p-valor: 0.2917082917082917\n"
     ]
    }
   ],
   "source": [
    "# Establecemos la semilla aleatoria para reproducibilidad\n",
    "random_state = check_random_state(0)\n",
    "\n",
    "p_values = []\n",
    "\n",
    "for i in range(X.shape[1]):\n",
    "    \n",
    "    # Seleccionamos solo una columna en X\n",
    "    X_single = X[:, i].reshape(-1, 1)\n",
    "    \n",
    "    # Aplicamos la prueba de permutación\n",
    "    score, permutation_scores, pvalue = permutation_test_score(regr_multivar, X_single, y, scoring='neg_mean_squared_error', cv=5, n_permutations=1000, random_state=random_state)\n",
    "    \n",
    "    p_values.append(pvalue)\n",
    "\n",
    "    # Imprimimos el p-valor\n",
    "    if i == 0:\n",
    "        var = 'ZCR'\n",
    "    elif i == 1:\n",
    "        var = 'RMS'\n",
    "    else:\n",
    "        var = 'f0'\n",
    "    print(f'{var} p-valor:', pvalue)\n"
   ]
  },
  {
   "cell_type": "code",
   "execution_count": 51,
   "id": "c3e0667b",
   "metadata": {
    "execution": {
     "iopub.execute_input": "2023-06-11T00:34:49.953528Z",
     "iopub.status.busy": "2023-06-11T00:34:49.937923Z",
     "iopub.status.idle": "2023-06-11T00:34:49.969154Z",
     "shell.execute_reply": "2023-06-11T00:34:49.969154Z"
    },
    "papermill": {
     "duration": 0.137273,
     "end_time": "2023-06-11T00:34:49.969154",
     "exception": false,
     "start_time": "2023-06-11T00:34:49.831881",
     "status": "completed"
    },
    "tags": []
   },
   "outputs": [],
   "source": [
    "# Dicc auxiliar con los nombres asociadas a las variables\n",
    "dicc_names_features = {\n",
    "    'zcr_model': 0,\n",
    "    'rms_model': 1,\n",
    "    'f0_model': 2\n",
    "}\n",
    "\n",
    "# Dicc de los modelos\n",
    "dicc_model = {}\n",
    "\n",
    "# Dicc de las predicciones\n",
    "dicc_pred = {}\n",
    "\n",
    "for selected_feature in selected_features:\n",
    "    # Entrenamos el modelo de regresión con las características seleccionadas\n",
    "    regr_multivar = SVR(kernel='linear')\n",
    "    regr_multivar.fit(X[:, selected_feature].reshape(-1, 1), y.ravel())\n",
    "\n",
    "    # Almacenamos en dicc_model la clave asociada al modelo que se entrenó y el objeto modelo\n",
    "    for key, value in dicc_names_features.items():\n",
    "        if value == selected_feature:\n",
    "            dicc_model[key] = regr_multivar\n",
    "\n",
    "    # Obtenemos las predicciones del modelo para las características seleccionadas\n",
    "    y_pred = regr_multivar.predict(X[:, selected_feature].reshape(-1, 1))\n",
    "\n",
    "    # Almacenamos en dicc_pred la clave asociada al modelo que se entrenó y la predicción\n",
    "    for key, value in dicc_names_features.items():\n",
    "        if value == selected_feature:\n",
    "            dicc_pred[key] = y_pred\n"
   ]
  },
  {
   "cell_type": "code",
   "execution_count": 52,
   "id": "ba02adb5",
   "metadata": {
    "execution": {
     "iopub.execute_input": "2023-06-11T00:34:50.479872Z",
     "iopub.status.busy": "2023-06-11T00:34:50.479872Z",
     "iopub.status.idle": "2023-06-11T00:34:50.511123Z",
     "shell.execute_reply": "2023-06-11T00:34:50.511123Z"
    },
    "papermill": {
     "duration": 0.338844,
     "end_time": "2023-06-11T00:34:50.511123",
     "exception": false,
     "start_time": "2023-06-11T00:34:50.172279",
     "status": "completed"
    },
    "tags": []
   },
   "outputs": [
    {
     "name": "stdout",
     "output_type": "stream",
     "text": [
      "y = 0.17 * RMS + 8.92 - p-valor = 0.029\n",
      "y = -0.02 * $f_{0}$ + 6.14 - p-valor = 0.292\n"
     ]
    }
   ],
   "source": [
    "list_equ = []\n",
    "\n",
    "for key, model in dicc_model.items():\n",
    "    # Obtenemos los valores de w y b\n",
    "    w = model.coef_[0][0]\n",
    "    b = model.intercept_[0]\n",
    "    \n",
    "    label = key.replace(\"_model\", \"\")\n",
    "    if label == 'f0':\n",
    "        label = r'$f_{0}$'\n",
    "    else:\n",
    "        label = label.upper()\n",
    "\n",
    "    # Construimos la cadena de texto para la ecuación del hiperplano y su p-valor\n",
    "    equation = f'y = {w:.2f} * {label} + {b:.2f} - p-valor = {p_values[dicc_names_features[key]]:.3f}'\n",
    "\n",
    "    # Agregamos la cadena a la lista\n",
    "    list_equ.append(equation)\n",
    "\n",
    "# Mostramos el resultado\n",
    "for equ in list_equ:\n",
    "    print(equ)\n"
   ]
  },
  {
   "cell_type": "code",
   "execution_count": 53,
   "id": "0b6cab5d",
   "metadata": {
    "execution": {
     "iopub.execute_input": "2023-06-11T00:34:51.152524Z",
     "iopub.status.busy": "2023-06-11T00:34:51.152524Z",
     "iopub.status.idle": "2023-06-11T00:34:53.007692Z",
     "shell.execute_reply": "2023-06-11T00:34:53.005576Z"
    },
    "papermill": {
     "duration": 2.262198,
     "end_time": "2023-06-11T00:34:53.007692",
     "exception": false,
     "start_time": "2023-06-11T00:34:50.745494",
     "status": "completed"
    },
    "tags": []
   },
   "outputs": [
    {
     "data": {
      "image/png": "[encoded data removed]",
      "text/plain": [
       "<Figure size 1200x400 with 2 Axes>"
      ]
     },
     "metadata": {},
     "output_type": "display_data"
    }
   ],
   "source": [
    "dims = (6 * len(dicc_model), 4)\n",
    "fig, ax = plt.subplots(figsize=dims, ncols=len(dicc_model))\n",
    "\n",
    "with sns.axes_style('darkgrid'):\n",
    "    for i, (key, model) in enumerate(dicc_model.items()):\n",
    "        if isinstance(ax, np.ndarray):\n",
    "            ax_i = ax[i]\n",
    "        else:\n",
    "            ax_i = ax\n",
    "        label = key.replace(\"_model\", \"\")\n",
    "        if label == 'f0':\n",
    "            label = r'$f_{0}$'\n",
    "        else:\n",
    "            label = label.upper()\n",
    "        g = sns.scatterplot(x=X[:, dicc_names_features[key]], y=y, ax=ax_i, color='blue')\n",
    "        g = sns.lineplot(x=X[:, dicc_names_features[key]], y=dicc_pred[key], ax=ax_i, color='red')\n",
    "        g.text(0.5, -0.1, label, weight='bold', size='large', family='Arial', stretch='extra-expanded', ha='center', va='top', transform=g.transAxes)\n",
    "        g.set_ylabel('Acentuación', weight='bold', size='large', alpha=0.8, family='Arial', stretch='extra-expanded')\n",
    "        g.set_title(list_equ[i], weight='bold', size='x-large', alpha=0.8, family='Arial', stretch='extra-expanded')\n",
    "        g.grid(alpha=0.7)\n",
    "        ax_i.set_ylim(0, 6)\n",
    "\n",
    "    plt.tight_layout()\n",
    "    plt.savefig(os.path.join(PATH, TEST_FOLDER, REGGRESSION_FOLDER, ACENTUACION_FOLDER, FEMALE_FOLDER, 'regresiones_acentuacion_female.png'))\n",
    "    plt.show()\n"
   ]
  },
  {
   "cell_type": "code",
   "execution_count": 54,
   "id": "87975b39",
   "metadata": {
    "execution": {
     "iopub.execute_input": "2023-06-11T00:34:53.521772Z",
     "iopub.status.busy": "2023-06-11T00:34:53.520775Z",
     "iopub.status.idle": "2023-06-11T00:34:53.806295Z",
     "shell.execute_reply": "2023-06-11T00:34:53.805227Z"
    },
    "papermill": {
     "duration": 0.617562,
     "end_time": "2023-06-11T00:34:53.811799",
     "exception": false,
     "start_time": "2023-06-11T00:34:53.194237",
     "status": "completed"
    },
    "tags": []
   },
   "outputs": [
    {
     "data": {
      "application/vnd.plotly.v1+json": {
       "config": {
        "plotlyServerURL": "https://plot.ly"
       },
       "data": [
        {
         "hovertemplate": "x=%{x}<br>y=%{y}<br>z=%{z}<extra></extra>",
         "legendgroup": "",
         "marker": {
          "color": "#636efa",
          "symbol": "circle"
         },
         "mode": "markers",
         "name": "",
         "scene": "scene",
         "showlegend": false,
         "type": "scatter3d",
         "x": [
          -27.5,
          -26.1,
          -27,
          -30,
          -29,
          -28.5,
          -25.5,
          -26.5,
          -29.5,
          -28
         ],
         "y": [
          111.111716480441,
          116.353345265724,
          101.312090449968,
          101.534873965827,
          117.741416962869,
          119.577565453938,
          100.992252773665,
          117.898565521619,
          102.269338478718,
          94.7081174667994
         ],
         "z": [
          4.525,
          4.225,
          4.325,
          3.65,
          2.95,
          4.075,
          4.625,
          3.8,
          4.025,
          4.525
         ]
        },
        {
         "opacity": 0.5,
         "type": "surface",
         "x": [
          [
           -27.5,
           -26.1,
           -27,
           -30,
           -29,
           -28.5,
           -25.5,
           -26.5,
           -29.5,
           -28
          ],
          [
           -27.5,
           -26.1,
           -27,
           -30,
           -29,
           -28.5,
           -25.5,
           -26.5,
           -29.5,
           -28
          ],
          [
           -27.5,
           -26.1,
           -27,
           -30,
           -29,
           -28.5,
           -25.5,
           -26.5,
           -29.5,
           -28
          ],
          [
           -27.5,
           -26.1,
           -27,
           -30,
           -29,
           -28.5,
           -25.5,
           -26.5,
           -29.5,
           -28
          ],
          [
           -27.5,
           -26.1,
           -27,
           -30,
           -29,
           -28.5,
           -25.5,
           -26.5,
           -29.5,
           -28
          ],
          [
           -27.5,
           -26.1,
           -27,
           -30,
           -29,
           -28.5,
           -25.5,
           -26.5,
           -29.5,
           -28
          ],
          [
           -27.5,
           -26.1,
           -27,
           -30,
           -29,
           -28.5,
           -25.5,
           -26.5,
           -29.5,
           -28
          ],
          [
           -27.5,
           -26.1,
           -27,
           -30,
           -29,
           -28.5,
           -25.5,
           -26.5,
           -29.5,
           -28
          ],
          [
           -27.5,
           -26.1,
           -27,
           -30,
           -29,
           -28.5,
           -25.5,
           -26.5,
           -29.5,
           -28
          ],
          [
           -27.5,
           -26.1,
           -27,
           -30,
           -29,
           -28.5,
           -25.5,
           -26.5,
           -29.5,
           -28
          ]
         ],
         "y": [
          [
           111.111716480441,
           111.111716480441,
           111.111716480441,
           111.111716480441,
           111.111716480441,
           111.111716480441,
           111.111716480441,
           111.111716480441,
           111.111716480441,
           111.111716480441
          ],
          [
           116.353345265724,
           116.353345265724,
           116.353345265724,
           116.353345265724,
           116.353345265724,
           116.353345265724,
           116.353345265724,
           116.353345265724,
           116.353345265724,
           116.353345265724
          ],
          [
           101.312090449968,
           101.312090449968,
           101.312090449968,
           101.312090449968,
           101.312090449968,
           101.312090449968,
           101.312090449968,
           101.312090449968,
           101.312090449968,
           101.312090449968
          ],
          [
           101.534873965827,
           101.534873965827,
           101.534873965827,
           101.534873965827,
           101.534873965827,
           101.534873965827,
           101.534873965827,
           101.534873965827,
           101.534873965827,
           101.534873965827
          ],
          [
           117.741416962869,
           117.741416962869,
           117.741416962869,
           117.741416962869,
           117.741416962869,
           117.741416962869,
           117.741416962869,
           117.741416962869,
           117.741416962869,
           117.741416962869
          ],
          [
           119.577565453938,
           119.577565453938,
           119.577565453938,
           119.577565453938,
           119.577565453938,
           119.577565453938,
           119.577565453938,
           119.577565453938,
           119.577565453938,
           119.577565453938
          ],
          [
           100.992252773665,
           100.992252773665,
           100.992252773665,
           100.992252773665,
           100.992252773665,
           100.992252773665,
           100.992252773665,
           100.992252773665,
           100.992252773665,
           100.992252773665
          ],
          [
           117.898565521619,
           117.898565521619,
           117.898565521619,
           117.898565521619,
           117.898565521619,
           117.898565521619,
           117.898565521619,
           117.898565521619,
           117.898565521619,
           117.898565521619
          ],
          [
           102.269338478718,
           102.269338478718,
           102.269338478718,
           102.269338478718,
           102.269338478718,
           102.269338478718,
           102.269338478718,
           102.269338478718,
           102.269338478718,
           102.269338478718
          ],
          [
           94.7081174667994,
           94.7081174667994,
           94.7081174667994,
           94.7081174667994,
           94.7081174667994,
           94.7081174667994,
           94.7081174667994,
           94.7081174667994,
           94.7081174667994,
           94.7081174667994
          ]
         ],
         "z": [
          [
           4.019482368392126,
           4.289739423547072,
           4.116002745233178,
           3.536880484186863,
           3.729921237868968,
           3.8264416147100206,
           4.405563875756336,
           4.212523122074231,
           3.6334008610279156,
           3.922961991551073
          ],
          [
           3.8545292976581234,
           4.12478635281307,
           3.951049674499176,
           3.3719274134528607,
           3.564968167134966,
           3.6614885439760183,
           4.2406108050223335,
           4.047570051340228,
           3.4684477902939133,
           3.758008920817071
          ],
          [
           4.327874754039502,
           4.598131809194449,
           4.424395130880555,
           3.8452728698342398,
           4.038313623516345,
           4.134834000357397,
           4.7139562614037125,
           4.520915507721607,
           3.9417932466752923,
           4.23135437719845
          ],
          [
           4.320863798751512,
           4.5911208539064585,
           4.417384175592565,
           3.8382619145462495,
           4.031302668228355,
           4.127823045069407,
           4.706945306115722,
           4.513904552433617,
           3.934782291387302,
           4.22434342191046
          ],
          [
           3.810846942759987,
           4.0811039979149335,
           3.9073673196010397,
           3.3282450585547245,
           3.5212858122368296,
           3.617806189077882,
           4.196928450124197,
           4.003887696442092,
           3.424765435395777,
           3.7143265659189346
          ],
          [
           3.7530636955419006,
           4.023320750696847,
           3.849584072382953,
           3.270461811336638,
           3.463502565018743,
           3.5600229418597955,
           4.139145202906111,
           3.9461044492240056,
           3.3669821881776905,
           3.656543318700848
          ],
          [
           4.337939985478771,
           4.608197040633717,
           4.4344603623198235,
           3.8553381012735084,
           4.0483788549556134,
           4.144899231796666,
           4.724021492842981,
           4.530980739160876,
           3.951858478114561,
           4.2414196086377185
          ],
          [
           3.8059015072113986,
           4.076158562366345,
           3.902421884052451,
           3.323299623006136,
           3.516340376688241,
           3.6128607535292936,
           4.191983014575609,
           3.9989422608935037,
           3.4198199998471885,
           3.709381130370346
          ],
          [
           4.29775033885014,
           4.568007394005086,
           4.394270715691192,
           3.815148454644877,
           4.008189208326982,
           4.104709585168035,
           4.68383184621435,
           4.490791092532245,
           3.9116688314859296,
           4.201229962009087
          ],
          [
           4.5357005401151245,
           4.805957595270071,
           4.632220916956177,
           4.053098655909862,
           4.246139409591967,
           4.342659786433019,
           4.921782047479335,
           4.7287412937972295,
           4.149619032750914,
           4.439180163274072
          ]
         ]
        }
       ],
       "layout": {
        "legend": {
         "tracegroupgap": 0
        },
        "margin": {
         "t": 60
        },
        "scene": {
         "domain": {
          "x": [
           0,
           1
          ],
          "y": [
           0,
           1
          ]
         },
         "xaxis": {
          "title": {
           "text": "rms"
          }
         },
         "yaxis": {
          "tickvals": [
           100,
           105,
           110,
           115
          ],
          "title": {
           "text": "f0"
          }
         },
         "zaxis": {
          "range": [
           0,
           6
          ],
          "title": {
           "text": "Acentuación"
          }
         }
        },
        "template": {
         "data": {
          "bar": [
           {
            "error_x": {
             "color": "#2a3f5f"
            },
            "error_y": {
             "color": "#2a3f5f"
            },
            "marker": {
             "line": {
              "color": "#E5ECF6",
              "width": 0.5
             },
             "pattern": {
              "fillmode": "overlay",
              "size": 10,
              "solidity": 0.2
             }
            },
            "type": "bar"
           }
          ],
          "barpolar": [
           {
            "marker": {
             "line": {
              "color": "#E5ECF6",
              "width": 0.5
             },
             "pattern": {
              "fillmode": "overlay",
              "size": 10,
              "solidity": 0.2
             }
            },
            "type": "barpolar"
           }
          ],
          "carpet": [
           {
            "aaxis": {
             "endlinecolor": "#2a3f5f",
             "gridcolor": "white",
             "linecolor": "white",
             "minorgridcolor": "white",
             "startlinecolor": "#2a3f5f"
            },
            "baxis": {
             "endlinecolor": "#2a3f5f",
             "gridcolor": "white",
             "linecolor": "white",
             "minorgridcolor": "white",
             "startlinecolor": "#2a3f5f"
            },
            "type": "carpet"
           }
          ],
          "choropleth": [
           {
            "colorbar": {
             "outlinewidth": 0,
             "ticks": ""
            },
            "type": "choropleth"
           }
          ],
          "contour": [
           {
            "colorbar": {
             "outlinewidth": 0,
             "ticks": ""
            },
            "colorscale": [
             [
              0,
              "#0d0887"
             ],
             [
              0.1111111111111111,
              "#46039f"
             ],
             [
              0.2222222222222222,
              "#7201a8"
             ],
             [
              0.3333333333333333,
              "#9c179e"
             ],
             [
              0.4444444444444444,
              "#bd3786"
             ],
             [
              0.5555555555555556,
              "#d8576b"
             ],
             [
              0.6666666666666666,
              "#ed7953"
             ],
             [
              0.7777777777777778,
              "#fb9f3a"
             ],
             [
              0.8888888888888888,
              "#fdca26"
             ],
             [
              1,
              "#f0f921"
             ]
            ],
            "type": "contour"
           }
          ],
          "contourcarpet": [
           {
            "colorbar": {
             "outlinewidth": 0,
             "ticks": ""
            },
            "type": "contourcarpet"
           }
          ],
          "heatmap": [
           {
            "colorbar": {
             "outlinewidth": 0,
             "ticks": ""
            },
            "colorscale": [
             [
              0,
              "#0d0887"
             ],
             [
              0.1111111111111111,
              "#46039f"
             ],
             [
              0.2222222222222222,
              "#7201a8"
             ],
             [
              0.3333333333333333,
              "#9c179e"
             ],
             [
              0.4444444444444444,
              "#bd3786"
             ],
             [
              0.5555555555555556,
              "#d8576b"
             ],
             [
              0.6666666666666666,
              "#ed7953"
             ],
             [
              0.7777777777777778,
              "#fb9f3a"
             ],
             [
              0.8888888888888888,
              "#fdca26"
             ],
             [
              1,
              "#f0f921"
             ]
            ],
            "type": "heatmap"
           }
          ],
          "heatmapgl": [
           {
            "colorbar": {
             "outlinewidth": 0,
             "ticks": ""
            },
            "colorscale": [
             [
              0,
              "#0d0887"
             ],
             [
              0.1111111111111111,
              "#46039f"
             ],
             [
              0.2222222222222222,
              "#7201a8"
             ],
             [
              0.3333333333333333,
              "#9c179e"
             ],
             [
              0.4444444444444444,
              "#bd3786"
             ],
             [
              0.5555555555555556,
              "#d8576b"
             ],
             [
              0.6666666666666666,
              "#ed7953"
             ],
             [
              0.7777777777777778,
              "#fb9f3a"
             ],
             [
              0.8888888888888888,
              "#fdca26"
             ],
             [
              1,
              "#f0f921"
             ]
            ],
            "type": "heatmapgl"
           }
          ],
          "histogram": [
           {
            "marker": {
             "pattern": {
              "fillmode": "overlay",
              "size": 10,
              "solidity": 0.2
             }
            },
            "type": "histogram"
           }
          ],
          "histogram2d": [
           {
            "colorbar": {
             "outlinewidth": 0,
             "ticks": ""
            },
            "colorscale": [
             [
              0,
              "#0d0887"
             ],
             [
              0.1111111111111111,
              "#46039f"
             ],
             [
              0.2222222222222222,
              "#7201a8"
             ],
             [
              0.3333333333333333,
              "#9c179e"
             ],
             [
              0.4444444444444444,
              "#bd3786"
             ],
             [
              0.5555555555555556,
              "#d8576b"
             ],
             [
              0.6666666666666666,
              "#ed7953"
             ],
             [
              0.7777777777777778,
              "#fb9f3a"
             ],
             [
              0.8888888888888888,
              "#fdca26"
             ],
             [
              1,
              "#f0f921"
             ]
            ],
            "type": "histogram2d"
           }
          ],
          "histogram2dcontour": [
           {
            "colorbar": {
             "outlinewidth": 0,
             "ticks": ""
            },
            "colorscale": [
             [
              0,
              "#0d0887"
             ],
             [
              0.1111111111111111,
              "#46039f"
             ],
             [
              0.2222222222222222,
              "#7201a8"
             ],
             [
              0.3333333333333333,
              "#9c179e"
             ],
             [
              0.4444444444444444,
              "#bd3786"
             ],
             [
              0.5555555555555556,
              "#d8576b"
             ],
             [
              0.6666666666666666,
              "#ed7953"
             ],
             [
              0.7777777777777778,
              "#fb9f3a"
             ],
             [
              0.8888888888888888,
              "#fdca26"
             ],
             [
              1,
              "#f0f921"
             ]
            ],
            "type": "histogram2dcontour"
           }
          ],
          "mesh3d": [
           {
            "colorbar": {
             "outlinewidth": 0,
             "ticks": ""
            },
            "type": "mesh3d"
           }
          ],
          "parcoords": [
           {
            "line": {
             "colorbar": {
              "outlinewidth": 0,
              "ticks": ""
             }
            },
            "type": "parcoords"
           }
          ],
          "pie": [
           {
            "automargin": true,
            "type": "pie"
           }
          ],
          "scatter": [
           {
            "fillpattern": {
             "fillmode": "overlay",
             "size": 10,
             "solidity": 0.2
            },
            "type": "scatter"
           }
          ],
          "scatter3d": [
           {
            "line": {
             "colorbar": {
              "outlinewidth": 0,
              "ticks": ""
             }
            },
            "marker": {
             "colorbar": {
              "outlinewidth": 0,
              "ticks": ""
             }
            },
            "type": "scatter3d"
           }
          ],
          "scattercarpet": [
           {
            "marker": {
             "colorbar": {
              "outlinewidth": 0,
              "ticks": ""
             }
            },
            "type": "scattercarpet"
           }
          ],
          "scattergeo": [
           {
            "marker": {
             "colorbar": {
              "outlinewidth": 0,
              "ticks": ""
             }
            },
            "type": "scattergeo"
           }
          ],
          "scattergl": [
           {
            "marker": {
             "colorbar": {
              "outlinewidth": 0,
              "ticks": ""
             }
            },
            "type": "scattergl"
           }
          ],
          "scattermapbox": [
           {
            "marker": {
             "colorbar": {
              "outlinewidth": 0,
              "ticks": ""
             }
            },
            "type": "scattermapbox"
           }
          ],
          "scatterpolar": [
           {
            "marker": {
             "colorbar": {
              "outlinewidth": 0,
              "ticks": ""
             }
            },
            "type": "scatterpolar"
           }
          ],
          "scatterpolargl": [
           {
            "marker": {
             "colorbar": {
              "outlinewidth": 0,
              "ticks": ""
             }
            },
            "type": "scatterpolargl"
           }
          ],
          "scatterternary": [
           {
            "marker": {
             "colorbar": {
              "outlinewidth": 0,
              "ticks": ""
             }
            },
            "type": "scatterternary"
           }
          ],
          "surface": [
           {
            "colorbar": {
             "outlinewidth": 0,
             "ticks": ""
            },
            "colorscale": [
             [
              0,
              "#0d0887"
             ],
             [
              0.1111111111111111,
              "#46039f"
             ],
             [
              0.2222222222222222,
              "#7201a8"
             ],
             [
              0.3333333333333333,
              "#9c179e"
             ],
             [
              0.4444444444444444,
              "#bd3786"
             ],
             [
              0.5555555555555556,
              "#d8576b"
             ],
             [
              0.6666666666666666,
              "#ed7953"
             ],
             [
              0.7777777777777778,
              "#fb9f3a"
             ],
             [
              0.8888888888888888,
              "#fdca26"
             ],
             [
              1,
              "#f0f921"
             ]
            ],
            "type": "surface"
           }
          ],
          "table": [
           {
            "cells": {
             "fill": {
              "color": "#EBF0F8"
             },
             "line": {
              "color": "white"
             }
            },
            "header": {
             "fill": {
              "color": "#C8D4E3"
             },
             "line": {
              "color": "white"
             }
            },
            "type": "table"
           }
          ]
         },
         "layout": {
          "annotationdefaults": {
           "arrowcolor": "#2a3f5f",
           "arrowhead": 0,
           "arrowwidth": 1
          },
          "autotypenumbers": "strict",
          "coloraxis": {
           "colorbar": {
            "outlinewidth": 0,
            "ticks": ""
           }
          },
          "colorscale": {
           "diverging": [
            [
             0,
             "#8e0152"
            ],
            [
             0.1,
             "#c51b7d"
            ],
            [
             0.2,
             "#de77ae"
            ],
            [
             0.3,
             "#f1b6da"
            ],
            [
             0.4,
             "#fde0ef"
            ],
            [
             0.5,
             "#f7f7f7"
            ],
            [
             0.6,
             "#e6f5d0"
            ],
            [
             0.7,
             "#b8e186"
            ],
            [
             0.8,
             "#7fbc41"
            ],
            [
             0.9,
             "#4d9221"
            ],
            [
             1,
             "#276419"
            ]
           ],
           "sequential": [
            [
             0,
             "#0d0887"
            ],
            [
             0.1111111111111111,
             "#46039f"
            ],
            [
             0.2222222222222222,
             "#7201a8"
            ],
            [
             0.3333333333333333,
             "#9c179e"
            ],
            [
             0.4444444444444444,
             "#bd3786"
            ],
            [
             0.5555555555555556,
             "#d8576b"
            ],
            [
             0.6666666666666666,
             "#ed7953"
            ],
            [
             0.7777777777777778,
             "#fb9f3a"
            ],
            [
             0.8888888888888888,
             "#fdca26"
            ],
            [
             1,
             "#f0f921"
            ]
           ],
           "sequentialminus": [
            [
             0,
             "#0d0887"
            ],
            [
             0.1111111111111111,
             "#46039f"
            ],
            [
             0.2222222222222222,
             "#7201a8"
            ],
            [
             0.3333333333333333,
             "#9c179e"
            ],
            [
             0.4444444444444444,
             "#bd3786"
            ],
            [
             0.5555555555555556,
             "#d8576b"
            ],
            [
             0.6666666666666666,
             "#ed7953"
            ],
            [
             0.7777777777777778,
             "#fb9f3a"
            ],
            [
             0.8888888888888888,
             "#fdca26"
            ],
            [
             1,
             "#f0f921"
            ]
           ]
          },
          "colorway": [
           "#636efa",
           "#EF553B",
           "#00cc96",
           "#ab63fa",
           "#FFA15A",
           "#19d3f3",
           "#FF6692",
           "#B6E880",
           "#FF97FF",
           "#FECB52"
          ],
          "font": {
           "color": "#2a3f5f"
          },
          "geo": {
           "bgcolor": "white",
           "lakecolor": "white",
           "landcolor": "#E5ECF6",
           "showlakes": true,
           "showland": true,
           "subunitcolor": "white"
          },
          "hoverlabel": {
           "align": "left"
          },
          "hovermode": "closest",
          "mapbox": {
           "style": "light"
          },
          "paper_bgcolor": "white",
          "plot_bgcolor": "#E5ECF6",
          "polar": {
           "angularaxis": {
            "gridcolor": "white",
            "linecolor": "white",
            "ticks": ""
           },
           "bgcolor": "#E5ECF6",
           "radialaxis": {
            "gridcolor": "white",
            "linecolor": "white",
            "ticks": ""
           }
          },
          "scene": {
           "xaxis": {
            "backgroundcolor": "#E5ECF6",
            "gridcolor": "white",
            "gridwidth": 2,
            "linecolor": "white",
            "showbackground": true,
            "ticks": "",
            "zerolinecolor": "white"
           },
           "yaxis": {
            "backgroundcolor": "#E5ECF6",
            "gridcolor": "white",
            "gridwidth": 2,
            "linecolor": "white",
            "showbackground": true,
            "ticks": "",
            "zerolinecolor": "white"
           },
           "zaxis": {
            "backgroundcolor": "#E5ECF6",
            "gridcolor": "white",
            "gridwidth": 2,
            "linecolor": "white",
            "showbackground": true,
            "ticks": "",
            "zerolinecolor": "white"
           }
          },
          "shapedefaults": {
           "line": {
            "color": "#2a3f5f"
           }
          },
          "ternary": {
           "aaxis": {
            "gridcolor": "white",
            "linecolor": "white",
            "ticks": ""
           },
           "baxis": {
            "gridcolor": "white",
            "linecolor": "white",
            "ticks": ""
           },
           "bgcolor": "#E5ECF6",
           "caxis": {
            "gridcolor": "white",
            "linecolor": "white",
            "ticks": ""
           }
          },
          "title": {
           "x": 0.05
          },
          "xaxis": {
           "automargin": true,
           "gridcolor": "white",
           "linecolor": "white",
           "ticks": "",
           "title": {
            "standoff": 15
           },
           "zerolinecolor": "white",
           "zerolinewidth": 2
          },
          "yaxis": {
           "automargin": true,
           "gridcolor": "white",
           "linecolor": "white",
           "ticks": "",
           "title": {
            "standoff": 15
           },
           "zerolinecolor": "white",
           "zerolinewidth": 2
          }
         }
        },
        "title": {
         "text": "z = 12.82 + 0.19 * rms + -0.03 * f0",
         "x": 0.5,
         "xanchor": "center"
        }
       }
      }
     },
     "metadata": {},
     "output_type": "display_data"
    }
   ],
   "source": [
    "if len(dicc_model) == 2:\n",
    "    import plotly.express as px\n",
    "    import plotly.graph_objects as go\n",
    "\n",
    "    # Seleccionamos solo las características seleccionadas en X\n",
    "    X_selected = X[:, selected_features]\n",
    "\n",
    "    # Entrenamos el modelo de regresión con las características seleccionadas\n",
    "    regr_multivar = SVR(kernel='linear')\n",
    "    regr_multivar.fit(X_selected, y)\n",
    "\n",
    "    # Obtenemos las predicciones del modelo para las características seleccionadas\n",
    "    y_pred = regr_multivar.predict(X_selected)\n",
    "\n",
    "    # Crear la figura\n",
    "    fig = px.scatter_3d(x=X_selected[:, 0], y=X_selected[:, 1], z=y)\n",
    "\n",
    "    # Crear el plano de regresión\n",
    "    xx, yy = np.meshgrid(X_selected[:, 0], X_selected[:, 1])\n",
    "    zz = regr_multivar.intercept_ + np.dot(np.array([xx.ravel(), yy.ravel()]).T, regr_multivar.coef_.ravel()).reshape(xx.shape)\n",
    "    fig.add_trace(go.Surface(x=xx, y=yy, z=zz, opacity=0.5))\n",
    "\n",
    "    # Construir la cadena de texto para la ecuación del plano\n",
    "    equation = f'z = {regr_multivar.intercept_[0].round(2)}'\n",
    "    for i, (key, model) in enumerate(dicc_model.items()):\n",
    "        equation += f' + {regr_multivar.coef_[0][i].round(2)} * {key.replace(\"_model\", \"\")}'\n",
    "    \n",
    "    # Centrar el título\n",
    "    fig.update_layout(title=dict(text=equation, x=0.5, xanchor='center'))\n",
    "\n",
    "    # Etiquetas de los ejes y rango del eje z\n",
    "    fig.update_layout(scene=dict(xaxis_title=list(dicc_model.keys())[0].replace(\"_model\", \"\"), yaxis_title=list(dicc_model.keys())[1].replace(\"_model\", \"\"), zaxis_title='Acentuación', zaxis=dict(range=[0, 6]), yaxis=dict(tickvals=[100, 105, 110, 115])))\n",
    "\n",
    "    fig.write_html(os.path.join(PATH, TEST_FOLDER, REGGRESSION_FOLDER, ACENTUACION_FOLDER, FEMALE_FOLDER, 'regresion_acentuacion_multivariable_female.html'))\n",
    "\n",
    "    fig.show()\n"
   ]
  },
  {
   "attachments": {},
   "cell_type": "markdown",
   "id": "9afe24b5",
   "metadata": {
    "papermill": {
     "duration": 0.293708,
     "end_time": "2023-06-11T00:34:54.440491",
     "exception": false,
     "start_time": "2023-06-11T00:34:54.146783",
     "status": "completed"
    },
    "tags": []
   },
   "source": [
    "### Naturalidad"
   ]
  },
  {
   "cell_type": "code",
   "execution_count": 55,
   "id": "240d9c8e",
   "metadata": {
    "execution": {
     "iopub.execute_input": "2023-06-11T00:34:55.162222Z",
     "iopub.status.busy": "2023-06-11T00:34:55.162222Z",
     "iopub.status.idle": "2023-06-11T00:34:55.177844Z",
     "shell.execute_reply": "2023-06-11T00:34:55.177844Z"
    },
    "papermill": {
     "duration": 0.345803,
     "end_time": "2023-06-11T00:34:55.193472",
     "exception": false,
     "start_time": "2023-06-11T00:34:54.847669",
     "status": "completed"
    },
    "tags": []
   },
   "outputs": [],
   "source": [
    "df_naturalidad = df_union.loc[:, ['Naturalidad', 'zcr', 'rms', 'f0', 'genero']]"
   ]
  },
  {
   "attachments": {},
   "cell_type": "markdown",
   "id": "bedcb547",
   "metadata": {
    "papermill": {
     "duration": 0.295039,
     "end_time": "2023-06-11T00:34:55.915488",
     "exception": false,
     "start_time": "2023-06-11T00:34:55.620449",
     "status": "completed"
    },
    "tags": []
   },
   "source": [
    "#### Masculino"
   ]
  },
  {
   "cell_type": "code",
   "execution_count": 56,
   "id": "3dc67f02",
   "metadata": {
    "execution": {
     "iopub.execute_input": "2023-06-11T00:34:56.799625Z",
     "iopub.status.busy": "2023-06-11T00:34:56.799625Z",
     "iopub.status.idle": "2023-06-11T00:34:56.815257Z",
     "shell.execute_reply": "2023-06-11T00:34:56.815257Z"
    },
    "papermill": {
     "duration": 0.535091,
     "end_time": "2023-06-11T00:34:56.815257",
     "exception": false,
     "start_time": "2023-06-11T00:34:56.280166",
     "status": "completed"
    },
    "tags": []
   },
   "outputs": [],
   "source": [
    "mask_gender = df_naturalidad.genero == 'masculino'\n",
    "\n",
    "df_naturalidad_male = df_naturalidad[mask_gender].drop(columns=['genero'])"
   ]
  },
  {
   "cell_type": "code",
   "execution_count": 57,
   "id": "0b3818c3",
   "metadata": {
    "execution": {
     "iopub.execute_input": "2023-06-11T00:34:57.550205Z",
     "iopub.status.busy": "2023-06-11T00:34:57.549198Z",
     "iopub.status.idle": "2023-06-11T00:34:57.817486Z",
     "shell.execute_reply": "2023-06-11T00:34:57.817486Z"
    },
    "papermill": {
     "duration": 0.598023,
     "end_time": "2023-06-11T00:34:57.817486",
     "exception": false,
     "start_time": "2023-06-11T00:34:57.219463",
     "status": "completed"
    },
    "tags": []
   },
   "outputs": [
    {
     "name": "stdout",
     "output_type": "stream",
     "text": [
      "Características seleccionadas: (0, 1)\n"
     ]
    }
   ],
   "source": [
    "# Cargamos los datos\n",
    "X = np.array(df_naturalidad_male.drop(columns=['Naturalidad'])) # df_objetivos es el DataFrame con los parámetros objetivos\n",
    "y = np.array(df_naturalidad_male.Naturalidad) # df_subjetivos es el DataFrame con los parámetros subjetivos\n",
    "\n",
    "# Creamos el modelo de regresión kNN\n",
    "regr_multivar = SVR(kernel='linear')\n",
    "\n",
    "# Creamos el selector de características hacia adelante\n",
    "forward_selector = SequentialFeatureSelector(regr_multivar, k_features='best', forward=True, scoring='neg_mean_squared_error')\n",
    "\n",
    "# Entrenamos el selector de características\n",
    "forward_selector.fit(X, y)\n",
    "\n",
    "# Obtenemos las características seleccionadas\n",
    "selected_features = forward_selector.k_feature_idx_\n",
    "\n",
    "# Imprimimos las características seleccionadas\n",
    "print('Características seleccionadas:', selected_features)\n"
   ]
  },
  {
   "cell_type": "code",
   "execution_count": 58,
   "id": "b23f4efa",
   "metadata": {
    "execution": {
     "iopub.execute_input": "2023-06-11T00:34:58.387434Z",
     "iopub.status.busy": "2023-06-11T00:34:58.387434Z",
     "iopub.status.idle": "2023-06-11T00:35:19.985808Z",
     "shell.execute_reply": "2023-06-11T00:35:19.985808Z"
    },
    "papermill": {
     "duration": 21.855823,
     "end_time": "2023-06-11T00:35:19.985808",
     "exception": false,
     "start_time": "2023-06-11T00:34:58.129985",
     "status": "completed"
    },
    "tags": []
   },
   "outputs": [
    {
     "name": "stdout",
     "output_type": "stream",
     "text": [
      "ZCR p-valor: 0.01098901098901099\n",
      "RMS p-valor: 0.008991008991008992\n",
      "f0 p-valor: 0.015984015984015984\n"
     ]
    }
   ],
   "source": [
    "# Establecemos la semilla aleatoria para reproducibilidad\n",
    "random_state = check_random_state(0)\n",
    "\n",
    "p_values = []\n",
    "\n",
    "for i in range(X.shape[1]):\n",
    "    \n",
    "    # Seleccionamos solo una columna en X\n",
    "    X_single = X[:, i].reshape(-1, 1)\n",
    "    \n",
    "    # Aplicamos la prueba de permutación\n",
    "    score, permutation_scores, pvalue = permutation_test_score(regr_multivar, X_single, y, scoring='neg_mean_squared_error', cv=5, n_permutations=1000, random_state=random_state)\n",
    "    \n",
    "    p_values.append(pvalue)\n",
    "\n",
    "    # Imprimimos el p-valor\n",
    "    if i == 0:\n",
    "        var = 'ZCR'\n",
    "    elif i == 1:\n",
    "        var = 'RMS'\n",
    "    else:\n",
    "        var = 'f0'\n",
    "    print(f'{var} p-valor:', pvalue)\n"
   ]
  },
  {
   "cell_type": "code",
   "execution_count": 59,
   "id": "6dd1969f",
   "metadata": {
    "execution": {
     "iopub.execute_input": "2023-06-11T00:35:20.221478Z",
     "iopub.status.busy": "2023-06-11T00:35:20.221478Z",
     "iopub.status.idle": "2023-06-11T00:35:20.252725Z",
     "shell.execute_reply": "2023-06-11T00:35:20.252725Z"
    },
    "papermill": {
     "duration": 0.173168,
     "end_time": "2023-06-11T00:35:20.252725",
     "exception": false,
     "start_time": "2023-06-11T00:35:20.079557",
     "status": "completed"
    },
    "tags": []
   },
   "outputs": [],
   "source": [
    "# Dicc auxiliar con los nombres asociadas a las variables\n",
    "dicc_names_features = {\n",
    "    'zcr_model': 0,\n",
    "    'rms_model': 1,\n",
    "    'f0_model': 2\n",
    "}\n",
    "\n",
    "# Dicc de los modelos\n",
    "dicc_model = {}\n",
    "\n",
    "# Dicc de las predicciones\n",
    "dicc_pred = {}\n",
    "\n",
    "for selected_feature in selected_features:\n",
    "    # Entrenamos el modelo de regresión con las características seleccionadas\n",
    "    regr_multivar = SVR(kernel='linear')\n",
    "    regr_multivar.fit(X[:, selected_feature].reshape(-1, 1), y.ravel())\n",
    "\n",
    "    # Almacenamos en dicc_model la clave asociada al modelo que se entrenó y el objeto modelo\n",
    "    for key, value in dicc_names_features.items():\n",
    "        if value == selected_feature:\n",
    "            dicc_model[key] = regr_multivar\n",
    "\n",
    "    # Obtenemos las predicciones del modelo para las características seleccionadas\n",
    "    y_pred = regr_multivar.predict(X[:, selected_feature].reshape(-1, 1))\n",
    "\n",
    "    # Almacenamos en dicc_pred la clave asociada al modelo que se entrenó y la predicción\n",
    "    for key, value in dicc_names_features.items():\n",
    "        if value == selected_feature:\n",
    "            dicc_pred[key] = y_pred\n"
   ]
  },
  {
   "cell_type": "code",
   "execution_count": 60,
   "id": "9a7cb8e5",
   "metadata": {
    "execution": {
     "iopub.execute_input": "2023-06-11T00:35:20.867643Z",
     "iopub.status.busy": "2023-06-11T00:35:20.867643Z",
     "iopub.status.idle": "2023-06-11T00:35:20.898891Z",
     "shell.execute_reply": "2023-06-11T00:35:20.898891Z"
    },
    "papermill": {
     "duration": 0.394391,
     "end_time": "2023-06-11T00:35:20.898891",
     "exception": false,
     "start_time": "2023-06-11T00:35:20.504500",
     "status": "completed"
    },
    "tags": []
   },
   "outputs": [
    {
     "name": "stdout",
     "output_type": "stream",
     "text": [
      "y = -0.43 * ZCR + 2.86 - p-valor = 0.011\n",
      "y = 0.44 * RMS + 12.69 - p-valor = 0.009\n"
     ]
    }
   ],
   "source": [
    "list_equ = []\n",
    "\n",
    "for key, model in dicc_model.items():\n",
    "    # Obtenemos los valores de w y b\n",
    "    w = model.coef_[0][0]\n",
    "    b = model.intercept_[0]\n",
    "    \n",
    "    label = key.replace(\"_model\", \"\")\n",
    "    if label == 'f0':\n",
    "        label = r'$f_{0}$'\n",
    "    else:\n",
    "        label = label.upper()\n",
    "\n",
    "    # Construimos la cadena de texto para la ecuación del hiperplano y su p-valor\n",
    "    equation = f'y = {w:.2f} * {label} + {b:.2f} - p-valor = {p_values[dicc_names_features[key]]:.3f}'\n",
    "\n",
    "    # Agregamos la cadena a la lista\n",
    "    list_equ.append(equation)\n",
    "\n",
    "# Mostramos el resultado\n",
    "for equ in list_equ:\n",
    "    print(equ)\n"
   ]
  },
  {
   "cell_type": "code",
   "execution_count": 61,
   "id": "31b4d1c2",
   "metadata": {
    "execution": {
     "iopub.execute_input": "2023-06-11T00:35:21.409870Z",
     "iopub.status.busy": "2023-06-11T00:35:21.409870Z",
     "iopub.status.idle": "2023-06-11T00:35:23.414976Z",
     "shell.execute_reply": "2023-06-11T00:35:23.414976Z"
    },
    "papermill": {
     "duration": 2.330214,
     "end_time": "2023-06-11T00:35:23.414976",
     "exception": false,
     "start_time": "2023-06-11T00:35:21.084762",
     "status": "completed"
    },
    "tags": []
   },
   "outputs": [
    {
     "data": {
      "image/png": "[encoded data removed]",
      "text/plain": [
       "<Figure size 1200x400 with 2 Axes>"
      ]
     },
     "metadata": {},
     "output_type": "display_data"
    }
   ],
   "source": [
    "dims = (6 * len(dicc_model), 4)\n",
    "fig, ax = plt.subplots(figsize=dims, ncols=len(dicc_model))\n",
    "\n",
    "with sns.axes_style('darkgrid'):\n",
    "    for i, (key, model) in enumerate(dicc_model.items()):\n",
    "        if isinstance(ax, np.ndarray):\n",
    "            ax_i = ax[i]\n",
    "        else:\n",
    "            ax_i = ax\n",
    "        label = key.replace(\"_model\", \"\")\n",
    "        if label == 'f0':\n",
    "            label = r'$f_{0}$'\n",
    "        else:\n",
    "            label = label.upper()\n",
    "        g = sns.scatterplot(x=X[:, dicc_names_features[key]], y=y, ax=ax_i, color='blue')\n",
    "        g = sns.lineplot(x=X[:, dicc_names_features[key]], y=dicc_pred[key], ax=ax_i, color='red')\n",
    "        g.text(0.5, -0.1, label, weight='bold', size='large', family='Arial', stretch='extra-expanded', ha='center', va='top', transform=g.transAxes)\n",
    "        g.set_ylabel('Naturalidad', weight='bold', size='large', alpha=0.8, family='Arial', stretch='extra-expanded')\n",
    "        g.set_title(list_equ[i], weight='bold', size='x-large', alpha=0.8, family='Arial', stretch='extra-expanded')\n",
    "        g.grid(alpha=0.7)\n",
    "        ax_i.set_ylim(0, 6)\n",
    "\n",
    "    plt.tight_layout()\n",
    "    plt.savefig(os.path.join(PATH, TEST_FOLDER, REGGRESSION_FOLDER, NATURALIDAD_FOLDER, MALE_FOLDER, 'regresiones_naturalidad_male.png'))\n",
    "    plt.show()\n"
   ]
  },
  {
   "cell_type": "code",
   "execution_count": 62,
   "id": "32e10979",
   "metadata": {
    "execution": {
     "iopub.execute_input": "2023-06-11T00:35:23.939701Z",
     "iopub.status.busy": "2023-06-11T00:35:23.939701Z",
     "iopub.status.idle": "2023-06-11T00:35:24.142827Z",
     "shell.execute_reply": "2023-06-11T00:35:24.142827Z"
    },
    "papermill": {
     "duration": 0.56526,
     "end_time": "2023-06-11T00:35:24.149006",
     "exception": false,
     "start_time": "2023-06-11T00:35:23.583746",
     "status": "completed"
    },
    "tags": []
   },
   "outputs": [
    {
     "data": {
      "application/vnd.plotly.v1+json": {
       "config": {
        "plotlyServerURL": "https://plot.ly"
       },
       "data": [
        {
         "hovertemplate": "x=%{x}<br>y=%{y}<br>z=%{z}<extra></extra>",
         "legendgroup": "",
         "marker": {
          "color": "#636efa",
          "symbol": "circle"
         },
         "mode": "markers",
         "name": "",
         "scene": "scene",
         "showlegend": false,
         "type": "scatter3d",
         "x": [
          0.0980514874287459,
          0.25162586573765,
          0.239188283778317,
          0.105458211555755,
          0.185066881409123,
          0.137448537263939,
          0.239843081121575,
          0.142275783668731,
          0.172730672751451,
          0.0930430482665395
         ],
         "y": [
          -22,
          -25,
          -24,
          -21.5,
          -23.5,
          -21,
          -24.5,
          -20.5,
          -23,
          -22.5
         ],
         "z": [
          2.925,
          1.675,
          1.825,
          3.2,
          2.875,
          2.6,
          1.55,
          3.475,
          2.825,
          4.125
         ]
        },
        {
         "opacity": 0.5,
         "type": "surface",
         "x": [
          [
           0.0980514874287459,
           0.25162586573765,
           0.239188283778317,
           0.105458211555755,
           0.185066881409123,
           0.137448537263939,
           0.239843081121575,
           0.142275783668731,
           0.172730672751451,
           0.0930430482665395
          ],
          [
           0.0980514874287459,
           0.25162586573765,
           0.239188283778317,
           0.105458211555755,
           0.185066881409123,
           0.137448537263939,
           0.239843081121575,
           0.142275783668731,
           0.172730672751451,
           0.0930430482665395
          ],
          [
           0.0980514874287459,
           0.25162586573765,
           0.239188283778317,
           0.105458211555755,
           0.185066881409123,
           0.137448537263939,
           0.239843081121575,
           0.142275783668731,
           0.172730672751451,
           0.0930430482665395
          ],
          [
           0.0980514874287459,
           0.25162586573765,
           0.239188283778317,
           0.105458211555755,
           0.185066881409123,
           0.137448537263939,
           0.239843081121575,
           0.142275783668731,
           0.172730672751451,
           0.0930430482665395
          ],
          [
           0.0980514874287459,
           0.25162586573765,
           0.239188283778317,
           0.105458211555755,
           0.185066881409123,
           0.137448537263939,
           0.239843081121575,
           0.142275783668731,
           0.172730672751451,
           0.0930430482665395
          ],
          [
           0.0980514874287459,
           0.25162586573765,
           0.239188283778317,
           0.105458211555755,
           0.185066881409123,
           0.137448537263939,
           0.239843081121575,
           0.142275783668731,
           0.172730672751451,
           0.0930430482665395
          ],
          [
           0.0980514874287459,
           0.25162586573765,
           0.239188283778317,
           0.105458211555755,
           0.185066881409123,
           0.137448537263939,
           0.239843081121575,
           0.142275783668731,
           0.172730672751451,
           0.0930430482665395
          ],
          [
           0.0980514874287459,
           0.25162586573765,
           0.239188283778317,
           0.105458211555755,
           0.185066881409123,
           0.137448537263939,
           0.239843081121575,
           0.142275783668731,
           0.172730672751451,
           0.0930430482665395
          ],
          [
           0.0980514874287459,
           0.25162586573765,
           0.239188283778317,
           0.105458211555755,
           0.185066881409123,
           0.137448537263939,
           0.239843081121575,
           0.142275783668731,
           0.172730672751451,
           0.0930430482665395
          ],
          [
           0.0980514874287459,
           0.25162586573765,
           0.239188283778317,
           0.105458211555755,
           0.185066881409123,
           0.137448537263939,
           0.239843081121575,
           0.142275783668731,
           0.172730672751451,
           0.0930430482665395
          ]
         ],
         "y": [
          [
           -22,
           -22,
           -22,
           -22,
           -22,
           -22,
           -22,
           -22,
           -22,
           -22
          ],
          [
           -25,
           -25,
           -25,
           -25,
           -25,
           -25,
           -25,
           -25,
           -25,
           -25
          ],
          [
           -24,
           -24,
           -24,
           -24,
           -24,
           -24,
           -24,
           -24,
           -24,
           -24
          ],
          [
           -21.5,
           -21.5,
           -21.5,
           -21.5,
           -21.5,
           -21.5,
           -21.5,
           -21.5,
           -21.5,
           -21.5
          ],
          [
           -23.5,
           -23.5,
           -23.5,
           -23.5,
           -23.5,
           -23.5,
           -23.5,
           -23.5,
           -23.5,
           -23.5
          ],
          [
           -21,
           -21,
           -21,
           -21,
           -21,
           -21,
           -21,
           -21,
           -21,
           -21
          ],
          [
           -24.5,
           -24.5,
           -24.5,
           -24.5,
           -24.5,
           -24.5,
           -24.5,
           -24.5,
           -24.5,
           -24.5
          ],
          [
           -20.5,
           -20.5,
           -20.5,
           -20.5,
           -20.5,
           -20.5,
           -20.5,
           -20.5,
           -20.5,
           -20.5
          ],
          [
           -23,
           -23,
           -23,
           -23,
           -23,
           -23,
           -23,
           -23,
           -23,
           -23
          ],
          [
           -22.5,
           -22.5,
           -22.5,
           -22.5,
           -22.5,
           -22.5,
           -22.5,
           -22.5,
           -22.5,
           -22.5
          ]
         ],
         "z": [
          [
           2.9215773460469325,
           2.8963616220542967,
           2.898403776724079,
           2.920361219285862,
           2.907290092001819,
           2.915108655463859,
           2.8982962640695558,
           2.914316058975251,
           2.9093156019602695,
           2.9223996929835696
          ],
          [
           1.6002243020556381,
           1.5750085780630023,
           1.5770507327327845,
           1.5990081752945677,
           1.5859370480105248,
           1.5937556114725648,
           1.5769432200782614,
           1.5929630149839564,
           1.5879625579689751,
           1.6010466489922752
          ],
          [
           2.040675316719403,
           2.015459592726767,
           2.0175017473965493,
           2.0394591899583325,
           2.0263880626742896,
           2.0342066261363296,
           2.017394234742026,
           2.033414029647721,
           2.02841357263274,
           2.04149766365604
          ],
          [
           3.141802853378815,
           3.116587129386179,
           3.1186292840559613,
           3.1405867266177445,
           3.1275155993337016,
           3.1353341627957416,
           3.118521771401438,
           3.134541566307133,
           3.129541109292152,
           3.142625200315452
          ],
          [
           2.2609008240512853,
           2.2356851000586495,
           2.2377272547284317,
           2.259684697290215,
           2.246613570006172,
           2.254432133468212,
           2.2376197420739086,
           2.2536395369796036,
           2.2486390799646223,
           2.2617231709879224
          ],
          [
           3.3620283607106973,
           3.3368126367180615,
           3.3388547913878437,
           3.360812233949627,
           3.347741106665584,
           3.355559670127624,
           3.3387472787333206,
           3.3547670736390156,
           3.3497666166240343,
           3.3628507076473344
          ],
          [
           1.8204498093875205,
           1.7952340853948847,
           1.797276240064667,
           1.8192336826264501,
           1.8061625553424072,
           1.8139811188044472,
           1.7971687274101438,
           1.8131885223158388,
           1.8081880653008575,
           1.8212721563241576
          ],
          [
           3.5822538680425797,
           3.557038144049944,
           3.559080298719726,
           3.5810377412815093,
           3.5679666139974664,
           3.5757851774595064,
           3.558972786065203,
           3.574992580970898,
           3.5699921239559167,
           3.583076214979217
          ],
          [
           2.4811263313831677,
           2.455910607390532,
           2.457952762060314,
           2.4799102046220973,
           2.4668390773380544,
           2.4746576408000944,
           2.457845249405791,
           2.473865044311486,
           2.4688645872965047,
           2.481948678319805
          ],
          [
           2.70135183871505,
           2.6761361147224143,
           2.6781782693921965,
           2.7001357119539797,
           2.687064584669937,
           2.694883148131977,
           2.6780707567376734,
           2.6940905516433684,
           2.689090094628387,
           2.702174185651687
          ]
         ]
        }
       ],
       "layout": {
        "legend": {
         "tracegroupgap": 0
        },
        "margin": {
         "t": 60
        },
        "scene": {
         "domain": {
          "x": [
           0,
           1
          ],
          "y": [
           0,
           1
          ]
         },
         "xaxis": {
          "title": {
           "text": "zcr"
          }
         },
         "yaxis": {
          "tickvals": [
           -24,
           -23,
           -22,
           -21
          ],
          "title": {
           "text": "rms"
          }
         },
         "zaxis": {
          "range": [
           0,
           6
          ],
          "title": {
           "text": "Naturalidad"
          }
         }
        },
        "template": {
         "data": {
          "bar": [
           {
            "error_x": {
             "color": "#2a3f5f"
            },
            "error_y": {
             "color": "#2a3f5f"
            },
            "marker": {
             "line": {
              "color": "#E5ECF6",
              "width": 0.5
             },
             "pattern": {
              "fillmode": "overlay",
              "size": 10,
              "solidity": 0.2
             }
            },
            "type": "bar"
           }
          ],
          "barpolar": [
           {
            "marker": {
             "line": {
              "color": "#E5ECF6",
              "width": 0.5
             },
             "pattern": {
              "fillmode": "overlay",
              "size": 10,
              "solidity": 0.2
             }
            },
            "type": "barpolar"
           }
          ],
          "carpet": [
           {
            "aaxis": {
             "endlinecolor": "#2a3f5f",
             "gridcolor": "white",
             "linecolor": "white",
             "minorgridcolor": "white",
             "startlinecolor": "#2a3f5f"
            },
            "baxis": {
             "endlinecolor": "#2a3f5f",
             "gridcolor": "white",
             "linecolor": "white",
             "minorgridcolor": "white",
             "startlinecolor": "#2a3f5f"
            },
            "type": "carpet"
           }
          ],
          "choropleth": [
           {
            "colorbar": {
             "outlinewidth": 0,
             "ticks": ""
            },
            "type": "choropleth"
           }
          ],
          "contour": [
           {
            "colorbar": {
             "outlinewidth": 0,
             "ticks": ""
            },
            "colorscale": [
             [
              0,
              "#0d0887"
             ],
             [
              0.1111111111111111,
              "#46039f"
             ],
             [
              0.2222222222222222,
              "#7201a8"
             ],
             [
              0.3333333333333333,
              "#9c179e"
             ],
             [
              0.4444444444444444,
              "#bd3786"
             ],
             [
              0.5555555555555556,
              "#d8576b"
             ],
             [
              0.6666666666666666,
              "#ed7953"
             ],
             [
              0.7777777777777778,
              "#fb9f3a"
             ],
             [
              0.8888888888888888,
              "#fdca26"
             ],
             [
              1,
              "#f0f921"
             ]
            ],
            "type": "contour"
           }
          ],
          "contourcarpet": [
           {
            "colorbar": {
             "outlinewidth": 0,
             "ticks": ""
            },
            "type": "contourcarpet"
           }
          ],
          "heatmap": [
           {
            "colorbar": {
             "outlinewidth": 0,
             "ticks": ""
            },
            "colorscale": [
             [
              0,
              "#0d0887"
             ],
             [
              0.1111111111111111,
              "#46039f"
             ],
             [
              0.2222222222222222,
              "#7201a8"
             ],
             [
              0.3333333333333333,
              "#9c179e"
             ],
             [
              0.4444444444444444,
              "#bd3786"
             ],
             [
              0.5555555555555556,
              "#d8576b"
             ],
             [
              0.6666666666666666,
              "#ed7953"
             ],
             [
              0.7777777777777778,
              "#fb9f3a"
             ],
             [
              0.8888888888888888,
              "#fdca26"
             ],
             [
              1,
              "#f0f921"
             ]
            ],
            "type": "heatmap"
           }
          ],
          "heatmapgl": [
           {
            "colorbar": {
             "outlinewidth": 0,
             "ticks": ""
            },
            "colorscale": [
             [
              0,
              "#0d0887"
             ],
             [
              0.1111111111111111,
              "#46039f"
             ],
             [
              0.2222222222222222,
              "#7201a8"
             ],
             [
              0.3333333333333333,
              "#9c179e"
             ],
             [
              0.4444444444444444,
              "#bd3786"
             ],
             [
              0.5555555555555556,
              "#d8576b"
             ],
             [
              0.6666666666666666,
              "#ed7953"
             ],
             [
              0.7777777777777778,
              "#fb9f3a"
             ],
             [
              0.8888888888888888,
              "#fdca26"
             ],
             [
              1,
              "#f0f921"
             ]
            ],
            "type": "heatmapgl"
           }
          ],
          "histogram": [
           {
            "marker": {
             "pattern": {
              "fillmode": "overlay",
              "size": 10,
              "solidity": 0.2
             }
            },
            "type": "histogram"
           }
          ],
          "histogram2d": [
           {
            "colorbar": {
             "outlinewidth": 0,
             "ticks": ""
            },
            "colorscale": [
             [
              0,
              "#0d0887"
             ],
             [
              0.1111111111111111,
              "#46039f"
             ],
             [
              0.2222222222222222,
              "#7201a8"
             ],
             [
              0.3333333333333333,
              "#9c179e"
             ],
             [
              0.4444444444444444,
              "#bd3786"
             ],
             [
              0.5555555555555556,
              "#d8576b"
             ],
             [
              0.6666666666666666,
              "#ed7953"
             ],
             [
              0.7777777777777778,
              "#fb9f3a"
             ],
             [
              0.8888888888888888,
              "#fdca26"
             ],
             [
              1,
              "#f0f921"
             ]
            ],
            "type": "histogram2d"
           }
          ],
          "histogram2dcontour": [
           {
            "colorbar": {
             "outlinewidth": 0,
             "ticks": ""
            },
            "colorscale": [
             [
              0,
              "#0d0887"
             ],
             [
              0.1111111111111111,
              "#46039f"
             ],
             [
              0.2222222222222222,
              "#7201a8"
             ],
             [
              0.3333333333333333,
              "#9c179e"
             ],
             [
              0.4444444444444444,
              "#bd3786"
             ],
             [
              0.5555555555555556,
              "#d8576b"
             ],
             [
              0.6666666666666666,
              "#ed7953"
             ],
             [
              0.7777777777777778,
              "#fb9f3a"
             ],
             [
              0.8888888888888888,
              "#fdca26"
             ],
             [
              1,
              "#f0f921"
             ]
            ],
            "type": "histogram2dcontour"
           }
          ],
          "mesh3d": [
           {
            "colorbar": {
             "outlinewidth": 0,
             "ticks": ""
            },
            "type": "mesh3d"
           }
          ],
          "parcoords": [
           {
            "line": {
             "colorbar": {
              "outlinewidth": 0,
              "ticks": ""
             }
            },
            "type": "parcoords"
           }
          ],
          "pie": [
           {
            "automargin": true,
            "type": "pie"
           }
          ],
          "scatter": [
           {
            "fillpattern": {
             "fillmode": "overlay",
             "size": 10,
             "solidity": 0.2
            },
            "type": "scatter"
           }
          ],
          "scatter3d": [
           {
            "line": {
             "colorbar": {
              "outlinewidth": 0,
              "ticks": ""
             }
            },
            "marker": {
             "colorbar": {
              "outlinewidth": 0,
              "ticks": ""
             }
            },
            "type": "scatter3d"
           }
          ],
          "scattercarpet": [
           {
            "marker": {
             "colorbar": {
              "outlinewidth": 0,
              "ticks": ""
             }
            },
            "type": "scattercarpet"
           }
          ],
          "scattergeo": [
           {
            "marker": {
             "colorbar": {
              "outlinewidth": 0,
              "ticks": ""
             }
            },
            "type": "scattergeo"
           }
          ],
          "scattergl": [
           {
            "marker": {
             "colorbar": {
              "outlinewidth": 0,
              "ticks": ""
             }
            },
            "type": "scattergl"
           }
          ],
          "scattermapbox": [
           {
            "marker": {
             "colorbar": {
              "outlinewidth": 0,
              "ticks": ""
             }
            },
            "type": "scattermapbox"
           }
          ],
          "scatterpolar": [
           {
            "marker": {
             "colorbar": {
              "outlinewidth": 0,
              "ticks": ""
             }
            },
            "type": "scatterpolar"
           }
          ],
          "scatterpolargl": [
           {
            "marker": {
             "colorbar": {
              "outlinewidth": 0,
              "ticks": ""
             }
            },
            "type": "scatterpolargl"
           }
          ],
          "scatterternary": [
           {
            "marker": {
             "colorbar": {
              "outlinewidth": 0,
              "ticks": ""
             }
            },
            "type": "scatterternary"
           }
          ],
          "surface": [
           {
            "colorbar": {
             "outlinewidth": 0,
             "ticks": ""
            },
            "colorscale": [
             [
              0,
              "#0d0887"
             ],
             [
              0.1111111111111111,
              "#46039f"
             ],
             [
              0.2222222222222222,
              "#7201a8"
             ],
             [
              0.3333333333333333,
              "#9c179e"
             ],
             [
              0.4444444444444444,
              "#bd3786"
             ],
             [
              0.5555555555555556,
              "#d8576b"
             ],
             [
              0.6666666666666666,
              "#ed7953"
             ],
             [
              0.7777777777777778,
              "#fb9f3a"
             ],
             [
              0.8888888888888888,
              "#fdca26"
             ],
             [
              1,
              "#f0f921"
             ]
            ],
            "type": "surface"
           }
          ],
          "table": [
           {
            "cells": {
             "fill": {
              "color": "#EBF0F8"
             },
             "line": {
              "color": "white"
             }
            },
            "header": {
             "fill": {
              "color": "#C8D4E3"
             },
             "line": {
              "color": "white"
             }
            },
            "type": "table"
           }
          ]
         },
         "layout": {
          "annotationdefaults": {
           "arrowcolor": "#2a3f5f",
           "arrowhead": 0,
           "arrowwidth": 1
          },
          "autotypenumbers": "strict",
          "coloraxis": {
           "colorbar": {
            "outlinewidth": 0,
            "ticks": ""
           }
          },
          "colorscale": {
           "diverging": [
            [
             0,
             "#8e0152"
            ],
            [
             0.1,
             "#c51b7d"
            ],
            [
             0.2,
             "#de77ae"
            ],
            [
             0.3,
             "#f1b6da"
            ],
            [
             0.4,
             "#fde0ef"
            ],
            [
             0.5,
             "#f7f7f7"
            ],
            [
             0.6,
             "#e6f5d0"
            ],
            [
             0.7,
             "#b8e186"
            ],
            [
             0.8,
             "#7fbc41"
            ],
            [
             0.9,
             "#4d9221"
            ],
            [
             1,
             "#276419"
            ]
           ],
           "sequential": [
            [
             0,
             "#0d0887"
            ],
            [
             0.1111111111111111,
             "#46039f"
            ],
            [
             0.2222222222222222,
             "#7201a8"
            ],
            [
             0.3333333333333333,
             "#9c179e"
            ],
            [
             0.4444444444444444,
             "#bd3786"
            ],
            [
             0.5555555555555556,
             "#d8576b"
            ],
            [
             0.6666666666666666,
             "#ed7953"
            ],
            [
             0.7777777777777778,
             "#fb9f3a"
            ],
            [
             0.8888888888888888,
             "#fdca26"
            ],
            [
             1,
             "#f0f921"
            ]
           ],
           "sequentialminus": [
            [
             0,
             "#0d0887"
            ],
            [
             0.1111111111111111,
             "#46039f"
            ],
            [
             0.2222222222222222,
             "#7201a8"
            ],
            [
             0.3333333333333333,
             "#9c179e"
            ],
            [
             0.4444444444444444,
             "#bd3786"
            ],
            [
             0.5555555555555556,
             "#d8576b"
            ],
            [
             0.6666666666666666,
             "#ed7953"
            ],
            [
             0.7777777777777778,
             "#fb9f3a"
            ],
            [
             0.8888888888888888,
             "#fdca26"
            ],
            [
             1,
             "#f0f921"
            ]
           ]
          },
          "colorway": [
           "#636efa",
           "#EF553B",
           "#00cc96",
           "#ab63fa",
           "#FFA15A",
           "#19d3f3",
           "#FF6692",
           "#B6E880",
           "#FF97FF",
           "#FECB52"
          ],
          "font": {
           "color": "#2a3f5f"
          },
          "geo": {
           "bgcolor": "white",
           "lakecolor": "white",
           "landcolor": "#E5ECF6",
           "showlakes": true,
           "showland": true,
           "subunitcolor": "white"
          },
          "hoverlabel": {
           "align": "left"
          },
          "hovermode": "closest",
          "mapbox": {
           "style": "light"
          },
          "paper_bgcolor": "white",
          "plot_bgcolor": "#E5ECF6",
          "polar": {
           "angularaxis": {
            "gridcolor": "white",
            "linecolor": "white",
            "ticks": ""
           },
           "bgcolor": "#E5ECF6",
           "radialaxis": {
            "gridcolor": "white",
            "linecolor": "white",
            "ticks": ""
           }
          },
          "scene": {
           "xaxis": {
            "backgroundcolor": "#E5ECF6",
            "gridcolor": "white",
            "gridwidth": 2,
            "linecolor": "white",
            "showbackground": true,
            "ticks": "",
            "zerolinecolor": "white"
           },
           "yaxis": {
            "backgroundcolor": "#E5ECF6",
            "gridcolor": "white",
            "gridwidth": 2,
            "linecolor": "white",
            "showbackground": true,
            "ticks": "",
            "zerolinecolor": "white"
           },
           "zaxis": {
            "backgroundcolor": "#E5ECF6",
            "gridcolor": "white",
            "gridwidth": 2,
            "linecolor": "white",
            "showbackground": true,
            "ticks": "",
            "zerolinecolor": "white"
           }
          },
          "shapedefaults": {
           "line": {
            "color": "#2a3f5f"
           }
          },
          "ternary": {
           "aaxis": {
            "gridcolor": "white",
            "linecolor": "white",
            "ticks": ""
           },
           "baxis": {
            "gridcolor": "white",
            "linecolor": "white",
            "ticks": ""
           },
           "bgcolor": "#E5ECF6",
           "caxis": {
            "gridcolor": "white",
            "linecolor": "white",
            "ticks": ""
           }
          },
          "title": {
           "x": 0.05
          },
          "xaxis": {
           "automargin": true,
           "gridcolor": "white",
           "linecolor": "white",
           "ticks": "",
           "title": {
            "standoff": 15
           },
           "zerolinecolor": "white",
           "zerolinewidth": 2
          },
          "yaxis": {
           "automargin": true,
           "gridcolor": "white",
           "linecolor": "white",
           "ticks": "",
           "title": {
            "standoff": 15
           },
           "zerolinecolor": "white",
           "zerolinewidth": 2
          }
         }
        },
        "title": {
         "text": "z = 12.63 + -0.16 * zcr + 0.44 * rms",
         "x": 0.5,
         "xanchor": "center"
        }
       }
      }
     },
     "metadata": {},
     "output_type": "display_data"
    }
   ],
   "source": [
    "if len(dicc_model) == 2:\n",
    "    import plotly.express as px\n",
    "    import plotly.graph_objects as go\n",
    "\n",
    "    # Seleccionamos solo las características seleccionadas en X\n",
    "    X_selected = X[:, selected_features]\n",
    "\n",
    "    # Entrenamos el modelo de regresión con las características seleccionadas\n",
    "    regr_multivar = SVR(kernel='linear')\n",
    "    regr_multivar.fit(X_selected, y)\n",
    "\n",
    "    # Obtenemos las predicciones del modelo para las características seleccionadas\n",
    "    y_pred = regr_multivar.predict(X_selected)\n",
    "\n",
    "    # Crear la figura\n",
    "    fig = px.scatter_3d(x=X_selected[:, 0], y=X_selected[:, 1], z=y)\n",
    "\n",
    "    # Crear el plano de regresión\n",
    "    xx, yy = np.meshgrid(X_selected[:, 0], X_selected[:, 1])\n",
    "    zz = regr_multivar.intercept_ + np.dot(np.array([xx.ravel(), yy.ravel()]).T, regr_multivar.coef_.ravel()).reshape(xx.shape)\n",
    "    fig.add_trace(go.Surface(x=xx, y=yy, z=zz, opacity=0.5))\n",
    "\n",
    "    # Construir la cadena de texto para la ecuación del plano\n",
    "    equation = f'z = {regr_multivar.intercept_[0].round(2)}'\n",
    "    for i, (key, model) in enumerate(dicc_model.items()):\n",
    "        equation += f' + {regr_multivar.coef_[0][i].round(2)} * {key.replace(\"_model\", \"\")}'\n",
    "    \n",
    "    # Centrar el título\n",
    "    fig.update_layout(title=dict(text=equation, x=0.5, xanchor='center'))\n",
    "\n",
    "    # Etiquetas de los ejes y rango del eje z\n",
    "    fig.update_layout(scene=dict(xaxis_title=list(dicc_model.keys())[0].replace(\"_model\", \"\"), yaxis_title=list(dicc_model.keys())[1].replace(\"_model\", \"\"), zaxis_title='Naturalidad', zaxis=dict(range=[0, 6]), yaxis=dict(tickvals=[-24, -23, -22, -21])))\n",
    "\n",
    "    fig.write_html(os.path.join(PATH, TEST_FOLDER, REGGRESSION_FOLDER, NATURALIDAD_FOLDER, MALE_FOLDER, 'regresion_naturalidad_multivariable_male.html'))\n",
    "\n",
    "    fig.show()\n"
   ]
  },
  {
   "attachments": {},
   "cell_type": "markdown",
   "id": "1968705b",
   "metadata": {
    "papermill": {
     "duration": 0.267441,
     "end_time": "2023-06-11T00:35:24.768241",
     "exception": false,
     "start_time": "2023-06-11T00:35:24.500800",
     "status": "completed"
    },
    "tags": []
   },
   "source": [
    "#### Femenino"
   ]
  },
  {
   "cell_type": "code",
   "execution_count": 63,
   "id": "fbe4ffcc",
   "metadata": {
    "execution": {
     "iopub.execute_input": "2023-06-11T00:35:25.561550Z",
     "iopub.status.busy": "2023-06-11T00:35:25.561550Z",
     "iopub.status.idle": "2023-06-11T00:35:25.592803Z",
     "shell.execute_reply": "2023-06-11T00:35:25.592803Z"
    },
    "papermill": {
     "duration": 0.455404,
     "end_time": "2023-06-11T00:35:25.598646",
     "exception": false,
     "start_time": "2023-06-11T00:35:25.143242",
     "status": "completed"
    },
    "tags": []
   },
   "outputs": [],
   "source": [
    "mask_gender = df_naturalidad.genero == 'femenino'\n",
    "\n",
    "df_naturalidad_female = df_naturalidad[mask_gender].drop(columns=['genero'])"
   ]
  },
  {
   "cell_type": "code",
   "execution_count": 64,
   "id": "e6dbfa05",
   "metadata": {
    "execution": {
     "iopub.execute_input": "2023-06-11T00:35:26.256933Z",
     "iopub.status.busy": "2023-06-11T00:35:26.256933Z",
     "iopub.status.idle": "2023-06-11T00:35:26.414934Z",
     "shell.execute_reply": "2023-06-11T00:35:26.412934Z"
    },
    "papermill": {
     "duration": 0.396385,
     "end_time": "2023-06-11T00:35:26.418935",
     "exception": false,
     "start_time": "2023-06-11T00:35:26.022550",
     "status": "completed"
    },
    "tags": []
   },
   "outputs": [
    {
     "name": "stdout",
     "output_type": "stream",
     "text": [
      "Características seleccionadas: (0, 1, 2)\n"
     ]
    }
   ],
   "source": [
    "# Cargamos los datos\n",
    "X = np.array(df_naturalidad_female.drop(columns=['Naturalidad'])) # df_objetivos es el DataFrame con los parámetros objetivos\n",
    "y = np.array(df_naturalidad_female.Naturalidad) # df_subjetivos es el DataFrame con los parámetros subjetivos\n",
    "\n",
    "# Creamos el modelo de regresión kNN\n",
    "regr_multivar = SVR(kernel='linear')\n",
    "\n",
    "# Creamos el selector de características hacia adelante\n",
    "forward_selector = SequentialFeatureSelector(regr_multivar, k_features='best', forward=True, scoring='neg_mean_squared_error')\n",
    "\n",
    "# Entrenamos el selector de características\n",
    "forward_selector.fit(X, y)\n",
    "\n",
    "# Obtenemos las características seleccionadas\n",
    "selected_features = forward_selector.k_feature_idx_\n",
    "\n",
    "# Imprimimos las características seleccionadas\n",
    "print('Características seleccionadas:', selected_features)\n"
   ]
  },
  {
   "cell_type": "code",
   "execution_count": 65,
   "id": "d353dccf",
   "metadata": {
    "execution": {
     "iopub.execute_input": "2023-06-11T00:35:27.096503Z",
     "iopub.status.busy": "2023-06-11T00:35:27.096503Z",
     "iopub.status.idle": "2023-06-11T00:35:55.628492Z",
     "shell.execute_reply": "2023-06-11T00:35:55.628492Z"
    },
    "papermill": {
     "duration": 28.7612,
     "end_time": "2023-06-11T00:35:55.628492",
     "exception": false,
     "start_time": "2023-06-11T00:35:26.867292",
     "status": "completed"
    },
    "tags": []
   },
   "outputs": [
    {
     "name": "stdout",
     "output_type": "stream",
     "text": [
      "ZCR p-valor: 0.4385614385614386\n",
      "RMS p-valor: 0.011988011988011988\n",
      "f0 p-valor: 0.19080919080919082\n"
     ]
    }
   ],
   "source": [
    "# Establecemos la semilla aleatoria para reproducibilidad\n",
    "random_state = check_random_state(0)\n",
    "\n",
    "p_values = []\n",
    "\n",
    "for i in range(X.shape[1]):\n",
    "    \n",
    "    # Seleccionamos solo una columna en X\n",
    "    X_single = X[:, i].reshape(-1, 1)\n",
    "    \n",
    "    # Aplicamos la prueba de permutación\n",
    "    score, permutation_scores, pvalue = permutation_test_score(regr_multivar, X_single, y, scoring='neg_mean_squared_error', cv=5, n_permutations=1000, random_state=random_state)\n",
    "    \n",
    "    p_values.append(pvalue)\n",
    "\n",
    "    # Imprimimos el p-valor\n",
    "    if i == 0:\n",
    "        var = 'ZCR'\n",
    "    elif i == 1:\n",
    "        var = 'RMS'\n",
    "    else:\n",
    "        var = 'f0'\n",
    "    print(f'{var} p-valor:', pvalue)\n"
   ]
  },
  {
   "cell_type": "code",
   "execution_count": 66,
   "id": "97910b40",
   "metadata": {
    "execution": {
     "iopub.execute_input": "2023-06-11T00:35:55.957580Z",
     "iopub.status.busy": "2023-06-11T00:35:55.957580Z",
     "iopub.status.idle": "2023-06-11T00:35:55.988833Z",
     "shell.execute_reply": "2023-06-11T00:35:55.988833Z"
    },
    "papermill": {
     "duration": 0.235436,
     "end_time": "2023-06-11T00:35:55.988833",
     "exception": false,
     "start_time": "2023-06-11T00:35:55.753397",
     "status": "completed"
    },
    "tags": []
   },
   "outputs": [],
   "source": [
    "# Dicc auxiliar con los nombres asociadas a las variables\n",
    "dicc_names_features = {\n",
    "    'zcr_model': 0,\n",
    "    'rms_model': 1,\n",
    "    'f0_model': 2\n",
    "}\n",
    "\n",
    "# Dicc de los modelos\n",
    "dicc_model = {}\n",
    "\n",
    "# Dicc de las predicciones\n",
    "dicc_pred = {}\n",
    "\n",
    "for selected_feature in selected_features:\n",
    "    # Entrenamos el modelo de regresión con las características seleccionadas\n",
    "    regr_multivar = SVR(kernel='linear')\n",
    "    regr_multivar.fit(X[:, selected_feature].reshape(-1, 1), y.ravel())\n",
    "\n",
    "    # Almacenamos en dicc_model la clave asociada al modelo que se entrenó y el objeto modelo\n",
    "    for key, value in dicc_names_features.items():\n",
    "        if value == selected_feature:\n",
    "            dicc_model[key] = regr_multivar\n",
    "\n",
    "    # Obtenemos las predicciones del modelo para las características seleccionadas\n",
    "    y_pred = regr_multivar.predict(X[:, selected_feature].reshape(-1, 1))\n",
    "\n",
    "    # Almacenamos en dicc_pred la clave asociada al modelo que se entrenó y la predicción\n",
    "    for key, value in dicc_names_features.items():\n",
    "        if value == selected_feature:\n",
    "            dicc_pred[key] = y_pred\n"
   ]
  },
  {
   "cell_type": "code",
   "execution_count": 67,
   "id": "0959ca28",
   "metadata": {
    "execution": {
     "iopub.execute_input": "2023-06-11T00:35:56.524232Z",
     "iopub.status.busy": "2023-06-11T00:35:56.524232Z",
     "iopub.status.idle": "2023-06-11T00:35:56.555483Z",
     "shell.execute_reply": "2023-06-11T00:35:56.555483Z"
    },
    "papermill": {
     "duration": 0.347903,
     "end_time": "2023-06-11T00:35:56.555483",
     "exception": false,
     "start_time": "2023-06-11T00:35:56.207580",
     "status": "completed"
    },
    "tags": []
   },
   "outputs": [
    {
     "name": "stdout",
     "output_type": "stream",
     "text": [
      "y = -0.36 * ZCR + 3.12 - p-valor = 0.439\n",
      "y = 0.38 * RMS + 13.51 - p-valor = 0.012\n",
      "y = -0.04 * $f_{0}$ + 7.10 - p-valor = 0.191\n"
     ]
    }
   ],
   "source": [
    "list_equ = []\n",
    "\n",
    "for key, model in dicc_model.items():\n",
    "    # Obtenemos los valores de w y b\n",
    "    w = model.coef_[0][0]\n",
    "    b = model.intercept_[0]\n",
    "    \n",
    "    label = key.replace(\"_model\", \"\")\n",
    "    if label == 'f0':\n",
    "        label = r'$f_{0}$'\n",
    "    else:\n",
    "        label = label.upper()\n",
    "\n",
    "    # Construimos la cadena de texto para la ecuación del hiperplano y su p-valor\n",
    "    equation = f'y = {w:.2f} * {label} + {b:.2f} - p-valor = {p_values[dicc_names_features[key]]:.3f}'\n",
    "\n",
    "    # Agregamos la cadena a la lista\n",
    "    list_equ.append(equation)\n",
    "\n",
    "# Mostramos el resultado\n",
    "for equ in list_equ:\n",
    "    print(equ)\n"
   ]
  },
  {
   "cell_type": "code",
   "execution_count": 68,
   "id": "5a51f6be",
   "metadata": {
    "execution": {
     "iopub.execute_input": "2023-06-11T00:35:57.300946Z",
     "iopub.status.busy": "2023-06-11T00:35:57.300946Z",
     "iopub.status.idle": "2023-06-11T00:35:58.857711Z",
     "shell.execute_reply": "2023-06-11T00:35:58.857711Z"
    },
    "papermill": {
     "duration": 1.895973,
     "end_time": "2023-06-11T00:35:58.857711",
     "exception": false,
     "start_time": "2023-06-11T00:35:56.961738",
     "status": "completed"
    },
    "tags": []
   },
   "outputs": [
    {
     "data": {
      "image/png": "[encoded data removed]",
      "text/plain": [
       "<Figure size 1800x400 with 3 Axes>"
      ]
     },
     "metadata": {},
     "output_type": "display_data"
    }
   ],
   "source": [
    "dims = (6 * len(dicc_model), 4)\n",
    "fig, ax = plt.subplots(figsize=dims, ncols=len(dicc_model))\n",
    "\n",
    "with sns.axes_style('darkgrid'):\n",
    "    for i, (key, model) in enumerate(dicc_model.items()):\n",
    "        if isinstance(ax, np.ndarray):\n",
    "            ax_i = ax[i]\n",
    "        else:\n",
    "            ax_i = ax\n",
    "        label = key.replace(\"_model\", \"\")\n",
    "        if label == 'f0':\n",
    "            label = r'$f_{0}$'\n",
    "        else:\n",
    "            label = label.upper()\n",
    "        g = sns.scatterplot(x=X[:, dicc_names_features[key]], y=y, ax=ax_i, color='blue')\n",
    "        g = sns.lineplot(x=X[:, dicc_names_features[key]], y=dicc_pred[key], ax=ax_i, color='red')\n",
    "        g.text(0.5, -0.1, label, weight='bold', size='large', family='Arial', stretch='extra-expanded', ha='center', va='top', transform=g.transAxes)\n",
    "        g.set_ylabel('Naturalidad', weight='bold', size='large', alpha=0.8, family='Arial', stretch='extra-expanded')\n",
    "        g.set_title(list_equ[i], weight='bold', size='x-large', alpha=0.8, family='Arial', stretch='extra-expanded')\n",
    "        g.grid(alpha=0.7)\n",
    "        ax_i.set_ylim(0, 6)\n",
    "\n",
    "    plt.tight_layout()\n",
    "    plt.savefig(os.path.join(PATH, TEST_FOLDER, REGGRESSION_FOLDER, NATURALIDAD_FOLDER, FEMALE_FOLDER, 'regresiones_naturalidad_female.png'))\n",
    "    plt.show()\n"
   ]
  },
  {
   "cell_type": "code",
   "execution_count": 69,
   "id": "e1e3c881",
   "metadata": {
    "execution": {
     "iopub.execute_input": "2023-06-11T00:35:59.234772Z",
     "iopub.status.busy": "2023-06-11T00:35:59.234772Z",
     "iopub.status.idle": "2023-06-11T00:35:59.266017Z",
     "shell.execute_reply": "2023-06-11T00:35:59.266017Z"
    },
    "papermill": {
     "duration": 0.267734,
     "end_time": "2023-06-11T00:35:59.266017",
     "exception": false,
     "start_time": "2023-06-11T00:35:58.998283",
     "status": "completed"
    },
    "tags": []
   },
   "outputs": [],
   "source": [
    "if len(dicc_model) == 2:\n",
    "    import plotly.express as px\n",
    "    import plotly.graph_objects as go\n",
    "\n",
    "    # Seleccionamos solo las características seleccionadas en X\n",
    "    X_selected = X[:, selected_features]\n",
    "\n",
    "    # Entrenamos el modelo de regresión con las características seleccionadas\n",
    "    regr_multivar = SVR(kernel='linear')\n",
    "    regr_multivar.fit(X_selected, y)\n",
    "\n",
    "    # Obtenemos las predicciones del modelo para las características seleccionadas\n",
    "    y_pred = regr_multivar.predict(X_selected)\n",
    "\n",
    "    # Crear la figura\n",
    "    fig = px.scatter_3d(x=X_selected[:, 0], y=X_selected[:, 1], z=y)\n",
    "\n",
    "    # Crear el plano de regresión\n",
    "    xx, yy = np.meshgrid(X_selected[:, 0], X_selected[:, 1])\n",
    "    zz = regr_multivar.intercept_ + np.dot(np.array([xx.ravel(), yy.ravel()]).T, regr_multivar.coef_.ravel()).reshape(xx.shape)\n",
    "    fig.add_trace(go.Surface(x=xx, y=yy, z=zz, opacity=0.5))\n",
    "\n",
    "    # Construir la cadena de texto para la ecuación del plano\n",
    "    equation = f'z = {regr_multivar.intercept_[0].round(2)}'\n",
    "    for i, (key, model) in enumerate(dicc_model.items()):\n",
    "        equation += f' + {regr_multivar.coef_[0][i].round(2)} * {key.replace(\"_model\", \"\")}'\n",
    "    \n",
    "    # Centrar el título\n",
    "    fig.update_layout(title=dict(text=equation, x=0.5, xanchor='center'))\n",
    "\n",
    "    # Etiquetas de los ejes y rango del eje z\n",
    "    fig.update_layout(scene=dict(xaxis_title=list(dicc_model.keys())[0].replace(\"_model\", \"\"), yaxis_title=list(dicc_model.keys())[1].replace(\"_model\", \"\"), zaxis_title='Naturalidad', zaxis=dict(range=[0, 6]), yaxis=dict(tickvals=[-28, -26, -24, -22])))\n",
    "\n",
    "    fig.write_html(os.path.join(PATH, TEST_FOLDER, REGGRESSION_FOLDER, NATURALIDAD_FOLDER, FEMALE_FOLDER, 'regresion_naturalidad_multivariable_female.html'))\n",
    "\n",
    "    fig.show()\n"
   ]
  },
  {
   "attachments": {},
   "cell_type": "markdown",
   "id": "c93d4d28",
   "metadata": {
    "papermill": {
     "duration": 0.234932,
     "end_time": "2023-06-11T00:35:59.832986",
     "exception": false,
     "start_time": "2023-06-11T00:35:59.598054",
     "status": "completed"
    },
    "tags": []
   },
   "source": [
    "### Cadencia"
   ]
  },
  {
   "cell_type": "code",
   "execution_count": 70,
   "id": "842fcc7f",
   "metadata": {
    "execution": {
     "iopub.execute_input": "2023-06-11T00:36:00.347277Z",
     "iopub.status.busy": "2023-06-11T00:36:00.347277Z",
     "iopub.status.idle": "2023-06-11T00:36:00.378525Z",
     "shell.execute_reply": "2023-06-11T00:36:00.378525Z"
    },
    "papermill": {
     "duration": 0.404903,
     "end_time": "2023-06-11T00:36:00.378525",
     "exception": false,
     "start_time": "2023-06-11T00:35:59.973622",
     "status": "completed"
    },
    "tags": []
   },
   "outputs": [],
   "source": [
    "df_cadencia = df_union.loc[:, ['Cadencia', 'zcr', 'rms', 'f0', 'genero']]"
   ]
  },
  {
   "attachments": {},
   "cell_type": "markdown",
   "id": "a360f909",
   "metadata": {
    "papermill": {
     "duration": 0.313474,
     "end_time": "2023-06-11T00:36:01.011828",
     "exception": false,
     "start_time": "2023-06-11T00:36:00.698354",
     "status": "completed"
    },
    "tags": []
   },
   "source": [
    "#### Masculino"
   ]
  },
  {
   "cell_type": "code",
   "execution_count": 71,
   "id": "c9cb3974",
   "metadata": {
    "execution": {
     "iopub.execute_input": "2023-06-11T00:36:01.634280Z",
     "iopub.status.busy": "2023-06-11T00:36:01.633284Z",
     "iopub.status.idle": "2023-06-11T00:36:01.649279Z",
     "shell.execute_reply": "2023-06-11T00:36:01.647278Z"
    },
    "papermill": {
     "duration": 0.344581,
     "end_time": "2023-06-11T00:36:01.653279",
     "exception": false,
     "start_time": "2023-06-11T00:36:01.308698",
     "status": "completed"
    },
    "tags": []
   },
   "outputs": [],
   "source": [
    "mask_gender = df_cadencia.genero == 'masculino'\n",
    "\n",
    "df_cadencia_male = df_cadencia[mask_gender].drop(columns=['genero'])"
   ]
  },
  {
   "cell_type": "code",
   "execution_count": 72,
   "id": "3c719c59",
   "metadata": {
    "execution": {
     "iopub.execute_input": "2023-06-11T00:36:02.325338Z",
     "iopub.status.busy": "2023-06-11T00:36:02.325338Z",
     "iopub.status.idle": "2023-06-11T00:36:02.484852Z",
     "shell.execute_reply": "2023-06-11T00:36:02.484852Z"
    },
    "papermill": {
     "duration": 0.545872,
     "end_time": "2023-06-11T00:36:02.484852",
     "exception": false,
     "start_time": "2023-06-11T00:36:01.938980",
     "status": "completed"
    },
    "tags": []
   },
   "outputs": [
    {
     "name": "stdout",
     "output_type": "stream",
     "text": [
      "Características seleccionadas: (0, 2)\n"
     ]
    }
   ],
   "source": [
    "# Cargamos los datos\n",
    "X = np.array(df_cadencia_male.drop(columns=['Cadencia'])) # df_objetivos es el DataFrame con los parámetros objetivos\n",
    "y = np.array(df_cadencia_male.Cadencia) # df_subjetivos es el DataFrame con los parámetros subjetivos\n",
    "\n",
    "# Creamos el modelo de regresión kNN\n",
    "regr_multivar = SVR(kernel='linear')\n",
    "\n",
    "# Creamos el selector de características hacia adelante\n",
    "forward_selector = SequentialFeatureSelector(regr_multivar, k_features='best', forward=True, scoring='neg_mean_squared_error')\n",
    "\n",
    "# Entrenamos el selector de características\n",
    "forward_selector.fit(X, y)\n",
    "\n",
    "# Obtenemos las características seleccionadas\n",
    "selected_features = forward_selector.k_feature_idx_\n",
    "\n",
    "# Imprimimos las características seleccionadas\n",
    "print('Características seleccionadas:', selected_features)\n"
   ]
  },
  {
   "cell_type": "code",
   "execution_count": 73,
   "id": "6061839f",
   "metadata": {
    "execution": {
     "iopub.execute_input": "2023-06-11T00:36:03.139409Z",
     "iopub.status.busy": "2023-06-11T00:36:03.139409Z",
     "iopub.status.idle": "2023-06-11T00:36:30.048198Z",
     "shell.execute_reply": "2023-06-11T00:36:30.048198Z"
    },
    "papermill": {
     "duration": 27.203972,
     "end_time": "2023-06-11T00:36:30.048198",
     "exception": false,
     "start_time": "2023-06-11T00:36:02.844226",
     "status": "completed"
    },
    "tags": []
   },
   "outputs": [
    {
     "name": "stdout",
     "output_type": "stream",
     "text": [
      "ZCR p-valor: 0.09490509490509491\n",
      "RMS p-valor: 0.46553446553446554\n",
      "f0 p-valor: 0.055944055944055944\n"
     ]
    }
   ],
   "source": [
    "# Establecemos la semilla aleatoria para reproducibilidad\n",
    "random_state = check_random_state(0)\n",
    "\n",
    "p_values = []\n",
    "\n",
    "for i in range(X.shape[1]):\n",
    "    \n",
    "    # Seleccionamos solo una columna en X\n",
    "    X_single = X[:, i].reshape(-1, 1)\n",
    "    \n",
    "    # Aplicamos la prueba de permutación\n",
    "    score, permutation_scores, pvalue = permutation_test_score(regr_multivar, X_single, y, scoring='neg_mean_squared_error', cv=5, n_permutations=1000, random_state=random_state)\n",
    "    \n",
    "    p_values.append(pvalue)\n",
    "\n",
    "    # Imprimimos el p-valor\n",
    "    if i == 0:\n",
    "        var = 'ZCR'\n",
    "    elif i == 1:\n",
    "        var = 'RMS'\n",
    "    else:\n",
    "        var = 'f0'\n",
    "    print(f'{var} p-valor:', pvalue)\n"
   ]
  },
  {
   "cell_type": "code",
   "execution_count": 74,
   "id": "57102a14",
   "metadata": {
    "execution": {
     "iopub.execute_input": "2023-06-11T00:36:30.392925Z",
     "iopub.status.busy": "2023-06-11T00:36:30.377300Z",
     "iopub.status.idle": "2023-06-11T00:36:30.408552Z",
     "shell.execute_reply": "2023-06-11T00:36:30.408552Z"
    },
    "papermill": {
     "duration": 0.266709,
     "end_time": "2023-06-11T00:36:30.408552",
     "exception": false,
     "start_time": "2023-06-11T00:36:30.141843",
     "status": "completed"
    },
    "tags": []
   },
   "outputs": [],
   "source": [
    "# Dicc auxiliar con los nombres asociadas a las variables\n",
    "dicc_names_features = {\n",
    "    'zcr_model': 0,\n",
    "    'rms_model': 1,\n",
    "    'f0_model': 2\n",
    "}\n",
    "\n",
    "# Dicc de los modelos\n",
    "dicc_model = {}\n",
    "\n",
    "# Dicc de las predicciones\n",
    "dicc_pred = {}\n",
    "\n",
    "for selected_feature in selected_features:\n",
    "    # Entrenamos el modelo de regresión con las características seleccionadas\n",
    "    regr_multivar = SVR(kernel='linear')\n",
    "    regr_multivar.fit(X[:, selected_feature].reshape(-1, 1), y.ravel())\n",
    "\n",
    "    # Almacenamos en dicc_model la clave asociada al modelo que se entrenó y el objeto modelo\n",
    "    for key, value in dicc_names_features.items():\n",
    "        if value == selected_feature:\n",
    "            dicc_model[key] = regr_multivar\n",
    "\n",
    "    # Obtenemos las predicciones del modelo para las características seleccionadas\n",
    "    y_pred = regr_multivar.predict(X[:, selected_feature].reshape(-1, 1))\n",
    "\n",
    "    # Almacenamos en dicc_pred la clave asociada al modelo que se entrenó y la predicción\n",
    "    for key, value in dicc_names_features.items():\n",
    "        if value == selected_feature:\n",
    "            dicc_pred[key] = y_pred\n"
   ]
  },
  {
   "cell_type": "code",
   "execution_count": 75,
   "id": "53e6df24",
   "metadata": {
    "execution": {
     "iopub.execute_input": "2023-06-11T00:36:30.990864Z",
     "iopub.status.busy": "2023-06-11T00:36:30.990864Z",
     "iopub.status.idle": "2023-06-11T00:36:31.022115Z",
     "shell.execute_reply": "2023-06-11T00:36:31.022115Z"
    },
    "papermill": {
     "duration": 0.344657,
     "end_time": "2023-06-11T00:36:31.022115",
     "exception": false,
     "start_time": "2023-06-11T00:36:30.677458",
     "status": "completed"
    },
    "tags": []
   },
   "outputs": [
    {
     "name": "stdout",
     "output_type": "stream",
     "text": [
      "y = -0.39 * ZCR + 3.13 - p-valor = 0.095\n",
      "y = -0.07 * $f_{0}$ + 8.38 - p-valor = 0.056\n"
     ]
    }
   ],
   "source": [
    "list_equ = []\n",
    "\n",
    "for key, model in dicc_model.items():\n",
    "    # Obtenemos los valores de w y b\n",
    "    w = model.coef_[0][0]\n",
    "    b = model.intercept_[0]\n",
    "    \n",
    "    label = key.replace(\"_model\", \"\")\n",
    "    if label == 'f0':\n",
    "        label = r'$f_{0}$'\n",
    "    else:\n",
    "        label = label.upper()\n",
    "\n",
    "    # Construimos la cadena de texto para la ecuación del hiperplano y su p-valor\n",
    "    equation = f'y = {w:.2f} * {label} + {b:.2f} - p-valor = {p_values[dicc_names_features[key]]:.3f}'\n",
    "\n",
    "    # Agregamos la cadena a la lista\n",
    "    list_equ.append(equation)\n",
    "\n",
    "# Mostramos el resultado\n",
    "for equ in list_equ:\n",
    "    print(equ)\n"
   ]
  },
  {
   "cell_type": "code",
   "execution_count": 76,
   "id": "63878874",
   "metadata": {
    "execution": {
     "iopub.execute_input": "2023-06-11T00:36:31.715384Z",
     "iopub.status.busy": "2023-06-11T00:36:31.715384Z",
     "iopub.status.idle": "2023-06-11T00:36:34.001585Z",
     "shell.execute_reply": "2023-06-11T00:36:34.001585Z"
    },
    "papermill": {
     "duration": 2.626516,
     "end_time": "2023-06-11T00:36:34.001585",
     "exception": false,
     "start_time": "2023-06-11T00:36:31.375069",
     "status": "completed"
    },
    "tags": []
   },
   "outputs": [
    {
     "data": {
      "image/png": "[encoded data removed]",
      "text/plain": [
       "<Figure size 1200x400 with 2 Axes>"
      ]
     },
     "metadata": {},
     "output_type": "display_data"
    }
   ],
   "source": [
    "dims = (6 * len(dicc_model), 4)\n",
    "fig, ax = plt.subplots(figsize=dims, ncols=len(dicc_model))\n",
    "\n",
    "with sns.axes_style('darkgrid'):\n",
    "    for i, (key, model) in enumerate(dicc_model.items()):\n",
    "        if isinstance(ax, np.ndarray):\n",
    "            ax_i = ax[i]\n",
    "        else:\n",
    "            ax_i = ax\n",
    "        label = key.replace(\"_model\", \"\")\n",
    "        if label == 'f0':\n",
    "            label = r'$f_{0}$'\n",
    "        else:\n",
    "            label = label.upper()\n",
    "        g = sns.scatterplot(x=X[:, dicc_names_features[key]], y=y, ax=ax_i, color='blue')\n",
    "        g = sns.lineplot(x=X[:, dicc_names_features[key]], y=dicc_pred[key], ax=ax_i, color='red')\n",
    "        g.text(0.5, -0.1, label, weight='bold', size='large', family='Arial', stretch='extra-expanded', ha='center', va='top', transform=g.transAxes)\n",
    "        g.set_ylabel('Cadencia', weight='bold', size='large', alpha=0.8, family='Arial', stretch='extra-expanded')\n",
    "        g.set_title(list_equ[i], weight='bold', size='x-large', alpha=0.8, family='Arial', stretch='extra-expanded')\n",
    "        g.grid(alpha=0.7)\n",
    "        ax_i.set_ylim(0, 6)\n",
    "\n",
    "    plt.tight_layout()\n",
    "    plt.savefig(os.path.join(PATH, TEST_FOLDER, REGGRESSION_FOLDER, CADENCIA_FOLDER, MALE_FOLDER, 'regresiones_cadencia_male.png'))\n",
    "    plt.show()\n"
   ]
  },
  {
   "cell_type": "code",
   "execution_count": 77,
   "id": "31c9bddd",
   "metadata": {
    "execution": {
     "iopub.execute_input": "2023-06-11T00:36:34.461964Z",
     "iopub.status.busy": "2023-06-11T00:36:34.461964Z",
     "iopub.status.idle": "2023-06-11T00:36:34.688202Z",
     "shell.execute_reply": "2023-06-11T00:36:34.687200Z"
    },
    "papermill": {
     "duration": 0.534329,
     "end_time": "2023-06-11T00:36:34.693202",
     "exception": false,
     "start_time": "2023-06-11T00:36:34.158873",
     "status": "completed"
    },
    "tags": []
   },
   "outputs": [
    {
     "data": {
      "application/vnd.plotly.v1+json": {
       "config": {
        "plotlyServerURL": "https://plot.ly"
       },
       "data": [
        {
         "hovertemplate": "x=%{x}<br>y=%{y}<br>z=%{z}<extra></extra>",
         "legendgroup": "",
         "marker": {
          "color": "#636efa",
          "symbol": "circle"
         },
         "mode": "markers",
         "name": "",
         "scene": "scene",
         "showlegend": false,
         "type": "scatter3d",
         "x": [
          0.0980514874287459,
          0.25162586573765,
          0.239188283778317,
          0.105458211555755,
          0.185066881409123,
          0.137448537263939,
          0.239843081121575,
          0.142275783668731,
          0.172730672751451,
          0.0930430482665395
         ],
         "y": [
          68.7269109799978,
          98.4685046561784,
          78.9681520189018,
          69.0457782226234,
          81.4992124221524,
          71.7717932153514,
          86.6274438096484,
          69.1332152039065,
          80.4995797313246,
          76.4927520021194
         ],
         "z": [
          3.9,
          1.675,
          1.6,
          3.85,
          3.2,
          2.65,
          1.5,
          3.125,
          3.125,
          4.125
         ]
        },
        {
         "opacity": 0.5,
         "type": "surface",
         "x": [
          [
           0.0980514874287459,
           0.25162586573765,
           0.239188283778317,
           0.105458211555755,
           0.185066881409123,
           0.137448537263939,
           0.239843081121575,
           0.142275783668731,
           0.172730672751451,
           0.0930430482665395
          ],
          [
           0.0980514874287459,
           0.25162586573765,
           0.239188283778317,
           0.105458211555755,
           0.185066881409123,
           0.137448537263939,
           0.239843081121575,
           0.142275783668731,
           0.172730672751451,
           0.0930430482665395
          ],
          [
           0.0980514874287459,
           0.25162586573765,
           0.239188283778317,
           0.105458211555755,
           0.185066881409123,
           0.137448537263939,
           0.239843081121575,
           0.142275783668731,
           0.172730672751451,
           0.0930430482665395
          ],
          [
           0.0980514874287459,
           0.25162586573765,
           0.239188283778317,
           0.105458211555755,
           0.185066881409123,
           0.137448537263939,
           0.239843081121575,
           0.142275783668731,
           0.172730672751451,
           0.0930430482665395
          ],
          [
           0.0980514874287459,
           0.25162586573765,
           0.239188283778317,
           0.105458211555755,
           0.185066881409123,
           0.137448537263939,
           0.239843081121575,
           0.142275783668731,
           0.172730672751451,
           0.0930430482665395
          ],
          [
           0.0980514874287459,
           0.25162586573765,
           0.239188283778317,
           0.105458211555755,
           0.185066881409123,
           0.137448537263939,
           0.239843081121575,
           0.142275783668731,
           0.172730672751451,
           0.0930430482665395
          ],
          [
           0.0980514874287459,
           0.25162586573765,
           0.239188283778317,
           0.105458211555755,
           0.185066881409123,
           0.137448537263939,
           0.239843081121575,
           0.142275783668731,
           0.172730672751451,
           0.0930430482665395
          ],
          [
           0.0980514874287459,
           0.25162586573765,
           0.239188283778317,
           0.105458211555755,
           0.185066881409123,
           0.137448537263939,
           0.239843081121575,
           0.142275783668731,
           0.172730672751451,
           0.0930430482665395
          ],
          [
           0.0980514874287459,
           0.25162586573765,
           0.239188283778317,
           0.105458211555755,
           0.185066881409123,
           0.137448537263939,
           0.239843081121575,
           0.142275783668731,
           0.172730672751451,
           0.0930430482665395
          ],
          [
           0.0980514874287459,
           0.25162586573765,
           0.239188283778317,
           0.105458211555755,
           0.185066881409123,
           0.137448537263939,
           0.239843081121575,
           0.142275783668731,
           0.172730672751451,
           0.0930430482665395
          ]
         ],
         "y": [
          [
           68.7269109799978,
           68.7269109799978,
           68.7269109799978,
           68.7269109799978,
           68.7269109799978,
           68.7269109799978,
           68.7269109799978,
           68.7269109799978,
           68.7269109799978,
           68.7269109799978
          ],
          [
           98.4685046561784,
           98.4685046561784,
           98.4685046561784,
           98.4685046561784,
           98.4685046561784,
           98.4685046561784,
           98.4685046561784,
           98.4685046561784,
           98.4685046561784,
           98.4685046561784
          ],
          [
           78.9681520189018,
           78.9681520189018,
           78.9681520189018,
           78.9681520189018,
           78.9681520189018,
           78.9681520189018,
           78.9681520189018,
           78.9681520189018,
           78.9681520189018,
           78.9681520189018
          ],
          [
           69.0457782226234,
           69.0457782226234,
           69.0457782226234,
           69.0457782226234,
           69.0457782226234,
           69.0457782226234,
           69.0457782226234,
           69.0457782226234,
           69.0457782226234,
           69.0457782226234
          ],
          [
           81.4992124221524,
           81.4992124221524,
           81.4992124221524,
           81.4992124221524,
           81.4992124221524,
           81.4992124221524,
           81.4992124221524,
           81.4992124221524,
           81.4992124221524,
           81.4992124221524
          ],
          [
           71.7717932153514,
           71.7717932153514,
           71.7717932153514,
           71.7717932153514,
           71.7717932153514,
           71.7717932153514,
           71.7717932153514,
           71.7717932153514,
           71.7717932153514,
           71.7717932153514
          ],
          [
           86.6274438096484,
           86.6274438096484,
           86.6274438096484,
           86.6274438096484,
           86.6274438096484,
           86.6274438096484,
           86.6274438096484,
           86.6274438096484,
           86.6274438096484,
           86.6274438096484
          ],
          [
           69.1332152039065,
           69.1332152039065,
           69.1332152039065,
           69.1332152039065,
           69.1332152039065,
           69.1332152039065,
           69.1332152039065,
           69.1332152039065,
           69.1332152039065,
           69.1332152039065
          ],
          [
           80.4995797313246,
           80.4995797313246,
           80.4995797313246,
           80.4995797313246,
           80.4995797313246,
           80.4995797313246,
           80.4995797313246,
           80.4995797313246,
           80.4995797313246,
           80.4995797313246
          ],
          [
           76.4927520021194,
           76.4927520021194,
           76.4927520021194,
           76.4927520021194,
           76.4927520021194,
           76.4927520021194,
           76.4927520021194,
           76.4927520021194,
           76.4927520021194,
           76.4927520021194
          ]
         ],
         "z": [
          [
           3.772613763602461,
           3.739785995406571,
           3.7424446293660525,
           3.7710305162834112,
           3.7540135178159133,
           3.764192324858361,
           3.7423046611263215,
           3.7631604618109833,
           3.7566504824104605,
           3.773684358070436
          ],
          [
           1.8069319213880792,
           1.774104153192189,
           1.7767627871516707,
           1.8053486740690294,
           1.7883316756015315,
           1.7985104826439793,
           1.7766228189119397,
           1.7974786195966015,
           1.7909686401960787,
           1.808002515856054
          ],
          [
           3.095749511770628,
           3.062921743574738,
           3.0655803775342196,
           3.0941662644515784,
           3.0771492659840805,
           3.0873280730265282,
           3.0654404092944887,
           3.0862962099791504,
           3.0797862305786277,
           3.096820106238603
          ],
          [
           3.751539185160886,
           3.7187114169649957,
           3.7213700509244774,
           3.749955937841836,
           3.732938939374338,
           3.743117746416786,
           3.7212300826847464,
           3.742085883369408,
           3.7355759039688854,
           3.7526097796288607
          ],
          [
           2.928466630752652,
           2.895638862556762,
           2.8982974965162436,
           2.9268833834336023,
           2.9098663849661044,
           2.920045192008552,
           2.8981575282765126,
           2.9190133289611744,
           2.9125033495606516,
           2.929537225220627
          ],
          [
           3.5713713625770858,
           3.5385435943811956,
           3.541202228340677,
           3.569788115258036,
           3.552771116790538,
           3.562949923832986,
           3.5410622601009463,
           3.561918060785608,
           3.5554080813850852,
           3.5724419570450605
          ],
          [
           2.589531487235176,
           2.5567037190392856,
           2.5593623529987672,
           2.587948239916126,
           2.570931241448628,
           2.581110048491076,
           2.5592223847590363,
           2.580078185443698,
           2.5735682060431753,
           2.5906020817031505
          ],
          [
           3.745760298921045,
           3.712932530725155,
           3.7155911646846365,
           3.744177051601995,
           3.7271600531344973,
           3.737338860176945,
           3.7154511964449055,
           3.7363069971295673,
           3.7297970177290445,
           3.7468308933890198
          ],
          [
           2.994534369107164,
           2.961706600911274,
           2.9643652348707556,
           2.9929511217881144,
           2.9759341233206165,
           2.9861129303630642,
           2.9642252666310247,
           2.9850810673156865,
           2.9785710879151637,
           2.995604963575139
          ],
          [
           3.2593536857158627,
           3.2265259175199725,
           3.229184551479454,
           3.257770438396813,
           3.240753439929315,
           3.2509322469717628,
           3.229044583239723,
           3.249900383924385,
           3.243390404523862,
           3.2604242801838375
          ]
         ]
        }
       ],
       "layout": {
        "legend": {
         "tracegroupgap": 0
        },
        "margin": {
         "t": 60
        },
        "scene": {
         "domain": {
          "x": [
           0,
           1
          ],
          "y": [
           0,
           1
          ]
         },
         "xaxis": {
          "title": {
           "text": "zcr"
          }
         },
         "yaxis": {
          "tickvals": [
           75,
           80,
           85,
           90,
           95
          ],
          "title": {
           "text": "f0"
          }
         },
         "zaxis": {
          "range": [
           0,
           6
          ],
          "title": {
           "text": "Cadencia"
          }
         }
        },
        "template": {
         "data": {
          "bar": [
           {
            "error_x": {
             "color": "#2a3f5f"
            },
            "error_y": {
             "color": "#2a3f5f"
            },
            "marker": {
             "line": {
              "color": "#E5ECF6",
              "width": 0.5
             },
             "pattern": {
              "fillmode": "overlay",
              "size": 10,
              "solidity": 0.2
             }
            },
            "type": "bar"
           }
          ],
          "barpolar": [
           {
            "marker": {
             "line": {
              "color": "#E5ECF6",
              "width": 0.5
             },
             "pattern": {
              "fillmode": "overlay",
              "size": 10,
              "solidity": 0.2
             }
            },
            "type": "barpolar"
           }
          ],
          "carpet": [
           {
            "aaxis": {
             "endlinecolor": "#2a3f5f",
             "gridcolor": "white",
             "linecolor": "white",
             "minorgridcolor": "white",
             "startlinecolor": "#2a3f5f"
            },
            "baxis": {
             "endlinecolor": "#2a3f5f",
             "gridcolor": "white",
             "linecolor": "white",
             "minorgridcolor": "white",
             "startlinecolor": "#2a3f5f"
            },
            "type": "carpet"
           }
          ],
          "choropleth": [
           {
            "colorbar": {
             "outlinewidth": 0,
             "ticks": ""
            },
            "type": "choropleth"
           }
          ],
          "contour": [
           {
            "colorbar": {
             "outlinewidth": 0,
             "ticks": ""
            },
            "colorscale": [
             [
              0,
              "#0d0887"
             ],
             [
              0.1111111111111111,
              "#46039f"
             ],
             [
              0.2222222222222222,
              "#7201a8"
             ],
             [
              0.3333333333333333,
              "#9c179e"
             ],
             [
              0.4444444444444444,
              "#bd3786"
             ],
             [
              0.5555555555555556,
              "#d8576b"
             ],
             [
              0.6666666666666666,
              "#ed7953"
             ],
             [
              0.7777777777777778,
              "#fb9f3a"
             ],
             [
              0.8888888888888888,
              "#fdca26"
             ],
             [
              1,
              "#f0f921"
             ]
            ],
            "type": "contour"
           }
          ],
          "contourcarpet": [
           {
            "colorbar": {
             "outlinewidth": 0,
             "ticks": ""
            },
            "type": "contourcarpet"
           }
          ],
          "heatmap": [
           {
            "colorbar": {
             "outlinewidth": 0,
             "ticks": ""
            },
            "colorscale": [
             [
              0,
              "#0d0887"
             ],
             [
              0.1111111111111111,
              "#46039f"
             ],
             [
              0.2222222222222222,
              "#7201a8"
             ],
             [
              0.3333333333333333,
              "#9c179e"
             ],
             [
              0.4444444444444444,
              "#bd3786"
             ],
             [
              0.5555555555555556,
              "#d8576b"
             ],
             [
              0.6666666666666666,
              "#ed7953"
             ],
             [
              0.7777777777777778,
              "#fb9f3a"
             ],
             [
              0.8888888888888888,
              "#fdca26"
             ],
             [
              1,
              "#f0f921"
             ]
            ],
            "type": "heatmap"
           }
          ],
          "heatmapgl": [
           {
            "colorbar": {
             "outlinewidth": 0,
             "ticks": ""
            },
            "colorscale": [
             [
              0,
              "#0d0887"
             ],
             [
              0.1111111111111111,
              "#46039f"
             ],
             [
              0.2222222222222222,
              "#7201a8"
             ],
             [
              0.3333333333333333,
              "#9c179e"
             ],
             [
              0.4444444444444444,
              "#bd3786"
             ],
             [
              0.5555555555555556,
              "#d8576b"
             ],
             [
              0.6666666666666666,
              "#ed7953"
             ],
             [
              0.7777777777777778,
              "#fb9f3a"
             ],
             [
              0.8888888888888888,
              "#fdca26"
             ],
             [
              1,
              "#f0f921"
             ]
            ],
            "type": "heatmapgl"
           }
          ],
          "histogram": [
           {
            "marker": {
             "pattern": {
              "fillmode": "overlay",
              "size": 10,
              "solidity": 0.2
             }
            },
            "type": "histogram"
           }
          ],
          "histogram2d": [
           {
            "colorbar": {
             "outlinewidth": 0,
             "ticks": ""
            },
            "colorscale": [
             [
              0,
              "#0d0887"
             ],
             [
              0.1111111111111111,
              "#46039f"
             ],
             [
              0.2222222222222222,
              "#7201a8"
             ],
             [
              0.3333333333333333,
              "#9c179e"
             ],
             [
              0.4444444444444444,
              "#bd3786"
             ],
             [
              0.5555555555555556,
              "#d8576b"
             ],
             [
              0.6666666666666666,
              "#ed7953"
             ],
             [
              0.7777777777777778,
              "#fb9f3a"
             ],
             [
              0.8888888888888888,
              "#fdca26"
             ],
             [
              1,
              "#f0f921"
             ]
            ],
            "type": "histogram2d"
           }
          ],
          "histogram2dcontour": [
           {
            "colorbar": {
             "outlinewidth": 0,
             "ticks": ""
            },
            "colorscale": [
             [
              0,
              "#0d0887"
             ],
             [
              0.1111111111111111,
              "#46039f"
             ],
             [
              0.2222222222222222,
              "#7201a8"
             ],
             [
              0.3333333333333333,
              "#9c179e"
             ],
             [
              0.4444444444444444,
              "#bd3786"
             ],
             [
              0.5555555555555556,
              "#d8576b"
             ],
             [
              0.6666666666666666,
              "#ed7953"
             ],
             [
              0.7777777777777778,
              "#fb9f3a"
             ],
             [
              0.8888888888888888,
              "#fdca26"
             ],
             [
              1,
              "#f0f921"
             ]
            ],
            "type": "histogram2dcontour"
           }
          ],
          "mesh3d": [
           {
            "colorbar": {
             "outlinewidth": 0,
             "ticks": ""
            },
            "type": "mesh3d"
           }
          ],
          "parcoords": [
           {
            "line": {
             "colorbar": {
              "outlinewidth": 0,
              "ticks": ""
             }
            },
            "type": "parcoords"
           }
          ],
          "pie": [
           {
            "automargin": true,
            "type": "pie"
           }
          ],
          "scatter": [
           {
            "fillpattern": {
             "fillmode": "overlay",
             "size": 10,
             "solidity": 0.2
            },
            "type": "scatter"
           }
          ],
          "scatter3d": [
           {
            "line": {
             "colorbar": {
              "outlinewidth": 0,
              "ticks": ""
             }
            },
            "marker": {
             "colorbar": {
              "outlinewidth": 0,
              "ticks": ""
             }
            },
            "type": "scatter3d"
           }
          ],
          "scattercarpet": [
           {
            "marker": {
             "colorbar": {
              "outlinewidth": 0,
              "ticks": ""
             }
            },
            "type": "scattercarpet"
           }
          ],
          "scattergeo": [
           {
            "marker": {
             "colorbar": {
              "outlinewidth": 0,
              "ticks": ""
             }
            },
            "type": "scattergeo"
           }
          ],
          "scattergl": [
           {
            "marker": {
             "colorbar": {
              "outlinewidth": 0,
              "ticks": ""
             }
            },
            "type": "scattergl"
           }
          ],
          "scattermapbox": [
           {
            "marker": {
             "colorbar": {
              "outlinewidth": 0,
              "ticks": ""
             }
            },
            "type": "scattermapbox"
           }
          ],
          "scatterpolar": [
           {
            "marker": {
             "colorbar": {
              "outlinewidth": 0,
              "ticks": ""
             }
            },
            "type": "scatterpolar"
           }
          ],
          "scatterpolargl": [
           {
            "marker": {
             "colorbar": {
              "outlinewidth": 0,
              "ticks": ""
             }
            },
            "type": "scatterpolargl"
           }
          ],
          "scatterternary": [
           {
            "marker": {
             "colorbar": {
              "outlinewidth": 0,
              "ticks": ""
             }
            },
            "type": "scatterternary"
           }
          ],
          "surface": [
           {
            "colorbar": {
             "outlinewidth": 0,
             "ticks": ""
            },
            "colorscale": [
             [
              0,
              "#0d0887"
             ],
             [
              0.1111111111111111,
              "#46039f"
             ],
             [
              0.2222222222222222,
              "#7201a8"
             ],
             [
              0.3333333333333333,
              "#9c179e"
             ],
             [
              0.4444444444444444,
              "#bd3786"
             ],
             [
              0.5555555555555556,
              "#d8576b"
             ],
             [
              0.6666666666666666,
              "#ed7953"
             ],
             [
              0.7777777777777778,
              "#fb9f3a"
             ],
             [
              0.8888888888888888,
              "#fdca26"
             ],
             [
              1,
              "#f0f921"
             ]
            ],
            "type": "surface"
           }
          ],
          "table": [
           {
            "cells": {
             "fill": {
              "color": "#EBF0F8"
             },
             "line": {
              "color": "white"
             }
            },
            "header": {
             "fill": {
              "color": "#C8D4E3"
             },
             "line": {
              "color": "white"
             }
            },
            "type": "table"
           }
          ]
         },
         "layout": {
          "annotationdefaults": {
           "arrowcolor": "#2a3f5f",
           "arrowhead": 0,
           "arrowwidth": 1
          },
          "autotypenumbers": "strict",
          "coloraxis": {
           "colorbar": {
            "outlinewidth": 0,
            "ticks": ""
           }
          },
          "colorscale": {
           "diverging": [
            [
             0,
             "#8e0152"
            ],
            [
             0.1,
             "#c51b7d"
            ],
            [
             0.2,
             "#de77ae"
            ],
            [
             0.3,
             "#f1b6da"
            ],
            [
             0.4,
             "#fde0ef"
            ],
            [
             0.5,
             "#f7f7f7"
            ],
            [
             0.6,
             "#e6f5d0"
            ],
            [
             0.7,
             "#b8e186"
            ],
            [
             0.8,
             "#7fbc41"
            ],
            [
             0.9,
             "#4d9221"
            ],
            [
             1,
             "#276419"
            ]
           ],
           "sequential": [
            [
             0,
             "#0d0887"
            ],
            [
             0.1111111111111111,
             "#46039f"
            ],
            [
             0.2222222222222222,
             "#7201a8"
            ],
            [
             0.3333333333333333,
             "#9c179e"
            ],
            [
             0.4444444444444444,
             "#bd3786"
            ],
            [
             0.5555555555555556,
             "#d8576b"
            ],
            [
             0.6666666666666666,
             "#ed7953"
            ],
            [
             0.7777777777777778,
             "#fb9f3a"
            ],
            [
             0.8888888888888888,
             "#fdca26"
            ],
            [
             1,
             "#f0f921"
            ]
           ],
           "sequentialminus": [
            [
             0,
             "#0d0887"
            ],
            [
             0.1111111111111111,
             "#46039f"
            ],
            [
             0.2222222222222222,
             "#7201a8"
            ],
            [
             0.3333333333333333,
             "#9c179e"
            ],
            [
             0.4444444444444444,
             "#bd3786"
            ],
            [
             0.5555555555555556,
             "#d8576b"
            ],
            [
             0.6666666666666666,
             "#ed7953"
            ],
            [
             0.7777777777777778,
             "#fb9f3a"
            ],
            [
             0.8888888888888888,
             "#fdca26"
            ],
            [
             1,
             "#f0f921"
            ]
           ]
          },
          "colorway": [
           "#636efa",
           "#EF553B",
           "#00cc96",
           "#ab63fa",
           "#FFA15A",
           "#19d3f3",
           "#FF6692",
           "#B6E880",
           "#FF97FF",
           "#FECB52"
          ],
          "font": {
           "color": "#2a3f5f"
          },
          "geo": {
           "bgcolor": "white",
           "lakecolor": "white",
           "landcolor": "#E5ECF6",
           "showlakes": true,
           "showland": true,
           "subunitcolor": "white"
          },
          "hoverlabel": {
           "align": "left"
          },
          "hovermode": "closest",
          "mapbox": {
           "style": "light"
          },
          "paper_bgcolor": "white",
          "plot_bgcolor": "#E5ECF6",
          "polar": {
           "angularaxis": {
            "gridcolor": "white",
            "linecolor": "white",
            "ticks": ""
           },
           "bgcolor": "#E5ECF6",
           "radialaxis": {
            "gridcolor": "white",
            "linecolor": "white",
            "ticks": ""
           }
          },
          "scene": {
           "xaxis": {
            "backgroundcolor": "#E5ECF6",
            "gridcolor": "white",
            "gridwidth": 2,
            "linecolor": "white",
            "showbackground": true,
            "ticks": "",
            "zerolinecolor": "white"
           },
           "yaxis": {
            "backgroundcolor": "#E5ECF6",
            "gridcolor": "white",
            "gridwidth": 2,
            "linecolor": "white",
            "showbackground": true,
            "ticks": "",
            "zerolinecolor": "white"
           },
           "zaxis": {
            "backgroundcolor": "#E5ECF6",
            "gridcolor": "white",
            "gridwidth": 2,
            "linecolor": "white",
            "showbackground": true,
            "ticks": "",
            "zerolinecolor": "white"
           }
          },
          "shapedefaults": {
           "line": {
            "color": "#2a3f5f"
           }
          },
          "ternary": {
           "aaxis": {
            "gridcolor": "white",
            "linecolor": "white",
            "ticks": ""
           },
           "baxis": {
            "gridcolor": "white",
            "linecolor": "white",
            "ticks": ""
           },
           "bgcolor": "#E5ECF6",
           "caxis": {
            "gridcolor": "white",
            "linecolor": "white",
            "ticks": ""
           }
          },
          "title": {
           "x": 0.05
          },
          "xaxis": {
           "automargin": true,
           "gridcolor": "white",
           "linecolor": "white",
           "ticks": "",
           "title": {
            "standoff": 15
           },
           "zerolinecolor": "white",
           "zerolinewidth": 2
          },
          "yaxis": {
           "automargin": true,
           "gridcolor": "white",
           "linecolor": "white",
           "ticks": "",
           "title": {
            "standoff": 15
           },
           "zerolinecolor": "white",
           "zerolinewidth": 2
          }
         }
        },
        "title": {
         "text": "z = 8.34 + -0.21 * zcr + -0.07 * f0",
         "x": 0.5,
         "xanchor": "center"
        }
       }
      }
     },
     "metadata": {},
     "output_type": "display_data"
    }
   ],
   "source": [
    "if len(dicc_model) == 2:\n",
    "    import plotly.express as px\n",
    "    import plotly.graph_objects as go\n",
    "\n",
    "    # Seleccionamos solo las características seleccionadas en X\n",
    "    X_selected = X[:, selected_features]\n",
    "\n",
    "    # Entrenamos el modelo de regresión con las características seleccionadas\n",
    "    regr_multivar = SVR(kernel='linear')\n",
    "    regr_multivar.fit(X_selected, y)\n",
    "\n",
    "    # Obtenemos las predicciones del modelo para las características seleccionadas\n",
    "    y_pred = regr_multivar.predict(X_selected)\n",
    "\n",
    "    # Crear la figura\n",
    "    fig = px.scatter_3d(x=X_selected[:, 0], y=X_selected[:, 1], z=y)\n",
    "\n",
    "    # Crear el plano de regresión\n",
    "    xx, yy = np.meshgrid(X_selected[:, 0], X_selected[:, 1])\n",
    "    zz = regr_multivar.intercept_ + np.dot(np.array([xx.ravel(), yy.ravel()]).T, regr_multivar.coef_.ravel()).reshape(xx.shape)\n",
    "    fig.add_trace(go.Surface(x=xx, y=yy, z=zz, opacity=0.5))\n",
    "\n",
    "    # Construir la cadena de texto para la ecuación del plano\n",
    "    equation = f'z = {regr_multivar.intercept_[0].round(2)}'\n",
    "    for i, (key, model) in enumerate(dicc_model.items()):\n",
    "        equation += f' + {regr_multivar.coef_[0][i].round(2)} * {key.replace(\"_model\", \"\")}'\n",
    "    \n",
    "    # Centrar el título\n",
    "    fig.update_layout(title=dict(text=equation, x=0.5, xanchor='center'))\n",
    "\n",
    "    # Etiquetas de los ejes y rango del eje z\n",
    "    fig.update_layout(scene=dict(xaxis_title=list(dicc_model.keys())[0].replace(\"_model\", \"\"), yaxis_title=list(dicc_model.keys())[1].replace(\"_model\", \"\"), zaxis_title='Cadencia', zaxis=dict(range=[0, 6]), yaxis=dict(tickvals=[75, 80, 85, 90, 95])))\n",
    "\n",
    "    fig.write_html(os.path.join(PATH, TEST_FOLDER, REGGRESSION_FOLDER, CADENCIA_FOLDER, MALE_FOLDER, 'regresion_cadencia_multivariable_male.html'))\n",
    "\n",
    "    fig.show()\n"
   ]
  },
  {
   "attachments": {},
   "cell_type": "markdown",
   "id": "43b90f4a",
   "metadata": {
    "papermill": {
     "duration": 0.356525,
     "end_time": "2023-06-11T00:36:35.401398",
     "exception": false,
     "start_time": "2023-06-11T00:36:35.044873",
     "status": "completed"
    },
    "tags": []
   },
   "source": [
    "#### Femenino"
   ]
  },
  {
   "cell_type": "code",
   "execution_count": 78,
   "id": "a9fab79f",
   "metadata": {
    "execution": {
     "iopub.execute_input": "2023-06-11T00:36:36.144771Z",
     "iopub.status.busy": "2023-06-11T00:36:36.144771Z",
     "iopub.status.idle": "2023-06-11T00:36:36.176019Z",
     "shell.execute_reply": "2023-06-11T00:36:36.176019Z"
    },
    "papermill": {
     "duration": 0.356922,
     "end_time": "2023-06-11T00:36:36.176019",
     "exception": false,
     "start_time": "2023-06-11T00:36:35.819097",
     "status": "completed"
    },
    "tags": []
   },
   "outputs": [],
   "source": [
    "mask_gender = df_cadencia.genero == 'femenino'\n",
    "\n",
    "df_cadencia_female = df_cadencia[mask_gender].drop(columns=['genero'])"
   ]
  },
  {
   "cell_type": "code",
   "execution_count": 79,
   "id": "7b4cd46a",
   "metadata": {
    "execution": {
     "iopub.execute_input": "2023-06-11T00:36:36.959826Z",
     "iopub.status.busy": "2023-06-11T00:36:36.957827Z",
     "iopub.status.idle": "2023-06-11T00:36:37.127284Z",
     "shell.execute_reply": "2023-06-11T00:36:37.124962Z"
    },
    "papermill": {
     "duration": 0.594225,
     "end_time": "2023-06-11T00:36:37.127284",
     "exception": false,
     "start_time": "2023-06-11T00:36:36.533059",
     "status": "completed"
    },
    "tags": []
   },
   "outputs": [
    {
     "name": "stdout",
     "output_type": "stream",
     "text": [
      "Características seleccionadas: (1, 2)\n"
     ]
    }
   ],
   "source": [
    "# Cargamos los datos\n",
    "X = np.array(df_cadencia_female.drop(columns=['Cadencia'])) # df_objetivos es el DataFrame con los parámetros objetivos\n",
    "y = np.array(df_cadencia_female.Cadencia) # df_subjetivos es el DataFrame con los parámetros subjetivos\n",
    "\n",
    "# Creamos el modelo de regresión kNN\n",
    "regr_multivar = SVR(kernel='linear')\n",
    "\n",
    "# Creamos el selector de características hacia adelante\n",
    "forward_selector = SequentialFeatureSelector(regr_multivar, k_features='best', forward=True, scoring='neg_mean_squared_error')\n",
    "\n",
    "# Entrenamos el selector de características\n",
    "forward_selector.fit(X, y)\n",
    "\n",
    "# Obtenemos las características seleccionadas\n",
    "selected_features = forward_selector.k_feature_idx_\n",
    "\n",
    "# Imprimimos las características seleccionadas\n",
    "print('Características seleccionadas:', selected_features)\n"
   ]
  },
  {
   "cell_type": "code",
   "execution_count": 80,
   "id": "bdb8a4ba",
   "metadata": {
    "execution": {
     "iopub.execute_input": "2023-06-11T00:36:37.872282Z",
     "iopub.status.busy": "2023-06-11T00:36:37.872282Z",
     "iopub.status.idle": "2023-06-11T00:36:58.697015Z",
     "shell.execute_reply": "2023-06-11T00:36:58.697015Z"
    },
    "papermill": {
     "duration": 21.185078,
     "end_time": "2023-06-11T00:36:58.697015",
     "exception": false,
     "start_time": "2023-06-11T00:36:37.511937",
     "status": "completed"
    },
    "tags": []
   },
   "outputs": [
    {
     "name": "stdout",
     "output_type": "stream",
     "text": [
      "ZCR p-valor: 0.5224775224775224\n",
      "RMS p-valor: 0.005994005994005994\n",
      "f0 p-valor: 0.5344655344655345\n"
     ]
    }
   ],
   "source": [
    "# Establecemos la semilla aleatoria para reproducibilidad\n",
    "random_state = check_random_state(0)\n",
    "\n",
    "p_values = []\n",
    "\n",
    "for i in range(X.shape[1]):\n",
    "    \n",
    "    # Seleccionamos solo una columna en X\n",
    "    X_single = X[:, i].reshape(-1, 1)\n",
    "    \n",
    "    # Aplicamos la prueba de permutación\n",
    "    score, permutation_scores, pvalue = permutation_test_score(regr_multivar, X_single, y, scoring='neg_mean_squared_error', cv=5, n_permutations=1000, random_state=random_state)\n",
    "    \n",
    "    p_values.append(pvalue)\n",
    "\n",
    "    # Imprimimos el p-valor\n",
    "    if i == 0:\n",
    "        var = 'ZCR'\n",
    "    elif i == 1:\n",
    "        var = 'RMS'\n",
    "    else:\n",
    "        var = 'f0'\n",
    "    print(f'{var} p-valor:', pvalue)\n"
   ]
  },
  {
   "cell_type": "code",
   "execution_count": 81,
   "id": "690f2f5e",
   "metadata": {
    "execution": {
     "iopub.execute_input": "2023-06-11T00:36:59.010309Z",
     "iopub.status.busy": "2023-06-11T00:36:59.010309Z",
     "iopub.status.idle": "2023-06-11T00:36:59.041556Z",
     "shell.execute_reply": "2023-06-11T00:36:59.041556Z"
    },
    "papermill": {
     "duration": 0.2352,
     "end_time": "2023-06-11T00:36:59.041556",
     "exception": false,
     "start_time": "2023-06-11T00:36:58.806356",
     "status": "completed"
    },
    "tags": []
   },
   "outputs": [],
   "source": [
    "# Dicc auxiliar con los nombres asociadas a las variables\n",
    "dicc_names_features = {\n",
    "    'zcr_model': 0,\n",
    "    'rms_model': 1,\n",
    "    'f0_model': 2\n",
    "}\n",
    "\n",
    "# Dicc de los modelos\n",
    "dicc_model = {}\n",
    "\n",
    "# Dicc de las predicciones\n",
    "dicc_pred = {}\n",
    "\n",
    "for selected_feature in selected_features:\n",
    "    # Entrenamos el modelo de regresión con las características seleccionadas\n",
    "    regr_multivar = SVR(kernel='linear')\n",
    "    regr_multivar.fit(X[:, selected_feature].reshape(-1, 1), y.ravel())\n",
    "\n",
    "    # Almacenamos en dicc_model la clave asociada al modelo que se entrenó y el objeto modelo\n",
    "    for key, value in dicc_names_features.items():\n",
    "        if value == selected_feature:\n",
    "            dicc_model[key] = regr_multivar\n",
    "\n",
    "    # Obtenemos las predicciones del modelo para las características seleccionadas\n",
    "    y_pred = regr_multivar.predict(X[:, selected_feature].reshape(-1, 1))\n",
    "\n",
    "    # Almacenamos en dicc_pred la clave asociada al modelo que se entrenó y la predicción\n",
    "    for key, value in dicc_names_features.items():\n",
    "        if value == selected_feature:\n",
    "            dicc_pred[key] = y_pred\n"
   ]
  },
  {
   "cell_type": "code",
   "execution_count": 82,
   "id": "1828995c",
   "metadata": {
    "execution": {
     "iopub.execute_input": "2023-06-11T00:36:59.877040Z",
     "iopub.status.busy": "2023-06-11T00:36:59.877040Z",
     "iopub.status.idle": "2023-06-11T00:36:59.892666Z",
     "shell.execute_reply": "2023-06-11T00:36:59.892666Z"
    },
    "papermill": {
     "duration": 0.491732,
     "end_time": "2023-06-11T00:36:59.892666",
     "exception": false,
     "start_time": "2023-06-11T00:36:59.400934",
     "status": "completed"
    },
    "tags": []
   },
   "outputs": [
    {
     "name": "stdout",
     "output_type": "stream",
     "text": [
      "y = 0.42 * RMS + 14.80 - p-valor = 0.006\n",
      "y = -0.02 * $f_{0}$ + 5.30 - p-valor = 0.534\n"
     ]
    }
   ],
   "source": [
    "list_equ = []\n",
    "\n",
    "for key, model in dicc_model.items():\n",
    "    # Obtenemos los valores de w y b\n",
    "    w = model.coef_[0][0]\n",
    "    b = model.intercept_[0]\n",
    "    \n",
    "    label = key.replace(\"_model\", \"\")\n",
    "    if label == 'f0':\n",
    "        label = r'$f_{0}$'\n",
    "    else:\n",
    "        label = label.upper()\n",
    "\n",
    "    # Construimos la cadena de texto para la ecuación del hiperplano y su p-valor\n",
    "    equation = f'y = {w:.2f} * {label} + {b:.2f} - p-valor = {p_values[dicc_names_features[key]]:.3f}'\n",
    "\n",
    "    # Agregamos la cadena a la lista\n",
    "    list_equ.append(equation)\n",
    "\n",
    "# Mostramos el resultado\n",
    "for equ in list_equ:\n",
    "    print(equ)\n"
   ]
  },
  {
   "cell_type": "code",
   "execution_count": 83,
   "id": "33e8c9e3",
   "metadata": {
    "execution": {
     "iopub.execute_input": "2023-06-11T00:37:00.838295Z",
     "iopub.status.busy": "2023-06-11T00:37:00.838295Z",
     "iopub.status.idle": "2023-06-11T00:37:02.868780Z",
     "shell.execute_reply": "2023-06-11T00:37:02.868780Z"
    },
    "papermill": {
     "duration": 2.496405,
     "end_time": "2023-06-11T00:37:02.868780",
     "exception": false,
     "start_time": "2023-06-11T00:37:00.372375",
     "status": "completed"
    },
    "tags": []
   },
   "outputs": [
    {
     "data": {
      "image/png": "[encoded data removed]",
      "text/plain": [
       "<Figure size 1200x400 with 2 Axes>"
      ]
     },
     "metadata": {},
     "output_type": "display_data"
    }
   ],
   "source": [
    "dims = (6 * len(dicc_model), 4)\n",
    "fig, ax = plt.subplots(figsize=dims, ncols=len(dicc_model))\n",
    "\n",
    "with sns.axes_style('darkgrid'):\n",
    "    for i, (key, model) in enumerate(dicc_model.items()):\n",
    "        if isinstance(ax, np.ndarray):\n",
    "            ax_i = ax[i]\n",
    "        else:\n",
    "            ax_i = ax\n",
    "        label = key.replace(\"_model\", \"\")\n",
    "        if label == 'f0':\n",
    "            label = r'$f_{0}$'\n",
    "        else:\n",
    "            label = label.upper()\n",
    "        g = sns.scatterplot(x=X[:, dicc_names_features[key]], y=y, ax=ax_i, color='blue')\n",
    "        g = sns.lineplot(x=X[:, dicc_names_features[key]], y=dicc_pred[key], ax=ax_i, color='red')\n",
    "        g.text(0.5, -0.1, label, weight='bold', size='large', family='Arial', stretch='extra-expanded', ha='center', va='top', transform=g.transAxes)\n",
    "        g.set_ylabel('Cadencia', weight='bold', size='large', alpha=0.8, family='Arial', stretch='extra-expanded')\n",
    "        g.set_title(list_equ[i], weight='bold', size='x-large', alpha=0.8, family='Arial', stretch='extra-expanded')\n",
    "        g.grid(alpha=0.7)\n",
    "        ax_i.set_ylim(0, 6)\n",
    "\n",
    "    plt.tight_layout()\n",
    "    plt.savefig(os.path.join(PATH, TEST_FOLDER, REGGRESSION_FOLDER, CADENCIA_FOLDER, FEMALE_FOLDER, 'regresiones_cadencia_female.png'))\n",
    "    plt.show()\n"
   ]
  },
  {
   "cell_type": "code",
   "execution_count": 84,
   "id": "dde67b70",
   "metadata": {
    "execution": {
     "iopub.execute_input": "2023-06-11T00:37:03.228154Z",
     "iopub.status.busy": "2023-06-11T00:37:03.228154Z",
     "iopub.status.idle": "2023-06-11T00:37:03.384407Z",
     "shell.execute_reply": "2023-06-11T00:37:03.384407Z"
    },
    "papermill": {
     "duration": 0.343756,
     "end_time": "2023-06-11T00:37:03.384407",
     "exception": false,
     "start_time": "2023-06-11T00:37:03.040651",
     "status": "completed"
    },
    "tags": []
   },
   "outputs": [
    {
     "data": {
      "application/vnd.plotly.v1+json": {
       "config": {
        "plotlyServerURL": "https://plot.ly"
       },
       "data": [
        {
         "hovertemplate": "x=%{x}<br>y=%{y}<br>z=%{z}<extra></extra>",
         "legendgroup": "",
         "marker": {
          "color": "#636efa",
          "symbol": "circle"
         },
         "mode": "markers",
         "name": "",
         "scene": "scene",
         "showlegend": false,
         "type": "scatter3d",
         "x": [
          -27.5,
          -26.1,
          -27,
          -30,
          -29,
          -28.5,
          -25.5,
          -26.5,
          -29.5,
          -28
         ],
         "y": [
          111.111716480441,
          116.353345265724,
          101.312090449968,
          101.534873965827,
          117.741416962869,
          119.577565453938,
          100.992252773665,
          117.898565521619,
          102.269338478718,
          94.7081174667994
         ],
         "z": [
          4.175,
          3.75,
          3.85,
          2.2,
          2.05,
          2.575,
          4.275,
          3.625,
          2.65,
          3.975
         ]
        },
        {
         "opacity": 0.5,
         "type": "surface",
         "x": [
          [
           -27.5,
           -26.1,
           -27,
           -30,
           -29,
           -28.5,
           -25.5,
           -26.5,
           -29.5,
           -28
          ],
          [
           -27.5,
           -26.1,
           -27,
           -30,
           -29,
           -28.5,
           -25.5,
           -26.5,
           -29.5,
           -28
          ],
          [
           -27.5,
           -26.1,
           -27,
           -30,
           -29,
           -28.5,
           -25.5,
           -26.5,
           -29.5,
           -28
          ],
          [
           -27.5,
           -26.1,
           -27,
           -30,
           -29,
           -28.5,
           -25.5,
           -26.5,
           -29.5,
           -28
          ],
          [
           -27.5,
           -26.1,
           -27,
           -30,
           -29,
           -28.5,
           -25.5,
           -26.5,
           -29.5,
           -28
          ],
          [
           -27.5,
           -26.1,
           -27,
           -30,
           -29,
           -28.5,
           -25.5,
           -26.5,
           -29.5,
           -28
          ],
          [
           -27.5,
           -26.1,
           -27,
           -30,
           -29,
           -28.5,
           -25.5,
           -26.5,
           -29.5,
           -28
          ],
          [
           -27.5,
           -26.1,
           -27,
           -30,
           -29,
           -28.5,
           -25.5,
           -26.5,
           -29.5,
           -28
          ],
          [
           -27.5,
           -26.1,
           -27,
           -30,
           -29,
           -28.5,
           -25.5,
           -26.5,
           -29.5,
           -28
          ],
          [
           -27.5,
           -26.1,
           -27,
           -30,
           -29,
           -28.5,
           -25.5,
           -26.5,
           -29.5,
           -28
          ]
         ],
         "y": [
          [
           111.111716480441,
           111.111716480441,
           111.111716480441,
           111.111716480441,
           111.111716480441,
           111.111716480441,
           111.111716480441,
           111.111716480441,
           111.111716480441,
           111.111716480441
          ],
          [
           116.353345265724,
           116.353345265724,
           116.353345265724,
           116.353345265724,
           116.353345265724,
           116.353345265724,
           116.353345265724,
           116.353345265724,
           116.353345265724,
           116.353345265724
          ],
          [
           101.312090449968,
           101.312090449968,
           101.312090449968,
           101.312090449968,
           101.312090449968,
           101.312090449968,
           101.312090449968,
           101.312090449968,
           101.312090449968,
           101.312090449968
          ],
          [
           101.534873965827,
           101.534873965827,
           101.534873965827,
           101.534873965827,
           101.534873965827,
           101.534873965827,
           101.534873965827,
           101.534873965827,
           101.534873965827,
           101.534873965827
          ],
          [
           117.741416962869,
           117.741416962869,
           117.741416962869,
           117.741416962869,
           117.741416962869,
           117.741416962869,
           117.741416962869,
           117.741416962869,
           117.741416962869,
           117.741416962869
          ],
          [
           119.577565453938,
           119.577565453938,
           119.577565453938,
           119.577565453938,
           119.577565453938,
           119.577565453938,
           119.577565453938,
           119.577565453938,
           119.577565453938,
           119.577565453938
          ],
          [
           100.992252773665,
           100.992252773665,
           100.992252773665,
           100.992252773665,
           100.992252773665,
           100.992252773665,
           100.992252773665,
           100.992252773665,
           100.992252773665,
           100.992252773665
          ],
          [
           117.898565521619,
           117.898565521619,
           117.898565521619,
           117.898565521619,
           117.898565521619,
           117.898565521619,
           117.898565521619,
           117.898565521619,
           117.898565521619,
           117.898565521619
          ],
          [
           102.269338478718,
           102.269338478718,
           102.269338478718,
           102.269338478718,
           102.269338478718,
           102.269338478718,
           102.269338478718,
           102.269338478718,
           102.269338478718,
           102.269338478718
          ],
          [
           94.7081174667994,
           94.7081174667994,
           94.7081174667994,
           94.7081174667994,
           94.7081174667994,
           94.7081174667994,
           94.7081174667994,
           94.7081174667994,
           94.7081174667994,
           94.7081174667994
          ]
         ],
         "z": [
          [
           3.252183147039215,
           3.9471300547281807,
           3.500378471213846,
           2.0112065261660597,
           2.507597174515322,
           2.755792498689953,
           4.244964443737739,
           3.7485737953884772,
           2.2594018503406907,
           3.003987822864584
          ],
          [
           3.079456090060905,
           3.7744029977498705,
           3.327651414235536,
           1.8384794691877495,
           2.3348701175370117,
           2.5830654417116428,
           4.072237386759429,
           3.575846738410167,
           2.0866747933623806,
           2.831260765886274
          ],
          [
           3.5751095947274116,
           4.270056502416377,
           3.8233049189020427,
           2.334132973854256,
           2.8305236222035184,
           3.0787189463781495,
           4.567890891425936,
           4.071500243076674,
           2.5823282980288873,
           3.3269142705527806
          ],
          [
           3.5677682238265085,
           4.262715131515474,
           3.8159635480011396,
           2.326791602953353,
           2.8231822513026152,
           3.0713775754772463,
           4.560549520525033,
           4.064158872175771,
           2.574986927127984,
           3.3195728996518774
          ],
          [
           3.03371505250481,
           3.728661960193776,
           3.2819103766794413,
           1.7927384316316548,
           2.289129079980917,
           2.537324404155548,
           4.0264963492033345,
           3.5301057008540724,
           2.040933755806286,
           2.785519728330179
          ],
          [
           2.9732085691140036,
           3.668155476802969,
           3.2214038932886346,
           1.7322319482408481,
           2.2286225965901103,
           2.4768179207647414,
           3.965989865812528,
           3.4695992174632657,
           1.9804272724154792,
           2.7250132449393725
          ],
          [
           3.585649185148945,
           4.280596092837911,
           3.8338445093235762,
           2.3446725642757897,
           2.841063212625052,
           3.089258536799683,
           4.578430481847468,
           4.082039833498207,
           2.592867888450421,
           3.337453860974314
          ],
          [
           3.0285365461333775,
           3.723483453822343,
           3.2767318703080086,
           1.7875599252602221,
           2.2839505736094843,
           2.5321458977841154,
           4.021317842831902,
           3.5249271944826397,
           2.035755249434853,
           2.7803412219587464
          ],
          [
           3.543565461867697,
           4.238512369556663,
           3.791760786042328,
           2.3025888409945416,
           2.798979489343804,
           3.047174813518435,
           4.536346758566221,
           4.039956110216959,
           2.5507841651691727,
           3.295370137693066
          ],
          [
           3.79272989262979,
           4.487676800318756,
           4.040925216804421,
           2.5517532717566347,
           3.048143920105897,
           3.296339244280528,
           4.785511189328316,
           4.289120540979052,
           2.7999485959312658,
           3.544534568455159
          ]
         ]
        }
       ],
       "layout": {
        "legend": {
         "tracegroupgap": 0
        },
        "margin": {
         "t": 60
        },
        "scene": {
         "domain": {
          "x": [
           0,
           1
          ],
          "y": [
           0,
           1
          ]
         },
         "xaxis": {
          "title": {
           "text": "rms"
          }
         },
         "yaxis": {
          "tickvals": [
           100,
           105,
           110,
           115,
           120
          ],
          "title": {
           "text": "f0"
          }
         },
         "zaxis": {
          "range": [
           0,
           6
          ],
          "title": {
           "text": "Cadencia"
          }
         }
        },
        "template": {
         "data": {
          "bar": [
           {
            "error_x": {
             "color": "#2a3f5f"
            },
            "error_y": {
             "color": "#2a3f5f"
            },
            "marker": {
             "line": {
              "color": "#E5ECF6",
              "width": 0.5
             },
             "pattern": {
              "fillmode": "overlay",
              "size": 10,
              "solidity": 0.2
             }
            },
            "type": "bar"
           }
          ],
          "barpolar": [
           {
            "marker": {
             "line": {
              "color": "#E5ECF6",
              "width": 0.5
             },
             "pattern": {
              "fillmode": "overlay",
              "size": 10,
              "solidity": 0.2
             }
            },
            "type": "barpolar"
           }
          ],
          "carpet": [
           {
            "aaxis": {
             "endlinecolor": "#2a3f5f",
             "gridcolor": "white",
             "linecolor": "white",
             "minorgridcolor": "white",
             "startlinecolor": "#2a3f5f"
            },
            "baxis": {
             "endlinecolor": "#2a3f5f",
             "gridcolor": "white",
             "linecolor": "white",
             "minorgridcolor": "white",
             "startlinecolor": "#2a3f5f"
            },
            "type": "carpet"
           }
          ],
          "choropleth": [
           {
            "colorbar": {
             "outlinewidth": 0,
             "ticks": ""
            },
            "type": "choropleth"
           }
          ],
          "contour": [
           {
            "colorbar": {
             "outlinewidth": 0,
             "ticks": ""
            },
            "colorscale": [
             [
              0,
              "#0d0887"
             ],
             [
              0.1111111111111111,
              "#46039f"
             ],
             [
              0.2222222222222222,
              "#7201a8"
             ],
             [
              0.3333333333333333,
              "#9c179e"
             ],
             [
              0.4444444444444444,
              "#bd3786"
             ],
             [
              0.5555555555555556,
              "#d8576b"
             ],
             [
              0.6666666666666666,
              "#ed7953"
             ],
             [
              0.7777777777777778,
              "#fb9f3a"
             ],
             [
              0.8888888888888888,
              "#fdca26"
             ],
             [
              1,
              "#f0f921"
             ]
            ],
            "type": "contour"
           }
          ],
          "contourcarpet": [
           {
            "colorbar": {
             "outlinewidth": 0,
             "ticks": ""
            },
            "type": "contourcarpet"
           }
          ],
          "heatmap": [
           {
            "colorbar": {
             "outlinewidth": 0,
             "ticks": ""
            },
            "colorscale": [
             [
              0,
              "#0d0887"
             ],
             [
              0.1111111111111111,
              "#46039f"
             ],
             [
              0.2222222222222222,
              "#7201a8"
             ],
             [
              0.3333333333333333,
              "#9c179e"
             ],
             [
              0.4444444444444444,
              "#bd3786"
             ],
             [
              0.5555555555555556,
              "#d8576b"
             ],
             [
              0.6666666666666666,
              "#ed7953"
             ],
             [
              0.7777777777777778,
              "#fb9f3a"
             ],
             [
              0.8888888888888888,
              "#fdca26"
             ],
             [
              1,
              "#f0f921"
             ]
            ],
            "type": "heatmap"
           }
          ],
          "heatmapgl": [
           {
            "colorbar": {
             "outlinewidth": 0,
             "ticks": ""
            },
            "colorscale": [
             [
              0,
              "#0d0887"
             ],
             [
              0.1111111111111111,
              "#46039f"
             ],
             [
              0.2222222222222222,
              "#7201a8"
             ],
             [
              0.3333333333333333,
              "#9c179e"
             ],
             [
              0.4444444444444444,
              "#bd3786"
             ],
             [
              0.5555555555555556,
              "#d8576b"
             ],
             [
              0.6666666666666666,
              "#ed7953"
             ],
             [
              0.7777777777777778,
              "#fb9f3a"
             ],
             [
              0.8888888888888888,
              "#fdca26"
             ],
             [
              1,
              "#f0f921"
             ]
            ],
            "type": "heatmapgl"
           }
          ],
          "histogram": [
           {
            "marker": {
             "pattern": {
              "fillmode": "overlay",
              "size": 10,
              "solidity": 0.2
             }
            },
            "type": "histogram"
           }
          ],
          "histogram2d": [
           {
            "colorbar": {
             "outlinewidth": 0,
             "ticks": ""
            },
            "colorscale": [
             [
              0,
              "#0d0887"
             ],
             [
              0.1111111111111111,
              "#46039f"
             ],
             [
              0.2222222222222222,
              "#7201a8"
             ],
             [
              0.3333333333333333,
              "#9c179e"
             ],
             [
              0.4444444444444444,
              "#bd3786"
             ],
             [
              0.5555555555555556,
              "#d8576b"
             ],
             [
              0.6666666666666666,
              "#ed7953"
             ],
             [
              0.7777777777777778,
              "#fb9f3a"
             ],
             [
              0.8888888888888888,
              "#fdca26"
             ],
             [
              1,
              "#f0f921"
             ]
            ],
            "type": "histogram2d"
           }
          ],
          "histogram2dcontour": [
           {
            "colorbar": {
             "outlinewidth": 0,
             "ticks": ""
            },
            "colorscale": [
             [
              0,
              "#0d0887"
             ],
             [
              0.1111111111111111,
              "#46039f"
             ],
             [
              0.2222222222222222,
              "#7201a8"
             ],
             [
              0.3333333333333333,
              "#9c179e"
             ],
             [
              0.4444444444444444,
              "#bd3786"
             ],
             [
              0.5555555555555556,
              "#d8576b"
             ],
             [
              0.6666666666666666,
              "#ed7953"
             ],
             [
              0.7777777777777778,
              "#fb9f3a"
             ],
             [
              0.8888888888888888,
              "#fdca26"
             ],
             [
              1,
              "#f0f921"
             ]
            ],
            "type": "histogram2dcontour"
           }
          ],
          "mesh3d": [
           {
            "colorbar": {
             "outlinewidth": 0,
             "ticks": ""
            },
            "type": "mesh3d"
           }
          ],
          "parcoords": [
           {
            "line": {
             "colorbar": {
              "outlinewidth": 0,
              "ticks": ""
             }
            },
            "type": "parcoords"
           }
          ],
          "pie": [
           {
            "automargin": true,
            "type": "pie"
           }
          ],
          "scatter": [
           {
            "fillpattern": {
             "fillmode": "overlay",
             "size": 10,
             "solidity": 0.2
            },
            "type": "scatter"
           }
          ],
          "scatter3d": [
           {
            "line": {
             "colorbar": {
              "outlinewidth": 0,
              "ticks": ""
             }
            },
            "marker": {
             "colorbar": {
              "outlinewidth": 0,
              "ticks": ""
             }
            },
            "type": "scatter3d"
           }
          ],
          "scattercarpet": [
           {
            "marker": {
             "colorbar": {
              "outlinewidth": 0,
              "ticks": ""
             }
            },
            "type": "scattercarpet"
           }
          ],
          "scattergeo": [
           {
            "marker": {
             "colorbar": {
              "outlinewidth": 0,
              "ticks": ""
             }
            },
            "type": "scattergeo"
           }
          ],
          "scattergl": [
           {
            "marker": {
             "colorbar": {
              "outlinewidth": 0,
              "ticks": ""
             }
            },
            "type": "scattergl"
           }
          ],
          "scattermapbox": [
           {
            "marker": {
             "colorbar": {
              "outlinewidth": 0,
              "ticks": ""
             }
            },
            "type": "scattermapbox"
           }
          ],
          "scatterpolar": [
           {
            "marker": {
             "colorbar": {
              "outlinewidth": 0,
              "ticks": ""
             }
            },
            "type": "scatterpolar"
           }
          ],
          "scatterpolargl": [
           {
            "marker": {
             "colorbar": {
              "outlinewidth": 0,
              "ticks": ""
             }
            },
            "type": "scatterpolargl"
           }
          ],
          "scatterternary": [
           {
            "marker": {
             "colorbar": {
              "outlinewidth": 0,
              "ticks": ""
             }
            },
            "type": "scatterternary"
           }
          ],
          "surface": [
           {
            "colorbar": {
             "outlinewidth": 0,
             "ticks": ""
            },
            "colorscale": [
             [
              0,
              "#0d0887"
             ],
             [
              0.1111111111111111,
              "#46039f"
             ],
             [
              0.2222222222222222,
              "#7201a8"
             ],
             [
              0.3333333333333333,
              "#9c179e"
             ],
             [
              0.4444444444444444,
              "#bd3786"
             ],
             [
              0.5555555555555556,
              "#d8576b"
             ],
             [
              0.6666666666666666,
              "#ed7953"
             ],
             [
              0.7777777777777778,
              "#fb9f3a"
             ],
             [
              0.8888888888888888,
              "#fdca26"
             ],
             [
              1,
              "#f0f921"
             ]
            ],
            "type": "surface"
           }
          ],
          "table": [
           {
            "cells": {
             "fill": {
              "color": "#EBF0F8"
             },
             "line": {
              "color": "white"
             }
            },
            "header": {
             "fill": {
              "color": "#C8D4E3"
             },
             "line": {
              "color": "white"
             }
            },
            "type": "table"
           }
          ]
         },
         "layout": {
          "annotationdefaults": {
           "arrowcolor": "#2a3f5f",
           "arrowhead": 0,
           "arrowwidth": 1
          },
          "autotypenumbers": "strict",
          "coloraxis": {
           "colorbar": {
            "outlinewidth": 0,
            "ticks": ""
           }
          },
          "colorscale": {
           "diverging": [
            [
             0,
             "#8e0152"
            ],
            [
             0.1,
             "#c51b7d"
            ],
            [
             0.2,
             "#de77ae"
            ],
            [
             0.3,
             "#f1b6da"
            ],
            [
             0.4,
             "#fde0ef"
            ],
            [
             0.5,
             "#f7f7f7"
            ],
            [
             0.6,
             "#e6f5d0"
            ],
            [
             0.7,
             "#b8e186"
            ],
            [
             0.8,
             "#7fbc41"
            ],
            [
             0.9,
             "#4d9221"
            ],
            [
             1,
             "#276419"
            ]
           ],
           "sequential": [
            [
             0,
             "#0d0887"
            ],
            [
             0.1111111111111111,
             "#46039f"
            ],
            [
             0.2222222222222222,
             "#7201a8"
            ],
            [
             0.3333333333333333,
             "#9c179e"
            ],
            [
             0.4444444444444444,
             "#bd3786"
            ],
            [
             0.5555555555555556,
             "#d8576b"
            ],
            [
             0.6666666666666666,
             "#ed7953"
            ],
            [
             0.7777777777777778,
             "#fb9f3a"
            ],
            [
             0.8888888888888888,
             "#fdca26"
            ],
            [
             1,
             "#f0f921"
            ]
           ],
           "sequentialminus": [
            [
             0,
             "#0d0887"
            ],
            [
             0.1111111111111111,
             "#46039f"
            ],
            [
             0.2222222222222222,
             "#7201a8"
            ],
            [
             0.3333333333333333,
             "#9c179e"
            ],
            [
             0.4444444444444444,
             "#bd3786"
            ],
            [
             0.5555555555555556,
             "#d8576b"
            ],
            [
             0.6666666666666666,
             "#ed7953"
            ],
            [
             0.7777777777777778,
             "#fb9f3a"
            ],
            [
             0.8888888888888888,
             "#fdca26"
            ],
            [
             1,
             "#f0f921"
            ]
           ]
          },
          "colorway": [
           "#636efa",
           "#EF553B",
           "#00cc96",
           "#ab63fa",
           "#FFA15A",
           "#19d3f3",
           "#FF6692",
           "#B6E880",
           "#FF97FF",
           "#FECB52"
          ],
          "font": {
           "color": "#2a3f5f"
          },
          "geo": {
           "bgcolor": "white",
           "lakecolor": "white",
           "landcolor": "#E5ECF6",
           "showlakes": true,
           "showland": true,
           "subunitcolor": "white"
          },
          "hoverlabel": {
           "align": "left"
          },
          "hovermode": "closest",
          "mapbox": {
           "style": "light"
          },
          "paper_bgcolor": "white",
          "plot_bgcolor": "#E5ECF6",
          "polar": {
           "angularaxis": {
            "gridcolor": "white",
            "linecolor": "white",
            "ticks": ""
           },
           "bgcolor": "#E5ECF6",
           "radialaxis": {
            "gridcolor": "white",
            "linecolor": "white",
            "ticks": ""
           }
          },
          "scene": {
           "xaxis": {
            "backgroundcolor": "#E5ECF6",
            "gridcolor": "white",
            "gridwidth": 2,
            "linecolor": "white",
            "showbackground": true,
            "ticks": "",
            "zerolinecolor": "white"
           },
           "yaxis": {
            "backgroundcolor": "#E5ECF6",
            "gridcolor": "white",
            "gridwidth": 2,
            "linecolor": "white",
            "showbackground": true,
            "ticks": "",
            "zerolinecolor": "white"
           },
           "zaxis": {
            "backgroundcolor": "#E5ECF6",
            "gridcolor": "white",
            "gridwidth": 2,
            "linecolor": "white",
            "showbackground": true,
            "ticks": "",
            "zerolinecolor": "white"
           }
          },
          "shapedefaults": {
           "line": {
            "color": "#2a3f5f"
           }
          },
          "ternary": {
           "aaxis": {
            "gridcolor": "white",
            "linecolor": "white",
            "ticks": ""
           },
           "baxis": {
            "gridcolor": "white",
            "linecolor": "white",
            "ticks": ""
           },
           "bgcolor": "#E5ECF6",
           "caxis": {
            "gridcolor": "white",
            "linecolor": "white",
            "ticks": ""
           }
          },
          "title": {
           "x": 0.05
          },
          "xaxis": {
           "automargin": true,
           "gridcolor": "white",
           "linecolor": "white",
           "ticks": "",
           "title": {
            "standoff": 15
           },
           "zerolinecolor": "white",
           "zerolinewidth": 2
          },
          "yaxis": {
           "automargin": true,
           "gridcolor": "white",
           "linecolor": "white",
           "ticks": "",
           "title": {
            "standoff": 15
           },
           "zerolinecolor": "white",
           "zerolinewidth": 2
          }
         }
        },
        "title": {
         "text": "z = 20.56 + 0.5 * rms + -0.03 * f0",
         "x": 0.5,
         "xanchor": "center"
        }
       }
      }
     },
     "metadata": {},
     "output_type": "display_data"
    }
   ],
   "source": [
    "if len(dicc_model) == 2:\n",
    "    import plotly.express as px\n",
    "    import plotly.graph_objects as go\n",
    "\n",
    "    # Seleccionamos solo las características seleccionadas en X\n",
    "    X_selected = X[:, selected_features]\n",
    "\n",
    "    # Entrenamos el modelo de regresión con las características seleccionadas\n",
    "    regr_multivar = SVR(kernel='linear')\n",
    "    regr_multivar.fit(X_selected, y)\n",
    "\n",
    "    # Obtenemos las predicciones del modelo para las características seleccionadas\n",
    "    y_pred = regr_multivar.predict(X_selected)\n",
    "\n",
    "    # Crear la figura\n",
    "    fig = px.scatter_3d(x=X_selected[:, 0], y=X_selected[:, 1], z=y)\n",
    "\n",
    "    # Crear el plano de regresión\n",
    "    xx, yy = np.meshgrid(X_selected[:, 0], X_selected[:, 1])\n",
    "    zz = regr_multivar.intercept_ + np.dot(np.array([xx.ravel(), yy.ravel()]).T, regr_multivar.coef_.ravel()).reshape(xx.shape)\n",
    "    fig.add_trace(go.Surface(x=xx, y=yy, z=zz, opacity=0.5))\n",
    "\n",
    "    # Construir la cadena de texto para la ecuación del plano\n",
    "    equation = f'z = {regr_multivar.intercept_[0].round(2)}'\n",
    "    for i, (key, model) in enumerate(dicc_model.items()):\n",
    "        equation += f' + {regr_multivar.coef_[0][i].round(2)} * {key.replace(\"_model\", \"\")}'\n",
    "    \n",
    "    # Centrar el título\n",
    "    fig.update_layout(title=dict(text=equation, x=0.5, xanchor='center'))\n",
    "\n",
    "    # Etiquetas de los ejes y rango del eje z\n",
    "    fig.update_layout(scene=dict(xaxis_title=list(dicc_model.keys())[0].replace(\"_model\", \"\"), yaxis_title=list(dicc_model.keys())[1].replace(\"_model\", \"\"), zaxis_title='Cadencia', zaxis=dict(range=[0, 6]), yaxis=dict(tickvals=[100, 105, 110, 115, 120])))\n",
    "\n",
    "    fig.write_html(os.path.join(PATH, TEST_FOLDER, REGGRESSION_FOLDER, CADENCIA_FOLDER, FEMALE_FOLDER, 'regresion_cadencia_multivariable_female.html'))\n",
    "\n",
    "    fig.show()\n"
   ]
  }
 ],
 "metadata": {
  "kernelspec": {
   "display_name": "venv",
   "language": "python",
   "name": "python3"
  },
  "language_info": {
   "codemirror_mode": {
    "name": "ipython",
    "version": 3
   },
   "file_extension": ".py",
   "mimetype": "text/x-python",
   "name": "python",
   "nbconvert_exporter": "python",
   "pygments_lexer": "ipython3",
   "version": "3.10.11"
  },
  "papermill": {
   "default_parameters": {},
   "duration": 293.10883,
   "end_time": "2023-06-11T00:37:06.038453",
   "environment_variables": {},
   "exception": null,
   "input_path": "regression.ipynb",
   "output_path": "regression.ipynb",
   "parameters": {},
   "start_time": "2023-06-11T00:32:12.929623",
   "version": "2.4.0"
  }
 },
 "nbformat": 4,
 "nbformat_minor": 5
}
