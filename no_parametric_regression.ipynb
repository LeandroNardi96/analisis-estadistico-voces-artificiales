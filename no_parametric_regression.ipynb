{
 "cells": [
  {
   "cell_type": "code",
   "execution_count": 1,
   "id": "17795b15",
   "metadata": {
    "execution": {
     "iopub.execute_input": "2023-06-11T01:37:21.592891Z",
     "iopub.status.busy": "2023-06-11T01:37:21.592891Z",
     "iopub.status.idle": "2023-06-11T01:37:23.867476Z",
     "shell.execute_reply": "2023-06-11T01:37:23.867476Z"
    },
    "papermill": {
     "duration": 2.321303,
     "end_time": "2023-06-11T01:37:23.867476",
     "exception": false,
     "start_time": "2023-06-11T01:37:21.546173",
     "status": "completed"
    },
    "tags": []
   },
   "outputs": [],
   "source": [
    "import pandas as pd\n",
    "import numpy as np\n",
    "from matplotlib import pyplot as plt\n",
    "from scipy.stats import mannwhitneyu\n",
    "import re\n",
    "import os\n",
    "import seaborn as sns\n",
    "from matplotlib import cm, colors"
   ]
  },
  {
   "cell_type": "code",
   "execution_count": 2,
   "id": "a3e117cb",
   "metadata": {
    "execution": {
     "iopub.execute_input": "2023-06-11T01:37:23.920016Z",
     "iopub.status.busy": "2023-06-11T01:37:23.919011Z",
     "iopub.status.idle": "2023-06-11T01:37:23.931179Z",
     "shell.execute_reply": "2023-06-11T01:37:23.929243Z"
    },
    "papermill": {
     "duration": 0.050142,
     "end_time": "2023-06-11T01:37:23.933137",
     "exception": false,
     "start_time": "2023-06-11T01:37:23.882995",
     "status": "completed"
    },
    "tags": []
   },
   "outputs": [],
   "source": [
    "PATH = os.getcwd()\n",
    "TEST_FOLDER = 'test-result'\n",
    "REGGRESSION_FOLDER = 'regressions'\n",
    "NO_PARAMETRIC_FOLDER = 'no-parametric'\n",
    "ACENTUACION_FOLDER = 'Acentuacion'\n",
    "CADENCIA_FOLDER = 'Cadencia'\n",
    "INTELIGIBILIDAD_FOLDER = 'Inteligibilidad'\n",
    "NATURALIDAD_FOLDER = 'Naturalidad'\n",
    "PRONUNCIACION_FOLDER = 'Pronunciacion'\n",
    "MALE_FOLDER = 'masculino'\n",
    "FEMALE_FOLDER = 'femenino'"
   ]
  },
  {
   "cell_type": "code",
   "execution_count": 3,
   "id": "ddc7a744",
   "metadata": {},
   "outputs": [],
   "source": [
    "# Diccionario para guardar los p-value\n",
    "dicc_p_value = {\n",
    "    'subjetive_parameter':[],\n",
    "    'ZCR':[],\n",
    "    'RMS':[],\n",
    "    'f0':[],\n",
    "    'genero':[] \n",
    "}"
   ]
  },
  {
   "cell_type": "code",
   "execution_count": 4,
   "id": "6dbf48cd",
   "metadata": {},
   "outputs": [],
   "source": [
    "# Voy a limpiar los graficos que hay en las carpetas\n",
    "\n",
    "list_files = os.listdir(os.path.join(PATH, TEST_FOLDER, REGGRESSION_FOLDER, NO_PARAMETRIC_FOLDER))\n",
    "\n",
    "list_folder = []\n",
    "for folder in list_files:\n",
    "    if not folder.endswith('.xlsx'):\n",
    "        list_folder.append(folder)\n",
    "        \n",
    "SUBFOLDER_GENDER = ['masculino', 'femenino']\n",
    "\n",
    "for folder in list_folder:\n",
    "    for gender in SUBFOLDER_GENDER:\n",
    "        os.chdir(os.path.join(os.path.join(PATH, TEST_FOLDER, REGGRESSION_FOLDER, NO_PARAMETRIC_FOLDER, folder, gender)))\n",
    "        all_files = os.listdir()\n",
    "        if len(all_files) == 0:\n",
    "            continue\n",
    "        for f in all_files:\n",
    "            os.remove(f)\n",
    "\n",
    "os.chdir(PATH)"
   ]
  },
  {
   "cell_type": "code",
   "execution_count": 5,
   "id": "d3c38344",
   "metadata": {},
   "outputs": [
    {
     "data": {
      "text/plain": [
       "['Acentuacion', 'Cadencia', 'Inteligibilidad', 'Naturalidad', 'Pronunciacion']"
      ]
     },
     "execution_count": 5,
     "metadata": {},
     "output_type": "execute_result"
    }
   ],
   "source": [
    "list_folder"
   ]
  },
  {
   "cell_type": "code",
   "execution_count": 6,
   "id": "bb52d572",
   "metadata": {
    "execution": {
     "iopub.execute_input": "2023-06-11T01:37:23.969872Z",
     "iopub.status.busy": "2023-06-11T01:37:23.969872Z",
     "iopub.status.idle": "2023-06-11T01:37:24.001213Z",
     "shell.execute_reply": "2023-06-11T01:37:24.001213Z"
    },
    "papermill": {
     "duration": 0.046971,
     "end_time": "2023-06-11T01:37:24.001213",
     "exception": false,
     "start_time": "2023-06-11T01:37:23.954242",
     "status": "completed"
    },
    "tags": []
   },
   "outputs": [],
   "source": [
    "merged_df = pd.read_csv(r'aux_file\\data_regression.csv')"
   ]
  },
  {
   "cell_type": "code",
   "execution_count": 7,
   "id": "2a1bdb65",
   "metadata": {
    "execution": {
     "iopub.execute_input": "2023-06-11T01:37:24.052738Z",
     "iopub.status.busy": "2023-06-11T01:37:24.050739Z",
     "iopub.status.idle": "2023-06-11T01:37:24.181724Z",
     "shell.execute_reply": "2023-06-11T01:37:24.181724Z"
    },
    "papermill": {
     "duration": 0.164981,
     "end_time": "2023-06-11T01:37:24.181724",
     "exception": false,
     "start_time": "2023-06-11T01:37:24.016743",
     "status": "completed"
    },
    "tags": []
   },
   "outputs": [],
   "source": [
    "obj_params = pd.read_excel('voces_test_rms.ods')"
   ]
  },
  {
   "cell_type": "code",
   "execution_count": 8,
   "id": "45d42bb4",
   "metadata": {
    "execution": {
     "iopub.execute_input": "2023-06-11T01:37:24.235201Z",
     "iopub.status.busy": "2023-06-11T01:37:24.234201Z",
     "iopub.status.idle": "2023-06-11T01:37:24.261200Z",
     "shell.execute_reply": "2023-06-11T01:37:24.259293Z"
    },
    "papermill": {
     "duration": 0.065943,
     "end_time": "2023-06-11T01:37:24.263197",
     "exception": false,
     "start_time": "2023-06-11T01:37:24.197254",
     "status": "completed"
    },
    "tags": []
   },
   "outputs": [
    {
     "data": {
      "text/html": [
       "<div>\n",
       "<style scoped>\n",
       "    .dataframe tbody tr th:only-of-type {\n",
       "        vertical-align: middle;\n",
       "    }\n",
       "\n",
       "    .dataframe tbody tr th {\n",
       "        vertical-align: top;\n",
       "    }\n",
       "\n",
       "    .dataframe thead th {\n",
       "        text-align: right;\n",
       "    }\n",
       "</style>\n",
       "<table border=\"1\" class=\"dataframe\">\n",
       "  <thead>\n",
       "    <tr style=\"text-align: right;\">\n",
       "      <th></th>\n",
       "      <th>zero_crossing_rate</th>\n",
       "      <th>rms</th>\n",
       "      <th>mfcc</th>\n",
       "      <th>pitch</th>\n",
       "      <th>genero</th>\n",
       "      <th>file</th>\n",
       "    </tr>\n",
       "  </thead>\n",
       "  <tbody>\n",
       "    <tr>\n",
       "      <th>0</th>\n",
       "      <td>0.075944</td>\n",
       "      <td>-27.5</td>\n",
       "      <td>[-4.0729132e+02  1.3076346e+02 -3.0420111e+01 ...</td>\n",
       "      <td>111.111716</td>\n",
       "      <td>femenino</td>\n",
       "      <td>hyacinthe-lovo-v3.wav</td>\n",
       "    </tr>\n",
       "    <tr>\n",
       "      <th>1</th>\n",
       "      <td>0.093035</td>\n",
       "      <td>-27.0</td>\n",
       "      <td>[-424.61664     138.61742     -14.495688     3...</td>\n",
       "      <td>101.312090</td>\n",
       "      <td>femenino</td>\n",
       "      <td>lola-murf.wav</td>\n",
       "    </tr>\n",
       "    <tr>\n",
       "      <th>2</th>\n",
       "      <td>0.093043</td>\n",
       "      <td>-22.5</td>\n",
       "      <td>[-3.71418152e+02  1.31561859e+02 -1.60284328e+...</td>\n",
       "      <td>76.492752</td>\n",
       "      <td>masculino</td>\n",
       "      <td>neural2B-GCP.wav</td>\n",
       "    </tr>\n",
       "    <tr>\n",
       "      <th>3</th>\n",
       "      <td>0.098051</td>\n",
       "      <td>-22.0</td>\n",
       "      <td>[-3.4943588e+02  1.2940279e+02 -1.8956478e+01 ...</td>\n",
       "      <td>68.726911</td>\n",
       "      <td>masculino</td>\n",
       "      <td>alonso-naturalreader.wav</td>\n",
       "    </tr>\n",
       "    <tr>\n",
       "      <th>4</th>\n",
       "      <td>0.105458</td>\n",
       "      <td>-21.5</td>\n",
       "      <td>[-3.5115176e+02  1.1943483e+02 -1.9279911e+01 ...</td>\n",
       "      <td>69.045778</td>\n",
       "      <td>masculino</td>\n",
       "      <td>antonio-murf.wav</td>\n",
       "    </tr>\n",
       "  </tbody>\n",
       "</table>\n",
       "</div>"
      ],
      "text/plain": [
       "   zero_crossing_rate   rms   \n",
       "0            0.075944 -27.5  \\\n",
       "1            0.093035 -27.0   \n",
       "2            0.093043 -22.5   \n",
       "3            0.098051 -22.0   \n",
       "4            0.105458 -21.5   \n",
       "\n",
       "                                                mfcc       pitch     genero   \n",
       "0  [-4.0729132e+02  1.3076346e+02 -3.0420111e+01 ...  111.111716   femenino  \\\n",
       "1  [-424.61664     138.61742     -14.495688     3...  101.312090   femenino   \n",
       "2  [-3.71418152e+02  1.31561859e+02 -1.60284328e+...   76.492752  masculino   \n",
       "3  [-3.4943588e+02  1.2940279e+02 -1.8956478e+01 ...   68.726911  masculino   \n",
       "4  [-3.5115176e+02  1.1943483e+02 -1.9279911e+01 ...   69.045778  masculino   \n",
       "\n",
       "                       file  \n",
       "0     hyacinthe-lovo-v3.wav  \n",
       "1             lola-murf.wav  \n",
       "2          neural2B-GCP.wav  \n",
       "3  alonso-naturalreader.wav  \n",
       "4          antonio-murf.wav  "
      ]
     },
     "execution_count": 8,
     "metadata": {},
     "output_type": "execute_result"
    }
   ],
   "source": [
    "obj_params.head()"
   ]
  },
  {
   "cell_type": "code",
   "execution_count": 9,
   "id": "22e415c4",
   "metadata": {
    "execution": {
     "iopub.execute_input": "2023-06-11T01:37:24.302592Z",
     "iopub.status.busy": "2023-06-11T01:37:24.302592Z",
     "iopub.status.idle": "2023-06-11T01:37:24.319998Z",
     "shell.execute_reply": "2023-06-11T01:37:24.318280Z"
    },
    "papermill": {
     "duration": 0.0517,
     "end_time": "2023-06-11T01:37:24.323003",
     "exception": false,
     "start_time": "2023-06-11T01:37:24.271303",
     "status": "completed"
    },
    "tags": []
   },
   "outputs": [],
   "source": [
    "df_union = pd.merge(\n",
    "    merged_df,\n",
    "    obj_params,\n",
    "    how='left',\n",
    "    left_on='filename',\n",
    "    right_on='file'\n",
    ").drop(columns=['file'])"
   ]
  },
  {
   "cell_type": "code",
   "execution_count": 10,
   "id": "b7f1cba5",
   "metadata": {
    "execution": {
     "iopub.execute_input": "2023-06-11T01:37:24.373750Z",
     "iopub.status.busy": "2023-06-11T01:37:24.372733Z",
     "iopub.status.idle": "2023-06-11T01:37:24.386535Z",
     "shell.execute_reply": "2023-06-11T01:37:24.384522Z"
    },
    "papermill": {
     "duration": 0.05226,
     "end_time": "2023-06-11T01:37:24.389572",
     "exception": false,
     "start_time": "2023-06-11T01:37:24.337312",
     "status": "completed"
    },
    "tags": []
   },
   "outputs": [],
   "source": [
    "df_union.rename(\n",
    "    columns={\n",
    "        'zero_crossing_rate': 'zcr',\n",
    "        'pitch': 'f0'\n",
    "    },\n",
    "    inplace=True\n",
    ")"
   ]
  },
  {
   "cell_type": "code",
   "execution_count": 11,
   "id": "fa0f3880",
   "metadata": {
    "execution": {
     "iopub.execute_input": "2023-06-11T01:37:24.419698Z",
     "iopub.status.busy": "2023-06-11T01:37:24.419698Z",
     "iopub.status.idle": "2023-06-11T01:37:24.451146Z",
     "shell.execute_reply": "2023-06-11T01:37:24.451146Z"
    },
    "papermill": {
     "duration": 0.047081,
     "end_time": "2023-06-11T01:37:24.451146",
     "exception": false,
     "start_time": "2023-06-11T01:37:24.404065",
     "status": "completed"
    },
    "tags": []
   },
   "outputs": [
    {
     "data": {
      "text/html": [
       "<div>\n",
       "<style scoped>\n",
       "    .dataframe tbody tr th:only-of-type {\n",
       "        vertical-align: middle;\n",
       "    }\n",
       "\n",
       "    .dataframe tbody tr th {\n",
       "        vertical-align: top;\n",
       "    }\n",
       "\n",
       "    .dataframe thead th {\n",
       "        text-align: right;\n",
       "    }\n",
       "</style>\n",
       "<table border=\"1\" class=\"dataframe\">\n",
       "  <thead>\n",
       "    <tr style=\"text-align: right;\">\n",
       "      <th></th>\n",
       "      <th>ID</th>\n",
       "      <th>filename</th>\n",
       "      <th>Inteligibilidad</th>\n",
       "      <th>Pronunciacion</th>\n",
       "      <th>Acentuacion</th>\n",
       "      <th>Naturalidad</th>\n",
       "      <th>Cadencia</th>\n",
       "      <th>zcr</th>\n",
       "      <th>rms</th>\n",
       "      <th>mfcc</th>\n",
       "      <th>f0</th>\n",
       "      <th>genero</th>\n",
       "    </tr>\n",
       "  </thead>\n",
       "  <tbody>\n",
       "    <tr>\n",
       "      <th>0</th>\n",
       "      <td>1</td>\n",
       "      <td>alonso-naturalreader.wav</td>\n",
       "      <td>4.897959</td>\n",
       "      <td>4.645833</td>\n",
       "      <td>4.469388</td>\n",
       "      <td>3.000000</td>\n",
       "      <td>3.836735</td>\n",
       "      <td>0.098051</td>\n",
       "      <td>-22.0</td>\n",
       "      <td>[-3.4943588e+02  1.2940279e+02 -1.8956478e+01 ...</td>\n",
       "      <td>68.726911</td>\n",
       "      <td>masculino</td>\n",
       "    </tr>\n",
       "    <tr>\n",
       "      <th>1</th>\n",
       "      <td>2</td>\n",
       "      <td>hyacinthe-lovo-v3.wav</td>\n",
       "      <td>4.979592</td>\n",
       "      <td>4.680851</td>\n",
       "      <td>4.551020</td>\n",
       "      <td>4.183673</td>\n",
       "      <td>4.224490</td>\n",
       "      <td>0.075944</td>\n",
       "      <td>-27.5</td>\n",
       "      <td>[-4.0729132e+02  1.3076346e+02 -3.0420111e+01 ...</td>\n",
       "      <td>111.111716</td>\n",
       "      <td>femenino</td>\n",
       "    </tr>\n",
       "    <tr>\n",
       "      <th>2</th>\n",
       "      <td>3</td>\n",
       "      <td>neural2C-pitchmodified-speedmodified.wav</td>\n",
       "      <td>4.346939</td>\n",
       "      <td>3.926829</td>\n",
       "      <td>2.816327</td>\n",
       "      <td>1.775510</td>\n",
       "      <td>1.653061</td>\n",
       "      <td>0.251626</td>\n",
       "      <td>-25.0</td>\n",
       "      <td>[-4.4141333e+02  8.9362648e+01 -1.2164741e+01 ...</td>\n",
       "      <td>98.468505</td>\n",
       "      <td>masculino</td>\n",
       "    </tr>\n",
       "    <tr>\n",
       "      <th>3</th>\n",
       "      <td>4</td>\n",
       "      <td>francisca-lovo-v2.wav</td>\n",
       "      <td>4.693878</td>\n",
       "      <td>4.304348</td>\n",
       "      <td>4.244898</td>\n",
       "      <td>2.979592</td>\n",
       "      <td>3.755102</td>\n",
       "      <td>0.137822</td>\n",
       "      <td>-26.1</td>\n",
       "      <td>[-454.8679      72.41395    -14.8625145   45.9...</td>\n",
       "      <td>116.353345</td>\n",
       "      <td>femenino</td>\n",
       "    </tr>\n",
       "    <tr>\n",
       "      <th>4</th>\n",
       "      <td>5</td>\n",
       "      <td>antoni-evenlabs-linguistico-v2.wav</td>\n",
       "      <td>4.571429</td>\n",
       "      <td>4.113636</td>\n",
       "      <td>3.183673</td>\n",
       "      <td>1.836735</td>\n",
       "      <td>1.591837</td>\n",
       "      <td>0.239188</td>\n",
       "      <td>-24.0</td>\n",
       "      <td>[-406.19888     84.30505    -12.89493     18.8...</td>\n",
       "      <td>78.968152</td>\n",
       "      <td>masculino</td>\n",
       "    </tr>\n",
       "  </tbody>\n",
       "</table>\n",
       "</div>"
      ],
      "text/plain": [
       "   ID                                  filename  Inteligibilidad   \n",
       "0   1                  alonso-naturalreader.wav         4.897959  \\\n",
       "1   2                     hyacinthe-lovo-v3.wav         4.979592   \n",
       "2   3  neural2C-pitchmodified-speedmodified.wav         4.346939   \n",
       "3   4                     francisca-lovo-v2.wav         4.693878   \n",
       "4   5        antoni-evenlabs-linguistico-v2.wav         4.571429   \n",
       "\n",
       "   Pronunciacion  Acentuacion  Naturalidad  Cadencia       zcr   rms   \n",
       "0       4.645833     4.469388     3.000000  3.836735  0.098051 -22.0  \\\n",
       "1       4.680851     4.551020     4.183673  4.224490  0.075944 -27.5   \n",
       "2       3.926829     2.816327     1.775510  1.653061  0.251626 -25.0   \n",
       "3       4.304348     4.244898     2.979592  3.755102  0.137822 -26.1   \n",
       "4       4.113636     3.183673     1.836735  1.591837  0.239188 -24.0   \n",
       "\n",
       "                                                mfcc          f0     genero  \n",
       "0  [-3.4943588e+02  1.2940279e+02 -1.8956478e+01 ...   68.726911  masculino  \n",
       "1  [-4.0729132e+02  1.3076346e+02 -3.0420111e+01 ...  111.111716   femenino  \n",
       "2  [-4.4141333e+02  8.9362648e+01 -1.2164741e+01 ...   98.468505  masculino  \n",
       "3  [-454.8679      72.41395    -14.8625145   45.9...  116.353345   femenino  \n",
       "4  [-406.19888     84.30505    -12.89493     18.8...   78.968152  masculino  "
      ]
     },
     "execution_count": 11,
     "metadata": {},
     "output_type": "execute_result"
    }
   ],
   "source": [
    "df_union.head()"
   ]
  },
  {
   "attachments": {},
   "cell_type": "markdown",
   "id": "c7108eb7",
   "metadata": {
    "papermill": {
     "duration": 0.034497,
     "end_time": "2023-06-11T01:37:24.501062",
     "exception": false,
     "start_time": "2023-06-11T01:37:24.466565",
     "status": "completed"
    },
    "tags": []
   },
   "source": [
    "## SelectorFeature"
   ]
  },
  {
   "cell_type": "code",
   "execution_count": 12,
   "id": "0574d6e5",
   "metadata": {
    "execution": {
     "iopub.execute_input": "2023-06-11T01:37:24.537131Z",
     "iopub.status.busy": "2023-06-11T01:37:24.537131Z",
     "iopub.status.idle": "2023-06-11T01:37:25.042508Z",
     "shell.execute_reply": "2023-06-11T01:37:25.042508Z"
    },
    "papermill": {
     "duration": 0.5174,
     "end_time": "2023-06-11T01:37:25.042508",
     "exception": false,
     "start_time": "2023-06-11T01:37:24.525108",
     "status": "completed"
    },
    "tags": []
   },
   "outputs": [],
   "source": [
    "from sklearn.pipeline import make_pipeline\n",
    "from sklearn.preprocessing import StandardScaler\n",
    "from sklearn.neighbors import KNeighborsRegressor\n",
    "from mlxtend.feature_selection import SequentialFeatureSelector\n",
    "from sklearn.utils import check_random_state\n",
    "from sklearn.model_selection import permutation_test_score\n",
    "from sklearn.svm import SVR"
   ]
  },
  {
   "attachments": {},
   "cell_type": "markdown",
   "id": "80a45a4d",
   "metadata": {
    "papermill": {
     "duration": 0.034952,
     "end_time": "2023-06-11T01:37:25.093052",
     "exception": false,
     "start_time": "2023-06-11T01:37:25.058100",
     "status": "completed"
    },
    "tags": []
   },
   "source": [
    "### Inteligibilidad"
   ]
  },
  {
   "cell_type": "code",
   "execution_count": 13,
   "id": "04fb2a9a",
   "metadata": {
    "execution": {
     "iopub.execute_input": "2023-06-11T01:37:25.137055Z",
     "iopub.status.busy": "2023-06-11T01:37:25.136049Z",
     "iopub.status.idle": "2023-06-11T01:37:25.153776Z",
     "shell.execute_reply": "2023-06-11T01:37:25.153776Z"
    },
    "papermill": {
     "duration": 0.03972,
     "end_time": "2023-06-11T01:37:25.153776",
     "exception": false,
     "start_time": "2023-06-11T01:37:25.114056",
     "status": "completed"
    },
    "tags": []
   },
   "outputs": [],
   "source": [
    "df_inteligibilidad = df_union.loc[:, ['Inteligibilidad', 'zcr', 'rms', 'f0', 'genero']]"
   ]
  },
  {
   "attachments": {},
   "cell_type": "markdown",
   "id": "f4e45e85",
   "metadata": {
    "papermill": {
     "duration": 0.037214,
     "end_time": "2023-06-11T01:37:25.206591",
     "exception": false,
     "start_time": "2023-06-11T01:37:25.169377",
     "status": "completed"
    },
    "tags": []
   },
   "source": [
    "#### Masculino"
   ]
  },
  {
   "cell_type": "code",
   "execution_count": 14,
   "id": "5c68b92e",
   "metadata": {
    "execution": {
     "iopub.execute_input": "2023-06-11T01:37:25.237694Z",
     "iopub.status.busy": "2023-06-11T01:37:25.237694Z",
     "iopub.status.idle": "2023-06-11T01:37:25.269151Z",
     "shell.execute_reply": "2023-06-11T01:37:25.269151Z"
    },
    "papermill": {
     "duration": 0.041564,
     "end_time": "2023-06-11T01:37:25.269151",
     "exception": false,
     "start_time": "2023-06-11T01:37:25.227587",
     "status": "completed"
    },
    "tags": []
   },
   "outputs": [],
   "source": [
    "mask_gender = df_inteligibilidad.genero == 'masculino'\n",
    "\n",
    "df_inteligibilidad_male = df_inteligibilidad[mask_gender].drop(columns=['genero'])"
   ]
  },
  {
   "cell_type": "code",
   "execution_count": 15,
   "id": "c2d8db90",
   "metadata": {
    "execution": {
     "iopub.execute_input": "2023-06-11T01:37:25.325078Z",
     "iopub.status.busy": "2023-06-11T01:37:25.324076Z",
     "iopub.status.idle": "2023-06-11T01:37:25.419832Z",
     "shell.execute_reply": "2023-06-11T01:37:25.419832Z"
    },
    "papermill": {
     "duration": 0.135222,
     "end_time": "2023-06-11T01:37:25.419832",
     "exception": false,
     "start_time": "2023-06-11T01:37:25.284610",
     "status": "completed"
    },
    "tags": []
   },
   "outputs": [
    {
     "name": "stdout",
     "output_type": "stream",
     "text": [
      "Características seleccionadas: (0,)\n"
     ]
    }
   ],
   "source": [
    "# Cargamos los datos\n",
    "X = np.array(df_inteligibilidad_male.drop(columns=['Inteligibilidad'])) # df_objetivos es el DataFrame con los parámetros objetivos\n",
    "y = np.array(df_inteligibilidad_male.Inteligibilidad) # df_subjetivos es el DataFrame con los parámetros subjetivos\n",
    "\n",
    "# Creamos el modelo de regresión kNN\n",
    "regr_multivar = SVR(kernel='linear')\n",
    "\n",
    "# Creamos el selector de características hacia adelante\n",
    "forward_selector = SequentialFeatureSelector(regr_multivar, k_features='best', forward=True, scoring='neg_mean_squared_error')\n",
    "\n",
    "# Entrenamos el selector de características\n",
    "forward_selector.fit(X, y)\n",
    "\n",
    "# Obtenemos las características seleccionadas\n",
    "selected_features = forward_selector.k_feature_idx_\n",
    "\n",
    "# Imprimimos las características seleccionadas\n",
    "print('Características seleccionadas:', selected_features)\n"
   ]
  },
  {
   "cell_type": "code",
   "execution_count": 16,
   "id": "1444c7d0",
   "metadata": {
    "execution": {
     "iopub.execute_input": "2023-06-11T01:37:25.451028Z",
     "iopub.status.busy": "2023-06-11T01:37:25.451028Z",
     "iopub.status.idle": "2023-06-11T01:37:48.029895Z",
     "shell.execute_reply": "2023-06-11T01:37:48.028893Z"
    },
    "papermill": {
     "duration": 22.597476,
     "end_time": "2023-06-11T01:37:48.032896",
     "exception": false,
     "start_time": "2023-06-11T01:37:25.435420",
     "status": "completed"
    },
    "tags": []
   },
   "outputs": [
    {
     "name": "stdout",
     "output_type": "stream",
     "text": [
      "ZCR p-valor: 0.006993006993006993\n",
      "RMS p-valor: 0.25874125874125875\n",
      "f0 p-valor: 0.09290709290709291\n"
     ]
    }
   ],
   "source": [
    "# Establecemos la semilla aleatoria para reproducibilidad\n",
    "random_state = check_random_state(0)\n",
    "\n",
    "p_values = []\n",
    "\n",
    "for i in range(X.shape[1]):\n",
    "    \n",
    "    # Seleccionamos solo una columna en X\n",
    "    X_single = X[:, i].reshape(-1, 1)\n",
    "    \n",
    "    # Aplicamos la prueba de permutación\n",
    "    score, permutation_scores, pvalue = permutation_test_score(regr_multivar, X_single, y, scoring='neg_mean_squared_error', cv=5, n_permutations=1000, random_state=random_state)\n",
    "    \n",
    "    p_values.append(pvalue)\n",
    "\n",
    "    # Imprimimos el p-valor\n",
    "    if i == 0:\n",
    "        var = 'ZCR'\n",
    "    elif i == 1:\n",
    "        var = 'RMS'\n",
    "    else:\n",
    "        var = 'f0'\n",
    "      \n",
    "    dicc_p_value[var].append(pvalue)\n",
    "    print(f'{var} p-valor:', pvalue)\n",
    "\n",
    "dicc_p_value['subjetive_parameter'].append('Inteligibilidad')\n",
    "dicc_p_value['genero'].append('masculino')\n"
   ]
  },
  {
   "cell_type": "code",
   "execution_count": 17,
   "id": "e27ea5ec",
   "metadata": {
    "execution": {
     "iopub.execute_input": "2023-06-11T01:37:48.093097Z",
     "iopub.status.busy": "2023-06-11T01:37:48.091097Z",
     "iopub.status.idle": "2023-06-11T01:37:48.117095Z",
     "shell.execute_reply": "2023-06-11T01:37:48.116103Z"
    },
    "papermill": {
     "duration": 0.065578,
     "end_time": "2023-06-11T01:37:48.120095",
     "exception": false,
     "start_time": "2023-06-11T01:37:48.054517",
     "status": "completed"
    },
    "tags": []
   },
   "outputs": [],
   "source": [
    "# Dicc auxiliar con los nombres asociadas a las variables\n",
    "dicc_names_features = {\n",
    "    'zcr_model': 0,\n",
    "    'rms_model': 1,\n",
    "    'f0_model': 2\n",
    "}\n",
    "\n",
    "# Dicc de los modelos\n",
    "dicc_model = {}\n",
    "\n",
    "# Dicc de las predicciones\n",
    "dicc_pred = {}\n",
    "\n",
    "for selected_feature in selected_features:\n",
    "    # Entrenamos el modelo de regresión con las características seleccionadas\n",
    "    regr_multivar = SVR(kernel='linear')\n",
    "    regr_multivar.fit(X[:, selected_feature].reshape(-1, 1), y.ravel())\n",
    "\n",
    "    # Almacenamos en dicc_model la clave asociada al modelo que se entrenó y el objeto modelo\n",
    "    for key, value in dicc_names_features.items():\n",
    "        if value == selected_feature:\n",
    "            dicc_model[key] = regr_multivar\n",
    "\n",
    "    # Obtenemos las predicciones del modelo para las características seleccionadas\n",
    "    y_pred = regr_multivar.predict(X[:, selected_feature].reshape(-1, 1))\n",
    "\n",
    "    # Almacenamos en dicc_pred la clave asociada al modelo que se entrenó y la predicción\n",
    "    for key, value in dicc_names_features.items():\n",
    "        if value == selected_feature:\n",
    "            dicc_pred[key] = y_pred\n"
   ]
  },
  {
   "cell_type": "code",
   "execution_count": 18,
   "id": "3eec5163",
   "metadata": {
    "execution": {
     "iopub.execute_input": "2023-06-11T01:37:48.154855Z",
     "iopub.status.busy": "2023-06-11T01:37:48.154855Z",
     "iopub.status.idle": "2023-06-11T01:37:48.170542Z",
     "shell.execute_reply": "2023-06-11T01:37:48.170542Z"
    },
    "papermill": {
     "duration": 0.03135,
     "end_time": "2023-06-11T01:37:48.170542",
     "exception": false,
     "start_time": "2023-06-11T01:37:48.139192",
     "status": "completed"
    },
    "tags": []
   },
   "outputs": [
    {
     "name": "stdout",
     "output_type": "stream",
     "text": [
      "y = -0.33 * ZCR + 4.73 - p-valor = 0.007\n"
     ]
    }
   ],
   "source": [
    "list_equ = []\n",
    "\n",
    "for key, model in dicc_model.items():\n",
    "    # Obtenemos los valores de w y b\n",
    "    w = model.coef_[0][0]\n",
    "    b = model.intercept_[0]\n",
    "    \n",
    "    label = key.replace(\"_model\", \"\")\n",
    "    if label == 'f0':\n",
    "        label = r'$f_{0}$'\n",
    "    else:\n",
    "        label = label.upper()\n",
    "\n",
    "    # Construimos la cadena de texto para la ecuación del hiperplano y su p-valor\n",
    "    equation = f'y = {w:.2f} * {label} + {b:.2f} - p-valor = {p_values[dicc_names_features[key]]:.3f}'\n",
    "\n",
    "    # Agregamos la cadena a la lista\n",
    "    list_equ.append(equation)\n",
    "\n",
    "# Mostramos el resultado\n",
    "for equ in list_equ:\n",
    "    print(equ)\n"
   ]
  },
  {
   "cell_type": "code",
   "execution_count": 19,
   "id": "8ab1366d",
   "metadata": {
    "execution": {
     "iopub.execute_input": "2023-06-11T01:37:48.246801Z",
     "iopub.status.busy": "2023-06-11T01:37:48.245814Z",
     "iopub.status.idle": "2023-06-11T01:37:49.010753Z",
     "shell.execute_reply": "2023-06-11T01:37:49.007778Z"
    },
    "papermill": {
     "duration": 0.813087,
     "end_time": "2023-06-11T01:37:49.014787",
     "exception": false,
     "start_time": "2023-06-11T01:37:48.201700",
     "status": "completed"
    },
    "tags": []
   },
   "outputs": [
    {
     "data": {
      "image/png": "[encoded data removed]",
      "text/plain": [
       "<Figure size 600x400 with 1 Axes>"
      ]
     },
     "metadata": {},
     "output_type": "display_data"
    }
   ],
   "source": [
    "dims = (6 * len(dicc_model), 4)\n",
    "fig, ax = plt.subplots(figsize=dims, ncols=len(dicc_model))\n",
    "\n",
    "with sns.axes_style('darkgrid'):\n",
    "    for i, (key, model) in enumerate(dicc_model.items()):\n",
    "        if isinstance(ax, np.ndarray):\n",
    "            ax_i = ax[i]\n",
    "        else:\n",
    "            ax_i = ax\n",
    "        label = key.replace(\"_model\", \"\")\n",
    "        if label == 'f0':\n",
    "            label = r'$f_{0}$'\n",
    "        else:\n",
    "            label = label.upper()\n",
    "        g = sns.scatterplot(x=X[:, dicc_names_features[key]], y=y, ax=ax_i, color='blue')\n",
    "        g = sns.lineplot(x=X[:, dicc_names_features[key]], y=dicc_pred[key], ax=ax_i, color='red')\n",
    "        g.text(0.5, -0.1, label, weight='bold', size='large', family='Arial', stretch='extra-expanded', ha='center', va='top', transform=g.transAxes)\n",
    "        g.set_ylabel('Inteligibilidad', weight='bold', size='large', alpha=0.8, family='Arial', stretch='extra-expanded')\n",
    "        g.set_title(list_equ[i], weight='bold', size='x-large', alpha=0.8, family='Arial', stretch='extra-expanded')\n",
    "        g.grid(alpha=0.7)\n",
    "        ax_i.set_ylim(0, 6)\n",
    "\n",
    "    plt.tight_layout()\n",
    "    plt.savefig(os.path.join(PATH, TEST_FOLDER, REGGRESSION_FOLDER, NO_PARAMETRIC_FOLDER, INTELIGIBILIDAD_FOLDER, MALE_FOLDER, 'regresiones_inteligibilidad_male.png'))\n",
    "    plt.show()\n"
   ]
  },
  {
   "cell_type": "code",
   "execution_count": 20,
   "id": "ede9f8e4",
   "metadata": {
    "execution": {
     "iopub.execute_input": "2023-06-11T01:37:49.073752Z",
     "iopub.status.busy": "2023-06-11T01:37:49.072754Z",
     "iopub.status.idle": "2023-06-11T01:37:49.105752Z",
     "shell.execute_reply": "2023-06-11T01:37:49.103839Z"
    },
    "papermill": {
     "duration": 0.063,
     "end_time": "2023-06-11T01:37:49.109753",
     "exception": false,
     "start_time": "2023-06-11T01:37:49.046753",
     "status": "completed"
    },
    "tags": []
   },
   "outputs": [],
   "source": [
    "if len(dicc_model) == 2:\n",
    "    import plotly.express as px\n",
    "    import plotly.graph_objects as go\n",
    "\n",
    "    # Seleccionamos solo las características seleccionadas en X\n",
    "    X_selected = X[:, selected_features]\n",
    "\n",
    "    # Entrenamos el modelo de regresión con las características seleccionadas\n",
    "    regr_multivar = SVR(kernel='linear')\n",
    "    regr_multivar.fit(X_selected, y)\n",
    "\n",
    "    # Obtenemos las predicciones del modelo para las características seleccionadas\n",
    "    y_pred = regr_multivar.predict(X_selected)\n",
    "\n",
    "    # Crear la figura\n",
    "    fig = px.scatter_3d(x=X_selected[:, 0], y=X_selected[:, 1], z=y)\n",
    "\n",
    "    # Crear el plano de regresión\n",
    "    xx, yy = np.meshgrid(X_selected[:, 0], X_selected[:, 1])\n",
    "    zz = regr_multivar.intercept_ + np.dot(np.array([xx.ravel(), yy.ravel()]).T, regr_multivar.coef_.ravel()).reshape(xx.shape)\n",
    "    fig.add_trace(go.Surface(x=xx, y=yy, z=zz, opacity=0.5))\n",
    "\n",
    "    # Construir la cadena de texto para la ecuación del plano\n",
    "    equation = f'z = {regr_multivar.intercept_[0].round(2)}'\n",
    "    for i, (key, model) in enumerate(dicc_model.items()):\n",
    "        equation += f' + {regr_multivar.coef_[0][i].round(2)} * {key.replace(\"_model\", \"\")}'\n",
    "    \n",
    "    # Centrar el título\n",
    "    fig.update_layout(title=dict(text=equation, x=0.5, xanchor='center'))\n",
    "\n",
    "    # Etiquetas de los ejes y rango del eje z\n",
    "    fig.update_layout(scene=dict(xaxis_title=list(dicc_model.keys())[0].replace(\"_model\", \"\"), yaxis_title=list(dicc_model.keys())[1].replace(\"_model\", \"\"), zaxis_title='Inteligibilidad', zaxis=dict(range=[0, 6])))\n",
    "\n",
    "    fig.write_html(os.path.join(PATH, TEST_FOLDER, REGGRESSION_FOLDER, NO_PARAMETRIC_FOLDER, INTELIGIBILIDAD_FOLDER, MALE_FOLDER, 'regresion_inteligibilidad_multivariable_male.html'))\n",
    "\n",
    "    fig.show()\n"
   ]
  },
  {
   "attachments": {},
   "cell_type": "markdown",
   "id": "1246354a",
   "metadata": {
    "papermill": {
     "duration": 0.030997,
     "end_time": "2023-06-11T01:37:49.164752",
     "exception": false,
     "start_time": "2023-06-11T01:37:49.133755",
     "status": "completed"
    },
    "tags": []
   },
   "source": [
    "#### Femenino"
   ]
  },
  {
   "cell_type": "code",
   "execution_count": 21,
   "id": "7e71f571",
   "metadata": {
    "execution": {
     "iopub.execute_input": "2023-06-11T01:37:49.216749Z",
     "iopub.status.busy": "2023-06-11T01:37:49.215751Z",
     "iopub.status.idle": "2023-06-11T01:37:49.231752Z",
     "shell.execute_reply": "2023-06-11T01:37:49.229841Z"
    },
    "papermill": {
     "duration": 0.043029,
     "end_time": "2023-06-11T01:37:49.233787",
     "exception": false,
     "start_time": "2023-06-11T01:37:49.190758",
     "status": "completed"
    },
    "tags": []
   },
   "outputs": [],
   "source": [
    "mask_gender = df_inteligibilidad.genero == 'femenino'\n",
    "\n",
    "df_inteligibilidad_female = df_inteligibilidad[mask_gender].drop(columns=['genero'])"
   ]
  },
  {
   "cell_type": "code",
   "execution_count": 22,
   "id": "274b8c1e",
   "metadata": {
    "execution": {
     "iopub.execute_input": "2023-06-11T01:37:49.292752Z",
     "iopub.status.busy": "2023-06-11T01:37:49.291752Z",
     "iopub.status.idle": "2023-06-11T01:37:49.375756Z",
     "shell.execute_reply": "2023-06-11T01:37:49.373753Z"
    },
    "papermill": {
     "duration": 0.117035,
     "end_time": "2023-06-11T01:37:49.378787",
     "exception": false,
     "start_time": "2023-06-11T01:37:49.261752",
     "status": "completed"
    },
    "tags": []
   },
   "outputs": [
    {
     "name": "stdout",
     "output_type": "stream",
     "text": [
      "Características seleccionadas: (0, 1, 2)\n"
     ]
    }
   ],
   "source": [
    "# Cargamos los datos\n",
    "X = np.array(df_inteligibilidad_female.drop(columns=['Inteligibilidad'])) # df_objetivos es el DataFrame con los parámetros objetivos\n",
    "y = np.array(df_inteligibilidad_female.Inteligibilidad) # df_subjetivos es el DataFrame con los parámetros subjetivos\n",
    "\n",
    "# Creamos el modelo de regresión kNN\n",
    "regr_multivar = SVR(kernel='linear')\n",
    "\n",
    "# Creamos el selector de características hacia adelante\n",
    "forward_selector = SequentialFeatureSelector(regr_multivar, k_features='best', forward=True, scoring='neg_mean_squared_error')\n",
    "\n",
    "# Entrenamos el selector de características\n",
    "forward_selector.fit(X, y)\n",
    "\n",
    "# Obtenemos las características seleccionadas\n",
    "selected_features = forward_selector.k_feature_idx_\n",
    "\n",
    "# Imprimimos las características seleccionadas\n",
    "print('Características seleccionadas:', selected_features)\n"
   ]
  },
  {
   "cell_type": "code",
   "execution_count": 23,
   "id": "f4a0cf4b",
   "metadata": {
    "execution": {
     "iopub.execute_input": "2023-06-11T01:37:49.431751Z",
     "iopub.status.busy": "2023-06-11T01:37:49.430752Z",
     "iopub.status.idle": "2023-06-11T01:38:13.787044Z",
     "shell.execute_reply": "2023-06-11T01:38:13.786046Z"
    },
    "papermill": {
     "duration": 24.389286,
     "end_time": "2023-06-11T01:38:13.792045",
     "exception": false,
     "start_time": "2023-06-11T01:37:49.402759",
     "status": "completed"
    },
    "tags": []
   },
   "outputs": [
    {
     "name": "stdout",
     "output_type": "stream",
     "text": [
      "ZCR p-valor: 0.14885114885114886\n",
      "RMS p-valor: 0.1048951048951049\n",
      "f0 p-valor: 0.4905094905094905\n"
     ]
    }
   ],
   "source": [
    "# Establecemos la semilla aleatoria para reproducibilidad\n",
    "random_state = check_random_state(0)\n",
    "\n",
    "p_values = []\n",
    "\n",
    "for i in range(X.shape[1]):\n",
    "    \n",
    "    # Seleccionamos solo una columna en X\n",
    "    X_single = X[:, i].reshape(-1, 1)\n",
    "    \n",
    "    # Aplicamos la prueba de permutación\n",
    "    score, permutation_scores, pvalue = permutation_test_score(regr_multivar, X_single, y, scoring='neg_mean_squared_error', cv=5, n_permutations=1000, random_state=random_state)\n",
    "    \n",
    "    p_values.append(pvalue)\n",
    "\n",
    "    # Imprimimos el p-valor\n",
    "    if i == 0:\n",
    "        var = 'ZCR'\n",
    "    elif i == 1:\n",
    "        var = 'RMS'\n",
    "    else:\n",
    "        var = 'f0'\n",
    "    dicc_p_value[var].append(pvalue)\n",
    "    print(f'{var} p-valor:', pvalue)\n",
    "\n",
    "dicc_p_value['subjetive_parameter'].append('Inteligibilidad')\n",
    "dicc_p_value['genero'].append('femenino')\n"
   ]
  },
  {
   "cell_type": "code",
   "execution_count": 24,
   "id": "e26e8b03",
   "metadata": {
    "execution": {
     "iopub.execute_input": "2023-06-11T01:38:13.867044Z",
     "iopub.status.busy": "2023-06-11T01:38:13.865044Z",
     "iopub.status.idle": "2023-06-11T01:38:13.881054Z",
     "shell.execute_reply": "2023-06-11T01:38:13.880047Z"
    },
    "papermill": {
     "duration": 0.056998,
     "end_time": "2023-06-11T01:38:13.884045",
     "exception": false,
     "start_time": "2023-06-11T01:38:13.827047",
     "status": "completed"
    },
    "tags": []
   },
   "outputs": [],
   "source": [
    "# Dicc auxiliar con los nombres asociadas a las variables\n",
    "dicc_names_features = {\n",
    "    'zcr_model': 0,\n",
    "    'rms_model': 1,\n",
    "    'f0_model': 2\n",
    "}\n",
    "\n",
    "# Dicc de los modelos\n",
    "dicc_model = {}\n",
    "\n",
    "# Dicc de las predicciones\n",
    "dicc_pred = {}\n",
    "\n",
    "for selected_feature in selected_features:\n",
    "    # Entrenamos el modelo de regresión con las características seleccionadas\n",
    "    regr_multivar = SVR(kernel='linear')\n",
    "    regr_multivar.fit(X[:, selected_feature].reshape(-1, 1), y.ravel())\n",
    "\n",
    "    # Almacenamos en dicc_model la clave asociada al modelo que se entrenó y el objeto modelo\n",
    "    for key, value in dicc_names_features.items():\n",
    "        if value == selected_feature:\n",
    "            dicc_model[key] = regr_multivar\n",
    "\n",
    "    # Obtenemos las predicciones del modelo para las características seleccionadas\n",
    "    y_pred = regr_multivar.predict(X[:, selected_feature].reshape(-1, 1))\n",
    "\n",
    "    # Almacenamos en dicc_pred la clave asociada al modelo que se entrenó y la predicción\n",
    "    for key, value in dicc_names_features.items():\n",
    "        if value == selected_feature:\n",
    "            dicc_pred[key] = y_pred\n"
   ]
  },
  {
   "cell_type": "code",
   "execution_count": 25,
   "id": "8ecfd613",
   "metadata": {
    "execution": {
     "iopub.execute_input": "2023-06-11T01:38:13.951043Z",
     "iopub.status.busy": "2023-06-11T01:38:13.950046Z",
     "iopub.status.idle": "2023-06-11T01:38:13.978045Z",
     "shell.execute_reply": "2023-06-11T01:38:13.976052Z"
    },
    "papermill": {
     "duration": 0.064001,
     "end_time": "2023-06-11T01:38:13.981045",
     "exception": false,
     "start_time": "2023-06-11T01:38:13.917044",
     "status": "completed"
    },
    "tags": []
   },
   "outputs": [
    {
     "name": "stdout",
     "output_type": "stream",
     "text": [
      "y = -0.27 * ZCR + 4.80 - p-valor = 0.149\n",
      "y = 0.08 * RMS + 7.02 - p-valor = 0.105\n",
      "y = -0.01 * $f_{0}$ + 5.42 - p-valor = 0.491\n"
     ]
    }
   ],
   "source": [
    "list_equ = []\n",
    "\n",
    "for key, model in dicc_model.items():\n",
    "    # Obtenemos los valores de w y b\n",
    "    w = model.coef_[0][0]\n",
    "    b = model.intercept_[0]\n",
    "    \n",
    "    label = key.replace(\"_model\", \"\")\n",
    "    if label == 'f0':\n",
    "        label = r'$f_{0}$'\n",
    "    else:\n",
    "        label = label.upper()\n",
    "\n",
    "    # Construimos la cadena de texto para la ecuación del hiperplano y su p-valor\n",
    "    equation = f'y = {w:.2f} * {label} + {b:.2f} - p-valor = {p_values[dicc_names_features[key]]:.3f}'\n",
    "\n",
    "    # Agregamos la cadena a la lista\n",
    "    list_equ.append(equation)\n",
    "\n",
    "# Mostramos el resultado\n",
    "for equ in list_equ:\n",
    "    print(equ)\n"
   ]
  },
  {
   "cell_type": "code",
   "execution_count": 26,
   "id": "7a54f90b",
   "metadata": {
    "execution": {
     "iopub.execute_input": "2023-06-11T01:38:14.083046Z",
     "iopub.status.busy": "2023-06-11T01:38:14.082046Z",
     "iopub.status.idle": "2023-06-11T01:38:15.061795Z",
     "shell.execute_reply": "2023-06-11T01:38:15.060884Z"
    },
    "papermill": {
     "duration": 1.036753,
     "end_time": "2023-06-11T01:38:15.064799",
     "exception": false,
     "start_time": "2023-06-11T01:38:14.028046",
     "status": "completed"
    },
    "tags": []
   },
   "outputs": [
    {
     "data": {
      "image/png": "[encoded data removed]",
      "text/plain": [
       "<Figure size 1800x400 with 3 Axes>"
      ]
     },
     "metadata": {},
     "output_type": "display_data"
    }
   ],
   "source": [
    "dims = (6 * len(dicc_model), 4)\n",
    "fig, ax = plt.subplots(figsize=dims, ncols=len(dicc_model))\n",
    "\n",
    "with sns.axes_style('darkgrid'):\n",
    "    for i, (key, model) in enumerate(dicc_model.items()):\n",
    "        if isinstance(ax, np.ndarray):\n",
    "            ax_i = ax[i]\n",
    "        else:\n",
    "            ax_i = ax\n",
    "        label = key.replace(\"_model\", \"\")\n",
    "        if label == 'f0':\n",
    "            label = r'$f_{0}$'\n",
    "        else:\n",
    "            label = label.upper()\n",
    "        g = sns.scatterplot(x=X[:, dicc_names_features[key]], y=y, ax=ax_i, color='blue')\n",
    "        g = sns.lineplot(x=X[:, dicc_names_features[key]], y=dicc_pred[key], ax=ax_i, color='red')\n",
    "        g.text(0.5, -0.1, label, weight='bold', size='large', family='Arial', stretch='extra-expanded', ha='center', va='top', transform=g.transAxes)\n",
    "        g.set_ylabel('Inteligibilidad', weight='bold', size='large', alpha=0.8, family='Arial', stretch='extra-expanded')\n",
    "        g.set_title(list_equ[i], weight='bold', size='x-large', alpha=0.8, family='Arial', stretch='extra-expanded')\n",
    "        g.grid(alpha=0.7)\n",
    "        ax_i.set_ylim(0, 6)\n",
    "\n",
    "    plt.tight_layout()\n",
    "    plt.savefig(\n",
    "        os.path.join(PATH, TEST_FOLDER, REGGRESSION_FOLDER, NO_PARAMETRIC_FOLDER, INTELIGIBILIDAD_FOLDER, FEMALE_FOLDER, 'regresiones_inteligibilidad_female.png')\n",
    "    )\n",
    "    plt.show()\n"
   ]
  },
  {
   "cell_type": "code",
   "execution_count": 27,
   "id": "f75d0821",
   "metadata": {
    "execution": {
     "iopub.execute_input": "2023-06-11T01:38:15.120916Z",
     "iopub.status.busy": "2023-06-11T01:38:15.105269Z",
     "iopub.status.idle": "2023-06-11T01:38:17.115299Z",
     "shell.execute_reply": "2023-06-11T01:38:17.115299Z"
    },
    "papermill": {
     "duration": 2.085004,
     "end_time": "2023-06-11T01:38:17.177800",
     "exception": false,
     "start_time": "2023-06-11T01:38:15.092796",
     "status": "completed"
    },
    "tags": []
   },
   "outputs": [],
   "source": [
    "if len(dicc_model) == 2:\n",
    "    import plotly.express as px\n",
    "    import plotly.graph_objects as go\n",
    "\n",
    "    # Seleccionamos solo las características seleccionadas en X\n",
    "    X_selected = X[:, selected_features]\n",
    "\n",
    "    # Entrenamos el modelo de regresión con las características seleccionadas\n",
    "    regr_multivar = SVR(kernel='linear')\n",
    "    regr_multivar.fit(X_selected, y)\n",
    "\n",
    "    # Obtenemos las predicciones del modelo para las características seleccionadas\n",
    "    y_pred = regr_multivar.predict(X_selected)\n",
    "\n",
    "    # Crear la figura\n",
    "    fig = px.scatter_3d(x=X_selected[:, 0], y=X_selected[:, 1], z=y)\n",
    "\n",
    "    # Crear el plano de regresión\n",
    "    xx, yy = np.meshgrid(X_selected[:, 0], X_selected[:, 1])\n",
    "    zz = regr_multivar.intercept_ + np.dot(np.array([xx.ravel(), yy.ravel()]).T, regr_multivar.coef_.ravel()).reshape(xx.shape)\n",
    "    fig.add_trace(go.Surface(x=xx, y=yy, z=zz, opacity=0.5))\n",
    "\n",
    "    # Construir la cadena de texto para la ecuación del plano\n",
    "    equation = f'z = {regr_multivar.intercept_[0].round(2)}'\n",
    "    for i, (key, model) in enumerate(dicc_model.items()):\n",
    "        equation += f' + {regr_multivar.coef_[0][i].round(2)} * {key.replace(\"_model\", \"\")}'\n",
    "    \n",
    "    # Centrar el título\n",
    "    fig.update_layout(title=dict(text=equation, x=0.5, xanchor='center'))\n",
    "\n",
    "    # Etiquetas de los ejes y rango del eje z\n",
    "    fig.update_layout(scene=dict(xaxis_title=list(dicc_model.keys())[0].replace(\"_model\", \"\"), yaxis_title=list(dicc_model.keys())[1].replace(\"_model\", \"\"), zaxis_title='Inteligibilidad', zaxis=dict(range=[0, 6]), yaxis=dict(tickvals=[-28, -26, -24, -22])))\n",
    "\n",
    "    fig.write_html(\n",
    "       os.path.join(PATH, TEST_FOLDER, REGGRESSION_FOLDER, NO_PARAMETRIC_FOLDER, INTELIGIBILIDAD_FOLDER, FEMALE_FOLDER, 'regresion_inteligibilidad_multivariable_female.html')\n",
    "    )\n",
    "\n",
    "    fig.show()\n"
   ]
  },
  {
   "attachments": {},
   "cell_type": "markdown",
   "id": "01a284f3",
   "metadata": {
    "papermill": {
     "duration": 0.115527,
     "end_time": "2023-06-11T01:38:17.368774",
     "exception": false,
     "start_time": "2023-06-11T01:38:17.253247",
     "status": "completed"
    },
    "tags": []
   },
   "source": [
    "### Pronunciacion"
   ]
  },
  {
   "cell_type": "code",
   "execution_count": 28,
   "id": "c79bee73",
   "metadata": {
    "execution": {
     "iopub.execute_input": "2023-06-11T01:38:17.685210Z",
     "iopub.status.busy": "2023-06-11T01:38:17.685210Z",
     "iopub.status.idle": "2023-06-11T01:38:17.708210Z",
     "shell.execute_reply": "2023-06-11T01:38:17.705211Z"
    },
    "papermill": {
     "duration": 0.192,
     "end_time": "2023-06-11T01:38:17.711212",
     "exception": false,
     "start_time": "2023-06-11T01:38:17.519212",
     "status": "completed"
    },
    "tags": []
   },
   "outputs": [],
   "source": [
    "df_pronunciacion = df_union.loc[:, ['Pronunciacion', 'zcr', 'rms', 'f0', 'genero']]"
   ]
  },
  {
   "attachments": {},
   "cell_type": "markdown",
   "id": "d69a3e13",
   "metadata": {
    "papermill": {
     "duration": 0.147861,
     "end_time": "2023-06-11T01:38:18.082069",
     "exception": false,
     "start_time": "2023-06-11T01:38:17.934208",
     "status": "completed"
    },
    "tags": []
   },
   "source": [
    "#### Masculino"
   ]
  },
  {
   "cell_type": "code",
   "execution_count": 29,
   "id": "d4b57b29",
   "metadata": {
    "execution": {
     "iopub.execute_input": "2023-06-11T01:38:18.361510Z",
     "iopub.status.busy": "2023-06-11T01:38:18.361510Z",
     "iopub.status.idle": "2023-06-11T01:38:18.380512Z",
     "shell.execute_reply": "2023-06-11T01:38:18.378516Z"
    },
    "papermill": {
     "duration": 0.148725,
     "end_time": "2023-06-11T01:38:18.384511",
     "exception": false,
     "start_time": "2023-06-11T01:38:18.235786",
     "status": "completed"
    },
    "tags": []
   },
   "outputs": [],
   "source": [
    "mask_gender = df_pronunciacion.genero == 'masculino'\n",
    "\n",
    "df_pronunciacion_male = df_pronunciacion[mask_gender].drop(columns=['genero'])"
   ]
  },
  {
   "cell_type": "code",
   "execution_count": 30,
   "id": "fd73c492",
   "metadata": {
    "execution": {
     "iopub.execute_input": "2023-06-11T01:38:18.587547Z",
     "iopub.status.busy": "2023-06-11T01:38:18.587547Z",
     "iopub.status.idle": "2023-06-11T01:38:18.653881Z",
     "shell.execute_reply": "2023-06-11T01:38:18.652270Z"
    },
    "papermill": {
     "duration": 0.171383,
     "end_time": "2023-06-11T01:38:18.656890",
     "exception": false,
     "start_time": "2023-06-11T01:38:18.485507",
     "status": "completed"
    },
    "tags": []
   },
   "outputs": [
    {
     "name": "stdout",
     "output_type": "stream",
     "text": [
      "Características seleccionadas: (0,)\n"
     ]
    }
   ],
   "source": [
    "# Cargamos los datos\n",
    "X = np.array(df_pronunciacion_male.drop(columns=['Pronunciacion'])) # df_objetivos es el DataFrame con los parámetros objetivos\n",
    "y = np.array(df_pronunciacion_male.Pronunciacion) # df_subjetivos es el DataFrame con los parámetros subjetivos\n",
    "\n",
    "# Creamos el modelo de regresión kNN\n",
    "regr_multivar = SVR(kernel='linear')\n",
    "\n",
    "# Creamos el selector de características hacia adelante\n",
    "forward_selector = SequentialFeatureSelector(regr_multivar, k_features='best', forward=True, scoring='neg_mean_squared_error')\n",
    "\n",
    "# Entrenamos el selector de características\n",
    "forward_selector.fit(X, y)\n",
    "\n",
    "# Obtenemos las características seleccionadas\n",
    "selected_features = forward_selector.k_feature_idx_\n",
    "\n",
    "# Imprimimos las características seleccionadas\n",
    "print('Características seleccionadas:', selected_features)\n"
   ]
  },
  {
   "cell_type": "code",
   "execution_count": 31,
   "id": "af725c73",
   "metadata": {
    "execution": {
     "iopub.execute_input": "2023-06-11T01:38:18.838723Z",
     "iopub.status.busy": "2023-06-11T01:38:18.838723Z",
     "iopub.status.idle": "2023-06-11T01:38:45.639303Z",
     "shell.execute_reply": "2023-06-11T01:38:45.639303Z"
    },
    "papermill": {
     "duration": 26.887083,
     "end_time": "2023-06-11T01:38:45.639303",
     "exception": false,
     "start_time": "2023-06-11T01:38:18.752220",
     "status": "completed"
    },
    "tags": []
   },
   "outputs": [
    {
     "name": "stdout",
     "output_type": "stream",
     "text": [
      "ZCR p-valor: 0.1038961038961039\n",
      "RMS p-valor: 0.8001998001998002\n",
      "f0 p-valor: 0.1958041958041958\n"
     ]
    }
   ],
   "source": [
    "# Establecemos la semilla aleatoria para reproducibilidad\n",
    "random_state = check_random_state(0)\n",
    "\n",
    "p_values = []\n",
    "\n",
    "for i in range(X.shape[1]):\n",
    "    \n",
    "    # Seleccionamos solo una columna en X\n",
    "    X_single = X[:, i].reshape(-1, 1)\n",
    "    \n",
    "    # Aplicamos la prueba de permutación\n",
    "    score, permutation_scores, pvalue = permutation_test_score(regr_multivar, X_single, y, scoring='neg_mean_squared_error', cv=5, n_permutations=1000, random_state=random_state)\n",
    "    \n",
    "    p_values.append(pvalue)\n",
    "\n",
    "    # Imprimimos el p-valor\n",
    "    if i == 0:\n",
    "        var = 'ZCR'\n",
    "    elif i == 1:\n",
    "        var = 'RMS'\n",
    "    else:\n",
    "        var = 'f0'\n",
    "    dicc_p_value[var].append(pvalue)\n",
    "    print(f'{var} p-valor:', pvalue)\n",
    "\n",
    "dicc_p_value['subjetive_parameter'].append('Pronunciación')\n",
    "dicc_p_value['genero'].append('masculino')\n"
   ]
  },
  {
   "cell_type": "code",
   "execution_count": 32,
   "id": "b05df180",
   "metadata": {
    "execution": {
     "iopub.execute_input": "2023-06-11T01:38:45.821326Z",
     "iopub.status.busy": "2023-06-11T01:38:45.821326Z",
     "iopub.status.idle": "2023-06-11T01:38:45.837154Z",
     "shell.execute_reply": "2023-06-11T01:38:45.837154Z"
    },
    "papermill": {
     "duration": 0.119759,
     "end_time": "2023-06-11T01:38:45.837154",
     "exception": false,
     "start_time": "2023-06-11T01:38:45.717395",
     "status": "completed"
    },
    "tags": []
   },
   "outputs": [],
   "source": [
    "# Dicc auxiliar con los nombres asociadas a las variables\n",
    "dicc_names_features = {\n",
    "    'zcr_model': 0,\n",
    "    'rms_model': 1,\n",
    "    'f0_model': 2\n",
    "}\n",
    "\n",
    "# Dicc de los modelos\n",
    "dicc_model = {}\n",
    "\n",
    "# Dicc de las predicciones\n",
    "dicc_pred = {}\n",
    "\n",
    "for selected_feature in selected_features:\n",
    "    # Entrenamos el modelo de regresión con las características seleccionadas\n",
    "    regr_multivar = SVR(kernel='linear')\n",
    "    regr_multivar.fit(X[:, selected_feature].reshape(-1, 1), y.ravel())\n",
    "\n",
    "    # Almacenamos en dicc_model la clave asociada al modelo que se entrenó y el objeto modelo\n",
    "    for key, value in dicc_names_features.items():\n",
    "        if value == selected_feature:\n",
    "            dicc_model[key] = regr_multivar\n",
    "\n",
    "    # Obtenemos las predicciones del modelo para las características seleccionadas\n",
    "    y_pred = regr_multivar.predict(X[:, selected_feature].reshape(-1, 1))\n",
    "\n",
    "    # Almacenamos en dicc_pred la clave asociada al modelo que se entrenó y la predicción\n",
    "    for key, value in dicc_names_features.items():\n",
    "        if value == selected_feature:\n",
    "            dicc_pred[key] = y_pred\n"
   ]
  },
  {
   "cell_type": "code",
   "execution_count": 33,
   "id": "23fa11c2",
   "metadata": {
    "execution": {
     "iopub.execute_input": "2023-06-11T01:38:46.006577Z",
     "iopub.status.busy": "2023-06-11T01:38:46.006577Z",
     "iopub.status.idle": "2023-06-11T01:38:46.055505Z",
     "shell.execute_reply": "2023-06-11T01:38:46.053473Z"
    },
    "papermill": {
     "duration": 0.144389,
     "end_time": "2023-06-11T01:38:46.059507",
     "exception": false,
     "start_time": "2023-06-11T01:38:45.915118",
     "status": "completed"
    },
    "tags": []
   },
   "outputs": [
    {
     "name": "stdout",
     "output_type": "stream",
     "text": [
      "y = -0.39 * ZCR + 4.44 - p-valor = 0.104\n"
     ]
    }
   ],
   "source": [
    "list_equ = []\n",
    "\n",
    "for key, model in dicc_model.items():\n",
    "    # Obtenemos los valores de w y b\n",
    "    w = model.coef_[0][0]\n",
    "    b = model.intercept_[0]\n",
    "    \n",
    "    label = key.replace(\"_model\", \"\")\n",
    "    if label == 'f0':\n",
    "        label = r'$f_{0}$'\n",
    "    else:\n",
    "        label = label.upper()\n",
    "\n",
    "    # Construimos la cadena de texto para la ecuación del hiperplano y su p-valor\n",
    "    equation = f'y = {w:.2f} * {label} + {b:.2f} - p-valor = {p_values[dicc_names_features[key]]:.3f}'\n",
    "\n",
    "    # Agregamos la cadena a la lista\n",
    "    list_equ.append(equation)\n",
    "\n",
    "# Mostramos el resultado\n",
    "for equ in list_equ:\n",
    "    print(equ)\n"
   ]
  },
  {
   "cell_type": "code",
   "execution_count": 34,
   "id": "3bc8172b",
   "metadata": {
    "execution": {
     "iopub.execute_input": "2023-06-11T01:38:46.281510Z",
     "iopub.status.busy": "2023-06-11T01:38:46.280509Z",
     "iopub.status.idle": "2023-06-11T01:38:46.826377Z",
     "shell.execute_reply": "2023-06-11T01:38:46.824452Z"
    },
    "papermill": {
     "duration": 0.658851,
     "end_time": "2023-06-11T01:38:46.828391",
     "exception": false,
     "start_time": "2023-06-11T01:38:46.169540",
     "status": "completed"
    },
    "tags": []
   },
   "outputs": [
    {
     "data": {
      "image/png": "[encoded data removed]",
      "text/plain": [
       "<Figure size 600x400 with 1 Axes>"
      ]
     },
     "metadata": {},
     "output_type": "display_data"
    }
   ],
   "source": [
    "dims = (6 * len(dicc_model), 4)\n",
    "fig, ax = plt.subplots(figsize=dims, ncols=len(dicc_model))\n",
    "\n",
    "with sns.axes_style('darkgrid'):\n",
    "    for i, (key, model) in enumerate(dicc_model.items()):\n",
    "        if isinstance(ax, np.ndarray):\n",
    "            ax_i = ax[i]\n",
    "        else:\n",
    "            ax_i = ax\n",
    "        label = key.replace(\"_model\", \"\")\n",
    "        if label == 'f0':\n",
    "            label = r'$f_{0}$'\n",
    "        else:\n",
    "            label = label.upper()\n",
    "        g = sns.scatterplot(x=X[:, dicc_names_features[key]], y=y, ax=ax_i, color='blue')\n",
    "        g = sns.lineplot(x=X[:, dicc_names_features[key]], y=dicc_pred[key], ax=ax_i, color='red')\n",
    "        g.text(0.5, -0.1, label, weight='bold', size='large', family='Arial', stretch='extra-expanded', ha='center', va='top', transform=g.transAxes)\n",
    "        g.set_ylabel('Pronunciación', weight='bold', size='large', alpha=0.8, family='Arial', stretch='extra-expanded')\n",
    "        g.set_title(list_equ[i], weight='bold', size='x-large', alpha=0.8, family='Arial', stretch='extra-expanded')\n",
    "        g.grid(alpha=0.7)\n",
    "        ax_i.set_ylim(0, 6)\n",
    "\n",
    "    plt.tight_layout()\n",
    "    plt.savefig(os.path.join(PATH, TEST_FOLDER, REGGRESSION_FOLDER, NO_PARAMETRIC_FOLDER, PRONUNCIACION_FOLDER, MALE_FOLDER, 'regresiones_pronunciacion_male.png'))\n",
    "    plt.show()\n"
   ]
  },
  {
   "cell_type": "code",
   "execution_count": 35,
   "id": "f8c0179b",
   "metadata": {
    "execution": {
     "iopub.execute_input": "2023-06-11T01:38:47.024353Z",
     "iopub.status.busy": "2023-06-11T01:38:47.022358Z",
     "iopub.status.idle": "2023-06-11T01:38:47.055399Z",
     "shell.execute_reply": "2023-06-11T01:38:47.055399Z"
    },
    "papermill": {
     "duration": 0.132041,
     "end_time": "2023-06-11T01:38:47.055399",
     "exception": false,
     "start_time": "2023-06-11T01:38:46.923358",
     "status": "completed"
    },
    "tags": []
   },
   "outputs": [],
   "source": [
    "if len(dicc_model) == 2:\n",
    "    import plotly.express as px\n",
    "    import plotly.graph_objects as go\n",
    "\n",
    "    # Seleccionamos solo las características seleccionadas en X\n",
    "    X_selected = X[:, selected_features]\n",
    "\n",
    "    # Entrenamos el modelo de regresión con las características seleccionadas\n",
    "    regr_multivar = SVR(kernel='linear')\n",
    "    regr_multivar.fit(X_selected, y)\n",
    "\n",
    "    # Obtenemos las predicciones del modelo para las características seleccionadas\n",
    "    y_pred = regr_multivar.predict(X_selected)\n",
    "\n",
    "    # Crear la figura\n",
    "    fig = px.scatter_3d(x=X_selected[:, 0], y=X_selected[:, 1], z=y)\n",
    "\n",
    "    # Crear el plano de regresión\n",
    "    xx, yy = np.meshgrid(X_selected[:, 0], X_selected[:, 1])\n",
    "    zz = regr_multivar.intercept_ + np.dot(np.array([xx.ravel(), yy.ravel()]).T, regr_multivar.coef_.ravel()).reshape(xx.shape)\n",
    "    fig.add_trace(go.Surface(x=xx, y=yy, z=zz, opacity=0.5))\n",
    "\n",
    "    # Construir la cadena de texto para la ecuación del plano\n",
    "    equation = f'z = {regr_multivar.intercept_[0].round(2)}'\n",
    "    for i, (key, model) in enumerate(dicc_model.items()):\n",
    "        equation += f' + {regr_multivar.coef_[0][i].round(2)} * {key.replace(\"_model\", \"\")}'\n",
    "    \n",
    "    # Centrar el título\n",
    "    fig.update_layout(title=dict(text=equation, x=0.5, xanchor='center'))\n",
    "\n",
    "    # Etiquetas de los ejes y rango del eje z\n",
    "    fig.update_layout(scene=dict(xaxis_title=list(dicc_model.keys())[0].replace(\"_model\", \"\"), yaxis_title=list(dicc_model.keys())[1].replace(\"_model\", \"\"), zaxis_title='Pronunciación', zaxis=dict(range=[0, 6])))\n",
    "\n",
    "    fig.write_html(os.path.join(PATH, TEST_FOLDER, REGGRESSION_FOLDER, NO_PARAMETRIC_FOLDER, PRONUNCIACION_FOLDER, MALE_FOLDER, 'regresion_pronunciacion_multivariable_male.html'))\n",
    "\n",
    "    fig.show()\n"
   ]
  },
  {
   "attachments": {},
   "cell_type": "markdown",
   "id": "3789acd6",
   "metadata": {
    "papermill": {
     "duration": 0.110001,
     "end_time": "2023-06-11T01:38:47.254045",
     "exception": false,
     "start_time": "2023-06-11T01:38:47.144044",
     "status": "completed"
    },
    "tags": []
   },
   "source": [
    "#### Femenino"
   ]
  },
  {
   "cell_type": "code",
   "execution_count": 36,
   "id": "e45ae228",
   "metadata": {
    "execution": {
     "iopub.execute_input": "2023-06-11T01:38:47.594799Z",
     "iopub.status.busy": "2023-06-11T01:38:47.594799Z",
     "iopub.status.idle": "2023-06-11T01:38:47.608337Z",
     "shell.execute_reply": "2023-06-11T01:38:47.603800Z"
    },
    "papermill": {
     "duration": 0.191223,
     "end_time": "2023-06-11T01:38:47.612330",
     "exception": false,
     "start_time": "2023-06-11T01:38:47.421107",
     "status": "completed"
    },
    "tags": []
   },
   "outputs": [],
   "source": [
    "mask_gender = df_pronunciacion.genero == 'femenino'\n",
    "\n",
    "df_pronunciacion_female = df_pronunciacion[mask_gender].drop(columns=['genero'])"
   ]
  },
  {
   "cell_type": "code",
   "execution_count": 37,
   "id": "bea1d371",
   "metadata": {
    "execution": {
     "iopub.execute_input": "2023-06-11T01:38:47.954251Z",
     "iopub.status.busy": "2023-06-11T01:38:47.954251Z",
     "iopub.status.idle": "2023-06-11T01:38:48.095022Z",
     "shell.execute_reply": "2023-06-11T01:38:48.087938Z"
    },
    "papermill": {
     "duration": 0.270681,
     "end_time": "2023-06-11T01:38:48.098017",
     "exception": false,
     "start_time": "2023-06-11T01:38:47.827336",
     "status": "completed"
    },
    "tags": []
   },
   "outputs": [
    {
     "name": "stdout",
     "output_type": "stream",
     "text": [
      "Características seleccionadas: (0, 1, 2)\n"
     ]
    }
   ],
   "source": [
    "# Cargamos los datos\n",
    "X = np.array(df_pronunciacion_female.drop(columns=['Pronunciacion'])) # df_objetivos es el DataFrame con los parámetros objetivos\n",
    "y = np.array(df_pronunciacion_female.Pronunciacion) # df_subjetivos es el DataFrame con los parámetros subjetivos\n",
    "\n",
    "# Creamos el modelo de regresión kNN\n",
    "regr_multivar = SVR(kernel='linear')\n",
    "\n",
    "# Creamos el selector de características hacia adelante\n",
    "forward_selector = SequentialFeatureSelector(regr_multivar, k_features='best', forward=True, scoring='neg_mean_squared_error')\n",
    "\n",
    "# Entrenamos el selector de características\n",
    "forward_selector.fit(X, y)\n",
    "\n",
    "# Obtenemos las características seleccionadas\n",
    "selected_features = forward_selector.k_feature_idx_\n",
    "\n",
    "# Imprimimos las características seleccionadas\n",
    "print('Características seleccionadas:', selected_features)\n"
   ]
  },
  {
   "cell_type": "code",
   "execution_count": 38,
   "id": "d12e967d",
   "metadata": {
    "execution": {
     "iopub.execute_input": "2023-06-11T01:38:48.435674Z",
     "iopub.status.busy": "2023-06-11T01:38:48.435674Z",
     "iopub.status.idle": "2023-06-11T01:39:09.694988Z",
     "shell.execute_reply": "2023-06-11T01:39:09.692987Z"
    },
    "papermill": {
     "duration": 21.425676,
     "end_time": "2023-06-11T01:39:09.696985",
     "exception": false,
     "start_time": "2023-06-11T01:38:48.271309",
     "status": "completed"
    },
    "tags": []
   },
   "outputs": [
    {
     "name": "stdout",
     "output_type": "stream",
     "text": [
      "ZCR p-valor: 0.44555444555444557\n",
      "RMS p-valor: 0.3626373626373626\n",
      "f0 p-valor: 0.3436563436563437\n"
     ]
    }
   ],
   "source": [
    "# Establecemos la semilla aleatoria para reproducibilidad\n",
    "random_state = check_random_state(0)\n",
    "\n",
    "p_values = []\n",
    "\n",
    "for i in range(X.shape[1]):\n",
    "    \n",
    "    # Seleccionamos solo una columna en X\n",
    "    X_single = X[:, i].reshape(-1, 1)\n",
    "    \n",
    "    # Aplicamos la prueba de permutación\n",
    "    score, permutation_scores, pvalue = permutation_test_score(regr_multivar, X_single, y, scoring='neg_mean_squared_error', cv=5, n_permutations=1000, random_state=random_state)\n",
    "    \n",
    "    p_values.append(pvalue)\n",
    "\n",
    "    # Imprimimos el p-valor\n",
    "    if i == 0:\n",
    "        var = 'ZCR'\n",
    "    elif i == 1:\n",
    "        var = 'RMS'\n",
    "    else:\n",
    "        var = 'f0'\n",
    "    dicc_p_value[var].append(pvalue)\n",
    "    print(f'{var} p-valor:', pvalue)\n",
    "\n",
    "dicc_p_value['subjetive_parameter'].append('Pronunciación')\n",
    "dicc_p_value['genero'].append('femenino')\n"
   ]
  },
  {
   "cell_type": "code",
   "execution_count": 39,
   "id": "46c69347",
   "metadata": {
    "execution": {
     "iopub.execute_input": "2023-06-11T01:39:09.889031Z",
     "iopub.status.busy": "2023-06-11T01:39:09.889031Z",
     "iopub.status.idle": "2023-06-11T01:39:09.920313Z",
     "shell.execute_reply": "2023-06-11T01:39:09.920313Z"
    },
    "papermill": {
     "duration": 0.115312,
     "end_time": "2023-06-11T01:39:09.920313",
     "exception": false,
     "start_time": "2023-06-11T01:39:09.805001",
     "status": "completed"
    },
    "tags": []
   },
   "outputs": [],
   "source": [
    "# Dicc auxiliar con los nombres asociadas a las variables\n",
    "dicc_names_features = {\n",
    "    'zcr_model': 0,\n",
    "    'rms_model': 1,\n",
    "    'f0_model': 2\n",
    "}\n",
    "\n",
    "# Dicc de los modelos\n",
    "dicc_model = {}\n",
    "\n",
    "# Dicc de las predicciones\n",
    "dicc_pred = {}\n",
    "\n",
    "for selected_feature in selected_features:\n",
    "    # Entrenamos el modelo de regresión con las características seleccionadas\n",
    "    regr_multivar = SVR(kernel='linear')\n",
    "    regr_multivar.fit(X[:, selected_feature].reshape(-1, 1), y.ravel())\n",
    "\n",
    "    # Almacenamos en dicc_model la clave asociada al modelo que se entrenó y el objeto modelo\n",
    "    for key, value in dicc_names_features.items():\n",
    "        if value == selected_feature:\n",
    "            dicc_model[key] = regr_multivar\n",
    "\n",
    "    # Obtenemos las predicciones del modelo para las características seleccionadas\n",
    "    y_pred = regr_multivar.predict(X[:, selected_feature].reshape(-1, 1))\n",
    "\n",
    "    # Almacenamos en dicc_pred la clave asociada al modelo que se entrenó y la predicción\n",
    "    for key, value in dicc_names_features.items():\n",
    "        if value == selected_feature:\n",
    "            dicc_pred[key] = y_pred\n"
   ]
  },
  {
   "cell_type": "code",
   "execution_count": 40,
   "id": "a184d78d",
   "metadata": {
    "execution": {
     "iopub.execute_input": "2023-06-11T01:39:10.106327Z",
     "iopub.status.busy": "2023-06-11T01:39:10.106327Z",
     "iopub.status.idle": "2023-06-11T01:39:10.122051Z",
     "shell.execute_reply": "2023-06-11T01:39:10.122051Z"
    },
    "papermill": {
     "duration": 0.123645,
     "end_time": "2023-06-11T01:39:10.122051",
     "exception": false,
     "start_time": "2023-06-11T01:39:09.998406",
     "status": "completed"
    },
    "tags": []
   },
   "outputs": [
    {
     "name": "stdout",
     "output_type": "stream",
     "text": [
      "y = -0.18 * ZCR + 4.47 - p-valor = 0.446\n",
      "y = 0.05 * RMS + 5.73 - p-valor = 0.363\n",
      "y = -0.01 * $f_{0}$ + 5.06 - p-valor = 0.344\n"
     ]
    }
   ],
   "source": [
    "list_equ = []\n",
    "\n",
    "for key, model in dicc_model.items():\n",
    "    # Obtenemos los valores de w y b\n",
    "    w = model.coef_[0][0]\n",
    "    b = model.intercept_[0]\n",
    "    \n",
    "    label = key.replace(\"_model\", \"\")\n",
    "    if label == 'f0':\n",
    "        label = r'$f_{0}$'\n",
    "    else:\n",
    "        label = label.upper()\n",
    "\n",
    "    # Construimos la cadena de texto para la ecuación del hiperplano y su p-valor\n",
    "    equation = f'y = {w:.2f} * {label} + {b:.2f} - p-valor = {p_values[dicc_names_features[key]]:.3f}'\n",
    "\n",
    "    # Agregamos la cadena a la lista\n",
    "    list_equ.append(equation)\n",
    "\n",
    "# Mostramos el resultado\n",
    "for equ in list_equ:\n",
    "    print(equ)\n"
   ]
  },
  {
   "cell_type": "code",
   "execution_count": 41,
   "id": "33725fe3",
   "metadata": {
    "execution": {
     "iopub.execute_input": "2023-06-11T01:39:10.330413Z",
     "iopub.status.busy": "2023-06-11T01:39:10.329414Z",
     "iopub.status.idle": "2023-06-11T01:39:11.654720Z",
     "shell.execute_reply": "2023-06-11T01:39:11.654720Z"
    },
    "papermill": {
     "duration": 1.432312,
     "end_time": "2023-06-11T01:39:11.654720",
     "exception": false,
     "start_time": "2023-06-11T01:39:10.222408",
     "status": "completed"
    },
    "tags": []
   },
   "outputs": [
    {
     "data": {
      "image/png": "[encoded data removed]",
      "text/plain": [
       "<Figure size 1800x400 with 3 Axes>"
      ]
     },
     "metadata": {},
     "output_type": "display_data"
    }
   ],
   "source": [
    "dims = (6 * len(dicc_model), 4)\n",
    "fig, ax = plt.subplots(figsize=dims, ncols=len(dicc_model))\n",
    "\n",
    "with sns.axes_style('darkgrid'):\n",
    "    for i, (key, model) in enumerate(dicc_model.items()):\n",
    "        if isinstance(ax, np.ndarray):\n",
    "            ax_i = ax[i]\n",
    "        else:\n",
    "            ax_i = ax\n",
    "        label = key.replace(\"_model\", \"\")\n",
    "        if label == 'f0':\n",
    "            label = r'$f_{0}$'\n",
    "        else:\n",
    "            label = label.upper()\n",
    "        g = sns.scatterplot(x=X[:, dicc_names_features[key]], y=y, ax=ax_i, color='blue')\n",
    "        g = sns.lineplot(x=X[:, dicc_names_features[key]], y=dicc_pred[key], ax=ax_i, color='red')\n",
    "        g.text(0.5, -0.1, label, weight='bold', size='large', family='Arial', stretch='extra-expanded', ha='center', va='top', transform=g.transAxes)\n",
    "        g.set_ylabel('Pronunciación', weight='bold', size='large', alpha=0.8, family='Arial', stretch='extra-expanded')\n",
    "        g.set_title(list_equ[i], weight='bold', size='x-large', alpha=0.8, family='Arial', stretch='extra-expanded')\n",
    "        g.grid(alpha=0.7)\n",
    "        ax_i.set_ylim(0, 6)\n",
    "\n",
    "    plt.tight_layout()\n",
    "    plt.savefig(os.path.join(PATH, TEST_FOLDER, REGGRESSION_FOLDER, NO_PARAMETRIC_FOLDER, PRONUNCIACION_FOLDER, FEMALE_FOLDER, 'regresiones_pronunciacion_female.png'))\n",
    "    plt.show()\n"
   ]
  },
  {
   "cell_type": "code",
   "execution_count": 42,
   "id": "3a355a76",
   "metadata": {
    "execution": {
     "iopub.execute_input": "2023-06-11T01:39:11.843823Z",
     "iopub.status.busy": "2023-06-11T01:39:11.842858Z",
     "iopub.status.idle": "2023-06-11T01:39:11.871821Z",
     "shell.execute_reply": "2023-06-11T01:39:11.869922Z"
    },
    "papermill": {
     "duration": 0.142013,
     "end_time": "2023-06-11T01:39:11.874825",
     "exception": false,
     "start_time": "2023-06-11T01:39:11.732812",
     "status": "completed"
    },
    "tags": []
   },
   "outputs": [],
   "source": [
    "if len(dicc_model) == 2:\n",
    "    import plotly.express as px\n",
    "    import plotly.graph_objects as go\n",
    "\n",
    "    # Seleccionamos solo las características seleccionadas en X\n",
    "    X_selected = X[:, selected_features]\n",
    "\n",
    "    # Entrenamos el modelo de regresión con las características seleccionadas\n",
    "    regr_multivar = SVR(kernel='linear')\n",
    "    regr_multivar.fit(X_selected, y)\n",
    "\n",
    "    # Obtenemos las predicciones del modelo para las características seleccionadas\n",
    "    y_pred = regr_multivar.predict(X_selected)\n",
    "\n",
    "    # Crear la figura\n",
    "    fig = px.scatter_3d(x=X_selected[:, 0], y=X_selected[:, 1], z=y)\n",
    "\n",
    "    # Crear el plano de regresión\n",
    "    xx, yy = np.meshgrid(X_selected[:, 0], X_selected[:, 1])\n",
    "    zz = regr_multivar.intercept_ + np.dot(np.array([xx.ravel(), yy.ravel()]).T, regr_multivar.coef_.ravel()).reshape(xx.shape)\n",
    "    fig.add_trace(go.Surface(x=xx, y=yy, z=zz, opacity=0.5))\n",
    "\n",
    "    # Construir la cadena de texto para la ecuación del plano\n",
    "    equation = f'z = {regr_multivar.intercept_[0].round(2)}'\n",
    "    for i, (key, model) in enumerate(dicc_model.items()):\n",
    "        equation += f' + {regr_multivar.coef_[0][i].round(2)} * {key.replace(\"_model\", \"\")}'\n",
    "    \n",
    "    # Centrar el título\n",
    "    fig.update_layout(title=dict(text=equation, x=0.5, xanchor='center'))\n",
    "\n",
    "    # Etiquetas de los ejes y rango del eje z\n",
    "    fig.update_layout(scene=dict(xaxis_title=list(dicc_model.keys())[0].replace(\"_model\", \"\"), yaxis_title=list(dicc_model.keys())[1].replace(\"_model\", \"\"), zaxis_title='Pronunciación', zaxis=dict(range=[0, 6]), yaxis=dict(tickvals=[-28, -26, -24, -22])))\n",
    "\n",
    "    fig.write_html(os.path.join(PATH, TEST_FOLDER, REGGRESSION_FOLDER, NO_PARAMETRIC_FOLDER, PRONUNCIACION_FOLDER, FEMALE_FOLDER, 'regresion_pronunciacion_multivariable_female.html'))\n",
    "\n",
    "    fig.show()\n"
   ]
  },
  {
   "attachments": {},
   "cell_type": "markdown",
   "id": "f5df2caa",
   "metadata": {
    "papermill": {
     "duration": 0.120582,
     "end_time": "2023-06-11T01:39:12.102404",
     "exception": false,
     "start_time": "2023-06-11T01:39:11.981822",
     "status": "completed"
    },
    "tags": []
   },
   "source": [
    "### Acentuacion"
   ]
  },
  {
   "cell_type": "code",
   "execution_count": 43,
   "id": "1e0c37ad",
   "metadata": {
    "execution": {
     "iopub.execute_input": "2023-06-11T01:39:12.332710Z",
     "iopub.status.busy": "2023-06-11T01:39:12.331711Z",
     "iopub.status.idle": "2023-06-11T01:39:12.345384Z",
     "shell.execute_reply": "2023-06-11T01:39:12.343383Z"
    },
    "papermill": {
     "duration": 0.14441,
     "end_time": "2023-06-11T01:39:12.349386",
     "exception": false,
     "start_time": "2023-06-11T01:39:12.204976",
     "status": "completed"
    },
    "tags": []
   },
   "outputs": [],
   "source": [
    "df_acentuacion = df_union.loc[:, ['Acentuacion', 'zcr', 'rms', 'f0', 'genero']]"
   ]
  },
  {
   "attachments": {},
   "cell_type": "markdown",
   "id": "5bd2ac35",
   "metadata": {
    "papermill": {
     "duration": 0.12575,
     "end_time": "2023-06-11T01:39:12.578954",
     "exception": false,
     "start_time": "2023-06-11T01:39:12.453204",
     "status": "completed"
    },
    "tags": []
   },
   "source": [
    "#### Masculino"
   ]
  },
  {
   "cell_type": "code",
   "execution_count": 44,
   "id": "d50a579c",
   "metadata": {
    "execution": {
     "iopub.execute_input": "2023-06-11T01:39:12.789264Z",
     "iopub.status.busy": "2023-06-11T01:39:12.789264Z",
     "iopub.status.idle": "2023-06-11T01:39:12.804981Z",
     "shell.execute_reply": "2023-06-11T01:39:12.804981Z"
    },
    "papermill": {
     "duration": 0.117242,
     "end_time": "2023-06-11T01:39:12.804981",
     "exception": false,
     "start_time": "2023-06-11T01:39:12.687739",
     "status": "completed"
    },
    "tags": []
   },
   "outputs": [],
   "source": [
    "mask_gender = df_acentuacion.genero == 'masculino'\n",
    "\n",
    "df_acentuacion_male = df_acentuacion[mask_gender].drop(columns=['genero'])"
   ]
  },
  {
   "cell_type": "code",
   "execution_count": 45,
   "id": "2763d1e4",
   "metadata": {
    "execution": {
     "iopub.execute_input": "2023-06-11T01:39:13.053736Z",
     "iopub.status.busy": "2023-06-11T01:39:13.053736Z",
     "iopub.status.idle": "2023-06-11T01:39:13.147550Z",
     "shell.execute_reply": "2023-06-11T01:39:13.146553Z"
    },
    "papermill": {
     "duration": 0.249461,
     "end_time": "2023-06-11T01:39:13.150549",
     "exception": false,
     "start_time": "2023-06-11T01:39:12.901088",
     "status": "completed"
    },
    "tags": []
   },
   "outputs": [
    {
     "name": "stdout",
     "output_type": "stream",
     "text": [
      "Características seleccionadas: (0, 2)\n"
     ]
    }
   ],
   "source": [
    "# Cargamos los datos\n",
    "X = np.array(df_acentuacion_male.drop(columns=['Acentuacion'])) # df_objetivos es el DataFrame con los parámetros objetivos\n",
    "y = np.array(df_acentuacion_male.Acentuacion) # df_subjetivos es el DataFrame con los parámetros subjetivos\n",
    "\n",
    "# Creamos el modelo de regresión kNN\n",
    "regr_multivar = SVR(kernel='linear')\n",
    "\n",
    "# Creamos el selector de características hacia adelante\n",
    "forward_selector = SequentialFeatureSelector(regr_multivar, k_features='best', forward=True, scoring='neg_mean_squared_error')\n",
    "\n",
    "# Entrenamos el selector de características\n",
    "forward_selector.fit(X, y)\n",
    "\n",
    "# Obtenemos las características seleccionadas\n",
    "selected_features = forward_selector.k_feature_idx_\n",
    "\n",
    "# Imprimimos las características seleccionadas\n",
    "print('Características seleccionadas:', selected_features)\n"
   ]
  },
  {
   "cell_type": "code",
   "execution_count": 46,
   "id": "85ab3da9",
   "metadata": {
    "execution": {
     "iopub.execute_input": "2023-06-11T01:39:13.322896Z",
     "iopub.status.busy": "2023-06-11T01:39:13.322896Z",
     "iopub.status.idle": "2023-06-11T01:39:33.106716Z",
     "shell.execute_reply": "2023-06-11T01:39:33.106716Z"
    },
    "papermill": {
     "duration": 19.871701,
     "end_time": "2023-06-11T01:39:33.106716",
     "exception": false,
     "start_time": "2023-06-11T01:39:13.235015",
     "status": "completed"
    },
    "tags": []
   },
   "outputs": [
    {
     "name": "stdout",
     "output_type": "stream",
     "text": [
      "ZCR p-valor: 0.17082917082917082\n",
      "RMS p-valor: 0.6003996003996004\n",
      "f0 p-valor: 0.13486513486513488\n"
     ]
    }
   ],
   "source": [
    "# Establecemos la semilla aleatoria para reproducibilidad\n",
    "random_state = check_random_state(0)\n",
    "\n",
    "p_values = []\n",
    "\n",
    "for i in range(X.shape[1]):\n",
    "    \n",
    "    # Seleccionamos solo una columna en X\n",
    "    X_single = X[:, i].reshape(-1, 1)\n",
    "    \n",
    "    # Aplicamos la prueba de permutación\n",
    "    score, permutation_scores, pvalue = permutation_test_score(regr_multivar, X_single, y, scoring='neg_mean_squared_error', cv=5, n_permutations=1000, random_state=random_state)\n",
    "    \n",
    "    p_values.append(pvalue)\n",
    "\n",
    "    # Imprimimos el p-valor\n",
    "    if i == 0:\n",
    "        var = 'ZCR'\n",
    "    elif i == 1:\n",
    "        var = 'RMS'\n",
    "    else:\n",
    "        var = 'f0'\n",
    "    dicc_p_value[var].append(pvalue)\n",
    "    print(f'{var} p-valor:', pvalue)\n",
    "\n",
    "dicc_p_value['subjetive_parameter'].append('Acentuación')\n",
    "dicc_p_value['genero'].append('masculino')\n"
   ]
  },
  {
   "cell_type": "code",
   "execution_count": 47,
   "id": "beb71f07",
   "metadata": {
    "execution": {
     "iopub.execute_input": "2023-06-11T01:39:33.289632Z",
     "iopub.status.busy": "2023-06-11T01:39:33.289632Z",
     "iopub.status.idle": "2023-06-11T01:39:33.305459Z",
     "shell.execute_reply": "2023-06-11T01:39:33.305459Z"
    },
    "papermill": {
     "duration": 0.120785,
     "end_time": "2023-06-11T01:39:33.305459",
     "exception": false,
     "start_time": "2023-06-11T01:39:33.184674",
     "status": "completed"
    },
    "tags": []
   },
   "outputs": [],
   "source": [
    "# Dicc auxiliar con los nombres asociadas a las variables\n",
    "dicc_names_features = {\n",
    "    'zcr_model': 0,\n",
    "    'rms_model': 1,\n",
    "    'f0_model': 2\n",
    "}\n",
    "\n",
    "# Dicc de los modelos\n",
    "dicc_model = {}\n",
    "\n",
    "# Dicc de las predicciones\n",
    "dicc_pred = {}\n",
    "\n",
    "for selected_feature in selected_features:\n",
    "    # Entrenamos el modelo de regresión con las características seleccionadas\n",
    "    regr_multivar = SVR(kernel='linear')\n",
    "    regr_multivar.fit(X[:, selected_feature].reshape(-1, 1), y.ravel())\n",
    "\n",
    "    # Almacenamos en dicc_model la clave asociada al modelo que se entrenó y el objeto modelo\n",
    "    for key, value in dicc_names_features.items():\n",
    "        if value == selected_feature:\n",
    "            dicc_model[key] = regr_multivar\n",
    "\n",
    "    # Obtenemos las predicciones del modelo para las características seleccionadas\n",
    "    y_pred = regr_multivar.predict(X[:, selected_feature].reshape(-1, 1))\n",
    "\n",
    "    # Almacenamos en dicc_pred la clave asociada al modelo que se entrenó y la predicción\n",
    "    for key, value in dicc_names_features.items():\n",
    "        if value == selected_feature:\n",
    "            dicc_pred[key] = y_pred\n"
   ]
  },
  {
   "cell_type": "code",
   "execution_count": 48,
   "id": "324fada1",
   "metadata": {
    "execution": {
     "iopub.execute_input": "2023-06-11T01:39:33.488650Z",
     "iopub.status.busy": "2023-06-11T01:39:33.488650Z",
     "iopub.status.idle": "2023-06-11T01:39:33.504478Z",
     "shell.execute_reply": "2023-06-11T01:39:33.504478Z"
    },
    "papermill": {
     "duration": 0.12105,
     "end_time": "2023-06-11T01:39:33.504478",
     "exception": false,
     "start_time": "2023-06-11T01:39:33.383428",
     "status": "completed"
    },
    "tags": []
   },
   "outputs": [
    {
     "name": "stdout",
     "output_type": "stream",
     "text": [
      "y = -0.39 * ZCR + 3.96 - p-valor = 0.171\n",
      "y = -0.04 * $f_{0}$ + 7.09 - p-valor = 0.135\n"
     ]
    }
   ],
   "source": [
    "list_equ = []\n",
    "\n",
    "for key, model in dicc_model.items():\n",
    "    # Obtenemos los valores de w y b\n",
    "    w = model.coef_[0][0]\n",
    "    b = model.intercept_[0]\n",
    "    \n",
    "    label = key.replace(\"_model\", \"\")\n",
    "    if label == 'f0':\n",
    "        label = r'$f_{0}$'\n",
    "    else:\n",
    "        label = label.upper()\n",
    "\n",
    "    # Construimos la cadena de texto para la ecuación del hiperplano y su p-valor\n",
    "    equation = f'y = {w:.2f} * {label} + {b:.2f} - p-valor = {p_values[dicc_names_features[key]]:.3f}'\n",
    "\n",
    "    # Agregamos la cadena a la lista\n",
    "    list_equ.append(equation)\n",
    "\n",
    "# Mostramos el resultado\n",
    "for equ in list_equ:\n",
    "    print(equ)\n"
   ]
  },
  {
   "cell_type": "code",
   "execution_count": 49,
   "id": "42ab5a74",
   "metadata": {
    "execution": {
     "iopub.execute_input": "2023-06-11T01:39:33.724895Z",
     "iopub.status.busy": "2023-06-11T01:39:33.723891Z",
     "iopub.status.idle": "2023-06-11T01:39:34.138928Z",
     "shell.execute_reply": "2023-06-11T01:39:34.138928Z"
    },
    "papermill": {
     "duration": 0.541028,
     "end_time": "2023-06-11T01:39:34.138928",
     "exception": false,
     "start_time": "2023-06-11T01:39:33.597900",
     "status": "completed"
    },
    "tags": []
   },
   "outputs": [
    {
     "data": {
      "image/png": "[encoded data removed]",
      "text/plain": [
       "<Figure size 1200x400 with 2 Axes>"
      ]
     },
     "metadata": {},
     "output_type": "display_data"
    }
   ],
   "source": [
    "dims = (6 * len(dicc_model), 4)\n",
    "fig, ax = plt.subplots(figsize=dims, ncols=len(dicc_model))\n",
    "\n",
    "with sns.axes_style('darkgrid'):\n",
    "    for i, (key, model) in enumerate(dicc_model.items()):\n",
    "        if isinstance(ax, np.ndarray):\n",
    "            ax_i = ax[i]\n",
    "        else:\n",
    "            ax_i = ax\n",
    "        label = key.replace(\"_model\", \"\")\n",
    "        if label == 'f0':\n",
    "            label = r'$f_{0}$'\n",
    "        else:\n",
    "            label = label.upper()\n",
    "        g = sns.scatterplot(x=X[:, dicc_names_features[key]], y=y, ax=ax_i, color='blue')\n",
    "        g = sns.lineplot(x=X[:, dicc_names_features[key]], y=dicc_pred[key], ax=ax_i, color='red')\n",
    "        g.text(0.5, -0.1, label, weight='bold', size='large', family='Arial', stretch='extra-expanded', ha='center', va='top', transform=g.transAxes)\n",
    "        g.set_ylabel('Acentuación', weight='bold', size='large', alpha=0.8, family='Arial', stretch='extra-expanded')\n",
    "        g.set_title(list_equ[i], weight='bold', size='x-large', alpha=0.8, family='Arial', stretch='extra-expanded')\n",
    "        g.grid(alpha=0.7)\n",
    "        ax_i.set_ylim(0, 6)\n",
    "\n",
    "    plt.tight_layout()\n",
    "    plt.savefig(os.path.join(PATH, TEST_FOLDER, REGGRESSION_FOLDER, NO_PARAMETRIC_FOLDER, ACENTUACION_FOLDER, MALE_FOLDER, 'regresiones_acentuacion_male.png'))\n",
    "    plt.show()\n"
   ]
  },
  {
   "cell_type": "code",
   "execution_count": 50,
   "id": "a2d1c79f",
   "metadata": {
    "execution": {
     "iopub.execute_input": "2023-06-11T01:39:34.324185Z",
     "iopub.status.busy": "2023-06-11T01:39:34.324185Z",
     "iopub.status.idle": "2023-06-11T01:39:34.355467Z",
     "shell.execute_reply": "2023-06-11T01:39:34.355467Z"
    },
    "papermill": {
     "duration": 0.116792,
     "end_time": "2023-06-11T01:39:34.355467",
     "exception": false,
     "start_time": "2023-06-11T01:39:34.238675",
     "status": "completed"
    },
    "tags": []
   },
   "outputs": [
    {
     "data": {
      "application/vnd.plotly.v1+json": {
       "config": {
        "plotlyServerURL": "https://plot.ly"
       },
       "data": [
        {
         "hovertemplate": "x=%{x}<br>y=%{y}<br>z=%{z}<extra></extra>",
         "legendgroup": "",
         "marker": {
          "color": "#636efa",
          "symbol": "circle"
         },
         "mode": "markers",
         "name": "",
         "scene": "scene",
         "showlegend": false,
         "type": "scatter3d",
         "x": [
          0.0980514874287459,
          0.25162586573765,
          0.239188283778317,
          0.105458211555755,
          0.185066881409123,
          0.137448537263939,
          0.239843081121575,
          0.142275783668731,
          0.172730672751451,
          0.0930430482665395
         ],
         "y": [
          68.7269109799978,
          98.4685046561784,
          78.9681520189018,
          69.0457782226234,
          81.4992124221524,
          71.7717932153514,
          86.6274438096484,
          69.1332152039065,
          80.4995797313246,
          76.4927520021194
         ],
         "z": [
          4.469387755102041,
          2.816326530612245,
          3.183673469387755,
          4.26530612244898,
          4.183673469387755,
          3.306122448979592,
          3,
          3.836734693877551,
          3.959183673469388,
          4.469387755102041
         ]
        },
        {
         "opacity": 0.5,
         "type": "surface",
         "x": [
          [
           0.0980514874287459,
           0.25162586573765,
           0.239188283778317,
           0.105458211555755,
           0.185066881409123,
           0.137448537263939,
           0.239843081121575,
           0.142275783668731,
           0.172730672751451,
           0.0930430482665395
          ],
          [
           0.0980514874287459,
           0.25162586573765,
           0.239188283778317,
           0.105458211555755,
           0.185066881409123,
           0.137448537263939,
           0.239843081121575,
           0.142275783668731,
           0.172730672751451,
           0.0930430482665395
          ],
          [
           0.0980514874287459,
           0.25162586573765,
           0.239188283778317,
           0.105458211555755,
           0.185066881409123,
           0.137448537263939,
           0.239843081121575,
           0.142275783668731,
           0.172730672751451,
           0.0930430482665395
          ],
          [
           0.0980514874287459,
           0.25162586573765,
           0.239188283778317,
           0.105458211555755,
           0.185066881409123,
           0.137448537263939,
           0.239843081121575,
           0.142275783668731,
           0.172730672751451,
           0.0930430482665395
          ],
          [
           0.0980514874287459,
           0.25162586573765,
           0.239188283778317,
           0.105458211555755,
           0.185066881409123,
           0.137448537263939,
           0.239843081121575,
           0.142275783668731,
           0.172730672751451,
           0.0930430482665395
          ],
          [
           0.0980514874287459,
           0.25162586573765,
           0.239188283778317,
           0.105458211555755,
           0.185066881409123,
           0.137448537263939,
           0.239843081121575,
           0.142275783668731,
           0.172730672751451,
           0.0930430482665395
          ],
          [
           0.0980514874287459,
           0.25162586573765,
           0.239188283778317,
           0.105458211555755,
           0.185066881409123,
           0.137448537263939,
           0.239843081121575,
           0.142275783668731,
           0.172730672751451,
           0.0930430482665395
          ],
          [
           0.0980514874287459,
           0.25162586573765,
           0.239188283778317,
           0.105458211555755,
           0.185066881409123,
           0.137448537263939,
           0.239843081121575,
           0.142275783668731,
           0.172730672751451,
           0.0930430482665395
          ],
          [
           0.0980514874287459,
           0.25162586573765,
           0.239188283778317,
           0.105458211555755,
           0.185066881409123,
           0.137448537263939,
           0.239843081121575,
           0.142275783668731,
           0.172730672751451,
           0.0930430482665395
          ],
          [
           0.0980514874287459,
           0.25162586573765,
           0.239188283778317,
           0.105458211555755,
           0.185066881409123,
           0.137448537263939,
           0.239843081121575,
           0.142275783668731,
           0.172730672751451,
           0.0930430482665395
          ]
         ],
         "y": [
          [
           68.7269109799978,
           68.7269109799978,
           68.7269109799978,
           68.7269109799978,
           68.7269109799978,
           68.7269109799978,
           68.7269109799978,
           68.7269109799978,
           68.7269109799978,
           68.7269109799978
          ],
          [
           98.4685046561784,
           98.4685046561784,
           98.4685046561784,
           98.4685046561784,
           98.4685046561784,
           98.4685046561784,
           98.4685046561784,
           98.4685046561784,
           98.4685046561784,
           98.4685046561784
          ],
          [
           78.9681520189018,
           78.9681520189018,
           78.9681520189018,
           78.9681520189018,
           78.9681520189018,
           78.9681520189018,
           78.9681520189018,
           78.9681520189018,
           78.9681520189018,
           78.9681520189018
          ],
          [
           69.0457782226234,
           69.0457782226234,
           69.0457782226234,
           69.0457782226234,
           69.0457782226234,
           69.0457782226234,
           69.0457782226234,
           69.0457782226234,
           69.0457782226234,
           69.0457782226234
          ],
          [
           81.4992124221524,
           81.4992124221524,
           81.4992124221524,
           81.4992124221524,
           81.4992124221524,
           81.4992124221524,
           81.4992124221524,
           81.4992124221524,
           81.4992124221524,
           81.4992124221524
          ],
          [
           71.7717932153514,
           71.7717932153514,
           71.7717932153514,
           71.7717932153514,
           71.7717932153514,
           71.7717932153514,
           71.7717932153514,
           71.7717932153514,
           71.7717932153514,
           71.7717932153514
          ],
          [
           86.6274438096484,
           86.6274438096484,
           86.6274438096484,
           86.6274438096484,
           86.6274438096484,
           86.6274438096484,
           86.6274438096484,
           86.6274438096484,
           86.6274438096484,
           86.6274438096484
          ],
          [
           69.1332152039065,
           69.1332152039065,
           69.1332152039065,
           69.1332152039065,
           69.1332152039065,
           69.1332152039065,
           69.1332152039065,
           69.1332152039065,
           69.1332152039065,
           69.1332152039065
          ],
          [
           80.4995797313246,
           80.4995797313246,
           80.4995797313246,
           80.4995797313246,
           80.4995797313246,
           80.4995797313246,
           80.4995797313246,
           80.4995797313246,
           80.4995797313246,
           80.4995797313246
          ],
          [
           76.4927520021194,
           76.4927520021194,
           76.4927520021194,
           76.4927520021194,
           76.4927520021194,
           76.4927520021194,
           76.4927520021194,
           76.4927520021194,
           76.4927520021194,
           76.4927520021194
          ]
         ],
         "z": [
          [
           4.180051068232311,
           4.1472421253558505,
           4.149899234702595,
           4.178468728837807,
           4.16146148889029,
           4.171634458822739,
           4.149759346728656,
           4.170603187504636,
           4.164096941298553,
           4.181121048760199
          ],
          [
           2.9482397777312075,
           2.915430834854747,
           2.918087944201491,
           2.946657438336703,
           2.9296501983891865,
           2.9398231683216354,
           2.9179480562275524,
           2.938791897003533,
           2.93228565079745,
           2.949309758259096
          ],
          [
           3.755888312267808,
           3.723079369391347,
           3.7257364787380918,
           3.7543059728733033,
           3.737298732925787,
           3.747471702858236,
           3.7255965907641526,
           3.746440431540133,
           3.7399341853340498,
           3.756958292795696
          ],
          [
           4.166844503919931,
           4.134035561043469,
           4.1366926703902145,
           4.1652621645254255,
           4.148254924577909,
           4.158427894510359,
           4.136552782416275,
           4.1573966231922554,
           4.1508903769861725,
           4.167914484447818
          ],
          [
           3.6510590682262785,
           3.6182501253498174,
           3.620907234696562,
           3.6494767288317735,
           3.6324694888842575,
           3.6426424588167063,
           3.620767346722623,
           3.6416111874986035,
           3.63510494129252,
           3.6521290487541664
          ],
          [
           4.053940801358527,
           4.0211318584820654,
           4.023788967828811,
           4.052358461964022,
           4.035351222016505,
           4.045524191948955,
           4.023649079854871,
           4.0444929206308515,
           4.0379866744247686,
           4.0550107818864145
          ],
          [
           3.438662469974085,
           3.405853527097624,
           3.4085106364443685,
           3.43708013057958,
           3.420072890632064,
           3.4302458605645127,
           3.4083707484704293,
           3.42921458924641,
           3.4227083430403265,
           3.439732450501973
          ],
          [
           4.163223115573208,
           4.130414172696748,
           4.133071282043492,
           4.161640776178704,
           4.144633536231188,
           4.154806506163636,
           4.132931394069553,
           4.153775234845534,
           4.14726898863945,
           4.164293096101097
          ],
          [
           3.6924609799167687,
           3.6596520370403076,
           3.6623091463870523,
           3.6908786405222638,
           3.6738714005747477,
           3.6840443705071966,
           3.662169258413113,
           3.6830130991890937,
           3.6765068529830103,
           3.6935309604446567
          ],
          [
           3.858412263148801,
           3.82560332027234,
           3.8282604296190845,
           3.856829923754296,
           3.83982268380678,
           3.849995653739229,
           3.8281205416451454,
           3.848964382421126,
           3.8424581362150425,
           3.859482243676689
          ]
         ]
        }
       ],
       "layout": {
        "legend": {
         "tracegroupgap": 0
        },
        "margin": {
         "t": 60
        },
        "scene": {
         "domain": {
          "x": [
           0,
           1
          ],
          "y": [
           0,
           1
          ]
         },
         "xaxis": {
          "title": {
           "text": "zcr"
          }
         },
         "yaxis": {
          "title": {
           "text": "f0"
          }
         },
         "zaxis": {
          "range": [
           0,
           6
          ],
          "title": {
           "text": "Acentuación"
          }
         }
        },
        "template": {
         "data": {
          "bar": [
           {
            "error_x": {
             "color": "#2a3f5f"
            },
            "error_y": {
             "color": "#2a3f5f"
            },
            "marker": {
             "line": {
              "color": "#E5ECF6",
              "width": 0.5
             },
             "pattern": {
              "fillmode": "overlay",
              "size": 10,
              "solidity": 0.2
             }
            },
            "type": "bar"
           }
          ],
          "barpolar": [
           {
            "marker": {
             "line": {
              "color": "#E5ECF6",
              "width": 0.5
             },
             "pattern": {
              "fillmode": "overlay",
              "size": 10,
              "solidity": 0.2
             }
            },
            "type": "barpolar"
           }
          ],
          "carpet": [
           {
            "aaxis": {
             "endlinecolor": "#2a3f5f",
             "gridcolor": "white",
             "linecolor": "white",
             "minorgridcolor": "white",
             "startlinecolor": "#2a3f5f"
            },
            "baxis": {
             "endlinecolor": "#2a3f5f",
             "gridcolor": "white",
             "linecolor": "white",
             "minorgridcolor": "white",
             "startlinecolor": "#2a3f5f"
            },
            "type": "carpet"
           }
          ],
          "choropleth": [
           {
            "colorbar": {
             "outlinewidth": 0,
             "ticks": ""
            },
            "type": "choropleth"
           }
          ],
          "contour": [
           {
            "colorbar": {
             "outlinewidth": 0,
             "ticks": ""
            },
            "colorscale": [
             [
              0,
              "#0d0887"
             ],
             [
              0.1111111111111111,
              "#46039f"
             ],
             [
              0.2222222222222222,
              "#7201a8"
             ],
             [
              0.3333333333333333,
              "#9c179e"
             ],
             [
              0.4444444444444444,
              "#bd3786"
             ],
             [
              0.5555555555555556,
              "#d8576b"
             ],
             [
              0.6666666666666666,
              "#ed7953"
             ],
             [
              0.7777777777777778,
              "#fb9f3a"
             ],
             [
              0.8888888888888888,
              "#fdca26"
             ],
             [
              1,
              "#f0f921"
             ]
            ],
            "type": "contour"
           }
          ],
          "contourcarpet": [
           {
            "colorbar": {
             "outlinewidth": 0,
             "ticks": ""
            },
            "type": "contourcarpet"
           }
          ],
          "heatmap": [
           {
            "colorbar": {
             "outlinewidth": 0,
             "ticks": ""
            },
            "colorscale": [
             [
              0,
              "#0d0887"
             ],
             [
              0.1111111111111111,
              "#46039f"
             ],
             [
              0.2222222222222222,
              "#7201a8"
             ],
             [
              0.3333333333333333,
              "#9c179e"
             ],
             [
              0.4444444444444444,
              "#bd3786"
             ],
             [
              0.5555555555555556,
              "#d8576b"
             ],
             [
              0.6666666666666666,
              "#ed7953"
             ],
             [
              0.7777777777777778,
              "#fb9f3a"
             ],
             [
              0.8888888888888888,
              "#fdca26"
             ],
             [
              1,
              "#f0f921"
             ]
            ],
            "type": "heatmap"
           }
          ],
          "heatmapgl": [
           {
            "colorbar": {
             "outlinewidth": 0,
             "ticks": ""
            },
            "colorscale": [
             [
              0,
              "#0d0887"
             ],
             [
              0.1111111111111111,
              "#46039f"
             ],
             [
              0.2222222222222222,
              "#7201a8"
             ],
             [
              0.3333333333333333,
              "#9c179e"
             ],
             [
              0.4444444444444444,
              "#bd3786"
             ],
             [
              0.5555555555555556,
              "#d8576b"
             ],
             [
              0.6666666666666666,
              "#ed7953"
             ],
             [
              0.7777777777777778,
              "#fb9f3a"
             ],
             [
              0.8888888888888888,
              "#fdca26"
             ],
             [
              1,
              "#f0f921"
             ]
            ],
            "type": "heatmapgl"
           }
          ],
          "histogram": [
           {
            "marker": {
             "pattern": {
              "fillmode": "overlay",
              "size": 10,
              "solidity": 0.2
             }
            },
            "type": "histogram"
           }
          ],
          "histogram2d": [
           {
            "colorbar": {
             "outlinewidth": 0,
             "ticks": ""
            },
            "colorscale": [
             [
              0,
              "#0d0887"
             ],
             [
              0.1111111111111111,
              "#46039f"
             ],
             [
              0.2222222222222222,
              "#7201a8"
             ],
             [
              0.3333333333333333,
              "#9c179e"
             ],
             [
              0.4444444444444444,
              "#bd3786"
             ],
             [
              0.5555555555555556,
              "#d8576b"
             ],
             [
              0.6666666666666666,
              "#ed7953"
             ],
             [
              0.7777777777777778,
              "#fb9f3a"
             ],
             [
              0.8888888888888888,
              "#fdca26"
             ],
             [
              1,
              "#f0f921"
             ]
            ],
            "type": "histogram2d"
           }
          ],
          "histogram2dcontour": [
           {
            "colorbar": {
             "outlinewidth": 0,
             "ticks": ""
            },
            "colorscale": [
             [
              0,
              "#0d0887"
             ],
             [
              0.1111111111111111,
              "#46039f"
             ],
             [
              0.2222222222222222,
              "#7201a8"
             ],
             [
              0.3333333333333333,
              "#9c179e"
             ],
             [
              0.4444444444444444,
              "#bd3786"
             ],
             [
              0.5555555555555556,
              "#d8576b"
             ],
             [
              0.6666666666666666,
              "#ed7953"
             ],
             [
              0.7777777777777778,
              "#fb9f3a"
             ],
             [
              0.8888888888888888,
              "#fdca26"
             ],
             [
              1,
              "#f0f921"
             ]
            ],
            "type": "histogram2dcontour"
           }
          ],
          "mesh3d": [
           {
            "colorbar": {
             "outlinewidth": 0,
             "ticks": ""
            },
            "type": "mesh3d"
           }
          ],
          "parcoords": [
           {
            "line": {
             "colorbar": {
              "outlinewidth": 0,
              "ticks": ""
             }
            },
            "type": "parcoords"
           }
          ],
          "pie": [
           {
            "automargin": true,
            "type": "pie"
           }
          ],
          "scatter": [
           {
            "fillpattern": {
             "fillmode": "overlay",
             "size": 10,
             "solidity": 0.2
            },
            "type": "scatter"
           }
          ],
          "scatter3d": [
           {
            "line": {
             "colorbar": {
              "outlinewidth": 0,
              "ticks": ""
             }
            },
            "marker": {
             "colorbar": {
              "outlinewidth": 0,
              "ticks": ""
             }
            },
            "type": "scatter3d"
           }
          ],
          "scattercarpet": [
           {
            "marker": {
             "colorbar": {
              "outlinewidth": 0,
              "ticks": ""
             }
            },
            "type": "scattercarpet"
           }
          ],
          "scattergeo": [
           {
            "marker": {
             "colorbar": {
              "outlinewidth": 0,
              "ticks": ""
             }
            },
            "type": "scattergeo"
           }
          ],
          "scattergl": [
           {
            "marker": {
             "colorbar": {
              "outlinewidth": 0,
              "ticks": ""
             }
            },
            "type": "scattergl"
           }
          ],
          "scattermapbox": [
           {
            "marker": {
             "colorbar": {
              "outlinewidth": 0,
              "ticks": ""
             }
            },
            "type": "scattermapbox"
           }
          ],
          "scatterpolar": [
           {
            "marker": {
             "colorbar": {
              "outlinewidth": 0,
              "ticks": ""
             }
            },
            "type": "scatterpolar"
           }
          ],
          "scatterpolargl": [
           {
            "marker": {
             "colorbar": {
              "outlinewidth": 0,
              "ticks": ""
             }
            },
            "type": "scatterpolargl"
           }
          ],
          "scatterternary": [
           {
            "marker": {
             "colorbar": {
              "outlinewidth": 0,
              "ticks": ""
             }
            },
            "type": "scatterternary"
           }
          ],
          "surface": [
           {
            "colorbar": {
             "outlinewidth": 0,
             "ticks": ""
            },
            "colorscale": [
             [
              0,
              "#0d0887"
             ],
             [
              0.1111111111111111,
              "#46039f"
             ],
             [
              0.2222222222222222,
              "#7201a8"
             ],
             [
              0.3333333333333333,
              "#9c179e"
             ],
             [
              0.4444444444444444,
              "#bd3786"
             ],
             [
              0.5555555555555556,
              "#d8576b"
             ],
             [
              0.6666666666666666,
              "#ed7953"
             ],
             [
              0.7777777777777778,
              "#fb9f3a"
             ],
             [
              0.8888888888888888,
              "#fdca26"
             ],
             [
              1,
              "#f0f921"
             ]
            ],
            "type": "surface"
           }
          ],
          "table": [
           {
            "cells": {
             "fill": {
              "color": "#EBF0F8"
             },
             "line": {
              "color": "white"
             }
            },
            "header": {
             "fill": {
              "color": "#C8D4E3"
             },
             "line": {
              "color": "white"
             }
            },
            "type": "table"
           }
          ]
         },
         "layout": {
          "annotationdefaults": {
           "arrowcolor": "#2a3f5f",
           "arrowhead": 0,
           "arrowwidth": 1
          },
          "autotypenumbers": "strict",
          "coloraxis": {
           "colorbar": {
            "outlinewidth": 0,
            "ticks": ""
           }
          },
          "colorscale": {
           "diverging": [
            [
             0,
             "#8e0152"
            ],
            [
             0.1,
             "#c51b7d"
            ],
            [
             0.2,
             "#de77ae"
            ],
            [
             0.3,
             "#f1b6da"
            ],
            [
             0.4,
             "#fde0ef"
            ],
            [
             0.5,
             "#f7f7f7"
            ],
            [
             0.6,
             "#e6f5d0"
            ],
            [
             0.7,
             "#b8e186"
            ],
            [
             0.8,
             "#7fbc41"
            ],
            [
             0.9,
             "#4d9221"
            ],
            [
             1,
             "#276419"
            ]
           ],
           "sequential": [
            [
             0,
             "#0d0887"
            ],
            [
             0.1111111111111111,
             "#46039f"
            ],
            [
             0.2222222222222222,
             "#7201a8"
            ],
            [
             0.3333333333333333,
             "#9c179e"
            ],
            [
             0.4444444444444444,
             "#bd3786"
            ],
            [
             0.5555555555555556,
             "#d8576b"
            ],
            [
             0.6666666666666666,
             "#ed7953"
            ],
            [
             0.7777777777777778,
             "#fb9f3a"
            ],
            [
             0.8888888888888888,
             "#fdca26"
            ],
            [
             1,
             "#f0f921"
            ]
           ],
           "sequentialminus": [
            [
             0,
             "#0d0887"
            ],
            [
             0.1111111111111111,
             "#46039f"
            ],
            [
             0.2222222222222222,
             "#7201a8"
            ],
            [
             0.3333333333333333,
             "#9c179e"
            ],
            [
             0.4444444444444444,
             "#bd3786"
            ],
            [
             0.5555555555555556,
             "#d8576b"
            ],
            [
             0.6666666666666666,
             "#ed7953"
            ],
            [
             0.7777777777777778,
             "#fb9f3a"
            ],
            [
             0.8888888888888888,
             "#fdca26"
            ],
            [
             1,
             "#f0f921"
            ]
           ]
          },
          "colorway": [
           "#636efa",
           "#EF553B",
           "#00cc96",
           "#ab63fa",
           "#FFA15A",
           "#19d3f3",
           "#FF6692",
           "#B6E880",
           "#FF97FF",
           "#FECB52"
          ],
          "font": {
           "color": "#2a3f5f"
          },
          "geo": {
           "bgcolor": "white",
           "lakecolor": "white",
           "landcolor": "#E5ECF6",
           "showlakes": true,
           "showland": true,
           "subunitcolor": "white"
          },
          "hoverlabel": {
           "align": "left"
          },
          "hovermode": "closest",
          "mapbox": {
           "style": "light"
          },
          "paper_bgcolor": "white",
          "plot_bgcolor": "#E5ECF6",
          "polar": {
           "angularaxis": {
            "gridcolor": "white",
            "linecolor": "white",
            "ticks": ""
           },
           "bgcolor": "#E5ECF6",
           "radialaxis": {
            "gridcolor": "white",
            "linecolor": "white",
            "ticks": ""
           }
          },
          "scene": {
           "xaxis": {
            "backgroundcolor": "#E5ECF6",
            "gridcolor": "white",
            "gridwidth": 2,
            "linecolor": "white",
            "showbackground": true,
            "ticks": "",
            "zerolinecolor": "white"
           },
           "yaxis": {
            "backgroundcolor": "#E5ECF6",
            "gridcolor": "white",
            "gridwidth": 2,
            "linecolor": "white",
            "showbackground": true,
            "ticks": "",
            "zerolinecolor": "white"
           },
           "zaxis": {
            "backgroundcolor": "#E5ECF6",
            "gridcolor": "white",
            "gridwidth": 2,
            "linecolor": "white",
            "showbackground": true,
            "ticks": "",
            "zerolinecolor": "white"
           }
          },
          "shapedefaults": {
           "line": {
            "color": "#2a3f5f"
           }
          },
          "ternary": {
           "aaxis": {
            "gridcolor": "white",
            "linecolor": "white",
            "ticks": ""
           },
           "baxis": {
            "gridcolor": "white",
            "linecolor": "white",
            "ticks": ""
           },
           "bgcolor": "#E5ECF6",
           "caxis": {
            "gridcolor": "white",
            "linecolor": "white",
            "ticks": ""
           }
          },
          "title": {
           "x": 0.05
          },
          "xaxis": {
           "automargin": true,
           "gridcolor": "white",
           "linecolor": "white",
           "ticks": "",
           "title": {
            "standoff": 15
           },
           "zerolinecolor": "white",
           "zerolinewidth": 2
          },
          "yaxis": {
           "automargin": true,
           "gridcolor": "white",
           "linecolor": "white",
           "ticks": "",
           "title": {
            "standoff": 15
           },
           "zerolinecolor": "white",
           "zerolinewidth": 2
          }
         }
        },
        "title": {
         "text": "z = 7.05 + -0.21 * zcr + -0.04 * f0",
         "x": 0.5,
         "xanchor": "center"
        }
       }
      }
     },
     "metadata": {},
     "output_type": "display_data"
    }
   ],
   "source": [
    "if len(dicc_model) == 2:\n",
    "    import plotly.express as px\n",
    "    import plotly.graph_objects as go\n",
    "\n",
    "    # Seleccionamos solo las características seleccionadas en X\n",
    "    X_selected = X[:, selected_features]\n",
    "\n",
    "    # Entrenamos el modelo de regresión con las características seleccionadas\n",
    "    regr_multivar = SVR(kernel='linear')\n",
    "    regr_multivar.fit(X_selected, y)\n",
    "\n",
    "    # Obtenemos las predicciones del modelo para las características seleccionadas\n",
    "    y_pred = regr_multivar.predict(X_selected)\n",
    "\n",
    "    # Crear la figura\n",
    "    fig = px.scatter_3d(x=X_selected[:, 0], y=X_selected[:, 1], z=y)\n",
    "\n",
    "    # Crear el plano de regresión\n",
    "    xx, yy = np.meshgrid(X_selected[:, 0], X_selected[:, 1])\n",
    "    zz = regr_multivar.intercept_ + np.dot(np.array([xx.ravel(), yy.ravel()]).T, regr_multivar.coef_.ravel()).reshape(xx.shape)\n",
    "    fig.add_trace(go.Surface(x=xx, y=yy, z=zz, opacity=0.5))\n",
    "\n",
    "    # Construir la cadena de texto para la ecuación del plano\n",
    "    equation = f'z = {regr_multivar.intercept_[0].round(2)}'\n",
    "    for i, (key, model) in enumerate(dicc_model.items()):\n",
    "        equation += f' + {regr_multivar.coef_[0][i].round(2)} * {key.replace(\"_model\", \"\")}'\n",
    "    \n",
    "    # Centrar el título\n",
    "    fig.update_layout(title=dict(text=equation, x=0.5, xanchor='center'))\n",
    "\n",
    "    # Etiquetas de los ejes y rango del eje z\n",
    "    fig.update_layout(scene=dict(xaxis_title=list(dicc_model.keys())[0].replace(\"_model\", \"\"), yaxis_title=list(dicc_model.keys())[1].replace(\"_model\", \"\"), zaxis_title='Acentuación', zaxis=dict(range=[0, 6])))\n",
    "\n",
    "    fig.write_html(os.path.join(PATH, TEST_FOLDER, REGGRESSION_FOLDER, NO_PARAMETRIC_FOLDER, ACENTUACION_FOLDER, MALE_FOLDER, 'regresion_acentuacion_multivariable_male.html'))\n",
    "\n",
    "    fig.show()\n"
   ]
  },
  {
   "attachments": {},
   "cell_type": "markdown",
   "id": "aed96fb8",
   "metadata": {
    "papermill": {
     "duration": 0.099476,
     "end_time": "2023-06-11T01:39:34.540345",
     "exception": false,
     "start_time": "2023-06-11T01:39:34.440869",
     "status": "completed"
    },
    "tags": []
   },
   "source": [
    "#### Femenino"
   ]
  },
  {
   "cell_type": "code",
   "execution_count": 51,
   "id": "4d40234e",
   "metadata": {
    "execution": {
     "iopub.execute_input": "2023-06-11T01:39:34.740368Z",
     "iopub.status.busy": "2023-06-11T01:39:34.740368Z",
     "iopub.status.idle": "2023-06-11T01:39:34.755994Z",
     "shell.execute_reply": "2023-06-11T01:39:34.755994Z"
    },
    "papermill": {
     "duration": 0.116826,
     "end_time": "2023-06-11T01:39:34.755994",
     "exception": false,
     "start_time": "2023-06-11T01:39:34.639168",
     "status": "completed"
    },
    "tags": []
   },
   "outputs": [],
   "source": [
    "mask_gender = df_acentuacion.genero == 'femenino'\n",
    "\n",
    "df_acentuacion_female = df_acentuacion[mask_gender].drop(columns=['genero'])"
   ]
  },
  {
   "cell_type": "code",
   "execution_count": 52,
   "id": "8d8faced",
   "metadata": {
    "execution": {
     "iopub.execute_input": "2023-06-11T01:39:35.004661Z",
     "iopub.status.busy": "2023-06-11T01:39:35.004661Z",
     "iopub.status.idle": "2023-06-11T01:39:35.332231Z",
     "shell.execute_reply": "2023-06-11T01:39:35.300937Z"
    },
    "papermill": {
     "duration": 0.479287,
     "end_time": "2023-06-11T01:39:35.332231",
     "exception": false,
     "start_time": "2023-06-11T01:39:34.852944",
     "status": "completed"
    },
    "tags": []
   },
   "outputs": [
    {
     "name": "stdout",
     "output_type": "stream",
     "text": [
      "Características seleccionadas: (1, 2)\n"
     ]
    }
   ],
   "source": [
    "# Cargamos los datos\n",
    "X = np.array(df_acentuacion_female.drop(columns=['Acentuacion'])) # df_objetivos es el DataFrame con los parámetros objetivos\n",
    "y = np.array(df_acentuacion_female.Acentuacion) # df_subjetivos es el DataFrame con los parámetros subjetivos\n",
    "\n",
    "# Creamos el modelo de regresión kNN\n",
    "regr_multivar = SVR(kernel='linear')\n",
    "\n",
    "# Creamos el selector de características hacia adelante\n",
    "forward_selector = SequentialFeatureSelector(regr_multivar, k_features='best', forward=True, scoring='neg_mean_squared_error')\n",
    "\n",
    "# Entrenamos el selector de características\n",
    "forward_selector.fit(X, y)\n",
    "\n",
    "# Obtenemos las características seleccionadas\n",
    "selected_features = forward_selector.k_feature_idx_\n",
    "\n",
    "# Imprimimos las características seleccionadas\n",
    "print('Características seleccionadas:', selected_features)\n"
   ]
  },
  {
   "cell_type": "code",
   "execution_count": 53,
   "id": "9e9c8d0a",
   "metadata": {
    "execution": {
     "iopub.execute_input": "2023-06-11T01:39:35.571966Z",
     "iopub.status.busy": "2023-06-11T01:39:35.571966Z",
     "iopub.status.idle": "2023-06-11T01:39:55.006278Z",
     "shell.execute_reply": "2023-06-11T01:39:55.006278Z"
    },
    "papermill": {
     "duration": 19.54909,
     "end_time": "2023-06-11T01:39:55.006278",
     "exception": false,
     "start_time": "2023-06-11T01:39:35.457188",
     "status": "completed"
    },
    "tags": []
   },
   "outputs": [
    {
     "name": "stdout",
     "output_type": "stream",
     "text": [
      "ZCR p-valor: 0.5534465534465535\n",
      "RMS p-valor: 0.04895104895104895\n",
      "f0 p-valor: 0.3836163836163836\n"
     ]
    }
   ],
   "source": [
    "# Establecemos la semilla aleatoria para reproducibilidad\n",
    "random_state = check_random_state(0)\n",
    "\n",
    "p_values = []\n",
    "\n",
    "for i in range(X.shape[1]):\n",
    "    \n",
    "    # Seleccionamos solo una columna en X\n",
    "    X_single = X[:, i].reshape(-1, 1)\n",
    "    \n",
    "    # Aplicamos la prueba de permutación\n",
    "    score, permutation_scores, pvalue = permutation_test_score(regr_multivar, X_single, y, scoring='neg_mean_squared_error', cv=5, n_permutations=1000, random_state=random_state)\n",
    "    \n",
    "    p_values.append(pvalue)\n",
    "\n",
    "    # Imprimimos el p-valor\n",
    "    if i == 0:\n",
    "        var = 'ZCR'\n",
    "    elif i == 1:\n",
    "        var = 'RMS'\n",
    "    else:\n",
    "        var = 'f0'\n",
    "    dicc_p_value[var].append(pvalue)\n",
    "    print(f'{var} p-valor:', pvalue)\n",
    "\n",
    "dicc_p_value['subjetive_parameter'].append('Acentuación')\n",
    "dicc_p_value['genero'].append('femenino')\n"
   ]
  },
  {
   "cell_type": "code",
   "execution_count": 54,
   "id": "c3e0667b",
   "metadata": {
    "execution": {
     "iopub.execute_input": "2023-06-11T01:39:55.204544Z",
     "iopub.status.busy": "2023-06-11T01:39:55.203544Z",
     "iopub.status.idle": "2023-06-11T01:39:55.229608Z",
     "shell.execute_reply": "2023-06-11T01:39:55.227700Z"
    },
    "papermill": {
     "duration": 0.131106,
     "end_time": "2023-06-11T01:39:55.232652",
     "exception": false,
     "start_time": "2023-06-11T01:39:55.101546",
     "status": "completed"
    },
    "tags": []
   },
   "outputs": [],
   "source": [
    "# Dicc auxiliar con los nombres asociadas a las variables\n",
    "dicc_names_features = {\n",
    "    'zcr_model': 0,\n",
    "    'rms_model': 1,\n",
    "    'f0_model': 2\n",
    "}\n",
    "\n",
    "# Dicc de los modelos\n",
    "dicc_model = {}\n",
    "\n",
    "# Dicc de las predicciones\n",
    "dicc_pred = {}\n",
    "\n",
    "for selected_feature in selected_features:\n",
    "    # Entrenamos el modelo de regresión con las características seleccionadas\n",
    "    regr_multivar = SVR(kernel='linear')\n",
    "    regr_multivar.fit(X[:, selected_feature].reshape(-1, 1), y.ravel())\n",
    "\n",
    "    # Almacenamos en dicc_model la clave asociada al modelo que se entrenó y el objeto modelo\n",
    "    for key, value in dicc_names_features.items():\n",
    "        if value == selected_feature:\n",
    "            dicc_model[key] = regr_multivar\n",
    "\n",
    "    # Obtenemos las predicciones del modelo para las características seleccionadas\n",
    "    y_pred = regr_multivar.predict(X[:, selected_feature].reshape(-1, 1))\n",
    "\n",
    "    # Almacenamos en dicc_pred la clave asociada al modelo que se entrenó y la predicción\n",
    "    for key, value in dicc_names_features.items():\n",
    "        if value == selected_feature:\n",
    "            dicc_pred[key] = y_pred\n"
   ]
  },
  {
   "cell_type": "code",
   "execution_count": 55,
   "id": "ba02adb5",
   "metadata": {
    "execution": {
     "iopub.execute_input": "2023-06-11T01:39:55.417533Z",
     "iopub.status.busy": "2023-06-11T01:39:55.417533Z",
     "iopub.status.idle": "2023-06-11T01:39:55.435209Z",
     "shell.execute_reply": "2023-06-11T01:39:55.433260Z"
    },
    "papermill": {
     "duration": 0.114409,
     "end_time": "2023-06-11T01:39:55.438231",
     "exception": false,
     "start_time": "2023-06-11T01:39:55.323822",
     "status": "completed"
    },
    "tags": []
   },
   "outputs": [
    {
     "name": "stdout",
     "output_type": "stream",
     "text": [
      "y = 0.17 * RMS + 8.83 - p-valor = 0.049\n",
      "y = -0.02 * $f_{0}$ + 6.30 - p-valor = 0.384\n"
     ]
    }
   ],
   "source": [
    "list_equ = []\n",
    "\n",
    "for key, model in dicc_model.items():\n",
    "    # Obtenemos los valores de w y b\n",
    "    w = model.coef_[0][0]\n",
    "    b = model.intercept_[0]\n",
    "    \n",
    "    label = key.replace(\"_model\", \"\")\n",
    "    if label == 'f0':\n",
    "        label = r'$f_{0}$'\n",
    "    else:\n",
    "        label = label.upper()\n",
    "\n",
    "    # Construimos la cadena de texto para la ecuación del hiperplano y su p-valor\n",
    "    equation = f'y = {w:.2f} * {label} + {b:.2f} - p-valor = {p_values[dicc_names_features[key]]:.3f}'\n",
    "\n",
    "    # Agregamos la cadena a la lista\n",
    "    list_equ.append(equation)\n",
    "\n",
    "# Mostramos el resultado\n",
    "for equ in list_equ:\n",
    "    print(equ)\n"
   ]
  },
  {
   "cell_type": "code",
   "execution_count": 56,
   "id": "0b6cab5d",
   "metadata": {
    "execution": {
     "iopub.execute_input": "2023-06-11T01:39:55.633240Z",
     "iopub.status.busy": "2023-06-11T01:39:55.633240Z",
     "iopub.status.idle": "2023-06-11T01:39:56.460115Z",
     "shell.execute_reply": "2023-06-11T01:39:56.460115Z"
    },
    "papermill": {
     "duration": 0.92063,
     "end_time": "2023-06-11T01:39:56.460115",
     "exception": false,
     "start_time": "2023-06-11T01:39:55.539485",
     "status": "completed"
    },
    "tags": []
   },
   "outputs": [
    {
     "data": {
      "image/png": "[encoded data removed]",
      "text/plain": [
       "<Figure size 1200x400 with 2 Axes>"
      ]
     },
     "metadata": {},
     "output_type": "display_data"
    }
   ],
   "source": [
    "dims = (6 * len(dicc_model), 4)\n",
    "fig, ax = plt.subplots(figsize=dims, ncols=len(dicc_model))\n",
    "\n",
    "with sns.axes_style('darkgrid'):\n",
    "    for i, (key, model) in enumerate(dicc_model.items()):\n",
    "        if isinstance(ax, np.ndarray):\n",
    "            ax_i = ax[i]\n",
    "        else:\n",
    "            ax_i = ax\n",
    "        label = key.replace(\"_model\", \"\")\n",
    "        if label == 'f0':\n",
    "            label = r'$f_{0}$'\n",
    "        else:\n",
    "            label = label.upper()\n",
    "        g = sns.scatterplot(x=X[:, dicc_names_features[key]], y=y, ax=ax_i, color='blue')\n",
    "        g = sns.lineplot(x=X[:, dicc_names_features[key]], y=dicc_pred[key], ax=ax_i, color='red')\n",
    "        g.text(0.5, -0.1, label, weight='bold', size='large', family='Arial', stretch='extra-expanded', ha='center', va='top', transform=g.transAxes)\n",
    "        g.set_ylabel('Acentuación', weight='bold', size='large', alpha=0.8, family='Arial', stretch='extra-expanded')\n",
    "        g.set_title(list_equ[i], weight='bold', size='x-large', alpha=0.8, family='Arial', stretch='extra-expanded')\n",
    "        g.grid(alpha=0.7)\n",
    "        ax_i.set_ylim(0, 6)\n",
    "\n",
    "    plt.tight_layout()\n",
    "    plt.savefig(os.path.join(PATH, TEST_FOLDER, REGGRESSION_FOLDER, NO_PARAMETRIC_FOLDER, ACENTUACION_FOLDER, FEMALE_FOLDER, 'regresiones_acentuacion_female.png'))\n",
    "    plt.show()\n"
   ]
  },
  {
   "cell_type": "code",
   "execution_count": 57,
   "id": "87975b39",
   "metadata": {
    "execution": {
     "iopub.execute_input": "2023-06-11T01:39:56.642090Z",
     "iopub.status.busy": "2023-06-11T01:39:56.642090Z",
     "iopub.status.idle": "2023-06-11T01:39:56.767298Z",
     "shell.execute_reply": "2023-06-11T01:39:56.767298Z"
    },
    "papermill": {
     "duration": 0.211526,
     "end_time": "2023-06-11T01:39:56.767298",
     "exception": false,
     "start_time": "2023-06-11T01:39:56.555772",
     "status": "completed"
    },
    "tags": []
   },
   "outputs": [
    {
     "data": {
      "application/vnd.plotly.v1+json": {
       "config": {
        "plotlyServerURL": "https://plot.ly"
       },
       "data": [
        {
         "hovertemplate": "x=%{x}<br>y=%{y}<br>z=%{z}<extra></extra>",
         "legendgroup": "",
         "marker": {
          "color": "#636efa",
          "symbol": "circle"
         },
         "mode": "markers",
         "name": "",
         "scene": "scene",
         "showlegend": false,
         "type": "scatter3d",
         "x": [
          -27.5,
          -26.1,
          -27,
          -30,
          -29,
          -28.5,
          -25.5,
          -26.5,
          -29.5,
          -28
         ],
         "y": [
          111.111716480441,
          116.353345265724,
          101.312090449968,
          101.534873965827,
          117.741416962869,
          119.577565453938,
          100.992252773665,
          117.898565521619,
          102.269338478718,
          94.7081174667994
         ],
         "z": [
          4.551020408163265,
          4.244897959183674,
          4.224489795918367,
          3.673469387755102,
          2.959183673469388,
          4.040816326530612,
          4.63265306122449,
          3.836734693877551,
          4.061224489795919,
          4.530612244897959
         ]
        },
        {
         "opacity": 0.5,
         "type": "surface",
         "x": [
          [
           -27.5,
           -26.1,
           -27,
           -30,
           -29,
           -28.5,
           -25.5,
           -26.5,
           -29.5,
           -28
          ],
          [
           -27.5,
           -26.1,
           -27,
           -30,
           -29,
           -28.5,
           -25.5,
           -26.5,
           -29.5,
           -28
          ],
          [
           -27.5,
           -26.1,
           -27,
           -30,
           -29,
           -28.5,
           -25.5,
           -26.5,
           -29.5,
           -28
          ],
          [
           -27.5,
           -26.1,
           -27,
           -30,
           -29,
           -28.5,
           -25.5,
           -26.5,
           -29.5,
           -28
          ],
          [
           -27.5,
           -26.1,
           -27,
           -30,
           -29,
           -28.5,
           -25.5,
           -26.5,
           -29.5,
           -28
          ],
          [
           -27.5,
           -26.1,
           -27,
           -30,
           -29,
           -28.5,
           -25.5,
           -26.5,
           -29.5,
           -28
          ],
          [
           -27.5,
           -26.1,
           -27,
           -30,
           -29,
           -28.5,
           -25.5,
           -26.5,
           -29.5,
           -28
          ],
          [
           -27.5,
           -26.1,
           -27,
           -30,
           -29,
           -28.5,
           -25.5,
           -26.5,
           -29.5,
           -28
          ],
          [
           -27.5,
           -26.1,
           -27,
           -30,
           -29,
           -28.5,
           -25.5,
           -26.5,
           -29.5,
           -28
          ],
          [
           -27.5,
           -26.1,
           -27,
           -30,
           -29,
           -28.5,
           -25.5,
           -26.5,
           -29.5,
           -28
          ]
         ],
         "y": [
          [
           111.111716480441,
           111.111716480441,
           111.111716480441,
           111.111716480441,
           111.111716480441,
           111.111716480441,
           111.111716480441,
           111.111716480441,
           111.111716480441,
           111.111716480441
          ],
          [
           116.353345265724,
           116.353345265724,
           116.353345265724,
           116.353345265724,
           116.353345265724,
           116.353345265724,
           116.353345265724,
           116.353345265724,
           116.353345265724,
           116.353345265724
          ],
          [
           101.312090449968,
           101.312090449968,
           101.312090449968,
           101.312090449968,
           101.312090449968,
           101.312090449968,
           101.312090449968,
           101.312090449968,
           101.312090449968,
           101.312090449968
          ],
          [
           101.534873965827,
           101.534873965827,
           101.534873965827,
           101.534873965827,
           101.534873965827,
           101.534873965827,
           101.534873965827,
           101.534873965827,
           101.534873965827,
           101.534873965827
          ],
          [
           117.741416962869,
           117.741416962869,
           117.741416962869,
           117.741416962869,
           117.741416962869,
           117.741416962869,
           117.741416962869,
           117.741416962869,
           117.741416962869,
           117.741416962869
          ],
          [
           119.577565453938,
           119.577565453938,
           119.577565453938,
           119.577565453938,
           119.577565453938,
           119.577565453938,
           119.577565453938,
           119.577565453938,
           119.577565453938,
           119.577565453938
          ],
          [
           100.992252773665,
           100.992252773665,
           100.992252773665,
           100.992252773665,
           100.992252773665,
           100.992252773665,
           100.992252773665,
           100.992252773665,
           100.992252773665,
           100.992252773665
          ],
          [
           117.898565521619,
           117.898565521619,
           117.898565521619,
           117.898565521619,
           117.898565521619,
           117.898565521619,
           117.898565521619,
           117.898565521619,
           117.898565521619,
           117.898565521619
          ],
          [
           102.269338478718,
           102.269338478718,
           102.269338478718,
           102.269338478718,
           102.269338478718,
           102.269338478718,
           102.269338478718,
           102.269338478718,
           102.269338478718,
           102.269338478718
          ],
          [
           94.7081174667994,
           94.7081174667994,
           94.7081174667994,
           94.7081174667994,
           94.7081174667994,
           94.7081174667994,
           94.7081174667994,
           94.7081174667994,
           94.7081174667994,
           94.7081174667994
          ]
         ],
         "z": [
          [
           4.053488211109087,
           4.2931945837411805,
           4.139097629906264,
           3.6254411171232057,
           3.7966599547175583,
           3.8822693735147347,
           4.395925886297793,
           4.22470704870344,
           3.711050535920382,
           3.967878792311911
          ],
          [
           3.9054341630206606,
           4.145140535652754,
           3.991043581817837,
           3.47738706903478,
           3.6486059066291325,
           3.734215325426309,
           4.247871838209366,
           4.076653000615013,
           3.562996487831956,
           3.819824744223485
          ],
          [
           4.330286581042854,
           4.569992953674948,
           4.41589599984003,
           3.9022394870569723,
           4.073458324651325,
           4.159067743448501,
           4.672724256231559,
           4.5015054186372065,
           3.9878489058541486,
           4.244677162245678
          ],
          [
           4.323993880296303,
           4.563700252928395,
           4.4096032990934795,
           3.8959467863104216,
           4.067165623904774,
           4.1527750427019505,
           4.666431555485008,
           4.495212717890656,
           3.981556205107598,
           4.238384461499127
          ],
          [
           3.866226954304107,
           4.105933326936199,
           3.9518363731012833,
           3.4381798603182254,
           3.609398697912578,
           3.6950081167097544,
           4.208664629492812,
           4.03744579189846,
           3.5237892791154017,
           3.7806175355069307
          ],
          [
           3.814363453829312,
           4.054069826461404,
           3.8999728726264884,
           3.3863163598434305,
           3.557535197437783,
           3.6431446162349594,
           4.156801129018017,
           3.9855822914236647,
           3.471925778640607,
           3.7287540350321358
          ],
          [
           4.339320655115557,
           4.5790270277476495,
           4.4249300739127335,
           3.9112735611296756,
           4.082492398724028,
           4.168101817521205,
           4.6817583303042625,
           4.51053949270991,
           3.996882979926852,
           4.253711236318381
          ],
          [
           3.8617881660519657,
           4.101494538684058,
           3.947397584849142,
           3.433741072066084,
           3.604959909660437,
           3.690569328457613,
           4.204225841240671,
           4.033007003646318,
           3.5193504908632605,
           3.7761787472547894
          ],
          [
           4.3032483355877345,
           4.542954708219828,
           4.388857754384911,
           3.8752012416018538,
           4.0464200791962055,
           4.132029497993382,
           4.64568601077644,
           4.474467173182087,
           3.960810660399029,
           4.217638916790558
          ],
          [
           4.516821143805091,
           4.756527516437183,
           4.602430562602267,
           4.088774049819209,
           4.259992887413562,
           4.345602306210738,
           4.859258818993796,
           4.688039981399443,
           4.174383468616385,
           4.431211725007914
          ]
         ]
        }
       ],
       "layout": {
        "legend": {
         "tracegroupgap": 0
        },
        "margin": {
         "t": 60
        },
        "scene": {
         "domain": {
          "x": [
           0,
           1
          ],
          "y": [
           0,
           1
          ]
         },
         "xaxis": {
          "title": {
           "text": "rms"
          }
         },
         "yaxis": {
          "tickvals": [
           100,
           105,
           110,
           115
          ],
          "title": {
           "text": "f0"
          }
         },
         "zaxis": {
          "range": [
           0,
           6
          ],
          "title": {
           "text": "Acentuación"
          }
         }
        },
        "template": {
         "data": {
          "bar": [
           {
            "error_x": {
             "color": "#2a3f5f"
            },
            "error_y": {
             "color": "#2a3f5f"
            },
            "marker": {
             "line": {
              "color": "#E5ECF6",
              "width": 0.5
             },
             "pattern": {
              "fillmode": "overlay",
              "size": 10,
              "solidity": 0.2
             }
            },
            "type": "bar"
           }
          ],
          "barpolar": [
           {
            "marker": {
             "line": {
              "color": "#E5ECF6",
              "width": 0.5
             },
             "pattern": {
              "fillmode": "overlay",
              "size": 10,
              "solidity": 0.2
             }
            },
            "type": "barpolar"
           }
          ],
          "carpet": [
           {
            "aaxis": {
             "endlinecolor": "#2a3f5f",
             "gridcolor": "white",
             "linecolor": "white",
             "minorgridcolor": "white",
             "startlinecolor": "#2a3f5f"
            },
            "baxis": {
             "endlinecolor": "#2a3f5f",
             "gridcolor": "white",
             "linecolor": "white",
             "minorgridcolor": "white",
             "startlinecolor": "#2a3f5f"
            },
            "type": "carpet"
           }
          ],
          "choropleth": [
           {
            "colorbar": {
             "outlinewidth": 0,
             "ticks": ""
            },
            "type": "choropleth"
           }
          ],
          "contour": [
           {
            "colorbar": {
             "outlinewidth": 0,
             "ticks": ""
            },
            "colorscale": [
             [
              0,
              "#0d0887"
             ],
             [
              0.1111111111111111,
              "#46039f"
             ],
             [
              0.2222222222222222,
              "#7201a8"
             ],
             [
              0.3333333333333333,
              "#9c179e"
             ],
             [
              0.4444444444444444,
              "#bd3786"
             ],
             [
              0.5555555555555556,
              "#d8576b"
             ],
             [
              0.6666666666666666,
              "#ed7953"
             ],
             [
              0.7777777777777778,
              "#fb9f3a"
             ],
             [
              0.8888888888888888,
              "#fdca26"
             ],
             [
              1,
              "#f0f921"
             ]
            ],
            "type": "contour"
           }
          ],
          "contourcarpet": [
           {
            "colorbar": {
             "outlinewidth": 0,
             "ticks": ""
            },
            "type": "contourcarpet"
           }
          ],
          "heatmap": [
           {
            "colorbar": {
             "outlinewidth": 0,
             "ticks": ""
            },
            "colorscale": [
             [
              0,
              "#0d0887"
             ],
             [
              0.1111111111111111,
              "#46039f"
             ],
             [
              0.2222222222222222,
              "#7201a8"
             ],
             [
              0.3333333333333333,
              "#9c179e"
             ],
             [
              0.4444444444444444,
              "#bd3786"
             ],
             [
              0.5555555555555556,
              "#d8576b"
             ],
             [
              0.6666666666666666,
              "#ed7953"
             ],
             [
              0.7777777777777778,
              "#fb9f3a"
             ],
             [
              0.8888888888888888,
              "#fdca26"
             ],
             [
              1,
              "#f0f921"
             ]
            ],
            "type": "heatmap"
           }
          ],
          "heatmapgl": [
           {
            "colorbar": {
             "outlinewidth": 0,
             "ticks": ""
            },
            "colorscale": [
             [
              0,
              "#0d0887"
             ],
             [
              0.1111111111111111,
              "#46039f"
             ],
             [
              0.2222222222222222,
              "#7201a8"
             ],
             [
              0.3333333333333333,
              "#9c179e"
             ],
             [
              0.4444444444444444,
              "#bd3786"
             ],
             [
              0.5555555555555556,
              "#d8576b"
             ],
             [
              0.6666666666666666,
              "#ed7953"
             ],
             [
              0.7777777777777778,
              "#fb9f3a"
             ],
             [
              0.8888888888888888,
              "#fdca26"
             ],
             [
              1,
              "#f0f921"
             ]
            ],
            "type": "heatmapgl"
           }
          ],
          "histogram": [
           {
            "marker": {
             "pattern": {
              "fillmode": "overlay",
              "size": 10,
              "solidity": 0.2
             }
            },
            "type": "histogram"
           }
          ],
          "histogram2d": [
           {
            "colorbar": {
             "outlinewidth": 0,
             "ticks": ""
            },
            "colorscale": [
             [
              0,
              "#0d0887"
             ],
             [
              0.1111111111111111,
              "#46039f"
             ],
             [
              0.2222222222222222,
              "#7201a8"
             ],
             [
              0.3333333333333333,
              "#9c179e"
             ],
             [
              0.4444444444444444,
              "#bd3786"
             ],
             [
              0.5555555555555556,
              "#d8576b"
             ],
             [
              0.6666666666666666,
              "#ed7953"
             ],
             [
              0.7777777777777778,
              "#fb9f3a"
             ],
             [
              0.8888888888888888,
              "#fdca26"
             ],
             [
              1,
              "#f0f921"
             ]
            ],
            "type": "histogram2d"
           }
          ],
          "histogram2dcontour": [
           {
            "colorbar": {
             "outlinewidth": 0,
             "ticks": ""
            },
            "colorscale": [
             [
              0,
              "#0d0887"
             ],
             [
              0.1111111111111111,
              "#46039f"
             ],
             [
              0.2222222222222222,
              "#7201a8"
             ],
             [
              0.3333333333333333,
              "#9c179e"
             ],
             [
              0.4444444444444444,
              "#bd3786"
             ],
             [
              0.5555555555555556,
              "#d8576b"
             ],
             [
              0.6666666666666666,
              "#ed7953"
             ],
             [
              0.7777777777777778,
              "#fb9f3a"
             ],
             [
              0.8888888888888888,
              "#fdca26"
             ],
             [
              1,
              "#f0f921"
             ]
            ],
            "type": "histogram2dcontour"
           }
          ],
          "mesh3d": [
           {
            "colorbar": {
             "outlinewidth": 0,
             "ticks": ""
            },
            "type": "mesh3d"
           }
          ],
          "parcoords": [
           {
            "line": {
             "colorbar": {
              "outlinewidth": 0,
              "ticks": ""
             }
            },
            "type": "parcoords"
           }
          ],
          "pie": [
           {
            "automargin": true,
            "type": "pie"
           }
          ],
          "scatter": [
           {
            "fillpattern": {
             "fillmode": "overlay",
             "size": 10,
             "solidity": 0.2
            },
            "type": "scatter"
           }
          ],
          "scatter3d": [
           {
            "line": {
             "colorbar": {
              "outlinewidth": 0,
              "ticks": ""
             }
            },
            "marker": {
             "colorbar": {
              "outlinewidth": 0,
              "ticks": ""
             }
            },
            "type": "scatter3d"
           }
          ],
          "scattercarpet": [
           {
            "marker": {
             "colorbar": {
              "outlinewidth": 0,
              "ticks": ""
             }
            },
            "type": "scattercarpet"
           }
          ],
          "scattergeo": [
           {
            "marker": {
             "colorbar": {
              "outlinewidth": 0,
              "ticks": ""
             }
            },
            "type": "scattergeo"
           }
          ],
          "scattergl": [
           {
            "marker": {
             "colorbar": {
              "outlinewidth": 0,
              "ticks": ""
             }
            },
            "type": "scattergl"
           }
          ],
          "scattermapbox": [
           {
            "marker": {
             "colorbar": {
              "outlinewidth": 0,
              "ticks": ""
             }
            },
            "type": "scattermapbox"
           }
          ],
          "scatterpolar": [
           {
            "marker": {
             "colorbar": {
              "outlinewidth": 0,
              "ticks": ""
             }
            },
            "type": "scatterpolar"
           }
          ],
          "scatterpolargl": [
           {
            "marker": {
             "colorbar": {
              "outlinewidth": 0,
              "ticks": ""
             }
            },
            "type": "scatterpolargl"
           }
          ],
          "scatterternary": [
           {
            "marker": {
             "colorbar": {
              "outlinewidth": 0,
              "ticks": ""
             }
            },
            "type": "scatterternary"
           }
          ],
          "surface": [
           {
            "colorbar": {
             "outlinewidth": 0,
             "ticks": ""
            },
            "colorscale": [
             [
              0,
              "#0d0887"
             ],
             [
              0.1111111111111111,
              "#46039f"
             ],
             [
              0.2222222222222222,
              "#7201a8"
             ],
             [
              0.3333333333333333,
              "#9c179e"
             ],
             [
              0.4444444444444444,
              "#bd3786"
             ],
             [
              0.5555555555555556,
              "#d8576b"
             ],
             [
              0.6666666666666666,
              "#ed7953"
             ],
             [
              0.7777777777777778,
              "#fb9f3a"
             ],
             [
              0.8888888888888888,
              "#fdca26"
             ],
             [
              1,
              "#f0f921"
             ]
            ],
            "type": "surface"
           }
          ],
          "table": [
           {
            "cells": {
             "fill": {
              "color": "#EBF0F8"
             },
             "line": {
              "color": "white"
             }
            },
            "header": {
             "fill": {
              "color": "#C8D4E3"
             },
             "line": {
              "color": "white"
             }
            },
            "type": "table"
           }
          ]
         },
         "layout": {
          "annotationdefaults": {
           "arrowcolor": "#2a3f5f",
           "arrowhead": 0,
           "arrowwidth": 1
          },
          "autotypenumbers": "strict",
          "coloraxis": {
           "colorbar": {
            "outlinewidth": 0,
            "ticks": ""
           }
          },
          "colorscale": {
           "diverging": [
            [
             0,
             "#8e0152"
            ],
            [
             0.1,
             "#c51b7d"
            ],
            [
             0.2,
             "#de77ae"
            ],
            [
             0.3,
             "#f1b6da"
            ],
            [
             0.4,
             "#fde0ef"
            ],
            [
             0.5,
             "#f7f7f7"
            ],
            [
             0.6,
             "#e6f5d0"
            ],
            [
             0.7,
             "#b8e186"
            ],
            [
             0.8,
             "#7fbc41"
            ],
            [
             0.9,
             "#4d9221"
            ],
            [
             1,
             "#276419"
            ]
           ],
           "sequential": [
            [
             0,
             "#0d0887"
            ],
            [
             0.1111111111111111,
             "#46039f"
            ],
            [
             0.2222222222222222,
             "#7201a8"
            ],
            [
             0.3333333333333333,
             "#9c179e"
            ],
            [
             0.4444444444444444,
             "#bd3786"
            ],
            [
             0.5555555555555556,
             "#d8576b"
            ],
            [
             0.6666666666666666,
             "#ed7953"
            ],
            [
             0.7777777777777778,
             "#fb9f3a"
            ],
            [
             0.8888888888888888,
             "#fdca26"
            ],
            [
             1,
             "#f0f921"
            ]
           ],
           "sequentialminus": [
            [
             0,
             "#0d0887"
            ],
            [
             0.1111111111111111,
             "#46039f"
            ],
            [
             0.2222222222222222,
             "#7201a8"
            ],
            [
             0.3333333333333333,
             "#9c179e"
            ],
            [
             0.4444444444444444,
             "#bd3786"
            ],
            [
             0.5555555555555556,
             "#d8576b"
            ],
            [
             0.6666666666666666,
             "#ed7953"
            ],
            [
             0.7777777777777778,
             "#fb9f3a"
            ],
            [
             0.8888888888888888,
             "#fdca26"
            ],
            [
             1,
             "#f0f921"
            ]
           ]
          },
          "colorway": [
           "#636efa",
           "#EF553B",
           "#00cc96",
           "#ab63fa",
           "#FFA15A",
           "#19d3f3",
           "#FF6692",
           "#B6E880",
           "#FF97FF",
           "#FECB52"
          ],
          "font": {
           "color": "#2a3f5f"
          },
          "geo": {
           "bgcolor": "white",
           "lakecolor": "white",
           "landcolor": "#E5ECF6",
           "showlakes": true,
           "showland": true,
           "subunitcolor": "white"
          },
          "hoverlabel": {
           "align": "left"
          },
          "hovermode": "closest",
          "mapbox": {
           "style": "light"
          },
          "paper_bgcolor": "white",
          "plot_bgcolor": "#E5ECF6",
          "polar": {
           "angularaxis": {
            "gridcolor": "white",
            "linecolor": "white",
            "ticks": ""
           },
           "bgcolor": "#E5ECF6",
           "radialaxis": {
            "gridcolor": "white",
            "linecolor": "white",
            "ticks": ""
           }
          },
          "scene": {
           "xaxis": {
            "backgroundcolor": "#E5ECF6",
            "gridcolor": "white",
            "gridwidth": 2,
            "linecolor": "white",
            "showbackground": true,
            "ticks": "",
            "zerolinecolor": "white"
           },
           "yaxis": {
            "backgroundcolor": "#E5ECF6",
            "gridcolor": "white",
            "gridwidth": 2,
            "linecolor": "white",
            "showbackground": true,
            "ticks": "",
            "zerolinecolor": "white"
           },
           "zaxis": {
            "backgroundcolor": "#E5ECF6",
            "gridcolor": "white",
            "gridwidth": 2,
            "linecolor": "white",
            "showbackground": true,
            "ticks": "",
            "zerolinecolor": "white"
           }
          },
          "shapedefaults": {
           "line": {
            "color": "#2a3f5f"
           }
          },
          "ternary": {
           "aaxis": {
            "gridcolor": "white",
            "linecolor": "white",
            "ticks": ""
           },
           "baxis": {
            "gridcolor": "white",
            "linecolor": "white",
            "ticks": ""
           },
           "bgcolor": "#E5ECF6",
           "caxis": {
            "gridcolor": "white",
            "linecolor": "white",
            "ticks": ""
           }
          },
          "title": {
           "x": 0.05
          },
          "xaxis": {
           "automargin": true,
           "gridcolor": "white",
           "linecolor": "white",
           "ticks": "",
           "title": {
            "standoff": 15
           },
           "zerolinecolor": "white",
           "zerolinewidth": 2
          },
          "yaxis": {
           "automargin": true,
           "gridcolor": "white",
           "linecolor": "white",
           "ticks": "",
           "title": {
            "standoff": 15
           },
           "zerolinecolor": "white",
           "zerolinewidth": 2
          }
         }
        },
        "title": {
         "text": "z = 11.9 + 0.17 * rms + -0.03 * f0",
         "x": 0.5,
         "xanchor": "center"
        }
       }
      }
     },
     "metadata": {},
     "output_type": "display_data"
    }
   ],
   "source": [
    "if len(dicc_model) == 2:\n",
    "    import plotly.express as px\n",
    "    import plotly.graph_objects as go\n",
    "\n",
    "    # Seleccionamos solo las características seleccionadas en X\n",
    "    X_selected = X[:, selected_features]\n",
    "\n",
    "    # Entrenamos el modelo de regresión con las características seleccionadas\n",
    "    regr_multivar = SVR(kernel='linear')\n",
    "    regr_multivar.fit(X_selected, y)\n",
    "\n",
    "    # Obtenemos las predicciones del modelo para las características seleccionadas\n",
    "    y_pred = regr_multivar.predict(X_selected)\n",
    "\n",
    "    # Crear la figura\n",
    "    fig = px.scatter_3d(x=X_selected[:, 0], y=X_selected[:, 1], z=y)\n",
    "\n",
    "    # Crear el plano de regresión\n",
    "    xx, yy = np.meshgrid(X_selected[:, 0], X_selected[:, 1])\n",
    "    zz = regr_multivar.intercept_ + np.dot(np.array([xx.ravel(), yy.ravel()]).T, regr_multivar.coef_.ravel()).reshape(xx.shape)\n",
    "    fig.add_trace(go.Surface(x=xx, y=yy, z=zz, opacity=0.5))\n",
    "\n",
    "    # Construir la cadena de texto para la ecuación del plano\n",
    "    equation = f'z = {regr_multivar.intercept_[0].round(2)}'\n",
    "    for i, (key, model) in enumerate(dicc_model.items()):\n",
    "        equation += f' + {regr_multivar.coef_[0][i].round(2)} * {key.replace(\"_model\", \"\")}'\n",
    "    \n",
    "    # Centrar el título\n",
    "    fig.update_layout(title=dict(text=equation, x=0.5, xanchor='center'))\n",
    "\n",
    "    # Etiquetas de los ejes y rango del eje z\n",
    "    fig.update_layout(scene=dict(xaxis_title=list(dicc_model.keys())[0].replace(\"_model\", \"\"), yaxis_title=list(dicc_model.keys())[1].replace(\"_model\", \"\"), zaxis_title='Acentuación', zaxis=dict(range=[0, 6]), yaxis=dict(tickvals=[100, 105, 110, 115])))\n",
    "\n",
    "    fig.write_html(os.path.join(PATH, TEST_FOLDER, REGGRESSION_FOLDER, NO_PARAMETRIC_FOLDER, ACENTUACION_FOLDER, FEMALE_FOLDER, 'regresion_acentuacion_multivariable_female.html'))\n",
    "\n",
    "    fig.show()\n"
   ]
  },
  {
   "attachments": {},
   "cell_type": "markdown",
   "id": "9afe24b5",
   "metadata": {
    "papermill": {
     "duration": 0.129846,
     "end_time": "2023-06-11T01:39:56.990706",
     "exception": false,
     "start_time": "2023-06-11T01:39:56.860860",
     "status": "completed"
    },
    "tags": []
   },
   "source": [
    "### Naturalidad"
   ]
  },
  {
   "cell_type": "code",
   "execution_count": 58,
   "id": "240d9c8e",
   "metadata": {
    "execution": {
     "iopub.execute_input": "2023-06-11T01:39:57.219758Z",
     "iopub.status.busy": "2023-06-11T01:39:57.218755Z",
     "iopub.status.idle": "2023-06-11T01:39:57.240450Z",
     "shell.execute_reply": "2023-06-11T01:39:57.240450Z"
    },
    "papermill": {
     "duration": 0.148918,
     "end_time": "2023-06-11T01:39:57.240450",
     "exception": false,
     "start_time": "2023-06-11T01:39:57.091532",
     "status": "completed"
    },
    "tags": []
   },
   "outputs": [],
   "source": [
    "df_naturalidad = df_union.loc[:, ['Naturalidad', 'zcr', 'rms', 'f0', 'genero']]"
   ]
  },
  {
   "attachments": {},
   "cell_type": "markdown",
   "id": "bedcb547",
   "metadata": {
    "papermill": {
     "duration": 0.097517,
     "end_time": "2023-06-11T01:39:57.494187",
     "exception": false,
     "start_time": "2023-06-11T01:39:57.396670",
     "status": "completed"
    },
    "tags": []
   },
   "source": [
    "#### Masculino"
   ]
  },
  {
   "cell_type": "code",
   "execution_count": 59,
   "id": "3dc67f02",
   "metadata": {
    "execution": {
     "iopub.execute_input": "2023-06-11T01:39:57.874157Z",
     "iopub.status.busy": "2023-06-11T01:39:57.874157Z",
     "iopub.status.idle": "2023-06-11T01:39:57.889775Z",
     "shell.execute_reply": "2023-06-11T01:39:57.889775Z"
    },
    "papermill": {
     "duration": 0.231743,
     "end_time": "2023-06-11T01:39:57.889775",
     "exception": false,
     "start_time": "2023-06-11T01:39:57.658032",
     "status": "completed"
    },
    "tags": []
   },
   "outputs": [],
   "source": [
    "mask_gender = df_naturalidad.genero == 'masculino'\n",
    "\n",
    "df_naturalidad_male = df_naturalidad[mask_gender].drop(columns=['genero'])"
   ]
  },
  {
   "cell_type": "code",
   "execution_count": 60,
   "id": "0b3818c3",
   "metadata": {
    "execution": {
     "iopub.execute_input": "2023-06-11T01:39:58.079556Z",
     "iopub.status.busy": "2023-06-11T01:39:58.079556Z",
     "iopub.status.idle": "2023-06-11T01:39:58.158201Z",
     "shell.execute_reply": "2023-06-11T01:39:58.157967Z"
    },
    "papermill": {
     "duration": 0.172364,
     "end_time": "2023-06-11T01:39:58.158201",
     "exception": false,
     "start_time": "2023-06-11T01:39:57.985837",
     "status": "completed"
    },
    "tags": []
   },
   "outputs": [
    {
     "name": "stdout",
     "output_type": "stream",
     "text": [
      "Características seleccionadas: (1,)\n"
     ]
    }
   ],
   "source": [
    "# Cargamos los datos\n",
    "X = np.array(df_naturalidad_male.drop(columns=['Naturalidad'])) # df_objetivos es el DataFrame con los parámetros objetivos\n",
    "y = np.array(df_naturalidad_male.Naturalidad) # df_subjetivos es el DataFrame con los parámetros subjetivos\n",
    "\n",
    "# Creamos el modelo de regresión kNN\n",
    "regr_multivar = SVR(kernel='linear')\n",
    "\n",
    "# Creamos el selector de características hacia adelante\n",
    "forward_selector = SequentialFeatureSelector(regr_multivar, k_features='best', forward=True, scoring='neg_mean_squared_error')\n",
    "\n",
    "# Entrenamos el selector de características\n",
    "forward_selector.fit(X, y)\n",
    "\n",
    "# Obtenemos las características seleccionadas\n",
    "selected_features = forward_selector.k_feature_idx_\n",
    "\n",
    "# Imprimimos las características seleccionadas\n",
    "print('Características seleccionadas:', selected_features)\n"
   ]
  },
  {
   "cell_type": "code",
   "execution_count": 61,
   "id": "b23f4efa",
   "metadata": {
    "execution": {
     "iopub.execute_input": "2023-06-11T01:39:58.342017Z",
     "iopub.status.busy": "2023-06-11T01:39:58.342017Z",
     "iopub.status.idle": "2023-06-11T01:40:17.482495Z",
     "shell.execute_reply": "2023-06-11T01:40:17.481582Z"
    },
    "papermill": {
     "duration": 19.233475,
     "end_time": "2023-06-11T01:40:17.485497",
     "exception": false,
     "start_time": "2023-06-11T01:39:58.252022",
     "status": "completed"
    },
    "tags": []
   },
   "outputs": [
    {
     "name": "stdout",
     "output_type": "stream",
     "text": [
      "ZCR p-valor: 0.014985014985014986\n",
      "RMS p-valor: 0.011988011988011988\n",
      "f0 p-valor: 0.012987012987012988\n"
     ]
    }
   ],
   "source": [
    "# Establecemos la semilla aleatoria para reproducibilidad\n",
    "random_state = check_random_state(0)\n",
    "\n",
    "p_values = []\n",
    "\n",
    "for i in range(X.shape[1]):\n",
    "    \n",
    "    # Seleccionamos solo una columna en X\n",
    "    X_single = X[:, i].reshape(-1, 1)\n",
    "    \n",
    "    # Aplicamos la prueba de permutación\n",
    "    score, permutation_scores, pvalue = permutation_test_score(regr_multivar, X_single, y, scoring='neg_mean_squared_error', cv=5, n_permutations=1000, random_state=random_state)\n",
    "    \n",
    "    p_values.append(pvalue)\n",
    "\n",
    "    # Imprimimos el p-valor\n",
    "    if i == 0:\n",
    "        var = 'ZCR'\n",
    "    elif i == 1:\n",
    "        var = 'RMS'\n",
    "    else:\n",
    "        var = 'f0'\n",
    "    dicc_p_value[var].append(pvalue)\n",
    "    print(f'{var} p-valor:', pvalue)\n",
    "\n",
    "dicc_p_value['subjetive_parameter'].append('Naturalidad')\n",
    "dicc_p_value['genero'].append('masculino')\n"
   ]
  },
  {
   "cell_type": "code",
   "execution_count": 62,
   "id": "6dd1969f",
   "metadata": {
    "execution": {
     "iopub.execute_input": "2023-06-11T01:40:17.691057Z",
     "iopub.status.busy": "2023-06-11T01:40:17.675433Z",
     "iopub.status.idle": "2023-06-11T01:40:17.706883Z",
     "shell.execute_reply": "2023-06-11T01:40:17.706883Z"
    },
    "papermill": {
     "duration": 0.119392,
     "end_time": "2023-06-11T01:40:17.706883",
     "exception": false,
     "start_time": "2023-06-11T01:40:17.587491",
     "status": "completed"
    },
    "tags": []
   },
   "outputs": [],
   "source": [
    "# Dicc auxiliar con los nombres asociadas a las variables\n",
    "dicc_names_features = {\n",
    "    'zcr_model': 0,\n",
    "    'rms_model': 1,\n",
    "    'f0_model': 2\n",
    "}\n",
    "\n",
    "# Dicc de los modelos\n",
    "dicc_model = {}\n",
    "\n",
    "# Dicc de las predicciones\n",
    "dicc_pred = {}\n",
    "\n",
    "for selected_feature in selected_features:\n",
    "    # Entrenamos el modelo de regresión con las características seleccionadas\n",
    "    regr_multivar = SVR(kernel='linear')\n",
    "    regr_multivar.fit(X[:, selected_feature].reshape(-1, 1), y.ravel())\n",
    "\n",
    "    # Almacenamos en dicc_model la clave asociada al modelo que se entrenó y el objeto modelo\n",
    "    for key, value in dicc_names_features.items():\n",
    "        if value == selected_feature:\n",
    "            dicc_model[key] = regr_multivar\n",
    "\n",
    "    # Obtenemos las predicciones del modelo para las características seleccionadas\n",
    "    y_pred = regr_multivar.predict(X[:, selected_feature].reshape(-1, 1))\n",
    "\n",
    "    # Almacenamos en dicc_pred la clave asociada al modelo que se entrenó y la predicción\n",
    "    for key, value in dicc_names_features.items():\n",
    "        if value == selected_feature:\n",
    "            dicc_pred[key] = y_pred\n"
   ]
  },
  {
   "cell_type": "code",
   "execution_count": 63,
   "id": "9a7cb8e5",
   "metadata": {
    "execution": {
     "iopub.execute_input": "2023-06-11T01:40:17.908699Z",
     "iopub.status.busy": "2023-06-11T01:40:17.908699Z",
     "iopub.status.idle": "2023-06-11T01:40:17.924331Z",
     "shell.execute_reply": "2023-06-11T01:40:17.924331Z"
    },
    "papermill": {
     "duration": 0.108657,
     "end_time": "2023-06-11T01:40:17.924331",
     "exception": false,
     "start_time": "2023-06-11T01:40:17.815674",
     "status": "completed"
    },
    "tags": []
   },
   "outputs": [
    {
     "name": "stdout",
     "output_type": "stream",
     "text": [
      "y = 0.43 * RMS + 12.54 - p-valor = 0.012\n"
     ]
    }
   ],
   "source": [
    "list_equ = []\n",
    "\n",
    "for key, model in dicc_model.items():\n",
    "    # Obtenemos los valores de w y b\n",
    "    w = model.coef_[0][0]\n",
    "    b = model.intercept_[0]\n",
    "    \n",
    "    label = key.replace(\"_model\", \"\")\n",
    "    if label == 'f0':\n",
    "        label = r'$f_{0}$'\n",
    "    else:\n",
    "        label = label.upper()\n",
    "\n",
    "    # Construimos la cadena de texto para la ecuación del hiperplano y su p-valor\n",
    "    equation = f'y = {w:.2f} * {label} + {b:.2f} - p-valor = {p_values[dicc_names_features[key]]:.3f}'\n",
    "\n",
    "    # Agregamos la cadena a la lista\n",
    "    list_equ.append(equation)\n",
    "\n",
    "# Mostramos el resultado\n",
    "for equ in list_equ:\n",
    "    print(equ)\n"
   ]
  },
  {
   "cell_type": "code",
   "execution_count": 64,
   "id": "31b4d1c2",
   "metadata": {
    "execution": {
     "iopub.execute_input": "2023-06-11T01:40:18.127457Z",
     "iopub.status.busy": "2023-06-11T01:40:18.127457Z",
     "iopub.status.idle": "2023-06-11T01:40:18.965351Z",
     "shell.execute_reply": "2023-06-11T01:40:18.964382Z"
    },
    "papermill": {
     "duration": 0.95023,
     "end_time": "2023-06-11T01:40:18.968347",
     "exception": false,
     "start_time": "2023-06-11T01:40:18.018117",
     "status": "completed"
    },
    "tags": []
   },
   "outputs": [
    {
     "data": {
      "image/png": "[encoded data removed]",
      "text/plain": [
       "<Figure size 600x400 with 1 Axes>"
      ]
     },
     "metadata": {},
     "output_type": "display_data"
    }
   ],
   "source": [
    "dims = (6 * len(dicc_model), 4)\n",
    "fig, ax = plt.subplots(figsize=dims, ncols=len(dicc_model))\n",
    "\n",
    "with sns.axes_style('darkgrid'):\n",
    "    for i, (key, model) in enumerate(dicc_model.items()):\n",
    "        if isinstance(ax, np.ndarray):\n",
    "            ax_i = ax[i]\n",
    "        else:\n",
    "            ax_i = ax\n",
    "        label = key.replace(\"_model\", \"\")\n",
    "        if label == 'f0':\n",
    "            label = r'$f_{0}$'\n",
    "        else:\n",
    "            label = label.upper()\n",
    "        g = sns.scatterplot(x=X[:, dicc_names_features[key]], y=y, ax=ax_i, color='blue')\n",
    "        g = sns.lineplot(x=X[:, dicc_names_features[key]], y=dicc_pred[key], ax=ax_i, color='red')\n",
    "        g.text(0.5, -0.1, label, weight='bold', size='large', family='Arial', stretch='extra-expanded', ha='center', va='top', transform=g.transAxes)\n",
    "        g.set_ylabel('Naturalidad', weight='bold', size='large', alpha=0.8, family='Arial', stretch='extra-expanded')\n",
    "        g.set_title(list_equ[i], weight='bold', size='x-large', alpha=0.8, family='Arial', stretch='extra-expanded')\n",
    "        g.grid(alpha=0.7)\n",
    "        ax_i.set_ylim(0, 6)\n",
    "\n",
    "    plt.tight_layout()\n",
    "    plt.savefig(os.path.join(PATH, TEST_FOLDER, REGGRESSION_FOLDER, NO_PARAMETRIC_FOLDER, NATURALIDAD_FOLDER, MALE_FOLDER, 'regresiones_naturalidad_male.png'))\n",
    "    plt.show()\n"
   ]
  },
  {
   "cell_type": "code",
   "execution_count": 65,
   "id": "32e10979",
   "metadata": {
    "execution": {
     "iopub.execute_input": "2023-06-11T01:40:19.202274Z",
     "iopub.status.busy": "2023-06-11T01:40:19.200275Z",
     "iopub.status.idle": "2023-06-11T01:40:19.345301Z",
     "shell.execute_reply": "2023-06-11T01:40:19.341372Z"
    },
    "papermill": {
     "duration": 0.269195,
     "end_time": "2023-06-11T01:40:19.348273",
     "exception": false,
     "start_time": "2023-06-11T01:40:19.079078",
     "status": "completed"
    },
    "tags": []
   },
   "outputs": [],
   "source": [
    "if len(dicc_model) == 2:\n",
    "    import plotly.express as px\n",
    "    import plotly.graph_objects as go\n",
    "\n",
    "    # Seleccionamos solo las características seleccionadas en X\n",
    "    X_selected = X[:, selected_features]\n",
    "\n",
    "    # Entrenamos el modelo de regresión con las características seleccionadas\n",
    "    regr_multivar = SVR(kernel='linear')\n",
    "    regr_multivar.fit(X_selected, y)\n",
    "\n",
    "    # Obtenemos las predicciones del modelo para las características seleccionadas\n",
    "    y_pred = regr_multivar.predict(X_selected)\n",
    "\n",
    "    # Crear la figura\n",
    "    fig = px.scatter_3d(x=X_selected[:, 0], y=X_selected[:, 1], z=y)\n",
    "\n",
    "    # Crear el plano de regresión\n",
    "    xx, yy = np.meshgrid(X_selected[:, 0], X_selected[:, 1])\n",
    "    zz = regr_multivar.intercept_ + np.dot(np.array([xx.ravel(), yy.ravel()]).T, regr_multivar.coef_.ravel()).reshape(xx.shape)\n",
    "    fig.add_trace(go.Surface(x=xx, y=yy, z=zz, opacity=0.5))\n",
    "\n",
    "    # Construir la cadena de texto para la ecuación del plano\n",
    "    equation = f'z = {regr_multivar.intercept_[0].round(2)}'\n",
    "    for i, (key, model) in enumerate(dicc_model.items()):\n",
    "        equation += f' + {regr_multivar.coef_[0][i].round(2)} * {key.replace(\"_model\", \"\")}'\n",
    "    \n",
    "    # Centrar el título\n",
    "    fig.update_layout(title=dict(text=equation, x=0.5, xanchor='center'))\n",
    "\n",
    "    # Etiquetas de los ejes y rango del eje z\n",
    "    fig.update_layout(scene=dict(xaxis_title=list(dicc_model.keys())[0].replace(\"_model\", \"\"), yaxis_title=list(dicc_model.keys())[1].replace(\"_model\", \"\"), zaxis_title='Naturalidad', zaxis=dict(range=[0, 6]), yaxis=dict(tickvals=[-24, -23, -22, -21])))\n",
    "\n",
    "    fig.write_html(os.path.join(PATH, TEST_FOLDER, REGGRESSION_FOLDER, NO_PARAMETRIC_FOLDER, NATURALIDAD_FOLDER, MALE_FOLDER, 'regresion_naturalidad_multivariable_male.html'))\n",
    "\n",
    "    fig.show()\n"
   ]
  },
  {
   "attachments": {},
   "cell_type": "markdown",
   "id": "1968705b",
   "metadata": {
    "papermill": {
     "duration": 0.096481,
     "end_time": "2023-06-11T01:40:19.556672",
     "exception": false,
     "start_time": "2023-06-11T01:40:19.460191",
     "status": "completed"
    },
    "tags": []
   },
   "source": [
    "#### Femenino"
   ]
  },
  {
   "cell_type": "code",
   "execution_count": 66,
   "id": "fbe4ffcc",
   "metadata": {
    "execution": {
     "iopub.execute_input": "2023-06-11T01:40:19.839035Z",
     "iopub.status.busy": "2023-06-11T01:40:19.838033Z",
     "iopub.status.idle": "2023-06-11T01:40:19.862031Z",
     "shell.execute_reply": "2023-06-11T01:40:19.861039Z"
    },
    "papermill": {
     "duration": 0.194993,
     "end_time": "2023-06-11T01:40:19.865029",
     "exception": false,
     "start_time": "2023-06-11T01:40:19.670036",
     "status": "completed"
    },
    "tags": []
   },
   "outputs": [],
   "source": [
    "mask_gender = df_naturalidad.genero == 'femenino'\n",
    "\n",
    "df_naturalidad_female = df_naturalidad[mask_gender].drop(columns=['genero'])"
   ]
  },
  {
   "cell_type": "code",
   "execution_count": 67,
   "id": "e6dbfa05",
   "metadata": {
    "execution": {
     "iopub.execute_input": "2023-06-11T01:40:20.091998Z",
     "iopub.status.busy": "2023-06-11T01:40:20.090998Z",
     "iopub.status.idle": "2023-06-11T01:40:20.171002Z",
     "shell.execute_reply": "2023-06-11T01:40:20.169094Z"
    },
    "papermill": {
     "duration": 0.219815,
     "end_time": "2023-06-11T01:40:20.174036",
     "exception": false,
     "start_time": "2023-06-11T01:40:19.954221",
     "status": "completed"
    },
    "tags": []
   },
   "outputs": [
    {
     "name": "stdout",
     "output_type": "stream",
     "text": [
      "Características seleccionadas: (0, 1, 2)\n"
     ]
    }
   ],
   "source": [
    "# Cargamos los datos\n",
    "X = np.array(df_naturalidad_female.drop(columns=['Naturalidad'])) # df_objetivos es el DataFrame con los parámetros objetivos\n",
    "y = np.array(df_naturalidad_female.Naturalidad) # df_subjetivos es el DataFrame con los parámetros subjetivos\n",
    "\n",
    "# Creamos el modelo de regresión kNN\n",
    "regr_multivar = SVR(kernel='linear')\n",
    "\n",
    "# Creamos el selector de características hacia adelante\n",
    "forward_selector = SequentialFeatureSelector(regr_multivar, k_features='best', forward=True, scoring='neg_mean_squared_error')\n",
    "\n",
    "# Entrenamos el selector de características\n",
    "forward_selector.fit(X, y)\n",
    "\n",
    "# Obtenemos las características seleccionadas\n",
    "selected_features = forward_selector.k_feature_idx_\n",
    "\n",
    "# Imprimimos las características seleccionadas\n",
    "print('Características seleccionadas:', selected_features)\n"
   ]
  },
  {
   "cell_type": "code",
   "execution_count": 68,
   "id": "d353dccf",
   "metadata": {
    "execution": {
     "iopub.execute_input": "2023-06-11T01:40:20.440002Z",
     "iopub.status.busy": "2023-06-11T01:40:20.438998Z",
     "iopub.status.idle": "2023-06-11T01:40:36.633262Z",
     "shell.execute_reply": "2023-06-11T01:40:36.633262Z"
    },
    "papermill": {
     "duration": 16.317267,
     "end_time": "2023-06-11T01:40:36.633262",
     "exception": false,
     "start_time": "2023-06-11T01:40:20.315995",
     "status": "completed"
    },
    "tags": []
   },
   "outputs": [
    {
     "name": "stdout",
     "output_type": "stream",
     "text": [
      "ZCR p-valor: 0.43156843156843155\n",
      "RMS p-valor: 0.01898101898101898\n",
      "f0 p-valor: 0.23176823176823177\n"
     ]
    }
   ],
   "source": [
    "# Establecemos la semilla aleatoria para reproducibilidad\n",
    "random_state = check_random_state(0)\n",
    "\n",
    "p_values = []\n",
    "\n",
    "for i in range(X.shape[1]):\n",
    "    \n",
    "    # Seleccionamos solo una columna en X\n",
    "    X_single = X[:, i].reshape(-1, 1)\n",
    "    \n",
    "    # Aplicamos la prueba de permutación\n",
    "    score, permutation_scores, pvalue = permutation_test_score(regr_multivar, X_single, y, scoring='neg_mean_squared_error', cv=5, n_permutations=1000, random_state=random_state)\n",
    "    \n",
    "    p_values.append(pvalue)\n",
    "\n",
    "    # Imprimimos el p-valor\n",
    "    if i == 0:\n",
    "        var = 'ZCR'\n",
    "    elif i == 1:\n",
    "        var = 'RMS'\n",
    "    else:\n",
    "        var = 'f0'\n",
    "    dicc_p_value[var].append(pvalue)\n",
    "    print(f'{var} p-valor:', pvalue)\n",
    "\n",
    "dicc_p_value['subjetive_parameter'].append('Naturalidad')\n",
    "dicc_p_value['genero'].append('femenino')\n"
   ]
  },
  {
   "cell_type": "code",
   "execution_count": 69,
   "id": "97910b40",
   "metadata": {
    "execution": {
     "iopub.execute_input": "2023-06-11T01:40:36.840026Z",
     "iopub.status.busy": "2023-06-11T01:40:36.840026Z",
     "iopub.status.idle": "2023-06-11T01:40:36.855735Z",
     "shell.execute_reply": "2023-06-11T01:40:36.855735Z"
    },
    "papermill": {
     "duration": 0.128818,
     "end_time": "2023-06-11T01:40:36.855735",
     "exception": false,
     "start_time": "2023-06-11T01:40:36.726917",
     "status": "completed"
    },
    "tags": []
   },
   "outputs": [],
   "source": [
    "# Dicc auxiliar con los nombres asociadas a las variables\n",
    "dicc_names_features = {\n",
    "    'zcr_model': 0,\n",
    "    'rms_model': 1,\n",
    "    'f0_model': 2\n",
    "}\n",
    "\n",
    "# Dicc de los modelos\n",
    "dicc_model = {}\n",
    "\n",
    "# Dicc de las predicciones\n",
    "dicc_pred = {}\n",
    "\n",
    "for selected_feature in selected_features:\n",
    "    # Entrenamos el modelo de regresión con las características seleccionadas\n",
    "    regr_multivar = SVR(kernel='linear')\n",
    "    regr_multivar.fit(X[:, selected_feature].reshape(-1, 1), y.ravel())\n",
    "\n",
    "    # Almacenamos en dicc_model la clave asociada al modelo que se entrenó y el objeto modelo\n",
    "    for key, value in dicc_names_features.items():\n",
    "        if value == selected_feature:\n",
    "            dicc_model[key] = regr_multivar\n",
    "\n",
    "    # Obtenemos las predicciones del modelo para las características seleccionadas\n",
    "    y_pred = regr_multivar.predict(X[:, selected_feature].reshape(-1, 1))\n",
    "\n",
    "    # Almacenamos en dicc_pred la clave asociada al modelo que se entrenó y la predicción\n",
    "    for key, value in dicc_names_features.items():\n",
    "        if value == selected_feature:\n",
    "            dicc_pred[key] = y_pred\n"
   ]
  },
  {
   "cell_type": "code",
   "execution_count": 70,
   "id": "0959ca28",
   "metadata": {
    "execution": {
     "iopub.execute_input": "2023-06-11T01:40:37.071862Z",
     "iopub.status.busy": "2023-06-11T01:40:37.071862Z",
     "iopub.status.idle": "2023-06-11T01:40:37.103162Z",
     "shell.execute_reply": "2023-06-11T01:40:37.103162Z"
    },
    "papermill": {
     "duration": 0.153774,
     "end_time": "2023-06-11T01:40:37.103162",
     "exception": false,
     "start_time": "2023-06-11T01:40:36.949388",
     "status": "completed"
    },
    "tags": []
   },
   "outputs": [
    {
     "name": "stdout",
     "output_type": "stream",
     "text": [
      "y = -0.38 * ZCR + 3.15 - p-valor = 0.432\n",
      "y = 0.37 * RMS + 13.18 - p-valor = 0.019\n",
      "y = -0.04 * $f_{0}$ + 7.04 - p-valor = 0.232\n"
     ]
    }
   ],
   "source": [
    "list_equ = []\n",
    "\n",
    "for key, model in dicc_model.items():\n",
    "    # Obtenemos los valores de w y b\n",
    "    w = model.coef_[0][0]\n",
    "    b = model.intercept_[0]\n",
    "    \n",
    "    label = key.replace(\"_model\", \"\")\n",
    "    if label == 'f0':\n",
    "        label = r'$f_{0}$'\n",
    "    else:\n",
    "        label = label.upper()\n",
    "\n",
    "    # Construimos la cadena de texto para la ecuación del hiperplano y su p-valor\n",
    "    equation = f'y = {w:.2f} * {label} + {b:.2f} - p-valor = {p_values[dicc_names_features[key]]:.3f}'\n",
    "\n",
    "    # Agregamos la cadena a la lista\n",
    "    list_equ.append(equation)\n",
    "\n",
    "# Mostramos el resultado\n",
    "for equ in list_equ:\n",
    "    print(equ)\n"
   ]
  },
  {
   "cell_type": "code",
   "execution_count": 71,
   "id": "5a51f6be",
   "metadata": {
    "execution": {
     "iopub.execute_input": "2023-06-11T01:40:37.325110Z",
     "iopub.status.busy": "2023-06-11T01:40:37.325110Z",
     "iopub.status.idle": "2023-06-11T01:40:38.407252Z",
     "shell.execute_reply": "2023-06-11T01:40:38.407252Z"
    },
    "papermill": {
     "duration": 1.210398,
     "end_time": "2023-06-11T01:40:38.407252",
     "exception": false,
     "start_time": "2023-06-11T01:40:37.196854",
     "status": "completed"
    },
    "tags": []
   },
   "outputs": [
    {
     "data": {
      "image/png": "[encoded data removed]",
      "text/plain": [
       "<Figure size 1800x400 with 3 Axes>"
      ]
     },
     "metadata": {},
     "output_type": "display_data"
    }
   ],
   "source": [
    "dims = (6 * len(dicc_model), 4)\n",
    "fig, ax = plt.subplots(figsize=dims, ncols=len(dicc_model))\n",
    "\n",
    "with sns.axes_style('darkgrid'):\n",
    "    for i, (key, model) in enumerate(dicc_model.items()):\n",
    "        if isinstance(ax, np.ndarray):\n",
    "            ax_i = ax[i]\n",
    "        else:\n",
    "            ax_i = ax\n",
    "        label = key.replace(\"_model\", \"\")\n",
    "        if label == 'f0':\n",
    "            label = r'$f_{0}$'\n",
    "        else:\n",
    "            label = label.upper()\n",
    "        g = sns.scatterplot(x=X[:, dicc_names_features[key]], y=y, ax=ax_i, color='blue')\n",
    "        g = sns.lineplot(x=X[:, dicc_names_features[key]], y=dicc_pred[key], ax=ax_i, color='red')\n",
    "        g.text(0.5, -0.1, label, weight='bold', size='large', family='Arial', stretch='extra-expanded', ha='center', va='top', transform=g.transAxes)\n",
    "        g.set_ylabel('Naturalidad', weight='bold', size='large', alpha=0.8, family='Arial', stretch='extra-expanded')\n",
    "        g.set_title(list_equ[i], weight='bold', size='x-large', alpha=0.8, family='Arial', stretch='extra-expanded')\n",
    "        g.grid(alpha=0.7)\n",
    "        ax_i.set_ylim(0, 6)\n",
    "\n",
    "    plt.tight_layout()\n",
    "    plt.savefig(os.path.join(PATH, TEST_FOLDER, REGGRESSION_FOLDER, NO_PARAMETRIC_FOLDER, NATURALIDAD_FOLDER, FEMALE_FOLDER, 'regresiones_naturalidad_female.png'))\n",
    "    plt.show()\n"
   ]
  },
  {
   "cell_type": "code",
   "execution_count": 72,
   "id": "e1e3c881",
   "metadata": {
    "execution": {
     "iopub.execute_input": "2023-06-11T01:40:38.608543Z",
     "iopub.status.busy": "2023-06-11T01:40:38.608543Z",
     "iopub.status.idle": "2023-06-11T01:40:38.639886Z",
     "shell.execute_reply": "2023-06-11T01:40:38.639886Z"
    },
    "papermill": {
     "duration": 0.138964,
     "end_time": "2023-06-11T01:40:38.639886",
     "exception": false,
     "start_time": "2023-06-11T01:40:38.500922",
     "status": "completed"
    },
    "tags": []
   },
   "outputs": [],
   "source": [
    "if len(dicc_model) == 2:\n",
    "    import plotly.express as px\n",
    "    import plotly.graph_objects as go\n",
    "\n",
    "    # Seleccionamos solo las características seleccionadas en X\n",
    "    X_selected = X[:, selected_features]\n",
    "\n",
    "    # Entrenamos el modelo de regresión con las características seleccionadas\n",
    "    regr_multivar = SVR(kernel='linear')\n",
    "    regr_multivar.fit(X_selected, y)\n",
    "\n",
    "    # Obtenemos las predicciones del modelo para las características seleccionadas\n",
    "    y_pred = regr_multivar.predict(X_selected)\n",
    "\n",
    "    # Crear la figura\n",
    "    fig = px.scatter_3d(x=X_selected[:, 0], y=X_selected[:, 1], z=y)\n",
    "\n",
    "    # Crear el plano de regresión\n",
    "    xx, yy = np.meshgrid(X_selected[:, 0], X_selected[:, 1])\n",
    "    zz = regr_multivar.intercept_ + np.dot(np.array([xx.ravel(), yy.ravel()]).T, regr_multivar.coef_.ravel()).reshape(xx.shape)\n",
    "    fig.add_trace(go.Surface(x=xx, y=yy, z=zz, opacity=0.5))\n",
    "\n",
    "    # Construir la cadena de texto para la ecuación del plano\n",
    "    equation = f'z = {regr_multivar.intercept_[0].round(2)}'\n",
    "    for i, (key, model) in enumerate(dicc_model.items()):\n",
    "        equation += f' + {regr_multivar.coef_[0][i].round(2)} * {key.replace(\"_model\", \"\")}'\n",
    "    \n",
    "    # Centrar el título\n",
    "    fig.update_layout(title=dict(text=equation, x=0.5, xanchor='center'))\n",
    "\n",
    "    # Etiquetas de los ejes y rango del eje z\n",
    "    fig.update_layout(scene=dict(xaxis_title=list(dicc_model.keys())[0].replace(\"_model\", \"\"), yaxis_title=list(dicc_model.keys())[1].replace(\"_model\", \"\"), zaxis_title='Naturalidad', zaxis=dict(range=[0, 6]), yaxis=dict(tickvals=[-28, -26, -24, -22])))\n",
    "\n",
    "    fig.write_html(os.path.join(PATH, TEST_FOLDER, REGGRESSION_FOLDER, NO_PARAMETRIC_FOLDER, NATURALIDAD_FOLDER, FEMALE_FOLDER, 'regresion_naturalidad_multivariable_female.html'))\n",
    "\n",
    "    fig.show()\n"
   ]
  },
  {
   "attachments": {},
   "cell_type": "markdown",
   "id": "c93d4d28",
   "metadata": {
    "papermill": {
     "duration": 0.107936,
     "end_time": "2023-06-11T01:40:38.841485",
     "exception": false,
     "start_time": "2023-06-11T01:40:38.733549",
     "status": "completed"
    },
    "tags": []
   },
   "source": [
    "### Cadencia"
   ]
  },
  {
   "cell_type": "code",
   "execution_count": 73,
   "id": "842fcc7f",
   "metadata": {
    "execution": {
     "iopub.execute_input": "2023-06-11T01:40:39.074205Z",
     "iopub.status.busy": "2023-06-11T01:40:39.074205Z",
     "iopub.status.idle": "2023-06-11T01:40:39.089780Z",
     "shell.execute_reply": "2023-06-11T01:40:39.089780Z"
    },
    "papermill": {
     "duration": 0.134513,
     "end_time": "2023-06-11T01:40:39.089780",
     "exception": false,
     "start_time": "2023-06-11T01:40:38.955267",
     "status": "completed"
    },
    "tags": []
   },
   "outputs": [],
   "source": [
    "df_cadencia = df_union.loc[:, ['Cadencia', 'zcr', 'rms', 'f0', 'genero']]"
   ]
  },
  {
   "attachments": {},
   "cell_type": "markdown",
   "id": "a360f909",
   "metadata": {
    "papermill": {
     "duration": 0.12338,
     "end_time": "2023-06-11T01:40:39.306947",
     "exception": false,
     "start_time": "2023-06-11T01:40:39.183567",
     "status": "completed"
    },
    "tags": []
   },
   "source": [
    "#### Masculino"
   ]
  },
  {
   "cell_type": "code",
   "execution_count": 74,
   "id": "c9cb3974",
   "metadata": {
    "execution": {
     "iopub.execute_input": "2023-06-11T01:40:39.507602Z",
     "iopub.status.busy": "2023-06-11T01:40:39.507602Z",
     "iopub.status.idle": "2023-06-11T01:40:39.538914Z",
     "shell.execute_reply": "2023-06-11T01:40:39.538914Z"
    },
    "papermill": {
     "duration": 0.12972,
     "end_time": "2023-06-11T01:40:39.538914",
     "exception": false,
     "start_time": "2023-06-11T01:40:39.409194",
     "status": "completed"
    },
    "tags": []
   },
   "outputs": [],
   "source": [
    "mask_gender = df_cadencia.genero == 'masculino'\n",
    "\n",
    "df_cadencia_male = df_cadencia[mask_gender].drop(columns=['genero'])"
   ]
  },
  {
   "cell_type": "code",
   "execution_count": 75,
   "id": "3c719c59",
   "metadata": {
    "execution": {
     "iopub.execute_input": "2023-06-11T01:40:39.756568Z",
     "iopub.status.busy": "2023-06-11T01:40:39.756568Z",
     "iopub.status.idle": "2023-06-11T01:40:39.834860Z",
     "shell.execute_reply": "2023-06-11T01:40:39.834860Z"
    },
    "papermill": {
     "duration": 0.202257,
     "end_time": "2023-06-11T01:40:39.834860",
     "exception": false,
     "start_time": "2023-06-11T01:40:39.632603",
     "status": "completed"
    },
    "tags": []
   },
   "outputs": [
    {
     "name": "stdout",
     "output_type": "stream",
     "text": [
      "Características seleccionadas: (0, 2)\n"
     ]
    }
   ],
   "source": [
    "# Cargamos los datos\n",
    "X = np.array(df_cadencia_male.drop(columns=['Cadencia'])) # df_objetivos es el DataFrame con los parámetros objetivos\n",
    "y = np.array(df_cadencia_male.Cadencia) # df_subjetivos es el DataFrame con los parámetros subjetivos\n",
    "\n",
    "# Creamos el modelo de regresión kNN\n",
    "regr_multivar = SVR(kernel='linear')\n",
    "\n",
    "# Creamos el selector de características hacia adelante\n",
    "forward_selector = SequentialFeatureSelector(regr_multivar, k_features='best', forward=True, scoring='neg_mean_squared_error')\n",
    "\n",
    "# Entrenamos el selector de características\n",
    "forward_selector.fit(X, y)\n",
    "\n",
    "# Obtenemos las características seleccionadas\n",
    "selected_features = forward_selector.k_feature_idx_\n",
    "\n",
    "# Imprimimos las características seleccionadas\n",
    "print('Características seleccionadas:', selected_features)\n"
   ]
  },
  {
   "cell_type": "code",
   "execution_count": 76,
   "id": "6061839f",
   "metadata": {
    "execution": {
     "iopub.execute_input": "2023-06-11T01:40:40.042353Z",
     "iopub.status.busy": "2023-06-11T01:40:40.042353Z",
     "iopub.status.idle": "2023-06-11T01:40:56.391259Z",
     "shell.execute_reply": "2023-06-11T01:40:56.390347Z"
    },
    "papermill": {
     "duration": 16.451098,
     "end_time": "2023-06-11T01:40:56.393087",
     "exception": false,
     "start_time": "2023-06-11T01:40:39.941989",
     "status": "completed"
    },
    "tags": []
   },
   "outputs": [
    {
     "name": "stdout",
     "output_type": "stream",
     "text": [
      "ZCR p-valor: 0.07292707292707293\n",
      "RMS p-valor: 0.4045954045954046\n",
      "f0 p-valor: 0.03496503496503497\n"
     ]
    }
   ],
   "source": [
    "# Establecemos la semilla aleatoria para reproducibilidad\n",
    "random_state = check_random_state(0)\n",
    "\n",
    "p_values = []\n",
    "\n",
    "for i in range(X.shape[1]):\n",
    "    \n",
    "    # Seleccionamos solo una columna en X\n",
    "    X_single = X[:, i].reshape(-1, 1)\n",
    "    \n",
    "    # Aplicamos la prueba de permutación\n",
    "    score, permutation_scores, pvalue = permutation_test_score(regr_multivar, X_single, y, scoring='neg_mean_squared_error', cv=5, n_permutations=1000, random_state=random_state)\n",
    "    \n",
    "    p_values.append(pvalue)\n",
    "\n",
    "    # Imprimimos el p-valor\n",
    "    if i == 0:\n",
    "        var = 'ZCR'\n",
    "    elif i == 1:\n",
    "        var = 'RMS'\n",
    "    else:\n",
    "        var = 'f0'\n",
    "    dicc_p_value[var].append(pvalue)\n",
    "    print(f'{var} p-valor:', pvalue)\n",
    "\n",
    "dicc_p_value['subjetive_parameter'].append('Cadencia')\n",
    "dicc_p_value['genero'].append('masculino')\n"
   ]
  },
  {
   "cell_type": "code",
   "execution_count": 77,
   "id": "57102a14",
   "metadata": {
    "execution": {
     "iopub.execute_input": "2023-06-11T01:40:56.607176Z",
     "iopub.status.busy": "2023-06-11T01:40:56.607176Z",
     "iopub.status.idle": "2023-06-11T01:40:56.622896Z",
     "shell.execute_reply": "2023-06-11T01:40:56.622896Z"
    },
    "papermill": {
     "duration": 0.136056,
     "end_time": "2023-06-11T01:40:56.622896",
     "exception": false,
     "start_time": "2023-06-11T01:40:56.486840",
     "status": "completed"
    },
    "tags": []
   },
   "outputs": [],
   "source": [
    "# Dicc auxiliar con los nombres asociadas a las variables\n",
    "dicc_names_features = {\n",
    "    'zcr_model': 0,\n",
    "    'rms_model': 1,\n",
    "    'f0_model': 2\n",
    "}\n",
    "\n",
    "# Dicc de los modelos\n",
    "dicc_model = {}\n",
    "\n",
    "# Dicc de las predicciones\n",
    "dicc_pred = {}\n",
    "\n",
    "for selected_feature in selected_features:\n",
    "    # Entrenamos el modelo de regresión con las características seleccionadas\n",
    "    regr_multivar = SVR(kernel='linear')\n",
    "    regr_multivar.fit(X[:, selected_feature].reshape(-1, 1), y.ravel())\n",
    "\n",
    "    # Almacenamos en dicc_model la clave asociada al modelo que se entrenó y el objeto modelo\n",
    "    for key, value in dicc_names_features.items():\n",
    "        if value == selected_feature:\n",
    "            dicc_model[key] = regr_multivar\n",
    "\n",
    "    # Obtenemos las predicciones del modelo para las características seleccionadas\n",
    "    y_pred = regr_multivar.predict(X[:, selected_feature].reshape(-1, 1))\n",
    "\n",
    "    # Almacenamos en dicc_pred la clave asociada al modelo que se entrenó y la predicción\n",
    "    for key, value in dicc_names_features.items():\n",
    "        if value == selected_feature:\n",
    "            dicc_pred[key] = y_pred\n"
   ]
  },
  {
   "cell_type": "code",
   "execution_count": 78,
   "id": "53e6df24",
   "metadata": {
    "execution": {
     "iopub.execute_input": "2023-06-11T01:40:56.856864Z",
     "iopub.status.busy": "2023-06-11T01:40:56.856864Z",
     "iopub.status.idle": "2023-06-11T01:40:56.872593Z",
     "shell.execute_reply": "2023-06-11T01:40:56.872593Z"
    },
    "papermill": {
     "duration": 0.140415,
     "end_time": "2023-06-11T01:40:56.872593",
     "exception": false,
     "start_time": "2023-06-11T01:40:56.732178",
     "status": "completed"
    },
    "tags": []
   },
   "outputs": [
    {
     "name": "stdout",
     "output_type": "stream",
     "text": [
      "y = -0.43 * ZCR + 3.08 - p-valor = 0.073\n",
      "y = -0.07 * $f_{0}$ + 8.39 - p-valor = 0.035\n"
     ]
    }
   ],
   "source": [
    "list_equ = []\n",
    "\n",
    "for key, model in dicc_model.items():\n",
    "    # Obtenemos los valores de w y b\n",
    "    w = model.coef_[0][0]\n",
    "    b = model.intercept_[0]\n",
    "    \n",
    "    label = key.replace(\"_model\", \"\")\n",
    "    if label == 'f0':\n",
    "        label = r'$f_{0}$'\n",
    "    else:\n",
    "        label = label.upper()\n",
    "\n",
    "    # Construimos la cadena de texto para la ecuación del hiperplano y su p-valor\n",
    "    equation = f'y = {w:.2f} * {label} + {b:.2f} - p-valor = {p_values[dicc_names_features[key]]:.3f}'\n",
    "\n",
    "    # Agregamos la cadena a la lista\n",
    "    list_equ.append(equation)\n",
    "\n",
    "# Mostramos el resultado\n",
    "for equ in list_equ:\n",
    "    print(equ)\n"
   ]
  },
  {
   "cell_type": "code",
   "execution_count": 79,
   "id": "63878874",
   "metadata": {
    "execution": {
     "iopub.execute_input": "2023-06-11T01:40:57.091076Z",
     "iopub.status.busy": "2023-06-11T01:40:57.091076Z",
     "iopub.status.idle": "2023-06-11T01:40:57.945078Z",
     "shell.execute_reply": "2023-06-11T01:40:57.943395Z"
    },
    "papermill": {
     "duration": 0.975622,
     "end_time": "2023-06-11T01:40:57.948078",
     "exception": false,
     "start_time": "2023-06-11T01:40:56.972456",
     "status": "completed"
    },
    "tags": []
   },
   "outputs": [
    {
     "data": {
      "image/png": "[encoded data removed]",
      "text/plain": [
       "<Figure size 1200x400 with 2 Axes>"
      ]
     },
     "metadata": {},
     "output_type": "display_data"
    }
   ],
   "source": [
    "dims = (6 * len(dicc_model), 4)\n",
    "fig, ax = plt.subplots(figsize=dims, ncols=len(dicc_model))\n",
    "\n",
    "with sns.axes_style('darkgrid'):\n",
    "    for i, (key, model) in enumerate(dicc_model.items()):\n",
    "        if isinstance(ax, np.ndarray):\n",
    "            ax_i = ax[i]\n",
    "        else:\n",
    "            ax_i = ax\n",
    "        label = key.replace(\"_model\", \"\")\n",
    "        if label == 'f0':\n",
    "            label = r'$f_{0}$'\n",
    "        else:\n",
    "            label = label.upper()\n",
    "        g = sns.scatterplot(x=X[:, dicc_names_features[key]], y=y, ax=ax_i, color='blue')\n",
    "        g = sns.lineplot(x=X[:, dicc_names_features[key]], y=dicc_pred[key], ax=ax_i, color='red')\n",
    "        g.text(0.5, -0.1, label, weight='bold', size='large', family='Arial', stretch='extra-expanded', ha='center', va='top', transform=g.transAxes)\n",
    "        g.set_ylabel('Cadencia', weight='bold', size='large', alpha=0.8, family='Arial', stretch='extra-expanded')\n",
    "        g.set_title(list_equ[i], weight='bold', size='x-large', alpha=0.8, family='Arial', stretch='extra-expanded')\n",
    "        g.grid(alpha=0.7)\n",
    "        ax_i.set_ylim(0, 6)\n",
    "\n",
    "    plt.tight_layout()\n",
    "    plt.savefig(os.path.join(PATH, TEST_FOLDER, REGGRESSION_FOLDER, NO_PARAMETRIC_FOLDER, CADENCIA_FOLDER, MALE_FOLDER, 'regresiones_cadencia_male.png'))\n",
    "    plt.show()\n"
   ]
  },
  {
   "cell_type": "code",
   "execution_count": 80,
   "id": "31c9bddd",
   "metadata": {
    "execution": {
     "iopub.execute_input": "2023-06-11T01:40:58.174372Z",
     "iopub.status.busy": "2023-06-11T01:40:58.174372Z",
     "iopub.status.idle": "2023-06-11T01:40:58.299448Z",
     "shell.execute_reply": "2023-06-11T01:40:58.299448Z"
    },
    "papermill": {
     "duration": 0.244883,
     "end_time": "2023-06-11T01:40:58.299448",
     "exception": false,
     "start_time": "2023-06-11T01:40:58.054565",
     "status": "completed"
    },
    "tags": []
   },
   "outputs": [
    {
     "data": {
      "application/vnd.plotly.v1+json": {
       "config": {
        "plotlyServerURL": "https://plot.ly"
       },
       "data": [
        {
         "hovertemplate": "x=%{x}<br>y=%{y}<br>z=%{z}<extra></extra>",
         "legendgroup": "",
         "marker": {
          "color": "#636efa",
          "symbol": "circle"
         },
         "mode": "markers",
         "name": "",
         "scene": "scene",
         "showlegend": false,
         "type": "scatter3d",
         "x": [
          0.0980514874287459,
          0.25162586573765,
          0.239188283778317,
          0.105458211555755,
          0.185066881409123,
          0.137448537263939,
          0.239843081121575,
          0.142275783668731,
          0.172730672751451,
          0.0930430482665395
         ],
         "y": [
          68.7269109799978,
          98.4685046561784,
          78.9681520189018,
          69.0457782226234,
          81.4992124221524,
          71.7717932153514,
          86.6274438096484,
          69.1332152039065,
          80.4995797313246,
          76.4927520021194
         ],
         "z": [
          3.836734693877551,
          1.653061224489796,
          1.5918367346938775,
          3.836734693877551,
          3.0816326530612246,
          2.4693877551020407,
          1.510204081632653,
          3.142857142857143,
          3.0408163265306123,
          4.081632653061225
         ]
        },
        {
         "opacity": 0.5,
         "type": "surface",
         "x": [
          [
           0.0980514874287459,
           0.25162586573765,
           0.239188283778317,
           0.105458211555755,
           0.185066881409123,
           0.137448537263939,
           0.239843081121575,
           0.142275783668731,
           0.172730672751451,
           0.0930430482665395
          ],
          [
           0.0980514874287459,
           0.25162586573765,
           0.239188283778317,
           0.105458211555755,
           0.185066881409123,
           0.137448537263939,
           0.239843081121575,
           0.142275783668731,
           0.172730672751451,
           0.0930430482665395
          ],
          [
           0.0980514874287459,
           0.25162586573765,
           0.239188283778317,
           0.105458211555755,
           0.185066881409123,
           0.137448537263939,
           0.239843081121575,
           0.142275783668731,
           0.172730672751451,
           0.0930430482665395
          ],
          [
           0.0980514874287459,
           0.25162586573765,
           0.239188283778317,
           0.105458211555755,
           0.185066881409123,
           0.137448537263939,
           0.239843081121575,
           0.142275783668731,
           0.172730672751451,
           0.0930430482665395
          ],
          [
           0.0980514874287459,
           0.25162586573765,
           0.239188283778317,
           0.105458211555755,
           0.185066881409123,
           0.137448537263939,
           0.239843081121575,
           0.142275783668731,
           0.172730672751451,
           0.0930430482665395
          ],
          [
           0.0980514874287459,
           0.25162586573765,
           0.239188283778317,
           0.105458211555755,
           0.185066881409123,
           0.137448537263939,
           0.239843081121575,
           0.142275783668731,
           0.172730672751451,
           0.0930430482665395
          ],
          [
           0.0980514874287459,
           0.25162586573765,
           0.239188283778317,
           0.105458211555755,
           0.185066881409123,
           0.137448537263939,
           0.239843081121575,
           0.142275783668731,
           0.172730672751451,
           0.0930430482665395
          ],
          [
           0.0980514874287459,
           0.25162586573765,
           0.239188283778317,
           0.105458211555755,
           0.185066881409123,
           0.137448537263939,
           0.239843081121575,
           0.142275783668731,
           0.172730672751451,
           0.0930430482665395
          ],
          [
           0.0980514874287459,
           0.25162586573765,
           0.239188283778317,
           0.105458211555755,
           0.185066881409123,
           0.137448537263939,
           0.239843081121575,
           0.142275783668731,
           0.172730672751451,
           0.0930430482665395
          ],
          [
           0.0980514874287459,
           0.25162586573765,
           0.239188283778317,
           0.105458211555755,
           0.185066881409123,
           0.137448537263939,
           0.239843081121575,
           0.142275783668731,
           0.172730672751451,
           0.0930430482665395
          ]
         ],
         "y": [
          [
           68.7269109799978,
           68.7269109799978,
           68.7269109799978,
           68.7269109799978,
           68.7269109799978,
           68.7269109799978,
           68.7269109799978,
           68.7269109799978,
           68.7269109799978,
           68.7269109799978
          ],
          [
           98.4685046561784,
           98.4685046561784,
           98.4685046561784,
           98.4685046561784,
           98.4685046561784,
           98.4685046561784,
           98.4685046561784,
           98.4685046561784,
           98.4685046561784,
           98.4685046561784
          ],
          [
           78.9681520189018,
           78.9681520189018,
           78.9681520189018,
           78.9681520189018,
           78.9681520189018,
           78.9681520189018,
           78.9681520189018,
           78.9681520189018,
           78.9681520189018,
           78.9681520189018
          ],
          [
           69.0457782226234,
           69.0457782226234,
           69.0457782226234,
           69.0457782226234,
           69.0457782226234,
           69.0457782226234,
           69.0457782226234,
           69.0457782226234,
           69.0457782226234,
           69.0457782226234
          ],
          [
           81.4992124221524,
           81.4992124221524,
           81.4992124221524,
           81.4992124221524,
           81.4992124221524,
           81.4992124221524,
           81.4992124221524,
           81.4992124221524,
           81.4992124221524,
           81.4992124221524
          ],
          [
           71.7717932153514,
           71.7717932153514,
           71.7717932153514,
           71.7717932153514,
           71.7717932153514,
           71.7717932153514,
           71.7717932153514,
           71.7717932153514,
           71.7717932153514,
           71.7717932153514
          ],
          [
           86.6274438096484,
           86.6274438096484,
           86.6274438096484,
           86.6274438096484,
           86.6274438096484,
           86.6274438096484,
           86.6274438096484,
           86.6274438096484,
           86.6274438096484,
           86.6274438096484
          ],
          [
           69.1332152039065,
           69.1332152039065,
           69.1332152039065,
           69.1332152039065,
           69.1332152039065,
           69.1332152039065,
           69.1332152039065,
           69.1332152039065,
           69.1332152039065,
           69.1332152039065
          ],
          [
           80.4995797313246,
           80.4995797313246,
           80.4995797313246,
           80.4995797313246,
           80.4995797313246,
           80.4995797313246,
           80.4995797313246,
           80.4995797313246,
           80.4995797313246,
           80.4995797313246
          ],
          [
           76.4927520021194,
           76.4927520021194,
           76.4927520021194,
           76.4927520021194,
           76.4927520021194,
           76.4927520021194,
           76.4927520021194,
           76.4927520021194,
           76.4927520021194,
           76.4927520021194
          ]
         ],
         "z": [
          [
           3.7368461633452927,
           3.7046794392443854,
           3.7072845369942424,
           3.7352947974592086,
           3.7186204657939177,
           3.728594304888218,
           3.707147387257975,
           3.727583220194405,
           3.721204330529117,
           3.73789519953532
          ],
          [
           1.7653671851630985,
           1.7332004610621912,
           1.7358055588120482,
           1.7638158192770144,
           1.7471414876117235,
           1.7571153267060238,
           1.7356684090757808,
           1.7561042420122108,
           1.749725352346923,
           1.7664162213531256
          ],
          [
           3.0579857216848962,
           3.025818997583989,
           3.028424095333846,
           3.056434355798812,
           3.039760024133521,
           3.0497338632278215,
           3.0282869455975785,
           3.0487227785340085,
           3.0423438888687206,
           3.0590347578749233
          ],
          [
           3.7157094323243607,
           3.6835427082234533,
           3.6861478059733104,
           3.7141580664382765,
           3.6974837347729856,
           3.707457573867286,
           3.686010656237043,
           3.706446489173473,
           3.700067599508185,
           3.7167584685143877
          ],
          [
           2.8902094944979106,
           2.8580427703970033,
           2.8606478681468603,
           2.8886581286118265,
           2.8719837969465356,
           2.881957636040836,
           2.860510718410593,
           2.880946551347023,
           2.874567661681735,
           2.8912585306879377
          ],
          [
           3.53501026364878,
           3.5028435395478725,
           3.5054486372977296,
           3.5334588977626957,
           3.516784566097405,
           3.526758405191705,
           3.505311487561462,
           3.525747320497892,
           3.5193684308326043,
           3.536059299838807
          ],
          [
           2.5502747725801838,
           2.5181080484792764,
           2.5207131462291335,
           2.5487234066940996,
           2.5320490750288087,
           2.542022914123109,
           2.520575996492866,
           2.541011829429296,
           2.534632939764008,
           2.551323808770211
          ],
          [
           3.709913503148803,
           3.6777467790478955,
           3.6803518767977526,
           3.7083621372627187,
           3.691687805597428,
           3.701661644691728,
           3.680214727061485,
           3.700650559997915,
           3.6942716703326273,
           3.71096253933883
          ],
          [
           2.9564720780476623,
           2.924305353946755,
           2.926910451696612,
           2.954920712161578,
           2.9382463804962873,
           2.9482202195905876,
           2.9267733019603446,
           2.9472091348967746,
           2.9408302452314867,
           2.9575211142376894
          ],
          [
           3.2220723926552823,
           3.189905668554375,
           3.192510766304232,
           3.220521026769198,
           3.2038466951039073,
           3.2138205341982076,
           3.1923736165679646,
           3.2128094495043946,
           3.2064305598391067,
           3.2231214288453094
          ]
         ]
        }
       ],
       "layout": {
        "legend": {
         "tracegroupgap": 0
        },
        "margin": {
         "t": 60
        },
        "scene": {
         "domain": {
          "x": [
           0,
           1
          ],
          "y": [
           0,
           1
          ]
         },
         "xaxis": {
          "title": {
           "text": "zcr"
          }
         },
         "yaxis": {
          "tickvals": [
           75,
           80,
           85,
           90,
           95
          ],
          "title": {
           "text": "f0"
          }
         },
         "zaxis": {
          "range": [
           0,
           6
          ],
          "title": {
           "text": "Cadencia"
          }
         }
        },
        "template": {
         "data": {
          "bar": [
           {
            "error_x": {
             "color": "#2a3f5f"
            },
            "error_y": {
             "color": "#2a3f5f"
            },
            "marker": {
             "line": {
              "color": "#E5ECF6",
              "width": 0.5
             },
             "pattern": {
              "fillmode": "overlay",
              "size": 10,
              "solidity": 0.2
             }
            },
            "type": "bar"
           }
          ],
          "barpolar": [
           {
            "marker": {
             "line": {
              "color": "#E5ECF6",
              "width": 0.5
             },
             "pattern": {
              "fillmode": "overlay",
              "size": 10,
              "solidity": 0.2
             }
            },
            "type": "barpolar"
           }
          ],
          "carpet": [
           {
            "aaxis": {
             "endlinecolor": "#2a3f5f",
             "gridcolor": "white",
             "linecolor": "white",
             "minorgridcolor": "white",
             "startlinecolor": "#2a3f5f"
            },
            "baxis": {
             "endlinecolor": "#2a3f5f",
             "gridcolor": "white",
             "linecolor": "white",
             "minorgridcolor": "white",
             "startlinecolor": "#2a3f5f"
            },
            "type": "carpet"
           }
          ],
          "choropleth": [
           {
            "colorbar": {
             "outlinewidth": 0,
             "ticks": ""
            },
            "type": "choropleth"
           }
          ],
          "contour": [
           {
            "colorbar": {
             "outlinewidth": 0,
             "ticks": ""
            },
            "colorscale": [
             [
              0,
              "#0d0887"
             ],
             [
              0.1111111111111111,
              "#46039f"
             ],
             [
              0.2222222222222222,
              "#7201a8"
             ],
             [
              0.3333333333333333,
              "#9c179e"
             ],
             [
              0.4444444444444444,
              "#bd3786"
             ],
             [
              0.5555555555555556,
              "#d8576b"
             ],
             [
              0.6666666666666666,
              "#ed7953"
             ],
             [
              0.7777777777777778,
              "#fb9f3a"
             ],
             [
              0.8888888888888888,
              "#fdca26"
             ],
             [
              1,
              "#f0f921"
             ]
            ],
            "type": "contour"
           }
          ],
          "contourcarpet": [
           {
            "colorbar": {
             "outlinewidth": 0,
             "ticks": ""
            },
            "type": "contourcarpet"
           }
          ],
          "heatmap": [
           {
            "colorbar": {
             "outlinewidth": 0,
             "ticks": ""
            },
            "colorscale": [
             [
              0,
              "#0d0887"
             ],
             [
              0.1111111111111111,
              "#46039f"
             ],
             [
              0.2222222222222222,
              "#7201a8"
             ],
             [
              0.3333333333333333,
              "#9c179e"
             ],
             [
              0.4444444444444444,
              "#bd3786"
             ],
             [
              0.5555555555555556,
              "#d8576b"
             ],
             [
              0.6666666666666666,
              "#ed7953"
             ],
             [
              0.7777777777777778,
              "#fb9f3a"
             ],
             [
              0.8888888888888888,
              "#fdca26"
             ],
             [
              1,
              "#f0f921"
             ]
            ],
            "type": "heatmap"
           }
          ],
          "heatmapgl": [
           {
            "colorbar": {
             "outlinewidth": 0,
             "ticks": ""
            },
            "colorscale": [
             [
              0,
              "#0d0887"
             ],
             [
              0.1111111111111111,
              "#46039f"
             ],
             [
              0.2222222222222222,
              "#7201a8"
             ],
             [
              0.3333333333333333,
              "#9c179e"
             ],
             [
              0.4444444444444444,
              "#bd3786"
             ],
             [
              0.5555555555555556,
              "#d8576b"
             ],
             [
              0.6666666666666666,
              "#ed7953"
             ],
             [
              0.7777777777777778,
              "#fb9f3a"
             ],
             [
              0.8888888888888888,
              "#fdca26"
             ],
             [
              1,
              "#f0f921"
             ]
            ],
            "type": "heatmapgl"
           }
          ],
          "histogram": [
           {
            "marker": {
             "pattern": {
              "fillmode": "overlay",
              "size": 10,
              "solidity": 0.2
             }
            },
            "type": "histogram"
           }
          ],
          "histogram2d": [
           {
            "colorbar": {
             "outlinewidth": 0,
             "ticks": ""
            },
            "colorscale": [
             [
              0,
              "#0d0887"
             ],
             [
              0.1111111111111111,
              "#46039f"
             ],
             [
              0.2222222222222222,
              "#7201a8"
             ],
             [
              0.3333333333333333,
              "#9c179e"
             ],
             [
              0.4444444444444444,
              "#bd3786"
             ],
             [
              0.5555555555555556,
              "#d8576b"
             ],
             [
              0.6666666666666666,
              "#ed7953"
             ],
             [
              0.7777777777777778,
              "#fb9f3a"
             ],
             [
              0.8888888888888888,
              "#fdca26"
             ],
             [
              1,
              "#f0f921"
             ]
            ],
            "type": "histogram2d"
           }
          ],
          "histogram2dcontour": [
           {
            "colorbar": {
             "outlinewidth": 0,
             "ticks": ""
            },
            "colorscale": [
             [
              0,
              "#0d0887"
             ],
             [
              0.1111111111111111,
              "#46039f"
             ],
             [
              0.2222222222222222,
              "#7201a8"
             ],
             [
              0.3333333333333333,
              "#9c179e"
             ],
             [
              0.4444444444444444,
              "#bd3786"
             ],
             [
              0.5555555555555556,
              "#d8576b"
             ],
             [
              0.6666666666666666,
              "#ed7953"
             ],
             [
              0.7777777777777778,
              "#fb9f3a"
             ],
             [
              0.8888888888888888,
              "#fdca26"
             ],
             [
              1,
              "#f0f921"
             ]
            ],
            "type": "histogram2dcontour"
           }
          ],
          "mesh3d": [
           {
            "colorbar": {
             "outlinewidth": 0,
             "ticks": ""
            },
            "type": "mesh3d"
           }
          ],
          "parcoords": [
           {
            "line": {
             "colorbar": {
              "outlinewidth": 0,
              "ticks": ""
             }
            },
            "type": "parcoords"
           }
          ],
          "pie": [
           {
            "automargin": true,
            "type": "pie"
           }
          ],
          "scatter": [
           {
            "fillpattern": {
             "fillmode": "overlay",
             "size": 10,
             "solidity": 0.2
            },
            "type": "scatter"
           }
          ],
          "scatter3d": [
           {
            "line": {
             "colorbar": {
              "outlinewidth": 0,
              "ticks": ""
             }
            },
            "marker": {
             "colorbar": {
              "outlinewidth": 0,
              "ticks": ""
             }
            },
            "type": "scatter3d"
           }
          ],
          "scattercarpet": [
           {
            "marker": {
             "colorbar": {
              "outlinewidth": 0,
              "ticks": ""
             }
            },
            "type": "scattercarpet"
           }
          ],
          "scattergeo": [
           {
            "marker": {
             "colorbar": {
              "outlinewidth": 0,
              "ticks": ""
             }
            },
            "type": "scattergeo"
           }
          ],
          "scattergl": [
           {
            "marker": {
             "colorbar": {
              "outlinewidth": 0,
              "ticks": ""
             }
            },
            "type": "scattergl"
           }
          ],
          "scattermapbox": [
           {
            "marker": {
             "colorbar": {
              "outlinewidth": 0,
              "ticks": ""
             }
            },
            "type": "scattermapbox"
           }
          ],
          "scatterpolar": [
           {
            "marker": {
             "colorbar": {
              "outlinewidth": 0,
              "ticks": ""
             }
            },
            "type": "scatterpolar"
           }
          ],
          "scatterpolargl": [
           {
            "marker": {
             "colorbar": {
              "outlinewidth": 0,
              "ticks": ""
             }
            },
            "type": "scatterpolargl"
           }
          ],
          "scatterternary": [
           {
            "marker": {
             "colorbar": {
              "outlinewidth": 0,
              "ticks": ""
             }
            },
            "type": "scatterternary"
           }
          ],
          "surface": [
           {
            "colorbar": {
             "outlinewidth": 0,
             "ticks": ""
            },
            "colorscale": [
             [
              0,
              "#0d0887"
             ],
             [
              0.1111111111111111,
              "#46039f"
             ],
             [
              0.2222222222222222,
              "#7201a8"
             ],
             [
              0.3333333333333333,
              "#9c179e"
             ],
             [
              0.4444444444444444,
              "#bd3786"
             ],
             [
              0.5555555555555556,
              "#d8576b"
             ],
             [
              0.6666666666666666,
              "#ed7953"
             ],
             [
              0.7777777777777778,
              "#fb9f3a"
             ],
             [
              0.8888888888888888,
              "#fdca26"
             ],
             [
              1,
              "#f0f921"
             ]
            ],
            "type": "surface"
           }
          ],
          "table": [
           {
            "cells": {
             "fill": {
              "color": "#EBF0F8"
             },
             "line": {
              "color": "white"
             }
            },
            "header": {
             "fill": {
              "color": "#C8D4E3"
             },
             "line": {
              "color": "white"
             }
            },
            "type": "table"
           }
          ]
         },
         "layout": {
          "annotationdefaults": {
           "arrowcolor": "#2a3f5f",
           "arrowhead": 0,
           "arrowwidth": 1
          },
          "autotypenumbers": "strict",
          "coloraxis": {
           "colorbar": {
            "outlinewidth": 0,
            "ticks": ""
           }
          },
          "colorscale": {
           "diverging": [
            [
             0,
             "#8e0152"
            ],
            [
             0.1,
             "#c51b7d"
            ],
            [
             0.2,
             "#de77ae"
            ],
            [
             0.3,
             "#f1b6da"
            ],
            [
             0.4,
             "#fde0ef"
            ],
            [
             0.5,
             "#f7f7f7"
            ],
            [
             0.6,
             "#e6f5d0"
            ],
            [
             0.7,
             "#b8e186"
            ],
            [
             0.8,
             "#7fbc41"
            ],
            [
             0.9,
             "#4d9221"
            ],
            [
             1,
             "#276419"
            ]
           ],
           "sequential": [
            [
             0,
             "#0d0887"
            ],
            [
             0.1111111111111111,
             "#46039f"
            ],
            [
             0.2222222222222222,
             "#7201a8"
            ],
            [
             0.3333333333333333,
             "#9c179e"
            ],
            [
             0.4444444444444444,
             "#bd3786"
            ],
            [
             0.5555555555555556,
             "#d8576b"
            ],
            [
             0.6666666666666666,
             "#ed7953"
            ],
            [
             0.7777777777777778,
             "#fb9f3a"
            ],
            [
             0.8888888888888888,
             "#fdca26"
            ],
            [
             1,
             "#f0f921"
            ]
           ],
           "sequentialminus": [
            [
             0,
             "#0d0887"
            ],
            [
             0.1111111111111111,
             "#46039f"
            ],
            [
             0.2222222222222222,
             "#7201a8"
            ],
            [
             0.3333333333333333,
             "#9c179e"
            ],
            [
             0.4444444444444444,
             "#bd3786"
            ],
            [
             0.5555555555555556,
             "#d8576b"
            ],
            [
             0.6666666666666666,
             "#ed7953"
            ],
            [
             0.7777777777777778,
             "#fb9f3a"
            ],
            [
             0.8888888888888888,
             "#fdca26"
            ],
            [
             1,
             "#f0f921"
            ]
           ]
          },
          "colorway": [
           "#636efa",
           "#EF553B",
           "#00cc96",
           "#ab63fa",
           "#FFA15A",
           "#19d3f3",
           "#FF6692",
           "#B6E880",
           "#FF97FF",
           "#FECB52"
          ],
          "font": {
           "color": "#2a3f5f"
          },
          "geo": {
           "bgcolor": "white",
           "lakecolor": "white",
           "landcolor": "#E5ECF6",
           "showlakes": true,
           "showland": true,
           "subunitcolor": "white"
          },
          "hoverlabel": {
           "align": "left"
          },
          "hovermode": "closest",
          "mapbox": {
           "style": "light"
          },
          "paper_bgcolor": "white",
          "plot_bgcolor": "#E5ECF6",
          "polar": {
           "angularaxis": {
            "gridcolor": "white",
            "linecolor": "white",
            "ticks": ""
           },
           "bgcolor": "#E5ECF6",
           "radialaxis": {
            "gridcolor": "white",
            "linecolor": "white",
            "ticks": ""
           }
          },
          "scene": {
           "xaxis": {
            "backgroundcolor": "#E5ECF6",
            "gridcolor": "white",
            "gridwidth": 2,
            "linecolor": "white",
            "showbackground": true,
            "ticks": "",
            "zerolinecolor": "white"
           },
           "yaxis": {
            "backgroundcolor": "#E5ECF6",
            "gridcolor": "white",
            "gridwidth": 2,
            "linecolor": "white",
            "showbackground": true,
            "ticks": "",
            "zerolinecolor": "white"
           },
           "zaxis": {
            "backgroundcolor": "#E5ECF6",
            "gridcolor": "white",
            "gridwidth": 2,
            "linecolor": "white",
            "showbackground": true,
            "ticks": "",
            "zerolinecolor": "white"
           }
          },
          "shapedefaults": {
           "line": {
            "color": "#2a3f5f"
           }
          },
          "ternary": {
           "aaxis": {
            "gridcolor": "white",
            "linecolor": "white",
            "ticks": ""
           },
           "baxis": {
            "gridcolor": "white",
            "linecolor": "white",
            "ticks": ""
           },
           "bgcolor": "#E5ECF6",
           "caxis": {
            "gridcolor": "white",
            "linecolor": "white",
            "ticks": ""
           }
          },
          "title": {
           "x": 0.05
          },
          "xaxis": {
           "automargin": true,
           "gridcolor": "white",
           "linecolor": "white",
           "ticks": "",
           "title": {
            "standoff": 15
           },
           "zerolinecolor": "white",
           "zerolinewidth": 2
          },
          "yaxis": {
           "automargin": true,
           "gridcolor": "white",
           "linecolor": "white",
           "ticks": "",
           "title": {
            "standoff": 15
           },
           "zerolinecolor": "white",
           "zerolinewidth": 2
          }
         }
        },
        "title": {
         "text": "z = 8.31 + -0.21 * zcr + -0.07 * f0",
         "x": 0.5,
         "xanchor": "center"
        }
       }
      }
     },
     "metadata": {},
     "output_type": "display_data"
    }
   ],
   "source": [
    "if len(dicc_model) == 2:\n",
    "    import plotly.express as px\n",
    "    import plotly.graph_objects as go\n",
    "\n",
    "    # Seleccionamos solo las características seleccionadas en X\n",
    "    X_selected = X[:, selected_features]\n",
    "\n",
    "    # Entrenamos el modelo de regresión con las características seleccionadas\n",
    "    regr_multivar = SVR(kernel='linear')\n",
    "    regr_multivar.fit(X_selected, y)\n",
    "\n",
    "    # Obtenemos las predicciones del modelo para las características seleccionadas\n",
    "    y_pred = regr_multivar.predict(X_selected)\n",
    "\n",
    "    # Crear la figura\n",
    "    fig = px.scatter_3d(x=X_selected[:, 0], y=X_selected[:, 1], z=y)\n",
    "\n",
    "    # Crear el plano de regresión\n",
    "    xx, yy = np.meshgrid(X_selected[:, 0], X_selected[:, 1])\n",
    "    zz = regr_multivar.intercept_ + np.dot(np.array([xx.ravel(), yy.ravel()]).T, regr_multivar.coef_.ravel()).reshape(xx.shape)\n",
    "    fig.add_trace(go.Surface(x=xx, y=yy, z=zz, opacity=0.5))\n",
    "\n",
    "    # Construir la cadena de texto para la ecuación del plano\n",
    "    equation = f'z = {regr_multivar.intercept_[0].round(2)}'\n",
    "    for i, (key, model) in enumerate(dicc_model.items()):\n",
    "        equation += f' + {regr_multivar.coef_[0][i].round(2)} * {key.replace(\"_model\", \"\")}'\n",
    "    \n",
    "    # Centrar el título\n",
    "    fig.update_layout(title=dict(text=equation, x=0.5, xanchor='center'))\n",
    "\n",
    "    # Etiquetas de los ejes y rango del eje z\n",
    "    fig.update_layout(scene=dict(xaxis_title=list(dicc_model.keys())[0].replace(\"_model\", \"\"), yaxis_title=list(dicc_model.keys())[1].replace(\"_model\", \"\"), zaxis_title='Cadencia', zaxis=dict(range=[0, 6]), yaxis=dict(tickvals=[75, 80, 85, 90, 95])))\n",
    "\n",
    "    fig.write_html(os.path.join(PATH, TEST_FOLDER, REGGRESSION_FOLDER, NO_PARAMETRIC_FOLDER, CADENCIA_FOLDER, MALE_FOLDER, 'regresion_cadencia_multivariable_male.html'))\n",
    "\n",
    "    fig.show()\n"
   ]
  },
  {
   "attachments": {},
   "cell_type": "markdown",
   "id": "43b90f4a",
   "metadata": {
    "papermill": {
     "duration": 0.116854,
     "end_time": "2023-06-11T01:40:58.525552",
     "exception": false,
     "start_time": "2023-06-11T01:40:58.408698",
     "status": "completed"
    },
    "tags": []
   },
   "source": [
    "#### Femenino"
   ]
  },
  {
   "cell_type": "code",
   "execution_count": 81,
   "id": "a9fab79f",
   "metadata": {
    "execution": {
     "iopub.execute_input": "2023-06-11T01:40:58.757912Z",
     "iopub.status.busy": "2023-06-11T01:40:58.757912Z",
     "iopub.status.idle": "2023-06-11T01:40:58.773634Z",
     "shell.execute_reply": "2023-06-11T01:40:58.773634Z"
    },
    "papermill": {
     "duration": 0.138716,
     "end_time": "2023-06-11T01:40:58.773634",
     "exception": false,
     "start_time": "2023-06-11T01:40:58.634918",
     "status": "completed"
    },
    "tags": []
   },
   "outputs": [],
   "source": [
    "mask_gender = df_cadencia.genero == 'femenino'\n",
    "\n",
    "df_cadencia_female = df_cadencia[mask_gender].drop(columns=['genero'])"
   ]
  },
  {
   "cell_type": "code",
   "execution_count": 82,
   "id": "7b4cd46a",
   "metadata": {
    "execution": {
     "iopub.execute_input": "2023-06-11T01:40:59.026064Z",
     "iopub.status.busy": "2023-06-11T01:40:59.026064Z",
     "iopub.status.idle": "2023-06-11T01:40:59.091196Z",
     "shell.execute_reply": "2023-06-11T01:40:59.091196Z"
    },
    "papermill": {
     "duration": 0.192663,
     "end_time": "2023-06-11T01:40:59.091196",
     "exception": false,
     "start_time": "2023-06-11T01:40:58.898533",
     "status": "completed"
    },
    "tags": []
   },
   "outputs": [
    {
     "name": "stdout",
     "output_type": "stream",
     "text": [
      "Características seleccionadas: (1, 2)\n"
     ]
    }
   ],
   "source": [
    "# Cargamos los datos\n",
    "X = np.array(df_cadencia_female.drop(columns=['Cadencia'])) # df_objetivos es el DataFrame con los parámetros objetivos\n",
    "y = np.array(df_cadencia_female.Cadencia) # df_subjetivos es el DataFrame con los parámetros subjetivos\n",
    "\n",
    "# Creamos el modelo de regresión kNN\n",
    "regr_multivar = SVR(kernel='linear')\n",
    "\n",
    "# Creamos el selector de características hacia adelante\n",
    "forward_selector = SequentialFeatureSelector(regr_multivar, k_features='best', forward=True, scoring='neg_mean_squared_error')\n",
    "\n",
    "# Entrenamos el selector de características\n",
    "forward_selector.fit(X, y)\n",
    "\n",
    "# Obtenemos las características seleccionadas\n",
    "selected_features = forward_selector.k_feature_idx_\n",
    "\n",
    "# Imprimimos las características seleccionadas\n",
    "print('Características seleccionadas:', selected_features)\n"
   ]
  },
  {
   "cell_type": "code",
   "execution_count": 83,
   "id": "bdb8a4ba",
   "metadata": {
    "execution": {
     "iopub.execute_input": "2023-06-11T01:40:59.323713Z",
     "iopub.status.busy": "2023-06-11T01:40:59.323713Z",
     "iopub.status.idle": "2023-06-11T01:41:15.617840Z",
     "shell.execute_reply": "2023-06-11T01:41:15.617840Z"
    },
    "papermill": {
     "duration": 16.417327,
     "end_time": "2023-06-11T01:41:15.617840",
     "exception": false,
     "start_time": "2023-06-11T01:40:59.200513",
     "status": "completed"
    },
    "tags": []
   },
   "outputs": [
    {
     "name": "stdout",
     "output_type": "stream",
     "text": [
      "ZCR p-valor: 0.5504495504495505\n",
      "RMS p-valor: 0.006993006993006993\n",
      "f0 p-valor: 0.5464535464535465\n"
     ]
    }
   ],
   "source": [
    "# Establecemos la semilla aleatoria para reproducibilidad\n",
    "random_state = check_random_state(0)\n",
    "\n",
    "p_values = []\n",
    "\n",
    "for i in range(X.shape[1]):\n",
    "    \n",
    "    # Seleccionamos solo una columna en X\n",
    "    X_single = X[:, i].reshape(-1, 1)\n",
    "    \n",
    "    # Aplicamos la prueba de permutación\n",
    "    score, permutation_scores, pvalue = permutation_test_score(regr_multivar, X_single, y, scoring='neg_mean_squared_error', cv=5, n_permutations=1000, random_state=random_state)\n",
    "    \n",
    "    p_values.append(pvalue)\n",
    "\n",
    "    # Imprimimos el p-valor\n",
    "    if i == 0:\n",
    "        var = 'ZCR'\n",
    "    elif i == 1:\n",
    "        var = 'RMS'\n",
    "    else:\n",
    "        var = 'f0'\n",
    "    dicc_p_value[var].append(pvalue)\n",
    "    print(f'{var} p-valor:', pvalue)\n",
    "\n",
    "dicc_p_value['subjetive_parameter'].append('Cadencia')\n",
    "dicc_p_value['genero'].append('femenino')\n"
   ]
  },
  {
   "cell_type": "code",
   "execution_count": 84,
   "id": "690f2f5e",
   "metadata": {
    "execution": {
     "iopub.execute_input": "2023-06-11T01:41:15.839639Z",
     "iopub.status.busy": "2023-06-11T01:41:15.839639Z",
     "iopub.status.idle": "2023-06-11T01:41:15.870972Z",
     "shell.execute_reply": "2023-06-11T01:41:15.870972Z"
    },
    "papermill": {
     "duration": 0.143807,
     "end_time": "2023-06-11T01:41:15.870972",
     "exception": false,
     "start_time": "2023-06-11T01:41:15.727165",
     "status": "completed"
    },
    "tags": []
   },
   "outputs": [],
   "source": [
    "# Dicc auxiliar con los nombres asociadas a las variables\n",
    "dicc_names_features = {\n",
    "    'zcr_model': 0,\n",
    "    'rms_model': 1,\n",
    "    'f0_model': 2\n",
    "}\n",
    "\n",
    "# Dicc de los modelos\n",
    "dicc_model = {}\n",
    "\n",
    "# Dicc de las predicciones\n",
    "dicc_pred = {}\n",
    "\n",
    "for selected_feature in selected_features:\n",
    "    # Entrenamos el modelo de regresión con las características seleccionadas\n",
    "    regr_multivar = SVR(kernel='linear')\n",
    "    regr_multivar.fit(X[:, selected_feature].reshape(-1, 1), y.ravel())\n",
    "\n",
    "    # Almacenamos en dicc_model la clave asociada al modelo que se entrenó y el objeto modelo\n",
    "    for key, value in dicc_names_features.items():\n",
    "        if value == selected_feature:\n",
    "            dicc_model[key] = regr_multivar\n",
    "\n",
    "    # Obtenemos las predicciones del modelo para las características seleccionadas\n",
    "    y_pred = regr_multivar.predict(X[:, selected_feature].reshape(-1, 1))\n",
    "\n",
    "    # Almacenamos en dicc_pred la clave asociada al modelo que se entrenó y la predicción\n",
    "    for key, value in dicc_names_features.items():\n",
    "        if value == selected_feature:\n",
    "            dicc_pred[key] = y_pred\n"
   ]
  },
  {
   "cell_type": "code",
   "execution_count": 85,
   "id": "1828995c",
   "metadata": {
    "execution": {
     "iopub.execute_input": "2023-06-11T01:41:16.108629Z",
     "iopub.status.busy": "2023-06-11T01:41:16.108629Z",
     "iopub.status.idle": "2023-06-11T01:41:16.124303Z",
     "shell.execute_reply": "2023-06-11T01:41:16.124303Z"
    },
    "papermill": {
     "duration": 0.130575,
     "end_time": "2023-06-11T01:41:16.124303",
     "exception": false,
     "start_time": "2023-06-11T01:41:15.993728",
     "status": "completed"
    },
    "tags": []
   },
   "outputs": [
    {
     "name": "stdout",
     "output_type": "stream",
     "text": [
      "y = 0.45 * RMS + 15.74 - p-valor = 0.007\n",
      "y = -0.01 * $f_{0}$ + 5.19 - p-valor = 0.546\n"
     ]
    }
   ],
   "source": [
    "list_equ = []\n",
    "\n",
    "for key, model in dicc_model.items():\n",
    "    # Obtenemos los valores de w y b\n",
    "    w = model.coef_[0][0]\n",
    "    b = model.intercept_[0]\n",
    "    \n",
    "    label = key.replace(\"_model\", \"\")\n",
    "    if label == 'f0':\n",
    "        label = r'$f_{0}$'\n",
    "    else:\n",
    "        label = label.upper()\n",
    "\n",
    "    # Construimos la cadena de texto para la ecuación del hiperplano y su p-valor\n",
    "    equation = f'y = {w:.2f} * {label} + {b:.2f} - p-valor = {p_values[dicc_names_features[key]]:.3f}'\n",
    "\n",
    "    # Agregamos la cadena a la lista\n",
    "    list_equ.append(equation)\n",
    "\n",
    "# Mostramos el resultado\n",
    "for equ in list_equ:\n",
    "    print(equ)\n"
   ]
  },
  {
   "cell_type": "code",
   "execution_count": 86,
   "id": "33e8c9e3",
   "metadata": {
    "execution": {
     "iopub.execute_input": "2023-06-11T01:41:16.372740Z",
     "iopub.status.busy": "2023-06-11T01:41:16.372740Z",
     "iopub.status.idle": "2023-06-11T01:41:17.075959Z",
     "shell.execute_reply": "2023-06-11T01:41:17.075959Z"
    },
    "papermill": {
     "duration": 0.826741,
     "end_time": "2023-06-11T01:41:17.075959",
     "exception": false,
     "start_time": "2023-06-11T01:41:16.249218",
     "status": "completed"
    },
    "tags": []
   },
   "outputs": [
    {
     "data": {
      "image/png": "[encoded data removed]",
      "text/plain": [
       "<Figure size 1200x400 with 2 Axes>"
      ]
     },
     "metadata": {},
     "output_type": "display_data"
    }
   ],
   "source": [
    "dims = (6 * len(dicc_model), 4)\n",
    "fig, ax = plt.subplots(figsize=dims, ncols=len(dicc_model))\n",
    "\n",
    "with sns.axes_style('darkgrid'):\n",
    "    for i, (key, model) in enumerate(dicc_model.items()):\n",
    "        if isinstance(ax, np.ndarray):\n",
    "            ax_i = ax[i]\n",
    "        else:\n",
    "            ax_i = ax\n",
    "        label = key.replace(\"_model\", \"\")\n",
    "        if label == 'f0':\n",
    "            label = r'$f_{0}$'\n",
    "        else:\n",
    "            label = label.upper()\n",
    "        g = sns.scatterplot(x=X[:, dicc_names_features[key]], y=y, ax=ax_i, color='blue')\n",
    "        g = sns.lineplot(x=X[:, dicc_names_features[key]], y=dicc_pred[key], ax=ax_i, color='red')\n",
    "        g.text(0.5, -0.1, label, weight='bold', size='large', family='Arial', stretch='extra-expanded', ha='center', va='top', transform=g.transAxes)\n",
    "        g.set_ylabel('Cadencia', weight='bold', size='large', alpha=0.8, family='Arial', stretch='extra-expanded')\n",
    "        g.set_title(list_equ[i], weight='bold', size='x-large', alpha=0.8, family='Arial', stretch='extra-expanded')\n",
    "        g.grid(alpha=0.7)\n",
    "        ax_i.set_ylim(0, 6)\n",
    "\n",
    "    plt.tight_layout()\n",
    "    plt.savefig(os.path.join(PATH, TEST_FOLDER, REGGRESSION_FOLDER, NO_PARAMETRIC_FOLDER, CADENCIA_FOLDER, FEMALE_FOLDER, 'regresiones_cadencia_female.png'))\n",
    "    plt.show()\n"
   ]
  },
  {
   "cell_type": "code",
   "execution_count": 87,
   "id": "dde67b70",
   "metadata": {
    "execution": {
     "iopub.execute_input": "2023-06-11T01:41:17.308215Z",
     "iopub.status.busy": "2023-06-11T01:41:17.308215Z",
     "iopub.status.idle": "2023-06-11T01:41:17.448925Z",
     "shell.execute_reply": "2023-06-11T01:41:17.448925Z"
    },
    "papermill": {
     "duration": 0.263594,
     "end_time": "2023-06-11T01:41:17.448925",
     "exception": false,
     "start_time": "2023-06-11T01:41:17.185331",
     "status": "completed"
    },
    "tags": []
   },
   "outputs": [
    {
     "data": {
      "application/vnd.plotly.v1+json": {
       "config": {
        "plotlyServerURL": "https://plot.ly"
       },
       "data": [
        {
         "hovertemplate": "x=%{x}<br>y=%{y}<br>z=%{z}<extra></extra>",
         "legendgroup": "",
         "marker": {
          "color": "#636efa",
          "symbol": "circle"
         },
         "mode": "markers",
         "name": "",
         "scene": "scene",
         "showlegend": false,
         "type": "scatter3d",
         "x": [
          -27.5,
          -26.1,
          -27,
          -30,
          -29,
          -28.5,
          -25.5,
          -26.5,
          -29.5,
          -28
         ],
         "y": [
          111.111716480441,
          116.353345265724,
          101.312090449968,
          101.534873965827,
          117.741416962869,
          119.577565453938,
          100.992252773665,
          117.898565521619,
          102.269338478718,
          94.7081174667994
         ],
         "z": [
          4.224489795918367,
          3.755102040816327,
          3.836734693877551,
          2.142857142857143,
          1.9795918367346936,
          2.571428571428572,
          4.36734693877551,
          3.63265306122449,
          2.7551020408163267,
          3.959183673469388
         ]
        },
        {
         "opacity": 0.5,
         "type": "surface",
         "x": [
          [
           -27.5,
           -26.1,
           -27,
           -30,
           -29,
           -28.5,
           -25.5,
           -26.5,
           -29.5,
           -28
          ],
          [
           -27.5,
           -26.1,
           -27,
           -30,
           -29,
           -28.5,
           -25.5,
           -26.5,
           -29.5,
           -28
          ],
          [
           -27.5,
           -26.1,
           -27,
           -30,
           -29,
           -28.5,
           -25.5,
           -26.5,
           -29.5,
           -28
          ],
          [
           -27.5,
           -26.1,
           -27,
           -30,
           -29,
           -28.5,
           -25.5,
           -26.5,
           -29.5,
           -28
          ],
          [
           -27.5,
           -26.1,
           -27,
           -30,
           -29,
           -28.5,
           -25.5,
           -26.5,
           -29.5,
           -28
          ],
          [
           -27.5,
           -26.1,
           -27,
           -30,
           -29,
           -28.5,
           -25.5,
           -26.5,
           -29.5,
           -28
          ],
          [
           -27.5,
           -26.1,
           -27,
           -30,
           -29,
           -28.5,
           -25.5,
           -26.5,
           -29.5,
           -28
          ],
          [
           -27.5,
           -26.1,
           -27,
           -30,
           -29,
           -28.5,
           -25.5,
           -26.5,
           -29.5,
           -28
          ],
          [
           -27.5,
           -26.1,
           -27,
           -30,
           -29,
           -28.5,
           -25.5,
           -26.5,
           -29.5,
           -28
          ],
          [
           -27.5,
           -26.1,
           -27,
           -30,
           -29,
           -28.5,
           -25.5,
           -26.5,
           -29.5,
           -28
          ]
         ],
         "y": [
          [
           111.111716480441,
           111.111716480441,
           111.111716480441,
           111.111716480441,
           111.111716480441,
           111.111716480441,
           111.111716480441,
           111.111716480441,
           111.111716480441,
           111.111716480441
          ],
          [
           116.353345265724,
           116.353345265724,
           116.353345265724,
           116.353345265724,
           116.353345265724,
           116.353345265724,
           116.353345265724,
           116.353345265724,
           116.353345265724,
           116.353345265724
          ],
          [
           101.312090449968,
           101.312090449968,
           101.312090449968,
           101.312090449968,
           101.312090449968,
           101.312090449968,
           101.312090449968,
           101.312090449968,
           101.312090449968,
           101.312090449968
          ],
          [
           101.534873965827,
           101.534873965827,
           101.534873965827,
           101.534873965827,
           101.534873965827,
           101.534873965827,
           101.534873965827,
           101.534873965827,
           101.534873965827,
           101.534873965827
          ],
          [
           117.741416962869,
           117.741416962869,
           117.741416962869,
           117.741416962869,
           117.741416962869,
           117.741416962869,
           117.741416962869,
           117.741416962869,
           117.741416962869,
           117.741416962869
          ],
          [
           119.577565453938,
           119.577565453938,
           119.577565453938,
           119.577565453938,
           119.577565453938,
           119.577565453938,
           119.577565453938,
           119.577565453938,
           119.577565453938,
           119.577565453938
          ],
          [
           100.992252773665,
           100.992252773665,
           100.992252773665,
           100.992252773665,
           100.992252773665,
           100.992252773665,
           100.992252773665,
           100.992252773665,
           100.992252773665,
           100.992252773665
          ],
          [
           117.898565521619,
           117.898565521619,
           117.898565521619,
           117.898565521619,
           117.898565521619,
           117.898565521619,
           117.898565521619,
           117.898565521619,
           117.898565521619,
           117.898565521619
          ],
          [
           102.269338478718,
           102.269338478718,
           102.269338478718,
           102.269338478718,
           102.269338478718,
           102.269338478718,
           102.269338478718,
           102.269338478718,
           102.269338478718,
           102.269338478718
          ],
          [
           94.7081174667994,
           94.7081174667994,
           94.7081174667994,
           94.7081174667994,
           94.7081174667994,
           94.7081174667994,
           94.7081174667994,
           94.7081174667994,
           94.7081174667994,
           94.7081174667994
          ]
         ],
         "z": [
          [
           3.3025312544912637,
           3.9982982084735355,
           3.551019452342075,
           2.060090265237207,
           2.5570666609388297,
           2.805554858789641,
           4.296484045894509,
           3.7995076501928864,
           2.3085784630880184,
           3.0540430566404524
          ],
          [
           3.096533219848787,
           3.792300173831059,
           3.3450214176995985,
           1.8540922305947305,
           2.351068626296353,
           2.5995568241471645,
           4.0904860112520325,
           3.59350961555041,
           2.102580428445542,
           2.848045021997976
          ],
          [
           3.6876603403541672,
           4.383427294336439,
           3.9361485382049786,
           2.4452193511001106,
           2.9421957468017332,
           3.1906839446525446,
           4.681613131757413,
           4.18463673605579,
           2.693707548950922,
           3.439172142503356
          ],
          [
           3.678904862181703,
           4.374671816163975,
           3.9273930600325144,
           2.4364638729276464,
           2.933440268629269,
           3.1819284664800804,
           4.672857653584948,
           4.175881257883326,
           2.6849520707784578,
           3.4304166643308918
          ],
          [
           3.041981466325616,
           3.737748420307888,
           3.2904696641764275,
           1.7995404770715595,
           2.296516872773182,
           2.5450050706239935,
           4.0359342577288615,
           3.538957862027239,
           2.048028674922371,
           2.793493268474805
          ],
          [
           2.969820121834001,
           3.6655870758162727,
           3.2183083196848123,
           1.7273791325799444,
           2.224355528281567,
           2.4728437261323784,
           3.9637729132372463,
           3.4667965175356237,
           1.9758673304307557,
           2.7213319239831897
          ],
          [
           3.7002300844970613,
           4.395997038479333,
           3.9487182823478726,
           2.4577890952430046,
           2.9547654909446273,
           3.2032536887954386,
           4.694182875900307,
           4.197206480198684,
           2.706277293093816,
           3.45174188664625
          ],
          [
           3.0358054673040336,
           3.7315724212863053,
           3.284293665154845,
           1.793364478049977,
           2.2903408737515996,
           2.538829071602411,
           4.029758258707279,
           3.532781863005656,
           2.0418526759007882,
           2.7873172694532222
          ],
          [
           3.6500401233060735,
           4.345807077288345,
           3.898528321156885,
           2.407599134052017,
           2.9045755297536395,
           3.153063727604451,
           4.643992914709319,
           4.147016519007696,
           2.656087331902828,
           3.401551925455262
          ],
          [
           3.9471990278675584,
           4.64296598184983,
           4.19568722571837,
           2.7047580386135017,
           3.2017344343151244,
           3.4502226321659357,
           4.941151819270804,
           4.444175423569181,
           2.953246236464313,
           3.698710830016747
          ]
         ]
        }
       ],
       "layout": {
        "legend": {
         "tracegroupgap": 0
        },
        "margin": {
         "t": 60
        },
        "scene": {
         "domain": {
          "x": [
           0,
           1
          ],
          "y": [
           0,
           1
          ]
         },
         "xaxis": {
          "title": {
           "text": "rms"
          }
         },
         "yaxis": {
          "tickvals": [
           100,
           105,
           110,
           115,
           120
          ],
          "title": {
           "text": "f0"
          }
         },
         "zaxis": {
          "range": [
           0,
           6
          ],
          "title": {
           "text": "Cadencia"
          }
         }
        },
        "template": {
         "data": {
          "bar": [
           {
            "error_x": {
             "color": "#2a3f5f"
            },
            "error_y": {
             "color": "#2a3f5f"
            },
            "marker": {
             "line": {
              "color": "#E5ECF6",
              "width": 0.5
             },
             "pattern": {
              "fillmode": "overlay",
              "size": 10,
              "solidity": 0.2
             }
            },
            "type": "bar"
           }
          ],
          "barpolar": [
           {
            "marker": {
             "line": {
              "color": "#E5ECF6",
              "width": 0.5
             },
             "pattern": {
              "fillmode": "overlay",
              "size": 10,
              "solidity": 0.2
             }
            },
            "type": "barpolar"
           }
          ],
          "carpet": [
           {
            "aaxis": {
             "endlinecolor": "#2a3f5f",
             "gridcolor": "white",
             "linecolor": "white",
             "minorgridcolor": "white",
             "startlinecolor": "#2a3f5f"
            },
            "baxis": {
             "endlinecolor": "#2a3f5f",
             "gridcolor": "white",
             "linecolor": "white",
             "minorgridcolor": "white",
             "startlinecolor": "#2a3f5f"
            },
            "type": "carpet"
           }
          ],
          "choropleth": [
           {
            "colorbar": {
             "outlinewidth": 0,
             "ticks": ""
            },
            "type": "choropleth"
           }
          ],
          "contour": [
           {
            "colorbar": {
             "outlinewidth": 0,
             "ticks": ""
            },
            "colorscale": [
             [
              0,
              "#0d0887"
             ],
             [
              0.1111111111111111,
              "#46039f"
             ],
             [
              0.2222222222222222,
              "#7201a8"
             ],
             [
              0.3333333333333333,
              "#9c179e"
             ],
             [
              0.4444444444444444,
              "#bd3786"
             ],
             [
              0.5555555555555556,
              "#d8576b"
             ],
             [
              0.6666666666666666,
              "#ed7953"
             ],
             [
              0.7777777777777778,
              "#fb9f3a"
             ],
             [
              0.8888888888888888,
              "#fdca26"
             ],
             [
              1,
              "#f0f921"
             ]
            ],
            "type": "contour"
           }
          ],
          "contourcarpet": [
           {
            "colorbar": {
             "outlinewidth": 0,
             "ticks": ""
            },
            "type": "contourcarpet"
           }
          ],
          "heatmap": [
           {
            "colorbar": {
             "outlinewidth": 0,
             "ticks": ""
            },
            "colorscale": [
             [
              0,
              "#0d0887"
             ],
             [
              0.1111111111111111,
              "#46039f"
             ],
             [
              0.2222222222222222,
              "#7201a8"
             ],
             [
              0.3333333333333333,
              "#9c179e"
             ],
             [
              0.4444444444444444,
              "#bd3786"
             ],
             [
              0.5555555555555556,
              "#d8576b"
             ],
             [
              0.6666666666666666,
              "#ed7953"
             ],
             [
              0.7777777777777778,
              "#fb9f3a"
             ],
             [
              0.8888888888888888,
              "#fdca26"
             ],
             [
              1,
              "#f0f921"
             ]
            ],
            "type": "heatmap"
           }
          ],
          "heatmapgl": [
           {
            "colorbar": {
             "outlinewidth": 0,
             "ticks": ""
            },
            "colorscale": [
             [
              0,
              "#0d0887"
             ],
             [
              0.1111111111111111,
              "#46039f"
             ],
             [
              0.2222222222222222,
              "#7201a8"
             ],
             [
              0.3333333333333333,
              "#9c179e"
             ],
             [
              0.4444444444444444,
              "#bd3786"
             ],
             [
              0.5555555555555556,
              "#d8576b"
             ],
             [
              0.6666666666666666,
              "#ed7953"
             ],
             [
              0.7777777777777778,
              "#fb9f3a"
             ],
             [
              0.8888888888888888,
              "#fdca26"
             ],
             [
              1,
              "#f0f921"
             ]
            ],
            "type": "heatmapgl"
           }
          ],
          "histogram": [
           {
            "marker": {
             "pattern": {
              "fillmode": "overlay",
              "size": 10,
              "solidity": 0.2
             }
            },
            "type": "histogram"
           }
          ],
          "histogram2d": [
           {
            "colorbar": {
             "outlinewidth": 0,
             "ticks": ""
            },
            "colorscale": [
             [
              0,
              "#0d0887"
             ],
             [
              0.1111111111111111,
              "#46039f"
             ],
             [
              0.2222222222222222,
              "#7201a8"
             ],
             [
              0.3333333333333333,
              "#9c179e"
             ],
             [
              0.4444444444444444,
              "#bd3786"
             ],
             [
              0.5555555555555556,
              "#d8576b"
             ],
             [
              0.6666666666666666,
              "#ed7953"
             ],
             [
              0.7777777777777778,
              "#fb9f3a"
             ],
             [
              0.8888888888888888,
              "#fdca26"
             ],
             [
              1,
              "#f0f921"
             ]
            ],
            "type": "histogram2d"
           }
          ],
          "histogram2dcontour": [
           {
            "colorbar": {
             "outlinewidth": 0,
             "ticks": ""
            },
            "colorscale": [
             [
              0,
              "#0d0887"
             ],
             [
              0.1111111111111111,
              "#46039f"
             ],
             [
              0.2222222222222222,
              "#7201a8"
             ],
             [
              0.3333333333333333,
              "#9c179e"
             ],
             [
              0.4444444444444444,
              "#bd3786"
             ],
             [
              0.5555555555555556,
              "#d8576b"
             ],
             [
              0.6666666666666666,
              "#ed7953"
             ],
             [
              0.7777777777777778,
              "#fb9f3a"
             ],
             [
              0.8888888888888888,
              "#fdca26"
             ],
             [
              1,
              "#f0f921"
             ]
            ],
            "type": "histogram2dcontour"
           }
          ],
          "mesh3d": [
           {
            "colorbar": {
             "outlinewidth": 0,
             "ticks": ""
            },
            "type": "mesh3d"
           }
          ],
          "parcoords": [
           {
            "line": {
             "colorbar": {
              "outlinewidth": 0,
              "ticks": ""
             }
            },
            "type": "parcoords"
           }
          ],
          "pie": [
           {
            "automargin": true,
            "type": "pie"
           }
          ],
          "scatter": [
           {
            "fillpattern": {
             "fillmode": "overlay",
             "size": 10,
             "solidity": 0.2
            },
            "type": "scatter"
           }
          ],
          "scatter3d": [
           {
            "line": {
             "colorbar": {
              "outlinewidth": 0,
              "ticks": ""
             }
            },
            "marker": {
             "colorbar": {
              "outlinewidth": 0,
              "ticks": ""
             }
            },
            "type": "scatter3d"
           }
          ],
          "scattercarpet": [
           {
            "marker": {
             "colorbar": {
              "outlinewidth": 0,
              "ticks": ""
             }
            },
            "type": "scattercarpet"
           }
          ],
          "scattergeo": [
           {
            "marker": {
             "colorbar": {
              "outlinewidth": 0,
              "ticks": ""
             }
            },
            "type": "scattergeo"
           }
          ],
          "scattergl": [
           {
            "marker": {
             "colorbar": {
              "outlinewidth": 0,
              "ticks": ""
             }
            },
            "type": "scattergl"
           }
          ],
          "scattermapbox": [
           {
            "marker": {
             "colorbar": {
              "outlinewidth": 0,
              "ticks": ""
             }
            },
            "type": "scattermapbox"
           }
          ],
          "scatterpolar": [
           {
            "marker": {
             "colorbar": {
              "outlinewidth": 0,
              "ticks": ""
             }
            },
            "type": "scatterpolar"
           }
          ],
          "scatterpolargl": [
           {
            "marker": {
             "colorbar": {
              "outlinewidth": 0,
              "ticks": ""
             }
            },
            "type": "scatterpolargl"
           }
          ],
          "scatterternary": [
           {
            "marker": {
             "colorbar": {
              "outlinewidth": 0,
              "ticks": ""
             }
            },
            "type": "scatterternary"
           }
          ],
          "surface": [
           {
            "colorbar": {
             "outlinewidth": 0,
             "ticks": ""
            },
            "colorscale": [
             [
              0,
              "#0d0887"
             ],
             [
              0.1111111111111111,
              "#46039f"
             ],
             [
              0.2222222222222222,
              "#7201a8"
             ],
             [
              0.3333333333333333,
              "#9c179e"
             ],
             [
              0.4444444444444444,
              "#bd3786"
             ],
             [
              0.5555555555555556,
              "#d8576b"
             ],
             [
              0.6666666666666666,
              "#ed7953"
             ],
             [
              0.7777777777777778,
              "#fb9f3a"
             ],
             [
              0.8888888888888888,
              "#fdca26"
             ],
             [
              1,
              "#f0f921"
             ]
            ],
            "type": "surface"
           }
          ],
          "table": [
           {
            "cells": {
             "fill": {
              "color": "#EBF0F8"
             },
             "line": {
              "color": "white"
             }
            },
            "header": {
             "fill": {
              "color": "#C8D4E3"
             },
             "line": {
              "color": "white"
             }
            },
            "type": "table"
           }
          ]
         },
         "layout": {
          "annotationdefaults": {
           "arrowcolor": "#2a3f5f",
           "arrowhead": 0,
           "arrowwidth": 1
          },
          "autotypenumbers": "strict",
          "coloraxis": {
           "colorbar": {
            "outlinewidth": 0,
            "ticks": ""
           }
          },
          "colorscale": {
           "diverging": [
            [
             0,
             "#8e0152"
            ],
            [
             0.1,
             "#c51b7d"
            ],
            [
             0.2,
             "#de77ae"
            ],
            [
             0.3,
             "#f1b6da"
            ],
            [
             0.4,
             "#fde0ef"
            ],
            [
             0.5,
             "#f7f7f7"
            ],
            [
             0.6,
             "#e6f5d0"
            ],
            [
             0.7,
             "#b8e186"
            ],
            [
             0.8,
             "#7fbc41"
            ],
            [
             0.9,
             "#4d9221"
            ],
            [
             1,
             "#276419"
            ]
           ],
           "sequential": [
            [
             0,
             "#0d0887"
            ],
            [
             0.1111111111111111,
             "#46039f"
            ],
            [
             0.2222222222222222,
             "#7201a8"
            ],
            [
             0.3333333333333333,
             "#9c179e"
            ],
            [
             0.4444444444444444,
             "#bd3786"
            ],
            [
             0.5555555555555556,
             "#d8576b"
            ],
            [
             0.6666666666666666,
             "#ed7953"
            ],
            [
             0.7777777777777778,
             "#fb9f3a"
            ],
            [
             0.8888888888888888,
             "#fdca26"
            ],
            [
             1,
             "#f0f921"
            ]
           ],
           "sequentialminus": [
            [
             0,
             "#0d0887"
            ],
            [
             0.1111111111111111,
             "#46039f"
            ],
            [
             0.2222222222222222,
             "#7201a8"
            ],
            [
             0.3333333333333333,
             "#9c179e"
            ],
            [
             0.4444444444444444,
             "#bd3786"
            ],
            [
             0.5555555555555556,
             "#d8576b"
            ],
            [
             0.6666666666666666,
             "#ed7953"
            ],
            [
             0.7777777777777778,
             "#fb9f3a"
            ],
            [
             0.8888888888888888,
             "#fdca26"
            ],
            [
             1,
             "#f0f921"
            ]
           ]
          },
          "colorway": [
           "#636efa",
           "#EF553B",
           "#00cc96",
           "#ab63fa",
           "#FFA15A",
           "#19d3f3",
           "#FF6692",
           "#B6E880",
           "#FF97FF",
           "#FECB52"
          ],
          "font": {
           "color": "#2a3f5f"
          },
          "geo": {
           "bgcolor": "white",
           "lakecolor": "white",
           "landcolor": "#E5ECF6",
           "showlakes": true,
           "showland": true,
           "subunitcolor": "white"
          },
          "hoverlabel": {
           "align": "left"
          },
          "hovermode": "closest",
          "mapbox": {
           "style": "light"
          },
          "paper_bgcolor": "white",
          "plot_bgcolor": "#E5ECF6",
          "polar": {
           "angularaxis": {
            "gridcolor": "white",
            "linecolor": "white",
            "ticks": ""
           },
           "bgcolor": "#E5ECF6",
           "radialaxis": {
            "gridcolor": "white",
            "linecolor": "white",
            "ticks": ""
           }
          },
          "scene": {
           "xaxis": {
            "backgroundcolor": "#E5ECF6",
            "gridcolor": "white",
            "gridwidth": 2,
            "linecolor": "white",
            "showbackground": true,
            "ticks": "",
            "zerolinecolor": "white"
           },
           "yaxis": {
            "backgroundcolor": "#E5ECF6",
            "gridcolor": "white",
            "gridwidth": 2,
            "linecolor": "white",
            "showbackground": true,
            "ticks": "",
            "zerolinecolor": "white"
           },
           "zaxis": {
            "backgroundcolor": "#E5ECF6",
            "gridcolor": "white",
            "gridwidth": 2,
            "linecolor": "white",
            "showbackground": true,
            "ticks": "",
            "zerolinecolor": "white"
           }
          },
          "shapedefaults": {
           "line": {
            "color": "#2a3f5f"
           }
          },
          "ternary": {
           "aaxis": {
            "gridcolor": "white",
            "linecolor": "white",
            "ticks": ""
           },
           "baxis": {
            "gridcolor": "white",
            "linecolor": "white",
            "ticks": ""
           },
           "bgcolor": "#E5ECF6",
           "caxis": {
            "gridcolor": "white",
            "linecolor": "white",
            "ticks": ""
           }
          },
          "title": {
           "x": 0.05
          },
          "xaxis": {
           "automargin": true,
           "gridcolor": "white",
           "linecolor": "white",
           "ticks": "",
           "title": {
            "standoff": 15
           },
           "zerolinecolor": "white",
           "zerolinewidth": 2
          },
          "yaxis": {
           "automargin": true,
           "gridcolor": "white",
           "linecolor": "white",
           "ticks": "",
           "title": {
            "standoff": 15
           },
           "zerolinecolor": "white",
           "zerolinewidth": 2
          }
         }
        },
        "title": {
         "text": "z = 21.34 + 0.5 * rms + -0.04 * f0",
         "x": 0.5,
         "xanchor": "center"
        }
       }
      }
     },
     "metadata": {},
     "output_type": "display_data"
    }
   ],
   "source": [
    "if len(dicc_model) == 2:\n",
    "    import plotly.express as px\n",
    "    import plotly.graph_objects as go\n",
    "\n",
    "    # Seleccionamos solo las características seleccionadas en X\n",
    "    X_selected = X[:, selected_features]\n",
    "\n",
    "    # Entrenamos el modelo de regresión con las características seleccionadas\n",
    "    regr_multivar = SVR(kernel='linear')\n",
    "    regr_multivar.fit(X_selected, y)\n",
    "\n",
    "    # Obtenemos las predicciones del modelo para las características seleccionadas\n",
    "    y_pred = regr_multivar.predict(X_selected)\n",
    "\n",
    "    # Crear la figura\n",
    "    fig = px.scatter_3d(x=X_selected[:, 0], y=X_selected[:, 1], z=y)\n",
    "\n",
    "    # Crear el plano de regresión\n",
    "    xx, yy = np.meshgrid(X_selected[:, 0], X_selected[:, 1])\n",
    "    zz = regr_multivar.intercept_ + np.dot(np.array([xx.ravel(), yy.ravel()]).T, regr_multivar.coef_.ravel()).reshape(xx.shape)\n",
    "    fig.add_trace(go.Surface(x=xx, y=yy, z=zz, opacity=0.5))\n",
    "\n",
    "    # Construir la cadena de texto para la ecuación del plano\n",
    "    equation = f'z = {regr_multivar.intercept_[0].round(2)}'\n",
    "    for i, (key, model) in enumerate(dicc_model.items()):\n",
    "        equation += f' + {regr_multivar.coef_[0][i].round(2)} * {key.replace(\"_model\", \"\")}'\n",
    "    \n",
    "    # Centrar el título\n",
    "    fig.update_layout(title=dict(text=equation, x=0.5, xanchor='center'))\n",
    "\n",
    "    # Etiquetas de los ejes y rango del eje z\n",
    "    fig.update_layout(scene=dict(xaxis_title=list(dicc_model.keys())[0].replace(\"_model\", \"\"), yaxis_title=list(dicc_model.keys())[1].replace(\"_model\", \"\"), zaxis_title='Cadencia', zaxis=dict(range=[0, 6]), yaxis=dict(tickvals=[100, 105, 110, 115, 120])))\n",
    "\n",
    "    fig.write_html(os.path.join(PATH, TEST_FOLDER, REGGRESSION_FOLDER, NO_PARAMETRIC_FOLDER, CADENCIA_FOLDER, FEMALE_FOLDER, 'regresion_cadencia_multivariable_female.html'))\n",
    "\n",
    "    fig.show()\n"
   ]
  },
  {
   "attachments": {},
   "cell_type": "markdown",
   "id": "34d381fe",
   "metadata": {},
   "source": [
    "## Output p-values regressions"
   ]
  },
  {
   "cell_type": "code",
   "execution_count": 88,
   "id": "49717feb",
   "metadata": {},
   "outputs": [],
   "source": [
    "df_output_p_value_regression = pd.DataFrame(dicc_p_value)"
   ]
  },
  {
   "cell_type": "code",
   "execution_count": 89,
   "id": "49d26b08",
   "metadata": {},
   "outputs": [
    {
     "data": {
      "text/html": [
       "<div>\n",
       "<style scoped>\n",
       "    .dataframe tbody tr th:only-of-type {\n",
       "        vertical-align: middle;\n",
       "    }\n",
       "\n",
       "    .dataframe tbody tr th {\n",
       "        vertical-align: top;\n",
       "    }\n",
       "\n",
       "    .dataframe thead th {\n",
       "        text-align: right;\n",
       "    }\n",
       "</style>\n",
       "<table border=\"1\" class=\"dataframe\">\n",
       "  <thead>\n",
       "    <tr style=\"text-align: right;\">\n",
       "      <th></th>\n",
       "      <th>subjetive_parameter</th>\n",
       "      <th>ZCR</th>\n",
       "      <th>RMS</th>\n",
       "      <th>f0</th>\n",
       "      <th>genero</th>\n",
       "    </tr>\n",
       "  </thead>\n",
       "  <tbody>\n",
       "    <tr>\n",
       "      <th>0</th>\n",
       "      <td>Inteligibilidad</td>\n",
       "      <td>0.006993</td>\n",
       "      <td>0.258741</td>\n",
       "      <td>0.092907</td>\n",
       "      <td>masculino</td>\n",
       "    </tr>\n",
       "    <tr>\n",
       "      <th>1</th>\n",
       "      <td>Inteligibilidad</td>\n",
       "      <td>0.148851</td>\n",
       "      <td>0.104895</td>\n",
       "      <td>0.490509</td>\n",
       "      <td>femenino</td>\n",
       "    </tr>\n",
       "    <tr>\n",
       "      <th>2</th>\n",
       "      <td>Pronunciación</td>\n",
       "      <td>0.103896</td>\n",
       "      <td>0.800200</td>\n",
       "      <td>0.195804</td>\n",
       "      <td>masculino</td>\n",
       "    </tr>\n",
       "    <tr>\n",
       "      <th>3</th>\n",
       "      <td>Pronunciación</td>\n",
       "      <td>0.445554</td>\n",
       "      <td>0.362637</td>\n",
       "      <td>0.343656</td>\n",
       "      <td>femenino</td>\n",
       "    </tr>\n",
       "    <tr>\n",
       "      <th>4</th>\n",
       "      <td>Acentuación</td>\n",
       "      <td>0.170829</td>\n",
       "      <td>0.600400</td>\n",
       "      <td>0.134865</td>\n",
       "      <td>masculino</td>\n",
       "    </tr>\n",
       "    <tr>\n",
       "      <th>5</th>\n",
       "      <td>Acentuación</td>\n",
       "      <td>0.553447</td>\n",
       "      <td>0.048951</td>\n",
       "      <td>0.383616</td>\n",
       "      <td>femenino</td>\n",
       "    </tr>\n",
       "    <tr>\n",
       "      <th>6</th>\n",
       "      <td>Naturalidad</td>\n",
       "      <td>0.014985</td>\n",
       "      <td>0.011988</td>\n",
       "      <td>0.012987</td>\n",
       "      <td>masculino</td>\n",
       "    </tr>\n",
       "    <tr>\n",
       "      <th>7</th>\n",
       "      <td>Naturalidad</td>\n",
       "      <td>0.431568</td>\n",
       "      <td>0.018981</td>\n",
       "      <td>0.231768</td>\n",
       "      <td>femenino</td>\n",
       "    </tr>\n",
       "    <tr>\n",
       "      <th>8</th>\n",
       "      <td>Cadencia</td>\n",
       "      <td>0.072927</td>\n",
       "      <td>0.404595</td>\n",
       "      <td>0.034965</td>\n",
       "      <td>masculino</td>\n",
       "    </tr>\n",
       "    <tr>\n",
       "      <th>9</th>\n",
       "      <td>Cadencia</td>\n",
       "      <td>0.550450</td>\n",
       "      <td>0.006993</td>\n",
       "      <td>0.546454</td>\n",
       "      <td>femenino</td>\n",
       "    </tr>\n",
       "  </tbody>\n",
       "</table>\n",
       "</div>"
      ],
      "text/plain": [
       "  subjetive_parameter       ZCR       RMS        f0     genero\n",
       "0     Inteligibilidad  0.006993  0.258741  0.092907  masculino\n",
       "1     Inteligibilidad  0.148851  0.104895  0.490509   femenino\n",
       "2       Pronunciación  0.103896  0.800200  0.195804  masculino\n",
       "3       Pronunciación  0.445554  0.362637  0.343656   femenino\n",
       "4         Acentuación  0.170829  0.600400  0.134865  masculino\n",
       "5         Acentuación  0.553447  0.048951  0.383616   femenino\n",
       "6         Naturalidad  0.014985  0.011988  0.012987  masculino\n",
       "7         Naturalidad  0.431568  0.018981  0.231768   femenino\n",
       "8            Cadencia  0.072927  0.404595  0.034965  masculino\n",
       "9            Cadencia  0.550450  0.006993  0.546454   femenino"
      ]
     },
     "execution_count": 89,
     "metadata": {},
     "output_type": "execute_result"
    }
   ],
   "source": [
    "df_output_p_value_regression"
   ]
  },
  {
   "cell_type": "code",
   "execution_count": 90,
   "id": "b70d9656",
   "metadata": {},
   "outputs": [],
   "source": [
    "df_output_p_value_regression.to_excel(\n",
    "    os.path.join(PATH, TEST_FOLDER, REGGRESSION_FOLDER, NO_PARAMETRIC_FOLDER, 'output_p_values_no_parametric_regressions.xlsx'),\n",
    "    index=False\n",
    ")"
   ]
  }
 ],
 "metadata": {
  "kernelspec": {
   "display_name": "venv",
   "language": "python",
   "name": "python3"
  },
  "language_info": {
   "codemirror_mode": {
    "name": "ipython",
    "version": 3
   },
   "file_extension": ".py",
   "mimetype": "text/x-python",
   "name": "python",
   "nbconvert_exporter": "python",
   "pygments_lexer": "ipython3",
   "version": "3.10.11"
  },
  "papermill": {
   "default_parameters": {},
   "duration": 239.127782,
   "end_time": "2023-06-11T01:41:18.251081",
   "environment_variables": {},
   "exception": null,
   "input_path": "regression.ipynb",
   "output_path": "regression.ipynb",
   "parameters": {},
   "start_time": "2023-06-11T01:37:19.123299",
   "version": "2.4.0"
  }
 },
 "nbformat": 4,
 "nbformat_minor": 5
}
